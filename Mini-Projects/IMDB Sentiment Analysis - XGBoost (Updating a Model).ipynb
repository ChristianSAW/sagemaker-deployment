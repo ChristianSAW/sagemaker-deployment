{
 "cells": [
  {
   "cell_type": "markdown",
   "metadata": {},
   "source": [
    "# Sentiment Analysis\n",
    "\n",
    "## Updating a Model in SageMaker\n",
    "\n",
    "_Deep Learning Nanodegree Program | Deployment_\n",
    "\n",
    "---\n",
    "\n",
    "In this notebook we will consider a situation in which a model that we constructed is no longer working as we intended. In particular, we will look at the XGBoost sentiment analysis model that we constructed earlier. In this case, however, we have some new data that our model doesn't seem to perform very well on. As a result, we will re-train our model and update an existing endpoint so that it uses our new model.\n",
    "\n",
    "This notebook starts by re-creating the XGBoost sentiment analysis model that was created in earlier notebooks. This means that you will have already seen the cells up to the end of Step 4. The new content in this notebook begins at Step 5.\n",
    "\n",
    "## Instructions\n",
    "\n",
    "Some template code has already been provided for you, and you will need to implement additional functionality to successfully complete this notebook. You will not need to modify the included code beyond what is requested. Sections that begin with '**TODO**' in the header indicate that you need to complete or implement some portion within them. Instructions will be provided for each section and the specifics of the implementation are marked in the code block with a `# TODO: ...` comment. Please be sure to read the instructions carefully!\n",
    "\n",
    "In addition to implementing code, there will be questions for you to answer which relate to the task and your implementation. Each section where you will answer a question is preceded by a '**Question:**' header. Carefully read each question and provide your answer below the '**Answer:**' header by editing the Markdown cell.\n",
    "\n",
    "> **Note**: Code and Markdown cells can be executed using the **Shift+Enter** keyboard shortcut. In addition, a cell can be edited by typically clicking it (double-click for Markdown cells) or by pressing **Enter** while it is highlighted."
   ]
  },
  {
   "cell_type": "markdown",
   "metadata": {},
   "source": [
    "## Step 1: Downloading the data\n",
    "\n",
    "The dataset we are going to use is very popular among researchers in Natural Language Processing, usually referred to as the [IMDb dataset](http://ai.stanford.edu/~amaas/data/sentiment/). It consists of movie reviews from the website [imdb.com](http://www.imdb.com/), each labeled as either '**pos**itive', if the reviewer enjoyed the film, or '**neg**ative' otherwise.\n",
    "\n",
    "> Maas, Andrew L., et al. [Learning Word Vectors for Sentiment Analysis](http://ai.stanford.edu/~amaas/data/sentiment/). In _Proceedings of the 49th Annual Meeting of the Association for Computational Linguistics: Human Language Technologies_. Association for Computational Linguistics, 2011.\n",
    "\n",
    "We begin by using some Jupyter Notebook magic to download and extract the dataset."
   ]
  },
  {
   "cell_type": "code",
   "execution_count": 1,
   "metadata": {},
   "outputs": [
    {
     "name": "stdout",
     "output_type": "stream",
     "text": [
      "mkdir: cannot create directory ‘../data’: File exists\n",
      "--2020-05-21 14:56:19--  http://ai.stanford.edu/~amaas/data/sentiment/aclImdb_v1.tar.gz\n",
      "Resolving ai.stanford.edu (ai.stanford.edu)... 171.64.68.10\n",
      "Connecting to ai.stanford.edu (ai.stanford.edu)|171.64.68.10|:80... connected.\n",
      "HTTP request sent, awaiting response... 200 OK\n",
      "Length: 84125825 (80M) [application/x-gzip]\n",
      "Saving to: ‘../data/aclImdb_v1.tar.gz’\n",
      "\n",
      "../data/aclImdb_v1. 100%[===================>]  80.23M  51.2MB/s    in 1.6s    \n",
      "\n",
      "2020-05-21 14:56:21 (51.2 MB/s) - ‘../data/aclImdb_v1.tar.gz’ saved [84125825/84125825]\n",
      "\n"
     ]
    }
   ],
   "source": [
    "%mkdir ../data\n",
    "!wget -O ../data/aclImdb_v1.tar.gz http://ai.stanford.edu/~amaas/data/sentiment/aclImdb_v1.tar.gz\n",
    "!tar -zxf ../data/aclImdb_v1.tar.gz -C ../data"
   ]
  },
  {
   "cell_type": "markdown",
   "metadata": {},
   "source": [
    "## Step 2: Preparing the data\n",
    "\n",
    "The data we have downloaded is split into various files, each of which contains a single review. It will be much easier going forward if we combine these individual files into two large files, one for training and one for testing."
   ]
  },
  {
   "cell_type": "code",
   "execution_count": 2,
   "metadata": {},
   "outputs": [],
   "source": [
    "import os\n",
    "import glob\n",
    "\n",
    "def read_imdb_data(data_dir='../data/aclImdb'):\n",
    "    data = {}\n",
    "    labels = {}\n",
    "    \n",
    "    for data_type in ['train', 'test']:\n",
    "        data[data_type] = {}\n",
    "        labels[data_type] = {}\n",
    "        \n",
    "        for sentiment in ['pos', 'neg']:\n",
    "            data[data_type][sentiment] = []\n",
    "            labels[data_type][sentiment] = []\n",
    "            \n",
    "            path = os.path.join(data_dir, data_type, sentiment, '*.txt')\n",
    "            files = glob.glob(path)\n",
    "            \n",
    "            for f in files:\n",
    "                with open(f) as review:\n",
    "                    data[data_type][sentiment].append(review.read())\n",
    "                    # Here we represent a positive review by '1' and a negative review by '0'\n",
    "                    labels[data_type][sentiment].append(1 if sentiment == 'pos' else 0)\n",
    "                    \n",
    "            assert len(data[data_type][sentiment]) == len(labels[data_type][sentiment]), \\\n",
    "                    \"{}/{} data size does not match labels size\".format(data_type, sentiment)\n",
    "                \n",
    "    return data, labels"
   ]
  },
  {
   "cell_type": "code",
   "execution_count": 3,
   "metadata": {},
   "outputs": [
    {
     "name": "stdout",
     "output_type": "stream",
     "text": [
      "IMDB reviews: train = 12500 pos / 12500 neg, test = 12500 pos / 12500 neg\n"
     ]
    }
   ],
   "source": [
    "data, labels = read_imdb_data()\n",
    "print(\"IMDB reviews: train = {} pos / {} neg, test = {} pos / {} neg\".format(\n",
    "            len(data['train']['pos']), len(data['train']['neg']),\n",
    "            len(data['test']['pos']), len(data['test']['neg'])))"
   ]
  },
  {
   "cell_type": "code",
   "execution_count": 4,
   "metadata": {},
   "outputs": [],
   "source": [
    "from sklearn.utils import shuffle\n",
    "\n",
    "def prepare_imdb_data(data, labels):\n",
    "    \"\"\"Prepare training and test sets from IMDb movie reviews.\"\"\"\n",
    "    \n",
    "    #Combine positive and negative reviews and labels\n",
    "    data_train = data['train']['pos'] + data['train']['neg']\n",
    "    data_test = data['test']['pos'] + data['test']['neg']\n",
    "    labels_train = labels['train']['pos'] + labels['train']['neg']\n",
    "    labels_test = labels['test']['pos'] + labels['test']['neg']\n",
    "    \n",
    "    #Shuffle reviews and corresponding labels within training and test sets\n",
    "    data_train, labels_train = shuffle(data_train, labels_train)\n",
    "    data_test, labels_test = shuffle(data_test, labels_test)\n",
    "    \n",
    "    # Return a unified training data, test data, training labels, test labets\n",
    "    return data_train, data_test, labels_train, labels_test"
   ]
  },
  {
   "cell_type": "code",
   "execution_count": 5,
   "metadata": {},
   "outputs": [
    {
     "name": "stdout",
     "output_type": "stream",
     "text": [
      "IMDb reviews (combined): train = 25000, test = 25000\n"
     ]
    }
   ],
   "source": [
    "train_X, test_X, train_y, test_y = prepare_imdb_data(data, labels)\n",
    "print(\"IMDb reviews (combined): train = {}, test = {}\".format(len(train_X), len(test_X)))"
   ]
  },
  {
   "cell_type": "code",
   "execution_count": 6,
   "metadata": {},
   "outputs": [
    {
     "data": {
      "text/plain": [
       "'I felt a great joy, after seeing this film, not because it is a master piece, but because it convinced me of, that the Portuguese cinema became really very good. We can see here the best Portuguese actores in this field.'"
      ]
     },
     "execution_count": 6,
     "metadata": {},
     "output_type": "execute_result"
    }
   ],
   "source": [
    "train_X[100]"
   ]
  },
  {
   "cell_type": "markdown",
   "metadata": {},
   "source": [
    "## Step 3: Processing the data\n",
    "\n",
    "Now that we have our training and testing datasets merged and ready to use, we need to start processing the raw data into something that will be useable by our machine learning algorithm. To begin with, we remove any html formatting that may appear in the reviews and perform some standard natural language processing in order to homogenize the data."
   ]
  },
  {
   "cell_type": "code",
   "execution_count": 7,
   "metadata": {},
   "outputs": [
    {
     "name": "stdout",
     "output_type": "stream",
     "text": [
      "[nltk_data] Downloading package stopwords to\n",
      "[nltk_data]     /home/ec2-user/nltk_data...\n",
      "[nltk_data]   Package stopwords is already up-to-date!\n"
     ]
    }
   ],
   "source": [
    "import nltk\n",
    "nltk.download(\"stopwords\")\n",
    "from nltk.corpus import stopwords\n",
    "from nltk.stem.porter import *\n",
    "stemmer = PorterStemmer()"
   ]
  },
  {
   "cell_type": "code",
   "execution_count": 8,
   "metadata": {},
   "outputs": [],
   "source": [
    "import re\n",
    "from bs4 import BeautifulSoup\n",
    "\n",
    "def review_to_words(review):\n",
    "    text = BeautifulSoup(review, \"html.parser\").get_text() # Remove HTML tags\n",
    "    text = re.sub(r\"[^a-zA-Z0-9]\", \" \", text.lower()) # Convert to lower case\n",
    "    words = text.split() # Split string into words\n",
    "    words = [w for w in words if w not in stopwords.words(\"english\")] # Remove stopwords\n",
    "    words = [PorterStemmer().stem(w) for w in words] # stem\n",
    "    \n",
    "    return words"
   ]
  },
  {
   "cell_type": "code",
   "execution_count": 9,
   "metadata": {},
   "outputs": [
    {
     "data": {
      "text/plain": [
       "['felt',\n",
       " 'great',\n",
       " 'joy',\n",
       " 'see',\n",
       " 'film',\n",
       " 'master',\n",
       " 'piec',\n",
       " 'convinc',\n",
       " 'portugues',\n",
       " 'cinema',\n",
       " 'becam',\n",
       " 'realli',\n",
       " 'good',\n",
       " 'see',\n",
       " 'best',\n",
       " 'portugues',\n",
       " 'actor',\n",
       " 'field']"
      ]
     },
     "execution_count": 9,
     "metadata": {},
     "output_type": "execute_result"
    }
   ],
   "source": [
    "review_to_words(train_X[100])"
   ]
  },
  {
   "cell_type": "code",
   "execution_count": 10,
   "metadata": {},
   "outputs": [],
   "source": [
    "import pickle\n",
    "\n",
    "cache_dir = os.path.join(\"../cache\", \"sentiment_analysis\")  # where to store cache files\n",
    "os.makedirs(cache_dir, exist_ok=True)  # ensure cache directory exists\n",
    "\n",
    "def preprocess_data(data_train, data_test, labels_train, labels_test,\n",
    "                    cache_dir=cache_dir, cache_file=\"preprocessed_data.pkl\"):\n",
    "    \"\"\"Convert each review to words; read from cache if available.\"\"\"\n",
    "\n",
    "    # If cache_file is not None, try to read from it first\n",
    "    cache_data = None\n",
    "    if cache_file is not None:\n",
    "        try:\n",
    "            with open(os.path.join(cache_dir, cache_file), \"rb\") as f:\n",
    "                cache_data = pickle.load(f)\n",
    "            print(\"Read preprocessed data from cache file:\", cache_file)\n",
    "        except:\n",
    "            pass  # unable to read from cache, but that's okay\n",
    "    \n",
    "    # If cache is missing, then do the heavy lifting\n",
    "    if cache_data is None:\n",
    "        # Preprocess training and test data to obtain words for each review\n",
    "        #words_train = list(map(review_to_words, data_train))\n",
    "        #words_test = list(map(review_to_words, data_test))\n",
    "        words_train = [review_to_words(review) for review in data_train]\n",
    "        words_test = [review_to_words(review) for review in data_test]\n",
    "        \n",
    "        # Write to cache file for future runs\n",
    "        if cache_file is not None:\n",
    "            cache_data = dict(words_train=words_train, words_test=words_test,\n",
    "                              labels_train=labels_train, labels_test=labels_test)\n",
    "            with open(os.path.join(cache_dir, cache_file), \"wb\") as f:\n",
    "                pickle.dump(cache_data, f)\n",
    "            print(\"Wrote preprocessed data to cache file:\", cache_file)\n",
    "    else:\n",
    "        # Unpack data loaded from cache file\n",
    "        words_train, words_test, labels_train, labels_test = (cache_data['words_train'],\n",
    "                cache_data['words_test'], cache_data['labels_train'], cache_data['labels_test'])\n",
    "    \n",
    "    return words_train, words_test, labels_train, labels_test"
   ]
  },
  {
   "cell_type": "code",
   "execution_count": 11,
   "metadata": {},
   "outputs": [],
   "source": [
    "import time\n",
    "start_time = time.time()"
   ]
  },
  {
   "cell_type": "code",
   "execution_count": 12,
   "metadata": {},
   "outputs": [
    {
     "name": "stdout",
     "output_type": "stream",
     "text": [
      "Wrote preprocessed data to cache file: preprocessed_data.pkl\n"
     ]
    }
   ],
   "source": [
    "# Preprocess data\n",
    "train_X, test_X, train_y, test_y = preprocess_data(train_X, test_X, train_y, test_y)"
   ]
  },
  {
   "cell_type": "code",
   "execution_count": 13,
   "metadata": {},
   "outputs": [
    {
     "ename": "NameError",
     "evalue": "name 'floor' is not defined",
     "output_type": "error",
     "traceback": [
      "\u001b[0;31m---------------------------------------------------------------------------\u001b[0m",
      "\u001b[0;31mNameError\u001b[0m                                 Traceback (most recent call last)",
      "\u001b[0;32m<ipython-input-13-8b44dd7874f3>\u001b[0m in \u001b[0;36m<module>\u001b[0;34m()\u001b[0m\n\u001b[1;32m      1\u001b[0m \u001b[0mend_time\u001b[0m \u001b[0;34m=\u001b[0m \u001b[0mtime\u001b[0m\u001b[0;34m.\u001b[0m\u001b[0mtime\u001b[0m\u001b[0;34m(\u001b[0m\u001b[0;34m)\u001b[0m\u001b[0;34m\u001b[0m\u001b[0m\n\u001b[1;32m      2\u001b[0m \u001b[0mtime_passed_s\u001b[0m \u001b[0;34m=\u001b[0m \u001b[0mend_time\u001b[0m \u001b[0;34m-\u001b[0m \u001b[0mstart_time\u001b[0m\u001b[0;34m\u001b[0m\u001b[0m\n\u001b[0;32m----> 3\u001b[0;31m \u001b[0mtime_passed_m\u001b[0m \u001b[0;34m=\u001b[0m \u001b[0mfloor\u001b[0m\u001b[0;34m(\u001b[0m\u001b[0mtime_passed_s\u001b[0m\u001b[0;34m/\u001b[0m\u001b[0;36m60\u001b[0m\u001b[0;34m)\u001b[0m\u001b[0;34m\u001b[0m\u001b[0m\n\u001b[0m\u001b[1;32m      4\u001b[0m \u001b[0mtime_passed_h\u001b[0m \u001b[0;34m=\u001b[0m \u001b[0mfloor\u001b[0m\u001b[0;34m(\u001b[0m\u001b[0mtime_passed_m\u001b[0m\u001b[0;34m/\u001b[0m\u001b[0;36m60\u001b[0m\u001b[0;34m)\u001b[0m\u001b[0;34m\u001b[0m\u001b[0m\n\u001b[1;32m      5\u001b[0m \u001b[0mtime_passed_m\u001b[0m \u001b[0;34m=\u001b[0m \u001b[0mtime_passed_m\u001b[0m \u001b[0;34m-\u001b[0m \u001b[0mtime_passed_h\u001b[0m\u001b[0;34m*\u001b[0m\u001b[0;36m60\u001b[0m\u001b[0;34m\u001b[0m\u001b[0m\n",
      "\u001b[0;31mNameError\u001b[0m: name 'floor' is not defined"
     ]
    }
   ],
   "source": [
    "end_time = time.time()\n",
    "time_passed_s = end_time - start_time\n",
    "time_passed_m = floor(time_passed_s/60)\n",
    "time_passed_h = floor(time_passed_m/60)\n",
    "time_passed_m = time_passed_m - time_passed_h*60\n",
    "time_passed_s = time_passed_s - time_passed_m*60 - time_passed_h*60*60\n",
    "print(\"Preprocessing Took \",time_passed_h,\"h : \",time_passed_m, \"m : \", \"s\")"
   ]
  },
  {
   "cell_type": "markdown",
   "metadata": {},
   "source": [
    "### Extract Bag-of-Words features\n",
    "\n",
    "For the model we will be implementing, rather than using the reviews directly, we are going to transform each review into a Bag-of-Words feature representation. Keep in mind that 'in the wild' we will only have access to the training set so our transformer can only use the training set to construct a representation."
   ]
  },
  {
   "cell_type": "code",
   "execution_count": 14,
   "metadata": {},
   "outputs": [],
   "source": [
    "import numpy as np\n",
    "from sklearn.feature_extraction.text import CountVectorizer\n",
    "from sklearn.externals import joblib\n",
    "# joblib is an enhanced version of pickle that is more efficient for storing NumPy arrays\n",
    "\n",
    "def extract_BoW_features(words_train, words_test, vocabulary_size=5000,\n",
    "                         cache_dir=cache_dir, cache_file=\"bow_features.pkl\"):\n",
    "    \"\"\"Extract Bag-of-Words for a given set of documents, already preprocessed into words.\"\"\"\n",
    "    \n",
    "    # If cache_file is not None, try to read from it first\n",
    "    cache_data = None\n",
    "    if cache_file is not None:\n",
    "        try:\n",
    "            with open(os.path.join(cache_dir, cache_file), \"rb\") as f:\n",
    "                cache_data = joblib.load(f)\n",
    "            print(\"Read features from cache file:\", cache_file)\n",
    "        except:\n",
    "            pass  # unable to read from cache, but that's okay\n",
    "    \n",
    "    # If cache is missing, then do the heavy lifting\n",
    "    if cache_data is None:\n",
    "        # Fit a vectorizer to training documents and use it to transform them\n",
    "        # NOTE: Training documents have already been preprocessed and tokenized into words;\n",
    "        #       pass in dummy functions to skip those steps, e.g. preprocessor=lambda x: x\n",
    "        vectorizer = CountVectorizer(max_features=vocabulary_size,\n",
    "                preprocessor=lambda x: x, tokenizer=lambda x: x)  # already preprocessed\n",
    "        features_train = vectorizer.fit_transform(words_train).toarray()\n",
    "\n",
    "        # Apply the same vectorizer to transform the test documents (ignore unknown words)\n",
    "        features_test = vectorizer.transform(words_test).toarray()\n",
    "        \n",
    "        # NOTE: Remember to convert the features using .toarray() for a compact representation\n",
    "        \n",
    "        # Write to cache file for future runs (store vocabulary as well)\n",
    "        if cache_file is not None:\n",
    "            vocabulary = vectorizer.vocabulary_\n",
    "            cache_data = dict(features_train=features_train, features_test=features_test,\n",
    "                             vocabulary=vocabulary)\n",
    "            with open(os.path.join(cache_dir, cache_file), \"wb\") as f:\n",
    "                joblib.dump(cache_data, f)\n",
    "            print(\"Wrote features to cache file:\", cache_file)\n",
    "    else:\n",
    "        # Unpack data loaded from cache file\n",
    "        features_train, features_test, vocabulary = (cache_data['features_train'],\n",
    "                cache_data['features_test'], cache_data['vocabulary'])\n",
    "    \n",
    "    # Return both the extracted features as well as the vocabulary\n",
    "    return features_train, features_test, vocabulary"
   ]
  },
  {
   "cell_type": "code",
   "execution_count": 15,
   "metadata": {},
   "outputs": [
    {
     "name": "stdout",
     "output_type": "stream",
     "text": [
      "Wrote features to cache file: bow_features.pkl\n"
     ]
    }
   ],
   "source": [
    "# Extract Bag of Words features for both training and test datasets\n",
    "train_X, test_X, vocabulary = extract_BoW_features(train_X, test_X)"
   ]
  },
  {
   "cell_type": "code",
   "execution_count": 16,
   "metadata": {},
   "outputs": [
    {
     "data": {
      "text/plain": [
       "5000"
      ]
     },
     "execution_count": 16,
     "metadata": {},
     "output_type": "execute_result"
    }
   ],
   "source": [
    "len(train_X[100])"
   ]
  },
  {
   "cell_type": "code",
   "execution_count": 17,
   "metadata": {},
   "outputs": [
    {
     "name": "stdout",
     "output_type": "stream",
     "text": [
      "{'give': 1959, '9': 93, '10': 4, 'need': 3030, 'view': 4779, 'current': 1148, 'mind': 2890, 'frame': 1845, 'fresh': 1865, 'perspect': 3299, 'rememb': 3673, 'amaz': 233, 'psycholog': 3518, 'thriller': 4500, 'dazzl': 1196, 'brain': 607, 'eye': 1659, 'watch': 4844, 'would': 4957, 'everi': 1601, 'time': 4519, 'came': 706, 'hbo': 2114, 'back': 405, 'day': 1195, 'probabl': 3470, '1990': 45, 'might': 2874, 'even': 1597, 'record': 3626, 'long': 2692, 'gone': 1987, 'sure': 4365, 'wrote': 4970, 'tri': 4601, 'get': 1944, 'titl': 4528, 'carri': 752, 'hope': 2202, 'find': 1756, 'local': 2682, 'video': 4777, 'store': 4270, 'highli': 2158, 'recommend': 3625, 'somewher': 4137, 'interest': 2377, 'least': 2608, 'enjoy': 1545, 'movi': 2972, 'edward': 1478, 'anyth': 284, 'sort': 4147, 'strang': 4279, 'along': 218, 'line': 2661, 'one': 3155, 'im': 2273, 'still': 4255, 'doubt': 1386, 'horribl': 2209, 'wors': 4950, 'ever': 1600, 'saw': 3865, 'actor': 139, 'pain': 3217, 'imposs': 2293, 'text': 4472, 'submit': 4317, 'comment': 960, 'agre': 180, 'term': 4460, 'laid': 2567, 'statement': 4236, 'must': 2993, 'origin': 3173, 'work': 4944, 'normal': 3088, 'post': 3403, 'site': 4064, 'within': 4928, '2': 55, '3': 73, 'busi': 683, 'meet': 2835, 'pleas': 3355, 'write': 4966, 'english': 1542, 'board': 561, 'mark': 2784, 'support': 4361, 'though': 4491, 'break': 616, 'insert': 2352, 'leav': 2610, 'blank': 538, 'shot': 4012, 'car': 734, 'someon': 4133, 'play': 3352, 'els': 1506, 'latest': 2583, 'song': 4139, 'react': 3601, 'accord': 124, 'voic': 4802, 'wonder': 4936, 'made': 2742, 'mani': 2766, 'scene': 3876, 'come': 952, 'camera': 708, 'descend': 1266, 'parti': 3246, 'true': 4620, 'exploit': 1644, 'max': 2813, 'total': 4558, 'fabric': 1662, 'either': 1488, 'way': 4851, 'uncomfort': 4658, 'purpos': 3534, 'thru': 4505, 'kept': 2518, 'footag': 1814, 'taken': 4411, 'face': 1664, 'valu': 4740, 'nice': 3059, 'portrait': 3396, 'tortur': 4556, 'geniu': 1933, 'believ': 482, 'film': 1750, 'budget': 663, '20': 56, 'million': 2886, 'like': 2654, 'know': 2545, 'money': 2937, 'went': 4875, 'monkey': 2939, 'could': 1075, 'make': 2757, 'better': 502, 'cgi': 793, 'effect': 1480, 'wast': 4843, 'hour': 2221, 'dread': 1403, 'piec': 3328, 'garbag': 1915, 'although': 225, 'admit': 151, 'machin': 2738, 'martian': 2793, 'look': 2694, 'realli': 3612, 'cool': 1056, 'station': 4238, '1': 3, 'game': 1910, 'earli': 1451, 'pc': 3274, 'mid': 2871, '90': 94, 'puzzl': 3539, 'go': 1975, 'great': 2019, 'good': 1989, 'old': 3148, 'fashion': 1701, 'model': 2926, 'comput': 988, 'control': 1043, 'la': 2559, 'georg': 1938, 'luca': 2716, 'actual': 141, 'care': 737, 'ruin': 3816, 'case': 756, 'quit': 3554, 'possibl': 3402, 'worst': 4952, 'rather': 3592, 'sit': 4062, '24': 69, 'repeat': 3683, 'screen': 3896, 'hate': 2109, 'complet': 978, 'say': 3866, 'unlik': 4698, 'bad': 410, 'plan': 3345, 'killer': 2528, 'tomato': 4539, 'santa': 3854, 'clau': 890, 'conquer': 1012, 'special': 4169, 'place': 3342, 'heart': 2123, 'love': 2709, 'dvd': 1442, 'librari': 2644, 'sold': 4123, 'guy': 2062, 'dollar': 1371, 'bet': 499, 'spent': 4177, 'vice': 4770, 'cast': 762, 'crew': 1114, 'shame': 3978, 'want': 4830, 'jacki': 2420, 'chan': 801, 'classic': 889, 'directori': 1321, 'featur': 1718, 'polic': 3378, 'stori': 4271, '1985': 40, 'among': 243, 'top': 4550, 'modern': 2928, 'action': 137, 'hong': 2196, 'kong': 2549, 'simpli': 4044, 'includ': 2305, 'usual': 4727, 'kung': 2554, 'fu': 1879, 'also': 222, 'gun': 2058, 'urban': 4719, 'later': 2582, 'becom': 467, 'popular': 3391, 'typic': 4643, 'hk': 2174, 'director': 1320, 'john': 2465, 'woo': 4938, 'mix': 2918, 'two': 4640, 'element': 1496, 'style': 4311, 'result': 3716, 'wild': 4907, 'sound': 4149, 'protect': 3506, 'import': 2290, 'wit': 4926, 'soon': 4140, 'power': 3412, 'gangster': 1913, 'boss': 588, 'ring': 3752, 'crimin': 1117, 'activ': 138, 'girlfriend': 1958, 'young': 4989, 'sweet': 4389, 'maggi': 2746, 'subsequ': 4319, 'role': 3780, 'heroic': 2147, 'trio': 4610, 'sequel': 3950, 'johnni': 2466, 'soul': 4148, 'david': 1192, 'other': 3179, 'plot': 3362, 'simpl': 4043, 'first': 1764, 'cours': 1085, 'stunt': 4309, 'charact': 808, 'hurt': 2246, 'pretti': 3446, 'badli': 412, 'coupl': 1083, 'end': 1531, 'hit': 2171, 'head': 2115, 'near': 3021, 'nasti': 3012, 'sharp': 3984, 'glass': 1965, 'team': 4435, 'member': 2843, 'almost': 216, 'got': 1996, 'kill': 2527, 'bu': 658, 'stop': 4269, 'right': 3751, 'spit': 4190, 'fli': 1786, 'suppos': 4362, 'park': 3241, 'front': 1874, 'flight': 1788, 'short': 4008, 'hospit': 2215, 'level': 2638, 'injuri': 2346, 'credit': 1110, 'behind': 478, 'imageri': 2275, 'imag': 2274, 'injur': 2345, 'tasteless': 4427, 'fortun': 1834, 'sever': 3966, 'plenti': 3359, 'imagin': 2276, 'expect': 1633, 'legendari': 2619, 'shop': 4007, 'mall': 2761, 'abl': 100, 'deliv': 1242, 'alway': 229, 'tell': 4449, 'edit': 1475, 'show': 4016, 'perfect': 3288, 'ultra': 4649, 'compar': 969, 'hollywood': 2184, 'effort': 1482, 'instanc': 2360, 'hardli': 2098, 'slow': 4097, 'moment': 2935, 'never': 3049, 'bore': 583, 'hard': 2094, 'neg': 3032, 'point': 3370, 'cannot': 723, 'stand': 4224, 'comedi': 954, 'funni': 1891, 'especi': 1577, 'error': 1575, 'amateurish': 232, 'screenplay': 3897, 'accid': 119, 'writer': 4967, 'add': 145, 'without': 4929, 'necessarili': 3027, 'understand': 4670, 'sign': 4032, 'script': 3900, 'stupid': 4310, 'dialogu': 1295, 'mean': 2822, 'stab': 4213, 'murder': 2985, 'attempt': 362, 'begin': 474, 'shout': 4014, 'scream': 3895, 'act': 136, 'drunken': 1424, 'clown': 919, 'slapstick': 4079, 'nightmar': 3068, 'girl': 1957, 'kind': 2530, 'inept': 2327, 'see': 3920, 'otherwis': 3180, 'genr': 1934, 'speak': 4167, 'thought': 4492, 'loud': 2704, 'thing': 4484, 'clear': 894, 'viewer': 4780, 'thu': 4506, 'light': 2651, 'comic': 957, 'seriou': 3955, 'forgiven': 1825, 'easili': 1459, 'fast': 1702, 'speed': 4174, 'full': 1883, 'impact': 2285, 'ball': 421, 'wall': 4821, 'adventur': 159, 'miracl': 2901, 'sad': 3833, 'us': 4721, 'produc': 3476, 'jame': 2426, 'audienc': 370, 'return': 3723, 'person': 3297, 'invent': 2392, 'definit': 1233, 'today': 4529, '80': 92, 'insan': 2351, 'somewhat': 4136, 'flaw': 1781, 'mention': 2849, '7': 87, 'exactli': 1614, 'richard': 3742, 'harri': 2102, 'finest': 1758, 'dement': 1247, 'death': 1206, 'whale': 4881, 'wife': 4905, 'child': 839, 'charlott': 817, 'expert': 1639, 'involv': 2397, 'yell': 4983, 'lot': 2702, 'natur': 3017, 'alon': 217, 'listen': 2670, 'somehow': 4132, 'battl': 452, 'reveng': 3728, 'craze': 1101, 'except': 1619, 'round': 3805, 'mirror': 2903, 'endless': 1533, 'reflect': 3641, 'bo': 560, 'derek': 1264, 'particularli': 3250, 'unpleas': 4701, 'run': 3820, 'robert': 3770, 'fare': 1694, 'well': 4872, 'polit': 3382, 'documentari': 1368, 'recent': 3619, 'call': 703, 'fight': 1744, 'examin': 1616, 'infam': 2330, 'militari': 2882, 'industri': 2326, 'complex': 979, 'grip': 2037, 'nation': 3015, 'consid': 1019, 'war': 4831, 'iraq': 2399, 'yet': 4986, 'far': 1692, 'famou': 1686, 'seri': 3953, 'name': 3006, 'world': 4946, 'frank': 1851, 'oscar': 3177, 'categori': 768, 'seven': 3964, 'truli': 4621, 'mere': 2851, 'vein': 4756, 'triumph': 4615, 'recycl': 3630, 'said': 3839, 'fact': 1667, 'vital': 4799, 'inform': 2336, 'gener': 1930, 'bbc': 454, 'lack': 2563, 'primari': 3456, 'sourc': 4152, 'less': 2632, 'valuabl': 4741, 'skill': 4071, 'purchas': 3531, 'use': 4723, 'found': 1839, 'opportun': 3163, 'select': 3929, 'free': 1859, 'chose': 855, 'four': 1840, 'collect': 940, 'rare': 3589, 'someth': 4134, 'worth': 4953, 'extra': 1656, 'qualiti': 3543, 'print': 3464, 'vari': 4748, 'provid': 3510, 'insight': 2354, 'american': 240, 'third': 4486, 'centuri': 787, 'ago': 179, 'racism': 3561, 'warner': 4837, 'brother': 650, 'pro': 3469, 'cartoon': 754, 'era': 1571, 'noth': 3098, 'wrong': 4969, 'blatant': 540, 'distort': 1354, '1945': 22, 'nazi': 3020, 'strike': 4289, 'divid': 1361, 'britain': 637, 'russia': 3825, 'china': 844, 'america': 239, 'overal': 3195, 'obviou': 3126, 'reason': 3615, 'subtl': 4323, 'reveal': 3726, 'x': 4975, 'refer': 3640, 'graphic': 2012, 'whole': 4894, 'japanes': 2431, 'sword': 4394, 'pierc': 3329, 'center': 784, 'appli': 296, 'past': 3258, 'standard': 4225, 'lesson': 2634, 'avoid': 386, 'foreign': 1819, 'whose': 4898, 'three': 4497, 'major': 2756, 'fought': 1837, 'sinc': 4051, 'vietnam': 4778, 'much': 2977, 'histor': 2168, 'may': 2814, 'help': 2141, 'truth': 4624, 'lie': 2645, 'propaganda': 3496, 'realiz': 3611, 'posit': 3400, 'last': 2580, 'year': 4981, 'navi': 3019, 'studi': 4304, 'distanc': 1350, 'away': 393, 'men': 2846, 'honor': 2197, 'base': 437, 'experi': 1636, 'servic': 3959, 'black': 530, 'master': 2801, 'chief': 838, 'struggl': 4300, 'overcom': 3196, 'eager': 1448, 'best': 498, 'side': 4027, 'u': 4644, 'helicopt': 2137, 'assault': 340, 'instal': 2359, 'engross': 1543, 'tale': 4412, 'sailor': 3840, 'rage': 3566, 'wood': 4939, 'antwon': 280, 'fisher': 1768, 'denzel': 1255, 'washington': 4842, 'debut': 1209, 'star': 4229, 'psychiatrist': 3515, 'treat': 4595, 'deepli': 1226, 'luke': 2726, 'obvious': 3127, 'bright': 631, 'enlist': 1547, 'man': 2763, 'assign': 344, 'seem': 3924, 'launch': 2589, 'minim': 2894, 'provoc': 3511, 'fellow': 1725, 'sent': 3944, 'part': 3245, 'pre': 3417, 'separ': 3948, 'proceed': 3473, 'slowli': 4098, 'open': 3158, 'aw': 387, 'childhood': 840, 'neglect': 3033, 'brutal': 655, 'develop': 1289, 'increasingli': 2314, 'trust': 4623, 'doctor': 1366, 'courag': 1084, 'pursu': 3535, 'beauti': 465, 'joy': 2479, 'engag': 1539, 'ask': 334, 'question': 3547, 'seek': 3923, 'answer': 269, 'howev': 2226, 'order': 3169, 'grow': 2044, 'move': 2970, 'conflict': 1005, 'destruct': 1282, 'behavior': 476, 'main': 2752, 'transcend': 4580, 'race': 3558, 'evil': 1608, 'foster': 1836, 'famili': 1684, 'set': 3961, 'davi': 1191, 'actress': 140, 'seen': 3926, 'number': 3111, 'pictur': 3326, 'mom': 2934, 'mr': 2973, 'nelson': 3039, 'earn': 1453, 'exist': 1629, 'gut': 2061, 'patient': 3263, 'interact': 2376, 'follow': 1806, 'certain': 790, 'predict': 3425, 'transfer': 4581, 'counter': 1077, 'stuff': 4306, 'earnest': 1454, 'realist': 3609, 'told': 4536, 'period': 3293, 'real': 3606, 'sens': 3938, 'excel': 1618, 'dealt': 1203, 'crush': 1134, 'direct': 1318, 'surviv': 4374, 'terribl': 4463, 'proclaim': 3475, 'victim': 4772, 'tall': 4416, 'size': 4068, 'signific': 4034, 'brave': 611, 'strong': 4294, 'claim': 882, 'decent': 1213, 'life': 2646, 'aid': 183, 'command': 958, 'address': 148, 'peopl': 3283, 'list': 2669, 'offic': 3140, 'rank': 3583, 'big': 510, 'critic': 1121, 'theater': 4475, 'deserv': 1271, 'wide': 4900, 'distribut': 1357, 'nomin': 3081, '8': 91, 'phil': 3311, 'alien': 207, 'quirki': 3553, 'humour': 2240, 'around': 316, 'odd': 3134, 'everyth': 1605, 'progress': 3487, 'joke': 2469, 'anymor': 282, 'low': 2711, 'that': 4474, 'problem': 3471, 'eventu': 1599, 'lost': 2701, 'appeal': 292, 'similar': 4039, 'anoth': 268, 'planet': 3347, 'michael': 2868, 'jordan': 2474, 'lloyd': 2678, 'martin': 2794, 'clever': 897, 'goldberg': 1983, 'han': 2082, 'straight': 4275, 'german': 1941, 'school': 3881, 'favor': 1709, 'ton': 4542, 'symbol': 4395, 'surreal': 4372, 'wagner': 4814, 'final': 1753, 'masterpiec': 2802, 'written': 4968, 'friday': 1867, 'opera': 3160, 'hous': 2222, 'music': 2990, 'score': 3889, 'accur': 126, 'manner': 2771, 'perform': 3290, 'bold': 569, 'take': 4410, 'crown': 1128, 'bizarr': 529, 'cinematographi': 874, 'known': 2547, 'controversi': 1044, 'prior': 3465, 'releas': 3660, 'hitler': 2173, 'anti': 274, 'grand': 2008, 'daughter': 1189, 'disturb': 1358, 'aspect': 336, 'sung': 4349, 'male': 2760, 'throughout': 4502, 'enchant': 1528, 'kiss': 2535, 'transform': 4582, 'femal': 1727, 'gender': 1928, 'bend': 490, 'display': 1347, 'feminin': 1728, 'quest': 3546, 'holi': 2180, 'serv': 3957, 'mankind': 2769, 'redeem': 3632, 'christ': 858, 'blood': 552, 'photograph': 3319, 'notori': 3101, 'sinist': 4056, 'figur': 1746, 'mistress': 2915, 'flag': 1773, 'hang': 2087, 'outsid': 3192, 'journey': 2478, '19th': 53, '20th': 66, 'tempt': 4452, 'flower': 1797, 'nude': 3108, 'portray': 3397, 'corrupt': 1071, 'mari': 2779, 'eve': 1595, 'soprano': 4143, 'ultim': 4648, 'fan': 1687, 'type': 4642, 'european': 1592, 'intellectu': 2371, 'appreci': 297, 'histori': 2169, 'lover': 2710, 'inde': 2316, 'sing': 4053, 'compel': 972, 'focus': 1802, 'intens': 2374, 'depth': 1261, 'greater': 2020, 'stage': 4216, 'king': 2532, 'sensual': 3943, 'dramat': 1400, 'excit': 1622, 'delv': 1245, 'torment': 4553, 'state': 4235, 'perfectli': 3289, 'product': 3477, 'certainli': 791, 'un': 4651, 'concept': 993, 'christian': 860, 'ceremoni': 789, 'castl': 763, 'knight': 2542, 'wound': 4958, 'dark': 1183, 'turn': 4630, 'etc': 1585, 'theme': 4478, 'art': 322, 'teenag': 4446, 'sexual': 3969, 'uniqu': 4692, 'dare': 1182, 'receiv': 3618, 'littl': 2675, 'public': 3521, 'asid': 333, 'festiv': 1733, 'french': 1863, 'fond': 1807, 'everyday': 1603, 'subject': 4315, 'handl': 2085, 'often': 3142, 'premier': 3429, '2007': 64, 'award': 392, 'new': 3051, 'alreadi': 220, 'de': 1197, 'therefor': 4480, 'cinemat': 872, 'pace': 3209, 'age': 174, 'focu': 1801, 'mainli': 2753, 'differ': 1304, 'delic': 1239, 'perhap': 3291, 'bit': 524, 'offer': 3139, 'enough': 1549, 'scare': 3870, 'deep': 1224, 'layer': 2599, 'access': 118, 'everyon': 1604, 'teen': 4445, 'due': 1430, 'visual': 4798, 'approach': 298, 'authent': 380, 'feel': 1721, 'individu': 2323, 'abomin': 101, 'cinema': 871, 'five': 1771, 'fill': 1748, 'drug': 1421, 'induc': 2324, 'common': 964, 'rave': 3595, 'averag': 385, 'asylum': 354, 'resid': 3701, 'despit': 1278, 'color': 945, 'appear': 293, 'human': 2236, 'children': 842, 'start': 4233, 'innoc': 2349, 'poor': 3386, 'boy': 601, 'drum': 1422, 'wait': 4815, 'put': 3538, 'ye': 4979, 'fear': 1715, 'friend': 1868, 'quickli': 3549, 'weird': 4870, 'grant': 2011, 'accept': 117, 'combin': 951, 'wizard': 4932, 'oz': 3207, 'lose': 2698, 'warm': 4834, 'book': 579, 'foot': 1813, 'yellow': 4984, 'rel': 3656, 'befriend': 471, 'deeper': 1225, 'despair': 1274, 'pleasant': 3356, 'horrif': 2211, 'boat': 563, 'grandfath': 2009, 'clock': 911, 'dragon': 1396, 'ad': 142, 'mayhem': 2816, 'comfort': 956, 'chao': 805, 'villain': 4785, 'dub': 1425, 'plastic': 3349, 'mask': 2796, 'facial': 1665, 'express': 1650, 'deal': 1201, 'ga': 1901, 'lowest': 2713, 'favorit': 1710, 'nose': 3092, 'dive': 1359, 'bodi': 566, 'water': 4847, 'land': 2572, 'prefer': 3426, 'live': 2677, 'summari': 4345, 'terrifi': 4465, 'plane': 3346, 'flick': 1787, 'larg': 2577, 'choic': 847, 'across': 135, 'accident': 120, 'oh': 3143, 'vagu': 4735, 'trailer': 4577, 'forgot': 1826, 'cheesi': 829, 'nonsens': 3085, 'realiti': 3610, 'hell': 2138, 'ride': 3747, 'high': 2155, 'suspens': 4379, 'gradual': 2004, 'reach': 3600, 'climax': 906, 'liter': 2672, 'edg': 1471, 'seat': 3909, 'bite': 526, 'remain': 3670, 'nail': 3003, 'moral': 2952, 'drift': 1410, 'think': 4485, 'viciou': 4771, 'learn': 2607, 'contest': 1034, 'motiv': 2964, 'guess': 2051, 'pull': 3523, 'trigger': 4608, 'candid': 719, 'safe': 3836, 'remind': 3674, 'knew': 2540, 'happen': 2090, 'next': 3058, 'spoiler': 4197, 'chang': 803, 'farmer': 1696, 'idea': 2257, 'rich': 3741, 'felt': 1726, 'done': 1377, 'associ': 346, 'rule': 3818, 'die': 1303, 'serious': 3956, 'execut': 1625, 'given': 1960, 'chanc': 802, 'ie': 2264, 'interestingli': 2378, 'bother': 590, 'caus': 773, 'wish': 4925, 'popcorn': 3389, 'version': 4763, 'australian': 379, 'bloom': 554, 'gave': 1923, 'forc': 1817, 'mechan': 2830, 'shootout': 4006, 'flash': 1776, 'routin': 3807, 'tv': 4633, 'soap': 4117, 'forward': 1835, 'favour': 1711, 'beat': 461, 'career': 738, 'surprisingli': 4371, 'dud': 1427, 'unfunni': 4683, 'cold': 934, 'satir': 3860, 'fish': 1766, 'highlight': 2159, 'adapt': 144, 'superior': 4357, 'render': 3679, 'tragedi': 4574, 'televis': 4448, 'unit': 4693, 'channel': 804, 'epic': 1564, 'scale': 3867, 'emphasi': 1521, 'god': 1977, 'sacrific': 3832, 'queen': 3545, 'outstand': 3193, 'stun': 4308, 'bring': 635, 'blend': 544, 'dawn': 1193, 'strongli': 4297, 'intern': 2380, 'william': 4912, 'lead': 2602, 'dougla': 1387, 'lousi': 2707, 'lazi': 2600, 'allow': 215, 'fine': 1757, 'scriptwrit': 3901, 'abil': 99, 'dislik': 1342, 'despis': 1277, 'incred': 2315, 'talent': 4413, 'sexi': 3968, 'brilliant': 633, 'talk': 4414, 'laugh': 2586, 'detect': 1285, 'homicid': 2191, 'squad': 4210, 'heard': 2122, 'kenneth': 2516, 'citi': 878, 'panic': 3230, 'serial': 3954, 'women': 4935, 'mayor': 2817, 'jonathan': 2472, 'account': 125, 'failur': 1672, 'catch': 766, 'cheap': 823, 'vulgar': 4810, 'unattract': 4653, 'joan': 2459, 'secretari': 3914, 'file': 1747, 'letter': 2637, 'cat': 765, 'dog': 1369, 'blatantli': 541, 'togeth': 4532, 'decid': 1215, 'draw': 1401, 'dress': 1407, 'woman': 4934, 'drag': 1395, 'six': 4066, 'annoy': 267, 'similarli': 4040, 'powel': 3411, 'disguis': 1338, 'crazi': 1102, 'integr': 2370, 'genuin': 1937, 'whatev': 4883, 'razor': 3599, 'bulk': 669, 'plu': 3363, 'splendid': 4193, 'player': 3354, '30': 74, 'delight': 1241, 'touch': 4559, 'sentenc': 3945, 'donald': 1376, 'cop': 1058, 'mistaken': 2914, 'nearli': 3023, 'lynch': 2734, 'mob': 2921, 'ruth': 3827, 'jimmi': 2457, 'lui': 2724, 'grin': 2035, 'dave': 1190, 'small': 4101, 'barbara': 430, 'pepper': 3284, 'loath': 2681, 'note': 3097, 'familiar': 1685, '1930': 17, 'tend': 4455, 'glanc': 1963, 'imdb': 2277, 'rate': 3591, 'steven': 4251, 'alic': 205, 'walker': 4820, 'novel': 3103, 'share': 3981, 'commun': 965, 'treatment': 4596, 'white': 4892, 'rural': 3822, 'abus': 113, 'father': 1707, 'snatch': 4112, 'arm': 312, 'birth': 522, 'miser': 2905, 'sister': 4061, 'newcom': 3052, 'whoopi': 4896, 'marri': 2787, 'husband': 2247, 'danni': 1181, 'glover': 1973, 'humili': 2238, 'remov': 3677, 'heartbreak': 2124, 'keep': 2511, 'reunit': 3725, 'assort': 347, 'tough': 4560, 'step': 4247, 'son': 4138, 'singer': 4054, 'teach': 4433, 'stellar': 4246, 'purpl': 3533, 'manag': 2764, 'captur': 733, 'essenc': 1578, 'complic': 980, 'lesbian': 2630, 'african': 171, 'vivid': 4800, 'shine': 3998, 'respond': 3709, 'surround': 4373, 'suffic': 4335, 'left': 2614, 'late': 2581, 'night': 3066, 'cabl': 696, 'porn': 3392, 'hot': 2219, 'depart': 1256, 'humor': 2239, 'bed': 468, 'adult': 156, 'extrem': 1658, 'train': 4578, 'wreck': 4961, '14': 10, 'episod': 1565, 'bought': 593, 'amazon': 235, 'incid': 2303, 'fairli': 1676, 'gotten': 1999, 'job': 2460, 'forgotten': 1827, 'absolut': 109, 'horrend': 2208, 'multi': 2979, 'project': 3488, 'trek': 4598, 'thirti': 4487, 'ship': 3999, 'chase': 820, 'hilari': 2162, 'smoke': 4108, 'engin': 1540, 'rocket': 3776, 'fulli': 1885, 'jet': 2451, 'west': 4877, 'shoot': 4005, 'out': 3182, 'sci': 3882, 'fi': 1736, 'gene': 1929, 'regardless': 3645, 'hype': 2250, 'minut': 2900, 'disast': 1328, 'kate': 2505, 'ashley': 331, 'disappoint': 1327, 'kid': 2523, 'spend': 4176, 'n': 3002, 'wooden': 4940, 'dead': 1198, 'tree': 4597, 'half': 2072, 'fascin': 1699, 'let': 2636, 'supposedli': 4363, 'messag': 2857, 'indic': 2321, 'backward': 408, 'e': 1447, 'nobodi': 3075, 'anyway': 285, 'opinion': 3161, 'updat': 4714, 'read': 3603, 'surpass': 4369, 'titan': 4527, 'rent': 3681, 'crash': 1097, 'cheer': 827, 'beyond': 506, 'belief': 481, 'tie': 4512, 'drive': 1413, 'blow': 555, 'chines': 845, 'blond': 551, 'shirt': 4001, '4': 79, 'clash': 887, 'ensembl': 1550, 'worn': 4948, 'worri': 4949, 'surpris': 4370, '5': 83, 'necessari': 3026, 'howl': 2227, '6': 85, 'mental': 2848, 'convinc': 1051, 'poke': 3373, 'teacher': 4434, 'priest': 3455, 'bathroom': 450, 'boob': 578, 'heaven': 2128, 'pop': 3388, 'nois': 3078, 'fun': 1886, 'divers': 1360, 'height': 2133, 'plausibl': 3351, 'melodramat': 2841, 'intrigu': 2387, 'throw': 4503, 'materi': 2805, 'ignor': 2265, 'mostli': 2961, 'frequent': 1864, 'cruel': 1131, 'isabel': 2406, 'bone': 575, 'strip': 4291, 'blind': 547, 'ideal': 2258, 'scheme': 3879, 'whore': 4897, 'path': 3260, 'catherin': 769, 'dialog': 1294, 'trite': 4614, 'emot': 1517, 'emili': 1515, 'ralph': 3570, 'gothic': 1997, 'slightli': 4093, 'valid': 4738, 'mtv': 2976, 'goe': 1980, 'basic': 442, 'structur': 4299, 'beach': 456, 'favourit': 1712, 'mixtur': 2919, 'ingredi': 2338, 'horror': 2213, 'romant': 3785, 'outdat': 3184, 'minor': 2898, 'discov': 1333, 'relat': 3657, 'sometim': 4135, 'silli': 4037, 'balanc': 419, 'mood': 2948, 'check': 825, 'bernard': 496, 'rose': 3798, 'immort': 2284, 'belov': 486, 'glenn': 1966, 'british': 638, 'accent': 116, '1st': 54, '2003': 60, 'brad': 605, 'mindless': 2891, 'flesh': 1785, 'eat': 1463, 'zombi': 4997, 'chronicl': 864, '3d': 77, 'wow': 4959, 'underli': 4665, 'thrown': 4504, 'lame': 2569, 'twilight': 4637, 'zone': 4998, 'understood': 4671, 'report': 3689, 'investig': 2394, 'ghost': 1946, 'town': 4565, 'feast': 1716, 'occasion': 3129, 'attract': 368, 'raw': 3596, 'forbidden': 1816, 'societi': 4120, 'up': 4713, 'morbid': 2953, 'financi': 1755, 'determin': 1286, 'invit': 2396, 'addit': 147, 'hungri': 2243, 'wretch': 4965, 'suffer': 4334, 'yearn': 4982, 'poetri': 3368, 'flavor': 1780, 'curiou': 1146, 'lock': 2684, 'tradit': 4572, 'forget': 1822, 'dream': 1404, 'passion': 3257, 'motion': 2963, 'andr': 254, 'inner': 2348, 'philosophi': 3315, 'simon': 4042, 'amount': 246, 'enthusiast': 1558, 'grudg': 2047, 'rant': 3584, 'uneven': 4675, 'difficulti': 1306, 'will': 4910, 'haunt': 2111, 'baddi': 411, 'token': 4534, 'mysteri': 2998, 'semi': 3934, 'alert': 200, 'hide': 2153, 'cover': 1088, 'creepi': 1113, 'secondli': 3912, 'supernatur': 4359, 'brief': 629, 'freddi': 1858, 'jason': 2434, 'em': 1510, 'convent': 1046, 'troubl': 4618, 'vacat': 4733, 'suggest': 4338, 'happi': 2091, 'month': 2945, 'disregard': 1349, 'entri': 1562, 'introduct': 2389, 'depict': 1259, 'citizen': 879, 'kane': 2499, 'reel': 3638, 'unfortun': 4682, 'buy': 691, 'behav': 475, 'ethnic': 1588, 'noir': 3077, '15': 11, 'establish': 1580, 'capabl': 727, 'demand': 1246, '13': 8, 'dana': 1173, 'stroke': 4293, 'meant': 2826, 'cute': 1156, 'creek': 1111, 'monster': 2942, 'rescu': 3697, 'creatur': 1108, 'sceneri': 3877, 'neat': 3024, 'violenc': 4787, 'mild': 2878, 'karen': 2502, 'sarah': 3856, 'michel': 2869, 'exchang': 1621, 'student': 4303, 'japan': 2430, 'social': 4119, 'elderli': 1491, 'emma': 1516, 'grace': 2002, 'previou': 3449, 'disappear': 1326, 'home': 2188, 'rabbit': 3557, 'hole': 2179, 'mayb': 2815, 'influenc': 2334, 'success': 4328, 'underst': 4669, 'trend': 4600, '2005': 62, 'remark': 3672, 'exampl': 1617, 'remak': 3671, 'began': 473, '2000': 57, 'particular': 3249, 'close': 913, 'aka': 188, 'realm': 3613, 'drama': 1399, 'date': 1188, 'fifth': 1742, 'stephen': 4248, 'linear': 2662, 'overli': 3198, 'concern': 994, 'logic': 2686, 'instead': 2363, 'present': 3436, 'sequenc': 3951, 'atmospher': 357, 'depend': 1258, 'admittedli': 152, 'gap': 1914, 'thread': 4494, 'abandon': 97, 'poetic': 3367, 'metaphor': 2861, 'mainstream': 2754, 'suspend': 4378, 'unusu': 4711, 'properti': 3499, 'design': 1272, 'cloth': 917, 'match': 2803, 'exterior': 1655, 'enhanc': 1544, 'eeri': 1479, 'event': 1598, 'entertain': 1555, 'premis': 3431, 'absorb': 110, 'interview': 2384, 'pay': 3273, 'attent': 365, 'aris': 310, 'intim': 2385, 'knowledg': 2546, 'cultur': 1142, 'ponder': 3384, 'scari': 3873, 'clich': 899, 'territori': 4466, 'flashback': 1777, 'finish': 1760, 'mini': 2893, 'ridicul': 3749, 'studio': 4305, 'appropri': 299, 'ident': 2259, 'substitut': 4321, 'non': 3082, 'indian': 2320, 'spanish': 4162, 'cost': 1072, 'domest': 1373, 'profit': 3483, 'pick': 3324, 'bondag': 574, 'flat': 1779, 'banal': 424, 'setup': 3963, 'host': 2216, 'aforement': 168, 'drivel': 1414, 'distract': 1355, 'tack': 4403, 'snake': 4110, 'shut': 4022, 'surfac': 4367, 'kubrick': 2551, 'artist': 326, 'warren': 4839, 'superb': 4353, 'instruct': 2366, 'vote': 4807, 'campaign': 711, 'advis': 162, 'win': 4914, 'elect': 1492, 'identifi': 2260, 'respect': 3708, 'thin': 4483, 'ice': 2254, 'india': 2319, 'chill': 843, 'spine': 4186, 'addict': 146, 'dian': 1297, 'keaton': 2509, 'blown': 556, 'cassavet': 760, 'bigger': 511, 'ground': 2042, 'undoubtedli': 4674, 'middl': 2872, 'gordon': 1992, 'fail': 1671, 'steer': 4245, 'breakdown': 617, 'culmin': 1140, 'argu': 306, 'quiet': 3550, 'opposit': 3165, 'climact': 904, 'estrang': 1583, 'enlighten': 1546, 'weak': 4854, 'weaker': 4855, 'walken': 4819, 'irish': 2401, 'desper': 1275, 'discoveri': 1334, 'giallo': 1947, 'red': 3631, 'winner': 4919, 'guilt': 2054, 'ridden': 3746, 'unexpectedli': 4677, 'italian': 2414, '70': 88, 'bridg': 627, 'convolut': 1053, 'held': 2135, 'compos': 982, 'memor': 2844, 'issu': 2412, 'respons': 3710, 'easi': 1457, 'spot': 4204, 'second': 3910, 'rush': 3823, 'confus': 1007, 'spell': 4175, 'loss': 2700, 'explain': 1640, 'senseless': 3940, 'monologu': 2940, 'unconvinc': 4659, 'realism': 3608, 'verbal': 4760, 'construct': 1026, 'intent': 2375, 'protagonist': 3505, 'unbeliev': 4656, 'consum': 1027, 'literatur': 2674, 'bibl': 508, 'encount': 1529, 'applaud': 295, 'chick': 836, 'threw': 4498, 'onto': 3157, 'street': 4283, 'whine': 4890, 'self': 3930, 'piti': 3339, 'banter': 428, 'pretenti': 3445, 'ancient': 251, 'greek': 2025, 'revel': 3727, 'doom': 1381, 'form': 1828, 'bar': 429, 'code': 929, 'hand': 2083, 'spooki': 4202, 'biblic': 509, 'cleverli': 898, 'expos': 1647, 'empti': 1525, 'space': 4157, 'melodrama': 2840, 'tediou': 4444, 'avail': 383, 'content': 1033, 'mouth': 2969, 'comparison': 970, 'warrant': 4838, 'peter': 3305, 'absurd': 111, 'situat': 4065, 'poorli': 3387, 'drew': 1408, 'heartwarm': 2126, 'alik': 208, '60': 86, 'walk': 4818, 'window': 4917, 'hum': 2235, 'anim': 262, 'bare': 431, 'crappi': 1096, 'dull': 1433, 'fell': 1724, 'asleep': 335, 'sleep': 4086, 'grade': 2003, 'holiday': 2181, 'rip': 3754, '4th': 82, 'ok': 3145, 'room': 3792, '3rd': 78, 'plain': 3344, 'succeed': 4327, 'goal': 1976, 'pan': 3229, 'track': 4569, 'smooth': 4109, 'relax': 3659, 'attend': 364, 'detail': 1284, 'describ': 1268, 'soundtrack': 4150, 'musician': 2991, 'band': 425, 'contribut': 1041, 'sunni': 4350, 'hear': 2121, 'rock': 3775, 'melodi': 2839, 'strength': 4285, 'lift': 2650, 'flow': 1796, 'hair': 2070, 'afternoon': 172, 'pass': 3253, 'crowd': 1127, 'door': 1382, 'met': 2859, 'week': 4867, 'kelli': 2513, 'anchor': 250, 'sinatra': 4050, 'kathryn': 2506, 'grayson': 2018, 'loui': 2705, 'b': 399, 'inspir': 2358, 'choreograph': 852, 'becam': 466, 'joe': 2462, 'fred': 1857, 'astair': 350, 'danc': 1174, 'rival': 3761, 'jerri': 2447, 'mous': 2968, 'walt': 4824, 'disney': 1345, 'mickey': 2870, 'lend': 2624, 'roger': 3779, 'mgm': 2866, 'tom': 4538, 'dancer': 1175, 'strive': 4292, 'dozen': 1392, 'prais': 3414, 'creativ': 1106, 'burt': 680, 'etern': 1586, 'contract': 1037, 'insist': 2356, 'jule': 2485, 'sammi': 3848, 'fall': 1680, 'accompani': 122, 'piano': 3323, 'bowl': 598, 'van': 4743, 'lyric': 2735, 'lifetim': 2649, 'prove': 3509, 'sudden': 4331, 'basi': 441, 'circumst': 877, 'orphan': 3175, 'nephew': 3042, 'dean': 1204, 'fix': 1772, 'audit': 372, 'accomplish': 123, 'pamela': 3228, 'waitress': 4816, 'brooklyn': 648, 'review': 3730, 'meg': 2836, 'broadway': 642, 'brought': 651, 'suspicion': 4381, 'cut': 1155, 'market': 2785, 'retir': 3721, 'countri': 1080, 'debt': 1208, 'extraordinari': 1657, 'straightforward': 4276, 'vs': 4809, 'apart': 287, 'movement': 2971, 'flee': 1783, 'techniqu': 4441, 'fire': 1761, 'clearli': 895, 'devot': 1293, 'distress': 1356, 'variou': 4751, 'pure': 3532, 'regard': 3644, 'moron': 2958, 'fantasi': 1690, 'ador': 155, 'bakshi': 418, 'babe': 400, 'yeah': 4980, 'greatest': 2021, 'anyon': 283, 'robot': 3773, 'vh': 4767, 'capit': 729, 'tremend': 4599, 'charm': 819, 'parker': 3242, 'posey': 3399, 'vehicl': 4755, 'ms': 2974, 'daisi': 1165, 'von': 4806, 'trip': 4611, 'lower': 2712, 'manhattan': 2765, 'dedic': 1220, 'club': 920, 'constantli': 1024, 'naiv': 3004, 'area': 305, 'meat': 2829, 'pretens': 3444, 'earth': 1455, 'rest': 3711, 'suck': 4329, 'resort': 3706, 'reli': 3663, 'smart': 4103, 'con': 989, 'occur': 3132, 'enter': 1553, 'conveni': 1045, 'assembl': 341, 'slap': 4078, 'rain': 3567, 'insult': 2368, 'hatr': 2110, 'defi': 1231, 'creat': 1104, 'improv': 2296, 'reminisc': 3675, 'pleasantli': 3357, 'profession': 3480, 'impress': 2294, 'prison': 3466, 'camp': 710, 'mother': 2962, 'grim': 2034, 'delet': 1237, 'harsh': 2104, 'hint': 2164, 'outright': 3191, 'shown': 4020, 'extent': 1654, 'sadli': 3835, 'gain': 1906, 'huge': 2231, 'fair': 1674, 'slip': 4095, 'crack': 1092, 'reluct': 3668, 'smaller': 4102, 'core': 1062, 'fool': 1811, 'hero': 2146, 'food': 1810, 'deadli': 1199, 'photographi': 3320, 'digit': 1308, 'puppet': 3529, 'stick': 4253, 'pose': 3398, 'heavi': 2129, 'companion': 968, 'analyz': 249, 'philosoph': 3314, 'angl': 259, 'continu': 1036, 'stream': 4281, 'custom': 1154, 'harder': 2096, 'needless': 3031, 'multipl': 2980, 'insid': 2353, 'introduc': 2388, 'unfold': 4680, 'crude': 1130, 'rang': 3581, 'sublim': 4316, 'cake': 700, 'cow': 1089, 'wear': 4860, 'chain': 794, 'gang': 1912, 'bull': 670, 'regular': 3649, 'besid': 497, 'wacki': 4813, 'exagger': 1615, 'contradict': 1038, 'tone': 4543, 'burst': 679, 'lush': 2731, 'bewar': 505, 'extend': 1652, 'subtitl': 4322, 'suffici': 4336, 'miss': 2910, 'halfway': 2073, 'steam': 4243, 'dutch': 1439, 'sub': 4314, 'contain': 1029, 'congratul': 1008, 'marvel': 2795, 'immens': 2281, 'translat': 4584, 'float': 1791, 'worthless': 4955, 'justic': 2494, 'specif': 4170, 'europ': 1590, 'western': 4878, 'dri': 1409, 'spirit': 4188, '0': 0, 'confess': 1001, 'r': 3556, 'christma': 862, 'equal': 1567, 'fault': 1708, 'hill': 2163, 'thoroughli': 4490, 'promis': 3491, 'build': 667, 'tension': 4459, 'occas': 3128, 'importantli': 2291, 'robin': 3771, 'obsess': 3123, 'potenti': 3406, 'explan': 1641, 'sassi': 3857, 'internet': 2381, 'parent': 3239, 'hire': 2167, 'kim': 2529, 'ha': 2064, 'background': 407, 'obstacl': 3124, 'martial': 2792, 'thug': 4507, 'sick': 4024, 'thank': 4473, 'chemistri': 830, 'energi': 1537, 'wise': 4924, 'likabl': 2653, 'climb': 907, 'ill': 2268, 'fate': 1706, 'romero': 3787, 'overr': 3201, 'shoe': 4004, 'biggest': 512, 'segment': 3927, 'kennedi': 2515, 'automat': 382, 'statu': 4239, 'hokey': 2177, 'belong': 485, 'revers': 3729, 'abort': 103, 'moder': 2927, 'stretch': 4287, 'pad': 3214, 'fourth': 1841, 'bunch': 675, 'loi': 2687, 'bond': 573, 'holli': 2182, 'difficult': 1305, 'sympath': 4396, 'road': 3764, 'attack': 361, 'presenc': 3435, 'none': 3083, 'sympathet': 4397, 'paul': 3268, 'dumb': 1434, 'oil': 3144, 'slick': 4089, 'homeless': 2189, 'ranger': 3582, 'lurk': 2730, 'lake': 2568, 'alter': 223, 'ego': 1484, 'pointless': 3371, 'punch': 3526, 'whatsoev': 4884, 'worthwhil': 4956, 'rental': 3682, 'aunt': 374, 'texa': 4471, 'copi': 1060, 'research': 3698, 'stanwyck': 4228, 'promot': 3492, 'recruit': 3629, 'australia': 378, 'unimagin': 4687, 'wet': 4879, 'bleak': 542, 'anywher': 286, 'welcom': 4871, 'gore': 1993, '2006': 63, 'feed': 1720, 'formula': 1831, 'eli': 1500, 'roth': 3802, 'earlier': 1452, 'central': 786, 'theatr': 4476, 'ryan': 3829, 'nicholson': 3061, 'previous': 3450, '45': 81, 'rape': 3586, 'reunion': 3724, 'hesit': 2149, 'resolut': 3703, 'clark': 886, 'leap': 2606, 'afraid': 169, 'destini': 1280, 'superman': 4358, 'green': 2026, 'arrow': 321, 'readi': 3605, 'save': 3864, 'thrill': 4499, 'loyalti': 2715, 'friendship': 1870, 'ensu': 1551, 'strictli': 4288, 'push': 3537, 'contrast': 1040, 'lex': 2640, 'nine': 3070, 'born': 586, 'season': 3908, 'reincarn': 3654, 'toward': 4563, 'ludicr': 2722, 'unrel': 4706, 'eight': 1485, 'exact': 1613, 'witti': 4930, 'alley': 213, 'wayn': 4852, 'arriv': 319, 'perri': 3296, 'process': 3474, 'bear': 458, 'gift': 1949, 'bottl': 591, 'debat': 1207, 'nobl': 3074, 'assassin': 339, 'exhibit': 1628, 'altogeth': 227, 'duke': 1432, 'await': 388, 'instinct': 2364, 'pack': 3212, 'franchis': 1847, 'romanc': 3784, 'sex': 3967, 'confront': 1006, 'mistak': 2913, 'everywher': 1606, '2001': 58, 'news': 3056, 'declar': 1217, 'drop': 1418, 'glamor': 1962, 'reliabl': 3664, 'sharon': 3983, 'stone': 4266, 'word': 4942, 'storytel': 4274, 'friendli': 1869, 'clean': 893, 'c': 694, 'mon': 2936, 'escap': 1576, 'seldom': 3928, 'academi': 115, 'loos': 2695, 'shall': 3976, 'lust': 2732, 'partner': 3252, 'suspect': 4377, 'dr': 1393, 'drawn': 1402, 'entranc': 1561, 'seduc': 3918, 'weav': 4863, 'danger': 1178, 'seduct': 3919, 'plate': 3350, 'erot': 1573, 'briefli': 630, 'notch': 3096, 'awesom': 395, 'chosen': 856, 'prize': 3468, 'folk': 1805, 'south': 4153, 'educ': 1477, 'relationship': 3658, 'practic': 3413, 'assum': 348, 'africa': 170, 'glad': 1961, 'bill': 517, 'ted': 4443, 'threat': 4495, 'futur': 1897, 'chuck': 865, 'send': 3936, 'pair': 3220, 'winter': 4920, 'reev': 3639, 'delici': 1240, 'bogu': 567, 'entir': 1559, 'justifi': 2495, 'stake': 4218, 'dimens': 1312, 'lovabl': 2708, 'creator': 1107, 'heavili': 2130, 'travel': 4592, 'object': 3117, 'evid': 1607, 'predecessor': 3424, 'steadi': 4241, '1987': 42, 'judg': 2482, 'ben': 489, 'crime': 1116, 'commit': 963, 'maria': 2780, 'govern': 2000, 'mass': 2798, 'pit': 3337, 'convict': 1050, 'colour': 946, 'oppon': 3162, 'electr': 1493, 'suit': 4340, 'chainsaw': 795, 'zero': 4995, 'gruesom': 2048, 'obligatori': 3119, 'join': 2468, 'group': 2043, 'freedom': 1860, 'fighter': 1745, 'author': 381, 'twenti': 4635, 'arnold': 315, 'univers': 4694, 'guarante': 2049, 'box': 599, 'sidekick': 4028, 'liner': 2663, 'minu': 2899, 'massiv': 2800, 'faith': 1677, 'blockbust': 550, 'decad': 1210, 'devoid': 1292, 'technic': 4439, 'merit': 2852, 'cult': 1141, 'shoddi': 4003, 'unintent': 4689, 'giggl': 1950, 'secret': 3913, 'tape': 4420, 'crap': 1095, 'futurist': 1898, 'advertis': 160, 'amus': 247, 'distinct': 1352, 'technolog': 4442, 'advanc': 157, 'utter': 4729, 'rubbish': 3813, 'uncl': 4657, 'darn': 1185, 'proud': 3508, 'commentari': 961, 'languag': 2576, 'cent': 783, 'sorrow': 4146, 'york': 4988, 'independ': 2317, 'demon': 1249, 'eric': 1572, 'amazingli': 234, 'okay': 3146, 'hundr': 2241, 'thousand': 4493, 'breathtak': 621, 'took': 4547, 'stuck': 4302, 'fleet': 1784, 'tune': 4626, 'virtual': 4792, 'forgett': 1823, 'ginger': 1956, 'sheer': 3988, 'convey': 1049, 'magic': 2747, 'target': 4423, '50': 84, 'stumbl': 4307, 'clerk': 896, 'notic': 3099, 'brilliantli': 634, 'paper': 3232, 'agent': 177, 'wherea': 4887, 'seemingli': 3925, 'poignant': 3369, 'craft': 1093, 'honest': 2193, 'indi': 2318, 'inevit': 2328, 'task': 4425, 'explicit': 1642, 'load': 2680, 'fat': 1704, 'admir': 150, 'tear': 4436, 'desir': 1273, 'iii': 2267, 'vision': 4795, 'legend': 2618, 'principl': 3463, 'redempt': 3633, 'sweat': 4386, 'jar': 2432, 'ii': 2266, 'wander': 4826, 'initi': 2343, 'gorgeou': 1994, 'choos': 849, 'suddenli': 4332, 'stay': 4240, 'quietli': 3551, 'fluid': 1799, 'creep': 1112, 'costum': 1073, 'wig': 4906, 'makeup': 2759, 'timeless': 4520, 'function': 1887, 'anybodi': 281, 'rear': 3614, 'rehears': 3651, 'snap': 4111, 'requir': 3696, 'narrat': 3009, 'emerg': 1514, 'weari': 4861, 'split': 4194, 'digniti': 1309, 'lip': 2667, 'growth': 2046, 'carlo': 746, 'choru': 854, 'whip': 4891, 'led': 2612, 'arrest': 318, 'enorm': 1548, 'bleed': 543, 'curs': 1149, 'system': 4400, 'fanci': 1689, 'satisfi': 3861, 'leagu': 2604, 'devil': 1291, 'tackl': 4405, 'gritti': 2038, 'civil': 880, 'spawn': 4166, 'outlaw': 3188, 'maintain': 2755, 'tendenc': 4456, 'manipul': 2768, 'greatli': 2022, 'accuraci': 127, 'cri': 1115, 'trail': 4576, 'jake': 2424, 'lee': 2613, 'lawrenc': 2596, 'massacr': 2799, 'armi': 313, 'switch': 4393, 'glare': 1964, 'glori': 1970, 'fiction': 1738, 'context': 1035, 'repres': 3690, 'larger': 2578, 'curios': 1145, 'slave': 4083, 'rebel': 3616, 'singl': 4055, 'union': 4691, 'rais': 3568, 'kansa': 2500, 'senat': 3935, 'jim': 2456, 'lane': 2574, 'fame': 1683, 'organ': 3171, 'troop': 4617, 'spring': 4208, 'utterli': 4730, 'downhil': 1390, 'jack': 2418, 'sink': 4057, 'appal': 290, 'yard': 4977, 'locat': 2683, 'privat': 3467, 'hawk': 2112, 'unnecessari': 4699, 'casual': 764, 'compet': 974, 'ram': 3571, 'portion': 3395, 'watchabl': 4845, '1980': 36, 'class': 888, 'document': 1367, 'celebr': 778, 'babi': 401, 'boom': 580, 'guilti': 2055, 'pleasur': 3358, 'sophist': 4142, 'cari': 741, 'gotta': 1998, 'blast': 539, 'rex': 3737, 'dinosaur': 1316, 'rough': 3804, 'factor': 1668, 'magnific': 2749, 'hors': 2214, 'parodi': 3243, 'evok': 1609, 'tribe': 4604, 'paradis': 3235, 'miseri': 2906, 'poverti': 3410, 'broken': 644, 'lay': 2598, 'ya': 4976, 'scratch': 3894, 'funniest': 1893, 'trial': 4602, 'mormon': 2956, 'church': 867, 'inaccuraci': 2300, 'joseph': 2475, 'prophet': 3501, 'firmli': 1763, 'saint': 3841, 'confid': 1002, 'smith': 4107, 'whether': 4888, 'awkward': 397, 'embarrass': 1512, 'warmth': 4835, 'lampoon': 2570, 'inclus': 2306, 'hugh': 2232, 'mess': 2856, 'root': 3795, 'twice': 4636, 'vampir': 4742, 'slasher': 4081, 'nonetheless': 3084, 'nurs': 3114, 'charli': 816, 'obscur': 3121, 'neck': 3028, 'intend': 2373, 'cycl': 1158, 'tongu': 4544, 'cheek': 826, 'popul': 3390, 'grew': 2030, 'brazil': 614, 'visit': 4796, 'coast': 926, 'mile': 2881, 'explor': 1645, 'nativ': 3016, 'upper': 4717, 'trade': 4570, 'nake': 3005, 'eaten': 1464, 'ritual': 3760, 'recreat': 3628, 'villag': 4784, 'cannib': 721, 'recogn': 3621, 'garden': 1917, 'messi': 2858, 'violent': 4788, 'pathet': 3261, 'weapon': 4859, 'greed': 2023, 'savag': 3863, 'neither': 3038, 'dismiss': 1344, 'air': 185, 'affair': 164, 'achiev': 130, 'hook': 2199, 'jeffrey': 2442, 'alexandr': 203, 'paranoia': 3238, 'soviet': 4155, 'appar': 291, 'behaviour': 477, 'communist': 966, 'sutherland': 4383, 'fbi': 1714, 'silenc': 4035, 'shade': 3971, 'landscap': 2573, 'ventur': 4759, 'inspector': 2357, 'underworld': 4673, 'cameo': 707, 'domin': 1374, 'partial': 3247, 'cube': 1138, 'be': 455, 'bank': 427, 'jennif': 2444, 'neo': 3041, 'leader': 2603, 'cole': 935, 'laurenc': 2593, 'fishburn': 1767, 'scienc': 3883, 'professor': 3481, 'et': 1584, 'directli': 1319, 'search': 3907, 'gilbert': 1951, 'twist': 4639, 'doubl': 1385, 'higher': 2156, 'illus': 2271, 'passag': 3255, 'alexand': 202, 'reject': 3655, 'iron': 2402, 'artifici': 325, 'longer': 2693, 'smash': 4104, 'tini': 4523, 'reader': 3604, 'jean': 2439, 'unabl': 4652, 'creation': 1105, 'awar': 391, 'parallel': 3236, 'suicid': 4339, 'nevertheless': 3050, 'crystal': 1135, 'condemn': 998, 'l': 2558, 'liber': 2642, 'le': 2601, 'florida': 1795, 'recal': 3617, 'filmmak': 1751, 'offici': 3141, 'ninja': 3072, 'epitom': 1566, 'wick': 4899, 'dane': 1177, 'deniro': 1252, 'fabul': 1663, 'younger': 4990, 'older': 3149, 'subtleti': 4324, 'preview': 3448, 'fianc': 1737, 'skeptic': 4069, 'assur': 349, 'fenc': 1731, 'destroy': 1281, 'templ': 4451, 'helpless': 2142, 'bela': 480, 'lugosi': 2723, 'mislead': 2909, 'someday': 4131, 'heck': 2131, 'fantast': 1691, 'transplant': 4585, 'marriag': 2788, 'surgeri': 4368, 'medic': 2832, 'phenomenon': 3310, 'simplist': 4046, 'coincid': 933, 'harold': 2101, 'jessica': 2449, 'super': 4352, 'lena': 2623, 'lanc': 2571, 'stronger': 4295, 'quot': 3555, 'quinn': 3552, 'quick': 3548, 'richardson': 3743, 'raymond': 3598, 'scott': 3892, 'ray': 3597, '1936': 19, 'storylin': 4273, 'canyon': 725, 'kevin': 2519, 'kline': 2538, 'acclaim': 121, 'depress': 1260, 'sketch': 4070, 'gari': 1918, 'underr': 4668, 'gold': 1982, 'shelf': 3990, 'nick': 3062, 'honesti': 2194, 'eddi': 1470, 'kay': 2507, 'thoma': 4488, 'pie': 3327, 'jone': 2473, 'matter': 2809, 'phillip': 3313, 'everybodi': 1602, 'affect': 165, '1997': 51, '1970': 27, '1960': 24, 'departur': 1257, 'bikini': 515, 'pirat': 3336, 'aim': 184, 'squar': 4211, 'kiddi': 2524, 'invis': 2395, 'dad': 1162, 'dee': 1221, 'wallac': 4822, 'prepar': 3432, 'josh': 2476, 'experienc': 1637, 'co': 924, 'ten': 4453, 'blame': 536, 'corner': 1065, 'tiresom': 4526, 'lacklust': 2564, 'homosexu': 2192, 'dash': 1187, 'page': 3215, 'echo': 1467, 'fade': 1670, 'cinematograph': 873, 'tire': 4525, 'pray': 3416, 'fit': 1770, 'connect': 1009, 'via': 4768, 'reward': 3736, 'scope': 3888, 'immers': 2282, 'pool': 3385, 'wrench': 4962, 'laughter': 2588, 'ass': 338, 'sorri': 4145, 'blunt': 558, 'toler': 4537, 'nowher': 3105, 'consequ': 1017, 'ugli': 4645, 'uninspir': 4688, 'bland': 537, 'wash': 4841, 'trash': 4588, 'stink': 4259, 'field': 1740, 'northern': 3091, 'alongsid': 219, 'ordinari': 3170, 'circl': 875, 'abund': 112, 'w': 4812, 'forev': 1821, 'threaten': 4496, 'bomb': 572, 'jail': 2423, 'tabl': 4401, 'approv': 300, 'charismat': 814, 'sell': 3932, 'brendan': 624, 'antic': 275, 'section': 3916, 'paint': 3218, 'dealer': 1202, 'robberi': 3768, 'protest': 3507, 'pressur': 3440, 'mount': 2966, 'jon': 2471, 'voight': 4803, 'hammi': 2081, 'sale': 3843, 'tarzan': 4424, 'ape': 288, 'sensat': 3939, 'matrix': 2807, 'lord': 2696, 'radio': 3565, 'instant': 2361, 'icon': 2255, 'unhappi': 4684, 'edgar': 1472, 'liberti': 2643, 'compani': 967, 'spectacular': 4172, 'mate': 2804, 'anticip': 276, 'limit': 2657, 'jane': 2429, 'swim': 4391, 'topless': 4552, 'sullivan': 4342, 'shortli': 4011, 'san': 3850, 'headach': 2116, 'plant': 3348, 'fruit': 1877, 'block': 549, 'breast': 619, 'conclus': 997, 'jungl': 2491, 'hay': 2113, 'veteran': 4766, 'incorpor': 2311, 'beast': 460, 'neil': 3036, 'hamilton': 2078, 'eleph': 1497, 'england': 1541, 'pursuit': 3536, 'stalk': 4220, 'refus': 3643, 'hunter': 2245, 'demis': 1248, 'voyag': 4808, 'hideou': 2154, 'health': 2118, 'recov': 3627, 'stock': 4262, 'extens': 1653, 'racial': 3560, 'stereotyp': 4249, 'peak': 3276, 'condit': 999, 'physic': 3322, 'we': 4853, 'craven': 1098, 'expens': 1635, 'preposter': 3433, 'airport': 187, 'flirt': 1790, 'trap': 4587, 'row': 3808, 'contact': 1028, 'confin': 1003, 'stranger': 4280, 'immedi': 2280, 'effici': 1481, 'rachel': 3559, 'daddi': 1163, 'forgiv': 1824, 'slaughter': 4082, 'gal': 1907, 'unreal': 4704, 'hold': 2178, 'harm': 2099, 'conclud': 996, 'altern': 224, 'terrorist': 4468, 'missil': 2911, 'employ': 1523, 'highway': 2160, 'politician': 3383, 'miami': 2867, 'hotel': 2220, 'secur': 3917, 'steal': 4242, 'transport': 4586, 'instantli': 2362, 'arrang': 317, 'sensibl': 3941, 'coffe': 930, 'elsewher': 1507, 'magazin': 2745, 'termin': 4461, 'murphi': 2986, 'alli': 214, 'warn': 4836, 'damn': 1170, 'wake': 4817, 'regist': 3647, 'mildli': 2879, 'ensur': 1552, 'duo': 1436, 'vast': 4752, 'ruthless': 3828, 'cook': 1054, 'dear': 1205, 'wendigo': 4874, 'strand': 4278, 'deer': 1227, 'angri': 260, 'outrag': 3190, 'kudo': 2552, 'thumb': 4508, 'dimension': 1313, 'cardboard': 736, 'empathi': 1518, 'par': 3233, 'bean': 457, 'tight': 4515, 'shock': 4002, 'deliver': 1243, 'precis': 3422, 'reynold': 3738, 'merci': 2850, 'river': 3762, 'illustr': 2272, 'duel': 1431, 'truck': 4619, 'guitar': 2057, 'bobbi': 565, 'genet': 1931, 'shake': 3973, 'jam': 2425, 'session': 3960, 'buck': 660, 'redneck': 3634, 'appl': 294, 'orang': 3168, 'ed': 1469, 'law': 2595, 'tragic': 4575, 'gratuit': 2015, 'numb': 3110, 'cliff': 902, 'bottom': 592, 'testament': 4470, 'childish': 841, 'bait': 415, 'weekend': 4868, 'hardi': 2097, 'lone': 2690, 'usa': 4722, 'clint': 909, 'eastwood': 1462, 'drown': 1420, 'cowboy': 1090, 'solid': 4126, 'heat': 2127, 'memori': 2845, 'boast': 562, 'polish': 3381, 'desert': 1270, 'mutant': 2994, 'soldier': 4124, 'hardcor': 2095, 'preciou': 3421, 'resembl': 3699, 'brian': 625, 'thompson': 4489, 'stan': 4223, 'cave': 774, 'ala': 192, 'descent': 1267, 'sam': 3847, 'laughabl': 2587, 'contriv': 1042, 'yesterday': 4985, 'adam': 143, 'pat': 3259, 'mike': 2877, 'bachelor': 404, 'nut': 3115, 'brenda': 623, 'defeat': 1228, 'offens': 3138, 'test': 4469, 'gay': 1924, 'othello': 3178, 'jealou': 2438, 'suspici': 4380, 'enthusiasm': 1557, 'competit': 975, 'gregori': 2029, 'peck': 3278, 'gentleman': 1936, 'shakespear': 3974, 'terrif': 4464, 'worthi': 4954, 'maker': 2758, '1950': 23, 'qualifi': 3542, 'g': 1900, 'skin': 4072, 'commerci': 962, 'gather': 1922, '11': 6, 'promin': 3490, 'global': 1968, 'ken': 2514, 'jewel': 2453, 'medium': 2834, 'profound': 3484, 'arab': 302, 'inflict': 2333, 'amongst': 244, 'chapter': 807, 'v': 4732, 'websit': 4865, 'holm': 2185, 'ladi': 2566, 'stiff': 4254, 'tiger': 4514, 'hidden': 2152, 'intellig': 2372, 'moreov': 2954, 'sacrif': 3831, 'duck': 1426, 'bulli': 672, 'thick': 4481, 'golden': 1985, 'com': 948, 'user': 4725, 'nyc': 3116, 'screenwrit': 3898, 'gandhi': 1911, 'riot': 3753, 'count': 1076, 'furi': 1894, 'bang': 426, 'random': 3579, 'exercis': 1626, 'meaningless': 2825, 'artsi': 327, 'indulg': 2325, 'brand': 609, '13th': 9, 'rise': 3755, 'comed': 953, 'confirm': 1004, 'profil': 3482, 'upon': 4716, 'superfici': 4355, 'denni': 1253, 'hopper': 2206, 'stomach': 4265, 'smile': 4106, 'spiritu': 4189, 'junk': 2493, 'moon': 2950, 'irrit': 2405, 'chri': 857, 'penn': 3281, 'dirti': 1323, 'cancer': 717, 'unexpect': 4676, 'jump': 2489, 'clumsi': 923, 'till': 4516, 'spoil': 4196, 'tast': 4426, 'devic': 1290, 'rivet': 3763, 'excus': 1624, 'hey': 2151, 'incoher': 2307, 'inconsist': 2310, 'character': 809, 'narr': 3008, 'adolesc': 153, 'butler': 688, 'grown': 2045, 'attitud': 366, 'consist': 1021, 'religion': 3667, 'charisma': 813, 'sin': 4049, 'colleg': 942, 'topic': 4551, 'nuditi': 3109, 'cerebr': 788, 'bush': 682, 'hypnot': 2251, 'easier': 1458, 'decor': 1219, 'aesthet': 163, 'summer': 4346, 'defin': 1232, 'sappi': 3855, 'sentiment': 3946, 'solut': 4128, 'credibl': 1109, 'giant': 1948, 'anna': 264, 'simpson': 4047, 'indiffer': 2322, 'likewis': 2655, 'compliment': 981, 'amanda': 230, 'jenni': 2443, 'maid': 2750, 'wannab': 4829, 'homer': 2190, 'whenev': 4886, 'shallow': 3977, 'abysm': 114, 'primarili': 3457, 'swear': 4385, 'cue': 1139, 'card': 735, 'mst3k': 2975, 'toni': 4545, 'carradin': 750, 'seventi': 3965, 'vanish': 4746, 'columbo': 947, 'whoever': 4893, 'per': 3285, 'pilot': 3332, 'alleg': 211, 'aggress': 178, 'weakest': 4856, 'soft': 4122, 'somebodi': 4130, 'shower': 4019, 'bride': 626, 'jan': 2428, 'sight': 4031, 'shed': 3987, 'bloodi': 553, 'tail': 4409, 'fake': 1678, 'spin': 4184, 'chair': 796, 'gonna': 1988, 'f': 1661, 'pig': 3330, 'latter': 2585, 'former': 1830, 'increas': 2313, 'trace': 4567, 'comprehend': 984, 'morgan': 2955, 'freeman': 1861, 'vega': 4754, 'whilst': 4889, 'petti': 3306, 'woodi': 4941, 'allen': 212, 'anni': 265, 'hall': 2074, 'dinner': 1315, 'ex': 1612, '28': 71, 'wind': 4916, 'mitchel': 2917, 'knightley': 2543, 'paltrow': 3227, 'austen': 376, 'incorrect': 2312, 'flashi': 1778, 'inaccur': 2299, 'exclus': 1623, 'fals': 1682, 'programm': 3486, '40': 80, 'wwii': 4973, 'undertak': 4672, 'muddl': 2978, 'composit': 983, 'wildli': 4909, 'overwhelm': 3202, 'broadcast': 641, 'announc': 266, 'peac': 3275, 'spare': 4163, 'audrey': 373, 'hepburn': 2145, 'ballet': 422, 'revolutionari': 3734, 'swept': 4390, 'russian': 3826, 'clueless': 922, 'branagh': 608, 'commend': 959, 'represent': 3691, 'captiv': 732, 'vocal': 4801, 'island': 2408, 'matthew': 2811, 'fox': 1842, 'j': 2417, 'pun': 3525, 'elvira': 1509, 'jodi': 2461, 'fanat': 1688, 'tender': 4457, 'mail': 2751, 'p': 3208, 'edi': 1474, 'alec': 199, 'guin': 2056, 'invest': 2393, 'sir': 4058, 'brood': 646, 'aspir': 337, 'vain': 4736, 'jerk': 2446, 'turkey': 4629, 'estat': 1581, 'obnoxi': 3120, 'pari': 3240, 'runner': 3821, 'concentr': 992, 'handsom': 2086, 'tick': 4510, 'sissi': 4060, 'onlin': 3156, '1994': 48, 'exquisit': 1651, 'kinda': 2531, 'stilt': 4257, 'censor': 782, 'wilson': 4913, 'polici': 3380, 'corpor': 1067, 'presid': 3438, 'dan': 1172, 'dick': 1300, 'lol': 2688, 'cusack': 1152, 'daili': 1164, 'vengeanc': 4757, 'resolv': 3704, 'priceless': 3453, 'gross': 2040, 'matur': 2812, 'butt': 689, 'media': 2831, 'north': 3090, 'combat': 950, 'invad': 2390, 'journalist': 2477, 'frustrat': 1878, 'conserv': 1018, 'patriot': 3266, 'ideolog': 2261, 'mediocr': 2833, 'mill': 2884, 'dude': 1428, 'minimum': 2895, 'energet': 1536, 'wire': 4922, 'footbal': 1815, 'pretend': 3443, 'theatric': 4477, 'fist': 1769, 'menac': 2847, 'ear': 1449, 'humbl': 2237, 'ought': 3181, 'wheel': 4885, 'grave': 2016, 'parson': 3244, 'sum': 4343, 'slice': 4088, 'hippi': 2166, 'consider': 1020, 'sunday': 4348, 'luck': 2719, 'solo': 4127, 'mytholog': 3001, 'jaw': 2435, 'der': 1262, 'remot': 3676, 'ban': 423, 'germani': 1942, 'closest': 915, 'descript': 1269, 'method': 2862, 'degre': 1235, 'collaps': 938, 'occup': 3130, 'variat': 4749, 'filler': 1749, 'partli': 3251, 'drain': 1397, 'baffl': 413, 'awe': 394, 'disgust': 1339, 'faint': 1673, 'cd': 776, 'lo': 2679, 'essenti': 1579, 'cloud': 918, 'border': 582, 'spoken': 4199, 'unravel': 4703, 'challeng': 797, 'volum': 4804, 'degrad': 1234, 'particip': 3248, 'explos': 1646, 'finger': 1759, 'button': 690, '1974': 31, 'gem': 1927, 'buddi': 662, 'exit': 1630, 'elev': 1498, 'claud': 891, 'patrick': 3265, 'harvey': 2107, 'spacey': 4158, 'lectur': 2611, 'marshal': 2789, 'shape': 3980, 'propos': 3503, 'inexplic': 2329, 'miracul': 2902, 'phone': 3316, 'driver': 1416, 'deni': 1251, 'steve': 4250, 'leg': 2615, 'ward': 4832, 'clair': 883, 'morn': 2957, 'fetch': 1734, 'mario': 2782, 'highest': 2157, 'roll': 3781, 'knee': 2539, 'rap': 3585, 'rope': 3796, 'hood': 2198, 'funnier': 1892, '1981': 37, 'youth': 4992, 'beard': 459, 'asian': 332, 'elvi': 1508, 'seller': 3933, 'sat': 3858, 'pink': 3334, 'muppet': 2984, 'conceiv': 991, 'flop': 1794, 'blew': 546, '1983': 38, 'ahead': 182, 'rick': 3744, 'warrior': 4840, 'witch': 4927, 'obtain': 3125, 'possess': 3401, 'luckili': 2721, 'chest': 833, 'candi': 718, 'batman': 451, 'knock': 2544, '35': 76, 'joker': 2470, 'freez': 1862, 'alfr': 204, 'corni': 1066, 'miik': 2876, 'divorc': 1363, 'rider': 3748, 'meanwhil': 2827, 'boot': 581, 'item': 2415, 'tokyo': 4535, 'isol': 2409, 'christoph': 863, 'leo': 2627, 'jeremi': 2445, 'devast': 1288, 'youngest': 4991, '12': 7, 'convers': 1047, 'boil': 568, 'sincer': 4052, 'tip': 4524, 'hal': 2071, 'hartley': 2106, 'styliz': 4313, 'ironi': 2403, 'bitter': 528, 'luci': 2717, 'traumat': 4591, 'detract': 1287, 'pseudo': 3513, 'attach': 360, 'psycho': 3517, 'proce': 3472, 'angst': 261, 'lucki': 2720, 'uk': 4647, 'mad': 2741, 'sheriff': 3994, 'presum': 3442, 'traci': 4568, 'pacino': 3211, 'discuss': 1335, 'beatti': 464, 'hoffman': 2176, 'eccentr': 1466, 'dicken': 1301, '1984': 39, 'halloween': 2075, 'scroog': 3902, 'bob': 564, 'closer': 914, 'godzilla': 1979, 'turtl': 4632, 'shadow': 3972, 'samurai': 3849, 'saga': 3838, 'flame': 1775, 'teeth': 4447, 'shell': 3991, 'feet': 1722, 'nuclear': 3107, 'awaken': 390, 'rampag': 3575, 'psychic': 3516, 'jewish': 2454, 'z': 4993, 'pole': 3377, 'fest': 1732, 'lewi': 2639, 'swallow': 4384, 'wolf': 4933, 'grey': 2031, 'spread': 4206, 'claustrophob': 892, 'afford': 167, '100': 5, 'rot': 3801, 'countrysid': 1081, 'lion': 2666, 'preserv': 3437, 'simultan': 4048, 'relief': 3665, 'oppos': 3164, 'divin': 1362, 'inferior': 2332, 'unless': 4697, 'campi': 713, 'hopelessli': 2204, 'mar': 2774, 'heroin': 2148, 'cure': 1144, 'instrument': 2367, 'contemporari': 1031, 'jazz': 2437, 'sole': 4125, 'complaint': 977, 'carmen': 747, 'scandal': 3868, 'bird': 521, 'hammer': 2080, 'shi': 3995, 'nostalg': 3093, 'oliv': 3151, 'blue': 557, 'shirley': 4000, 'concert': 995, '1972': 29, 'illeg': 2269, 'motorcycl': 2965, 'crawl': 1100, 'reput': 3695, '18': 14, 'june': 2490, 'princess': 3461, 'pg': 3307, 'cabin': 695, 'mountain': 2967, 'juli': 2486, 'greg': 2028, 'nearbi': 3022, 'startl': 4234, 'cell': 779, 'distant': 1351, 'neighbor': 3034, 'alcohol': 198, 'conduct': 1000, 'plight': 3360, 'properli': 3498, 'embrac': 1513, 'constant': 1023, 'detach': 1283, 'grab': 2001, 'string': 4290, 'uncov': 4660, 'defend': 1229, 'plagu': 3343, 'mission': 2912, 'celluloid': 780, 'astonish': 351, 'fatal': 1705, 'khan': 2521, 'proper': 3497, 'unrealist': 4705, 'kapoor': 2501, 'heel': 2132, 'spiral': 4187, 'exposit': 1648, 'unbear': 4655, 'web': 4864, 'charg': 812, 'upset': 4718, 'franki': 1853, 'satan': 3859, 'jesu': 2450, 'asham': 330, 'disagre': 1325, 'carel': 739, 'burn': 678, 'newspap': 3057, 'restrain': 3714, 'broad': 640, 'incident': 2304, 'ish': 2407, 'molli': 2933, 'aussi': 375, 'exposur': 1649, 'owner': 3206, 'dump': 1435, 'regret': 3648, 'muslim': 2992, 'honestli': 2195, 'equip': 1568, 'underground': 4664, 'experiment': 1638, 'crook': 1124, 'polanski': 3376, 'tenant': 4454, 'drove': 1419, 'frighten': 1872, 'terror': 4467, 'terri': 4462, 'gilliam': 1952, 'bruce': 653, 'willi': 4911, 'pitt': 3340, 'twelv': 4634, 'convincingli': 1052, 'trilog': 4609, 'mel': 2837, 'brook': 647, 'wing': 4918, 'stare': 4230, 'stoog': 4268, 'mexican': 2863, 'rita': 3757, 'bell': 483, 'moe': 2931, 'howard': 2225, 'curli': 1147, 'counterpart': 1078, 'gag': 1905, 'endear': 1532, 'settl': 3962, '25': 70, 'rob': 3766, 'al': 191, 'larri': 2579, '2nd': 72, 'editor': 1476, 'choke': 848, 'randomli': 3580, 'horrid': 2210, 'inan': 2301, 'watcher': 4846, 'unwatch': 4712, 'spite': 4191, 'tacki': 4404, 'drunk': 1423, 'silent': 4036, 'buster': 686, 'st': 4212, '1995': 49, 'paid': 3216, 'afterward': 173, 'outcom': 3183, 'observ': 3122, 'fed': 1719, 'spoke': 4198, 'ethan': 1587, 'improvis': 2297, 'bravo': 613, 'accus': 128, 'spi': 4178, 'bedroom': 469, 'teas': 4437, 'driven': 1415, 'network': 3047, 'cancel': 716, 'midnight': 2873, 'showcas': 4017, 'billi': 518, 'zane': 4994, 'sean': 3906, 'jare': 2433, 'hunt': 2244, 'gate': 1921, 'cher': 831, 'nichola': 3060, 'cage': 697, 'firstli': 1765, 'cring': 1118, 'acquaint': 133, 'frankli': 1854, 'prime': 3458, 'exot': 1631, 'phoni': 3317, 'borrow': 587, 'cb': 775, 'pioneer': 3335, 'spice': 4179, 'format': 1829, 'versu': 4764, 'program': 3485, 'cup': 1143, 'tea': 4432, 'drip': 1412, 'label': 2561, 'beverli': 504, 'bradi': 606, 'buzz': 692, 'stood': 4267, 'ticket': 4511, 'playboy': 3353, 'incompet': 2308, 'quarter': 3544, 'stinker': 4260, '1977': 33, 'virginia': 4790, 'tech': 4438, 'enthral': 1556, 'hat': 2108, 'rubi': 3814, 'eleg': 1495, 'sensit': 3942, 'el': 1489, 'flip': 1789, 'saturday': 3862, 'brosnan': 649, 'scottish': 3893, 'kick': 2522, 'nowaday': 3104, 'viru': 4793, 'disabl': 1324, 'equival': 1569, 'click': 900, 'disjoint': 1341, 'corps': 1068, 'incomprehens': 2309, 'destin': 1279, 'sake': 3842, 'uninterest': 4690, 'k': 2498, 'septemb': 3949, 'montag': 2943, 'stiller': 4256, 'owen': 3204, 'clip': 910, 'correct': 1069, 'seagal': 3904, 'audio': 371, 'own': 3205, '1968': 25, 'anthoni': 273, 'aristocrat': 311, 'revolut': 3733, 'ace': 129, 'mitch': 2916, 'repetit': 3685, 'paramount': 3237, 'wont': 4937, 'crucial': 1129, 'alan': 193, 'bate': 448, 'canadian': 715, 'rehash': 3650, 'sun': 4347, 'dynam': 1445, 'winchest': 4915, '73': 89, 'rifl': 3750, 'hudson': 2229, 'stewart': 4252, 'cope': 1059, 'julia': 2487, 'persona': 3298, 'unsatisfi': 4707, 'flawless': 1782, 'downey': 1389, 'jr': 2480, 'fallen': 1681, 'duval': 1441, '1940': 21, 'miscast': 2904, 'casino': 758, 'defens': 1230, 'chip': 846, 'shoulder': 4013, 'chew': 834, 'er': 1570, 'hip': 2165, 'lifestyl': 2648, 'consciou': 1015, 'jade': 2422, 'gambl': 1909, 'prequel': 3434, 'misguid': 2908, 'twin': 4638, 'imit': 2278, 'disbelief': 1330, 'toy': 4566, 'nostalgia': 3094, '19': 15, 'antonioni': 279, 'itali': 2413, 'sweep': 4388, 'sixti': 4067, 'bound': 595, 'paus': 3271, 'lesser': 2633, 'broke': 643, 'bsg': 656, 'stargat': 4231, 'atlanti': 356, 'spain': 4160, 'advic': 161, 'meander': 2823, 'taylor': 4431, 'roman': 3783, 'declin': 1218, 'jess': 2448, 'franco': 1850, 'egg': 1483, 'aliv': 210, 'survivor': 4375, 'coach': 925, 'walter': 4825, 'eva': 1593, 'trashi': 4589, 'poe': 3365, 'damag': 1167, 'melt': 2842, 'struck': 4298, 'trick': 4606, 'hyde': 2249, 'impli': 2288, 'che': 822, 'skip': 4073, 'enemi': 1535, 'overlook': 3200, 'key': 2520, 'primit': 3459, 'hyster': 2252, 'factori': 1669, 'archiv': 304, 'vader': 4734, 'preach': 3418, 'tool': 4548, 'wield': 4904, 'uniform': 4685, 'eighti': 1486, 'radic': 3564, 'reed': 3637, 'ham': 2077, 'mobster': 2923, 'elimin': 1501, 'rub': 3811, 'valentin': 4737, 'armstrong': 314, 'madonna': 2743, 'sooner': 4141, 'judi': 2484, 'andrew': 255, 'off': 3136, 'carol': 748, 'secondari': 3911, 'lighter': 2652, '3000': 75, 'bollywood': 571, 'prejudic': 3428, 'sloppi': 4096, 'moor': 2951, 'seal': 3905, 'beg': 472, 'happili': 2092, 'meaning': 2824, 'healthi': 2119, 'unawar': 4654, 'bye': 693, 'court': 1086, 'floor': 1793, 'clue': 921, 'sandler': 3852, 'cruis': 1133, 'passeng': 3256, 'proof': 3494, 'stale': 4219, 'arthur': 323, 'roy': 3809, 'cassidi': 761, '1969': 26, 'innov': 2350, 'transit': 4583, 'replac': 3686, 'camcord': 705, 'emphas': 1520, 'dirt': 1322, 'rout': 3806, '1933': 18, 'forth': 1832, 'dismal': 1343, '1973': 30, 'region': 3646, 'discern': 1332, 'downright': 1391, 'repuls': 3694, 'lauren': 2592, 'sitcom': 4063, 'h': 2063, 'korean': 2550, 'carpent': 749, 'jami': 2427, 'curti': 1151, 'cross': 1125, 'relentless': 3661, 'psychopath': 3519, 'myer': 2997, 'fifteen': 1741, 'packag': 3213, 'moodi': 2949, 'maniac': 2767, 'bump': 674, 'eas': 1456, 'pet': 3303, 'modesti': 2930, 'travesti': 4593, 'option': 3167, '22': 68, 'fuller': 1884, 'resist': 3702, 'sky': 4076, 'roof': 3790, 'mine': 2892, 'pal': 3221, 'subplot': 4318, 'ian': 2253, 'griffith': 2033, 'prevent': 3447, 'abound': 104, 'racist': 3562, 'hulk': 2234, 'capot': 730, 'princip': 3462, 'blake': 535, 'punish': 3527, 'superbl': 4354, 'schlock': 3880, 'analysi': 248, 'ration': 3593, 'coaster': 927, 'drink': 1411, 'foil': 1804, 'adopt': 154, 'sucker': 4330, 'ami': 241, 'buff': 664, 'historian': 2170, 'captain': 731, 'tens': 4458, 'realis': 3607, 'speech': 4173, 'percept': 3287, 'revolv': 3735, 'ingeni': 2337, 'drone': 1417, 'nanci': 3007, 'disastr': 1329, 'parad': 3234, 'pile': 3331, 'colin': 936, 'farrel': 1697, 'fairi': 1675, 'freak': 1856, 'choppi': 851, 'cash': 757, '000': 2, 'bumbl': 673, 'idiot': 2262, 'preston': 3441, 'advantag': 158, 'eleven': 1499, '17': 13, 'romp': 3788, 'slide': 4090, 'provok': 3512, 'blade': 532, 'suitabl': 4341, 'unsettl': 4709, 'synopsi': 4399, 'link': 2665, 'www': 4974, 'uplift': 4715, 'anger': 258, 'invas': 2391, 'southern': 4154, 'jeff': 2441, 'ariel': 309, 'diari': 1299, 'ah': 181, 'fx': 1899, 'static': 4237, 'fifti': 1743, 'tyler': 4641, 'altman': 226, 'franci': 1848, 'ford': 1818, 'scorses': 3890, 'ash': 329, 'cagney': 698, 'conscious': 1016, 'preced': 3420, 'notabl': 3095, 'rod': 3778, 'antholog': 272, 'logan': 2685, 'crisi': 1120, 'stanley': 4227, 'lit': 2671, 'carl': 743, 'sneak': 4113, 'oddli': 3135, 'ambigu': 236, 'dilemma': 1310, 'randolph': 3578, 'compens': 973, 'berlin': 495, 'basket': 444, 'tap': 4419, 'gadget': 1904, '1989': 44, 'unsuspect': 4710, 'lawyer': 2597, 'firm': 1762, 'deceas': 1212, 'client': 901, 'funer': 1890, 'minist': 2897, 'occupi': 3131, 'assist': 345, 'outer': 3185, 'hollow': 2183, 'cruelti': 1132, 'darker': 1184, 'canada': 714, 'attenborough': 363, 'kurt': 2556, 'russel': 3824, 'cameron': 709, 'crow': 1126, 'distinguish': 1353, 'taxi': 4430, 'blair': 534, 'boyfriend': 603, 'doll': 1370, 'bread': 615, 'fright': 1871, 'loyal': 2714, 'campbel': 712, 'dame': 1168, 'inappropri': 2302, 'treasur': 4594, 'patienc': 3262, 'restor': 3713, 'mighti': 2875, 'reviv': 3731, 'rapidli': 3587, 'garbo': 1916, 'swedish': 4387, 'en': 1526, 'gestur': 1943, 'asset': 343, 'foolish': 1812, 'adequ': 149, 'martha': 2790, 'daniel': 1179, 'span': 4161, 'choreographi': 853, 'liu': 2676, 'skull': 4075, 'pin': 3333, 'garner': 1919, 'harrison': 2103, 'tank': 4418, 'glimps': 1967, 'unforgett': 4681, 'todd': 4530, 'sheet': 3989, 'spoof': 4201, 'nuanc': 3106, 'soup': 4151, 'brush': 654, 'undead': 4662, 'marin': 2781, 'bastard': 446, 'forti': 1833, 'length': 2625, 'tax': 4429, 'palanc': 3223, 'comedian': 955, 'reaction': 3602, 'shift': 3997, 'habit': 2065, 'sugar': 4337, 'grandmoth': 2010, 'virgin': 4789, 'matt': 2808, 'shelley': 3992, 'dictat': 1302, 'tourist': 4562, 'lavish': 2594, 'technicolor': 4440, 'spectacl': 4171, 'braveheart': 612, 'oppress': 3166, 'impos': 2292, 'undeni': 4663, 'lang': 2575, 'wardrob': 4833, 'tim': 4517, 'cox': 1091, 'calm': 704, 'mock': 2924, 'scotland': 3891, 'visitor': 4797, 'perman': 3294, 'heartfelt': 2125, 'luxuri': 2733, 'businessman': 684, 'philip': 3312, 'museum': 2989, 'ocean': 3133, 'sea': 3903, 'triangl': 4603, 'suppli': 4360, 'stark': 4232, 'worker': 4945, 'interior': 2379, 'pride': 3454, 'alright': 221, 'lemmon': 2622, 'orient': 3172, '1979': 35, 'ladder': 2565, 'femm': 1730, 'belli': 484, 'toilet': 4533, 'poker': 3375, 'critiqu': 1122, 'bargain': 432, 'rude': 3815, 'cant': 724, 'chuckl': 866, 'bless': 545, 'puppi': 3530, 'btw': 657, 'wilder': 4908, 'insipid': 2355, 'resourc': 3707, 'profan': 3478, 'victor': 4773, 'mclaglen': 2819, 'nolan': 3079, 'betray': 500, 'beatl': 463, 'overact': 3194, 'turner': 4631, 'tour': 4561, '1939': 20, 'legal': 2617, 'horn': 2207, 'stylish': 4312, 'birthday': 523, 'grate': 2014, 'cuba': 1136, 'tower': 4564, 'gentl': 1935, 'outing': 3187, 'shark': 3982, 'passabl': 3254, 'beneath': 491, 'varieti': 4750, 'sleazi': 4085, 'outfit': 3186, 'vanc': 4744, 'eugen': 1589, 'helen': 2136, 'talki': 4415, 'luka': 2725, 'illog': 2270, 'sentinel': 3947, 'graini': 2007, 'alison': 209, 'angel': 256, 'goldblum': 1984, 'guard': 2050, 'snl': 4115, 'newman': 3055, 'fart': 1698, 'juvenil': 2497, 'tube': 4625, 'fri': 1866, 'grasp': 2013, 'absenc': 107, 'oper': 3159, 'cheat': 824, 'abrupt': 106, 'mansion': 2772, 'backdrop': 406, 'relev': 3662, 'plod': 3361, 'notion': 3100, 'safeti': 3837, 'biographi': 520, 'map': 2773, 'prostitut': 3504, 'mildr': 2880, 'dish': 1340, 'venom': 4758, 'astound': 352, 'nolt': 3080, 'taught': 4428, 'suprem': 4364, 'bat': 447, 'excess': 1620, 'henc': 2143, 'spark': 4164, 'coup': 1082, 'franc': 1846, 'coloni': 944, 'peer': 3279, 'cynic': 1159, 'pronounc': 3493, 'geni': 1932, 'spider': 4180, 'bow': 597, 'airplan': 186, 'remad': 3669, 'dig': 1307, 'barrel': 434, 'werewolf': 4876, 'coat': 928, 'wed': 4866, 'silver': 4038, 'immigr': 2283, '1920': 16, 'pervers': 3301, 'akin': 189, 'contempl': 1030, 'latin': 2584, 'omen': 3154, 'mafia': 2744, 'thief': 4482, 'diamond': 1296, 'heist': 2134, 'tommi': 4540, 'dose': 1384, 'deed': 1222, 'gear': 1925, 'press': 3439, 'disc': 1331, 'trait': 4579, 'scientist': 3885, 'decapit': 1211, 'crippl': 1119, 'closet': 916, 'uncut': 4661, 'abc': 98, 'carter': 753, 'rat': 3590, 'spree': 4207, 'bag': 414, 'urg': 4720, 'da': 1161, 'correctli': 1070, 'surf': 4366, 'doc': 1365, 'measur': 2828, 'agenc': 175, 'insur': 2369, 'employe': 1524, 'basing': 443, 'del': 1236, '1976': 32, 'fragil': 1844, 'apolog': 289, 'judgment': 2483, 'prom': 3489, 'april': 301, 'overdon': 3197, 'tag': 4408, 'prop': 3495, 'edgi': 1473, 'slash': 4080, 'id': 2256, 'price': 3452, 'benefit': 492, 'vulner': 4811, 'goofi': 1991, 'preachi': 3419, 'frog': 1873, 'repeatedli': 3684, 'athlet': 355, 'wholli': 4895, 'assert': 342, 'resurrect': 3718, 'butcher': 687, 'charlton': 818, 'heston': 2150, 'atroc': 358, 'charl': 815, 'lester': 2635, 'recognit': 3623, 'argument': 308, 'mystic': 2999, 'interpret': 2382, 'evolut': 1610, 'compass': 971, 'taboo': 4402, 'sore': 4144, 'religi': 3666, 'mutual': 2996, 'bin': 519, 'cia': 868, 'henri': 2144, 'fonda': 1808, 'cain': 699, 'skit': 4074, 'pregnant': 3427, 'strain': 4277, 'circu': 876, 'robinson': 3772, 'inhabit': 2340, 'behold': 479, 'california': 702, 'brown': 652, 'colleagu': 939, 'fulfil': 1882, 'dwarf': 1443, 'servant': 3958, 'leather': 2609, 'explod': 1643, 'randi': 3577, 'fulci': 1881, 'awak': 389, 'hooker': 2200, 'idol': 2263, 'acquir': 134, 'meyer': 2865, 'stallon': 4222, 'reserv': 3700, 'snow': 4116, 'storm': 4272, 'robber': 3767, 'retriev': 3722, 'environ': 1563, 'valley': 4739, 'forest': 1820, 'econom': 1468, 'punk': 3528, 'breath': 620, 'bitch': 525, 'elabor': 1490, 'elm': 1505, 'cyborg': 1157, 'splatter': 4192, 'fever': 1735, 'pitch': 3338, 'sox': 4156, 'sport': 4203, 'greedi': 2024, 'swing': 4392, 'laurel': 2591, 'baldwin': 420, 'sleepwalk': 4087, 'deliveri': 1244, 'bash': 440, 'implaus': 2287, 'fog': 1803, 'encourag': 1530, 'meryl': 2854, 'streep': 4282, 'selfish': 3931, 'deliber': 1238, 'godfath': 1978, 'constitut': 1025, 'ran': 3576, 'centr': 785, 'monk': 2938, 'built': 668, 'steel': 4244, 'repli': 3688, 'dust': 1438, 'belushi': 488, 'stuart': 4301, 'attorney': 367, 'bath': 449, 'yawn': 4978, 'flair': 1774, 'boyl': 604, 'widow': 4903, 'ann': 263, 'reid': 3652, 'craig': 1094, 'compromis': 987, 'inject': 2344, 'alarm': 194, 'albeit': 195, 'phrase': 3321, 'fluff': 1798, '21st': 67, 'hack': 2066, 'chees': 828, 'falk': 1679, 'hank': 2088, 'murray': 2987, 'guid': 2053, 'collector': 941, 'interrupt': 2383, 'andi': 253, '1978': 34, 'phantom': 3308, 'norm': 3087, 'pound': 3408, 'loser': 2699, 'blah': 533, 'turd': 4628, 'bounc': 594, 'rhythm': 3740, 'antonio': 278, '2008': 65, 'goof': 1990, 'shield': 3996, 'lisa': 2668, 'kidnap': 2526, 'caught': 772, 'jacket': 2419, 'clinic': 908, 'mexico': 2864, 'margaret': 2777, 'toronto': 4555, 'myth': 3000, 'nerd': 3043, 'geek': 1926, 'worship': 4951, 'awhil': 396, 'scientif': 3884, 'london': 2689, 'darren': 1186, 'mum': 2981, 'legitim': 2620, 'frontier': 1876, 'solv': 4129, 'ebert': 1465, 'info': 2335, 'spinal': 4185, 'album': 197, 'reduc': 3635, 'caricatur': 742, 'spontan': 4200, 'hop': 2201, 'biker': 514, 'bike': 513, 'ireland': 2400, 'decis': 1216, 'crocodil': 1123, 'rooney': 3794, 'foul': 1838, 'smell': 4105, 'baker': 417, 'conneri': 1010, 'boredom': 584, 'slam': 4077, 'stack': 4214, 'complain': 976, 'cemeteri': 781, 'sunshin': 4351, 'glow': 1974, 'mason': 2797, 'miller': 2885, 'iv': 2416, 'mummi': 2982, 'basement': 439, 'fund': 1888, 'cigarett': 869, 'throat': 4501, 'graduat': 2005, 'comb': 949, 'rocki': 3777, 'montana': 2944, 'painter': 3219, 'albert': 196, 'norman': 3089, 'reign': 3653, 'brillianc': 632, 'pocket': 3364, 'susan': 4376, 'prank': 3415, 'aveng': 384, 'ned': 3029, 'nineti': 3071, 'ambiti': 238, 'atroci': 359, 'tactic': 4406, 'rapist': 3588, 'gori': 1995, 'wtf': 4971, 'neatli': 3025, 'conspiraci': 1022, 'theori': 4479, 'tunnel': 4627, 'ron': 3789, 'grinch': 2036, 'lou': 2703, 'carrey': 751, 'heap': 2120, 'carey': 740, 'metal': 2860, 'perceiv': 3286, 'convert': 1048, 'gloriou': 1972, 'pattern': 3267, 'photo': 3318, 'bake': 416, 'reson': 3705, 'risk': 3756, 'loretta': 2697, 'victori': 4774, 'restaur': 3712, 'cinderella': 870, 'christi': 859, 'vaniti': 4747, 'curtain': 1150, 'donna': 1378, '2004': 61, '1991': 46, '2002': 59, 'rumor': 3819, 'repris': 3693, 'calib': 701, 'characterist': 811, 'buri': 677, 'recit': 3620, 'belt': 487, 'scar': 3869, 'stress': 4286, 'immatur': 2279, 'rhyme': 3739, 'unorigin': 4700, 'worm': 4947, 'loneli': 2691, 'niro': 3073, 'nightclub': 3067, 'deriv': 1265, 'wanna': 4828, 'homag': 2187, 'tarantino': 4422, 'furthermor': 1896, 'pen': 3280, 'characteris': 810, 'arguabl': 307, 'amateur': 231, 'horrifi': 2212, 'slight': 4091, 'sh': 3970, 'olli': 3153, 'milk': 2883, 'bacon': 409, 'anderson': 252, 'colonel': 943, 'neill': 3037, 'renaiss': 3678, 'galaxi': 1908, 'jackson': 2421, 'yeti': 4987, 'tame': 4417, 'improb': 2295, 'toss': 4557, 'verhoeven': 4762, 'gerard': 1939, 'lure': 2729, 'christin': 861, 'sicken': 4025, 'hitchcock': 2172, 'wive': 4931, '1999': 52, 'akshay': 190, 'kumar': 2553, 'amitabh': 242, 'hilar': 2161, 'roller': 3782, '99': 96, '16': 12, 'virtu': 4791, 'inher': 2341, 'breed': 622, 'speci': 4168, 'diseas': 1336, 'sirk': 4059, 'chicago': 835, 'ambit': 237, 'hostil': 2218, 'wave': 4849, 'stimul': 4258, 'weather': 4862, 'joel': 2463, 'agenda': 176, 'jay': 2436, 'bridget': 628, 'http': 2228, 'sustain': 4382, 'dylan': 1444, 'leigh': 2621, 'eastern': 1461, 'hung': 2242, 'decept': 1214, 'furiou': 1895, 'showdown': 4018, 'coher': 932, 'kitchen': 2536, 'brando': 610, 'contempt': 1032, 'electron': 1494, 'substanc': 4320, 'misfortun': 2907, 'cathol': 770, 'beaten': 462, 'shaki': 3975, 'scariest': 3874, 'enforc': 1538, 'timothi': 4522, 'nope': 3086, 'bourn': 596, 'damon': 1171, 'angela': 257, 'paula': 3269, 'neurot': 3048, 'endur': 1534, 'sympathi': 4398, 'deem': 1223, 'clan': 884, 'amor': 245, 'torn': 4554, 'knife': 2541, 'gillian': 1953, 'orson': 3176, 'shanghai': 3979, 'lab': 2560, 'literari': 2673, 'wrestl': 4963, 'palma': 3226, 'widescreen': 4901, 'policeman': 3379, 'pot': 3405, 'naughti': 3018, 'legaci': 2616, 'rome': 3786, 'unknown': 4695, 'bust': 685, 'lean': 2605, 'deaf': 1200, 'bias': 507, 'offend': 3137, 'cliffhang': 903, 'nerv': 3044, 'faster': 1703, 'rambo': 3573, 'perpetu': 3295, 'poison': 3372, 'robbin': 3769, 'financ': 1754, 'salman': 3845, 'jo': 2458, 'clara': 885, 'scarecrow': 3871, 'stolen': 4264, 'spill': 4183, 'pale': 3224, 'blob': 548, 'mcqueen': 2820, 'aborigin': 102, 'bay': 453, 'uwe': 4731, 'boll': 570, 'disgrac': 1337, 'spike': 4182, 'sleaz': 4084, 'neighborhood': 3035, 'undermin': 4666, 'imperson': 2286, 'ritchi': 3758, 'alex': 201, 'east': 1460, 'durat': 1437, 'verg': 4761, 'labor': 2562, 'casper': 759, 'boo': 577, 'tonight': 4546, 'vincent': 4786, 'hopeless': 2203, 'rubber': 3812, 'acid': 131, 'blur': 559, 'leon': 2628, 'weight': 4869, 'bullet': 671, '75': 90, 'palac': 3222, 'traffic': 4573, '1993': 47, 'alicia': 206, 'princ': 3460, 'dire': 1317, 'nathan': 3014, 'justin': 2496, 'chaplin': 806, 'inabl': 2298, 'mundan': 2983, 'sibl': 4023, 'dysfunct': 1446, 'roommat': 3793, 'karl': 2503, 'goer': 1981, 'fay': 1713, '1986': 41, 'ho': 2175, 'candl': 720, 'tad': 4407, 'stir': 4261, 'bent': 493, 'kingdom': 2533, 'barn': 433, 'hapless': 2089, 'victoria': 4775, 'persuad': 3300, 'screw': 3899, 'bug': 666, 'pixar': 3341, 'evolv': 1611, 'ant': 270, 'expand': 1632, 'numer': 3112, 'tooth': 4549, 'trivia': 4616, 'min': 2889, 'conrad': 1013, 'magician': 2748, 'macabr': 2736, 'morri': 2959, 'vibrant': 4769, 'resum': 3717, 'wealthi': 4858, 'nicol': 3063, 'marlon': 2786, 'niec': 3065, 'miniseri': 2896, 'eyr': 1660, 'dalton': 1166, 'rochest': 3774, 'beer': 470, 'lili': 2656, 'judd': 2481, 'artwork': 328, 'laura': 2590, 'unfair': 4679, 'vile': 4783, 'fuel': 1880, 'bubbl': 659, 'wrap': 4960, 'cooper': 1057, 'leonard': 2629, 'fascist': 1700, 'housewif': 2224, 'gabriel': 1903, 'contrari': 1039, 'glorifi': 1971, 'rambl': 3572, 'ol': 3147, 'slimi': 4094, 'wrestler': 4964, 'articl': 324, 'vet': 4765, 'ghetto': 1945, 'march': 2776, 'standout': 4226, 'penni': 3282, 'johnson': 2467, 'corman': 1063, 'subtli': 4325, 'modest': 2929, 'karloff': 2504, 'bori': 585, 'rukh': 3817, 'demonstr': 1250, 'felix': 1723, 'drake': 1398, 'guest': 2052, 'expedit': 1634, 'diana': 1298, 'secretli': 3915, 'heal': 2117, 'collabor': 937, 'refresh': 3642, 'farc': 1693, 'acknowledg': 132, 'cypher': 1160, 'dispos': 1348, 'natali': 3013, 'dont': 1379, 'mann': 2770, 'cuban': 1137, 'despic': 1276, 'soderbergh': 4121, 'revolt': 3732, 'compris': 986, 'chamberlain': 798, 'cg': 792, 'basebal': 438, 'empir': 1522, 'porter': 3394, 'millionair': 2887, 'pant': 3231, 'lucil': 2718, 'betti': 503, 'francisco': 1849, 'inherit': 2342, 'toe': 4531, 'trademark': 4571, 'hackney': 2068, 'gray': 2017, 'royal': 3810, 'nina': 3069, 'superhero': 4356, 'fundament': 1889, 'shepherd': 3993, 'basketbal': 445, 'viewpoint': 4781, 'cream': 1103, 'watson': 4848, 'chess': 832, 'barri': 435, 'bitten': 527, 'comprehens': 985, 'biko': 516, 'unexplain': 4678, 'proport': 3502, 'rid': 3745, 'dentist': 1254, 'gimmick': 1954, 'mobil': 2922, 'dreari': 1405, 'vomit': 4805, 'retard': 3720, 'shatter': 3985, 'spielberg': 4181, 'temper': 4450, 'outlin': 3189, 'rooki': 3791, 'quaid': 3541, 'rendit': 3680, 'widmark': 4902, 'ritter': 3759, 'monoton': 2941, 'overlong': 3199, 'irrelev': 2404, 'conan': 990, 'graham': 2006, 'sue': 4333, 'jedi': 2440, 'tripl': 4613, 'kazan': 2508, 'predat': 3423, 'orlean': 3174, 'lengthi': 2626, 'scenario': 3875, 'melissa': 2838, 'hart': 2105, 'sabrina': 3830, 'zizek': 4996, 'bro': 639, 'attribut': 369, 'novak': 3102, 'kyle': 2557, 'pervert': 3302, 'useless': 4724, 'embark': 1511, 'austin': 377, 'cape': 728, 'wipe': 4921, 'breakfast': 618, 'brit': 636, 'margin': 2778, 'sparkl': 4165, 'mute': 2995, 'evan': 1594, 'derang': 1263, 'meal': 2821, 'boxer': 600, 'dixon': 1364, 'sidewalk': 4029, 'poster': 3404, 'shove': 4015, 'repress': 3692, 'owe': 3203, 'arrog': 320, 'oblig': 3118, 'what': 4882, 'sadist': 3834, 'emperor': 1519, 'damm': 1169, 'champion': 799, 'potter': 3407, 'stalker': 4221, 'sand': 3851, 'visibl': 4794, 'catchi': 767, 'intric': 2386, 'salt': 3846, 'fontain': 1809, 'abraham': 105, 'tribut': 4605, 'chop': 850, 'lincoln': 2658, 'flynn': 1800, 'duti': 1440, '1971': 28, 'salli': 3844, 'dreck': 1406, 'palm': 3225, 'louis': 2706, 'hello': 2139, 'nervou': 3045, 'shred': 4021, 'arc': 303, 'grief': 2032, 'feat': 1717, 'rotten': 3803, 'blackmail': 531, 'porno': 3393, 'uh': 4646, 'pour': 3409, 'bonu': 576, 'simplic': 4045, 'victorian': 4776, 'spade': 4159, 'keen': 2510, 'util': 4728, 'scoop': 3887, 'ellen': 1504, 'huh': 2233, 'farm': 1695, 'seedi': 3922, 'cooki': 1055, 'retain': 3719, 'pauli': 3270, 'bett': 501, 'corbett': 1061, 'errol': 1574, 'sidney': 4030, 'cannon': 722, 'pokemon': 3374, 'ramon': 3574, 'jew': 2452, 'staff': 4215, 'ustinov': 4726, 'nod': 3076, 'bunni': 676, 'seed': 3921, 'infect': 2331, 'feminist': 1729, 'mermaid': 2853, 'mesmer': 2855, 'gundam': 2059, 'slug': 4099, 'lesli': 2631, 'harmless': 2100, 'olivi': 3152, 'restrict': 3715, 'trauma': 4590, 'lumet': 2727, 'exhaust': 1627, 'succe': 4326, 'pacif': 3210, 'monti': 2946, 'li': 2641, 'soccer': 4118, 'iran': 2398, 'schedul': 3878, 'hallucin': 2076, 'psychot': 3520, 'whack': 4880, 'goldsworthi': 1986, 'strongest': 4296, 'alvin': 228, 'hackman': 2067, 'macho': 2739, 'hamlet': 2079, 'julian': 2488, 'implic': 2289, 'recognis': 3622, 'down': 1388, 'chavez': 821, 'elit': 1502, 'newer': 3053, 'lifeless': 2647, 'dracula': 1394, 'stole': 4263, 'institut': 2365, 'disord': 1346, 'facil': 1666, 'matthau': 2810, 'cattl': 771, 'kirk': 2534, 'springer': 4209, 'marc': 2775, 'gina': 1955, 'sniper': 4114, 'phenomen': 3309, 'couch': 1074, 'zoom': 4999, 'esther': 1582, 'malon': 2762, 'cousin': 1087, 'elizabeth': 1503, 'wisdom': 4923, 'marti': 2791, 'frantic': 1855, 'monument': 2947, 'dorothi': 1383, 'hara': 2093, 'q': 3540, 'unpredict': 4702, 'underneath': 4667, 'shortcom': 4009, 'mortal': 2960, 'muscl': 2988, 'kent': 2517, 'wore': 4943, 'carla': 744, 'newli': 3054, 'vastli': 4753, 'buffalo': 665, 'maci': 2740, 'slightest': 4092, 'frontal': 1875, 'inmat': 2347, 'profess': 3479, 'scarfac': 3872, 'conscienc': 1014, 'psych': 3514, 'pickford': 3325, 'ross': 3800, 'joey': 2464, 'foxx': 1843, 'enterpris': 1554, 'absent': 108, 'jill': 2455, 'axe': 398, 'rosario': 3797, 'dawson': 1194, 'kurosawa': 2555, 'mol': 2932, 'summar': 4344, 'recogniz': 3624, 'globe': 1969, 'smack': 4100, 'milo': 2888, 'bacal': 402, 'bergman': 494, 'barrymor': 436, 'keith': 2512, 'gasp': 1920, 'signal': 4033, 'propheci': 3500, 'helm': 2140, 'crawford': 1099, 'nun': 3113, 'spray': 4205, 'tomorrow': 4541, 'peril': 3292, 'publish': 3522, 'pulp': 3524, 'clone': 912, 'vanessa': 4745, 'roar': 3765, 'hopkin': 2205, 'uma': 4650, '1996': 50, 'household': 2223, 'sid': 4026, 'bronson': 645, 'countless': 1079, 'dandi': 1176, 'anton': 277, 'carlito': 745, 'climat': 905, 'ratso': 3594, 'pete': 3304, 'mode': 2925, 'unseen': 4708, 'truman': 4622, 'marion': 2783, 'huston': 2248, 'cecil': 777, 'prey': 3451, 'holocaust': 2186, 'redund': 3636, 'hain': 2069, 'preming': 3430, 'patricia': 3264, 'lindsay': 2660, 'hostag': 2217, 'streisand': 4284, 'wendi': 4873, 'grotesqu': 2041, 'dolph': 1372, 'lundgren': 2728, 'greet': 2027, 'wwe': 4972, 'championship': 800, 'sandra': 3853, 'clad': 881, 'linger': 2664, 'flock': 1792, 'wealth': 4857, 'sergeant': 3952, 'entitl': 1560, 'shaw': 3986, 'filth': 1752, 'kolchak': 2548, 'frankenstein': 1852, 'linda': 2659, 'tripe': 4612, 'cush': 1153, 'ingrid': 2339, 'fido': 1739, 'gunga': 2060, 'din': 1314, 'macarthur': 2737, 'shorter': 4010, 'scoobi': 3886, 'doo': 1380, 'net': 3046, 'burton': 681, 'connor': 1011, 'nemesi': 3040, 'mathieu': 2806, 'dim': 1311, '1988': 43, 'kidman': 2525, 'paxton': 3272, 'kitti': 2537, 'replay': 3687, 'wax': 4850, 'stair': 4217, 'cartoonish': 755, 'mccoy': 2818, 'cap': 726, 'antagonist': 271, 'bach': 403, '95': 95, 'enabl': 1527, 'oldest': 3150, 'groan': 2039, 'tierney': 4513, 'earl': 1450, 'cohen': 931, 'rosemari': 3799, 'corn': 1064, 'poem': 3366, 'astronaut': 353, 'naschi': 3011, 'israel': 2411, 'hug': 2230, 'handicap': 2084, 'timberlak': 4518, 'walsh': 4823, 'timon': 4521, 'chicken': 837, 'gabl': 1902, 'evelyn': 1596, 'affleck': 166, 'isra': 2410, 'junior': 2492, 'nicola': 3064, 'bud': 661, 'senior': 3937, 'unleash': 4696, 'pearl': 3277, 'uniformli': 4686, 'trier': 4607, 'domino': 1375, 'vignett': 4782, 'gere': 1940, 'simmon': 4041, 'raj': 3569, 'dudley': 1429, 'europa': 1591, 'narrow': 3010, 'einstein': 1487, 'wang': 4827, 'thunderbird': 4509, 'boston': 589, 'danish': 1180, 'tara': 4421, 'spock': 4195, '00': 1, 'radiat': 3563, 'boyer': 602, 'miyazaki': 2920}\n"
     ]
    }
   ],
   "source": [
    "print(vocabulary)"
   ]
  },
  {
   "cell_type": "markdown",
   "metadata": {},
   "source": [
    "## Step 4: Classification using XGBoost\n",
    "\n",
    "Now that we have created the feature representation of our training (and testing) data, it is time to start setting up and using the XGBoost classifier provided by SageMaker.\n",
    "\n",
    "### Writing the dataset\n",
    "\n",
    "The XGBoost classifier that we will be using requires the dataset to be written to a file and stored using Amazon S3. To do this, we will start by splitting the training dataset into two parts, the data we will train the model with and a validation set. Then, we will write those datasets to a file and upload the files to S3. In addition, we will write the test set input to a file and upload the file to S3. This is so that we can use SageMakers Batch Transform functionality to test our model once we've fit it."
   ]
  },
  {
   "cell_type": "code",
   "execution_count": 18,
   "metadata": {},
   "outputs": [],
   "source": [
    "import pandas as pd\n",
    "\n",
    "# Earlier we shuffled the training dataset so to make things simple we can just assign\n",
    "# the first 10 000 reviews to the validation set and use the remaining reviews for training.\n",
    "val_X = pd.DataFrame(train_X[:10000])\n",
    "train_X = pd.DataFrame(train_X[10000:])\n",
    "\n",
    "val_y = pd.DataFrame(train_y[:10000])\n",
    "train_y = pd.DataFrame(train_y[10000:])"
   ]
  },
  {
   "cell_type": "markdown",
   "metadata": {},
   "source": [
    "The documentation for the XGBoost algorithm in SageMaker requires that the saved datasets should contain no headers or index and that for the training and validation data, the label should occur first for each sample.\n",
    "\n",
    "For more information about this and other algorithms, the SageMaker developer documentation can be found on __[Amazon's website.](https://docs.aws.amazon.com/sagemaker/latest/dg/)__"
   ]
  },
  {
   "cell_type": "code",
   "execution_count": 19,
   "metadata": {},
   "outputs": [],
   "source": [
    "# First we make sure that the local directory in which we'd like to store the training and validation csv files exists.\n",
    "data_dir = '../data/sentiment_update'\n",
    "if not os.path.exists(data_dir):\n",
    "    os.makedirs(data_dir)"
   ]
  },
  {
   "cell_type": "code",
   "execution_count": 20,
   "metadata": {},
   "outputs": [],
   "source": [
    "pd.DataFrame(test_X).to_csv(os.path.join(data_dir, 'test.csv'), header=False, index=False)\n",
    "\n",
    "pd.concat([val_y, val_X], axis=1).to_csv(os.path.join(data_dir, 'validation.csv'), header=False, index=False)\n",
    "pd.concat([train_y, train_X], axis=1).to_csv(os.path.join(data_dir, 'train.csv'), header=False, index=False)"
   ]
  },
  {
   "cell_type": "code",
   "execution_count": 21,
   "metadata": {},
   "outputs": [],
   "source": [
    "# To save a bit of memory we can set text_X, train_X, val_X, train_y and val_y to None.\n",
    "\n",
    "test_X = train_X = val_X = train_y = val_y = None"
   ]
  },
  {
   "cell_type": "markdown",
   "metadata": {},
   "source": [
    "### Uploading Training / Validation files to S3\n",
    "\n",
    "Amazon's S3 service allows us to store files that can be access by both the built-in training models such as the XGBoost model we will be using as well as custom models such as the one we will see a little later.\n",
    "\n",
    "For this, and most other tasks we will be doing using SageMaker, there are two methods we could use. The first is to use the low level functionality of SageMaker which requires knowing each of the objects involved in the SageMaker environment. The second is to use the high level functionality in which certain choices have been made on the user's behalf. The low level approach benefits from allowing the user a great deal of flexibility while the high level approach makes development much quicker. For our purposes we will opt to use the high level approach although using the low-level approach is certainly an option.\n",
    "\n",
    "Recall the method `upload_data()` which is a member of object representing our current SageMaker session. What this method does is upload the data to the default bucket (which is created if it does not exist) into the path described by the key_prefix variable. To see this for yourself, once you have uploaded the data files, go to the S3 console and look to see where the files have been uploaded.\n",
    "\n",
    "For additional resources, see the __[SageMaker API documentation](http://sagemaker.readthedocs.io/en/latest/)__ and in addition the __[SageMaker Developer Guide.](https://docs.aws.amazon.com/sagemaker/latest/dg/)__"
   ]
  },
  {
   "cell_type": "code",
   "execution_count": 22,
   "metadata": {},
   "outputs": [],
   "source": [
    "import sagemaker\n",
    "\n",
    "session = sagemaker.Session() # Store the current SageMaker session\n",
    "\n",
    "# S3 prefix (which folder will we use)\n",
    "prefix = 'sentiment-update'\n",
    "\n",
    "test_location = session.upload_data(os.path.join(data_dir, 'test.csv'), key_prefix=prefix)\n",
    "val_location = session.upload_data(os.path.join(data_dir, 'validation.csv'), key_prefix=prefix)\n",
    "train_location = session.upload_data(os.path.join(data_dir, 'train.csv'), key_prefix=prefix)"
   ]
  },
  {
   "cell_type": "markdown",
   "metadata": {},
   "source": [
    "### Creating the XGBoost model\n",
    "\n",
    "Now that the data has been uploaded it is time to create the XGBoost model. To begin with, we need to do some setup. At this point it is worth discussing what a model is in SageMaker. It is easiest to think of a model of comprising three different objects in the SageMaker ecosystem, which interact with one another.\n",
    "\n",
    "- Model Artifacts\n",
    "- Training Code (Container)\n",
    "- Inference Code (Container)\n",
    "\n",
    "The Model Artifacts are what you might think of as the actual model itself. For example, if you were building a neural network, the model artifacts would be the weights of the various layers. In our case, for an XGBoost model, the artifacts are the actual trees that are created during training.\n",
    "\n",
    "The other two objects, the training code and the inference code are then used the manipulate the training artifacts. More precisely, the training code uses the training data that is provided and creates the model artifacts, while the inference code uses the model artifacts to make predictions on new data.\n",
    "\n",
    "The way that SageMaker runs the training and inference code is by making use of Docker containers. For now, think of a container as being a way of packaging code up so that dependencies aren't an issue."
   ]
  },
  {
   "cell_type": "code",
   "execution_count": 23,
   "metadata": {},
   "outputs": [],
   "source": [
    "from sagemaker import get_execution_role\n",
    "\n",
    "# Our current execution role is require when creating the model as the training\n",
    "# and inference code will need to access the model artifacts.\n",
    "role = get_execution_role()"
   ]
  },
  {
   "cell_type": "code",
   "execution_count": 24,
   "metadata": {},
   "outputs": [
    {
     "name": "stderr",
     "output_type": "stream",
     "text": [
      "WARNING:root:There is a more up to date SageMaker XGBoost image. To use the newer image, please set 'repo_version'='0.90-1'. For example:\n",
      "\tget_image_uri(region, 'xgboost', '0.90-1').\n"
     ]
    }
   ],
   "source": [
    "# We need to retrieve the location of the container which is provided by Amazon for using XGBoost.\n",
    "# As a matter of convenience, the training and inference code both use the same container.\n",
    "from sagemaker.amazon.amazon_estimator import get_image_uri\n",
    "\n",
    "container = get_image_uri(session.boto_region_name, 'xgboost')"
   ]
  },
  {
   "cell_type": "code",
   "execution_count": 25,
   "metadata": {},
   "outputs": [],
   "source": [
    "# First we create a SageMaker estimator object for our model.\n",
    "xgb = sagemaker.estimator.Estimator(container, # The location of the container we wish to use\n",
    "                                    role,                                    # What is our current IAM Role\n",
    "                                    train_instance_count=1,                  # How many compute instances\n",
    "                                    train_instance_type='ml.m4.xlarge',      # What kind of compute instances\n",
    "                                    output_path='s3://{}/{}/output'.format(session.default_bucket(), prefix),\n",
    "                                    sagemaker_session=session)\n",
    "\n",
    "# And then set the algorithm specific parameters.\n",
    "xgb.set_hyperparameters(max_depth=5,\n",
    "                        eta=0.2,\n",
    "                        gamma=4,\n",
    "                        min_child_weight=6,\n",
    "                        subsample=0.8,\n",
    "                        silent=0,\n",
    "                        objective='binary:logistic',\n",
    "                        early_stopping_rounds=10,\n",
    "                        num_round=500)"
   ]
  },
  {
   "cell_type": "markdown",
   "metadata": {},
   "source": [
    "### Fit the XGBoost model\n",
    "\n",
    "Now that our model has been set up we simply need to attach the training and validation datasets and then ask SageMaker to set up the computation."
   ]
  },
  {
   "cell_type": "code",
   "execution_count": 26,
   "metadata": {},
   "outputs": [],
   "source": [
    "s3_input_train = sagemaker.s3_input(s3_data=train_location, content_type='csv')\n",
    "s3_input_validation = sagemaker.s3_input(s3_data=val_location, content_type='csv')"
   ]
  },
  {
   "cell_type": "code",
   "execution_count": 27,
   "metadata": {},
   "outputs": [
    {
     "name": "stdout",
     "output_type": "stream",
     "text": [
      "2020-05-21 16:56:01 Starting - Starting the training job...\n",
      "2020-05-21 16:56:03 Starting - Launching requested ML instances......\n",
      "2020-05-21 16:57:14 Starting - Preparing the instances for training...\n",
      "2020-05-21 16:58:00 Downloading - Downloading input data...\n",
      "2020-05-21 16:58:20 Training - Downloading the training image..\u001b[34mArguments: train\u001b[0m\n",
      "\u001b[34m[2020-05-21:16:58:40:INFO] Running standalone xgboost training.\u001b[0m\n",
      "\u001b[34m[2020-05-21:16:58:40:INFO] File size need to be processed in the node: 238.47mb. Available memory size in the node: 8443.61mb\u001b[0m\n",
      "\u001b[34m[2020-05-21:16:58:40:INFO] Determined delimiter of CSV input is ','\u001b[0m\n",
      "\u001b[34m[16:58:40] S3DistributionType set as FullyReplicated\u001b[0m\n",
      "\u001b[34m[16:58:42] 15000x5000 matrix with 75000000 entries loaded from /opt/ml/input/data/train?format=csv&label_column=0&delimiter=,\u001b[0m\n",
      "\u001b[34m[2020-05-21:16:58:42:INFO] Determined delimiter of CSV input is ','\u001b[0m\n",
      "\u001b[34m[16:58:42] S3DistributionType set as FullyReplicated\u001b[0m\n",
      "\u001b[34m[16:58:43] 10000x5000 matrix with 50000000 entries loaded from /opt/ml/input/data/validation?format=csv&label_column=0&delimiter=,\u001b[0m\n",
      "\n",
      "2020-05-21 16:58:39 Training - Training image download completed. Training in progress.\u001b[34m[16:58:47] src/tree/updater_prune.cc:74: tree pruning end, 1 roots, 38 extra nodes, 4 pruned nodes, max_depth=5\u001b[0m\n",
      "\u001b[34m[0]#011train-error:0.297533#011validation-error:0.3018\u001b[0m\n",
      "\u001b[34mMultiple eval metrics have been passed: 'validation-error' will be used for early stopping.\n",
      "\u001b[0m\n",
      "\u001b[34mWill train until validation-error hasn't improved in 10 rounds.\u001b[0m\n",
      "\u001b[34m[16:58:48] src/tree/updater_prune.cc:74: tree pruning end, 1 roots, 40 extra nodes, 8 pruned nodes, max_depth=5\u001b[0m\n",
      "\u001b[34m[1]#011train-error:0.281467#011validation-error:0.2855\u001b[0m\n",
      "\u001b[34m[16:58:49] src/tree/updater_prune.cc:74: tree pruning end, 1 roots, 44 extra nodes, 4 pruned nodes, max_depth=5\u001b[0m\n",
      "\u001b[34m[2]#011train-error:0.270933#011validation-error:0.2798\u001b[0m\n",
      "\u001b[34m[16:58:50] src/tree/updater_prune.cc:74: tree pruning end, 1 roots, 32 extra nodes, 4 pruned nodes, max_depth=5\u001b[0m\n",
      "\u001b[34m[3]#011train-error:0.2614#011validation-error:0.2718\u001b[0m\n",
      "\u001b[34m[16:58:52] src/tree/updater_prune.cc:74: tree pruning end, 1 roots, 38 extra nodes, 6 pruned nodes, max_depth=5\u001b[0m\n",
      "\u001b[34m[4]#011train-error:0.258067#011validation-error:0.2663\u001b[0m\n",
      "\u001b[34m[16:58:53] src/tree/updater_prune.cc:74: tree pruning end, 1 roots, 26 extra nodes, 6 pruned nodes, max_depth=5\u001b[0m\n",
      "\u001b[34m[5]#011train-error:0.254267#011validation-error:0.2657\u001b[0m\n",
      "\u001b[34m[16:58:55] src/tree/updater_prune.cc:74: tree pruning end, 1 roots, 30 extra nodes, 10 pruned nodes, max_depth=5\u001b[0m\n",
      "\u001b[34m[6]#011train-error:0.2492#011validation-error:0.2574\u001b[0m\n",
      "\u001b[34m[16:58:56] src/tree/updater_prune.cc:74: tree pruning end, 1 roots, 28 extra nodes, 6 pruned nodes, max_depth=5\u001b[0m\n",
      "\u001b[34m[7]#011train-error:0.243#011validation-error:0.2554\u001b[0m\n",
      "\u001b[34m[16:58:57] src/tree/updater_prune.cc:74: tree pruning end, 1 roots, 28 extra nodes, 12 pruned nodes, max_depth=5\u001b[0m\n",
      "\u001b[34m[8]#011train-error:0.2304#011validation-error:0.2431\u001b[0m\n",
      "\u001b[34m[16:58:58] src/tree/updater_prune.cc:74: tree pruning end, 1 roots, 28 extra nodes, 4 pruned nodes, max_depth=5\u001b[0m\n",
      "\u001b[34m[9]#011train-error:0.223#011validation-error:0.2394\u001b[0m\n",
      "\u001b[34m[16:59:00] src/tree/updater_prune.cc:74: tree pruning end, 1 roots, 24 extra nodes, 10 pruned nodes, max_depth=5\u001b[0m\n",
      "\u001b[34m[10]#011train-error:0.2186#011validation-error:0.237\u001b[0m\n",
      "\u001b[34m[16:59:01] src/tree/updater_prune.cc:74: tree pruning end, 1 roots, 42 extra nodes, 10 pruned nodes, max_depth=5\u001b[0m\n",
      "\u001b[34m[11]#011train-error:0.2146#011validation-error:0.2331\u001b[0m\n",
      "\u001b[34m[16:59:02] src/tree/updater_prune.cc:74: tree pruning end, 1 roots, 36 extra nodes, 4 pruned nodes, max_depth=5\u001b[0m\n",
      "\u001b[34m[12]#011train-error:0.209333#011validation-error:0.2278\u001b[0m\n",
      "\u001b[34m[16:59:04] src/tree/updater_prune.cc:74: tree pruning end, 1 roots, 36 extra nodes, 2 pruned nodes, max_depth=5\u001b[0m\n",
      "\u001b[34m[13]#011train-error:0.2066#011validation-error:0.2236\u001b[0m\n",
      "\u001b[34m[16:59:05] src/tree/updater_prune.cc:74: tree pruning end, 1 roots, 28 extra nodes, 6 pruned nodes, max_depth=5\u001b[0m\n",
      "\u001b[34m[14]#011train-error:0.205#011validation-error:0.2207\u001b[0m\n",
      "\u001b[34m[16:59:06] src/tree/updater_prune.cc:74: tree pruning end, 1 roots, 32 extra nodes, 4 pruned nodes, max_depth=5\u001b[0m\n",
      "\u001b[34m[15]#011train-error:0.205#011validation-error:0.2203\u001b[0m\n",
      "\u001b[34m[16:59:07] src/tree/updater_prune.cc:74: tree pruning end, 1 roots, 34 extra nodes, 8 pruned nodes, max_depth=5\u001b[0m\n",
      "\u001b[34m[16]#011train-error:0.201667#011validation-error:0.2196\u001b[0m\n",
      "\u001b[34m[16:59:09] src/tree/updater_prune.cc:74: tree pruning end, 1 roots, 30 extra nodes, 12 pruned nodes, max_depth=5\u001b[0m\n",
      "\u001b[34m[17]#011train-error:0.1984#011validation-error:0.2167\u001b[0m\n",
      "\u001b[34m[16:59:10] src/tree/updater_prune.cc:74: tree pruning end, 1 roots, 24 extra nodes, 10 pruned nodes, max_depth=5\u001b[0m\n",
      "\u001b[34m[18]#011train-error:0.193667#011validation-error:0.2124\u001b[0m\n",
      "\u001b[34m[16:59:11] src/tree/updater_prune.cc:74: tree pruning end, 1 roots, 30 extra nodes, 2 pruned nodes, max_depth=5\u001b[0m\n",
      "\u001b[34m[19]#011train-error:0.191533#011validation-error:0.2091\u001b[0m\n",
      "\u001b[34m[16:59:12] src/tree/updater_prune.cc:74: tree pruning end, 1 roots, 22 extra nodes, 4 pruned nodes, max_depth=5\u001b[0m\n",
      "\u001b[34m[20]#011train-error:0.188933#011validation-error:0.207\u001b[0m\n",
      "\u001b[34m[16:59:14] src/tree/updater_prune.cc:74: tree pruning end, 1 roots, 36 extra nodes, 10 pruned nodes, max_depth=5\u001b[0m\n",
      "\u001b[34m[21]#011train-error:0.1862#011validation-error:0.2057\u001b[0m\n",
      "\u001b[34m[16:59:15] src/tree/updater_prune.cc:74: tree pruning end, 1 roots, 26 extra nodes, 4 pruned nodes, max_depth=5\u001b[0m\n",
      "\u001b[34m[22]#011train-error:0.183#011validation-error:0.202\u001b[0m\n",
      "\u001b[34m[16:59:16] src/tree/updater_prune.cc:74: tree pruning end, 1 roots, 24 extra nodes, 12 pruned nodes, max_depth=5\u001b[0m\n",
      "\u001b[34m[23]#011train-error:0.1798#011validation-error:0.2003\u001b[0m\n",
      "\u001b[34m[16:59:18] src/tree/updater_prune.cc:74: tree pruning end, 1 roots, 32 extra nodes, 6 pruned nodes, max_depth=5\u001b[0m\n",
      "\u001b[34m[24]#011train-error:0.177667#011validation-error:0.1975\u001b[0m\n",
      "\u001b[34m[16:59:19] src/tree/updater_prune.cc:74: tree pruning end, 1 roots, 28 extra nodes, 12 pruned nodes, max_depth=5\u001b[0m\n",
      "\u001b[34m[25]#011train-error:0.176133#011validation-error:0.1959\u001b[0m\n",
      "\u001b[34m[16:59:20] src/tree/updater_prune.cc:74: tree pruning end, 1 roots, 18 extra nodes, 10 pruned nodes, max_depth=5\u001b[0m\n",
      "\u001b[34m[26]#011train-error:0.1746#011validation-error:0.1962\u001b[0m\n",
      "\u001b[34m[16:59:21] src/tree/updater_prune.cc:74: tree pruning end, 1 roots, 24 extra nodes, 10 pruned nodes, max_depth=5\u001b[0m\n",
      "\u001b[34m[27]#011train-error:0.171133#011validation-error:0.193\u001b[0m\n",
      "\u001b[34m[16:59:23] src/tree/updater_prune.cc:74: tree pruning end, 1 roots, 20 extra nodes, 14 pruned nodes, max_depth=5\u001b[0m\n",
      "\u001b[34m[28]#011train-error:0.168933#011validation-error:0.1906\u001b[0m\n",
      "\u001b[34m[16:59:24] src/tree/updater_prune.cc:74: tree pruning end, 1 roots, 28 extra nodes, 8 pruned nodes, max_depth=5\u001b[0m\n",
      "\u001b[34m[29]#011train-error:0.167733#011validation-error:0.1896\u001b[0m\n",
      "\u001b[34m[16:59:25] src/tree/updater_prune.cc:74: tree pruning end, 1 roots, 28 extra nodes, 8 pruned nodes, max_depth=5\u001b[0m\n",
      "\u001b[34m[30]#011train-error:0.1654#011validation-error:0.1863\u001b[0m\n",
      "\u001b[34m[16:59:26] src/tree/updater_prune.cc:74: tree pruning end, 1 roots, 32 extra nodes, 6 pruned nodes, max_depth=5\u001b[0m\n",
      "\u001b[34m[31]#011train-error:0.162#011validation-error:0.1856\u001b[0m\n",
      "\u001b[34m[16:59:28] src/tree/updater_prune.cc:74: tree pruning end, 1 roots, 38 extra nodes, 6 pruned nodes, max_depth=5\u001b[0m\n",
      "\u001b[34m[32]#011train-error:0.158067#011validation-error:0.1844\u001b[0m\n",
      "\u001b[34m[16:59:29] src/tree/updater_prune.cc:74: tree pruning end, 1 roots, 20 extra nodes, 6 pruned nodes, max_depth=5\u001b[0m\n",
      "\u001b[34m[33]#011train-error:0.156533#011validation-error:0.1842\u001b[0m\n",
      "\u001b[34m[16:59:30] src/tree/updater_prune.cc:74: tree pruning end, 1 roots, 20 extra nodes, 8 pruned nodes, max_depth=5\u001b[0m\n",
      "\u001b[34m[34]#011train-error:0.157067#011validation-error:0.1833\u001b[0m\n",
      "\u001b[34m[16:59:31] src/tree/updater_prune.cc:74: tree pruning end, 1 roots, 24 extra nodes, 10 pruned nodes, max_depth=5\u001b[0m\n",
      "\u001b[34m[35]#011train-error:0.156133#011validation-error:0.182\u001b[0m\n",
      "\u001b[34m[16:59:33] src/tree/updater_prune.cc:74: tree pruning end, 1 roots, 24 extra nodes, 12 pruned nodes, max_depth=5\u001b[0m\n",
      "\u001b[34m[36]#011train-error:0.156067#011validation-error:0.1815\u001b[0m\n",
      "\u001b[34m[16:59:34] src/tree/updater_prune.cc:74: tree pruning end, 1 roots, 22 extra nodes, 10 pruned nodes, max_depth=5\u001b[0m\n",
      "\u001b[34m[37]#011train-error:0.155133#011validation-error:0.1813\u001b[0m\n",
      "\u001b[34m[16:59:35] src/tree/updater_prune.cc:74: tree pruning end, 1 roots, 20 extra nodes, 10 pruned nodes, max_depth=5\u001b[0m\n",
      "\u001b[34m[38]#011train-error:0.1532#011validation-error:0.1806\u001b[0m\n",
      "\u001b[34m[16:59:36] src/tree/updater_prune.cc:74: tree pruning end, 1 roots, 16 extra nodes, 10 pruned nodes, max_depth=5\u001b[0m\n",
      "\u001b[34m[39]#011train-error:0.1516#011validation-error:0.1796\u001b[0m\n"
     ]
    },
    {
     "name": "stdout",
     "output_type": "stream",
     "text": [
      "\u001b[34m[16:59:38] src/tree/updater_prune.cc:74: tree pruning end, 1 roots, 40 extra nodes, 4 pruned nodes, max_depth=5\u001b[0m\n",
      "\u001b[34m[40]#011train-error:0.150667#011validation-error:0.1789\u001b[0m\n",
      "\u001b[34m[16:59:39] src/tree/updater_prune.cc:74: tree pruning end, 1 roots, 18 extra nodes, 12 pruned nodes, max_depth=5\u001b[0m\n",
      "\u001b[34m[41]#011train-error:0.15#011validation-error:0.1777\u001b[0m\n",
      "\u001b[34m[16:59:40] src/tree/updater_prune.cc:74: tree pruning end, 1 roots, 24 extra nodes, 2 pruned nodes, max_depth=5\u001b[0m\n",
      "\u001b[34m[42]#011train-error:0.148267#011validation-error:0.1752\u001b[0m\n",
      "\u001b[34m[16:59:42] src/tree/updater_prune.cc:74: tree pruning end, 1 roots, 14 extra nodes, 16 pruned nodes, max_depth=5\u001b[0m\n",
      "\u001b[34m[43]#011train-error:0.1482#011validation-error:0.1752\u001b[0m\n",
      "\u001b[34m[16:59:43] src/tree/updater_prune.cc:74: tree pruning end, 1 roots, 20 extra nodes, 16 pruned nodes, max_depth=5\u001b[0m\n",
      "\u001b[34m[44]#011train-error:0.146933#011validation-error:0.1735\u001b[0m\n",
      "\u001b[34m[16:59:44] src/tree/updater_prune.cc:74: tree pruning end, 1 roots, 22 extra nodes, 10 pruned nodes, max_depth=5\u001b[0m\n",
      "\u001b[34m[45]#011train-error:0.146#011validation-error:0.1731\u001b[0m\n",
      "\u001b[34m[16:59:45] src/tree/updater_prune.cc:74: tree pruning end, 1 roots, 20 extra nodes, 12 pruned nodes, max_depth=5\u001b[0m\n",
      "\u001b[34m[46]#011train-error:0.145#011validation-error:0.1728\u001b[0m\n",
      "\u001b[34m[16:59:47] src/tree/updater_prune.cc:74: tree pruning end, 1 roots, 32 extra nodes, 6 pruned nodes, max_depth=5\u001b[0m\n",
      "\u001b[34m[47]#011train-error:0.145067#011validation-error:0.1733\u001b[0m\n",
      "\u001b[34m[16:59:48] src/tree/updater_prune.cc:74: tree pruning end, 1 roots, 18 extra nodes, 8 pruned nodes, max_depth=5\u001b[0m\n",
      "\u001b[34m[48]#011train-error:0.143933#011validation-error:0.1724\u001b[0m\n",
      "\u001b[34m[16:59:49] src/tree/updater_prune.cc:74: tree pruning end, 1 roots, 32 extra nodes, 6 pruned nodes, max_depth=5\u001b[0m\n",
      "\u001b[34m[49]#011train-error:0.1412#011validation-error:0.1711\u001b[0m\n",
      "\u001b[34m[16:59:50] src/tree/updater_prune.cc:74: tree pruning end, 1 roots, 22 extra nodes, 8 pruned nodes, max_depth=5\u001b[0m\n",
      "\u001b[34m[50]#011train-error:0.1404#011validation-error:0.1702\u001b[0m\n",
      "\u001b[34m[16:59:52] src/tree/updater_prune.cc:74: tree pruning end, 1 roots, 24 extra nodes, 8 pruned nodes, max_depth=5\u001b[0m\n",
      "\u001b[34m[51]#011train-error:0.139667#011validation-error:0.1699\u001b[0m\n",
      "\u001b[34m[16:59:53] src/tree/updater_prune.cc:74: tree pruning end, 1 roots, 24 extra nodes, 10 pruned nodes, max_depth=5\u001b[0m\n",
      "\u001b[34m[52]#011train-error:0.138867#011validation-error:0.1707\u001b[0m\n",
      "\u001b[34m[16:59:54] src/tree/updater_prune.cc:74: tree pruning end, 1 roots, 16 extra nodes, 6 pruned nodes, max_depth=5\u001b[0m\n",
      "\u001b[34m[53]#011train-error:0.1386#011validation-error:0.1699\u001b[0m\n",
      "\u001b[34m[16:59:55] src/tree/updater_prune.cc:74: tree pruning end, 1 roots, 32 extra nodes, 12 pruned nodes, max_depth=5\u001b[0m\n",
      "\u001b[34m[54]#011train-error:0.137533#011validation-error:0.1671\u001b[0m\n",
      "\u001b[34m[16:59:57] src/tree/updater_prune.cc:74: tree pruning end, 1 roots, 12 extra nodes, 12 pruned nodes, max_depth=5\u001b[0m\n",
      "\u001b[34m[55]#011train-error:0.136267#011validation-error:0.1675\u001b[0m\n",
      "\u001b[34m[16:59:58] src/tree/updater_prune.cc:74: tree pruning end, 1 roots, 12 extra nodes, 16 pruned nodes, max_depth=5\u001b[0m\n",
      "\u001b[34m[56]#011train-error:0.1358#011validation-error:0.1663\u001b[0m\n",
      "\u001b[34m[16:59:59] src/tree/updater_prune.cc:74: tree pruning end, 1 roots, 26 extra nodes, 8 pruned nodes, max_depth=5\u001b[0m\n",
      "\u001b[34m[57]#011train-error:0.135067#011validation-error:0.1661\u001b[0m\n",
      "\u001b[34m[17:00:00] src/tree/updater_prune.cc:74: tree pruning end, 1 roots, 20 extra nodes, 2 pruned nodes, max_depth=5\u001b[0m\n",
      "\u001b[34m[58]#011train-error:0.135#011validation-error:0.1655\u001b[0m\n",
      "\u001b[34m[17:00:02] src/tree/updater_prune.cc:74: tree pruning end, 1 roots, 22 extra nodes, 10 pruned nodes, max_depth=5\u001b[0m\n",
      "\u001b[34m[59]#011train-error:0.133467#011validation-error:0.1649\u001b[0m\n",
      "\u001b[34m[17:00:03] src/tree/updater_prune.cc:74: tree pruning end, 1 roots, 16 extra nodes, 8 pruned nodes, max_depth=5\u001b[0m\n",
      "\u001b[34m[60]#011train-error:0.133467#011validation-error:0.1638\u001b[0m\n",
      "\u001b[34m[17:00:04] src/tree/updater_prune.cc:74: tree pruning end, 1 roots, 12 extra nodes, 6 pruned nodes, max_depth=5\u001b[0m\n",
      "\u001b[34m[61]#011train-error:0.132667#011validation-error:0.1634\u001b[0m\n",
      "\u001b[34m[17:00:06] src/tree/updater_prune.cc:74: tree pruning end, 1 roots, 16 extra nodes, 8 pruned nodes, max_depth=5\u001b[0m\n",
      "\u001b[34m[62]#011train-error:0.1324#011validation-error:0.1641\u001b[0m\n",
      "\u001b[34m[17:00:07] src/tree/updater_prune.cc:74: tree pruning end, 1 roots, 22 extra nodes, 10 pruned nodes, max_depth=5\u001b[0m\n",
      "\u001b[34m[63]#011train-error:0.132733#011validation-error:0.1638\u001b[0m\n",
      "\u001b[34m[17:00:08] src/tree/updater_prune.cc:74: tree pruning end, 1 roots, 20 extra nodes, 18 pruned nodes, max_depth=5\u001b[0m\n",
      "\u001b[34m[64]#011train-error:0.131933#011validation-error:0.1641\u001b[0m\n",
      "\u001b[34m[17:00:09] src/tree/updater_prune.cc:74: tree pruning end, 1 roots, 16 extra nodes, 14 pruned nodes, max_depth=5\u001b[0m\n",
      "\u001b[34m[65]#011train-error:0.131467#011validation-error:0.163\u001b[0m\n",
      "\u001b[34m[17:00:11] src/tree/updater_prune.cc:74: tree pruning end, 1 roots, 24 extra nodes, 10 pruned nodes, max_depth=5\u001b[0m\n",
      "\u001b[34m[66]#011train-error:0.130533#011validation-error:0.1618\u001b[0m\n",
      "\u001b[34m[17:00:12] src/tree/updater_prune.cc:74: tree pruning end, 1 roots, 10 extra nodes, 10 pruned nodes, max_depth=5\u001b[0m\n",
      "\u001b[34m[67]#011train-error:0.129667#011validation-error:0.1619\u001b[0m\n",
      "\u001b[34m[17:00:13] src/tree/updater_prune.cc:74: tree pruning end, 1 roots, 22 extra nodes, 6 pruned nodes, max_depth=5\u001b[0m\n",
      "\u001b[34m[68]#011train-error:0.128667#011validation-error:0.1607\u001b[0m\n",
      "\u001b[34m[17:00:14] src/tree/updater_prune.cc:74: tree pruning end, 1 roots, 14 extra nodes, 6 pruned nodes, max_depth=5\u001b[0m\n",
      "\u001b[34m[69]#011train-error:0.128133#011validation-error:0.1608\u001b[0m\n",
      "\u001b[34m[17:00:16] src/tree/updater_prune.cc:74: tree pruning end, 1 roots, 16 extra nodes, 10 pruned nodes, max_depth=5\u001b[0m\n",
      "\u001b[34m[70]#011train-error:0.127333#011validation-error:0.1598\u001b[0m\n",
      "\u001b[34m[17:00:17] src/tree/updater_prune.cc:74: tree pruning end, 1 roots, 18 extra nodes, 12 pruned nodes, max_depth=5\u001b[0m\n",
      "\u001b[34m[71]#011train-error:0.126533#011validation-error:0.1597\u001b[0m\n",
      "\u001b[34m[17:00:18] src/tree/updater_prune.cc:74: tree pruning end, 1 roots, 24 extra nodes, 6 pruned nodes, max_depth=5\u001b[0m\n",
      "\u001b[34m[72]#011train-error:0.125933#011validation-error:0.1594\u001b[0m\n",
      "\u001b[34m[17:00:19] src/tree/updater_prune.cc:74: tree pruning end, 1 roots, 18 extra nodes, 2 pruned nodes, max_depth=5\u001b[0m\n",
      "\u001b[34m[73]#011train-error:0.125867#011validation-error:0.1596\u001b[0m\n",
      "\u001b[34m[17:00:21] src/tree/updater_prune.cc:74: tree pruning end, 1 roots, 12 extra nodes, 6 pruned nodes, max_depth=5\u001b[0m\n",
      "\u001b[34m[74]#011train-error:0.124933#011validation-error:0.1594\u001b[0m\n",
      "\u001b[34m[17:00:22] src/tree/updater_prune.cc:74: tree pruning end, 1 roots, 14 extra nodes, 4 pruned nodes, max_depth=5\u001b[0m\n",
      "\u001b[34m[75]#011train-error:0.124533#011validation-error:0.1588\u001b[0m\n",
      "\u001b[34m[17:00:23] src/tree/updater_prune.cc:74: tree pruning end, 1 roots, 22 extra nodes, 6 pruned nodes, max_depth=5\u001b[0m\n",
      "\u001b[34m[76]#011train-error:0.124#011validation-error:0.1577\u001b[0m\n",
      "\u001b[34m[17:00:24] src/tree/updater_prune.cc:74: tree pruning end, 1 roots, 26 extra nodes, 12 pruned nodes, max_depth=5\u001b[0m\n",
      "\u001b[34m[77]#011train-error:0.122733#011validation-error:0.1582\u001b[0m\n",
      "\u001b[34m[17:00:26] src/tree/updater_prune.cc:74: tree pruning end, 1 roots, 26 extra nodes, 10 pruned nodes, max_depth=5\u001b[0m\n",
      "\u001b[34m[78]#011train-error:0.1222#011validation-error:0.1567\u001b[0m\n",
      "\u001b[34m[17:00:27] src/tree/updater_prune.cc:74: tree pruning end, 1 roots, 22 extra nodes, 6 pruned nodes, max_depth=5\u001b[0m\n",
      "\u001b[34m[79]#011train-error:0.121#011validation-error:0.1568\u001b[0m\n",
      "\u001b[34m[17:00:28] src/tree/updater_prune.cc:74: tree pruning end, 1 roots, 18 extra nodes, 12 pruned nodes, max_depth=5\u001b[0m\n",
      "\u001b[34m[80]#011train-error:0.119667#011validation-error:0.1563\u001b[0m\n",
      "\u001b[34m[17:00:29] src/tree/updater_prune.cc:74: tree pruning end, 1 roots, 18 extra nodes, 12 pruned nodes, max_depth=5\u001b[0m\n",
      "\u001b[34m[81]#011train-error:0.1194#011validation-error:0.1562\u001b[0m\n",
      "\u001b[34m[17:00:31] src/tree/updater_prune.cc:74: tree pruning end, 1 roots, 18 extra nodes, 8 pruned nodes, max_depth=5\u001b[0m\n",
      "\u001b[34m[82]#011train-error:0.119#011validation-error:0.156\u001b[0m\n",
      "\u001b[34m[17:00:32] src/tree/updater_prune.cc:74: tree pruning end, 1 roots, 12 extra nodes, 6 pruned nodes, max_depth=5\u001b[0m\n",
      "\u001b[34m[83]#011train-error:0.1186#011validation-error:0.156\u001b[0m\n",
      "\u001b[34m[17:00:33] src/tree/updater_prune.cc:74: tree pruning end, 1 roots, 16 extra nodes, 12 pruned nodes, max_depth=5\u001b[0m\n",
      "\u001b[34m[84]#011train-error:0.116933#011validation-error:0.1554\u001b[0m\n",
      "\u001b[34m[17:00:35] src/tree/updater_prune.cc:74: tree pruning end, 1 roots, 20 extra nodes, 12 pruned nodes, max_depth=5\u001b[0m\n",
      "\u001b[34m[85]#011train-error:0.115133#011validation-error:0.1546\u001b[0m\n",
      "\u001b[34m[17:00:36] src/tree/updater_prune.cc:74: tree pruning end, 1 roots, 10 extra nodes, 16 pruned nodes, max_depth=5\u001b[0m\n",
      "\u001b[34m[86]#011train-error:0.116067#011validation-error:0.154\u001b[0m\n",
      "\u001b[34m[17:00:37] src/tree/updater_prune.cc:74: tree pruning end, 1 roots, 16 extra nodes, 12 pruned nodes, max_depth=5\u001b[0m\n",
      "\u001b[34m[87]#011train-error:0.115733#011validation-error:0.1541\u001b[0m\n"
     ]
    },
    {
     "name": "stdout",
     "output_type": "stream",
     "text": [
      "\u001b[34m[17:00:38] src/tree/updater_prune.cc:74: tree pruning end, 1 roots, 16 extra nodes, 10 pruned nodes, max_depth=5\u001b[0m\n",
      "\u001b[34m[88]#011train-error:0.114933#011validation-error:0.1535\u001b[0m\n",
      "\u001b[34m[17:00:40] src/tree/updater_prune.cc:74: tree pruning end, 1 roots, 16 extra nodes, 12 pruned nodes, max_depth=5\u001b[0m\n",
      "\u001b[34m[89]#011train-error:0.113867#011validation-error:0.1534\u001b[0m\n",
      "\u001b[34m[17:00:41] src/tree/updater_prune.cc:74: tree pruning end, 1 roots, 16 extra nodes, 8 pruned nodes, max_depth=5\u001b[0m\n",
      "\u001b[34m[90]#011train-error:0.1136#011validation-error:0.1534\u001b[0m\n",
      "\u001b[34m[17:00:42] src/tree/updater_prune.cc:74: tree pruning end, 1 roots, 18 extra nodes, 8 pruned nodes, max_depth=5\u001b[0m\n",
      "\u001b[34m[91]#011train-error:0.112867#011validation-error:0.1538\u001b[0m\n",
      "\u001b[34m[17:00:43] src/tree/updater_prune.cc:74: tree pruning end, 1 roots, 16 extra nodes, 6 pruned nodes, max_depth=5\u001b[0m\n",
      "\u001b[34m[92]#011train-error:0.1128#011validation-error:0.1541\u001b[0m\n",
      "\u001b[34m[17:00:45] src/tree/updater_prune.cc:74: tree pruning end, 1 roots, 20 extra nodes, 8 pruned nodes, max_depth=5\u001b[0m\n",
      "\u001b[34m[93]#011train-error:0.112333#011validation-error:0.1545\u001b[0m\n",
      "\u001b[34m[17:00:46] src/tree/updater_prune.cc:74: tree pruning end, 1 roots, 22 extra nodes, 8 pruned nodes, max_depth=5\u001b[0m\n",
      "\u001b[34m[94]#011train-error:0.112067#011validation-error:0.1538\u001b[0m\n",
      "\u001b[34m[17:00:47] src/tree/updater_prune.cc:74: tree pruning end, 1 roots, 18 extra nodes, 4 pruned nodes, max_depth=5\u001b[0m\n",
      "\u001b[34m[95]#011train-error:0.110667#011validation-error:0.1537\u001b[0m\n",
      "\u001b[34m[17:00:48] src/tree/updater_prune.cc:74: tree pruning end, 1 roots, 16 extra nodes, 8 pruned nodes, max_depth=5\u001b[0m\n",
      "\u001b[34m[96]#011train-error:0.1102#011validation-error:0.1531\u001b[0m\n",
      "\u001b[34m[17:00:50] src/tree/updater_prune.cc:74: tree pruning end, 1 roots, 20 extra nodes, 20 pruned nodes, max_depth=5\u001b[0m\n",
      "\u001b[34m[97]#011train-error:0.109467#011validation-error:0.1535\u001b[0m\n",
      "\u001b[34m[17:00:51] src/tree/updater_prune.cc:74: tree pruning end, 1 roots, 26 extra nodes, 16 pruned nodes, max_depth=5\u001b[0m\n",
      "\u001b[34m[98]#011train-error:0.1076#011validation-error:0.1537\u001b[0m\n",
      "\u001b[34m[17:00:52] src/tree/updater_prune.cc:74: tree pruning end, 1 roots, 16 extra nodes, 10 pruned nodes, max_depth=5\u001b[0m\n",
      "\u001b[34m[99]#011train-error:0.1078#011validation-error:0.1544\u001b[0m\n",
      "\u001b[34m[17:00:53] src/tree/updater_prune.cc:74: tree pruning end, 1 roots, 26 extra nodes, 4 pruned nodes, max_depth=5\u001b[0m\n",
      "\u001b[34m[100]#011train-error:0.106667#011validation-error:0.154\u001b[0m\n",
      "\u001b[34m[17:00:55] src/tree/updater_prune.cc:74: tree pruning end, 1 roots, 20 extra nodes, 6 pruned nodes, max_depth=5\u001b[0m\n",
      "\u001b[34m[101]#011train-error:0.1062#011validation-error:0.1537\u001b[0m\n",
      "\u001b[34m[17:00:56] src/tree/updater_prune.cc:74: tree pruning end, 1 roots, 10 extra nodes, 4 pruned nodes, max_depth=5\u001b[0m\n",
      "\u001b[34m[102]#011train-error:0.1054#011validation-error:0.1528\u001b[0m\n",
      "\u001b[34m[17:00:57] src/tree/updater_prune.cc:74: tree pruning end, 1 roots, 16 extra nodes, 6 pruned nodes, max_depth=5\u001b[0m\n",
      "\u001b[34m[103]#011train-error:0.105867#011validation-error:0.1533\u001b[0m\n",
      "\u001b[34m[17:00:58] src/tree/updater_prune.cc:74: tree pruning end, 1 roots, 12 extra nodes, 16 pruned nodes, max_depth=5\u001b[0m\n",
      "\u001b[34m[104]#011train-error:0.1062#011validation-error:0.1534\u001b[0m\n",
      "\u001b[34m[17:01:00] src/tree/updater_prune.cc:74: tree pruning end, 1 roots, 28 extra nodes, 0 pruned nodes, max_depth=5\u001b[0m\n",
      "\u001b[34m[105]#011train-error:0.105133#011validation-error:0.154\u001b[0m\n",
      "\u001b[34m[17:01:01] src/tree/updater_prune.cc:74: tree pruning end, 1 roots, 12 extra nodes, 16 pruned nodes, max_depth=5\u001b[0m\n",
      "\u001b[34m[106]#011train-error:0.104867#011validation-error:0.1546\u001b[0m\n",
      "\u001b[34m[17:01:02] src/tree/updater_prune.cc:74: tree pruning end, 1 roots, 16 extra nodes, 6 pruned nodes, max_depth=5\u001b[0m\n",
      "\u001b[34m[107]#011train-error:0.104533#011validation-error:0.1538\u001b[0m\n",
      "\u001b[34m[17:01:04] src/tree/updater_prune.cc:74: tree pruning end, 1 roots, 10 extra nodes, 20 pruned nodes, max_depth=5\u001b[0m\n",
      "\u001b[34m[108]#011train-error:0.104#011validation-error:0.154\u001b[0m\n",
      "\u001b[34m[17:01:05] src/tree/updater_prune.cc:74: tree pruning end, 1 roots, 10 extra nodes, 14 pruned nodes, max_depth=5\u001b[0m\n",
      "\u001b[34m[109]#011train-error:0.103867#011validation-error:0.1544\u001b[0m\n",
      "\u001b[34m[17:01:06] src/tree/updater_prune.cc:74: tree pruning end, 1 roots, 16 extra nodes, 8 pruned nodes, max_depth=5\u001b[0m\n",
      "\u001b[34m[110]#011train-error:0.1026#011validation-error:0.1547\u001b[0m\n",
      "\u001b[34m[17:01:07] src/tree/updater_prune.cc:74: tree pruning end, 1 roots, 24 extra nodes, 8 pruned nodes, max_depth=5\u001b[0m\n",
      "\u001b[34m[111]#011train-error:0.1024#011validation-error:0.1534\u001b[0m\n",
      "\u001b[34m[17:01:09] src/tree/updater_prune.cc:74: tree pruning end, 1 roots, 10 extra nodes, 6 pruned nodes, max_depth=5\u001b[0m\n",
      "\u001b[34m[112]#011train-error:0.1022#011validation-error:0.1533\u001b[0m\n",
      "\u001b[34mStopping. Best iteration:\u001b[0m\n",
      "\u001b[34m[102]#011train-error:0.1054#011validation-error:0.1528\n",
      "\u001b[0m\n",
      "\n",
      "2020-05-21 17:01:20 Uploading - Uploading generated training model\n",
      "2020-05-21 17:01:20 Completed - Training job completed\n",
      "Training seconds: 200\n",
      "Billable seconds: 200\n"
     ]
    }
   ],
   "source": [
    "xgb.fit({'train': s3_input_train, 'validation': s3_input_validation})"
   ]
  },
  {
   "cell_type": "markdown",
   "metadata": {},
   "source": [
    "### Testing the model\n",
    "\n",
    "Now that we've fit our XGBoost model, it's time to see how well it performs. To do this we will use SageMakers Batch Transform functionality. Batch Transform is a convenient way to perform inference on a large dataset in a way that is not realtime. That is, we don't necessarily need to use our model's results immediately and instead we can peform inference on a large number of samples. An example of this in industry might be peforming an end of month report. This method of inference can also be useful to us as it means to can perform inference on our entire test set. \n",
    "\n",
    "To perform a Batch Transformation we need to first create a transformer objects from our trained estimator object."
   ]
  },
  {
   "cell_type": "code",
   "execution_count": 28,
   "metadata": {},
   "outputs": [],
   "source": [
    "xgb_transformer = xgb.transformer(instance_count = 1, instance_type = 'ml.m4.xlarge')"
   ]
  },
  {
   "cell_type": "markdown",
   "metadata": {},
   "source": [
    "Next we actually perform the transform job. When doing so we need to make sure to specify the type of data we are sending so that it is serialized correctly in the background. In our case we are providing our model with csv data so we specify `text/csv`. Also, if the test data that we have provided is too large to process all at once then we need to specify how the data file should be split up. Since each line is a single entry in our data set we tell SageMaker that it can split the input on each line."
   ]
  },
  {
   "cell_type": "code",
   "execution_count": 29,
   "metadata": {},
   "outputs": [],
   "source": [
    "xgb_transformer.transform(test_location, content_type='text/csv', split_type='Line')"
   ]
  },
  {
   "cell_type": "markdown",
   "metadata": {},
   "source": [
    "Currently the transform job is running but it is doing so in the background. Since we wish to wait until the transform job is done and we would like a bit of feedback we can run the `wait()` method."
   ]
  },
  {
   "cell_type": "code",
   "execution_count": 30,
   "metadata": {},
   "outputs": [
    {
     "name": "stdout",
     "output_type": "stream",
     "text": [
      ".....................\u001b[34mArguments: serve\u001b[0m\n",
      "\u001b[34m[2020-05-21 17:05:10 +0000] [1] [INFO] Starting gunicorn 19.7.1\u001b[0m\n",
      "\u001b[34m[2020-05-21 17:05:10 +0000] [1] [INFO] Listening at: http://0.0.0.0:8080 (1)\u001b[0m\n",
      "\u001b[34m[2020-05-21 17:05:10 +0000] [1] [INFO] Using worker: gevent\u001b[0m\n",
      "\u001b[34m[2020-05-21 17:05:10 +0000] [38] [INFO] Booting worker with pid: 38\u001b[0m\n",
      "\u001b[34m[2020-05-21 17:05:10 +0000] [39] [INFO] Booting worker with pid: 39\u001b[0m\n",
      "\u001b[34m[2020-05-21:17:05:10:INFO] Model loaded successfully for worker : 38\u001b[0m\n",
      "\u001b[34m[2020-05-21 17:05:10 +0000] [40] [INFO] Booting worker with pid: 40\u001b[0m\n",
      "\u001b[34m[2020-05-21:17:05:10:INFO] Model loaded successfully for worker : 39\u001b[0m\n",
      "\u001b[34m[2020-05-21 17:05:10 +0000] [41] [INFO] Booting worker with pid: 41\u001b[0m\n",
      "\u001b[34m[2020-05-21:17:05:10:INFO] Model loaded successfully for worker : 40\u001b[0m\n",
      "\u001b[34m[2020-05-21:17:05:10:INFO] Model loaded successfully for worker : 41\u001b[0m\n",
      "\u001b[32m2020-05-21T17:05:38.745:[sagemaker logs]: MaxConcurrentTransforms=4, MaxPayloadInMB=6, BatchStrategy=MULTI_RECORD\u001b[0m\n",
      "\u001b[34m[2020-05-21:17:05:40:INFO] Sniff delimiter as ','\u001b[0m\n",
      "\u001b[34m[2020-05-21:17:05:40:INFO] Determined delimiter of CSV input is ','\u001b[0m\n",
      "\u001b[34m[2020-05-21:17:05:41:INFO] Sniff delimiter as ','\u001b[0m\n",
      "\u001b[34m[2020-05-21:17:05:41:INFO] Determined delimiter of CSV input is ','\u001b[0m\n",
      "\u001b[35m[2020-05-21:17:05:40:INFO] Sniff delimiter as ','\u001b[0m\n",
      "\u001b[35m[2020-05-21:17:05:40:INFO] Determined delimiter of CSV input is ','\u001b[0m\n",
      "\u001b[35m[2020-05-21:17:05:41:INFO] Sniff delimiter as ','\u001b[0m\n",
      "\u001b[35m[2020-05-21:17:05:41:INFO] Determined delimiter of CSV input is ','\u001b[0m\n",
      "\u001b[34m[2020-05-21:17:05:41:INFO] Sniff delimiter as ','\u001b[0m\n",
      "\u001b[34m[2020-05-21:17:05:41:INFO] Determined delimiter of CSV input is ','\u001b[0m\n",
      "\u001b[35m[2020-05-21:17:05:41:INFO] Sniff delimiter as ','\u001b[0m\n",
      "\u001b[35m[2020-05-21:17:05:41:INFO] Determined delimiter of CSV input is ','\u001b[0m\n",
      "\u001b[34m[2020-05-21:17:05:42:INFO] Sniff delimiter as ','\u001b[0m\n",
      "\u001b[34m[2020-05-21:17:05:42:INFO] Determined delimiter of CSV input is ','\u001b[0m\n",
      "\u001b[34m[2020-05-21:17:05:43:INFO] Sniff delimiter as ','\u001b[0m\n",
      "\u001b[34m[2020-05-21:17:05:43:INFO] Determined delimiter of CSV input is ','\u001b[0m\n",
      "\u001b[34m[2020-05-21:17:05:43:INFO] Sniff delimiter as ','\u001b[0m\n",
      "\u001b[35m[2020-05-21:17:05:42:INFO] Sniff delimiter as ','\u001b[0m\n",
      "\u001b[35m[2020-05-21:17:05:42:INFO] Determined delimiter of CSV input is ','\u001b[0m\n",
      "\u001b[35m[2020-05-21:17:05:43:INFO] Sniff delimiter as ','\u001b[0m\n",
      "\u001b[35m[2020-05-21:17:05:43:INFO] Determined delimiter of CSV input is ','\u001b[0m\n",
      "\u001b[35m[2020-05-21:17:05:43:INFO] Sniff delimiter as ','\u001b[0m\n",
      "\u001b[34m[2020-05-21:17:05:43:INFO] Determined delimiter of CSV input is ','\u001b[0m\n",
      "\u001b[35m[2020-05-21:17:05:43:INFO] Determined delimiter of CSV input is ','\u001b[0m\n",
      "\u001b[34m[2020-05-21:17:05:44:INFO] Sniff delimiter as ','\u001b[0m\n",
      "\u001b[34m[2020-05-21:17:05:44:INFO] Determined delimiter of CSV input is ','\u001b[0m\n",
      "\u001b[35m[2020-05-21:17:05:44:INFO] Sniff delimiter as ','\u001b[0m\n",
      "\u001b[35m[2020-05-21:17:05:44:INFO] Determined delimiter of CSV input is ','\u001b[0m\n",
      "\u001b[34m[2020-05-21:17:05:45:INFO] Sniff delimiter as ','\u001b[0m\n",
      "\u001b[34m[2020-05-21:17:05:45:INFO] Determined delimiter of CSV input is ','\u001b[0m\n",
      "\u001b[34m[2020-05-21:17:05:45:INFO] Sniff delimiter as ','\u001b[0m\n",
      "\u001b[34m[2020-05-21:17:05:45:INFO] Determined delimiter of CSV input is ','\u001b[0m\n",
      "\u001b[35m[2020-05-21:17:05:45:INFO] Sniff delimiter as ','\u001b[0m\n",
      "\u001b[35m[2020-05-21:17:05:45:INFO] Determined delimiter of CSV input is ','\u001b[0m\n",
      "\u001b[35m[2020-05-21:17:05:45:INFO] Sniff delimiter as ','\u001b[0m\n",
      "\u001b[35m[2020-05-21:17:05:45:INFO] Determined delimiter of CSV input is ','\u001b[0m\n",
      "\u001b[34m[2020-05-21:17:05:45:INFO] Sniff delimiter as ','\u001b[0m\n",
      "\u001b[34m[2020-05-21:17:05:45:INFO] Determined delimiter of CSV input is ','\u001b[0m\n",
      "\u001b[35m[2020-05-21:17:05:45:INFO] Sniff delimiter as ','\u001b[0m\n",
      "\u001b[35m[2020-05-21:17:05:45:INFO] Determined delimiter of CSV input is ','\u001b[0m\n",
      "\u001b[34m[2020-05-21:17:05:47:INFO] Sniff delimiter as ','\u001b[0m\n",
      "\u001b[34m[2020-05-21:17:05:47:INFO] Determined delimiter of CSV input is ','\u001b[0m\n",
      "\u001b[34m[2020-05-21:17:05:47:INFO] Sniff delimiter as ','\u001b[0m\n",
      "\u001b[34m[2020-05-21:17:05:47:INFO] Determined delimiter of CSV input is ','\u001b[0m\n",
      "\u001b[34m[2020-05-21:17:05:47:INFO] Sniff delimiter as ','\u001b[0m\n",
      "\u001b[34m[2020-05-21:17:05:47:INFO] Determined delimiter of CSV input is ','\u001b[0m\n",
      "\u001b[35m[2020-05-21:17:05:47:INFO] Sniff delimiter as ','\u001b[0m\n",
      "\u001b[35m[2020-05-21:17:05:47:INFO] Determined delimiter of CSV input is ','\u001b[0m\n",
      "\u001b[35m[2020-05-21:17:05:47:INFO] Sniff delimiter as ','\u001b[0m\n",
      "\u001b[35m[2020-05-21:17:05:47:INFO] Determined delimiter of CSV input is ','\u001b[0m\n",
      "\u001b[35m[2020-05-21:17:05:47:INFO] Sniff delimiter as ','\u001b[0m\n",
      "\u001b[35m[2020-05-21:17:05:47:INFO] Determined delimiter of CSV input is ','\u001b[0m\n",
      "\u001b[34m[2020-05-21:17:05:48:INFO] Sniff delimiter as ','\u001b[0m\n",
      "\u001b[34m[2020-05-21:17:05:48:INFO] Determined delimiter of CSV input is ','\u001b[0m\n",
      "\u001b[35m[2020-05-21:17:05:48:INFO] Sniff delimiter as ','\u001b[0m\n",
      "\u001b[35m[2020-05-21:17:05:48:INFO] Determined delimiter of CSV input is ','\u001b[0m\n",
      "\u001b[34m[2020-05-21:17:05:50:INFO] Sniff delimiter as ','\u001b[0m\n",
      "\u001b[34m[2020-05-21:17:05:50:INFO] Determined delimiter of CSV input is ','\u001b[0m\n",
      "\u001b[34m[2020-05-21:17:05:50:INFO] Sniff delimiter as ','\u001b[0m\n",
      "\u001b[35m[2020-05-21:17:05:50:INFO] Sniff delimiter as ','\u001b[0m\n",
      "\u001b[35m[2020-05-21:17:05:50:INFO] Determined delimiter of CSV input is ','\u001b[0m\n",
      "\u001b[35m[2020-05-21:17:05:50:INFO] Sniff delimiter as ','\u001b[0m\n",
      "\u001b[34m[2020-05-21:17:05:50:INFO] Determined delimiter of CSV input is ','\u001b[0m\n",
      "\u001b[34m[2020-05-21:17:05:50:INFO] Sniff delimiter as ','\u001b[0m\n",
      "\u001b[34m[2020-05-21:17:05:50:INFO] Determined delimiter of CSV input is ','\u001b[0m\n",
      "\u001b[34m[2020-05-21:17:05:50:INFO] Sniff delimiter as ','\u001b[0m\n",
      "\u001b[34m[2020-05-21:17:05:50:INFO] Determined delimiter of CSV input is ','\u001b[0m\n",
      "\u001b[35m[2020-05-21:17:05:50:INFO] Determined delimiter of CSV input is ','\u001b[0m\n",
      "\u001b[35m[2020-05-21:17:05:50:INFO] Sniff delimiter as ','\u001b[0m\n",
      "\u001b[35m[2020-05-21:17:05:50:INFO] Determined delimiter of CSV input is ','\u001b[0m\n",
      "\u001b[35m[2020-05-21:17:05:50:INFO] Sniff delimiter as ','\u001b[0m\n",
      "\u001b[35m[2020-05-21:17:05:50:INFO] Determined delimiter of CSV input is ','\u001b[0m\n",
      "\u001b[34m[2020-05-21:17:05:52:INFO] Determined delimiter of CSV input is ','\u001b[0m\n",
      "\u001b[34m[2020-05-21:17:05:52:INFO] Sniff delimiter as ','\u001b[0m\n",
      "\u001b[34m[2020-05-21:17:05:52:INFO] Determined delimiter of CSV input is ','\u001b[0m\n",
      "\u001b[35m[2020-05-21:17:05:52:INFO] Determined delimiter of CSV input is ','\u001b[0m\n",
      "\u001b[35m[2020-05-21:17:05:52:INFO] Sniff delimiter as ','\u001b[0m\n",
      "\u001b[35m[2020-05-21:17:05:52:INFO] Determined delimiter of CSV input is ','\u001b[0m\n",
      "\u001b[34m[2020-05-21:17:05:54:INFO] Sniff delimiter as ','\u001b[0m\n",
      "\u001b[34m[2020-05-21:17:05:54:INFO] Determined delimiter of CSV input is ','\u001b[0m\n",
      "\u001b[34m[2020-05-21:17:05:55:INFO] Sniff delimiter as ','\u001b[0m\n",
      "\u001b[34m[2020-05-21:17:05:55:INFO] Determined delimiter of CSV input is ','\u001b[0m\n",
      "\u001b[34m[2020-05-21:17:05:55:INFO] Sniff delimiter as ','\u001b[0m\n",
      "\u001b[34m[2020-05-21:17:05:55:INFO] Determined delimiter of CSV input is ','\u001b[0m\n",
      "\u001b[34m[2020-05-21:17:05:55:INFO] Sniff delimiter as ','\u001b[0m\n",
      "\u001b[34m[2020-05-21:17:05:55:INFO] Determined delimiter of CSV input is ','\u001b[0m\n",
      "\u001b[35m[2020-05-21:17:05:54:INFO] Sniff delimiter as ','\u001b[0m\n",
      "\u001b[35m[2020-05-21:17:05:54:INFO] Determined delimiter of CSV input is ','\u001b[0m\n",
      "\u001b[35m[2020-05-21:17:05:55:INFO] Sniff delimiter as ','\u001b[0m\n",
      "\u001b[35m[2020-05-21:17:05:55:INFO] Determined delimiter of CSV input is ','\u001b[0m\n",
      "\u001b[35m[2020-05-21:17:05:55:INFO] Sniff delimiter as ','\u001b[0m\n",
      "\u001b[35m[2020-05-21:17:05:55:INFO] Determined delimiter of CSV input is ','\u001b[0m\n",
      "\u001b[35m[2020-05-21:17:05:55:INFO] Sniff delimiter as ','\u001b[0m\n",
      "\u001b[35m[2020-05-21:17:05:55:INFO] Determined delimiter of CSV input is ','\u001b[0m\n",
      "\u001b[34m[2020-05-21:17:05:57:INFO] Sniff delimiter as ','\u001b[0m\n",
      "\u001b[34m[2020-05-21:17:05:57:INFO] Determined delimiter of CSV input is ','\u001b[0m\n",
      "\u001b[34m[2020-05-21:17:05:57:INFO] Sniff delimiter as ','\u001b[0m\n",
      "\u001b[34m[2020-05-21:17:05:57:INFO] Determined delimiter of CSV input is ','\u001b[0m\n",
      "\u001b[35m[2020-05-21:17:05:57:INFO] Sniff delimiter as ','\u001b[0m\n",
      "\u001b[35m[2020-05-21:17:05:57:INFO] Determined delimiter of CSV input is ','\u001b[0m\n",
      "\u001b[35m[2020-05-21:17:05:57:INFO] Sniff delimiter as ','\u001b[0m\n",
      "\u001b[35m[2020-05-21:17:05:57:INFO] Determined delimiter of CSV input is ','\u001b[0m\n",
      "\u001b[34m[2020-05-21:17:05:57:INFO] Sniff delimiter as ','\u001b[0m\n",
      "\u001b[34m[2020-05-21:17:05:57:INFO] Determined delimiter of CSV input is ','\u001b[0m\n",
      "\u001b[34m[2020-05-21:17:05:57:INFO] Sniff delimiter as ','\u001b[0m\n",
      "\u001b[34m[2020-05-21:17:05:57:INFO] Determined delimiter of CSV input is ','\u001b[0m\n",
      "\u001b[35m[2020-05-21:17:05:57:INFO] Sniff delimiter as ','\u001b[0m\n",
      "\u001b[35m[2020-05-21:17:05:57:INFO] Determined delimiter of CSV input is ','\u001b[0m\n",
      "\u001b[35m[2020-05-21:17:05:57:INFO] Sniff delimiter as ','\u001b[0m\n",
      "\u001b[35m[2020-05-21:17:05:57:INFO] Determined delimiter of CSV input is ','\u001b[0m\n",
      "\u001b[34m[2020-05-21:17:05:59:INFO] Sniff delimiter as ','\u001b[0m\n",
      "\u001b[34m[2020-05-21:17:05:59:INFO] Determined delimiter of CSV input is ','\u001b[0m\n",
      "\u001b[34m[2020-05-21:17:05:59:INFO] Sniff delimiter as ','\u001b[0m\n",
      "\u001b[34m[2020-05-21:17:05:59:INFO] Determined delimiter of CSV input is ','\u001b[0m\n",
      "\u001b[34m[2020-05-21:17:06:00:INFO] Sniff delimiter as ','\u001b[0m\n",
      "\u001b[34m[2020-05-21:17:06:00:INFO] Determined delimiter of CSV input is ','\u001b[0m\n",
      "\u001b[34m[2020-05-21:17:06:00:INFO] Sniff delimiter as ','\u001b[0m\n",
      "\u001b[35m[2020-05-21:17:05:59:INFO] Sniff delimiter as ','\u001b[0m\n",
      "\u001b[35m[2020-05-21:17:05:59:INFO] Determined delimiter of CSV input is ','\u001b[0m\n",
      "\u001b[35m[2020-05-21:17:05:59:INFO] Sniff delimiter as ','\u001b[0m\n",
      "\u001b[35m[2020-05-21:17:05:59:INFO] Determined delimiter of CSV input is ','\u001b[0m\n",
      "\u001b[35m[2020-05-21:17:06:00:INFO] Sniff delimiter as ','\u001b[0m\n",
      "\u001b[35m[2020-05-21:17:06:00:INFO] Determined delimiter of CSV input is ','\u001b[0m\n",
      "\u001b[35m[2020-05-21:17:06:00:INFO] Sniff delimiter as ','\u001b[0m\n",
      "\u001b[34m[2020-05-21:17:06:00:INFO] Determined delimiter of CSV input is ','\u001b[0m\n",
      "\u001b[35m[2020-05-21:17:06:00:INFO] Determined delimiter of CSV input is ','\u001b[0m\n",
      "\u001b[34m[2020-05-21:17:06:02:INFO] Sniff delimiter as ','\u001b[0m\n",
      "\u001b[34m[2020-05-21:17:06:02:INFO] Determined delimiter of CSV input is ','\u001b[0m\n",
      "\u001b[34m[2020-05-21:17:06:02:INFO] Sniff delimiter as ','\u001b[0m\n",
      "\u001b[34m[2020-05-21:17:06:02:INFO] Determined delimiter of CSV input is ','\u001b[0m\n",
      "\u001b[34m[2020-05-21:17:06:02:INFO] Sniff delimiter as ','\u001b[0m\n",
      "\u001b[35m[2020-05-21:17:06:02:INFO] Sniff delimiter as ','\u001b[0m\n",
      "\u001b[35m[2020-05-21:17:06:02:INFO] Determined delimiter of CSV input is ','\u001b[0m\n",
      "\u001b[35m[2020-05-21:17:06:02:INFO] Sniff delimiter as ','\u001b[0m\n",
      "\u001b[35m[2020-05-21:17:06:02:INFO] Determined delimiter of CSV input is ','\u001b[0m\n",
      "\u001b[35m[2020-05-21:17:06:02:INFO] Sniff delimiter as ','\u001b[0m\n",
      "\u001b[34m[2020-05-21:17:06:02:INFO] Determined delimiter of CSV input is ','\u001b[0m\n",
      "\u001b[35m[2020-05-21:17:06:02:INFO] Determined delimiter of CSV input is ','\u001b[0m\n",
      "\u001b[34m[2020-05-21:17:06:02:INFO] Sniff delimiter as ','\u001b[0m\n",
      "\u001b[34m[2020-05-21:17:06:02:INFO] Determined delimiter of CSV input is ','\u001b[0m\n",
      "\u001b[35m[2020-05-21:17:06:02:INFO] Sniff delimiter as ','\u001b[0m\n",
      "\u001b[35m[2020-05-21:17:06:02:INFO] Determined delimiter of CSV input is ','\u001b[0m\n",
      "\u001b[34m[2020-05-21:17:06:04:INFO] Sniff delimiter as ','\u001b[0m\n",
      "\u001b[34m[2020-05-21:17:06:04:INFO] Determined delimiter of CSV input is ','\u001b[0m\n",
      "\u001b[34m[2020-05-21:17:06:04:INFO] Sniff delimiter as ','\u001b[0m\n",
      "\u001b[34m[2020-05-21:17:06:04:INFO] Determined delimiter of CSV input is ','\u001b[0m\n",
      "\u001b[35m[2020-05-21:17:06:04:INFO] Sniff delimiter as ','\u001b[0m\n",
      "\u001b[35m[2020-05-21:17:06:04:INFO] Determined delimiter of CSV input is ','\u001b[0m\n",
      "\u001b[35m[2020-05-21:17:06:04:INFO] Sniff delimiter as ','\u001b[0m\n",
      "\u001b[35m[2020-05-21:17:06:04:INFO] Determined delimiter of CSV input is ','\u001b[0m\n"
     ]
    },
    {
     "name": "stdout",
     "output_type": "stream",
     "text": [
      "\n"
     ]
    }
   ],
   "source": [
    "xgb_transformer.wait()"
   ]
  },
  {
   "cell_type": "markdown",
   "metadata": {},
   "source": [
    "Now the transform job has executed and the result, the estimated sentiment of each review, has been saved on S3. Since we would rather work on this file locally we can perform a bit of notebook magic to copy the file to the `data_dir`."
   ]
  },
  {
   "cell_type": "code",
   "execution_count": 31,
   "metadata": {},
   "outputs": [
    {
     "name": "stdout",
     "output_type": "stream",
     "text": [
      "Completed 256.0 KiB/369.0 KiB (2.3 MiB/s) with 1 file(s) remaining\r",
      "Completed 369.0 KiB/369.0 KiB (3.4 MiB/s) with 1 file(s) remaining\r",
      "download: s3://sagemaker-us-west-1-731892558299/xgboost-2020-05-21-17-01-45-753/test.csv.out to ../data/sentiment_update/test.csv.out\r\n"
     ]
    }
   ],
   "source": [
    "!aws s3 cp --recursive $xgb_transformer.output_path $data_dir"
   ]
  },
  {
   "cell_type": "markdown",
   "metadata": {},
   "source": [
    "The last step is now to read in the output from our model, convert the output to something a little more usable, in this case we want the sentiment to be either `1` (positive) or `0` (negative), and then compare to the ground truth labels."
   ]
  },
  {
   "cell_type": "code",
   "execution_count": 32,
   "metadata": {},
   "outputs": [],
   "source": [
    "predictions = pd.read_csv(os.path.join(data_dir, 'test.csv.out'), header=None)\n",
    "predictions = [round(num) for num in predictions.squeeze().values]"
   ]
  },
  {
   "cell_type": "code",
   "execution_count": 33,
   "metadata": {},
   "outputs": [
    {
     "data": {
      "text/plain": [
       "0.85232"
      ]
     },
     "execution_count": 33,
     "metadata": {},
     "output_type": "execute_result"
    }
   ],
   "source": [
    "from sklearn.metrics import accuracy_score\n",
    "accuracy_score(test_y, predictions)"
   ]
  },
  {
   "cell_type": "markdown",
   "metadata": {},
   "source": [
    "## Step 5: Looking at New Data\n",
    "\n",
    "So now we have an XGBoost sentiment analysis model that we believe is working pretty well. As a result, we deployed it and we are using it in some sort of app.\n",
    "\n",
    "However, as we allow users to use our app we periodically record submitted movie reviews so that we can perform some quality control on our deployed model. Once we've accumulated enough reviews we go through them by hand and evaluate whether they are positive or negative (there are many ways you might do this in practice aside from by hand). The reason for doing this is so that we can check to see how well our model is doing."
   ]
  },
  {
   "cell_type": "code",
   "execution_count": 34,
   "metadata": {},
   "outputs": [],
   "source": [
    "import new_data\n",
    "\n",
    "new_X, new_Y = new_data.get_new_data()"
   ]
  },
  {
   "cell_type": "code",
   "execution_count": 35,
   "metadata": {},
   "outputs": [
    {
     "name": "stdout",
     "output_type": "stream",
     "text": [
      "['felt', 'great', 'joy', 'see', 'film', 'master', 'piec', 'convinc', 'portugues', 'cinema', 'becam', 'realli', 'good', 'see', 'best', 'portugues', 'actor', 'field']\n"
     ]
    }
   ],
   "source": [
    "# Tokenized data looks like this: \n",
    "print(new_X[100])"
   ]
  },
  {
   "cell_type": "markdown",
   "metadata": {},
   "source": [
    "**NOTE:** Part of the fun in this notebook is trying to figure out what exactly is happening with the new data, so try not to cheat by looking in the `new_data` module. Also, the `new_data` module assumes that the cache created earlier in Step 3 is still stored in `../cache/sentiment_analysis`."
   ]
  },
  {
   "cell_type": "markdown",
   "metadata": {},
   "source": [
    "### (TODO) Testing the current model\n",
    "\n",
    "Now that we've loaded the new data, let's check to see how our current XGBoost model performs on it.\n",
    "\n",
    "First, note that the data that has been loaded has already been pre-processed so that each entry in `new_X` is a list of words that have been processed using `nltk`. However, we have not yet constructed the bag of words encoding, which we will do now.\n",
    "\n",
    "First, we use the vocabulary that we constructed earlier using the original training data to construct a `CountVectorizer` which we will use to transform our new data into its bag of words encoding.\n",
    "\n",
    "**TODO:** Create the CountVectorizer object using the vocabulary created earlier and use it to transform the new data."
   ]
  },
  {
   "cell_type": "code",
   "execution_count": 36,
   "metadata": {},
   "outputs": [],
   "source": [
    "# TODO: Create the CountVectorizer using the previously constructed vocabulary\n",
    "vectorizer = CountVectorizer(vocabulary=vocabulary,\n",
    "                preprocessor=lambda x: x, tokenizer=lambda x: x)\n",
    "\n",
    "# TODO: Transform our new data set and store the transformed data in the variable new_XV\n",
    "new_XV = vectorizer.transform(new_X).toarray()"
   ]
  },
  {
   "cell_type": "markdown",
   "metadata": {},
   "source": [
    "As a quick sanity check, we make sure that the length of each of our bag of words encoded reviews is correct. In particular, it must be the same size as the vocabulary which in our case is `5000`."
   ]
  },
  {
   "cell_type": "code",
   "execution_count": 37,
   "metadata": {},
   "outputs": [
    {
     "data": {
      "text/plain": [
       "5000"
      ]
     },
     "execution_count": 37,
     "metadata": {},
     "output_type": "execute_result"
    }
   ],
   "source": [
    "len(new_XV[100])"
   ]
  },
  {
   "cell_type": "code",
   "execution_count": 38,
   "metadata": {},
   "outputs": [
    {
     "name": "stdout",
     "output_type": "stream",
     "text": [
      "[0 0 0 ... 0 0 0]\n"
     ]
    }
   ],
   "source": [
    "print(new_XV[100])"
   ]
  },
  {
   "cell_type": "code",
   "execution_count": 39,
   "metadata": {},
   "outputs": [
    {
     "name": "stdout",
     "output_type": "stream",
     "text": [
      "{'give': 1959, '9': 93, '10': 4, 'need': 3030, 'view': 4779, 'current': 1148, 'mind': 2890, 'frame': 1845, 'fresh': 1865, 'perspect': 3299, 'rememb': 3673, 'amaz': 233, 'psycholog': 3518, 'thriller': 4500, 'dazzl': 1196, 'brain': 607, 'eye': 1659, 'watch': 4844, 'would': 4957, 'everi': 1601, 'time': 4519, 'came': 706, 'hbo': 2114, 'back': 405, 'day': 1195, 'probabl': 3470, '1990': 45, 'might': 2874, 'even': 1597, 'record': 3626, 'long': 2692, 'gone': 1987, 'sure': 4365, 'wrote': 4970, 'tri': 4601, 'get': 1944, 'titl': 4528, 'carri': 752, 'hope': 2202, 'find': 1756, 'local': 2682, 'video': 4777, 'store': 4270, 'highli': 2158, 'recommend': 3625, 'somewher': 4137, 'interest': 2377, 'least': 2608, 'enjoy': 1545, 'movi': 2972, 'edward': 1478, 'anyth': 284, 'sort': 4147, 'strang': 4279, 'along': 218, 'line': 2661, 'one': 3155, 'im': 2273, 'still': 4255, 'doubt': 1386, 'horribl': 2209, 'wors': 4950, 'ever': 1600, 'saw': 3865, 'actor': 139, 'pain': 3217, 'imposs': 2293, 'text': 4472, 'submit': 4317, 'comment': 960, 'agre': 180, 'term': 4460, 'laid': 2567, 'statement': 4236, 'must': 2993, 'origin': 3173, 'work': 4944, 'normal': 3088, 'post': 3403, 'site': 4064, 'within': 4928, '2': 55, '3': 73, 'busi': 683, 'meet': 2835, 'pleas': 3355, 'write': 4966, 'english': 1542, 'board': 561, 'mark': 2784, 'support': 4361, 'though': 4491, 'break': 616, 'insert': 2352, 'leav': 2610, 'blank': 538, 'shot': 4012, 'car': 734, 'someon': 4133, 'play': 3352, 'els': 1506, 'latest': 2583, 'song': 4139, 'react': 3601, 'accord': 124, 'voic': 4802, 'wonder': 4936, 'made': 2742, 'mani': 2766, 'scene': 3876, 'come': 952, 'camera': 708, 'descend': 1266, 'parti': 3246, 'true': 4620, 'exploit': 1644, 'max': 2813, 'total': 4558, 'fabric': 1662, 'either': 1488, 'way': 4851, 'uncomfort': 4658, 'purpos': 3534, 'thru': 4505, 'kept': 2518, 'footag': 1814, 'taken': 4411, 'face': 1664, 'valu': 4740, 'nice': 3059, 'portrait': 3396, 'tortur': 4556, 'geniu': 1933, 'believ': 482, 'film': 1750, 'budget': 663, '20': 56, 'million': 2886, 'like': 2654, 'know': 2545, 'money': 2937, 'went': 4875, 'monkey': 2939, 'could': 1075, 'make': 2757, 'better': 502, 'cgi': 793, 'effect': 1480, 'wast': 4843, 'hour': 2221, 'dread': 1403, 'piec': 3328, 'garbag': 1915, 'although': 225, 'admit': 151, 'machin': 2738, 'martian': 2793, 'look': 2694, 'realli': 3612, 'cool': 1056, 'station': 4238, '1': 3, 'game': 1910, 'earli': 1451, 'pc': 3274, 'mid': 2871, '90': 94, 'puzzl': 3539, 'go': 1975, 'great': 2019, 'good': 1989, 'old': 3148, 'fashion': 1701, 'model': 2926, 'comput': 988, 'control': 1043, 'la': 2559, 'georg': 1938, 'luca': 2716, 'actual': 141, 'care': 737, 'ruin': 3816, 'case': 756, 'quit': 3554, 'possibl': 3402, 'worst': 4952, 'rather': 3592, 'sit': 4062, '24': 69, 'repeat': 3683, 'screen': 3896, 'hate': 2109, 'complet': 978, 'say': 3866, 'unlik': 4698, 'bad': 410, 'plan': 3345, 'killer': 2528, 'tomato': 4539, 'santa': 3854, 'clau': 890, 'conquer': 1012, 'special': 4169, 'place': 3342, 'heart': 2123, 'love': 2709, 'dvd': 1442, 'librari': 2644, 'sold': 4123, 'guy': 2062, 'dollar': 1371, 'bet': 499, 'spent': 4177, 'vice': 4770, 'cast': 762, 'crew': 1114, 'shame': 3978, 'want': 4830, 'jacki': 2420, 'chan': 801, 'classic': 889, 'directori': 1321, 'featur': 1718, 'polic': 3378, 'stori': 4271, '1985': 40, 'among': 243, 'top': 4550, 'modern': 2928, 'action': 137, 'hong': 2196, 'kong': 2549, 'simpli': 4044, 'includ': 2305, 'usual': 4727, 'kung': 2554, 'fu': 1879, 'also': 222, 'gun': 2058, 'urban': 4719, 'later': 2582, 'becom': 467, 'popular': 3391, 'typic': 4643, 'hk': 2174, 'director': 1320, 'john': 2465, 'woo': 4938, 'mix': 2918, 'two': 4640, 'element': 1496, 'style': 4311, 'result': 3716, 'wild': 4907, 'sound': 4149, 'protect': 3506, 'import': 2290, 'wit': 4926, 'soon': 4140, 'power': 3412, 'gangster': 1913, 'boss': 588, 'ring': 3752, 'crimin': 1117, 'activ': 138, 'girlfriend': 1958, 'young': 4989, 'sweet': 4389, 'maggi': 2746, 'subsequ': 4319, 'role': 3780, 'heroic': 2147, 'trio': 4610, 'sequel': 3950, 'johnni': 2466, 'soul': 4148, 'david': 1192, 'other': 3179, 'plot': 3362, 'simpl': 4043, 'first': 1764, 'cours': 1085, 'stunt': 4309, 'charact': 808, 'hurt': 2246, 'pretti': 3446, 'badli': 412, 'coupl': 1083, 'end': 1531, 'hit': 2171, 'head': 2115, 'near': 3021, 'nasti': 3012, 'sharp': 3984, 'glass': 1965, 'team': 4435, 'member': 2843, 'almost': 216, 'got': 1996, 'kill': 2527, 'bu': 658, 'stop': 4269, 'right': 3751, 'spit': 4190, 'fli': 1786, 'suppos': 4362, 'park': 3241, 'front': 1874, 'flight': 1788, 'short': 4008, 'hospit': 2215, 'level': 2638, 'injuri': 2346, 'credit': 1110, 'behind': 478, 'imageri': 2275, 'imag': 2274, 'injur': 2345, 'tasteless': 4427, 'fortun': 1834, 'sever': 3966, 'plenti': 3359, 'imagin': 2276, 'expect': 1633, 'legendari': 2619, 'shop': 4007, 'mall': 2761, 'abl': 100, 'deliv': 1242, 'alway': 229, 'tell': 4449, 'edit': 1475, 'show': 4016, 'perfect': 3288, 'ultra': 4649, 'compar': 969, 'hollywood': 2184, 'effort': 1482, 'instanc': 2360, 'hardli': 2098, 'slow': 4097, 'moment': 2935, 'never': 3049, 'bore': 583, 'hard': 2094, 'neg': 3032, 'point': 3370, 'cannot': 723, 'stand': 4224, 'comedi': 954, 'funni': 1891, 'especi': 1577, 'error': 1575, 'amateurish': 232, 'screenplay': 3897, 'accid': 119, 'writer': 4967, 'add': 145, 'without': 4929, 'necessarili': 3027, 'understand': 4670, 'sign': 4032, 'script': 3900, 'stupid': 4310, 'dialogu': 1295, 'mean': 2822, 'stab': 4213, 'murder': 2985, 'attempt': 362, 'begin': 474, 'shout': 4014, 'scream': 3895, 'act': 136, 'drunken': 1424, 'clown': 919, 'slapstick': 4079, 'nightmar': 3068, 'girl': 1957, 'kind': 2530, 'inept': 2327, 'see': 3920, 'otherwis': 3180, 'genr': 1934, 'speak': 4167, 'thought': 4492, 'loud': 2704, 'thing': 4484, 'clear': 894, 'viewer': 4780, 'thu': 4506, 'light': 2651, 'comic': 957, 'seriou': 3955, 'forgiven': 1825, 'easili': 1459, 'fast': 1702, 'speed': 4174, 'full': 1883, 'impact': 2285, 'ball': 421, 'wall': 4821, 'adventur': 159, 'miracl': 2901, 'sad': 3833, 'us': 4721, 'produc': 3476, 'jame': 2426, 'audienc': 370, 'return': 3723, 'person': 3297, 'invent': 2392, 'definit': 1233, 'today': 4529, '80': 92, 'insan': 2351, 'somewhat': 4136, 'flaw': 1781, 'mention': 2849, '7': 87, 'exactli': 1614, 'richard': 3742, 'harri': 2102, 'finest': 1758, 'dement': 1247, 'death': 1206, 'whale': 4881, 'wife': 4905, 'child': 839, 'charlott': 817, 'expert': 1639, 'involv': 2397, 'yell': 4983, 'lot': 2702, 'natur': 3017, 'alon': 217, 'listen': 2670, 'somehow': 4132, 'battl': 452, 'reveng': 3728, 'craze': 1101, 'except': 1619, 'round': 3805, 'mirror': 2903, 'endless': 1533, 'reflect': 3641, 'bo': 560, 'derek': 1264, 'particularli': 3250, 'unpleas': 4701, 'run': 3820, 'robert': 3770, 'fare': 1694, 'well': 4872, 'polit': 3382, 'documentari': 1368, 'recent': 3619, 'call': 703, 'fight': 1744, 'examin': 1616, 'infam': 2330, 'militari': 2882, 'industri': 2326, 'complex': 979, 'grip': 2037, 'nation': 3015, 'consid': 1019, 'war': 4831, 'iraq': 2399, 'yet': 4986, 'far': 1692, 'famou': 1686, 'seri': 3953, 'name': 3006, 'world': 4946, 'frank': 1851, 'oscar': 3177, 'categori': 768, 'seven': 3964, 'truli': 4621, 'mere': 2851, 'vein': 4756, 'triumph': 4615, 'recycl': 3630, 'said': 3839, 'fact': 1667, 'vital': 4799, 'inform': 2336, 'gener': 1930, 'bbc': 454, 'lack': 2563, 'primari': 3456, 'sourc': 4152, 'less': 2632, 'valuabl': 4741, 'skill': 4071, 'purchas': 3531, 'use': 4723, 'found': 1839, 'opportun': 3163, 'select': 3929, 'free': 1859, 'chose': 855, 'four': 1840, 'collect': 940, 'rare': 3589, 'someth': 4134, 'worth': 4953, 'extra': 1656, 'qualiti': 3543, 'print': 3464, 'vari': 4748, 'provid': 3510, 'insight': 2354, 'american': 240, 'third': 4486, 'centuri': 787, 'ago': 179, 'racism': 3561, 'warner': 4837, 'brother': 650, 'pro': 3469, 'cartoon': 754, 'era': 1571, 'noth': 3098, 'wrong': 4969, 'blatant': 540, 'distort': 1354, '1945': 22, 'nazi': 3020, 'strike': 4289, 'divid': 1361, 'britain': 637, 'russia': 3825, 'china': 844, 'america': 239, 'overal': 3195, 'obviou': 3126, 'reason': 3615, 'subtl': 4323, 'reveal': 3726, 'x': 4975, 'refer': 3640, 'graphic': 2012, 'whole': 4894, 'japanes': 2431, 'sword': 4394, 'pierc': 3329, 'center': 784, 'appli': 296, 'past': 3258, 'standard': 4225, 'lesson': 2634, 'avoid': 386, 'foreign': 1819, 'whose': 4898, 'three': 4497, 'major': 2756, 'fought': 1837, 'sinc': 4051, 'vietnam': 4778, 'much': 2977, 'histor': 2168, 'may': 2814, 'help': 2141, 'truth': 4624, 'lie': 2645, 'propaganda': 3496, 'realiz': 3611, 'posit': 3400, 'last': 2580, 'year': 4981, 'navi': 3019, 'studi': 4304, 'distanc': 1350, 'away': 393, 'men': 2846, 'honor': 2197, 'base': 437, 'experi': 1636, 'servic': 3959, 'black': 530, 'master': 2801, 'chief': 838, 'struggl': 4300, 'overcom': 3196, 'eager': 1448, 'best': 498, 'side': 4027, 'u': 4644, 'helicopt': 2137, 'assault': 340, 'instal': 2359, 'engross': 1543, 'tale': 4412, 'sailor': 3840, 'rage': 3566, 'wood': 4939, 'antwon': 280, 'fisher': 1768, 'denzel': 1255, 'washington': 4842, 'debut': 1209, 'star': 4229, 'psychiatrist': 3515, 'treat': 4595, 'deepli': 1226, 'luke': 2726, 'obvious': 3127, 'bright': 631, 'enlist': 1547, 'man': 2763, 'assign': 344, 'seem': 3924, 'launch': 2589, 'minim': 2894, 'provoc': 3511, 'fellow': 1725, 'sent': 3944, 'part': 3245, 'pre': 3417, 'separ': 3948, 'proceed': 3473, 'slowli': 4098, 'open': 3158, 'aw': 387, 'childhood': 840, 'neglect': 3033, 'brutal': 655, 'develop': 1289, 'increasingli': 2314, 'trust': 4623, 'doctor': 1366, 'courag': 1084, 'pursu': 3535, 'beauti': 465, 'joy': 2479, 'engag': 1539, 'ask': 334, 'question': 3547, 'seek': 3923, 'answer': 269, 'howev': 2226, 'order': 3169, 'grow': 2044, 'move': 2970, 'conflict': 1005, 'destruct': 1282, 'behavior': 476, 'main': 2752, 'transcend': 4580, 'race': 3558, 'evil': 1608, 'foster': 1836, 'famili': 1684, 'set': 3961, 'davi': 1191, 'actress': 140, 'seen': 3926, 'number': 3111, 'pictur': 3326, 'mom': 2934, 'mr': 2973, 'nelson': 3039, 'earn': 1453, 'exist': 1629, 'gut': 2061, 'patient': 3263, 'interact': 2376, 'follow': 1806, 'certain': 790, 'predict': 3425, 'transfer': 4581, 'counter': 1077, 'stuff': 4306, 'earnest': 1454, 'realist': 3609, 'told': 4536, 'period': 3293, 'real': 3606, 'sens': 3938, 'excel': 1618, 'dealt': 1203, 'crush': 1134, 'direct': 1318, 'surviv': 4374, 'terribl': 4463, 'proclaim': 3475, 'victim': 4772, 'tall': 4416, 'size': 4068, 'signific': 4034, 'brave': 611, 'strong': 4294, 'claim': 882, 'decent': 1213, 'life': 2646, 'aid': 183, 'command': 958, 'address': 148, 'peopl': 3283, 'list': 2669, 'offic': 3140, 'rank': 3583, 'big': 510, 'critic': 1121, 'theater': 4475, 'deserv': 1271, 'wide': 4900, 'distribut': 1357, 'nomin': 3081, '8': 91, 'phil': 3311, 'alien': 207, 'quirki': 3553, 'humour': 2240, 'around': 316, 'odd': 3134, 'everyth': 1605, 'progress': 3487, 'joke': 2469, 'anymor': 282, 'low': 2711, 'that': 4474, 'problem': 3471, 'eventu': 1599, 'lost': 2701, 'appeal': 292, 'similar': 4039, 'anoth': 268, 'planet': 3347, 'michael': 2868, 'jordan': 2474, 'lloyd': 2678, 'martin': 2794, 'clever': 897, 'goldberg': 1983, 'han': 2082, 'straight': 4275, 'german': 1941, 'school': 3881, 'favor': 1709, 'ton': 4542, 'symbol': 4395, 'surreal': 4372, 'wagner': 4814, 'final': 1753, 'masterpiec': 2802, 'written': 4968, 'friday': 1867, 'opera': 3160, 'hous': 2222, 'music': 2990, 'score': 3889, 'accur': 126, 'manner': 2771, 'perform': 3290, 'bold': 569, 'take': 4410, 'crown': 1128, 'bizarr': 529, 'cinematographi': 874, 'known': 2547, 'controversi': 1044, 'prior': 3465, 'releas': 3660, 'hitler': 2173, 'anti': 274, 'grand': 2008, 'daughter': 1189, 'disturb': 1358, 'aspect': 336, 'sung': 4349, 'male': 2760, 'throughout': 4502, 'enchant': 1528, 'kiss': 2535, 'transform': 4582, 'femal': 1727, 'gender': 1928, 'bend': 490, 'display': 1347, 'feminin': 1728, 'quest': 3546, 'holi': 2180, 'serv': 3957, 'mankind': 2769, 'redeem': 3632, 'christ': 858, 'blood': 552, 'photograph': 3319, 'notori': 3101, 'sinist': 4056, 'figur': 1746, 'mistress': 2915, 'flag': 1773, 'hang': 2087, 'outsid': 3192, 'journey': 2478, '19th': 53, '20th': 66, 'tempt': 4452, 'flower': 1797, 'nude': 3108, 'portray': 3397, 'corrupt': 1071, 'mari': 2779, 'eve': 1595, 'soprano': 4143, 'ultim': 4648, 'fan': 1687, 'type': 4642, 'european': 1592, 'intellectu': 2371, 'appreci': 297, 'histori': 2169, 'lover': 2710, 'inde': 2316, 'sing': 4053, 'compel': 972, 'focus': 1802, 'intens': 2374, 'depth': 1261, 'greater': 2020, 'stage': 4216, 'king': 2532, 'sensual': 3943, 'dramat': 1400, 'excit': 1622, 'delv': 1245, 'torment': 4553, 'state': 4235, 'perfectli': 3289, 'product': 3477, 'certainli': 791, 'un': 4651, 'concept': 993, 'christian': 860, 'ceremoni': 789, 'castl': 763, 'knight': 2542, 'wound': 4958, 'dark': 1183, 'turn': 4630, 'etc': 1585, 'theme': 4478, 'art': 322, 'teenag': 4446, 'sexual': 3969, 'uniqu': 4692, 'dare': 1182, 'receiv': 3618, 'littl': 2675, 'public': 3521, 'asid': 333, 'festiv': 1733, 'french': 1863, 'fond': 1807, 'everyday': 1603, 'subject': 4315, 'handl': 2085, 'often': 3142, 'premier': 3429, '2007': 64, 'award': 392, 'new': 3051, 'alreadi': 220, 'de': 1197, 'therefor': 4480, 'cinemat': 872, 'pace': 3209, 'age': 174, 'focu': 1801, 'mainli': 2753, 'differ': 1304, 'delic': 1239, 'perhap': 3291, 'bit': 524, 'offer': 3139, 'enough': 1549, 'scare': 3870, 'deep': 1224, 'layer': 2599, 'access': 118, 'everyon': 1604, 'teen': 4445, 'due': 1430, 'visual': 4798, 'approach': 298, 'authent': 380, 'feel': 1721, 'individu': 2323, 'abomin': 101, 'cinema': 871, 'five': 1771, 'fill': 1748, 'drug': 1421, 'induc': 2324, 'common': 964, 'rave': 3595, 'averag': 385, 'asylum': 354, 'resid': 3701, 'despit': 1278, 'color': 945, 'appear': 293, 'human': 2236, 'children': 842, 'start': 4233, 'innoc': 2349, 'poor': 3386, 'boy': 601, 'drum': 1422, 'wait': 4815, 'put': 3538, 'ye': 4979, 'fear': 1715, 'friend': 1868, 'quickli': 3549, 'weird': 4870, 'grant': 2011, 'accept': 117, 'combin': 951, 'wizard': 4932, 'oz': 3207, 'lose': 2698, 'warm': 4834, 'book': 579, 'foot': 1813, 'yellow': 4984, 'rel': 3656, 'befriend': 471, 'deeper': 1225, 'despair': 1274, 'pleasant': 3356, 'horrif': 2211, 'boat': 563, 'grandfath': 2009, 'clock': 911, 'dragon': 1396, 'ad': 142, 'mayhem': 2816, 'comfort': 956, 'chao': 805, 'villain': 4785, 'dub': 1425, 'plastic': 3349, 'mask': 2796, 'facial': 1665, 'express': 1650, 'deal': 1201, 'ga': 1901, 'lowest': 2713, 'favorit': 1710, 'nose': 3092, 'dive': 1359, 'bodi': 566, 'water': 4847, 'land': 2572, 'prefer': 3426, 'live': 2677, 'summari': 4345, 'terrifi': 4465, 'plane': 3346, 'flick': 1787, 'larg': 2577, 'choic': 847, 'across': 135, 'accident': 120, 'oh': 3143, 'vagu': 4735, 'trailer': 4577, 'forgot': 1826, 'cheesi': 829, 'nonsens': 3085, 'realiti': 3610, 'hell': 2138, 'ride': 3747, 'high': 2155, 'suspens': 4379, 'gradual': 2004, 'reach': 3600, 'climax': 906, 'liter': 2672, 'edg': 1471, 'seat': 3909, 'bite': 526, 'remain': 3670, 'nail': 3003, 'moral': 2952, 'drift': 1410, 'think': 4485, 'viciou': 4771, 'learn': 2607, 'contest': 1034, 'motiv': 2964, 'guess': 2051, 'pull': 3523, 'trigger': 4608, 'candid': 719, 'safe': 3836, 'remind': 3674, 'knew': 2540, 'happen': 2090, 'next': 3058, 'spoiler': 4197, 'chang': 803, 'farmer': 1696, 'idea': 2257, 'rich': 3741, 'felt': 1726, 'done': 1377, 'associ': 346, 'rule': 3818, 'die': 1303, 'serious': 3956, 'execut': 1625, 'given': 1960, 'chanc': 802, 'ie': 2264, 'interestingli': 2378, 'bother': 590, 'caus': 773, 'wish': 4925, 'popcorn': 3389, 'version': 4763, 'australian': 379, 'bloom': 554, 'gave': 1923, 'forc': 1817, 'mechan': 2830, 'shootout': 4006, 'flash': 1776, 'routin': 3807, 'tv': 4633, 'soap': 4117, 'forward': 1835, 'favour': 1711, 'beat': 461, 'career': 738, 'surprisingli': 4371, 'dud': 1427, 'unfunni': 4683, 'cold': 934, 'satir': 3860, 'fish': 1766, 'highlight': 2159, 'adapt': 144, 'superior': 4357, 'render': 3679, 'tragedi': 4574, 'televis': 4448, 'unit': 4693, 'channel': 804, 'epic': 1564, 'scale': 3867, 'emphasi': 1521, 'god': 1977, 'sacrific': 3832, 'queen': 3545, 'outstand': 3193, 'stun': 4308, 'bring': 635, 'blend': 544, 'dawn': 1193, 'strongli': 4297, 'intern': 2380, 'william': 4912, 'lead': 2602, 'dougla': 1387, 'lousi': 2707, 'lazi': 2600, 'allow': 215, 'fine': 1757, 'scriptwrit': 3901, 'abil': 99, 'dislik': 1342, 'despis': 1277, 'incred': 2315, 'talent': 4413, 'sexi': 3968, 'brilliant': 633, 'talk': 4414, 'laugh': 2586, 'detect': 1285, 'homicid': 2191, 'squad': 4210, 'heard': 2122, 'kenneth': 2516, 'citi': 878, 'panic': 3230, 'serial': 3954, 'women': 4935, 'mayor': 2817, 'jonathan': 2472, 'account': 125, 'failur': 1672, 'catch': 766, 'cheap': 823, 'vulgar': 4810, 'unattract': 4653, 'joan': 2459, 'secretari': 3914, 'file': 1747, 'letter': 2637, 'cat': 765, 'dog': 1369, 'blatantli': 541, 'togeth': 4532, 'decid': 1215, 'draw': 1401, 'dress': 1407, 'woman': 4934, 'drag': 1395, 'six': 4066, 'annoy': 267, 'similarli': 4040, 'powel': 3411, 'disguis': 1338, 'crazi': 1102, 'integr': 2370, 'genuin': 1937, 'whatev': 4883, 'razor': 3599, 'bulk': 669, 'plu': 3363, 'splendid': 4193, 'player': 3354, '30': 74, 'delight': 1241, 'touch': 4559, 'sentenc': 3945, 'donald': 1376, 'cop': 1058, 'mistaken': 2914, 'nearli': 3023, 'lynch': 2734, 'mob': 2921, 'ruth': 3827, 'jimmi': 2457, 'lui': 2724, 'grin': 2035, 'dave': 1190, 'small': 4101, 'barbara': 430, 'pepper': 3284, 'loath': 2681, 'note': 3097, 'familiar': 1685, '1930': 17, 'tend': 4455, 'glanc': 1963, 'imdb': 2277, 'rate': 3591, 'steven': 4251, 'alic': 205, 'walker': 4820, 'novel': 3103, 'share': 3981, 'commun': 965, 'treatment': 4596, 'white': 4892, 'rural': 3822, 'abus': 113, 'father': 1707, 'snatch': 4112, 'arm': 312, 'birth': 522, 'miser': 2905, 'sister': 4061, 'newcom': 3052, 'whoopi': 4896, 'marri': 2787, 'husband': 2247, 'danni': 1181, 'glover': 1973, 'humili': 2238, 'remov': 3677, 'heartbreak': 2124, 'keep': 2511, 'reunit': 3725, 'assort': 347, 'tough': 4560, 'step': 4247, 'son': 4138, 'singer': 4054, 'teach': 4433, 'stellar': 4246, 'purpl': 3533, 'manag': 2764, 'captur': 733, 'essenc': 1578, 'complic': 980, 'lesbian': 2630, 'african': 171, 'vivid': 4800, 'shine': 3998, 'respond': 3709, 'surround': 4373, 'suffic': 4335, 'left': 2614, 'late': 2581, 'night': 3066, 'cabl': 696, 'porn': 3392, 'hot': 2219, 'depart': 1256, 'humor': 2239, 'bed': 468, 'adult': 156, 'extrem': 1658, 'train': 4578, 'wreck': 4961, '14': 10, 'episod': 1565, 'bought': 593, 'amazon': 235, 'incid': 2303, 'fairli': 1676, 'gotten': 1999, 'job': 2460, 'forgotten': 1827, 'absolut': 109, 'horrend': 2208, 'multi': 2979, 'project': 3488, 'trek': 4598, 'thirti': 4487, 'ship': 3999, 'chase': 820, 'hilari': 2162, 'smoke': 4108, 'engin': 1540, 'rocket': 3776, 'fulli': 1885, 'jet': 2451, 'west': 4877, 'shoot': 4005, 'out': 3182, 'sci': 3882, 'fi': 1736, 'gene': 1929, 'regardless': 3645, 'hype': 2250, 'minut': 2900, 'disast': 1328, 'kate': 2505, 'ashley': 331, 'disappoint': 1327, 'kid': 2523, 'spend': 4176, 'n': 3002, 'wooden': 4940, 'dead': 1198, 'tree': 4597, 'half': 2072, 'fascin': 1699, 'let': 2636, 'supposedli': 4363, 'messag': 2857, 'indic': 2321, 'backward': 408, 'e': 1447, 'nobodi': 3075, 'anyway': 285, 'opinion': 3161, 'updat': 4714, 'read': 3603, 'surpass': 4369, 'titan': 4527, 'rent': 3681, 'crash': 1097, 'cheer': 827, 'beyond': 506, 'belief': 481, 'tie': 4512, 'drive': 1413, 'blow': 555, 'chines': 845, 'blond': 551, 'shirt': 4001, '4': 79, 'clash': 887, 'ensembl': 1550, 'worn': 4948, 'worri': 4949, 'surpris': 4370, '5': 83, 'necessari': 3026, 'howl': 2227, '6': 85, 'mental': 2848, 'convinc': 1051, 'poke': 3373, 'teacher': 4434, 'priest': 3455, 'bathroom': 450, 'boob': 578, 'heaven': 2128, 'pop': 3388, 'nois': 3078, 'fun': 1886, 'divers': 1360, 'height': 2133, 'plausibl': 3351, 'melodramat': 2841, 'intrigu': 2387, 'throw': 4503, 'materi': 2805, 'ignor': 2265, 'mostli': 2961, 'frequent': 1864, 'cruel': 1131, 'isabel': 2406, 'bone': 575, 'strip': 4291, 'blind': 547, 'ideal': 2258, 'scheme': 3879, 'whore': 4897, 'path': 3260, 'catherin': 769, 'dialog': 1294, 'trite': 4614, 'emot': 1517, 'emili': 1515, 'ralph': 3570, 'gothic': 1997, 'slightli': 4093, 'valid': 4738, 'mtv': 2976, 'goe': 1980, 'basic': 442, 'structur': 4299, 'beach': 456, 'favourit': 1712, 'mixtur': 2919, 'ingredi': 2338, 'horror': 2213, 'romant': 3785, 'outdat': 3184, 'minor': 2898, 'discov': 1333, 'relat': 3657, 'sometim': 4135, 'silli': 4037, 'balanc': 419, 'mood': 2948, 'check': 825, 'bernard': 496, 'rose': 3798, 'immort': 2284, 'belov': 486, 'glenn': 1966, 'british': 638, 'accent': 116, '1st': 54, '2003': 60, 'brad': 605, 'mindless': 2891, 'flesh': 1785, 'eat': 1463, 'zombi': 4997, 'chronicl': 864, '3d': 77, 'wow': 4959, 'underli': 4665, 'thrown': 4504, 'lame': 2569, 'twilight': 4637, 'zone': 4998, 'understood': 4671, 'report': 3689, 'investig': 2394, 'ghost': 1946, 'town': 4565, 'feast': 1716, 'occasion': 3129, 'attract': 368, 'raw': 3596, 'forbidden': 1816, 'societi': 4120, 'up': 4713, 'morbid': 2953, 'financi': 1755, 'determin': 1286, 'invit': 2396, 'addit': 147, 'hungri': 2243, 'wretch': 4965, 'suffer': 4334, 'yearn': 4982, 'poetri': 3368, 'flavor': 1780, 'curiou': 1146, 'lock': 2684, 'tradit': 4572, 'forget': 1822, 'dream': 1404, 'passion': 3257, 'motion': 2963, 'andr': 254, 'inner': 2348, 'philosophi': 3315, 'simon': 4042, 'amount': 246, 'enthusiast': 1558, 'grudg': 2047, 'rant': 3584, 'uneven': 4675, 'difficulti': 1306, 'will': 4910, 'haunt': 2111, 'baddi': 411, 'token': 4534, 'mysteri': 2998, 'semi': 3934, 'alert': 200, 'hide': 2153, 'cover': 1088, 'creepi': 1113, 'secondli': 3912, 'supernatur': 4359, 'brief': 629, 'freddi': 1858, 'jason': 2434, 'em': 1510, 'convent': 1046, 'troubl': 4618, 'vacat': 4733, 'suggest': 4338, 'happi': 2091, 'month': 2945, 'disregard': 1349, 'entri': 1562, 'introduct': 2389, 'depict': 1259, 'citizen': 879, 'kane': 2499, 'reel': 3638, 'unfortun': 4682, 'buy': 691, 'behav': 475, 'ethnic': 1588, 'noir': 3077, '15': 11, 'establish': 1580, 'capabl': 727, 'demand': 1246, '13': 8, 'dana': 1173, 'stroke': 4293, 'meant': 2826, 'cute': 1156, 'creek': 1111, 'monster': 2942, 'rescu': 3697, 'creatur': 1108, 'sceneri': 3877, 'neat': 3024, 'violenc': 4787, 'mild': 2878, 'karen': 2502, 'sarah': 3856, 'michel': 2869, 'exchang': 1621, 'student': 4303, 'japan': 2430, 'social': 4119, 'elderli': 1491, 'emma': 1516, 'grace': 2002, 'previou': 3449, 'disappear': 1326, 'home': 2188, 'rabbit': 3557, 'hole': 2179, 'mayb': 2815, 'influenc': 2334, 'success': 4328, 'underst': 4669, 'trend': 4600, '2005': 62, 'remark': 3672, 'exampl': 1617, 'remak': 3671, 'began': 473, '2000': 57, 'particular': 3249, 'close': 913, 'aka': 188, 'realm': 3613, 'drama': 1399, 'date': 1188, 'fifth': 1742, 'stephen': 4248, 'linear': 2662, 'overli': 3198, 'concern': 994, 'logic': 2686, 'instead': 2363, 'present': 3436, 'sequenc': 3951, 'atmospher': 357, 'depend': 1258, 'admittedli': 152, 'gap': 1914, 'thread': 4494, 'abandon': 97, 'poetic': 3367, 'metaphor': 2861, 'mainstream': 2754, 'suspend': 4378, 'unusu': 4711, 'properti': 3499, 'design': 1272, 'cloth': 917, 'match': 2803, 'exterior': 1655, 'enhanc': 1544, 'eeri': 1479, 'event': 1598, 'entertain': 1555, 'premis': 3431, 'absorb': 110, 'interview': 2384, 'pay': 3273, 'attent': 365, 'aris': 310, 'intim': 2385, 'knowledg': 2546, 'cultur': 1142, 'ponder': 3384, 'scari': 3873, 'clich': 899, 'territori': 4466, 'flashback': 1777, 'finish': 1760, 'mini': 2893, 'ridicul': 3749, 'studio': 4305, 'appropri': 299, 'ident': 2259, 'substitut': 4321, 'non': 3082, 'indian': 2320, 'spanish': 4162, 'cost': 1072, 'domest': 1373, 'profit': 3483, 'pick': 3324, 'bondag': 574, 'flat': 1779, 'banal': 424, 'setup': 3963, 'host': 2216, 'aforement': 168, 'drivel': 1414, 'distract': 1355, 'tack': 4403, 'snake': 4110, 'shut': 4022, 'surfac': 4367, 'kubrick': 2551, 'artist': 326, 'warren': 4839, 'superb': 4353, 'instruct': 2366, 'vote': 4807, 'campaign': 711, 'advis': 162, 'win': 4914, 'elect': 1492, 'identifi': 2260, 'respect': 3708, 'thin': 4483, 'ice': 2254, 'india': 2319, 'chill': 843, 'spine': 4186, 'addict': 146, 'dian': 1297, 'keaton': 2509, 'blown': 556, 'cassavet': 760, 'bigger': 511, 'ground': 2042, 'undoubtedli': 4674, 'middl': 2872, 'gordon': 1992, 'fail': 1671, 'steer': 4245, 'breakdown': 617, 'culmin': 1140, 'argu': 306, 'quiet': 3550, 'opposit': 3165, 'climact': 904, 'estrang': 1583, 'enlighten': 1546, 'weak': 4854, 'weaker': 4855, 'walken': 4819, 'irish': 2401, 'desper': 1275, 'discoveri': 1334, 'giallo': 1947, 'red': 3631, 'winner': 4919, 'guilt': 2054, 'ridden': 3746, 'unexpectedli': 4677, 'italian': 2414, '70': 88, 'bridg': 627, 'convolut': 1053, 'held': 2135, 'compos': 982, 'memor': 2844, 'issu': 2412, 'respons': 3710, 'easi': 1457, 'spot': 4204, 'second': 3910, 'rush': 3823, 'confus': 1007, 'spell': 4175, 'loss': 2700, 'explain': 1640, 'senseless': 3940, 'monologu': 2940, 'unconvinc': 4659, 'realism': 3608, 'verbal': 4760, 'construct': 1026, 'intent': 2375, 'protagonist': 3505, 'unbeliev': 4656, 'consum': 1027, 'literatur': 2674, 'bibl': 508, 'encount': 1529, 'applaud': 295, 'chick': 836, 'threw': 4498, 'onto': 3157, 'street': 4283, 'whine': 4890, 'self': 3930, 'piti': 3339, 'banter': 428, 'pretenti': 3445, 'ancient': 251, 'greek': 2025, 'revel': 3727, 'doom': 1381, 'form': 1828, 'bar': 429, 'code': 929, 'hand': 2083, 'spooki': 4202, 'biblic': 509, 'cleverli': 898, 'expos': 1647, 'empti': 1525, 'space': 4157, 'melodrama': 2840, 'tediou': 4444, 'avail': 383, 'content': 1033, 'mouth': 2969, 'comparison': 970, 'warrant': 4838, 'peter': 3305, 'absurd': 111, 'situat': 4065, 'poorli': 3387, 'drew': 1408, 'heartwarm': 2126, 'alik': 208, '60': 86, 'walk': 4818, 'window': 4917, 'hum': 2235, 'anim': 262, 'bare': 431, 'crappi': 1096, 'dull': 1433, 'fell': 1724, 'asleep': 335, 'sleep': 4086, 'grade': 2003, 'holiday': 2181, 'rip': 3754, '4th': 82, 'ok': 3145, 'room': 3792, '3rd': 78, 'plain': 3344, 'succeed': 4327, 'goal': 1976, 'pan': 3229, 'track': 4569, 'smooth': 4109, 'relax': 3659, 'attend': 364, 'detail': 1284, 'describ': 1268, 'soundtrack': 4150, 'musician': 2991, 'band': 425, 'contribut': 1041, 'sunni': 4350, 'hear': 2121, 'rock': 3775, 'melodi': 2839, 'strength': 4285, 'lift': 2650, 'flow': 1796, 'hair': 2070, 'afternoon': 172, 'pass': 3253, 'crowd': 1127, 'door': 1382, 'met': 2859, 'week': 4867, 'kelli': 2513, 'anchor': 250, 'sinatra': 4050, 'kathryn': 2506, 'grayson': 2018, 'loui': 2705, 'b': 399, 'inspir': 2358, 'choreograph': 852, 'becam': 466, 'joe': 2462, 'fred': 1857, 'astair': 350, 'danc': 1174, 'rival': 3761, 'jerri': 2447, 'mous': 2968, 'walt': 4824, 'disney': 1345, 'mickey': 2870, 'lend': 2624, 'roger': 3779, 'mgm': 2866, 'tom': 4538, 'dancer': 1175, 'strive': 4292, 'dozen': 1392, 'prais': 3414, 'creativ': 1106, 'burt': 680, 'etern': 1586, 'contract': 1037, 'insist': 2356, 'jule': 2485, 'sammi': 3848, 'fall': 1680, 'accompani': 122, 'piano': 3323, 'bowl': 598, 'van': 4743, 'lyric': 2735, 'lifetim': 2649, 'prove': 3509, 'sudden': 4331, 'basi': 441, 'circumst': 877, 'orphan': 3175, 'nephew': 3042, 'dean': 1204, 'fix': 1772, 'audit': 372, 'accomplish': 123, 'pamela': 3228, 'waitress': 4816, 'brooklyn': 648, 'review': 3730, 'meg': 2836, 'broadway': 642, 'brought': 651, 'suspicion': 4381, 'cut': 1155, 'market': 2785, 'retir': 3721, 'countri': 1080, 'debt': 1208, 'extraordinari': 1657, 'straightforward': 4276, 'vs': 4809, 'apart': 287, 'movement': 2971, 'flee': 1783, 'techniqu': 4441, 'fire': 1761, 'clearli': 895, 'devot': 1293, 'distress': 1356, 'variou': 4751, 'pure': 3532, 'regard': 3644, 'moron': 2958, 'fantasi': 1690, 'ador': 155, 'bakshi': 418, 'babe': 400, 'yeah': 4980, 'greatest': 2021, 'anyon': 283, 'robot': 3773, 'vh': 4767, 'capit': 729, 'tremend': 4599, 'charm': 819, 'parker': 3242, 'posey': 3399, 'vehicl': 4755, 'ms': 2974, 'daisi': 1165, 'von': 4806, 'trip': 4611, 'lower': 2712, 'manhattan': 2765, 'dedic': 1220, 'club': 920, 'constantli': 1024, 'naiv': 3004, 'area': 305, 'meat': 2829, 'pretens': 3444, 'earth': 1455, 'rest': 3711, 'suck': 4329, 'resort': 3706, 'reli': 3663, 'smart': 4103, 'con': 989, 'occur': 3132, 'enter': 1553, 'conveni': 1045, 'assembl': 341, 'slap': 4078, 'rain': 3567, 'insult': 2368, 'hatr': 2110, 'defi': 1231, 'creat': 1104, 'improv': 2296, 'reminisc': 3675, 'pleasantli': 3357, 'profession': 3480, 'impress': 2294, 'prison': 3466, 'camp': 710, 'mother': 2962, 'grim': 2034, 'delet': 1237, 'harsh': 2104, 'hint': 2164, 'outright': 3191, 'shown': 4020, 'extent': 1654, 'sadli': 3835, 'gain': 1906, 'huge': 2231, 'fair': 1674, 'slip': 4095, 'crack': 1092, 'reluct': 3668, 'smaller': 4102, 'core': 1062, 'fool': 1811, 'hero': 2146, 'food': 1810, 'deadli': 1199, 'photographi': 3320, 'digit': 1308, 'puppet': 3529, 'stick': 4253, 'pose': 3398, 'heavi': 2129, 'companion': 968, 'analyz': 249, 'philosoph': 3314, 'angl': 259, 'continu': 1036, 'stream': 4281, 'custom': 1154, 'harder': 2096, 'needless': 3031, 'multipl': 2980, 'insid': 2353, 'introduc': 2388, 'unfold': 4680, 'crude': 1130, 'rang': 3581, 'sublim': 4316, 'cake': 700, 'cow': 1089, 'wear': 4860, 'chain': 794, 'gang': 1912, 'bull': 670, 'regular': 3649, 'besid': 497, 'wacki': 4813, 'exagger': 1615, 'contradict': 1038, 'tone': 4543, 'burst': 679, 'lush': 2731, 'bewar': 505, 'extend': 1652, 'subtitl': 4322, 'suffici': 4336, 'miss': 2910, 'halfway': 2073, 'steam': 4243, 'dutch': 1439, 'sub': 4314, 'contain': 1029, 'congratul': 1008, 'marvel': 2795, 'immens': 2281, 'translat': 4584, 'float': 1791, 'worthless': 4955, 'justic': 2494, 'specif': 4170, 'europ': 1590, 'western': 4878, 'dri': 1409, 'spirit': 4188, '0': 0, 'confess': 1001, 'r': 3556, 'christma': 862, 'equal': 1567, 'fault': 1708, 'hill': 2163, 'thoroughli': 4490, 'promis': 3491, 'build': 667, 'tension': 4459, 'occas': 3128, 'importantli': 2291, 'robin': 3771, 'obsess': 3123, 'potenti': 3406, 'explan': 1641, 'sassi': 3857, 'internet': 2381, 'parent': 3239, 'hire': 2167, 'kim': 2529, 'ha': 2064, 'background': 407, 'obstacl': 3124, 'martial': 2792, 'thug': 4507, 'sick': 4024, 'thank': 4473, 'chemistri': 830, 'energi': 1537, 'wise': 4924, 'likabl': 2653, 'climb': 907, 'ill': 2268, 'fate': 1706, 'romero': 3787, 'overr': 3201, 'shoe': 4004, 'biggest': 512, 'segment': 3927, 'kennedi': 2515, 'automat': 382, 'statu': 4239, 'hokey': 2177, 'belong': 485, 'revers': 3729, 'abort': 103, 'moder': 2927, 'stretch': 4287, 'pad': 3214, 'fourth': 1841, 'bunch': 675, 'loi': 2687, 'bond': 573, 'holli': 2182, 'difficult': 1305, 'sympath': 4396, 'road': 3764, 'attack': 361, 'presenc': 3435, 'none': 3083, 'sympathet': 4397, 'paul': 3268, 'dumb': 1434, 'oil': 3144, 'slick': 4089, 'homeless': 2189, 'ranger': 3582, 'lurk': 2730, 'lake': 2568, 'alter': 223, 'ego': 1484, 'pointless': 3371, 'punch': 3526, 'whatsoev': 4884, 'worthwhil': 4956, 'rental': 3682, 'aunt': 374, 'texa': 4471, 'copi': 1060, 'research': 3698, 'stanwyck': 4228, 'promot': 3492, 'recruit': 3629, 'australia': 378, 'unimagin': 4687, 'wet': 4879, 'bleak': 542, 'anywher': 286, 'welcom': 4871, 'gore': 1993, '2006': 63, 'feed': 1720, 'formula': 1831, 'eli': 1500, 'roth': 3802, 'earlier': 1452, 'central': 786, 'theatr': 4476, 'ryan': 3829, 'nicholson': 3061, 'previous': 3450, '45': 81, 'rape': 3586, 'reunion': 3724, 'hesit': 2149, 'resolut': 3703, 'clark': 886, 'leap': 2606, 'afraid': 169, 'destini': 1280, 'superman': 4358, 'green': 2026, 'arrow': 321, 'readi': 3605, 'save': 3864, 'thrill': 4499, 'loyalti': 2715, 'friendship': 1870, 'ensu': 1551, 'strictli': 4288, 'push': 3537, 'contrast': 1040, 'lex': 2640, 'nine': 3070, 'born': 586, 'season': 3908, 'reincarn': 3654, 'toward': 4563, 'ludicr': 2722, 'unrel': 4706, 'eight': 1485, 'exact': 1613, 'witti': 4930, 'alley': 213, 'wayn': 4852, 'arriv': 319, 'perri': 3296, 'process': 3474, 'bear': 458, 'gift': 1949, 'bottl': 591, 'debat': 1207, 'nobl': 3074, 'assassin': 339, 'exhibit': 1628, 'altogeth': 227, 'duke': 1432, 'await': 388, 'instinct': 2364, 'pack': 3212, 'franchis': 1847, 'romanc': 3784, 'sex': 3967, 'confront': 1006, 'mistak': 2913, 'everywher': 1606, '2001': 58, 'news': 3056, 'declar': 1217, 'drop': 1418, 'glamor': 1962, 'reliabl': 3664, 'sharon': 3983, 'stone': 4266, 'word': 4942, 'storytel': 4274, 'friendli': 1869, 'clean': 893, 'c': 694, 'mon': 2936, 'escap': 1576, 'seldom': 3928, 'academi': 115, 'loos': 2695, 'shall': 3976, 'lust': 2732, 'partner': 3252, 'suspect': 4377, 'dr': 1393, 'drawn': 1402, 'entranc': 1561, 'seduc': 3918, 'weav': 4863, 'danger': 1178, 'seduct': 3919, 'plate': 3350, 'erot': 1573, 'briefli': 630, 'notch': 3096, 'awesom': 395, 'chosen': 856, 'prize': 3468, 'folk': 1805, 'south': 4153, 'educ': 1477, 'relationship': 3658, 'practic': 3413, 'assum': 348, 'africa': 170, 'glad': 1961, 'bill': 517, 'ted': 4443, 'threat': 4495, 'futur': 1897, 'chuck': 865, 'send': 3936, 'pair': 3220, 'winter': 4920, 'reev': 3639, 'delici': 1240, 'bogu': 567, 'entir': 1559, 'justifi': 2495, 'stake': 4218, 'dimens': 1312, 'lovabl': 2708, 'creator': 1107, 'heavili': 2130, 'travel': 4592, 'object': 3117, 'evid': 1607, 'predecessor': 3424, 'steadi': 4241, '1987': 42, 'judg': 2482, 'ben': 489, 'crime': 1116, 'commit': 963, 'maria': 2780, 'govern': 2000, 'mass': 2798, 'pit': 3337, 'convict': 1050, 'colour': 946, 'oppon': 3162, 'electr': 1493, 'suit': 4340, 'chainsaw': 795, 'zero': 4995, 'gruesom': 2048, 'obligatori': 3119, 'join': 2468, 'group': 2043, 'freedom': 1860, 'fighter': 1745, 'author': 381, 'twenti': 4635, 'arnold': 315, 'univers': 4694, 'guarante': 2049, 'box': 599, 'sidekick': 4028, 'liner': 2663, 'minu': 2899, 'massiv': 2800, 'faith': 1677, 'blockbust': 550, 'decad': 1210, 'devoid': 1292, 'technic': 4439, 'merit': 2852, 'cult': 1141, 'shoddi': 4003, 'unintent': 4689, 'giggl': 1950, 'secret': 3913, 'tape': 4420, 'crap': 1095, 'futurist': 1898, 'advertis': 160, 'amus': 247, 'distinct': 1352, 'technolog': 4442, 'advanc': 157, 'utter': 4729, 'rubbish': 3813, 'uncl': 4657, 'darn': 1185, 'proud': 3508, 'commentari': 961, 'languag': 2576, 'cent': 783, 'sorrow': 4146, 'york': 4988, 'independ': 2317, 'demon': 1249, 'eric': 1572, 'amazingli': 234, 'okay': 3146, 'hundr': 2241, 'thousand': 4493, 'breathtak': 621, 'took': 4547, 'stuck': 4302, 'fleet': 1784, 'tune': 4626, 'virtual': 4792, 'forgett': 1823, 'ginger': 1956, 'sheer': 3988, 'convey': 1049, 'magic': 2747, 'target': 4423, '50': 84, 'stumbl': 4307, 'clerk': 896, 'notic': 3099, 'brilliantli': 634, 'paper': 3232, 'agent': 177, 'wherea': 4887, 'seemingli': 3925, 'poignant': 3369, 'craft': 1093, 'honest': 2193, 'indi': 2318, 'inevit': 2328, 'task': 4425, 'explicit': 1642, 'load': 2680, 'fat': 1704, 'admir': 150, 'tear': 4436, 'desir': 1273, 'iii': 2267, 'vision': 4795, 'legend': 2618, 'principl': 3463, 'redempt': 3633, 'sweat': 4386, 'jar': 2432, 'ii': 2266, 'wander': 4826, 'initi': 2343, 'gorgeou': 1994, 'choos': 849, 'suddenli': 4332, 'stay': 4240, 'quietli': 3551, 'fluid': 1799, 'creep': 1112, 'costum': 1073, 'wig': 4906, 'makeup': 2759, 'timeless': 4520, 'function': 1887, 'anybodi': 281, 'rear': 3614, 'rehears': 3651, 'snap': 4111, 'requir': 3696, 'narrat': 3009, 'emerg': 1514, 'weari': 4861, 'split': 4194, 'digniti': 1309, 'lip': 2667, 'growth': 2046, 'carlo': 746, 'choru': 854, 'whip': 4891, 'led': 2612, 'arrest': 318, 'enorm': 1548, 'bleed': 543, 'curs': 1149, 'system': 4400, 'fanci': 1689, 'satisfi': 3861, 'leagu': 2604, 'devil': 1291, 'tackl': 4405, 'gritti': 2038, 'civil': 880, 'spawn': 4166, 'outlaw': 3188, 'maintain': 2755, 'tendenc': 4456, 'manipul': 2768, 'greatli': 2022, 'accuraci': 127, 'cri': 1115, 'trail': 4576, 'jake': 2424, 'lee': 2613, 'lawrenc': 2596, 'massacr': 2799, 'armi': 313, 'switch': 4393, 'glare': 1964, 'glori': 1970, 'fiction': 1738, 'context': 1035, 'repres': 3690, 'larger': 2578, 'curios': 1145, 'slave': 4083, 'rebel': 3616, 'singl': 4055, 'union': 4691, 'rais': 3568, 'kansa': 2500, 'senat': 3935, 'jim': 2456, 'lane': 2574, 'fame': 1683, 'organ': 3171, 'troop': 4617, 'spring': 4208, 'utterli': 4730, 'downhil': 1390, 'jack': 2418, 'sink': 4057, 'appal': 290, 'yard': 4977, 'locat': 2683, 'privat': 3467, 'hawk': 2112, 'unnecessari': 4699, 'casual': 764, 'compet': 974, 'ram': 3571, 'portion': 3395, 'watchabl': 4845, '1980': 36, 'class': 888, 'document': 1367, 'celebr': 778, 'babi': 401, 'boom': 580, 'guilti': 2055, 'pleasur': 3358, 'sophist': 4142, 'cari': 741, 'gotta': 1998, 'blast': 539, 'rex': 3737, 'dinosaur': 1316, 'rough': 3804, 'factor': 1668, 'magnific': 2749, 'hors': 2214, 'parodi': 3243, 'evok': 1609, 'tribe': 4604, 'paradis': 3235, 'miseri': 2906, 'poverti': 3410, 'broken': 644, 'lay': 2598, 'ya': 4976, 'scratch': 3894, 'funniest': 1893, 'trial': 4602, 'mormon': 2956, 'church': 867, 'inaccuraci': 2300, 'joseph': 2475, 'prophet': 3501, 'firmli': 1763, 'saint': 3841, 'confid': 1002, 'smith': 4107, 'whether': 4888, 'awkward': 397, 'embarrass': 1512, 'warmth': 4835, 'lampoon': 2570, 'inclus': 2306, 'hugh': 2232, 'mess': 2856, 'root': 3795, 'twice': 4636, 'vampir': 4742, 'slasher': 4081, 'nonetheless': 3084, 'nurs': 3114, 'charli': 816, 'obscur': 3121, 'neck': 3028, 'intend': 2373, 'cycl': 1158, 'tongu': 4544, 'cheek': 826, 'popul': 3390, 'grew': 2030, 'brazil': 614, 'visit': 4796, 'coast': 926, 'mile': 2881, 'explor': 1645, 'nativ': 3016, 'upper': 4717, 'trade': 4570, 'nake': 3005, 'eaten': 1464, 'ritual': 3760, 'recreat': 3628, 'villag': 4784, 'cannib': 721, 'recogn': 3621, 'garden': 1917, 'messi': 2858, 'violent': 4788, 'pathet': 3261, 'weapon': 4859, 'greed': 2023, 'savag': 3863, 'neither': 3038, 'dismiss': 1344, 'air': 185, 'affair': 164, 'achiev': 130, 'hook': 2199, 'jeffrey': 2442, 'alexandr': 203, 'paranoia': 3238, 'soviet': 4155, 'appar': 291, 'behaviour': 477, 'communist': 966, 'sutherland': 4383, 'fbi': 1714, 'silenc': 4035, 'shade': 3971, 'landscap': 2573, 'ventur': 4759, 'inspector': 2357, 'underworld': 4673, 'cameo': 707, 'domin': 1374, 'partial': 3247, 'cube': 1138, 'be': 455, 'bank': 427, 'jennif': 2444, 'neo': 3041, 'leader': 2603, 'cole': 935, 'laurenc': 2593, 'fishburn': 1767, 'scienc': 3883, 'professor': 3481, 'et': 1584, 'directli': 1319, 'search': 3907, 'gilbert': 1951, 'twist': 4639, 'doubl': 1385, 'higher': 2156, 'illus': 2271, 'passag': 3255, 'alexand': 202, 'reject': 3655, 'iron': 2402, 'artifici': 325, 'longer': 2693, 'smash': 4104, 'tini': 4523, 'reader': 3604, 'jean': 2439, 'unabl': 4652, 'creation': 1105, 'awar': 391, 'parallel': 3236, 'suicid': 4339, 'nevertheless': 3050, 'crystal': 1135, 'condemn': 998, 'l': 2558, 'liber': 2642, 'le': 2601, 'florida': 1795, 'recal': 3617, 'filmmak': 1751, 'offici': 3141, 'ninja': 3072, 'epitom': 1566, 'wick': 4899, 'dane': 1177, 'deniro': 1252, 'fabul': 1663, 'younger': 4990, 'older': 3149, 'subtleti': 4324, 'preview': 3448, 'fianc': 1737, 'skeptic': 4069, 'assur': 349, 'fenc': 1731, 'destroy': 1281, 'templ': 4451, 'helpless': 2142, 'bela': 480, 'lugosi': 2723, 'mislead': 2909, 'someday': 4131, 'heck': 2131, 'fantast': 1691, 'transplant': 4585, 'marriag': 2788, 'surgeri': 4368, 'medic': 2832, 'phenomenon': 3310, 'simplist': 4046, 'coincid': 933, 'harold': 2101, 'jessica': 2449, 'super': 4352, 'lena': 2623, 'lanc': 2571, 'stronger': 4295, 'quot': 3555, 'quinn': 3552, 'quick': 3548, 'richardson': 3743, 'raymond': 3598, 'scott': 3892, 'ray': 3597, '1936': 19, 'storylin': 4273, 'canyon': 725, 'kevin': 2519, 'kline': 2538, 'acclaim': 121, 'depress': 1260, 'sketch': 4070, 'gari': 1918, 'underr': 4668, 'gold': 1982, 'shelf': 3990, 'nick': 3062, 'honesti': 2194, 'eddi': 1470, 'kay': 2507, 'thoma': 4488, 'pie': 3327, 'jone': 2473, 'matter': 2809, 'phillip': 3313, 'everybodi': 1602, 'affect': 165, '1997': 51, '1970': 27, '1960': 24, 'departur': 1257, 'bikini': 515, 'pirat': 3336, 'aim': 184, 'squar': 4211, 'kiddi': 2524, 'invis': 2395, 'dad': 1162, 'dee': 1221, 'wallac': 4822, 'prepar': 3432, 'josh': 2476, 'experienc': 1637, 'co': 924, 'ten': 4453, 'blame': 536, 'corner': 1065, 'tiresom': 4526, 'lacklust': 2564, 'homosexu': 2192, 'dash': 1187, 'page': 3215, 'echo': 1467, 'fade': 1670, 'cinematograph': 873, 'tire': 4525, 'pray': 3416, 'fit': 1770, 'connect': 1009, 'via': 4768, 'reward': 3736, 'scope': 3888, 'immers': 2282, 'pool': 3385, 'wrench': 4962, 'laughter': 2588, 'ass': 338, 'sorri': 4145, 'blunt': 558, 'toler': 4537, 'nowher': 3105, 'consequ': 1017, 'ugli': 4645, 'uninspir': 4688, 'bland': 537, 'wash': 4841, 'trash': 4588, 'stink': 4259, 'field': 1740, 'northern': 3091, 'alongsid': 219, 'ordinari': 3170, 'circl': 875, 'abund': 112, 'w': 4812, 'forev': 1821, 'threaten': 4496, 'bomb': 572, 'jail': 2423, 'tabl': 4401, 'approv': 300, 'charismat': 814, 'sell': 3932, 'brendan': 624, 'antic': 275, 'section': 3916, 'paint': 3218, 'dealer': 1202, 'robberi': 3768, 'protest': 3507, 'pressur': 3440, 'mount': 2966, 'jon': 2471, 'voight': 4803, 'hammi': 2081, 'sale': 3843, 'tarzan': 4424, 'ape': 288, 'sensat': 3939, 'matrix': 2807, 'lord': 2696, 'radio': 3565, 'instant': 2361, 'icon': 2255, 'unhappi': 4684, 'edgar': 1472, 'liberti': 2643, 'compani': 967, 'spectacular': 4172, 'mate': 2804, 'anticip': 276, 'limit': 2657, 'jane': 2429, 'swim': 4391, 'topless': 4552, 'sullivan': 4342, 'shortli': 4011, 'san': 3850, 'headach': 2116, 'plant': 3348, 'fruit': 1877, 'block': 549, 'breast': 619, 'conclus': 997, 'jungl': 2491, 'hay': 2113, 'veteran': 4766, 'incorpor': 2311, 'beast': 460, 'neil': 3036, 'hamilton': 2078, 'eleph': 1497, 'england': 1541, 'pursuit': 3536, 'stalk': 4220, 'refus': 3643, 'hunter': 2245, 'demis': 1248, 'voyag': 4808, 'hideou': 2154, 'health': 2118, 'recov': 3627, 'stock': 4262, 'extens': 1653, 'racial': 3560, 'stereotyp': 4249, 'peak': 3276, 'condit': 999, 'physic': 3322, 'we': 4853, 'craven': 1098, 'expens': 1635, 'preposter': 3433, 'airport': 187, 'flirt': 1790, 'trap': 4587, 'row': 3808, 'contact': 1028, 'confin': 1003, 'stranger': 4280, 'immedi': 2280, 'effici': 1481, 'rachel': 3559, 'daddi': 1163, 'forgiv': 1824, 'slaughter': 4082, 'gal': 1907, 'unreal': 4704, 'hold': 2178, 'harm': 2099, 'conclud': 996, 'altern': 224, 'terrorist': 4468, 'missil': 2911, 'employ': 1523, 'highway': 2160, 'politician': 3383, 'miami': 2867, 'hotel': 2220, 'secur': 3917, 'steal': 4242, 'transport': 4586, 'instantli': 2362, 'arrang': 317, 'sensibl': 3941, 'coffe': 930, 'elsewher': 1507, 'magazin': 2745, 'termin': 4461, 'murphi': 2986, 'alli': 214, 'warn': 4836, 'damn': 1170, 'wake': 4817, 'regist': 3647, 'mildli': 2879, 'ensur': 1552, 'duo': 1436, 'vast': 4752, 'ruthless': 3828, 'cook': 1054, 'dear': 1205, 'wendigo': 4874, 'strand': 4278, 'deer': 1227, 'angri': 260, 'outrag': 3190, 'kudo': 2552, 'thumb': 4508, 'dimension': 1313, 'cardboard': 736, 'empathi': 1518, 'par': 3233, 'bean': 457, 'tight': 4515, 'shock': 4002, 'deliver': 1243, 'precis': 3422, 'reynold': 3738, 'merci': 2850, 'river': 3762, 'illustr': 2272, 'duel': 1431, 'truck': 4619, 'guitar': 2057, 'bobbi': 565, 'genet': 1931, 'shake': 3973, 'jam': 2425, 'session': 3960, 'buck': 660, 'redneck': 3634, 'appl': 294, 'orang': 3168, 'ed': 1469, 'law': 2595, 'tragic': 4575, 'gratuit': 2015, 'numb': 3110, 'cliff': 902, 'bottom': 592, 'testament': 4470, 'childish': 841, 'bait': 415, 'weekend': 4868, 'hardi': 2097, 'lone': 2690, 'usa': 4722, 'clint': 909, 'eastwood': 1462, 'drown': 1420, 'cowboy': 1090, 'solid': 4126, 'heat': 2127, 'memori': 2845, 'boast': 562, 'polish': 3381, 'desert': 1270, 'mutant': 2994, 'soldier': 4124, 'hardcor': 2095, 'preciou': 3421, 'resembl': 3699, 'brian': 625, 'thompson': 4489, 'stan': 4223, 'cave': 774, 'ala': 192, 'descent': 1267, 'sam': 3847, 'laughabl': 2587, 'contriv': 1042, 'yesterday': 4985, 'adam': 143, 'pat': 3259, 'mike': 2877, 'bachelor': 404, 'nut': 3115, 'brenda': 623, 'defeat': 1228, 'offens': 3138, 'test': 4469, 'gay': 1924, 'othello': 3178, 'jealou': 2438, 'suspici': 4380, 'enthusiasm': 1557, 'competit': 975, 'gregori': 2029, 'peck': 3278, 'gentleman': 1936, 'shakespear': 3974, 'terrif': 4464, 'worthi': 4954, 'maker': 2758, '1950': 23, 'qualifi': 3542, 'g': 1900, 'skin': 4072, 'commerci': 962, 'gather': 1922, '11': 6, 'promin': 3490, 'global': 1968, 'ken': 2514, 'jewel': 2453, 'medium': 2834, 'profound': 3484, 'arab': 302, 'inflict': 2333, 'amongst': 244, 'chapter': 807, 'v': 4732, 'websit': 4865, 'holm': 2185, 'ladi': 2566, 'stiff': 4254, 'tiger': 4514, 'hidden': 2152, 'intellig': 2372, 'moreov': 2954, 'sacrif': 3831, 'duck': 1426, 'bulli': 672, 'thick': 4481, 'golden': 1985, 'com': 948, 'user': 4725, 'nyc': 3116, 'screenwrit': 3898, 'gandhi': 1911, 'riot': 3753, 'count': 1076, 'furi': 1894, 'bang': 426, 'random': 3579, 'exercis': 1626, 'meaningless': 2825, 'artsi': 327, 'indulg': 2325, 'brand': 609, '13th': 9, 'rise': 3755, 'comed': 953, 'confirm': 1004, 'profil': 3482, 'upon': 4716, 'superfici': 4355, 'denni': 1253, 'hopper': 2206, 'stomach': 4265, 'smile': 4106, 'spiritu': 4189, 'junk': 2493, 'moon': 2950, 'irrit': 2405, 'chri': 857, 'penn': 3281, 'dirti': 1323, 'cancer': 717, 'unexpect': 4676, 'jump': 2489, 'clumsi': 923, 'till': 4516, 'spoil': 4196, 'tast': 4426, 'devic': 1290, 'rivet': 3763, 'excus': 1624, 'hey': 2151, 'incoher': 2307, 'inconsist': 2310, 'character': 809, 'narr': 3008, 'adolesc': 153, 'butler': 688, 'grown': 2045, 'attitud': 366, 'consist': 1021, 'religion': 3667, 'charisma': 813, 'sin': 4049, 'colleg': 942, 'topic': 4551, 'nuditi': 3109, 'cerebr': 788, 'bush': 682, 'hypnot': 2251, 'easier': 1458, 'decor': 1219, 'aesthet': 163, 'summer': 4346, 'defin': 1232, 'sappi': 3855, 'sentiment': 3946, 'solut': 4128, 'credibl': 1109, 'giant': 1948, 'anna': 264, 'simpson': 4047, 'indiffer': 2322, 'likewis': 2655, 'compliment': 981, 'amanda': 230, 'jenni': 2443, 'maid': 2750, 'wannab': 4829, 'homer': 2190, 'whenev': 4886, 'shallow': 3977, 'abysm': 114, 'primarili': 3457, 'swear': 4385, 'cue': 1139, 'card': 735, 'mst3k': 2975, 'toni': 4545, 'carradin': 750, 'seventi': 3965, 'vanish': 4746, 'columbo': 947, 'whoever': 4893, 'per': 3285, 'pilot': 3332, 'alleg': 211, 'aggress': 178, 'weakest': 4856, 'soft': 4122, 'somebodi': 4130, 'shower': 4019, 'bride': 626, 'jan': 2428, 'sight': 4031, 'shed': 3987, 'bloodi': 553, 'tail': 4409, 'fake': 1678, 'spin': 4184, 'chair': 796, 'gonna': 1988, 'f': 1661, 'pig': 3330, 'latter': 2585, 'former': 1830, 'increas': 2313, 'trace': 4567, 'comprehend': 984, 'morgan': 2955, 'freeman': 1861, 'vega': 4754, 'whilst': 4889, 'petti': 3306, 'woodi': 4941, 'allen': 212, 'anni': 265, 'hall': 2074, 'dinner': 1315, 'ex': 1612, '28': 71, 'wind': 4916, 'mitchel': 2917, 'knightley': 2543, 'paltrow': 3227, 'austen': 376, 'incorrect': 2312, 'flashi': 1778, 'inaccur': 2299, 'exclus': 1623, 'fals': 1682, 'programm': 3486, '40': 80, 'wwii': 4973, 'undertak': 4672, 'muddl': 2978, 'composit': 983, 'wildli': 4909, 'overwhelm': 3202, 'broadcast': 641, 'announc': 266, 'peac': 3275, 'spare': 4163, 'audrey': 373, 'hepburn': 2145, 'ballet': 422, 'revolutionari': 3734, 'swept': 4390, 'russian': 3826, 'clueless': 922, 'branagh': 608, 'commend': 959, 'represent': 3691, 'captiv': 732, 'vocal': 4801, 'island': 2408, 'matthew': 2811, 'fox': 1842, 'j': 2417, 'pun': 3525, 'elvira': 1509, 'jodi': 2461, 'fanat': 1688, 'tender': 4457, 'mail': 2751, 'p': 3208, 'edi': 1474, 'alec': 199, 'guin': 2056, 'invest': 2393, 'sir': 4058, 'brood': 646, 'aspir': 337, 'vain': 4736, 'jerk': 2446, 'turkey': 4629, 'estat': 1581, 'obnoxi': 3120, 'pari': 3240, 'runner': 3821, 'concentr': 992, 'handsom': 2086, 'tick': 4510, 'sissi': 4060, 'onlin': 3156, '1994': 48, 'exquisit': 1651, 'kinda': 2531, 'stilt': 4257, 'censor': 782, 'wilson': 4913, 'polici': 3380, 'corpor': 1067, 'presid': 3438, 'dan': 1172, 'dick': 1300, 'lol': 2688, 'cusack': 1152, 'daili': 1164, 'vengeanc': 4757, 'resolv': 3704, 'priceless': 3453, 'gross': 2040, 'matur': 2812, 'butt': 689, 'media': 2831, 'north': 3090, 'combat': 950, 'invad': 2390, 'journalist': 2477, 'frustrat': 1878, 'conserv': 1018, 'patriot': 3266, 'ideolog': 2261, 'mediocr': 2833, 'mill': 2884, 'dude': 1428, 'minimum': 2895, 'energet': 1536, 'wire': 4922, 'footbal': 1815, 'pretend': 3443, 'theatric': 4477, 'fist': 1769, 'menac': 2847, 'ear': 1449, 'humbl': 2237, 'ought': 3181, 'wheel': 4885, 'grave': 2016, 'parson': 3244, 'sum': 4343, 'slice': 4088, 'hippi': 2166, 'consider': 1020, 'sunday': 4348, 'luck': 2719, 'solo': 4127, 'mytholog': 3001, 'jaw': 2435, 'der': 1262, 'remot': 3676, 'ban': 423, 'germani': 1942, 'closest': 915, 'descript': 1269, 'method': 2862, 'degre': 1235, 'collaps': 938, 'occup': 3130, 'variat': 4749, 'filler': 1749, 'partli': 3251, 'drain': 1397, 'baffl': 413, 'awe': 394, 'disgust': 1339, 'faint': 1673, 'cd': 776, 'lo': 2679, 'essenti': 1579, 'cloud': 918, 'border': 582, 'spoken': 4199, 'unravel': 4703, 'challeng': 797, 'volum': 4804, 'degrad': 1234, 'particip': 3248, 'explos': 1646, 'finger': 1759, 'button': 690, '1974': 31, 'gem': 1927, 'buddi': 662, 'exit': 1630, 'elev': 1498, 'claud': 891, 'patrick': 3265, 'harvey': 2107, 'spacey': 4158, 'lectur': 2611, 'marshal': 2789, 'shape': 3980, 'propos': 3503, 'inexplic': 2329, 'miracul': 2902, 'phone': 3316, 'driver': 1416, 'deni': 1251, 'steve': 4250, 'leg': 2615, 'ward': 4832, 'clair': 883, 'morn': 2957, 'fetch': 1734, 'mario': 2782, 'highest': 2157, 'roll': 3781, 'knee': 2539, 'rap': 3585, 'rope': 3796, 'hood': 2198, 'funnier': 1892, '1981': 37, 'youth': 4992, 'beard': 459, 'asian': 332, 'elvi': 1508, 'seller': 3933, 'sat': 3858, 'pink': 3334, 'muppet': 2984, 'conceiv': 991, 'flop': 1794, 'blew': 546, '1983': 38, 'ahead': 182, 'rick': 3744, 'warrior': 4840, 'witch': 4927, 'obtain': 3125, 'possess': 3401, 'luckili': 2721, 'chest': 833, 'candi': 718, 'batman': 451, 'knock': 2544, '35': 76, 'joker': 2470, 'freez': 1862, 'alfr': 204, 'corni': 1066, 'miik': 2876, 'divorc': 1363, 'rider': 3748, 'meanwhil': 2827, 'boot': 581, 'item': 2415, 'tokyo': 4535, 'isol': 2409, 'christoph': 863, 'leo': 2627, 'jeremi': 2445, 'devast': 1288, 'youngest': 4991, '12': 7, 'convers': 1047, 'boil': 568, 'sincer': 4052, 'tip': 4524, 'hal': 2071, 'hartley': 2106, 'styliz': 4313, 'ironi': 2403, 'bitter': 528, 'luci': 2717, 'traumat': 4591, 'detract': 1287, 'pseudo': 3513, 'attach': 360, 'psycho': 3517, 'proce': 3472, 'angst': 261, 'lucki': 2720, 'uk': 4647, 'mad': 2741, 'sheriff': 3994, 'presum': 3442, 'traci': 4568, 'pacino': 3211, 'discuss': 1335, 'beatti': 464, 'hoffman': 2176, 'eccentr': 1466, 'dicken': 1301, '1984': 39, 'halloween': 2075, 'scroog': 3902, 'bob': 564, 'closer': 914, 'godzilla': 1979, 'turtl': 4632, 'shadow': 3972, 'samurai': 3849, 'saga': 3838, 'flame': 1775, 'teeth': 4447, 'shell': 3991, 'feet': 1722, 'nuclear': 3107, 'awaken': 390, 'rampag': 3575, 'psychic': 3516, 'jewish': 2454, 'z': 4993, 'pole': 3377, 'fest': 1732, 'lewi': 2639, 'swallow': 4384, 'wolf': 4933, 'grey': 2031, 'spread': 4206, 'claustrophob': 892, 'afford': 167, '100': 5, 'rot': 3801, 'countrysid': 1081, 'lion': 2666, 'preserv': 3437, 'simultan': 4048, 'relief': 3665, 'oppos': 3164, 'divin': 1362, 'inferior': 2332, 'unless': 4697, 'campi': 713, 'hopelessli': 2204, 'mar': 2774, 'heroin': 2148, 'cure': 1144, 'instrument': 2367, 'contemporari': 1031, 'jazz': 2437, 'sole': 4125, 'complaint': 977, 'carmen': 747, 'scandal': 3868, 'bird': 521, 'hammer': 2080, 'shi': 3995, 'nostalg': 3093, 'oliv': 3151, 'blue': 557, 'shirley': 4000, 'concert': 995, '1972': 29, 'illeg': 2269, 'motorcycl': 2965, 'crawl': 1100, 'reput': 3695, '18': 14, 'june': 2490, 'princess': 3461, 'pg': 3307, 'cabin': 695, 'mountain': 2967, 'juli': 2486, 'greg': 2028, 'nearbi': 3022, 'startl': 4234, 'cell': 779, 'distant': 1351, 'neighbor': 3034, 'alcohol': 198, 'conduct': 1000, 'plight': 3360, 'properli': 3498, 'embrac': 1513, 'constant': 1023, 'detach': 1283, 'grab': 2001, 'string': 4290, 'uncov': 4660, 'defend': 1229, 'plagu': 3343, 'mission': 2912, 'celluloid': 780, 'astonish': 351, 'fatal': 1705, 'khan': 2521, 'proper': 3497, 'unrealist': 4705, 'kapoor': 2501, 'heel': 2132, 'spiral': 4187, 'exposit': 1648, 'unbear': 4655, 'web': 4864, 'charg': 812, 'upset': 4718, 'franki': 1853, 'satan': 3859, 'jesu': 2450, 'asham': 330, 'disagre': 1325, 'carel': 739, 'burn': 678, 'newspap': 3057, 'restrain': 3714, 'broad': 640, 'incident': 2304, 'ish': 2407, 'molli': 2933, 'aussi': 375, 'exposur': 1649, 'owner': 3206, 'dump': 1435, 'regret': 3648, 'muslim': 2992, 'honestli': 2195, 'equip': 1568, 'underground': 4664, 'experiment': 1638, 'crook': 1124, 'polanski': 3376, 'tenant': 4454, 'drove': 1419, 'frighten': 1872, 'terror': 4467, 'terri': 4462, 'gilliam': 1952, 'bruce': 653, 'willi': 4911, 'pitt': 3340, 'twelv': 4634, 'convincingli': 1052, 'trilog': 4609, 'mel': 2837, 'brook': 647, 'wing': 4918, 'stare': 4230, 'stoog': 4268, 'mexican': 2863, 'rita': 3757, 'bell': 483, 'moe': 2931, 'howard': 2225, 'curli': 1147, 'counterpart': 1078, 'gag': 1905, 'endear': 1532, 'settl': 3962, '25': 70, 'rob': 3766, 'al': 191, 'larri': 2579, '2nd': 72, 'editor': 1476, 'choke': 848, 'randomli': 3580, 'horrid': 2210, 'inan': 2301, 'watcher': 4846, 'unwatch': 4712, 'spite': 4191, 'tacki': 4404, 'drunk': 1423, 'silent': 4036, 'buster': 686, 'st': 4212, '1995': 49, 'paid': 3216, 'afterward': 173, 'outcom': 3183, 'observ': 3122, 'fed': 1719, 'spoke': 4198, 'ethan': 1587, 'improvis': 2297, 'bravo': 613, 'accus': 128, 'spi': 4178, 'bedroom': 469, 'teas': 4437, 'driven': 1415, 'network': 3047, 'cancel': 716, 'midnight': 2873, 'showcas': 4017, 'billi': 518, 'zane': 4994, 'sean': 3906, 'jare': 2433, 'hunt': 2244, 'gate': 1921, 'cher': 831, 'nichola': 3060, 'cage': 697, 'firstli': 1765, 'cring': 1118, 'acquaint': 133, 'frankli': 1854, 'prime': 3458, 'exot': 1631, 'phoni': 3317, 'borrow': 587, 'cb': 775, 'pioneer': 3335, 'spice': 4179, 'format': 1829, 'versu': 4764, 'program': 3485, 'cup': 1143, 'tea': 4432, 'drip': 1412, 'label': 2561, 'beverli': 504, 'bradi': 606, 'buzz': 692, 'stood': 4267, 'ticket': 4511, 'playboy': 3353, 'incompet': 2308, 'quarter': 3544, 'stinker': 4260, '1977': 33, 'virginia': 4790, 'tech': 4438, 'enthral': 1556, 'hat': 2108, 'rubi': 3814, 'eleg': 1495, 'sensit': 3942, 'el': 1489, 'flip': 1789, 'saturday': 3862, 'brosnan': 649, 'scottish': 3893, 'kick': 2522, 'nowaday': 3104, 'viru': 4793, 'disabl': 1324, 'equival': 1569, 'click': 900, 'disjoint': 1341, 'corps': 1068, 'incomprehens': 2309, 'destin': 1279, 'sake': 3842, 'uninterest': 4690, 'k': 2498, 'septemb': 3949, 'montag': 2943, 'stiller': 4256, 'owen': 3204, 'clip': 910, 'correct': 1069, 'seagal': 3904, 'audio': 371, 'own': 3205, '1968': 25, 'anthoni': 273, 'aristocrat': 311, 'revolut': 3733, 'ace': 129, 'mitch': 2916, 'repetit': 3685, 'paramount': 3237, 'wont': 4937, 'crucial': 1129, 'alan': 193, 'bate': 448, 'canadian': 715, 'rehash': 3650, 'sun': 4347, 'dynam': 1445, 'winchest': 4915, '73': 89, 'rifl': 3750, 'hudson': 2229, 'stewart': 4252, 'cope': 1059, 'julia': 2487, 'persona': 3298, 'unsatisfi': 4707, 'flawless': 1782, 'downey': 1389, 'jr': 2480, 'fallen': 1681, 'duval': 1441, '1940': 21, 'miscast': 2904, 'casino': 758, 'defens': 1230, 'chip': 846, 'shoulder': 4013, 'chew': 834, 'er': 1570, 'hip': 2165, 'lifestyl': 2648, 'consciou': 1015, 'jade': 2422, 'gambl': 1909, 'prequel': 3434, 'misguid': 2908, 'twin': 4638, 'imit': 2278, 'disbelief': 1330, 'toy': 4566, 'nostalgia': 3094, '19': 15, 'antonioni': 279, 'itali': 2413, 'sweep': 4388, 'sixti': 4067, 'bound': 595, 'paus': 3271, 'lesser': 2633, 'broke': 643, 'bsg': 656, 'stargat': 4231, 'atlanti': 356, 'spain': 4160, 'advic': 161, 'meander': 2823, 'taylor': 4431, 'roman': 3783, 'declin': 1218, 'jess': 2448, 'franco': 1850, 'egg': 1483, 'aliv': 210, 'survivor': 4375, 'coach': 925, 'walter': 4825, 'eva': 1593, 'trashi': 4589, 'poe': 3365, 'damag': 1167, 'melt': 2842, 'struck': 4298, 'trick': 4606, 'hyde': 2249, 'impli': 2288, 'che': 822, 'skip': 4073, 'enemi': 1535, 'overlook': 3200, 'key': 2520, 'primit': 3459, 'hyster': 2252, 'factori': 1669, 'archiv': 304, 'vader': 4734, 'preach': 3418, 'tool': 4548, 'wield': 4904, 'uniform': 4685, 'eighti': 1486, 'radic': 3564, 'reed': 3637, 'ham': 2077, 'mobster': 2923, 'elimin': 1501, 'rub': 3811, 'valentin': 4737, 'armstrong': 314, 'madonna': 2743, 'sooner': 4141, 'judi': 2484, 'andrew': 255, 'off': 3136, 'carol': 748, 'secondari': 3911, 'lighter': 2652, '3000': 75, 'bollywood': 571, 'prejudic': 3428, 'sloppi': 4096, 'moor': 2951, 'seal': 3905, 'beg': 472, 'happili': 2092, 'meaning': 2824, 'healthi': 2119, 'unawar': 4654, 'bye': 693, 'court': 1086, 'floor': 1793, 'clue': 921, 'sandler': 3852, 'cruis': 1133, 'passeng': 3256, 'proof': 3494, 'stale': 4219, 'arthur': 323, 'roy': 3809, 'cassidi': 761, '1969': 26, 'innov': 2350, 'transit': 4583, 'replac': 3686, 'camcord': 705, 'emphas': 1520, 'dirt': 1322, 'rout': 3806, '1933': 18, 'forth': 1832, 'dismal': 1343, '1973': 30, 'region': 3646, 'discern': 1332, 'downright': 1391, 'repuls': 3694, 'lauren': 2592, 'sitcom': 4063, 'h': 2063, 'korean': 2550, 'carpent': 749, 'jami': 2427, 'curti': 1151, 'cross': 1125, 'relentless': 3661, 'psychopath': 3519, 'myer': 2997, 'fifteen': 1741, 'packag': 3213, 'moodi': 2949, 'maniac': 2767, 'bump': 674, 'eas': 1456, 'pet': 3303, 'modesti': 2930, 'travesti': 4593, 'option': 3167, '22': 68, 'fuller': 1884, 'resist': 3702, 'sky': 4076, 'roof': 3790, 'mine': 2892, 'pal': 3221, 'subplot': 4318, 'ian': 2253, 'griffith': 2033, 'prevent': 3447, 'abound': 104, 'racist': 3562, 'hulk': 2234, 'capot': 730, 'princip': 3462, 'blake': 535, 'punish': 3527, 'superbl': 4354, 'schlock': 3880, 'analysi': 248, 'ration': 3593, 'coaster': 927, 'drink': 1411, 'foil': 1804, 'adopt': 154, 'sucker': 4330, 'ami': 241, 'buff': 664, 'historian': 2170, 'captain': 731, 'tens': 4458, 'realis': 3607, 'speech': 4173, 'percept': 3287, 'revolv': 3735, 'ingeni': 2337, 'drone': 1417, 'nanci': 3007, 'disastr': 1329, 'parad': 3234, 'pile': 3331, 'colin': 936, 'farrel': 1697, 'fairi': 1675, 'freak': 1856, 'choppi': 851, 'cash': 757, '000': 2, 'bumbl': 673, 'idiot': 2262, 'preston': 3441, 'advantag': 158, 'eleven': 1499, '17': 13, 'romp': 3788, 'slide': 4090, 'provok': 3512, 'blade': 532, 'suitabl': 4341, 'unsettl': 4709, 'synopsi': 4399, 'link': 2665, 'www': 4974, 'uplift': 4715, 'anger': 258, 'invas': 2391, 'southern': 4154, 'jeff': 2441, 'ariel': 309, 'diari': 1299, 'ah': 181, 'fx': 1899, 'static': 4237, 'fifti': 1743, 'tyler': 4641, 'altman': 226, 'franci': 1848, 'ford': 1818, 'scorses': 3890, 'ash': 329, 'cagney': 698, 'conscious': 1016, 'preced': 3420, 'notabl': 3095, 'rod': 3778, 'antholog': 272, 'logan': 2685, 'crisi': 1120, 'stanley': 4227, 'lit': 2671, 'carl': 743, 'sneak': 4113, 'oddli': 3135, 'ambigu': 236, 'dilemma': 1310, 'randolph': 3578, 'compens': 973, 'berlin': 495, 'basket': 444, 'tap': 4419, 'gadget': 1904, '1989': 44, 'unsuspect': 4710, 'lawyer': 2597, 'firm': 1762, 'deceas': 1212, 'client': 901, 'funer': 1890, 'minist': 2897, 'occupi': 3131, 'assist': 345, 'outer': 3185, 'hollow': 2183, 'cruelti': 1132, 'darker': 1184, 'canada': 714, 'attenborough': 363, 'kurt': 2556, 'russel': 3824, 'cameron': 709, 'crow': 1126, 'distinguish': 1353, 'taxi': 4430, 'blair': 534, 'boyfriend': 603, 'doll': 1370, 'bread': 615, 'fright': 1871, 'loyal': 2714, 'campbel': 712, 'dame': 1168, 'inappropri': 2302, 'treasur': 4594, 'patienc': 3262, 'restor': 3713, 'mighti': 2875, 'reviv': 3731, 'rapidli': 3587, 'garbo': 1916, 'swedish': 4387, 'en': 1526, 'gestur': 1943, 'asset': 343, 'foolish': 1812, 'adequ': 149, 'martha': 2790, 'daniel': 1179, 'span': 4161, 'choreographi': 853, 'liu': 2676, 'skull': 4075, 'pin': 3333, 'garner': 1919, 'harrison': 2103, 'tank': 4418, 'glimps': 1967, 'unforgett': 4681, 'todd': 4530, 'sheet': 3989, 'spoof': 4201, 'nuanc': 3106, 'soup': 4151, 'brush': 654, 'undead': 4662, 'marin': 2781, 'bastard': 446, 'forti': 1833, 'length': 2625, 'tax': 4429, 'palanc': 3223, 'comedian': 955, 'reaction': 3602, 'shift': 3997, 'habit': 2065, 'sugar': 4337, 'grandmoth': 2010, 'virgin': 4789, 'matt': 2808, 'shelley': 3992, 'dictat': 1302, 'tourist': 4562, 'lavish': 2594, 'technicolor': 4440, 'spectacl': 4171, 'braveheart': 612, 'oppress': 3166, 'impos': 2292, 'undeni': 4663, 'lang': 2575, 'wardrob': 4833, 'tim': 4517, 'cox': 1091, 'calm': 704, 'mock': 2924, 'scotland': 3891, 'visitor': 4797, 'perman': 3294, 'heartfelt': 2125, 'luxuri': 2733, 'businessman': 684, 'philip': 3312, 'museum': 2989, 'ocean': 3133, 'sea': 3903, 'triangl': 4603, 'suppli': 4360, 'stark': 4232, 'worker': 4945, 'interior': 2379, 'pride': 3454, 'alright': 221, 'lemmon': 2622, 'orient': 3172, '1979': 35, 'ladder': 2565, 'femm': 1730, 'belli': 484, 'toilet': 4533, 'poker': 3375, 'critiqu': 1122, 'bargain': 432, 'rude': 3815, 'cant': 724, 'chuckl': 866, 'bless': 545, 'puppi': 3530, 'btw': 657, 'wilder': 4908, 'insipid': 2355, 'resourc': 3707, 'profan': 3478, 'victor': 4773, 'mclaglen': 2819, 'nolan': 3079, 'betray': 500, 'beatl': 463, 'overact': 3194, 'turner': 4631, 'tour': 4561, '1939': 20, 'legal': 2617, 'horn': 2207, 'stylish': 4312, 'birthday': 523, 'grate': 2014, 'cuba': 1136, 'tower': 4564, 'gentl': 1935, 'outing': 3187, 'shark': 3982, 'passabl': 3254, 'beneath': 491, 'varieti': 4750, 'sleazi': 4085, 'outfit': 3186, 'vanc': 4744, 'eugen': 1589, 'helen': 2136, 'talki': 4415, 'luka': 2725, 'illog': 2270, 'sentinel': 3947, 'graini': 2007, 'alison': 209, 'angel': 256, 'goldblum': 1984, 'guard': 2050, 'snl': 4115, 'newman': 3055, 'fart': 1698, 'juvenil': 2497, 'tube': 4625, 'fri': 1866, 'grasp': 2013, 'absenc': 107, 'oper': 3159, 'cheat': 824, 'abrupt': 106, 'mansion': 2772, 'backdrop': 406, 'relev': 3662, 'plod': 3361, 'notion': 3100, 'safeti': 3837, 'biographi': 520, 'map': 2773, 'prostitut': 3504, 'mildr': 2880, 'dish': 1340, 'venom': 4758, 'astound': 352, 'nolt': 3080, 'taught': 4428, 'suprem': 4364, 'bat': 447, 'excess': 1620, 'henc': 2143, 'spark': 4164, 'coup': 1082, 'franc': 1846, 'coloni': 944, 'peer': 3279, 'cynic': 1159, 'pronounc': 3493, 'geni': 1932, 'spider': 4180, 'bow': 597, 'airplan': 186, 'remad': 3669, 'dig': 1307, 'barrel': 434, 'werewolf': 4876, 'coat': 928, 'wed': 4866, 'silver': 4038, 'immigr': 2283, '1920': 16, 'pervers': 3301, 'akin': 189, 'contempl': 1030, 'latin': 2584, 'omen': 3154, 'mafia': 2744, 'thief': 4482, 'diamond': 1296, 'heist': 2134, 'tommi': 4540, 'dose': 1384, 'deed': 1222, 'gear': 1925, 'press': 3439, 'disc': 1331, 'trait': 4579, 'scientist': 3885, 'decapit': 1211, 'crippl': 1119, 'closet': 916, 'uncut': 4661, 'abc': 98, 'carter': 753, 'rat': 3590, 'spree': 4207, 'bag': 414, 'urg': 4720, 'da': 1161, 'correctli': 1070, 'surf': 4366, 'doc': 1365, 'measur': 2828, 'agenc': 175, 'insur': 2369, 'employe': 1524, 'basing': 443, 'del': 1236, '1976': 32, 'fragil': 1844, 'apolog': 289, 'judgment': 2483, 'prom': 3489, 'april': 301, 'overdon': 3197, 'tag': 4408, 'prop': 3495, 'edgi': 1473, 'slash': 4080, 'id': 2256, 'price': 3452, 'benefit': 492, 'vulner': 4811, 'goofi': 1991, 'preachi': 3419, 'frog': 1873, 'repeatedli': 3684, 'athlet': 355, 'wholli': 4895, 'assert': 342, 'resurrect': 3718, 'butcher': 687, 'charlton': 818, 'heston': 2150, 'atroc': 358, 'charl': 815, 'lester': 2635, 'recognit': 3623, 'argument': 308, 'mystic': 2999, 'interpret': 2382, 'evolut': 1610, 'compass': 971, 'taboo': 4402, 'sore': 4144, 'religi': 3666, 'mutual': 2996, 'bin': 519, 'cia': 868, 'henri': 2144, 'fonda': 1808, 'cain': 699, 'skit': 4074, 'pregnant': 3427, 'strain': 4277, 'circu': 876, 'robinson': 3772, 'inhabit': 2340, 'behold': 479, 'california': 702, 'brown': 652, 'colleagu': 939, 'fulfil': 1882, 'dwarf': 1443, 'servant': 3958, 'leather': 2609, 'explod': 1643, 'randi': 3577, 'fulci': 1881, 'awak': 389, 'hooker': 2200, 'idol': 2263, 'acquir': 134, 'meyer': 2865, 'stallon': 4222, 'reserv': 3700, 'snow': 4116, 'storm': 4272, 'robber': 3767, 'retriev': 3722, 'environ': 1563, 'valley': 4739, 'forest': 1820, 'econom': 1468, 'punk': 3528, 'breath': 620, 'bitch': 525, 'elabor': 1490, 'elm': 1505, 'cyborg': 1157, 'splatter': 4192, 'fever': 1735, 'pitch': 3338, 'sox': 4156, 'sport': 4203, 'greedi': 2024, 'swing': 4392, 'laurel': 2591, 'baldwin': 420, 'sleepwalk': 4087, 'deliveri': 1244, 'bash': 440, 'implaus': 2287, 'fog': 1803, 'encourag': 1530, 'meryl': 2854, 'streep': 4282, 'selfish': 3931, 'deliber': 1238, 'godfath': 1978, 'constitut': 1025, 'ran': 3576, 'centr': 785, 'monk': 2938, 'built': 668, 'steel': 4244, 'repli': 3688, 'dust': 1438, 'belushi': 488, 'stuart': 4301, 'attorney': 367, 'bath': 449, 'yawn': 4978, 'flair': 1774, 'boyl': 604, 'widow': 4903, 'ann': 263, 'reid': 3652, 'craig': 1094, 'compromis': 987, 'inject': 2344, 'alarm': 194, 'albeit': 195, 'phrase': 3321, 'fluff': 1798, '21st': 67, 'hack': 2066, 'chees': 828, 'falk': 1679, 'hank': 2088, 'murray': 2987, 'guid': 2053, 'collector': 941, 'interrupt': 2383, 'andi': 253, '1978': 34, 'phantom': 3308, 'norm': 3087, 'pound': 3408, 'loser': 2699, 'blah': 533, 'turd': 4628, 'bounc': 594, 'rhythm': 3740, 'antonio': 278, '2008': 65, 'goof': 1990, 'shield': 3996, 'lisa': 2668, 'kidnap': 2526, 'caught': 772, 'jacket': 2419, 'clinic': 908, 'mexico': 2864, 'margaret': 2777, 'toronto': 4555, 'myth': 3000, 'nerd': 3043, 'geek': 1926, 'worship': 4951, 'awhil': 396, 'scientif': 3884, 'london': 2689, 'darren': 1186, 'mum': 2981, 'legitim': 2620, 'frontier': 1876, 'solv': 4129, 'ebert': 1465, 'info': 2335, 'spinal': 4185, 'album': 197, 'reduc': 3635, 'caricatur': 742, 'spontan': 4200, 'hop': 2201, 'biker': 514, 'bike': 513, 'ireland': 2400, 'decis': 1216, 'crocodil': 1123, 'rooney': 3794, 'foul': 1838, 'smell': 4105, 'baker': 417, 'conneri': 1010, 'boredom': 584, 'slam': 4077, 'stack': 4214, 'complain': 976, 'cemeteri': 781, 'sunshin': 4351, 'glow': 1974, 'mason': 2797, 'miller': 2885, 'iv': 2416, 'mummi': 2982, 'basement': 439, 'fund': 1888, 'cigarett': 869, 'throat': 4501, 'graduat': 2005, 'comb': 949, 'rocki': 3777, 'montana': 2944, 'painter': 3219, 'albert': 196, 'norman': 3089, 'reign': 3653, 'brillianc': 632, 'pocket': 3364, 'susan': 4376, 'prank': 3415, 'aveng': 384, 'ned': 3029, 'nineti': 3071, 'ambiti': 238, 'atroci': 359, 'tactic': 4406, 'rapist': 3588, 'gori': 1995, 'wtf': 4971, 'neatli': 3025, 'conspiraci': 1022, 'theori': 4479, 'tunnel': 4627, 'ron': 3789, 'grinch': 2036, 'lou': 2703, 'carrey': 751, 'heap': 2120, 'carey': 740, 'metal': 2860, 'perceiv': 3286, 'convert': 1048, 'gloriou': 1972, 'pattern': 3267, 'photo': 3318, 'bake': 416, 'reson': 3705, 'risk': 3756, 'loretta': 2697, 'victori': 4774, 'restaur': 3712, 'cinderella': 870, 'christi': 859, 'vaniti': 4747, 'curtain': 1150, 'donna': 1378, '2004': 61, '1991': 46, '2002': 59, 'rumor': 3819, 'repris': 3693, 'calib': 701, 'characterist': 811, 'buri': 677, 'recit': 3620, 'belt': 487, 'scar': 3869, 'stress': 4286, 'immatur': 2279, 'rhyme': 3739, 'unorigin': 4700, 'worm': 4947, 'loneli': 2691, 'niro': 3073, 'nightclub': 3067, 'deriv': 1265, 'wanna': 4828, 'homag': 2187, 'tarantino': 4422, 'furthermor': 1896, 'pen': 3280, 'characteris': 810, 'arguabl': 307, 'amateur': 231, 'horrifi': 2212, 'slight': 4091, 'sh': 3970, 'olli': 3153, 'milk': 2883, 'bacon': 409, 'anderson': 252, 'colonel': 943, 'neill': 3037, 'renaiss': 3678, 'galaxi': 1908, 'jackson': 2421, 'yeti': 4987, 'tame': 4417, 'improb': 2295, 'toss': 4557, 'verhoeven': 4762, 'gerard': 1939, 'lure': 2729, 'christin': 861, 'sicken': 4025, 'hitchcock': 2172, 'wive': 4931, '1999': 52, 'akshay': 190, 'kumar': 2553, 'amitabh': 242, 'hilar': 2161, 'roller': 3782, '99': 96, '16': 12, 'virtu': 4791, 'inher': 2341, 'breed': 622, 'speci': 4168, 'diseas': 1336, 'sirk': 4059, 'chicago': 835, 'ambit': 237, 'hostil': 2218, 'wave': 4849, 'stimul': 4258, 'weather': 4862, 'joel': 2463, 'agenda': 176, 'jay': 2436, 'bridget': 628, 'http': 2228, 'sustain': 4382, 'dylan': 1444, 'leigh': 2621, 'eastern': 1461, 'hung': 2242, 'decept': 1214, 'furiou': 1895, 'showdown': 4018, 'coher': 932, 'kitchen': 2536, 'brando': 610, 'contempt': 1032, 'electron': 1494, 'substanc': 4320, 'misfortun': 2907, 'cathol': 770, 'beaten': 462, 'shaki': 3975, 'scariest': 3874, 'enforc': 1538, 'timothi': 4522, 'nope': 3086, 'bourn': 596, 'damon': 1171, 'angela': 257, 'paula': 3269, 'neurot': 3048, 'endur': 1534, 'sympathi': 4398, 'deem': 1223, 'clan': 884, 'amor': 245, 'torn': 4554, 'knife': 2541, 'gillian': 1953, 'orson': 3176, 'shanghai': 3979, 'lab': 2560, 'literari': 2673, 'wrestl': 4963, 'palma': 3226, 'widescreen': 4901, 'policeman': 3379, 'pot': 3405, 'naughti': 3018, 'legaci': 2616, 'rome': 3786, 'unknown': 4695, 'bust': 685, 'lean': 2605, 'deaf': 1200, 'bias': 507, 'offend': 3137, 'cliffhang': 903, 'nerv': 3044, 'faster': 1703, 'rambo': 3573, 'perpetu': 3295, 'poison': 3372, 'robbin': 3769, 'financ': 1754, 'salman': 3845, 'jo': 2458, 'clara': 885, 'scarecrow': 3871, 'stolen': 4264, 'spill': 4183, 'pale': 3224, 'blob': 548, 'mcqueen': 2820, 'aborigin': 102, 'bay': 453, 'uwe': 4731, 'boll': 570, 'disgrac': 1337, 'spike': 4182, 'sleaz': 4084, 'neighborhood': 3035, 'undermin': 4666, 'imperson': 2286, 'ritchi': 3758, 'alex': 201, 'east': 1460, 'durat': 1437, 'verg': 4761, 'labor': 2562, 'casper': 759, 'boo': 577, 'tonight': 4546, 'vincent': 4786, 'hopeless': 2203, 'rubber': 3812, 'acid': 131, 'blur': 559, 'leon': 2628, 'weight': 4869, 'bullet': 671, '75': 90, 'palac': 3222, 'traffic': 4573, '1993': 47, 'alicia': 206, 'princ': 3460, 'dire': 1317, 'nathan': 3014, 'justin': 2496, 'chaplin': 806, 'inabl': 2298, 'mundan': 2983, 'sibl': 4023, 'dysfunct': 1446, 'roommat': 3793, 'karl': 2503, 'goer': 1981, 'fay': 1713, '1986': 41, 'ho': 2175, 'candl': 720, 'tad': 4407, 'stir': 4261, 'bent': 493, 'kingdom': 2533, 'barn': 433, 'hapless': 2089, 'victoria': 4775, 'persuad': 3300, 'screw': 3899, 'bug': 666, 'pixar': 3341, 'evolv': 1611, 'ant': 270, 'expand': 1632, 'numer': 3112, 'tooth': 4549, 'trivia': 4616, 'min': 2889, 'conrad': 1013, 'magician': 2748, 'macabr': 2736, 'morri': 2959, 'vibrant': 4769, 'resum': 3717, 'wealthi': 4858, 'nicol': 3063, 'marlon': 2786, 'niec': 3065, 'miniseri': 2896, 'eyr': 1660, 'dalton': 1166, 'rochest': 3774, 'beer': 470, 'lili': 2656, 'judd': 2481, 'artwork': 328, 'laura': 2590, 'unfair': 4679, 'vile': 4783, 'fuel': 1880, 'bubbl': 659, 'wrap': 4960, 'cooper': 1057, 'leonard': 2629, 'fascist': 1700, 'housewif': 2224, 'gabriel': 1903, 'contrari': 1039, 'glorifi': 1971, 'rambl': 3572, 'ol': 3147, 'slimi': 4094, 'wrestler': 4964, 'articl': 324, 'vet': 4765, 'ghetto': 1945, 'march': 2776, 'standout': 4226, 'penni': 3282, 'johnson': 2467, 'corman': 1063, 'subtli': 4325, 'modest': 2929, 'karloff': 2504, 'bori': 585, 'rukh': 3817, 'demonstr': 1250, 'felix': 1723, 'drake': 1398, 'guest': 2052, 'expedit': 1634, 'diana': 1298, 'secretli': 3915, 'heal': 2117, 'collabor': 937, 'refresh': 3642, 'farc': 1693, 'acknowledg': 132, 'cypher': 1160, 'dispos': 1348, 'natali': 3013, 'dont': 1379, 'mann': 2770, 'cuban': 1137, 'despic': 1276, 'soderbergh': 4121, 'revolt': 3732, 'compris': 986, 'chamberlain': 798, 'cg': 792, 'basebal': 438, 'empir': 1522, 'porter': 3394, 'millionair': 2887, 'pant': 3231, 'lucil': 2718, 'betti': 503, 'francisco': 1849, 'inherit': 2342, 'toe': 4531, 'trademark': 4571, 'hackney': 2068, 'gray': 2017, 'royal': 3810, 'nina': 3069, 'superhero': 4356, 'fundament': 1889, 'shepherd': 3993, 'basketbal': 445, 'viewpoint': 4781, 'cream': 1103, 'watson': 4848, 'chess': 832, 'barri': 435, 'bitten': 527, 'comprehens': 985, 'biko': 516, 'unexplain': 4678, 'proport': 3502, 'rid': 3745, 'dentist': 1254, 'gimmick': 1954, 'mobil': 2922, 'dreari': 1405, 'vomit': 4805, 'retard': 3720, 'shatter': 3985, 'spielberg': 4181, 'temper': 4450, 'outlin': 3189, 'rooki': 3791, 'quaid': 3541, 'rendit': 3680, 'widmark': 4902, 'ritter': 3759, 'monoton': 2941, 'overlong': 3199, 'irrelev': 2404, 'conan': 990, 'graham': 2006, 'sue': 4333, 'jedi': 2440, 'tripl': 4613, 'kazan': 2508, 'predat': 3423, 'orlean': 3174, 'lengthi': 2626, 'scenario': 3875, 'melissa': 2838, 'hart': 2105, 'sabrina': 3830, 'zizek': 4996, 'bro': 639, 'attribut': 369, 'novak': 3102, 'kyle': 2557, 'pervert': 3302, 'useless': 4724, 'embark': 1511, 'austin': 377, 'cape': 728, 'wipe': 4921, 'breakfast': 618, 'brit': 636, 'margin': 2778, 'sparkl': 4165, 'mute': 2995, 'evan': 1594, 'derang': 1263, 'meal': 2821, 'boxer': 600, 'dixon': 1364, 'sidewalk': 4029, 'poster': 3404, 'shove': 4015, 'repress': 3692, 'owe': 3203, 'arrog': 320, 'oblig': 3118, 'what': 4882, 'sadist': 3834, 'emperor': 1519, 'damm': 1169, 'champion': 799, 'potter': 3407, 'stalker': 4221, 'sand': 3851, 'visibl': 4794, 'catchi': 767, 'intric': 2386, 'salt': 3846, 'fontain': 1809, 'abraham': 105, 'tribut': 4605, 'chop': 850, 'lincoln': 2658, 'flynn': 1800, 'duti': 1440, '1971': 28, 'salli': 3844, 'dreck': 1406, 'palm': 3225, 'louis': 2706, 'hello': 2139, 'nervou': 3045, 'shred': 4021, 'arc': 303, 'grief': 2032, 'feat': 1717, 'rotten': 3803, 'blackmail': 531, 'porno': 3393, 'uh': 4646, 'pour': 3409, 'bonu': 576, 'simplic': 4045, 'victorian': 4776, 'spade': 4159, 'keen': 2510, 'util': 4728, 'scoop': 3887, 'ellen': 1504, 'huh': 2233, 'farm': 1695, 'seedi': 3922, 'cooki': 1055, 'retain': 3719, 'pauli': 3270, 'bett': 501, 'corbett': 1061, 'errol': 1574, 'sidney': 4030, 'cannon': 722, 'pokemon': 3374, 'ramon': 3574, 'jew': 2452, 'staff': 4215, 'ustinov': 4726, 'nod': 3076, 'bunni': 676, 'seed': 3921, 'infect': 2331, 'feminist': 1729, 'mermaid': 2853, 'mesmer': 2855, 'gundam': 2059, 'slug': 4099, 'lesli': 2631, 'harmless': 2100, 'olivi': 3152, 'restrict': 3715, 'trauma': 4590, 'lumet': 2727, 'exhaust': 1627, 'succe': 4326, 'pacif': 3210, 'monti': 2946, 'li': 2641, 'soccer': 4118, 'iran': 2398, 'schedul': 3878, 'hallucin': 2076, 'psychot': 3520, 'whack': 4880, 'goldsworthi': 1986, 'strongest': 4296, 'alvin': 228, 'hackman': 2067, 'macho': 2739, 'hamlet': 2079, 'julian': 2488, 'implic': 2289, 'recognis': 3622, 'down': 1388, 'chavez': 821, 'elit': 1502, 'newer': 3053, 'lifeless': 2647, 'dracula': 1394, 'stole': 4263, 'institut': 2365, 'disord': 1346, 'facil': 1666, 'matthau': 2810, 'cattl': 771, 'kirk': 2534, 'springer': 4209, 'marc': 2775, 'gina': 1955, 'sniper': 4114, 'phenomen': 3309, 'couch': 1074, 'zoom': 4999, 'esther': 1582, 'malon': 2762, 'cousin': 1087, 'elizabeth': 1503, 'wisdom': 4923, 'marti': 2791, 'frantic': 1855, 'monument': 2947, 'dorothi': 1383, 'hara': 2093, 'q': 3540, 'unpredict': 4702, 'underneath': 4667, 'shortcom': 4009, 'mortal': 2960, 'muscl': 2988, 'kent': 2517, 'wore': 4943, 'carla': 744, 'newli': 3054, 'vastli': 4753, 'buffalo': 665, 'maci': 2740, 'slightest': 4092, 'frontal': 1875, 'inmat': 2347, 'profess': 3479, 'scarfac': 3872, 'conscienc': 1014, 'psych': 3514, 'pickford': 3325, 'ross': 3800, 'joey': 2464, 'foxx': 1843, 'enterpris': 1554, 'absent': 108, 'jill': 2455, 'axe': 398, 'rosario': 3797, 'dawson': 1194, 'kurosawa': 2555, 'mol': 2932, 'summar': 4344, 'recogniz': 3624, 'globe': 1969, 'smack': 4100, 'milo': 2888, 'bacal': 402, 'bergman': 494, 'barrymor': 436, 'keith': 2512, 'gasp': 1920, 'signal': 4033, 'propheci': 3500, 'helm': 2140, 'crawford': 1099, 'nun': 3113, 'spray': 4205, 'tomorrow': 4541, 'peril': 3292, 'publish': 3522, 'pulp': 3524, 'clone': 912, 'vanessa': 4745, 'roar': 3765, 'hopkin': 2205, 'uma': 4650, '1996': 50, 'household': 2223, 'sid': 4026, 'bronson': 645, 'countless': 1079, 'dandi': 1176, 'anton': 277, 'carlito': 745, 'climat': 905, 'ratso': 3594, 'pete': 3304, 'mode': 2925, 'unseen': 4708, 'truman': 4622, 'marion': 2783, 'huston': 2248, 'cecil': 777, 'prey': 3451, 'holocaust': 2186, 'redund': 3636, 'hain': 2069, 'preming': 3430, 'patricia': 3264, 'lindsay': 2660, 'hostag': 2217, 'streisand': 4284, 'wendi': 4873, 'grotesqu': 2041, 'dolph': 1372, 'lundgren': 2728, 'greet': 2027, 'wwe': 4972, 'championship': 800, 'sandra': 3853, 'clad': 881, 'linger': 2664, 'flock': 1792, 'wealth': 4857, 'sergeant': 3952, 'entitl': 1560, 'shaw': 3986, 'filth': 1752, 'kolchak': 2548, 'frankenstein': 1852, 'linda': 2659, 'tripe': 4612, 'cush': 1153, 'ingrid': 2339, 'fido': 1739, 'gunga': 2060, 'din': 1314, 'macarthur': 2737, 'shorter': 4010, 'scoobi': 3886, 'doo': 1380, 'net': 3046, 'burton': 681, 'connor': 1011, 'nemesi': 3040, 'mathieu': 2806, 'dim': 1311, '1988': 43, 'kidman': 2525, 'paxton': 3272, 'kitti': 2537, 'replay': 3687, 'wax': 4850, 'stair': 4217, 'cartoonish': 755, 'mccoy': 2818, 'cap': 726, 'antagonist': 271, 'bach': 403, '95': 95, 'enabl': 1527, 'oldest': 3150, 'groan': 2039, 'tierney': 4513, 'earl': 1450, 'cohen': 931, 'rosemari': 3799, 'corn': 1064, 'poem': 3366, 'astronaut': 353, 'naschi': 3011, 'israel': 2411, 'hug': 2230, 'handicap': 2084, 'timberlak': 4518, 'walsh': 4823, 'timon': 4521, 'chicken': 837, 'gabl': 1902, 'evelyn': 1596, 'affleck': 166, 'isra': 2410, 'junior': 2492, 'nicola': 3064, 'bud': 661, 'senior': 3937, 'unleash': 4696, 'pearl': 3277, 'uniformli': 4686, 'trier': 4607, 'domino': 1375, 'vignett': 4782, 'gere': 1940, 'simmon': 4041, 'raj': 3569, 'dudley': 1429, 'europa': 1591, 'narrow': 3010, 'einstein': 1487, 'wang': 4827, 'thunderbird': 4509, 'boston': 589, 'danish': 1180, 'tara': 4421, 'spock': 4195, '00': 1, 'radiat': 3563, 'boyer': 602, 'miyazaki': 2920}\n"
     ]
    }
   ],
   "source": [
    "#Testing What Vocabulary Looks Like\n",
    "print(vocabulary)"
   ]
  },
  {
   "cell_type": "code",
   "execution_count": 40,
   "metadata": {},
   "outputs": [
    {
     "name": "stdout",
     "output_type": "stream",
     "text": [
      "<class 'dict'>\n"
     ]
    }
   ],
   "source": [
    "print(type(vocabulary))"
   ]
  },
  {
   "cell_type": "code",
   "execution_count": 41,
   "metadata": {},
   "outputs": [],
   "source": [
    "cache_file_bow = \"bow_features.pkl\" # add path to this\n",
    "cache_data_bow = joblib.load(os.path.join(cache_dir, cache_file_bow))"
   ]
  },
  {
   "cell_type": "code",
   "execution_count": 49,
   "metadata": {},
   "outputs": [],
   "source": [
    "vocabulary_loaded = cache_data_bow['vocabulary']\n",
    "cache_data_bow = None"
   ]
  },
  {
   "cell_type": "code",
   "execution_count": 43,
   "metadata": {},
   "outputs": [
    {
     "name": "stdout",
     "output_type": "stream",
     "text": [
      "{'give': 1959, '9': 93, '10': 4, 'need': 3030, 'view': 4779, 'current': 1148, 'mind': 2890, 'frame': 1845, 'fresh': 1865, 'perspect': 3299, 'rememb': 3673, 'amaz': 233, 'psycholog': 3518, 'thriller': 4500, 'dazzl': 1196, 'brain': 607, 'eye': 1659, 'watch': 4844, 'would': 4957, 'everi': 1601, 'time': 4519, 'came': 706, 'hbo': 2114, 'back': 405, 'day': 1195, 'probabl': 3470, '1990': 45, 'might': 2874, 'even': 1597, 'record': 3626, 'long': 2692, 'gone': 1987, 'sure': 4365, 'wrote': 4970, 'tri': 4601, 'get': 1944, 'titl': 4528, 'carri': 752, 'hope': 2202, 'find': 1756, 'local': 2682, 'video': 4777, 'store': 4270, 'highli': 2158, 'recommend': 3625, 'somewher': 4137, 'interest': 2377, 'least': 2608, 'enjoy': 1545, 'movi': 2972, 'edward': 1478, 'anyth': 284, 'sort': 4147, 'strang': 4279, 'along': 218, 'line': 2661, 'one': 3155, 'im': 2273, 'still': 4255, 'doubt': 1386, 'horribl': 2209, 'wors': 4950, 'ever': 1600, 'saw': 3865, 'actor': 139, 'pain': 3217, 'imposs': 2293, 'text': 4472, 'submit': 4317, 'comment': 960, 'agre': 180, 'term': 4460, 'laid': 2567, 'statement': 4236, 'must': 2993, 'origin': 3173, 'work': 4944, 'normal': 3088, 'post': 3403, 'site': 4064, 'within': 4928, '2': 55, '3': 73, 'busi': 683, 'meet': 2835, 'pleas': 3355, 'write': 4966, 'english': 1542, 'board': 561, 'mark': 2784, 'support': 4361, 'though': 4491, 'break': 616, 'insert': 2352, 'leav': 2610, 'blank': 538, 'shot': 4012, 'car': 734, 'someon': 4133, 'play': 3352, 'els': 1506, 'latest': 2583, 'song': 4139, 'react': 3601, 'accord': 124, 'voic': 4802, 'wonder': 4936, 'made': 2742, 'mani': 2766, 'scene': 3876, 'come': 952, 'camera': 708, 'descend': 1266, 'parti': 3246, 'true': 4620, 'exploit': 1644, 'max': 2813, 'total': 4558, 'fabric': 1662, 'either': 1488, 'way': 4851, 'uncomfort': 4658, 'purpos': 3534, 'thru': 4505, 'kept': 2518, 'footag': 1814, 'taken': 4411, 'face': 1664, 'valu': 4740, 'nice': 3059, 'portrait': 3396, 'tortur': 4556, 'geniu': 1933, 'believ': 482, 'film': 1750, 'budget': 663, '20': 56, 'million': 2886, 'like': 2654, 'know': 2545, 'money': 2937, 'went': 4875, 'monkey': 2939, 'could': 1075, 'make': 2757, 'better': 502, 'cgi': 793, 'effect': 1480, 'wast': 4843, 'hour': 2221, 'dread': 1403, 'piec': 3328, 'garbag': 1915, 'although': 225, 'admit': 151, 'machin': 2738, 'martian': 2793, 'look': 2694, 'realli': 3612, 'cool': 1056, 'station': 4238, '1': 3, 'game': 1910, 'earli': 1451, 'pc': 3274, 'mid': 2871, '90': 94, 'puzzl': 3539, 'go': 1975, 'great': 2019, 'good': 1989, 'old': 3148, 'fashion': 1701, 'model': 2926, 'comput': 988, 'control': 1043, 'la': 2559, 'georg': 1938, 'luca': 2716, 'actual': 141, 'care': 737, 'ruin': 3816, 'case': 756, 'quit': 3554, 'possibl': 3402, 'worst': 4952, 'rather': 3592, 'sit': 4062, '24': 69, 'repeat': 3683, 'screen': 3896, 'hate': 2109, 'complet': 978, 'say': 3866, 'unlik': 4698, 'bad': 410, 'plan': 3345, 'killer': 2528, 'tomato': 4539, 'santa': 3854, 'clau': 890, 'conquer': 1012, 'special': 4169, 'place': 3342, 'heart': 2123, 'love': 2709, 'dvd': 1442, 'librari': 2644, 'sold': 4123, 'guy': 2062, 'dollar': 1371, 'bet': 499, 'spent': 4177, 'vice': 4770, 'cast': 762, 'crew': 1114, 'shame': 3978, 'want': 4830, 'jacki': 2420, 'chan': 801, 'classic': 889, 'directori': 1321, 'featur': 1718, 'polic': 3378, 'stori': 4271, '1985': 40, 'among': 243, 'top': 4550, 'modern': 2928, 'action': 137, 'hong': 2196, 'kong': 2549, 'simpli': 4044, 'includ': 2305, 'usual': 4727, 'kung': 2554, 'fu': 1879, 'also': 222, 'gun': 2058, 'urban': 4719, 'later': 2582, 'becom': 467, 'popular': 3391, 'typic': 4643, 'hk': 2174, 'director': 1320, 'john': 2465, 'woo': 4938, 'mix': 2918, 'two': 4640, 'element': 1496, 'style': 4311, 'result': 3716, 'wild': 4907, 'sound': 4149, 'protect': 3506, 'import': 2290, 'wit': 4926, 'soon': 4140, 'power': 3412, 'gangster': 1913, 'boss': 588, 'ring': 3752, 'crimin': 1117, 'activ': 138, 'girlfriend': 1958, 'young': 4989, 'sweet': 4389, 'maggi': 2746, 'subsequ': 4319, 'role': 3780, 'heroic': 2147, 'trio': 4610, 'sequel': 3950, 'johnni': 2466, 'soul': 4148, 'david': 1192, 'other': 3179, 'plot': 3362, 'simpl': 4043, 'first': 1764, 'cours': 1085, 'stunt': 4309, 'charact': 808, 'hurt': 2246, 'pretti': 3446, 'badli': 412, 'coupl': 1083, 'end': 1531, 'hit': 2171, 'head': 2115, 'near': 3021, 'nasti': 3012, 'sharp': 3984, 'glass': 1965, 'team': 4435, 'member': 2843, 'almost': 216, 'got': 1996, 'kill': 2527, 'bu': 658, 'stop': 4269, 'right': 3751, 'spit': 4190, 'fli': 1786, 'suppos': 4362, 'park': 3241, 'front': 1874, 'flight': 1788, 'short': 4008, 'hospit': 2215, 'level': 2638, 'injuri': 2346, 'credit': 1110, 'behind': 478, 'imageri': 2275, 'imag': 2274, 'injur': 2345, 'tasteless': 4427, 'fortun': 1834, 'sever': 3966, 'plenti': 3359, 'imagin': 2276, 'expect': 1633, 'legendari': 2619, 'shop': 4007, 'mall': 2761, 'abl': 100, 'deliv': 1242, 'alway': 229, 'tell': 4449, 'edit': 1475, 'show': 4016, 'perfect': 3288, 'ultra': 4649, 'compar': 969, 'hollywood': 2184, 'effort': 1482, 'instanc': 2360, 'hardli': 2098, 'slow': 4097, 'moment': 2935, 'never': 3049, 'bore': 583, 'hard': 2094, 'neg': 3032, 'point': 3370, 'cannot': 723, 'stand': 4224, 'comedi': 954, 'funni': 1891, 'especi': 1577, 'error': 1575, 'amateurish': 232, 'screenplay': 3897, 'accid': 119, 'writer': 4967, 'add': 145, 'without': 4929, 'necessarili': 3027, 'understand': 4670, 'sign': 4032, 'script': 3900, 'stupid': 4310, 'dialogu': 1295, 'mean': 2822, 'stab': 4213, 'murder': 2985, 'attempt': 362, 'begin': 474, 'shout': 4014, 'scream': 3895, 'act': 136, 'drunken': 1424, 'clown': 919, 'slapstick': 4079, 'nightmar': 3068, 'girl': 1957, 'kind': 2530, 'inept': 2327, 'see': 3920, 'otherwis': 3180, 'genr': 1934, 'speak': 4167, 'thought': 4492, 'loud': 2704, 'thing': 4484, 'clear': 894, 'viewer': 4780, 'thu': 4506, 'light': 2651, 'comic': 957, 'seriou': 3955, 'forgiven': 1825, 'easili': 1459, 'fast': 1702, 'speed': 4174, 'full': 1883, 'impact': 2285, 'ball': 421, 'wall': 4821, 'adventur': 159, 'miracl': 2901, 'sad': 3833, 'us': 4721, 'produc': 3476, 'jame': 2426, 'audienc': 370, 'return': 3723, 'person': 3297, 'invent': 2392, 'definit': 1233, 'today': 4529, '80': 92, 'insan': 2351, 'somewhat': 4136, 'flaw': 1781, 'mention': 2849, '7': 87, 'exactli': 1614, 'richard': 3742, 'harri': 2102, 'finest': 1758, 'dement': 1247, 'death': 1206, 'whale': 4881, 'wife': 4905, 'child': 839, 'charlott': 817, 'expert': 1639, 'involv': 2397, 'yell': 4983, 'lot': 2702, 'natur': 3017, 'alon': 217, 'listen': 2670, 'somehow': 4132, 'battl': 452, 'reveng': 3728, 'craze': 1101, 'except': 1619, 'round': 3805, 'mirror': 2903, 'endless': 1533, 'reflect': 3641, 'bo': 560, 'derek': 1264, 'particularli': 3250, 'unpleas': 4701, 'run': 3820, 'robert': 3770, 'fare': 1694, 'well': 4872, 'polit': 3382, 'documentari': 1368, 'recent': 3619, 'call': 703, 'fight': 1744, 'examin': 1616, 'infam': 2330, 'militari': 2882, 'industri': 2326, 'complex': 979, 'grip': 2037, 'nation': 3015, 'consid': 1019, 'war': 4831, 'iraq': 2399, 'yet': 4986, 'far': 1692, 'famou': 1686, 'seri': 3953, 'name': 3006, 'world': 4946, 'frank': 1851, 'oscar': 3177, 'categori': 768, 'seven': 3964, 'truli': 4621, 'mere': 2851, 'vein': 4756, 'triumph': 4615, 'recycl': 3630, 'said': 3839, 'fact': 1667, 'vital': 4799, 'inform': 2336, 'gener': 1930, 'bbc': 454, 'lack': 2563, 'primari': 3456, 'sourc': 4152, 'less': 2632, 'valuabl': 4741, 'skill': 4071, 'purchas': 3531, 'use': 4723, 'found': 1839, 'opportun': 3163, 'select': 3929, 'free': 1859, 'chose': 855, 'four': 1840, 'collect': 940, 'rare': 3589, 'someth': 4134, 'worth': 4953, 'extra': 1656, 'qualiti': 3543, 'print': 3464, 'vari': 4748, 'provid': 3510, 'insight': 2354, 'american': 240, 'third': 4486, 'centuri': 787, 'ago': 179, 'racism': 3561, 'warner': 4837, 'brother': 650, 'pro': 3469, 'cartoon': 754, 'era': 1571, 'noth': 3098, 'wrong': 4969, 'blatant': 540, 'distort': 1354, '1945': 22, 'nazi': 3020, 'strike': 4289, 'divid': 1361, 'britain': 637, 'russia': 3825, 'china': 844, 'america': 239, 'overal': 3195, 'obviou': 3126, 'reason': 3615, 'subtl': 4323, 'reveal': 3726, 'x': 4975, 'refer': 3640, 'graphic': 2012, 'whole': 4894, 'japanes': 2431, 'sword': 4394, 'pierc': 3329, 'center': 784, 'appli': 296, 'past': 3258, 'standard': 4225, 'lesson': 2634, 'avoid': 386, 'foreign': 1819, 'whose': 4898, 'three': 4497, 'major': 2756, 'fought': 1837, 'sinc': 4051, 'vietnam': 4778, 'much': 2977, 'histor': 2168, 'may': 2814, 'help': 2141, 'truth': 4624, 'lie': 2645, 'propaganda': 3496, 'realiz': 3611, 'posit': 3400, 'last': 2580, 'year': 4981, 'navi': 3019, 'studi': 4304, 'distanc': 1350, 'away': 393, 'men': 2846, 'honor': 2197, 'base': 437, 'experi': 1636, 'servic': 3959, 'black': 530, 'master': 2801, 'chief': 838, 'struggl': 4300, 'overcom': 3196, 'eager': 1448, 'best': 498, 'side': 4027, 'u': 4644, 'helicopt': 2137, 'assault': 340, 'instal': 2359, 'engross': 1543, 'tale': 4412, 'sailor': 3840, 'rage': 3566, 'wood': 4939, 'antwon': 280, 'fisher': 1768, 'denzel': 1255, 'washington': 4842, 'debut': 1209, 'star': 4229, 'psychiatrist': 3515, 'treat': 4595, 'deepli': 1226, 'luke': 2726, 'obvious': 3127, 'bright': 631, 'enlist': 1547, 'man': 2763, 'assign': 344, 'seem': 3924, 'launch': 2589, 'minim': 2894, 'provoc': 3511, 'fellow': 1725, 'sent': 3944, 'part': 3245, 'pre': 3417, 'separ': 3948, 'proceed': 3473, 'slowli': 4098, 'open': 3158, 'aw': 387, 'childhood': 840, 'neglect': 3033, 'brutal': 655, 'develop': 1289, 'increasingli': 2314, 'trust': 4623, 'doctor': 1366, 'courag': 1084, 'pursu': 3535, 'beauti': 465, 'joy': 2479, 'engag': 1539, 'ask': 334, 'question': 3547, 'seek': 3923, 'answer': 269, 'howev': 2226, 'order': 3169, 'grow': 2044, 'move': 2970, 'conflict': 1005, 'destruct': 1282, 'behavior': 476, 'main': 2752, 'transcend': 4580, 'race': 3558, 'evil': 1608, 'foster': 1836, 'famili': 1684, 'set': 3961, 'davi': 1191, 'actress': 140, 'seen': 3926, 'number': 3111, 'pictur': 3326, 'mom': 2934, 'mr': 2973, 'nelson': 3039, 'earn': 1453, 'exist': 1629, 'gut': 2061, 'patient': 3263, 'interact': 2376, 'follow': 1806, 'certain': 790, 'predict': 3425, 'transfer': 4581, 'counter': 1077, 'stuff': 4306, 'earnest': 1454, 'realist': 3609, 'told': 4536, 'period': 3293, 'real': 3606, 'sens': 3938, 'excel': 1618, 'dealt': 1203, 'crush': 1134, 'direct': 1318, 'surviv': 4374, 'terribl': 4463, 'proclaim': 3475, 'victim': 4772, 'tall': 4416, 'size': 4068, 'signific': 4034, 'brave': 611, 'strong': 4294, 'claim': 882, 'decent': 1213, 'life': 2646, 'aid': 183, 'command': 958, 'address': 148, 'peopl': 3283, 'list': 2669, 'offic': 3140, 'rank': 3583, 'big': 510, 'critic': 1121, 'theater': 4475, 'deserv': 1271, 'wide': 4900, 'distribut': 1357, 'nomin': 3081, '8': 91, 'phil': 3311, 'alien': 207, 'quirki': 3553, 'humour': 2240, 'around': 316, 'odd': 3134, 'everyth': 1605, 'progress': 3487, 'joke': 2469, 'anymor': 282, 'low': 2711, 'that': 4474, 'problem': 3471, 'eventu': 1599, 'lost': 2701, 'appeal': 292, 'similar': 4039, 'anoth': 268, 'planet': 3347, 'michael': 2868, 'jordan': 2474, 'lloyd': 2678, 'martin': 2794, 'clever': 897, 'goldberg': 1983, 'han': 2082, 'straight': 4275, 'german': 1941, 'school': 3881, 'favor': 1709, 'ton': 4542, 'symbol': 4395, 'surreal': 4372, 'wagner': 4814, 'final': 1753, 'masterpiec': 2802, 'written': 4968, 'friday': 1867, 'opera': 3160, 'hous': 2222, 'music': 2990, 'score': 3889, 'accur': 126, 'manner': 2771, 'perform': 3290, 'bold': 569, 'take': 4410, 'crown': 1128, 'bizarr': 529, 'cinematographi': 874, 'known': 2547, 'controversi': 1044, 'prior': 3465, 'releas': 3660, 'hitler': 2173, 'anti': 274, 'grand': 2008, 'daughter': 1189, 'disturb': 1358, 'aspect': 336, 'sung': 4349, 'male': 2760, 'throughout': 4502, 'enchant': 1528, 'kiss': 2535, 'transform': 4582, 'femal': 1727, 'gender': 1928, 'bend': 490, 'display': 1347, 'feminin': 1728, 'quest': 3546, 'holi': 2180, 'serv': 3957, 'mankind': 2769, 'redeem': 3632, 'christ': 858, 'blood': 552, 'photograph': 3319, 'notori': 3101, 'sinist': 4056, 'figur': 1746, 'mistress': 2915, 'flag': 1773, 'hang': 2087, 'outsid': 3192, 'journey': 2478, '19th': 53, '20th': 66, 'tempt': 4452, 'flower': 1797, 'nude': 3108, 'portray': 3397, 'corrupt': 1071, 'mari': 2779, 'eve': 1595, 'soprano': 4143, 'ultim': 4648, 'fan': 1687, 'type': 4642, 'european': 1592, 'intellectu': 2371, 'appreci': 297, 'histori': 2169, 'lover': 2710, 'inde': 2316, 'sing': 4053, 'compel': 972, 'focus': 1802, 'intens': 2374, 'depth': 1261, 'greater': 2020, 'stage': 4216, 'king': 2532, 'sensual': 3943, 'dramat': 1400, 'excit': 1622, 'delv': 1245, 'torment': 4553, 'state': 4235, 'perfectli': 3289, 'product': 3477, 'certainli': 791, 'un': 4651, 'concept': 993, 'christian': 860, 'ceremoni': 789, 'castl': 763, 'knight': 2542, 'wound': 4958, 'dark': 1183, 'turn': 4630, 'etc': 1585, 'theme': 4478, 'art': 322, 'teenag': 4446, 'sexual': 3969, 'uniqu': 4692, 'dare': 1182, 'receiv': 3618, 'littl': 2675, 'public': 3521, 'asid': 333, 'festiv': 1733, 'french': 1863, 'fond': 1807, 'everyday': 1603, 'subject': 4315, 'handl': 2085, 'often': 3142, 'premier': 3429, '2007': 64, 'award': 392, 'new': 3051, 'alreadi': 220, 'de': 1197, 'therefor': 4480, 'cinemat': 872, 'pace': 3209, 'age': 174, 'focu': 1801, 'mainli': 2753, 'differ': 1304, 'delic': 1239, 'perhap': 3291, 'bit': 524, 'offer': 3139, 'enough': 1549, 'scare': 3870, 'deep': 1224, 'layer': 2599, 'access': 118, 'everyon': 1604, 'teen': 4445, 'due': 1430, 'visual': 4798, 'approach': 298, 'authent': 380, 'feel': 1721, 'individu': 2323, 'abomin': 101, 'cinema': 871, 'five': 1771, 'fill': 1748, 'drug': 1421, 'induc': 2324, 'common': 964, 'rave': 3595, 'averag': 385, 'asylum': 354, 'resid': 3701, 'despit': 1278, 'color': 945, 'appear': 293, 'human': 2236, 'children': 842, 'start': 4233, 'innoc': 2349, 'poor': 3386, 'boy': 601, 'drum': 1422, 'wait': 4815, 'put': 3538, 'ye': 4979, 'fear': 1715, 'friend': 1868, 'quickli': 3549, 'weird': 4870, 'grant': 2011, 'accept': 117, 'combin': 951, 'wizard': 4932, 'oz': 3207, 'lose': 2698, 'warm': 4834, 'book': 579, 'foot': 1813, 'yellow': 4984, 'rel': 3656, 'befriend': 471, 'deeper': 1225, 'despair': 1274, 'pleasant': 3356, 'horrif': 2211, 'boat': 563, 'grandfath': 2009, 'clock': 911, 'dragon': 1396, 'ad': 142, 'mayhem': 2816, 'comfort': 956, 'chao': 805, 'villain': 4785, 'dub': 1425, 'plastic': 3349, 'mask': 2796, 'facial': 1665, 'express': 1650, 'deal': 1201, 'ga': 1901, 'lowest': 2713, 'favorit': 1710, 'nose': 3092, 'dive': 1359, 'bodi': 566, 'water': 4847, 'land': 2572, 'prefer': 3426, 'live': 2677, 'summari': 4345, 'terrifi': 4465, 'plane': 3346, 'flick': 1787, 'larg': 2577, 'choic': 847, 'across': 135, 'accident': 120, 'oh': 3143, 'vagu': 4735, 'trailer': 4577, 'forgot': 1826, 'cheesi': 829, 'nonsens': 3085, 'realiti': 3610, 'hell': 2138, 'ride': 3747, 'high': 2155, 'suspens': 4379, 'gradual': 2004, 'reach': 3600, 'climax': 906, 'liter': 2672, 'edg': 1471, 'seat': 3909, 'bite': 526, 'remain': 3670, 'nail': 3003, 'moral': 2952, 'drift': 1410, 'think': 4485, 'viciou': 4771, 'learn': 2607, 'contest': 1034, 'motiv': 2964, 'guess': 2051, 'pull': 3523, 'trigger': 4608, 'candid': 719, 'safe': 3836, 'remind': 3674, 'knew': 2540, 'happen': 2090, 'next': 3058, 'spoiler': 4197, 'chang': 803, 'farmer': 1696, 'idea': 2257, 'rich': 3741, 'felt': 1726, 'done': 1377, 'associ': 346, 'rule': 3818, 'die': 1303, 'serious': 3956, 'execut': 1625, 'given': 1960, 'chanc': 802, 'ie': 2264, 'interestingli': 2378, 'bother': 590, 'caus': 773, 'wish': 4925, 'popcorn': 3389, 'version': 4763, 'australian': 379, 'bloom': 554, 'gave': 1923, 'forc': 1817, 'mechan': 2830, 'shootout': 4006, 'flash': 1776, 'routin': 3807, 'tv': 4633, 'soap': 4117, 'forward': 1835, 'favour': 1711, 'beat': 461, 'career': 738, 'surprisingli': 4371, 'dud': 1427, 'unfunni': 4683, 'cold': 934, 'satir': 3860, 'fish': 1766, 'highlight': 2159, 'adapt': 144, 'superior': 4357, 'render': 3679, 'tragedi': 4574, 'televis': 4448, 'unit': 4693, 'channel': 804, 'epic': 1564, 'scale': 3867, 'emphasi': 1521, 'god': 1977, 'sacrific': 3832, 'queen': 3545, 'outstand': 3193, 'stun': 4308, 'bring': 635, 'blend': 544, 'dawn': 1193, 'strongli': 4297, 'intern': 2380, 'william': 4912, 'lead': 2602, 'dougla': 1387, 'lousi': 2707, 'lazi': 2600, 'allow': 215, 'fine': 1757, 'scriptwrit': 3901, 'abil': 99, 'dislik': 1342, 'despis': 1277, 'incred': 2315, 'talent': 4413, 'sexi': 3968, 'brilliant': 633, 'talk': 4414, 'laugh': 2586, 'detect': 1285, 'homicid': 2191, 'squad': 4210, 'heard': 2122, 'kenneth': 2516, 'citi': 878, 'panic': 3230, 'serial': 3954, 'women': 4935, 'mayor': 2817, 'jonathan': 2472, 'account': 125, 'failur': 1672, 'catch': 766, 'cheap': 823, 'vulgar': 4810, 'unattract': 4653, 'joan': 2459, 'secretari': 3914, 'file': 1747, 'letter': 2637, 'cat': 765, 'dog': 1369, 'blatantli': 541, 'togeth': 4532, 'decid': 1215, 'draw': 1401, 'dress': 1407, 'woman': 4934, 'drag': 1395, 'six': 4066, 'annoy': 267, 'similarli': 4040, 'powel': 3411, 'disguis': 1338, 'crazi': 1102, 'integr': 2370, 'genuin': 1937, 'whatev': 4883, 'razor': 3599, 'bulk': 669, 'plu': 3363, 'splendid': 4193, 'player': 3354, '30': 74, 'delight': 1241, 'touch': 4559, 'sentenc': 3945, 'donald': 1376, 'cop': 1058, 'mistaken': 2914, 'nearli': 3023, 'lynch': 2734, 'mob': 2921, 'ruth': 3827, 'jimmi': 2457, 'lui': 2724, 'grin': 2035, 'dave': 1190, 'small': 4101, 'barbara': 430, 'pepper': 3284, 'loath': 2681, 'note': 3097, 'familiar': 1685, '1930': 17, 'tend': 4455, 'glanc': 1963, 'imdb': 2277, 'rate': 3591, 'steven': 4251, 'alic': 205, 'walker': 4820, 'novel': 3103, 'share': 3981, 'commun': 965, 'treatment': 4596, 'white': 4892, 'rural': 3822, 'abus': 113, 'father': 1707, 'snatch': 4112, 'arm': 312, 'birth': 522, 'miser': 2905, 'sister': 4061, 'newcom': 3052, 'whoopi': 4896, 'marri': 2787, 'husband': 2247, 'danni': 1181, 'glover': 1973, 'humili': 2238, 'remov': 3677, 'heartbreak': 2124, 'keep': 2511, 'reunit': 3725, 'assort': 347, 'tough': 4560, 'step': 4247, 'son': 4138, 'singer': 4054, 'teach': 4433, 'stellar': 4246, 'purpl': 3533, 'manag': 2764, 'captur': 733, 'essenc': 1578, 'complic': 980, 'lesbian': 2630, 'african': 171, 'vivid': 4800, 'shine': 3998, 'respond': 3709, 'surround': 4373, 'suffic': 4335, 'left': 2614, 'late': 2581, 'night': 3066, 'cabl': 696, 'porn': 3392, 'hot': 2219, 'depart': 1256, 'humor': 2239, 'bed': 468, 'adult': 156, 'extrem': 1658, 'train': 4578, 'wreck': 4961, '14': 10, 'episod': 1565, 'bought': 593, 'amazon': 235, 'incid': 2303, 'fairli': 1676, 'gotten': 1999, 'job': 2460, 'forgotten': 1827, 'absolut': 109, 'horrend': 2208, 'multi': 2979, 'project': 3488, 'trek': 4598, 'thirti': 4487, 'ship': 3999, 'chase': 820, 'hilari': 2162, 'smoke': 4108, 'engin': 1540, 'rocket': 3776, 'fulli': 1885, 'jet': 2451, 'west': 4877, 'shoot': 4005, 'out': 3182, 'sci': 3882, 'fi': 1736, 'gene': 1929, 'regardless': 3645, 'hype': 2250, 'minut': 2900, 'disast': 1328, 'kate': 2505, 'ashley': 331, 'disappoint': 1327, 'kid': 2523, 'spend': 4176, 'n': 3002, 'wooden': 4940, 'dead': 1198, 'tree': 4597, 'half': 2072, 'fascin': 1699, 'let': 2636, 'supposedli': 4363, 'messag': 2857, 'indic': 2321, 'backward': 408, 'e': 1447, 'nobodi': 3075, 'anyway': 285, 'opinion': 3161, 'updat': 4714, 'read': 3603, 'surpass': 4369, 'titan': 4527, 'rent': 3681, 'crash': 1097, 'cheer': 827, 'beyond': 506, 'belief': 481, 'tie': 4512, 'drive': 1413, 'blow': 555, 'chines': 845, 'blond': 551, 'shirt': 4001, '4': 79, 'clash': 887, 'ensembl': 1550, 'worn': 4948, 'worri': 4949, 'surpris': 4370, '5': 83, 'necessari': 3026, 'howl': 2227, '6': 85, 'mental': 2848, 'convinc': 1051, 'poke': 3373, 'teacher': 4434, 'priest': 3455, 'bathroom': 450, 'boob': 578, 'heaven': 2128, 'pop': 3388, 'nois': 3078, 'fun': 1886, 'divers': 1360, 'height': 2133, 'plausibl': 3351, 'melodramat': 2841, 'intrigu': 2387, 'throw': 4503, 'materi': 2805, 'ignor': 2265, 'mostli': 2961, 'frequent': 1864, 'cruel': 1131, 'isabel': 2406, 'bone': 575, 'strip': 4291, 'blind': 547, 'ideal': 2258, 'scheme': 3879, 'whore': 4897, 'path': 3260, 'catherin': 769, 'dialog': 1294, 'trite': 4614, 'emot': 1517, 'emili': 1515, 'ralph': 3570, 'gothic': 1997, 'slightli': 4093, 'valid': 4738, 'mtv': 2976, 'goe': 1980, 'basic': 442, 'structur': 4299, 'beach': 456, 'favourit': 1712, 'mixtur': 2919, 'ingredi': 2338, 'horror': 2213, 'romant': 3785, 'outdat': 3184, 'minor': 2898, 'discov': 1333, 'relat': 3657, 'sometim': 4135, 'silli': 4037, 'balanc': 419, 'mood': 2948, 'check': 825, 'bernard': 496, 'rose': 3798, 'immort': 2284, 'belov': 486, 'glenn': 1966, 'british': 638, 'accent': 116, '1st': 54, '2003': 60, 'brad': 605, 'mindless': 2891, 'flesh': 1785, 'eat': 1463, 'zombi': 4997, 'chronicl': 864, '3d': 77, 'wow': 4959, 'underli': 4665, 'thrown': 4504, 'lame': 2569, 'twilight': 4637, 'zone': 4998, 'understood': 4671, 'report': 3689, 'investig': 2394, 'ghost': 1946, 'town': 4565, 'feast': 1716, 'occasion': 3129, 'attract': 368, 'raw': 3596, 'forbidden': 1816, 'societi': 4120, 'up': 4713, 'morbid': 2953, 'financi': 1755, 'determin': 1286, 'invit': 2396, 'addit': 147, 'hungri': 2243, 'wretch': 4965, 'suffer': 4334, 'yearn': 4982, 'poetri': 3368, 'flavor': 1780, 'curiou': 1146, 'lock': 2684, 'tradit': 4572, 'forget': 1822, 'dream': 1404, 'passion': 3257, 'motion': 2963, 'andr': 254, 'inner': 2348, 'philosophi': 3315, 'simon': 4042, 'amount': 246, 'enthusiast': 1558, 'grudg': 2047, 'rant': 3584, 'uneven': 4675, 'difficulti': 1306, 'will': 4910, 'haunt': 2111, 'baddi': 411, 'token': 4534, 'mysteri': 2998, 'semi': 3934, 'alert': 200, 'hide': 2153, 'cover': 1088, 'creepi': 1113, 'secondli': 3912, 'supernatur': 4359, 'brief': 629, 'freddi': 1858, 'jason': 2434, 'em': 1510, 'convent': 1046, 'troubl': 4618, 'vacat': 4733, 'suggest': 4338, 'happi': 2091, 'month': 2945, 'disregard': 1349, 'entri': 1562, 'introduct': 2389, 'depict': 1259, 'citizen': 879, 'kane': 2499, 'reel': 3638, 'unfortun': 4682, 'buy': 691, 'behav': 475, 'ethnic': 1588, 'noir': 3077, '15': 11, 'establish': 1580, 'capabl': 727, 'demand': 1246, '13': 8, 'dana': 1173, 'stroke': 4293, 'meant': 2826, 'cute': 1156, 'creek': 1111, 'monster': 2942, 'rescu': 3697, 'creatur': 1108, 'sceneri': 3877, 'neat': 3024, 'violenc': 4787, 'mild': 2878, 'karen': 2502, 'sarah': 3856, 'michel': 2869, 'exchang': 1621, 'student': 4303, 'japan': 2430, 'social': 4119, 'elderli': 1491, 'emma': 1516, 'grace': 2002, 'previou': 3449, 'disappear': 1326, 'home': 2188, 'rabbit': 3557, 'hole': 2179, 'mayb': 2815, 'influenc': 2334, 'success': 4328, 'underst': 4669, 'trend': 4600, '2005': 62, 'remark': 3672, 'exampl': 1617, 'remak': 3671, 'began': 473, '2000': 57, 'particular': 3249, 'close': 913, 'aka': 188, 'realm': 3613, 'drama': 1399, 'date': 1188, 'fifth': 1742, 'stephen': 4248, 'linear': 2662, 'overli': 3198, 'concern': 994, 'logic': 2686, 'instead': 2363, 'present': 3436, 'sequenc': 3951, 'atmospher': 357, 'depend': 1258, 'admittedli': 152, 'gap': 1914, 'thread': 4494, 'abandon': 97, 'poetic': 3367, 'metaphor': 2861, 'mainstream': 2754, 'suspend': 4378, 'unusu': 4711, 'properti': 3499, 'design': 1272, 'cloth': 917, 'match': 2803, 'exterior': 1655, 'enhanc': 1544, 'eeri': 1479, 'event': 1598, 'entertain': 1555, 'premis': 3431, 'absorb': 110, 'interview': 2384, 'pay': 3273, 'attent': 365, 'aris': 310, 'intim': 2385, 'knowledg': 2546, 'cultur': 1142, 'ponder': 3384, 'scari': 3873, 'clich': 899, 'territori': 4466, 'flashback': 1777, 'finish': 1760, 'mini': 2893, 'ridicul': 3749, 'studio': 4305, 'appropri': 299, 'ident': 2259, 'substitut': 4321, 'non': 3082, 'indian': 2320, 'spanish': 4162, 'cost': 1072, 'domest': 1373, 'profit': 3483, 'pick': 3324, 'bondag': 574, 'flat': 1779, 'banal': 424, 'setup': 3963, 'host': 2216, 'aforement': 168, 'drivel': 1414, 'distract': 1355, 'tack': 4403, 'snake': 4110, 'shut': 4022, 'surfac': 4367, 'kubrick': 2551, 'artist': 326, 'warren': 4839, 'superb': 4353, 'instruct': 2366, 'vote': 4807, 'campaign': 711, 'advis': 162, 'win': 4914, 'elect': 1492, 'identifi': 2260, 'respect': 3708, 'thin': 4483, 'ice': 2254, 'india': 2319, 'chill': 843, 'spine': 4186, 'addict': 146, 'dian': 1297, 'keaton': 2509, 'blown': 556, 'cassavet': 760, 'bigger': 511, 'ground': 2042, 'undoubtedli': 4674, 'middl': 2872, 'gordon': 1992, 'fail': 1671, 'steer': 4245, 'breakdown': 617, 'culmin': 1140, 'argu': 306, 'quiet': 3550, 'opposit': 3165, 'climact': 904, 'estrang': 1583, 'enlighten': 1546, 'weak': 4854, 'weaker': 4855, 'walken': 4819, 'irish': 2401, 'desper': 1275, 'discoveri': 1334, 'giallo': 1947, 'red': 3631, 'winner': 4919, 'guilt': 2054, 'ridden': 3746, 'unexpectedli': 4677, 'italian': 2414, '70': 88, 'bridg': 627, 'convolut': 1053, 'held': 2135, 'compos': 982, 'memor': 2844, 'issu': 2412, 'respons': 3710, 'easi': 1457, 'spot': 4204, 'second': 3910, 'rush': 3823, 'confus': 1007, 'spell': 4175, 'loss': 2700, 'explain': 1640, 'senseless': 3940, 'monologu': 2940, 'unconvinc': 4659, 'realism': 3608, 'verbal': 4760, 'construct': 1026, 'intent': 2375, 'protagonist': 3505, 'unbeliev': 4656, 'consum': 1027, 'literatur': 2674, 'bibl': 508, 'encount': 1529, 'applaud': 295, 'chick': 836, 'threw': 4498, 'onto': 3157, 'street': 4283, 'whine': 4890, 'self': 3930, 'piti': 3339, 'banter': 428, 'pretenti': 3445, 'ancient': 251, 'greek': 2025, 'revel': 3727, 'doom': 1381, 'form': 1828, 'bar': 429, 'code': 929, 'hand': 2083, 'spooki': 4202, 'biblic': 509, 'cleverli': 898, 'expos': 1647, 'empti': 1525, 'space': 4157, 'melodrama': 2840, 'tediou': 4444, 'avail': 383, 'content': 1033, 'mouth': 2969, 'comparison': 970, 'warrant': 4838, 'peter': 3305, 'absurd': 111, 'situat': 4065, 'poorli': 3387, 'drew': 1408, 'heartwarm': 2126, 'alik': 208, '60': 86, 'walk': 4818, 'window': 4917, 'hum': 2235, 'anim': 262, 'bare': 431, 'crappi': 1096, 'dull': 1433, 'fell': 1724, 'asleep': 335, 'sleep': 4086, 'grade': 2003, 'holiday': 2181, 'rip': 3754, '4th': 82, 'ok': 3145, 'room': 3792, '3rd': 78, 'plain': 3344, 'succeed': 4327, 'goal': 1976, 'pan': 3229, 'track': 4569, 'smooth': 4109, 'relax': 3659, 'attend': 364, 'detail': 1284, 'describ': 1268, 'soundtrack': 4150, 'musician': 2991, 'band': 425, 'contribut': 1041, 'sunni': 4350, 'hear': 2121, 'rock': 3775, 'melodi': 2839, 'strength': 4285, 'lift': 2650, 'flow': 1796, 'hair': 2070, 'afternoon': 172, 'pass': 3253, 'crowd': 1127, 'door': 1382, 'met': 2859, 'week': 4867, 'kelli': 2513, 'anchor': 250, 'sinatra': 4050, 'kathryn': 2506, 'grayson': 2018, 'loui': 2705, 'b': 399, 'inspir': 2358, 'choreograph': 852, 'becam': 466, 'joe': 2462, 'fred': 1857, 'astair': 350, 'danc': 1174, 'rival': 3761, 'jerri': 2447, 'mous': 2968, 'walt': 4824, 'disney': 1345, 'mickey': 2870, 'lend': 2624, 'roger': 3779, 'mgm': 2866, 'tom': 4538, 'dancer': 1175, 'strive': 4292, 'dozen': 1392, 'prais': 3414, 'creativ': 1106, 'burt': 680, 'etern': 1586, 'contract': 1037, 'insist': 2356, 'jule': 2485, 'sammi': 3848, 'fall': 1680, 'accompani': 122, 'piano': 3323, 'bowl': 598, 'van': 4743, 'lyric': 2735, 'lifetim': 2649, 'prove': 3509, 'sudden': 4331, 'basi': 441, 'circumst': 877, 'orphan': 3175, 'nephew': 3042, 'dean': 1204, 'fix': 1772, 'audit': 372, 'accomplish': 123, 'pamela': 3228, 'waitress': 4816, 'brooklyn': 648, 'review': 3730, 'meg': 2836, 'broadway': 642, 'brought': 651, 'suspicion': 4381, 'cut': 1155, 'market': 2785, 'retir': 3721, 'countri': 1080, 'debt': 1208, 'extraordinari': 1657, 'straightforward': 4276, 'vs': 4809, 'apart': 287, 'movement': 2971, 'flee': 1783, 'techniqu': 4441, 'fire': 1761, 'clearli': 895, 'devot': 1293, 'distress': 1356, 'variou': 4751, 'pure': 3532, 'regard': 3644, 'moron': 2958, 'fantasi': 1690, 'ador': 155, 'bakshi': 418, 'babe': 400, 'yeah': 4980, 'greatest': 2021, 'anyon': 283, 'robot': 3773, 'vh': 4767, 'capit': 729, 'tremend': 4599, 'charm': 819, 'parker': 3242, 'posey': 3399, 'vehicl': 4755, 'ms': 2974, 'daisi': 1165, 'von': 4806, 'trip': 4611, 'lower': 2712, 'manhattan': 2765, 'dedic': 1220, 'club': 920, 'constantli': 1024, 'naiv': 3004, 'area': 305, 'meat': 2829, 'pretens': 3444, 'earth': 1455, 'rest': 3711, 'suck': 4329, 'resort': 3706, 'reli': 3663, 'smart': 4103, 'con': 989, 'occur': 3132, 'enter': 1553, 'conveni': 1045, 'assembl': 341, 'slap': 4078, 'rain': 3567, 'insult': 2368, 'hatr': 2110, 'defi': 1231, 'creat': 1104, 'improv': 2296, 'reminisc': 3675, 'pleasantli': 3357, 'profession': 3480, 'impress': 2294, 'prison': 3466, 'camp': 710, 'mother': 2962, 'grim': 2034, 'delet': 1237, 'harsh': 2104, 'hint': 2164, 'outright': 3191, 'shown': 4020, 'extent': 1654, 'sadli': 3835, 'gain': 1906, 'huge': 2231, 'fair': 1674, 'slip': 4095, 'crack': 1092, 'reluct': 3668, 'smaller': 4102, 'core': 1062, 'fool': 1811, 'hero': 2146, 'food': 1810, 'deadli': 1199, 'photographi': 3320, 'digit': 1308, 'puppet': 3529, 'stick': 4253, 'pose': 3398, 'heavi': 2129, 'companion': 968, 'analyz': 249, 'philosoph': 3314, 'angl': 259, 'continu': 1036, 'stream': 4281, 'custom': 1154, 'harder': 2096, 'needless': 3031, 'multipl': 2980, 'insid': 2353, 'introduc': 2388, 'unfold': 4680, 'crude': 1130, 'rang': 3581, 'sublim': 4316, 'cake': 700, 'cow': 1089, 'wear': 4860, 'chain': 794, 'gang': 1912, 'bull': 670, 'regular': 3649, 'besid': 497, 'wacki': 4813, 'exagger': 1615, 'contradict': 1038, 'tone': 4543, 'burst': 679, 'lush': 2731, 'bewar': 505, 'extend': 1652, 'subtitl': 4322, 'suffici': 4336, 'miss': 2910, 'halfway': 2073, 'steam': 4243, 'dutch': 1439, 'sub': 4314, 'contain': 1029, 'congratul': 1008, 'marvel': 2795, 'immens': 2281, 'translat': 4584, 'float': 1791, 'worthless': 4955, 'justic': 2494, 'specif': 4170, 'europ': 1590, 'western': 4878, 'dri': 1409, 'spirit': 4188, '0': 0, 'confess': 1001, 'r': 3556, 'christma': 862, 'equal': 1567, 'fault': 1708, 'hill': 2163, 'thoroughli': 4490, 'promis': 3491, 'build': 667, 'tension': 4459, 'occas': 3128, 'importantli': 2291, 'robin': 3771, 'obsess': 3123, 'potenti': 3406, 'explan': 1641, 'sassi': 3857, 'internet': 2381, 'parent': 3239, 'hire': 2167, 'kim': 2529, 'ha': 2064, 'background': 407, 'obstacl': 3124, 'martial': 2792, 'thug': 4507, 'sick': 4024, 'thank': 4473, 'chemistri': 830, 'energi': 1537, 'wise': 4924, 'likabl': 2653, 'climb': 907, 'ill': 2268, 'fate': 1706, 'romero': 3787, 'overr': 3201, 'shoe': 4004, 'biggest': 512, 'segment': 3927, 'kennedi': 2515, 'automat': 382, 'statu': 4239, 'hokey': 2177, 'belong': 485, 'revers': 3729, 'abort': 103, 'moder': 2927, 'stretch': 4287, 'pad': 3214, 'fourth': 1841, 'bunch': 675, 'loi': 2687, 'bond': 573, 'holli': 2182, 'difficult': 1305, 'sympath': 4396, 'road': 3764, 'attack': 361, 'presenc': 3435, 'none': 3083, 'sympathet': 4397, 'paul': 3268, 'dumb': 1434, 'oil': 3144, 'slick': 4089, 'homeless': 2189, 'ranger': 3582, 'lurk': 2730, 'lake': 2568, 'alter': 223, 'ego': 1484, 'pointless': 3371, 'punch': 3526, 'whatsoev': 4884, 'worthwhil': 4956, 'rental': 3682, 'aunt': 374, 'texa': 4471, 'copi': 1060, 'research': 3698, 'stanwyck': 4228, 'promot': 3492, 'recruit': 3629, 'australia': 378, 'unimagin': 4687, 'wet': 4879, 'bleak': 542, 'anywher': 286, 'welcom': 4871, 'gore': 1993, '2006': 63, 'feed': 1720, 'formula': 1831, 'eli': 1500, 'roth': 3802, 'earlier': 1452, 'central': 786, 'theatr': 4476, 'ryan': 3829, 'nicholson': 3061, 'previous': 3450, '45': 81, 'rape': 3586, 'reunion': 3724, 'hesit': 2149, 'resolut': 3703, 'clark': 886, 'leap': 2606, 'afraid': 169, 'destini': 1280, 'superman': 4358, 'green': 2026, 'arrow': 321, 'readi': 3605, 'save': 3864, 'thrill': 4499, 'loyalti': 2715, 'friendship': 1870, 'ensu': 1551, 'strictli': 4288, 'push': 3537, 'contrast': 1040, 'lex': 2640, 'nine': 3070, 'born': 586, 'season': 3908, 'reincarn': 3654, 'toward': 4563, 'ludicr': 2722, 'unrel': 4706, 'eight': 1485, 'exact': 1613, 'witti': 4930, 'alley': 213, 'wayn': 4852, 'arriv': 319, 'perri': 3296, 'process': 3474, 'bear': 458, 'gift': 1949, 'bottl': 591, 'debat': 1207, 'nobl': 3074, 'assassin': 339, 'exhibit': 1628, 'altogeth': 227, 'duke': 1432, 'await': 388, 'instinct': 2364, 'pack': 3212, 'franchis': 1847, 'romanc': 3784, 'sex': 3967, 'confront': 1006, 'mistak': 2913, 'everywher': 1606, '2001': 58, 'news': 3056, 'declar': 1217, 'drop': 1418, 'glamor': 1962, 'reliabl': 3664, 'sharon': 3983, 'stone': 4266, 'word': 4942, 'storytel': 4274, 'friendli': 1869, 'clean': 893, 'c': 694, 'mon': 2936, 'escap': 1576, 'seldom': 3928, 'academi': 115, 'loos': 2695, 'shall': 3976, 'lust': 2732, 'partner': 3252, 'suspect': 4377, 'dr': 1393, 'drawn': 1402, 'entranc': 1561, 'seduc': 3918, 'weav': 4863, 'danger': 1178, 'seduct': 3919, 'plate': 3350, 'erot': 1573, 'briefli': 630, 'notch': 3096, 'awesom': 395, 'chosen': 856, 'prize': 3468, 'folk': 1805, 'south': 4153, 'educ': 1477, 'relationship': 3658, 'practic': 3413, 'assum': 348, 'africa': 170, 'glad': 1961, 'bill': 517, 'ted': 4443, 'threat': 4495, 'futur': 1897, 'chuck': 865, 'send': 3936, 'pair': 3220, 'winter': 4920, 'reev': 3639, 'delici': 1240, 'bogu': 567, 'entir': 1559, 'justifi': 2495, 'stake': 4218, 'dimens': 1312, 'lovabl': 2708, 'creator': 1107, 'heavili': 2130, 'travel': 4592, 'object': 3117, 'evid': 1607, 'predecessor': 3424, 'steadi': 4241, '1987': 42, 'judg': 2482, 'ben': 489, 'crime': 1116, 'commit': 963, 'maria': 2780, 'govern': 2000, 'mass': 2798, 'pit': 3337, 'convict': 1050, 'colour': 946, 'oppon': 3162, 'electr': 1493, 'suit': 4340, 'chainsaw': 795, 'zero': 4995, 'gruesom': 2048, 'obligatori': 3119, 'join': 2468, 'group': 2043, 'freedom': 1860, 'fighter': 1745, 'author': 381, 'twenti': 4635, 'arnold': 315, 'univers': 4694, 'guarante': 2049, 'box': 599, 'sidekick': 4028, 'liner': 2663, 'minu': 2899, 'massiv': 2800, 'faith': 1677, 'blockbust': 550, 'decad': 1210, 'devoid': 1292, 'technic': 4439, 'merit': 2852, 'cult': 1141, 'shoddi': 4003, 'unintent': 4689, 'giggl': 1950, 'secret': 3913, 'tape': 4420, 'crap': 1095, 'futurist': 1898, 'advertis': 160, 'amus': 247, 'distinct': 1352, 'technolog': 4442, 'advanc': 157, 'utter': 4729, 'rubbish': 3813, 'uncl': 4657, 'darn': 1185, 'proud': 3508, 'commentari': 961, 'languag': 2576, 'cent': 783, 'sorrow': 4146, 'york': 4988, 'independ': 2317, 'demon': 1249, 'eric': 1572, 'amazingli': 234, 'okay': 3146, 'hundr': 2241, 'thousand': 4493, 'breathtak': 621, 'took': 4547, 'stuck': 4302, 'fleet': 1784, 'tune': 4626, 'virtual': 4792, 'forgett': 1823, 'ginger': 1956, 'sheer': 3988, 'convey': 1049, 'magic': 2747, 'target': 4423, '50': 84, 'stumbl': 4307, 'clerk': 896, 'notic': 3099, 'brilliantli': 634, 'paper': 3232, 'agent': 177, 'wherea': 4887, 'seemingli': 3925, 'poignant': 3369, 'craft': 1093, 'honest': 2193, 'indi': 2318, 'inevit': 2328, 'task': 4425, 'explicit': 1642, 'load': 2680, 'fat': 1704, 'admir': 150, 'tear': 4436, 'desir': 1273, 'iii': 2267, 'vision': 4795, 'legend': 2618, 'principl': 3463, 'redempt': 3633, 'sweat': 4386, 'jar': 2432, 'ii': 2266, 'wander': 4826, 'initi': 2343, 'gorgeou': 1994, 'choos': 849, 'suddenli': 4332, 'stay': 4240, 'quietli': 3551, 'fluid': 1799, 'creep': 1112, 'costum': 1073, 'wig': 4906, 'makeup': 2759, 'timeless': 4520, 'function': 1887, 'anybodi': 281, 'rear': 3614, 'rehears': 3651, 'snap': 4111, 'requir': 3696, 'narrat': 3009, 'emerg': 1514, 'weari': 4861, 'split': 4194, 'digniti': 1309, 'lip': 2667, 'growth': 2046, 'carlo': 746, 'choru': 854, 'whip': 4891, 'led': 2612, 'arrest': 318, 'enorm': 1548, 'bleed': 543, 'curs': 1149, 'system': 4400, 'fanci': 1689, 'satisfi': 3861, 'leagu': 2604, 'devil': 1291, 'tackl': 4405, 'gritti': 2038, 'civil': 880, 'spawn': 4166, 'outlaw': 3188, 'maintain': 2755, 'tendenc': 4456, 'manipul': 2768, 'greatli': 2022, 'accuraci': 127, 'cri': 1115, 'trail': 4576, 'jake': 2424, 'lee': 2613, 'lawrenc': 2596, 'massacr': 2799, 'armi': 313, 'switch': 4393, 'glare': 1964, 'glori': 1970, 'fiction': 1738, 'context': 1035, 'repres': 3690, 'larger': 2578, 'curios': 1145, 'slave': 4083, 'rebel': 3616, 'singl': 4055, 'union': 4691, 'rais': 3568, 'kansa': 2500, 'senat': 3935, 'jim': 2456, 'lane': 2574, 'fame': 1683, 'organ': 3171, 'troop': 4617, 'spring': 4208, 'utterli': 4730, 'downhil': 1390, 'jack': 2418, 'sink': 4057, 'appal': 290, 'yard': 4977, 'locat': 2683, 'privat': 3467, 'hawk': 2112, 'unnecessari': 4699, 'casual': 764, 'compet': 974, 'ram': 3571, 'portion': 3395, 'watchabl': 4845, '1980': 36, 'class': 888, 'document': 1367, 'celebr': 778, 'babi': 401, 'boom': 580, 'guilti': 2055, 'pleasur': 3358, 'sophist': 4142, 'cari': 741, 'gotta': 1998, 'blast': 539, 'rex': 3737, 'dinosaur': 1316, 'rough': 3804, 'factor': 1668, 'magnific': 2749, 'hors': 2214, 'parodi': 3243, 'evok': 1609, 'tribe': 4604, 'paradis': 3235, 'miseri': 2906, 'poverti': 3410, 'broken': 644, 'lay': 2598, 'ya': 4976, 'scratch': 3894, 'funniest': 1893, 'trial': 4602, 'mormon': 2956, 'church': 867, 'inaccuraci': 2300, 'joseph': 2475, 'prophet': 3501, 'firmli': 1763, 'saint': 3841, 'confid': 1002, 'smith': 4107, 'whether': 4888, 'awkward': 397, 'embarrass': 1512, 'warmth': 4835, 'lampoon': 2570, 'inclus': 2306, 'hugh': 2232, 'mess': 2856, 'root': 3795, 'twice': 4636, 'vampir': 4742, 'slasher': 4081, 'nonetheless': 3084, 'nurs': 3114, 'charli': 816, 'obscur': 3121, 'neck': 3028, 'intend': 2373, 'cycl': 1158, 'tongu': 4544, 'cheek': 826, 'popul': 3390, 'grew': 2030, 'brazil': 614, 'visit': 4796, 'coast': 926, 'mile': 2881, 'explor': 1645, 'nativ': 3016, 'upper': 4717, 'trade': 4570, 'nake': 3005, 'eaten': 1464, 'ritual': 3760, 'recreat': 3628, 'villag': 4784, 'cannib': 721, 'recogn': 3621, 'garden': 1917, 'messi': 2858, 'violent': 4788, 'pathet': 3261, 'weapon': 4859, 'greed': 2023, 'savag': 3863, 'neither': 3038, 'dismiss': 1344, 'air': 185, 'affair': 164, 'achiev': 130, 'hook': 2199, 'jeffrey': 2442, 'alexandr': 203, 'paranoia': 3238, 'soviet': 4155, 'appar': 291, 'behaviour': 477, 'communist': 966, 'sutherland': 4383, 'fbi': 1714, 'silenc': 4035, 'shade': 3971, 'landscap': 2573, 'ventur': 4759, 'inspector': 2357, 'underworld': 4673, 'cameo': 707, 'domin': 1374, 'partial': 3247, 'cube': 1138, 'be': 455, 'bank': 427, 'jennif': 2444, 'neo': 3041, 'leader': 2603, 'cole': 935, 'laurenc': 2593, 'fishburn': 1767, 'scienc': 3883, 'professor': 3481, 'et': 1584, 'directli': 1319, 'search': 3907, 'gilbert': 1951, 'twist': 4639, 'doubl': 1385, 'higher': 2156, 'illus': 2271, 'passag': 3255, 'alexand': 202, 'reject': 3655, 'iron': 2402, 'artifici': 325, 'longer': 2693, 'smash': 4104, 'tini': 4523, 'reader': 3604, 'jean': 2439, 'unabl': 4652, 'creation': 1105, 'awar': 391, 'parallel': 3236, 'suicid': 4339, 'nevertheless': 3050, 'crystal': 1135, 'condemn': 998, 'l': 2558, 'liber': 2642, 'le': 2601, 'florida': 1795, 'recal': 3617, 'filmmak': 1751, 'offici': 3141, 'ninja': 3072, 'epitom': 1566, 'wick': 4899, 'dane': 1177, 'deniro': 1252, 'fabul': 1663, 'younger': 4990, 'older': 3149, 'subtleti': 4324, 'preview': 3448, 'fianc': 1737, 'skeptic': 4069, 'assur': 349, 'fenc': 1731, 'destroy': 1281, 'templ': 4451, 'helpless': 2142, 'bela': 480, 'lugosi': 2723, 'mislead': 2909, 'someday': 4131, 'heck': 2131, 'fantast': 1691, 'transplant': 4585, 'marriag': 2788, 'surgeri': 4368, 'medic': 2832, 'phenomenon': 3310, 'simplist': 4046, 'coincid': 933, 'harold': 2101, 'jessica': 2449, 'super': 4352, 'lena': 2623, 'lanc': 2571, 'stronger': 4295, 'quot': 3555, 'quinn': 3552, 'quick': 3548, 'richardson': 3743, 'raymond': 3598, 'scott': 3892, 'ray': 3597, '1936': 19, 'storylin': 4273, 'canyon': 725, 'kevin': 2519, 'kline': 2538, 'acclaim': 121, 'depress': 1260, 'sketch': 4070, 'gari': 1918, 'underr': 4668, 'gold': 1982, 'shelf': 3990, 'nick': 3062, 'honesti': 2194, 'eddi': 1470, 'kay': 2507, 'thoma': 4488, 'pie': 3327, 'jone': 2473, 'matter': 2809, 'phillip': 3313, 'everybodi': 1602, 'affect': 165, '1997': 51, '1970': 27, '1960': 24, 'departur': 1257, 'bikini': 515, 'pirat': 3336, 'aim': 184, 'squar': 4211, 'kiddi': 2524, 'invis': 2395, 'dad': 1162, 'dee': 1221, 'wallac': 4822, 'prepar': 3432, 'josh': 2476, 'experienc': 1637, 'co': 924, 'ten': 4453, 'blame': 536, 'corner': 1065, 'tiresom': 4526, 'lacklust': 2564, 'homosexu': 2192, 'dash': 1187, 'page': 3215, 'echo': 1467, 'fade': 1670, 'cinematograph': 873, 'tire': 4525, 'pray': 3416, 'fit': 1770, 'connect': 1009, 'via': 4768, 'reward': 3736, 'scope': 3888, 'immers': 2282, 'pool': 3385, 'wrench': 4962, 'laughter': 2588, 'ass': 338, 'sorri': 4145, 'blunt': 558, 'toler': 4537, 'nowher': 3105, 'consequ': 1017, 'ugli': 4645, 'uninspir': 4688, 'bland': 537, 'wash': 4841, 'trash': 4588, 'stink': 4259, 'field': 1740, 'northern': 3091, 'alongsid': 219, 'ordinari': 3170, 'circl': 875, 'abund': 112, 'w': 4812, 'forev': 1821, 'threaten': 4496, 'bomb': 572, 'jail': 2423, 'tabl': 4401, 'approv': 300, 'charismat': 814, 'sell': 3932, 'brendan': 624, 'antic': 275, 'section': 3916, 'paint': 3218, 'dealer': 1202, 'robberi': 3768, 'protest': 3507, 'pressur': 3440, 'mount': 2966, 'jon': 2471, 'voight': 4803, 'hammi': 2081, 'sale': 3843, 'tarzan': 4424, 'ape': 288, 'sensat': 3939, 'matrix': 2807, 'lord': 2696, 'radio': 3565, 'instant': 2361, 'icon': 2255, 'unhappi': 4684, 'edgar': 1472, 'liberti': 2643, 'compani': 967, 'spectacular': 4172, 'mate': 2804, 'anticip': 276, 'limit': 2657, 'jane': 2429, 'swim': 4391, 'topless': 4552, 'sullivan': 4342, 'shortli': 4011, 'san': 3850, 'headach': 2116, 'plant': 3348, 'fruit': 1877, 'block': 549, 'breast': 619, 'conclus': 997, 'jungl': 2491, 'hay': 2113, 'veteran': 4766, 'incorpor': 2311, 'beast': 460, 'neil': 3036, 'hamilton': 2078, 'eleph': 1497, 'england': 1541, 'pursuit': 3536, 'stalk': 4220, 'refus': 3643, 'hunter': 2245, 'demis': 1248, 'voyag': 4808, 'hideou': 2154, 'health': 2118, 'recov': 3627, 'stock': 4262, 'extens': 1653, 'racial': 3560, 'stereotyp': 4249, 'peak': 3276, 'condit': 999, 'physic': 3322, 'we': 4853, 'craven': 1098, 'expens': 1635, 'preposter': 3433, 'airport': 187, 'flirt': 1790, 'trap': 4587, 'row': 3808, 'contact': 1028, 'confin': 1003, 'stranger': 4280, 'immedi': 2280, 'effici': 1481, 'rachel': 3559, 'daddi': 1163, 'forgiv': 1824, 'slaughter': 4082, 'gal': 1907, 'unreal': 4704, 'hold': 2178, 'harm': 2099, 'conclud': 996, 'altern': 224, 'terrorist': 4468, 'missil': 2911, 'employ': 1523, 'highway': 2160, 'politician': 3383, 'miami': 2867, 'hotel': 2220, 'secur': 3917, 'steal': 4242, 'transport': 4586, 'instantli': 2362, 'arrang': 317, 'sensibl': 3941, 'coffe': 930, 'elsewher': 1507, 'magazin': 2745, 'termin': 4461, 'murphi': 2986, 'alli': 214, 'warn': 4836, 'damn': 1170, 'wake': 4817, 'regist': 3647, 'mildli': 2879, 'ensur': 1552, 'duo': 1436, 'vast': 4752, 'ruthless': 3828, 'cook': 1054, 'dear': 1205, 'wendigo': 4874, 'strand': 4278, 'deer': 1227, 'angri': 260, 'outrag': 3190, 'kudo': 2552, 'thumb': 4508, 'dimension': 1313, 'cardboard': 736, 'empathi': 1518, 'par': 3233, 'bean': 457, 'tight': 4515, 'shock': 4002, 'deliver': 1243, 'precis': 3422, 'reynold': 3738, 'merci': 2850, 'river': 3762, 'illustr': 2272, 'duel': 1431, 'truck': 4619, 'guitar': 2057, 'bobbi': 565, 'genet': 1931, 'shake': 3973, 'jam': 2425, 'session': 3960, 'buck': 660, 'redneck': 3634, 'appl': 294, 'orang': 3168, 'ed': 1469, 'law': 2595, 'tragic': 4575, 'gratuit': 2015, 'numb': 3110, 'cliff': 902, 'bottom': 592, 'testament': 4470, 'childish': 841, 'bait': 415, 'weekend': 4868, 'hardi': 2097, 'lone': 2690, 'usa': 4722, 'clint': 909, 'eastwood': 1462, 'drown': 1420, 'cowboy': 1090, 'solid': 4126, 'heat': 2127, 'memori': 2845, 'boast': 562, 'polish': 3381, 'desert': 1270, 'mutant': 2994, 'soldier': 4124, 'hardcor': 2095, 'preciou': 3421, 'resembl': 3699, 'brian': 625, 'thompson': 4489, 'stan': 4223, 'cave': 774, 'ala': 192, 'descent': 1267, 'sam': 3847, 'laughabl': 2587, 'contriv': 1042, 'yesterday': 4985, 'adam': 143, 'pat': 3259, 'mike': 2877, 'bachelor': 404, 'nut': 3115, 'brenda': 623, 'defeat': 1228, 'offens': 3138, 'test': 4469, 'gay': 1924, 'othello': 3178, 'jealou': 2438, 'suspici': 4380, 'enthusiasm': 1557, 'competit': 975, 'gregori': 2029, 'peck': 3278, 'gentleman': 1936, 'shakespear': 3974, 'terrif': 4464, 'worthi': 4954, 'maker': 2758, '1950': 23, 'qualifi': 3542, 'g': 1900, 'skin': 4072, 'commerci': 962, 'gather': 1922, '11': 6, 'promin': 3490, 'global': 1968, 'ken': 2514, 'jewel': 2453, 'medium': 2834, 'profound': 3484, 'arab': 302, 'inflict': 2333, 'amongst': 244, 'chapter': 807, 'v': 4732, 'websit': 4865, 'holm': 2185, 'ladi': 2566, 'stiff': 4254, 'tiger': 4514, 'hidden': 2152, 'intellig': 2372, 'moreov': 2954, 'sacrif': 3831, 'duck': 1426, 'bulli': 672, 'thick': 4481, 'golden': 1985, 'com': 948, 'user': 4725, 'nyc': 3116, 'screenwrit': 3898, 'gandhi': 1911, 'riot': 3753, 'count': 1076, 'furi': 1894, 'bang': 426, 'random': 3579, 'exercis': 1626, 'meaningless': 2825, 'artsi': 327, 'indulg': 2325, 'brand': 609, '13th': 9, 'rise': 3755, 'comed': 953, 'confirm': 1004, 'profil': 3482, 'upon': 4716, 'superfici': 4355, 'denni': 1253, 'hopper': 2206, 'stomach': 4265, 'smile': 4106, 'spiritu': 4189, 'junk': 2493, 'moon': 2950, 'irrit': 2405, 'chri': 857, 'penn': 3281, 'dirti': 1323, 'cancer': 717, 'unexpect': 4676, 'jump': 2489, 'clumsi': 923, 'till': 4516, 'spoil': 4196, 'tast': 4426, 'devic': 1290, 'rivet': 3763, 'excus': 1624, 'hey': 2151, 'incoher': 2307, 'inconsist': 2310, 'character': 809, 'narr': 3008, 'adolesc': 153, 'butler': 688, 'grown': 2045, 'attitud': 366, 'consist': 1021, 'religion': 3667, 'charisma': 813, 'sin': 4049, 'colleg': 942, 'topic': 4551, 'nuditi': 3109, 'cerebr': 788, 'bush': 682, 'hypnot': 2251, 'easier': 1458, 'decor': 1219, 'aesthet': 163, 'summer': 4346, 'defin': 1232, 'sappi': 3855, 'sentiment': 3946, 'solut': 4128, 'credibl': 1109, 'giant': 1948, 'anna': 264, 'simpson': 4047, 'indiffer': 2322, 'likewis': 2655, 'compliment': 981, 'amanda': 230, 'jenni': 2443, 'maid': 2750, 'wannab': 4829, 'homer': 2190, 'whenev': 4886, 'shallow': 3977, 'abysm': 114, 'primarili': 3457, 'swear': 4385, 'cue': 1139, 'card': 735, 'mst3k': 2975, 'toni': 4545, 'carradin': 750, 'seventi': 3965, 'vanish': 4746, 'columbo': 947, 'whoever': 4893, 'per': 3285, 'pilot': 3332, 'alleg': 211, 'aggress': 178, 'weakest': 4856, 'soft': 4122, 'somebodi': 4130, 'shower': 4019, 'bride': 626, 'jan': 2428, 'sight': 4031, 'shed': 3987, 'bloodi': 553, 'tail': 4409, 'fake': 1678, 'spin': 4184, 'chair': 796, 'gonna': 1988, 'f': 1661, 'pig': 3330, 'latter': 2585, 'former': 1830, 'increas': 2313, 'trace': 4567, 'comprehend': 984, 'morgan': 2955, 'freeman': 1861, 'vega': 4754, 'whilst': 4889, 'petti': 3306, 'woodi': 4941, 'allen': 212, 'anni': 265, 'hall': 2074, 'dinner': 1315, 'ex': 1612, '28': 71, 'wind': 4916, 'mitchel': 2917, 'knightley': 2543, 'paltrow': 3227, 'austen': 376, 'incorrect': 2312, 'flashi': 1778, 'inaccur': 2299, 'exclus': 1623, 'fals': 1682, 'programm': 3486, '40': 80, 'wwii': 4973, 'undertak': 4672, 'muddl': 2978, 'composit': 983, 'wildli': 4909, 'overwhelm': 3202, 'broadcast': 641, 'announc': 266, 'peac': 3275, 'spare': 4163, 'audrey': 373, 'hepburn': 2145, 'ballet': 422, 'revolutionari': 3734, 'swept': 4390, 'russian': 3826, 'clueless': 922, 'branagh': 608, 'commend': 959, 'represent': 3691, 'captiv': 732, 'vocal': 4801, 'island': 2408, 'matthew': 2811, 'fox': 1842, 'j': 2417, 'pun': 3525, 'elvira': 1509, 'jodi': 2461, 'fanat': 1688, 'tender': 4457, 'mail': 2751, 'p': 3208, 'edi': 1474, 'alec': 199, 'guin': 2056, 'invest': 2393, 'sir': 4058, 'brood': 646, 'aspir': 337, 'vain': 4736, 'jerk': 2446, 'turkey': 4629, 'estat': 1581, 'obnoxi': 3120, 'pari': 3240, 'runner': 3821, 'concentr': 992, 'handsom': 2086, 'tick': 4510, 'sissi': 4060, 'onlin': 3156, '1994': 48, 'exquisit': 1651, 'kinda': 2531, 'stilt': 4257, 'censor': 782, 'wilson': 4913, 'polici': 3380, 'corpor': 1067, 'presid': 3438, 'dan': 1172, 'dick': 1300, 'lol': 2688, 'cusack': 1152, 'daili': 1164, 'vengeanc': 4757, 'resolv': 3704, 'priceless': 3453, 'gross': 2040, 'matur': 2812, 'butt': 689, 'media': 2831, 'north': 3090, 'combat': 950, 'invad': 2390, 'journalist': 2477, 'frustrat': 1878, 'conserv': 1018, 'patriot': 3266, 'ideolog': 2261, 'mediocr': 2833, 'mill': 2884, 'dude': 1428, 'minimum': 2895, 'energet': 1536, 'wire': 4922, 'footbal': 1815, 'pretend': 3443, 'theatric': 4477, 'fist': 1769, 'menac': 2847, 'ear': 1449, 'humbl': 2237, 'ought': 3181, 'wheel': 4885, 'grave': 2016, 'parson': 3244, 'sum': 4343, 'slice': 4088, 'hippi': 2166, 'consider': 1020, 'sunday': 4348, 'luck': 2719, 'solo': 4127, 'mytholog': 3001, 'jaw': 2435, 'der': 1262, 'remot': 3676, 'ban': 423, 'germani': 1942, 'closest': 915, 'descript': 1269, 'method': 2862, 'degre': 1235, 'collaps': 938, 'occup': 3130, 'variat': 4749, 'filler': 1749, 'partli': 3251, 'drain': 1397, 'baffl': 413, 'awe': 394, 'disgust': 1339, 'faint': 1673, 'cd': 776, 'lo': 2679, 'essenti': 1579, 'cloud': 918, 'border': 582, 'spoken': 4199, 'unravel': 4703, 'challeng': 797, 'volum': 4804, 'degrad': 1234, 'particip': 3248, 'explos': 1646, 'finger': 1759, 'button': 690, '1974': 31, 'gem': 1927, 'buddi': 662, 'exit': 1630, 'elev': 1498, 'claud': 891, 'patrick': 3265, 'harvey': 2107, 'spacey': 4158, 'lectur': 2611, 'marshal': 2789, 'shape': 3980, 'propos': 3503, 'inexplic': 2329, 'miracul': 2902, 'phone': 3316, 'driver': 1416, 'deni': 1251, 'steve': 4250, 'leg': 2615, 'ward': 4832, 'clair': 883, 'morn': 2957, 'fetch': 1734, 'mario': 2782, 'highest': 2157, 'roll': 3781, 'knee': 2539, 'rap': 3585, 'rope': 3796, 'hood': 2198, 'funnier': 1892, '1981': 37, 'youth': 4992, 'beard': 459, 'asian': 332, 'elvi': 1508, 'seller': 3933, 'sat': 3858, 'pink': 3334, 'muppet': 2984, 'conceiv': 991, 'flop': 1794, 'blew': 546, '1983': 38, 'ahead': 182, 'rick': 3744, 'warrior': 4840, 'witch': 4927, 'obtain': 3125, 'possess': 3401, 'luckili': 2721, 'chest': 833, 'candi': 718, 'batman': 451, 'knock': 2544, '35': 76, 'joker': 2470, 'freez': 1862, 'alfr': 204, 'corni': 1066, 'miik': 2876, 'divorc': 1363, 'rider': 3748, 'meanwhil': 2827, 'boot': 581, 'item': 2415, 'tokyo': 4535, 'isol': 2409, 'christoph': 863, 'leo': 2627, 'jeremi': 2445, 'devast': 1288, 'youngest': 4991, '12': 7, 'convers': 1047, 'boil': 568, 'sincer': 4052, 'tip': 4524, 'hal': 2071, 'hartley': 2106, 'styliz': 4313, 'ironi': 2403, 'bitter': 528, 'luci': 2717, 'traumat': 4591, 'detract': 1287, 'pseudo': 3513, 'attach': 360, 'psycho': 3517, 'proce': 3472, 'angst': 261, 'lucki': 2720, 'uk': 4647, 'mad': 2741, 'sheriff': 3994, 'presum': 3442, 'traci': 4568, 'pacino': 3211, 'discuss': 1335, 'beatti': 464, 'hoffman': 2176, 'eccentr': 1466, 'dicken': 1301, '1984': 39, 'halloween': 2075, 'scroog': 3902, 'bob': 564, 'closer': 914, 'godzilla': 1979, 'turtl': 4632, 'shadow': 3972, 'samurai': 3849, 'saga': 3838, 'flame': 1775, 'teeth': 4447, 'shell': 3991, 'feet': 1722, 'nuclear': 3107, 'awaken': 390, 'rampag': 3575, 'psychic': 3516, 'jewish': 2454, 'z': 4993, 'pole': 3377, 'fest': 1732, 'lewi': 2639, 'swallow': 4384, 'wolf': 4933, 'grey': 2031, 'spread': 4206, 'claustrophob': 892, 'afford': 167, '100': 5, 'rot': 3801, 'countrysid': 1081, 'lion': 2666, 'preserv': 3437, 'simultan': 4048, 'relief': 3665, 'oppos': 3164, 'divin': 1362, 'inferior': 2332, 'unless': 4697, 'campi': 713, 'hopelessli': 2204, 'mar': 2774, 'heroin': 2148, 'cure': 1144, 'instrument': 2367, 'contemporari': 1031, 'jazz': 2437, 'sole': 4125, 'complaint': 977, 'carmen': 747, 'scandal': 3868, 'bird': 521, 'hammer': 2080, 'shi': 3995, 'nostalg': 3093, 'oliv': 3151, 'blue': 557, 'shirley': 4000, 'concert': 995, '1972': 29, 'illeg': 2269, 'motorcycl': 2965, 'crawl': 1100, 'reput': 3695, '18': 14, 'june': 2490, 'princess': 3461, 'pg': 3307, 'cabin': 695, 'mountain': 2967, 'juli': 2486, 'greg': 2028, 'nearbi': 3022, 'startl': 4234, 'cell': 779, 'distant': 1351, 'neighbor': 3034, 'alcohol': 198, 'conduct': 1000, 'plight': 3360, 'properli': 3498, 'embrac': 1513, 'constant': 1023, 'detach': 1283, 'grab': 2001, 'string': 4290, 'uncov': 4660, 'defend': 1229, 'plagu': 3343, 'mission': 2912, 'celluloid': 780, 'astonish': 351, 'fatal': 1705, 'khan': 2521, 'proper': 3497, 'unrealist': 4705, 'kapoor': 2501, 'heel': 2132, 'spiral': 4187, 'exposit': 1648, 'unbear': 4655, 'web': 4864, 'charg': 812, 'upset': 4718, 'franki': 1853, 'satan': 3859, 'jesu': 2450, 'asham': 330, 'disagre': 1325, 'carel': 739, 'burn': 678, 'newspap': 3057, 'restrain': 3714, 'broad': 640, 'incident': 2304, 'ish': 2407, 'molli': 2933, 'aussi': 375, 'exposur': 1649, 'owner': 3206, 'dump': 1435, 'regret': 3648, 'muslim': 2992, 'honestli': 2195, 'equip': 1568, 'underground': 4664, 'experiment': 1638, 'crook': 1124, 'polanski': 3376, 'tenant': 4454, 'drove': 1419, 'frighten': 1872, 'terror': 4467, 'terri': 4462, 'gilliam': 1952, 'bruce': 653, 'willi': 4911, 'pitt': 3340, 'twelv': 4634, 'convincingli': 1052, 'trilog': 4609, 'mel': 2837, 'brook': 647, 'wing': 4918, 'stare': 4230, 'stoog': 4268, 'mexican': 2863, 'rita': 3757, 'bell': 483, 'moe': 2931, 'howard': 2225, 'curli': 1147, 'counterpart': 1078, 'gag': 1905, 'endear': 1532, 'settl': 3962, '25': 70, 'rob': 3766, 'al': 191, 'larri': 2579, '2nd': 72, 'editor': 1476, 'choke': 848, 'randomli': 3580, 'horrid': 2210, 'inan': 2301, 'watcher': 4846, 'unwatch': 4712, 'spite': 4191, 'tacki': 4404, 'drunk': 1423, 'silent': 4036, 'buster': 686, 'st': 4212, '1995': 49, 'paid': 3216, 'afterward': 173, 'outcom': 3183, 'observ': 3122, 'fed': 1719, 'spoke': 4198, 'ethan': 1587, 'improvis': 2297, 'bravo': 613, 'accus': 128, 'spi': 4178, 'bedroom': 469, 'teas': 4437, 'driven': 1415, 'network': 3047, 'cancel': 716, 'midnight': 2873, 'showcas': 4017, 'billi': 518, 'zane': 4994, 'sean': 3906, 'jare': 2433, 'hunt': 2244, 'gate': 1921, 'cher': 831, 'nichola': 3060, 'cage': 697, 'firstli': 1765, 'cring': 1118, 'acquaint': 133, 'frankli': 1854, 'prime': 3458, 'exot': 1631, 'phoni': 3317, 'borrow': 587, 'cb': 775, 'pioneer': 3335, 'spice': 4179, 'format': 1829, 'versu': 4764, 'program': 3485, 'cup': 1143, 'tea': 4432, 'drip': 1412, 'label': 2561, 'beverli': 504, 'bradi': 606, 'buzz': 692, 'stood': 4267, 'ticket': 4511, 'playboy': 3353, 'incompet': 2308, 'quarter': 3544, 'stinker': 4260, '1977': 33, 'virginia': 4790, 'tech': 4438, 'enthral': 1556, 'hat': 2108, 'rubi': 3814, 'eleg': 1495, 'sensit': 3942, 'el': 1489, 'flip': 1789, 'saturday': 3862, 'brosnan': 649, 'scottish': 3893, 'kick': 2522, 'nowaday': 3104, 'viru': 4793, 'disabl': 1324, 'equival': 1569, 'click': 900, 'disjoint': 1341, 'corps': 1068, 'incomprehens': 2309, 'destin': 1279, 'sake': 3842, 'uninterest': 4690, 'k': 2498, 'septemb': 3949, 'montag': 2943, 'stiller': 4256, 'owen': 3204, 'clip': 910, 'correct': 1069, 'seagal': 3904, 'audio': 371, 'own': 3205, '1968': 25, 'anthoni': 273, 'aristocrat': 311, 'revolut': 3733, 'ace': 129, 'mitch': 2916, 'repetit': 3685, 'paramount': 3237, 'wont': 4937, 'crucial': 1129, 'alan': 193, 'bate': 448, 'canadian': 715, 'rehash': 3650, 'sun': 4347, 'dynam': 1445, 'winchest': 4915, '73': 89, 'rifl': 3750, 'hudson': 2229, 'stewart': 4252, 'cope': 1059, 'julia': 2487, 'persona': 3298, 'unsatisfi': 4707, 'flawless': 1782, 'downey': 1389, 'jr': 2480, 'fallen': 1681, 'duval': 1441, '1940': 21, 'miscast': 2904, 'casino': 758, 'defens': 1230, 'chip': 846, 'shoulder': 4013, 'chew': 834, 'er': 1570, 'hip': 2165, 'lifestyl': 2648, 'consciou': 1015, 'jade': 2422, 'gambl': 1909, 'prequel': 3434, 'misguid': 2908, 'twin': 4638, 'imit': 2278, 'disbelief': 1330, 'toy': 4566, 'nostalgia': 3094, '19': 15, 'antonioni': 279, 'itali': 2413, 'sweep': 4388, 'sixti': 4067, 'bound': 595, 'paus': 3271, 'lesser': 2633, 'broke': 643, 'bsg': 656, 'stargat': 4231, 'atlanti': 356, 'spain': 4160, 'advic': 161, 'meander': 2823, 'taylor': 4431, 'roman': 3783, 'declin': 1218, 'jess': 2448, 'franco': 1850, 'egg': 1483, 'aliv': 210, 'survivor': 4375, 'coach': 925, 'walter': 4825, 'eva': 1593, 'trashi': 4589, 'poe': 3365, 'damag': 1167, 'melt': 2842, 'struck': 4298, 'trick': 4606, 'hyde': 2249, 'impli': 2288, 'che': 822, 'skip': 4073, 'enemi': 1535, 'overlook': 3200, 'key': 2520, 'primit': 3459, 'hyster': 2252, 'factori': 1669, 'archiv': 304, 'vader': 4734, 'preach': 3418, 'tool': 4548, 'wield': 4904, 'uniform': 4685, 'eighti': 1486, 'radic': 3564, 'reed': 3637, 'ham': 2077, 'mobster': 2923, 'elimin': 1501, 'rub': 3811, 'valentin': 4737, 'armstrong': 314, 'madonna': 2743, 'sooner': 4141, 'judi': 2484, 'andrew': 255, 'off': 3136, 'carol': 748, 'secondari': 3911, 'lighter': 2652, '3000': 75, 'bollywood': 571, 'prejudic': 3428, 'sloppi': 4096, 'moor': 2951, 'seal': 3905, 'beg': 472, 'happili': 2092, 'meaning': 2824, 'healthi': 2119, 'unawar': 4654, 'bye': 693, 'court': 1086, 'floor': 1793, 'clue': 921, 'sandler': 3852, 'cruis': 1133, 'passeng': 3256, 'proof': 3494, 'stale': 4219, 'arthur': 323, 'roy': 3809, 'cassidi': 761, '1969': 26, 'innov': 2350, 'transit': 4583, 'replac': 3686, 'camcord': 705, 'emphas': 1520, 'dirt': 1322, 'rout': 3806, '1933': 18, 'forth': 1832, 'dismal': 1343, '1973': 30, 'region': 3646, 'discern': 1332, 'downright': 1391, 'repuls': 3694, 'lauren': 2592, 'sitcom': 4063, 'h': 2063, 'korean': 2550, 'carpent': 749, 'jami': 2427, 'curti': 1151, 'cross': 1125, 'relentless': 3661, 'psychopath': 3519, 'myer': 2997, 'fifteen': 1741, 'packag': 3213, 'moodi': 2949, 'maniac': 2767, 'bump': 674, 'eas': 1456, 'pet': 3303, 'modesti': 2930, 'travesti': 4593, 'option': 3167, '22': 68, 'fuller': 1884, 'resist': 3702, 'sky': 4076, 'roof': 3790, 'mine': 2892, 'pal': 3221, 'subplot': 4318, 'ian': 2253, 'griffith': 2033, 'prevent': 3447, 'abound': 104, 'racist': 3562, 'hulk': 2234, 'capot': 730, 'princip': 3462, 'blake': 535, 'punish': 3527, 'superbl': 4354, 'schlock': 3880, 'analysi': 248, 'ration': 3593, 'coaster': 927, 'drink': 1411, 'foil': 1804, 'adopt': 154, 'sucker': 4330, 'ami': 241, 'buff': 664, 'historian': 2170, 'captain': 731, 'tens': 4458, 'realis': 3607, 'speech': 4173, 'percept': 3287, 'revolv': 3735, 'ingeni': 2337, 'drone': 1417, 'nanci': 3007, 'disastr': 1329, 'parad': 3234, 'pile': 3331, 'colin': 936, 'farrel': 1697, 'fairi': 1675, 'freak': 1856, 'choppi': 851, 'cash': 757, '000': 2, 'bumbl': 673, 'idiot': 2262, 'preston': 3441, 'advantag': 158, 'eleven': 1499, '17': 13, 'romp': 3788, 'slide': 4090, 'provok': 3512, 'blade': 532, 'suitabl': 4341, 'unsettl': 4709, 'synopsi': 4399, 'link': 2665, 'www': 4974, 'uplift': 4715, 'anger': 258, 'invas': 2391, 'southern': 4154, 'jeff': 2441, 'ariel': 309, 'diari': 1299, 'ah': 181, 'fx': 1899, 'static': 4237, 'fifti': 1743, 'tyler': 4641, 'altman': 226, 'franci': 1848, 'ford': 1818, 'scorses': 3890, 'ash': 329, 'cagney': 698, 'conscious': 1016, 'preced': 3420, 'notabl': 3095, 'rod': 3778, 'antholog': 272, 'logan': 2685, 'crisi': 1120, 'stanley': 4227, 'lit': 2671, 'carl': 743, 'sneak': 4113, 'oddli': 3135, 'ambigu': 236, 'dilemma': 1310, 'randolph': 3578, 'compens': 973, 'berlin': 495, 'basket': 444, 'tap': 4419, 'gadget': 1904, '1989': 44, 'unsuspect': 4710, 'lawyer': 2597, 'firm': 1762, 'deceas': 1212, 'client': 901, 'funer': 1890, 'minist': 2897, 'occupi': 3131, 'assist': 345, 'outer': 3185, 'hollow': 2183, 'cruelti': 1132, 'darker': 1184, 'canada': 714, 'attenborough': 363, 'kurt': 2556, 'russel': 3824, 'cameron': 709, 'crow': 1126, 'distinguish': 1353, 'taxi': 4430, 'blair': 534, 'boyfriend': 603, 'doll': 1370, 'bread': 615, 'fright': 1871, 'loyal': 2714, 'campbel': 712, 'dame': 1168, 'inappropri': 2302, 'treasur': 4594, 'patienc': 3262, 'restor': 3713, 'mighti': 2875, 'reviv': 3731, 'rapidli': 3587, 'garbo': 1916, 'swedish': 4387, 'en': 1526, 'gestur': 1943, 'asset': 343, 'foolish': 1812, 'adequ': 149, 'martha': 2790, 'daniel': 1179, 'span': 4161, 'choreographi': 853, 'liu': 2676, 'skull': 4075, 'pin': 3333, 'garner': 1919, 'harrison': 2103, 'tank': 4418, 'glimps': 1967, 'unforgett': 4681, 'todd': 4530, 'sheet': 3989, 'spoof': 4201, 'nuanc': 3106, 'soup': 4151, 'brush': 654, 'undead': 4662, 'marin': 2781, 'bastard': 446, 'forti': 1833, 'length': 2625, 'tax': 4429, 'palanc': 3223, 'comedian': 955, 'reaction': 3602, 'shift': 3997, 'habit': 2065, 'sugar': 4337, 'grandmoth': 2010, 'virgin': 4789, 'matt': 2808, 'shelley': 3992, 'dictat': 1302, 'tourist': 4562, 'lavish': 2594, 'technicolor': 4440, 'spectacl': 4171, 'braveheart': 612, 'oppress': 3166, 'impos': 2292, 'undeni': 4663, 'lang': 2575, 'wardrob': 4833, 'tim': 4517, 'cox': 1091, 'calm': 704, 'mock': 2924, 'scotland': 3891, 'visitor': 4797, 'perman': 3294, 'heartfelt': 2125, 'luxuri': 2733, 'businessman': 684, 'philip': 3312, 'museum': 2989, 'ocean': 3133, 'sea': 3903, 'triangl': 4603, 'suppli': 4360, 'stark': 4232, 'worker': 4945, 'interior': 2379, 'pride': 3454, 'alright': 221, 'lemmon': 2622, 'orient': 3172, '1979': 35, 'ladder': 2565, 'femm': 1730, 'belli': 484, 'toilet': 4533, 'poker': 3375, 'critiqu': 1122, 'bargain': 432, 'rude': 3815, 'cant': 724, 'chuckl': 866, 'bless': 545, 'puppi': 3530, 'btw': 657, 'wilder': 4908, 'insipid': 2355, 'resourc': 3707, 'profan': 3478, 'victor': 4773, 'mclaglen': 2819, 'nolan': 3079, 'betray': 500, 'beatl': 463, 'overact': 3194, 'turner': 4631, 'tour': 4561, '1939': 20, 'legal': 2617, 'horn': 2207, 'stylish': 4312, 'birthday': 523, 'grate': 2014, 'cuba': 1136, 'tower': 4564, 'gentl': 1935, 'outing': 3187, 'shark': 3982, 'passabl': 3254, 'beneath': 491, 'varieti': 4750, 'sleazi': 4085, 'outfit': 3186, 'vanc': 4744, 'eugen': 1589, 'helen': 2136, 'talki': 4415, 'luka': 2725, 'illog': 2270, 'sentinel': 3947, 'graini': 2007, 'alison': 209, 'angel': 256, 'goldblum': 1984, 'guard': 2050, 'snl': 4115, 'newman': 3055, 'fart': 1698, 'juvenil': 2497, 'tube': 4625, 'fri': 1866, 'grasp': 2013, 'absenc': 107, 'oper': 3159, 'cheat': 824, 'abrupt': 106, 'mansion': 2772, 'backdrop': 406, 'relev': 3662, 'plod': 3361, 'notion': 3100, 'safeti': 3837, 'biographi': 520, 'map': 2773, 'prostitut': 3504, 'mildr': 2880, 'dish': 1340, 'venom': 4758, 'astound': 352, 'nolt': 3080, 'taught': 4428, 'suprem': 4364, 'bat': 447, 'excess': 1620, 'henc': 2143, 'spark': 4164, 'coup': 1082, 'franc': 1846, 'coloni': 944, 'peer': 3279, 'cynic': 1159, 'pronounc': 3493, 'geni': 1932, 'spider': 4180, 'bow': 597, 'airplan': 186, 'remad': 3669, 'dig': 1307, 'barrel': 434, 'werewolf': 4876, 'coat': 928, 'wed': 4866, 'silver': 4038, 'immigr': 2283, '1920': 16, 'pervers': 3301, 'akin': 189, 'contempl': 1030, 'latin': 2584, 'omen': 3154, 'mafia': 2744, 'thief': 4482, 'diamond': 1296, 'heist': 2134, 'tommi': 4540, 'dose': 1384, 'deed': 1222, 'gear': 1925, 'press': 3439, 'disc': 1331, 'trait': 4579, 'scientist': 3885, 'decapit': 1211, 'crippl': 1119, 'closet': 916, 'uncut': 4661, 'abc': 98, 'carter': 753, 'rat': 3590, 'spree': 4207, 'bag': 414, 'urg': 4720, 'da': 1161, 'correctli': 1070, 'surf': 4366, 'doc': 1365, 'measur': 2828, 'agenc': 175, 'insur': 2369, 'employe': 1524, 'basing': 443, 'del': 1236, '1976': 32, 'fragil': 1844, 'apolog': 289, 'judgment': 2483, 'prom': 3489, 'april': 301, 'overdon': 3197, 'tag': 4408, 'prop': 3495, 'edgi': 1473, 'slash': 4080, 'id': 2256, 'price': 3452, 'benefit': 492, 'vulner': 4811, 'goofi': 1991, 'preachi': 3419, 'frog': 1873, 'repeatedli': 3684, 'athlet': 355, 'wholli': 4895, 'assert': 342, 'resurrect': 3718, 'butcher': 687, 'charlton': 818, 'heston': 2150, 'atroc': 358, 'charl': 815, 'lester': 2635, 'recognit': 3623, 'argument': 308, 'mystic': 2999, 'interpret': 2382, 'evolut': 1610, 'compass': 971, 'taboo': 4402, 'sore': 4144, 'religi': 3666, 'mutual': 2996, 'bin': 519, 'cia': 868, 'henri': 2144, 'fonda': 1808, 'cain': 699, 'skit': 4074, 'pregnant': 3427, 'strain': 4277, 'circu': 876, 'robinson': 3772, 'inhabit': 2340, 'behold': 479, 'california': 702, 'brown': 652, 'colleagu': 939, 'fulfil': 1882, 'dwarf': 1443, 'servant': 3958, 'leather': 2609, 'explod': 1643, 'randi': 3577, 'fulci': 1881, 'awak': 389, 'hooker': 2200, 'idol': 2263, 'acquir': 134, 'meyer': 2865, 'stallon': 4222, 'reserv': 3700, 'snow': 4116, 'storm': 4272, 'robber': 3767, 'retriev': 3722, 'environ': 1563, 'valley': 4739, 'forest': 1820, 'econom': 1468, 'punk': 3528, 'breath': 620, 'bitch': 525, 'elabor': 1490, 'elm': 1505, 'cyborg': 1157, 'splatter': 4192, 'fever': 1735, 'pitch': 3338, 'sox': 4156, 'sport': 4203, 'greedi': 2024, 'swing': 4392, 'laurel': 2591, 'baldwin': 420, 'sleepwalk': 4087, 'deliveri': 1244, 'bash': 440, 'implaus': 2287, 'fog': 1803, 'encourag': 1530, 'meryl': 2854, 'streep': 4282, 'selfish': 3931, 'deliber': 1238, 'godfath': 1978, 'constitut': 1025, 'ran': 3576, 'centr': 785, 'monk': 2938, 'built': 668, 'steel': 4244, 'repli': 3688, 'dust': 1438, 'belushi': 488, 'stuart': 4301, 'attorney': 367, 'bath': 449, 'yawn': 4978, 'flair': 1774, 'boyl': 604, 'widow': 4903, 'ann': 263, 'reid': 3652, 'craig': 1094, 'compromis': 987, 'inject': 2344, 'alarm': 194, 'albeit': 195, 'phrase': 3321, 'fluff': 1798, '21st': 67, 'hack': 2066, 'chees': 828, 'falk': 1679, 'hank': 2088, 'murray': 2987, 'guid': 2053, 'collector': 941, 'interrupt': 2383, 'andi': 253, '1978': 34, 'phantom': 3308, 'norm': 3087, 'pound': 3408, 'loser': 2699, 'blah': 533, 'turd': 4628, 'bounc': 594, 'rhythm': 3740, 'antonio': 278, '2008': 65, 'goof': 1990, 'shield': 3996, 'lisa': 2668, 'kidnap': 2526, 'caught': 772, 'jacket': 2419, 'clinic': 908, 'mexico': 2864, 'margaret': 2777, 'toronto': 4555, 'myth': 3000, 'nerd': 3043, 'geek': 1926, 'worship': 4951, 'awhil': 396, 'scientif': 3884, 'london': 2689, 'darren': 1186, 'mum': 2981, 'legitim': 2620, 'frontier': 1876, 'solv': 4129, 'ebert': 1465, 'info': 2335, 'spinal': 4185, 'album': 197, 'reduc': 3635, 'caricatur': 742, 'spontan': 4200, 'hop': 2201, 'biker': 514, 'bike': 513, 'ireland': 2400, 'decis': 1216, 'crocodil': 1123, 'rooney': 3794, 'foul': 1838, 'smell': 4105, 'baker': 417, 'conneri': 1010, 'boredom': 584, 'slam': 4077, 'stack': 4214, 'complain': 976, 'cemeteri': 781, 'sunshin': 4351, 'glow': 1974, 'mason': 2797, 'miller': 2885, 'iv': 2416, 'mummi': 2982, 'basement': 439, 'fund': 1888, 'cigarett': 869, 'throat': 4501, 'graduat': 2005, 'comb': 949, 'rocki': 3777, 'montana': 2944, 'painter': 3219, 'albert': 196, 'norman': 3089, 'reign': 3653, 'brillianc': 632, 'pocket': 3364, 'susan': 4376, 'prank': 3415, 'aveng': 384, 'ned': 3029, 'nineti': 3071, 'ambiti': 238, 'atroci': 359, 'tactic': 4406, 'rapist': 3588, 'gori': 1995, 'wtf': 4971, 'neatli': 3025, 'conspiraci': 1022, 'theori': 4479, 'tunnel': 4627, 'ron': 3789, 'grinch': 2036, 'lou': 2703, 'carrey': 751, 'heap': 2120, 'carey': 740, 'metal': 2860, 'perceiv': 3286, 'convert': 1048, 'gloriou': 1972, 'pattern': 3267, 'photo': 3318, 'bake': 416, 'reson': 3705, 'risk': 3756, 'loretta': 2697, 'victori': 4774, 'restaur': 3712, 'cinderella': 870, 'christi': 859, 'vaniti': 4747, 'curtain': 1150, 'donna': 1378, '2004': 61, '1991': 46, '2002': 59, 'rumor': 3819, 'repris': 3693, 'calib': 701, 'characterist': 811, 'buri': 677, 'recit': 3620, 'belt': 487, 'scar': 3869, 'stress': 4286, 'immatur': 2279, 'rhyme': 3739, 'unorigin': 4700, 'worm': 4947, 'loneli': 2691, 'niro': 3073, 'nightclub': 3067, 'deriv': 1265, 'wanna': 4828, 'homag': 2187, 'tarantino': 4422, 'furthermor': 1896, 'pen': 3280, 'characteris': 810, 'arguabl': 307, 'amateur': 231, 'horrifi': 2212, 'slight': 4091, 'sh': 3970, 'olli': 3153, 'milk': 2883, 'bacon': 409, 'anderson': 252, 'colonel': 943, 'neill': 3037, 'renaiss': 3678, 'galaxi': 1908, 'jackson': 2421, 'yeti': 4987, 'tame': 4417, 'improb': 2295, 'toss': 4557, 'verhoeven': 4762, 'gerard': 1939, 'lure': 2729, 'christin': 861, 'sicken': 4025, 'hitchcock': 2172, 'wive': 4931, '1999': 52, 'akshay': 190, 'kumar': 2553, 'amitabh': 242, 'hilar': 2161, 'roller': 3782, '99': 96, '16': 12, 'virtu': 4791, 'inher': 2341, 'breed': 622, 'speci': 4168, 'diseas': 1336, 'sirk': 4059, 'chicago': 835, 'ambit': 237, 'hostil': 2218, 'wave': 4849, 'stimul': 4258, 'weather': 4862, 'joel': 2463, 'agenda': 176, 'jay': 2436, 'bridget': 628, 'http': 2228, 'sustain': 4382, 'dylan': 1444, 'leigh': 2621, 'eastern': 1461, 'hung': 2242, 'decept': 1214, 'furiou': 1895, 'showdown': 4018, 'coher': 932, 'kitchen': 2536, 'brando': 610, 'contempt': 1032, 'electron': 1494, 'substanc': 4320, 'misfortun': 2907, 'cathol': 770, 'beaten': 462, 'shaki': 3975, 'scariest': 3874, 'enforc': 1538, 'timothi': 4522, 'nope': 3086, 'bourn': 596, 'damon': 1171, 'angela': 257, 'paula': 3269, 'neurot': 3048, 'endur': 1534, 'sympathi': 4398, 'deem': 1223, 'clan': 884, 'amor': 245, 'torn': 4554, 'knife': 2541, 'gillian': 1953, 'orson': 3176, 'shanghai': 3979, 'lab': 2560, 'literari': 2673, 'wrestl': 4963, 'palma': 3226, 'widescreen': 4901, 'policeman': 3379, 'pot': 3405, 'naughti': 3018, 'legaci': 2616, 'rome': 3786, 'unknown': 4695, 'bust': 685, 'lean': 2605, 'deaf': 1200, 'bias': 507, 'offend': 3137, 'cliffhang': 903, 'nerv': 3044, 'faster': 1703, 'rambo': 3573, 'perpetu': 3295, 'poison': 3372, 'robbin': 3769, 'financ': 1754, 'salman': 3845, 'jo': 2458, 'clara': 885, 'scarecrow': 3871, 'stolen': 4264, 'spill': 4183, 'pale': 3224, 'blob': 548, 'mcqueen': 2820, 'aborigin': 102, 'bay': 453, 'uwe': 4731, 'boll': 570, 'disgrac': 1337, 'spike': 4182, 'sleaz': 4084, 'neighborhood': 3035, 'undermin': 4666, 'imperson': 2286, 'ritchi': 3758, 'alex': 201, 'east': 1460, 'durat': 1437, 'verg': 4761, 'labor': 2562, 'casper': 759, 'boo': 577, 'tonight': 4546, 'vincent': 4786, 'hopeless': 2203, 'rubber': 3812, 'acid': 131, 'blur': 559, 'leon': 2628, 'weight': 4869, 'bullet': 671, '75': 90, 'palac': 3222, 'traffic': 4573, '1993': 47, 'alicia': 206, 'princ': 3460, 'dire': 1317, 'nathan': 3014, 'justin': 2496, 'chaplin': 806, 'inabl': 2298, 'mundan': 2983, 'sibl': 4023, 'dysfunct': 1446, 'roommat': 3793, 'karl': 2503, 'goer': 1981, 'fay': 1713, '1986': 41, 'ho': 2175, 'candl': 720, 'tad': 4407, 'stir': 4261, 'bent': 493, 'kingdom': 2533, 'barn': 433, 'hapless': 2089, 'victoria': 4775, 'persuad': 3300, 'screw': 3899, 'bug': 666, 'pixar': 3341, 'evolv': 1611, 'ant': 270, 'expand': 1632, 'numer': 3112, 'tooth': 4549, 'trivia': 4616, 'min': 2889, 'conrad': 1013, 'magician': 2748, 'macabr': 2736, 'morri': 2959, 'vibrant': 4769, 'resum': 3717, 'wealthi': 4858, 'nicol': 3063, 'marlon': 2786, 'niec': 3065, 'miniseri': 2896, 'eyr': 1660, 'dalton': 1166, 'rochest': 3774, 'beer': 470, 'lili': 2656, 'judd': 2481, 'artwork': 328, 'laura': 2590, 'unfair': 4679, 'vile': 4783, 'fuel': 1880, 'bubbl': 659, 'wrap': 4960, 'cooper': 1057, 'leonard': 2629, 'fascist': 1700, 'housewif': 2224, 'gabriel': 1903, 'contrari': 1039, 'glorifi': 1971, 'rambl': 3572, 'ol': 3147, 'slimi': 4094, 'wrestler': 4964, 'articl': 324, 'vet': 4765, 'ghetto': 1945, 'march': 2776, 'standout': 4226, 'penni': 3282, 'johnson': 2467, 'corman': 1063, 'subtli': 4325, 'modest': 2929, 'karloff': 2504, 'bori': 585, 'rukh': 3817, 'demonstr': 1250, 'felix': 1723, 'drake': 1398, 'guest': 2052, 'expedit': 1634, 'diana': 1298, 'secretli': 3915, 'heal': 2117, 'collabor': 937, 'refresh': 3642, 'farc': 1693, 'acknowledg': 132, 'cypher': 1160, 'dispos': 1348, 'natali': 3013, 'dont': 1379, 'mann': 2770, 'cuban': 1137, 'despic': 1276, 'soderbergh': 4121, 'revolt': 3732, 'compris': 986, 'chamberlain': 798, 'cg': 792, 'basebal': 438, 'empir': 1522, 'porter': 3394, 'millionair': 2887, 'pant': 3231, 'lucil': 2718, 'betti': 503, 'francisco': 1849, 'inherit': 2342, 'toe': 4531, 'trademark': 4571, 'hackney': 2068, 'gray': 2017, 'royal': 3810, 'nina': 3069, 'superhero': 4356, 'fundament': 1889, 'shepherd': 3993, 'basketbal': 445, 'viewpoint': 4781, 'cream': 1103, 'watson': 4848, 'chess': 832, 'barri': 435, 'bitten': 527, 'comprehens': 985, 'biko': 516, 'unexplain': 4678, 'proport': 3502, 'rid': 3745, 'dentist': 1254, 'gimmick': 1954, 'mobil': 2922, 'dreari': 1405, 'vomit': 4805, 'retard': 3720, 'shatter': 3985, 'spielberg': 4181, 'temper': 4450, 'outlin': 3189, 'rooki': 3791, 'quaid': 3541, 'rendit': 3680, 'widmark': 4902, 'ritter': 3759, 'monoton': 2941, 'overlong': 3199, 'irrelev': 2404, 'conan': 990, 'graham': 2006, 'sue': 4333, 'jedi': 2440, 'tripl': 4613, 'kazan': 2508, 'predat': 3423, 'orlean': 3174, 'lengthi': 2626, 'scenario': 3875, 'melissa': 2838, 'hart': 2105, 'sabrina': 3830, 'zizek': 4996, 'bro': 639, 'attribut': 369, 'novak': 3102, 'kyle': 2557, 'pervert': 3302, 'useless': 4724, 'embark': 1511, 'austin': 377, 'cape': 728, 'wipe': 4921, 'breakfast': 618, 'brit': 636, 'margin': 2778, 'sparkl': 4165, 'mute': 2995, 'evan': 1594, 'derang': 1263, 'meal': 2821, 'boxer': 600, 'dixon': 1364, 'sidewalk': 4029, 'poster': 3404, 'shove': 4015, 'repress': 3692, 'owe': 3203, 'arrog': 320, 'oblig': 3118, 'what': 4882, 'sadist': 3834, 'emperor': 1519, 'damm': 1169, 'champion': 799, 'potter': 3407, 'stalker': 4221, 'sand': 3851, 'visibl': 4794, 'catchi': 767, 'intric': 2386, 'salt': 3846, 'fontain': 1809, 'abraham': 105, 'tribut': 4605, 'chop': 850, 'lincoln': 2658, 'flynn': 1800, 'duti': 1440, '1971': 28, 'salli': 3844, 'dreck': 1406, 'palm': 3225, 'louis': 2706, 'hello': 2139, 'nervou': 3045, 'shred': 4021, 'arc': 303, 'grief': 2032, 'feat': 1717, 'rotten': 3803, 'blackmail': 531, 'porno': 3393, 'uh': 4646, 'pour': 3409, 'bonu': 576, 'simplic': 4045, 'victorian': 4776, 'spade': 4159, 'keen': 2510, 'util': 4728, 'scoop': 3887, 'ellen': 1504, 'huh': 2233, 'farm': 1695, 'seedi': 3922, 'cooki': 1055, 'retain': 3719, 'pauli': 3270, 'bett': 501, 'corbett': 1061, 'errol': 1574, 'sidney': 4030, 'cannon': 722, 'pokemon': 3374, 'ramon': 3574, 'jew': 2452, 'staff': 4215, 'ustinov': 4726, 'nod': 3076, 'bunni': 676, 'seed': 3921, 'infect': 2331, 'feminist': 1729, 'mermaid': 2853, 'mesmer': 2855, 'gundam': 2059, 'slug': 4099, 'lesli': 2631, 'harmless': 2100, 'olivi': 3152, 'restrict': 3715, 'trauma': 4590, 'lumet': 2727, 'exhaust': 1627, 'succe': 4326, 'pacif': 3210, 'monti': 2946, 'li': 2641, 'soccer': 4118, 'iran': 2398, 'schedul': 3878, 'hallucin': 2076, 'psychot': 3520, 'whack': 4880, 'goldsworthi': 1986, 'strongest': 4296, 'alvin': 228, 'hackman': 2067, 'macho': 2739, 'hamlet': 2079, 'julian': 2488, 'implic': 2289, 'recognis': 3622, 'down': 1388, 'chavez': 821, 'elit': 1502, 'newer': 3053, 'lifeless': 2647, 'dracula': 1394, 'stole': 4263, 'institut': 2365, 'disord': 1346, 'facil': 1666, 'matthau': 2810, 'cattl': 771, 'kirk': 2534, 'springer': 4209, 'marc': 2775, 'gina': 1955, 'sniper': 4114, 'phenomen': 3309, 'couch': 1074, 'zoom': 4999, 'esther': 1582, 'malon': 2762, 'cousin': 1087, 'elizabeth': 1503, 'wisdom': 4923, 'marti': 2791, 'frantic': 1855, 'monument': 2947, 'dorothi': 1383, 'hara': 2093, 'q': 3540, 'unpredict': 4702, 'underneath': 4667, 'shortcom': 4009, 'mortal': 2960, 'muscl': 2988, 'kent': 2517, 'wore': 4943, 'carla': 744, 'newli': 3054, 'vastli': 4753, 'buffalo': 665, 'maci': 2740, 'slightest': 4092, 'frontal': 1875, 'inmat': 2347, 'profess': 3479, 'scarfac': 3872, 'conscienc': 1014, 'psych': 3514, 'pickford': 3325, 'ross': 3800, 'joey': 2464, 'foxx': 1843, 'enterpris': 1554, 'absent': 108, 'jill': 2455, 'axe': 398, 'rosario': 3797, 'dawson': 1194, 'kurosawa': 2555, 'mol': 2932, 'summar': 4344, 'recogniz': 3624, 'globe': 1969, 'smack': 4100, 'milo': 2888, 'bacal': 402, 'bergman': 494, 'barrymor': 436, 'keith': 2512, 'gasp': 1920, 'signal': 4033, 'propheci': 3500, 'helm': 2140, 'crawford': 1099, 'nun': 3113, 'spray': 4205, 'tomorrow': 4541, 'peril': 3292, 'publish': 3522, 'pulp': 3524, 'clone': 912, 'vanessa': 4745, 'roar': 3765, 'hopkin': 2205, 'uma': 4650, '1996': 50, 'household': 2223, 'sid': 4026, 'bronson': 645, 'countless': 1079, 'dandi': 1176, 'anton': 277, 'carlito': 745, 'climat': 905, 'ratso': 3594, 'pete': 3304, 'mode': 2925, 'unseen': 4708, 'truman': 4622, 'marion': 2783, 'huston': 2248, 'cecil': 777, 'prey': 3451, 'holocaust': 2186, 'redund': 3636, 'hain': 2069, 'preming': 3430, 'patricia': 3264, 'lindsay': 2660, 'hostag': 2217, 'streisand': 4284, 'wendi': 4873, 'grotesqu': 2041, 'dolph': 1372, 'lundgren': 2728, 'greet': 2027, 'wwe': 4972, 'championship': 800, 'sandra': 3853, 'clad': 881, 'linger': 2664, 'flock': 1792, 'wealth': 4857, 'sergeant': 3952, 'entitl': 1560, 'shaw': 3986, 'filth': 1752, 'kolchak': 2548, 'frankenstein': 1852, 'linda': 2659, 'tripe': 4612, 'cush': 1153, 'ingrid': 2339, 'fido': 1739, 'gunga': 2060, 'din': 1314, 'macarthur': 2737, 'shorter': 4010, 'scoobi': 3886, 'doo': 1380, 'net': 3046, 'burton': 681, 'connor': 1011, 'nemesi': 3040, 'mathieu': 2806, 'dim': 1311, '1988': 43, 'kidman': 2525, 'paxton': 3272, 'kitti': 2537, 'replay': 3687, 'wax': 4850, 'stair': 4217, 'cartoonish': 755, 'mccoy': 2818, 'cap': 726, 'antagonist': 271, 'bach': 403, '95': 95, 'enabl': 1527, 'oldest': 3150, 'groan': 2039, 'tierney': 4513, 'earl': 1450, 'cohen': 931, 'rosemari': 3799, 'corn': 1064, 'poem': 3366, 'astronaut': 353, 'naschi': 3011, 'israel': 2411, 'hug': 2230, 'handicap': 2084, 'timberlak': 4518, 'walsh': 4823, 'timon': 4521, 'chicken': 837, 'gabl': 1902, 'evelyn': 1596, 'affleck': 166, 'isra': 2410, 'junior': 2492, 'nicola': 3064, 'bud': 661, 'senior': 3937, 'unleash': 4696, 'pearl': 3277, 'uniformli': 4686, 'trier': 4607, 'domino': 1375, 'vignett': 4782, 'gere': 1940, 'simmon': 4041, 'raj': 3569, 'dudley': 1429, 'europa': 1591, 'narrow': 3010, 'einstein': 1487, 'wang': 4827, 'thunderbird': 4509, 'boston': 589, 'danish': 1180, 'tara': 4421, 'spock': 4195, '00': 1, 'radiat': 3563, 'boyer': 602, 'miyazaki': 2920}\n"
     ]
    }
   ],
   "source": [
    "print(vocabulary_loaded)"
   ]
  },
  {
   "cell_type": "code",
   "execution_count": 50,
   "metadata": {},
   "outputs": [
    {
     "name": "stdout",
     "output_type": "stream",
     "text": [
      "<class 'dict'>\n"
     ]
    }
   ],
   "source": [
    "print(type(vocabulary_loaded))\n",
    "vocabulary_loaded = None"
   ]
  },
  {
   "cell_type": "markdown",
   "metadata": {},
   "source": [
    "Now that we've performed the data processing that is required by our model we can save it locally and then upload it to S3 so that we can construct a batch transform job in order to see how well our model is working.\n",
    "\n",
    "First, we save the data locally.\n",
    "\n",
    "**TODO:** Save the new data (after it has been transformed using the original vocabulary) to the local notebook instance."
   ]
  },
  {
   "cell_type": "code",
   "execution_count": 45,
   "metadata": {},
   "outputs": [],
   "source": [
    "# TODO: Save the data contained in new_XV locally in the data_dir with the file name new_data.csv\n",
    "pd.DataFrame(new_XV).to_csv(os.path.join(data_dir, 'new_data.csv'), header=False, index=False)"
   ]
  },
  {
   "cell_type": "markdown",
   "metadata": {},
   "source": [
    "Next, we upload the data to S3.\n",
    "\n",
    "**TODO:** Upload the csv file created above to S3."
   ]
  },
  {
   "cell_type": "code",
   "execution_count": 46,
   "metadata": {},
   "outputs": [],
   "source": [
    "# TODO: Upload the new_data.csv file contained in the data_dir folder to S3 and save the resulting\n",
    "#       URI as new_data_location\n",
    "\n",
    "new_data_location = session.upload_data(os.path.join(data_dir, 'new_data.csv'), key_prefix=prefix)"
   ]
  },
  {
   "cell_type": "markdown",
   "metadata": {},
   "source": [
    "Then, once the new data has been uploaded to S3, we create and run the batch transform job to get our model's predictions about the sentiment of the new movie reviews.\n",
    "\n",
    "**TODO:** Using the `xgb_transformer` object that was created earlier (at the end of Step 4 to test the XGBoost model), transform the data located at `new_data_location`."
   ]
  },
  {
   "cell_type": "code",
   "execution_count": 47,
   "metadata": {},
   "outputs": [
    {
     "name": "stdout",
     "output_type": "stream",
     "text": [
      "......................\u001b[34mArguments: serve\u001b[0m\n",
      "\u001b[34m[2020-05-21 18:04:17 +0000] [1] [INFO] Starting gunicorn 19.7.1\u001b[0m\n",
      "\u001b[34m[2020-05-21 18:04:17 +0000] [1] [INFO] Listening at: http://0.0.0.0:8080 (1)\u001b[0m\n",
      "\u001b[34m[2020-05-21 18:04:17 +0000] [1] [INFO] Using worker: gevent\u001b[0m\n",
      "\u001b[34m[2020-05-21 18:04:17 +0000] [39] [INFO] Booting worker with pid: 39\u001b[0m\n",
      "\u001b[34m[2020-05-21 18:04:17 +0000] [40] [INFO] Booting worker with pid: 40\u001b[0m\n",
      "\u001b[34m[2020-05-21:18:04:17:INFO] Model loaded successfully for worker : 39\u001b[0m\n",
      "\u001b[34m[2020-05-21 18:04:17 +0000] [41] [INFO] Booting worker with pid: 41\u001b[0m\n",
      "\u001b[34m[2020-05-21:18:04:17:INFO] Model loaded successfully for worker : 40\u001b[0m\n",
      "\u001b[34m[2020-05-21 18:04:17 +0000] [42] [INFO] Booting worker with pid: 42\u001b[0m\n",
      "\u001b[34m[2020-05-21:18:04:17:INFO] Model loaded successfully for worker : 41\u001b[0m\n",
      "\u001b[34m[2020-05-21:18:04:17:INFO] Model loaded successfully for worker : 42\u001b[0m\n",
      "\u001b[34m[2020-05-21:18:04:44:INFO] Sniff delimiter as ','\u001b[0m\n",
      "\u001b[34m[2020-05-21:18:04:44:INFO] Determined delimiter of CSV input is ','\u001b[0m\n",
      "\u001b[34m[2020-05-21:18:04:44:INFO] Sniff delimiter as ','\u001b[0m\n",
      "\u001b[34m[2020-05-21:18:04:44:INFO] Determined delimiter of CSV input is ','\u001b[0m\n",
      "\u001b[34m[2020-05-21:18:04:44:INFO] Sniff delimiter as ','\u001b[0m\n",
      "\u001b[34m[2020-05-21:18:04:44:INFO] Determined delimiter of CSV input is ','\u001b[0m\n",
      "\u001b[35m[2020-05-21:18:04:44:INFO] Sniff delimiter as ','\u001b[0m\n",
      "\u001b[35m[2020-05-21:18:04:44:INFO] Determined delimiter of CSV input is ','\u001b[0m\n",
      "\u001b[35m[2020-05-21:18:04:44:INFO] Sniff delimiter as ','\u001b[0m\n",
      "\u001b[35m[2020-05-21:18:04:44:INFO] Determined delimiter of CSV input is ','\u001b[0m\n",
      "\u001b[35m[2020-05-21:18:04:44:INFO] Sniff delimiter as ','\u001b[0m\n",
      "\u001b[35m[2020-05-21:18:04:44:INFO] Determined delimiter of CSV input is ','\u001b[0m\n",
      "\u001b[32m2020-05-21T18:04:41.981:[sagemaker logs]: MaxConcurrentTransforms=4, MaxPayloadInMB=6, BatchStrategy=MULTI_RECORD\u001b[0m\n",
      "\u001b[34m[2020-05-21:18:04:45:INFO] Sniff delimiter as ','\u001b[0m\n",
      "\u001b[34m[2020-05-21:18:04:45:INFO] Determined delimiter of CSV input is ','\u001b[0m\n",
      "\u001b[35m[2020-05-21:18:04:45:INFO] Sniff delimiter as ','\u001b[0m\n",
      "\u001b[35m[2020-05-21:18:04:45:INFO] Determined delimiter of CSV input is ','\u001b[0m\n",
      "\u001b[34m[2020-05-21:18:04:47:INFO] Sniff delimiter as ','\u001b[0m\n",
      "\u001b[34m[2020-05-21:18:04:47:INFO] Determined delimiter of CSV input is ','\u001b[0m\n",
      "\u001b[34m[2020-05-21:18:04:47:INFO] Sniff delimiter as ','\u001b[0m\n",
      "\u001b[34m[2020-05-21:18:04:47:INFO] Determined delimiter of CSV input is ','\u001b[0m\n",
      "\u001b[34m[2020-05-21:18:04:47:INFO] Sniff delimiter as ','\u001b[0m\n",
      "\u001b[34m[2020-05-21:18:04:47:INFO] Determined delimiter of CSV input is ','\u001b[0m\n",
      "\u001b[34m[2020-05-21:18:04:47:INFO] Sniff delimiter as ','\u001b[0m\n",
      "\u001b[34m[2020-05-21:18:04:47:INFO] Determined delimiter of CSV input is ','\u001b[0m\n",
      "\u001b[35m[2020-05-21:18:04:47:INFO] Sniff delimiter as ','\u001b[0m\n",
      "\u001b[35m[2020-05-21:18:04:47:INFO] Determined delimiter of CSV input is ','\u001b[0m\n",
      "\u001b[35m[2020-05-21:18:04:47:INFO] Sniff delimiter as ','\u001b[0m\n",
      "\u001b[35m[2020-05-21:18:04:47:INFO] Determined delimiter of CSV input is ','\u001b[0m\n",
      "\u001b[35m[2020-05-21:18:04:47:INFO] Sniff delimiter as ','\u001b[0m\n",
      "\u001b[35m[2020-05-21:18:04:47:INFO] Determined delimiter of CSV input is ','\u001b[0m\n",
      "\u001b[35m[2020-05-21:18:04:47:INFO] Sniff delimiter as ','\u001b[0m\n",
      "\u001b[35m[2020-05-21:18:04:47:INFO] Determined delimiter of CSV input is ','\u001b[0m\n",
      "\u001b[34m[2020-05-21:18:04:51:INFO] Sniff delimiter as ','\u001b[0m\n",
      "\u001b[34m[2020-05-21:18:04:51:INFO] Determined delimiter of CSV input is ','\u001b[0m\n",
      "\u001b[35m[2020-05-21:18:04:51:INFO] Sniff delimiter as ','\u001b[0m\n",
      "\u001b[35m[2020-05-21:18:04:51:INFO] Determined delimiter of CSV input is ','\u001b[0m\n",
      "\u001b[34m[2020-05-21:18:04:52:INFO] Sniff delimiter as ','\u001b[0m\n",
      "\u001b[34m[2020-05-21:18:04:52:INFO] Determined delimiter of CSV input is ','\u001b[0m\n",
      "\u001b[34m[2020-05-21:18:04:52:INFO] Sniff delimiter as ','\u001b[0m\n",
      "\u001b[34m[2020-05-21:18:04:52:INFO] Determined delimiter of CSV input is ','\u001b[0m\n",
      "\u001b[34m[2020-05-21:18:04:52:INFO] Sniff delimiter as ','\u001b[0m\n",
      "\u001b[34m[2020-05-21:18:04:52:INFO] Determined delimiter of CSV input is ','\u001b[0m\n",
      "\u001b[35m[2020-05-21:18:04:52:INFO] Sniff delimiter as ','\u001b[0m\n",
      "\u001b[35m[2020-05-21:18:04:52:INFO] Determined delimiter of CSV input is ','\u001b[0m\n",
      "\u001b[35m[2020-05-21:18:04:52:INFO] Sniff delimiter as ','\u001b[0m\n",
      "\u001b[35m[2020-05-21:18:04:52:INFO] Determined delimiter of CSV input is ','\u001b[0m\n",
      "\u001b[35m[2020-05-21:18:04:52:INFO] Sniff delimiter as ','\u001b[0m\n",
      "\u001b[35m[2020-05-21:18:04:52:INFO] Determined delimiter of CSV input is ','\u001b[0m\n",
      "\u001b[34m[2020-05-21:18:04:54:INFO] Sniff delimiter as ','\u001b[0m\n",
      "\u001b[34m[2020-05-21:18:04:54:INFO] Determined delimiter of CSV input is ','\u001b[0m\n",
      "\u001b[34m[2020-05-21:18:04:54:INFO] Sniff delimiter as ','\u001b[0m\n",
      "\u001b[34m[2020-05-21:18:04:54:INFO] Determined delimiter of CSV input is ','\u001b[0m\n",
      "\u001b[34m[2020-05-21:18:04:54:INFO] Sniff delimiter as ','\u001b[0m\n",
      "\u001b[34m[2020-05-21:18:04:54:INFO] Determined delimiter of CSV input is ','\u001b[0m\n",
      "\u001b[34m[2020-05-21:18:04:54:INFO] Sniff delimiter as ','\u001b[0m\n",
      "\u001b[34m[2020-05-21:18:04:54:INFO] Determined delimiter of CSV input is ','\u001b[0m\n",
      "\u001b[35m[2020-05-21:18:04:54:INFO] Sniff delimiter as ','\u001b[0m\n",
      "\u001b[35m[2020-05-21:18:04:54:INFO] Determined delimiter of CSV input is ','\u001b[0m\n",
      "\u001b[35m[2020-05-21:18:04:54:INFO] Sniff delimiter as ','\u001b[0m\n",
      "\u001b[35m[2020-05-21:18:04:54:INFO] Determined delimiter of CSV input is ','\u001b[0m\n",
      "\u001b[35m[2020-05-21:18:04:54:INFO] Sniff delimiter as ','\u001b[0m\n",
      "\u001b[35m[2020-05-21:18:04:54:INFO] Determined delimiter of CSV input is ','\u001b[0m\n",
      "\u001b[35m[2020-05-21:18:04:54:INFO] Sniff delimiter as ','\u001b[0m\n",
      "\u001b[35m[2020-05-21:18:04:54:INFO] Determined delimiter of CSV input is ','\u001b[0m\n",
      "\u001b[34m[2020-05-21:18:04:56:INFO] Sniff delimiter as ','\u001b[0m\n",
      "\u001b[34m[2020-05-21:18:04:56:INFO] Determined delimiter of CSV input is ','\u001b[0m\n",
      "\u001b[34m[2020-05-21:18:04:56:INFO] Sniff delimiter as ','\u001b[0m\n",
      "\u001b[34m[2020-05-21:18:04:56:INFO] Determined delimiter of CSV input is ','\u001b[0m\n",
      "\u001b[35m[2020-05-21:18:04:56:INFO] Sniff delimiter as ','\u001b[0m\n",
      "\u001b[35m[2020-05-21:18:04:56:INFO] Determined delimiter of CSV input is ','\u001b[0m\n",
      "\u001b[35m[2020-05-21:18:04:56:INFO] Sniff delimiter as ','\u001b[0m\n",
      "\u001b[35m[2020-05-21:18:04:56:INFO] Determined delimiter of CSV input is ','\u001b[0m\n",
      "\u001b[34m[2020-05-21:18:04:57:INFO] Sniff delimiter as ','\u001b[0m\n",
      "\u001b[34m[2020-05-21:18:04:57:INFO] Sniff delimiter as ','\u001b[0m\n",
      "\u001b[35m[2020-05-21:18:04:57:INFO] Sniff delimiter as ','\u001b[0m\n",
      "\u001b[35m[2020-05-21:18:04:57:INFO] Sniff delimiter as ','\u001b[0m\n",
      "\u001b[34m[2020-05-21:18:04:57:INFO] Determined delimiter of CSV input is ','\u001b[0m\n",
      "\u001b[34m[2020-05-21:18:04:57:INFO] Determined delimiter of CSV input is ','\u001b[0m\n",
      "\u001b[35m[2020-05-21:18:04:57:INFO] Determined delimiter of CSV input is ','\u001b[0m\n",
      "\u001b[35m[2020-05-21:18:04:57:INFO] Determined delimiter of CSV input is ','\u001b[0m\n",
      "\u001b[34m[2020-05-21:18:04:59:INFO] Sniff delimiter as ','\u001b[0m\n",
      "\u001b[35m[2020-05-21:18:04:59:INFO] Sniff delimiter as ','\u001b[0m\n",
      "\u001b[34m[2020-05-21:18:04:59:INFO] Determined delimiter of CSV input is ','\u001b[0m\n",
      "\u001b[34m[2020-05-21:18:04:59:INFO] Sniff delimiter as ','\u001b[0m\n",
      "\u001b[34m[2020-05-21:18:04:59:INFO] Determined delimiter of CSV input is ','\u001b[0m\n",
      "\u001b[34m[2020-05-21:18:04:59:INFO] Sniff delimiter as ','\u001b[0m\n",
      "\u001b[34m[2020-05-21:18:04:59:INFO] Determined delimiter of CSV input is ','\u001b[0m\n",
      "\u001b[35m[2020-05-21:18:04:59:INFO] Determined delimiter of CSV input is ','\u001b[0m\n",
      "\u001b[35m[2020-05-21:18:04:59:INFO] Sniff delimiter as ','\u001b[0m\n",
      "\u001b[35m[2020-05-21:18:04:59:INFO] Determined delimiter of CSV input is ','\u001b[0m\n",
      "\u001b[35m[2020-05-21:18:04:59:INFO] Sniff delimiter as ','\u001b[0m\n",
      "\u001b[35m[2020-05-21:18:04:59:INFO] Determined delimiter of CSV input is ','\u001b[0m\n",
      "\u001b[34m[2020-05-21:18:05:01:INFO] Sniff delimiter as ','\u001b[0m\n",
      "\u001b[35m[2020-05-21:18:05:01:INFO] Sniff delimiter as ','\u001b[0m\n",
      "\u001b[34m[2020-05-21:18:05:01:INFO] Determined delimiter of CSV input is ','\u001b[0m\n",
      "\u001b[34m[2020-05-21:18:05:01:INFO] Sniff delimiter as ','\u001b[0m\n",
      "\u001b[34m[2020-05-21:18:05:01:INFO] Determined delimiter of CSV input is ','\u001b[0m\n",
      "\u001b[34m[2020-05-21:18:05:01:INFO] Sniff delimiter as ','\u001b[0m\n",
      "\u001b[34m[2020-05-21:18:05:01:INFO] Determined delimiter of CSV input is ','\u001b[0m\n",
      "\u001b[35m[2020-05-21:18:05:01:INFO] Determined delimiter of CSV input is ','\u001b[0m\n",
      "\u001b[35m[2020-05-21:18:05:01:INFO] Sniff delimiter as ','\u001b[0m\n",
      "\u001b[35m[2020-05-21:18:05:01:INFO] Determined delimiter of CSV input is ','\u001b[0m\n",
      "\u001b[35m[2020-05-21:18:05:01:INFO] Sniff delimiter as ','\u001b[0m\n",
      "\u001b[35m[2020-05-21:18:05:01:INFO] Determined delimiter of CSV input is ','\u001b[0m\n",
      "\u001b[34m[2020-05-21:18:05:01:INFO] Sniff delimiter as ','\u001b[0m\n",
      "\u001b[34m[2020-05-21:18:05:01:INFO] Determined delimiter of CSV input is ','\u001b[0m\n",
      "\u001b[35m[2020-05-21:18:05:01:INFO] Sniff delimiter as ','\u001b[0m\n",
      "\u001b[35m[2020-05-21:18:05:01:INFO] Determined delimiter of CSV input is ','\u001b[0m\n",
      "\u001b[34m[2020-05-21:18:05:04:INFO] Sniff delimiter as ','\u001b[0m\n",
      "\u001b[34m[2020-05-21:18:05:04:INFO] Determined delimiter of CSV input is ','\u001b[0m\n",
      "\u001b[34m[2020-05-21:18:05:04:INFO] Sniff delimiter as ','\u001b[0m\n",
      "\u001b[34m[2020-05-21:18:05:04:INFO] Determined delimiter of CSV input is ','\u001b[0m\n",
      "\u001b[34m[2020-05-21:18:05:04:INFO] Sniff delimiter as ','\u001b[0m\n",
      "\u001b[34m[2020-05-21:18:05:04:INFO] Determined delimiter of CSV input is ','\u001b[0m\n",
      "\u001b[34m[2020-05-21:18:05:04:INFO] Sniff delimiter as ','\u001b[0m\n",
      "\u001b[34m[2020-05-21:18:05:04:INFO] Determined delimiter of CSV input is ','\u001b[0m\n",
      "\u001b[35m[2020-05-21:18:05:04:INFO] Sniff delimiter as ','\u001b[0m\n",
      "\u001b[35m[2020-05-21:18:05:04:INFO] Determined delimiter of CSV input is ','\u001b[0m\n",
      "\u001b[35m[2020-05-21:18:05:04:INFO] Sniff delimiter as ','\u001b[0m\n",
      "\u001b[35m[2020-05-21:18:05:04:INFO] Determined delimiter of CSV input is ','\u001b[0m\n",
      "\u001b[35m[2020-05-21:18:05:04:INFO] Sniff delimiter as ','\u001b[0m\n",
      "\u001b[35m[2020-05-21:18:05:04:INFO] Determined delimiter of CSV input is ','\u001b[0m\n",
      "\u001b[35m[2020-05-21:18:05:04:INFO] Sniff delimiter as ','\u001b[0m\n",
      "\u001b[35m[2020-05-21:18:05:04:INFO] Determined delimiter of CSV input is ','\u001b[0m\n",
      "\u001b[34m[2020-05-21:18:05:06:INFO] Sniff delimiter as ','\u001b[0m\n",
      "\u001b[34m[2020-05-21:18:05:06:INFO] Determined delimiter of CSV input is ','\u001b[0m\n",
      "\u001b[34m[2020-05-21:18:05:06:INFO] Sniff delimiter as ','\u001b[0m\n",
      "\u001b[34m[2020-05-21:18:05:06:INFO] Determined delimiter of CSV input is ','\u001b[0m\n",
      "\u001b[34m[2020-05-21:18:05:06:INFO] Sniff delimiter as ','\u001b[0m\n",
      "\u001b[34m[2020-05-21:18:05:06:INFO] Determined delimiter of CSV input is ','\u001b[0m\n",
      "\u001b[35m[2020-05-21:18:05:06:INFO] Sniff delimiter as ','\u001b[0m\n",
      "\u001b[35m[2020-05-21:18:05:06:INFO] Determined delimiter of CSV input is ','\u001b[0m\n",
      "\u001b[35m[2020-05-21:18:05:06:INFO] Sniff delimiter as ','\u001b[0m\n",
      "\u001b[35m[2020-05-21:18:05:06:INFO] Determined delimiter of CSV input is ','\u001b[0m\n",
      "\u001b[35m[2020-05-21:18:05:06:INFO] Sniff delimiter as ','\u001b[0m\n",
      "\u001b[35m[2020-05-21:18:05:06:INFO] Determined delimiter of CSV input is ','\u001b[0m\n",
      "\u001b[34m[2020-05-21:18:05:06:INFO] Sniff delimiter as ','\u001b[0m\n",
      "\u001b[34m[2020-05-21:18:05:06:INFO] Determined delimiter of CSV input is ','\u001b[0m\n",
      "\u001b[35m[2020-05-21:18:05:06:INFO] Sniff delimiter as ','\u001b[0m\n",
      "\u001b[35m[2020-05-21:18:05:06:INFO] Determined delimiter of CSV input is ','\u001b[0m\n"
     ]
    },
    {
     "name": "stdout",
     "output_type": "stream",
     "text": [
      "\n"
     ]
    }
   ],
   "source": [
    "# TODO: Using xgb_transformer, transform the new_data_location data. You may wish to **wait** until\n",
    "#       the batch transform job has finished.\n",
    "xgb_transformer.transform(new_data_location, content_type='text/csv', split_type='Line')\n",
    "xgb_transformer.wait()"
   ]
  },
  {
   "cell_type": "markdown",
   "metadata": {},
   "source": [
    "As usual, we copy the results of the batch transform job to our local instance."
   ]
  },
  {
   "cell_type": "code",
   "execution_count": 51,
   "metadata": {},
   "outputs": [
    {
     "name": "stdout",
     "output_type": "stream",
     "text": [
      "Completed 256.0 KiB/369.1 KiB (1.8 MiB/s) with 1 file(s) remaining\r",
      "Completed 369.1 KiB/369.1 KiB (2.6 MiB/s) with 1 file(s) remaining\r",
      "download: s3://sagemaker-us-west-1-731892558299/xgboost-2020-05-21-18-01-02-739/new_data.csv.out to ../data/sentiment_update/new_data.csv.out\r\n"
     ]
    }
   ],
   "source": [
    "!aws s3 cp --recursive $xgb_transformer.output_path $data_dir"
   ]
  },
  {
   "cell_type": "markdown",
   "metadata": {},
   "source": [
    "Read in the results of the batch transform job."
   ]
  },
  {
   "cell_type": "code",
   "execution_count": 52,
   "metadata": {},
   "outputs": [],
   "source": [
    "predictions = pd.read_csv(os.path.join(data_dir, 'new_data.csv.out'), header=None)\n",
    "predictions = [round(num) for num in predictions.squeeze().values]"
   ]
  },
  {
   "cell_type": "markdown",
   "metadata": {},
   "source": [
    "And check the accuracy of our current model."
   ]
  },
  {
   "cell_type": "code",
   "execution_count": 53,
   "metadata": {},
   "outputs": [
    {
     "data": {
      "text/plain": [
       "0.72672"
      ]
     },
     "execution_count": 53,
     "metadata": {},
     "output_type": "execute_result"
    }
   ],
   "source": [
    "accuracy_score(new_Y, predictions)"
   ]
  },
  {
   "cell_type": "markdown",
   "metadata": {},
   "source": [
    "So it would appear that *something* has changed since our model is no longer (as) effective at determining the sentiment of a user provided review.\n",
    "\n",
    "In a real life scenario you would check a number of different things to see what exactly is going on. In our case, we are only going to check one and that is whether some aspect of the underlying distribution has changed. In other words, we want to see if the words that appear in our new collection of reviews matches the words that appear in the original training set. Of course, we want to narrow our scope a little bit so we will only look at the `5000` most frequently appearing words in each data set, or in other words, the vocabulary generated by each data set.\n",
    "\n",
    "Before doing that, however, let's take a look at some of the incorrectly classified reviews in the new data set.\n",
    "\n",
    "To start, we will deploy the original XGBoost model. We will then use the deployed model to infer the sentiment of some of the new reviews. This will also serve as a nice excuse to deploy our model so that we can mimic a real life scenario where we have a model that has been deployed and is being used in production.\n",
    "\n",
    "**TODO:** Deploy the XGBoost model."
   ]
  },
  {
   "cell_type": "code",
   "execution_count": 54,
   "metadata": {},
   "outputs": [
    {
     "name": "stderr",
     "output_type": "stream",
     "text": [
      "WARNING:sagemaker:Using already existing model: xgboost-2020-05-21-16-56-01-110\n"
     ]
    },
    {
     "name": "stdout",
     "output_type": "stream",
     "text": [
      "-------------!"
     ]
    }
   ],
   "source": [
    "# TODO: Deploy the model that was created earlier. Recall that the object name is 'xgb'.\n",
    "xgb_predictor = None\n",
    "xgb_predictor = xgb.deploy(initial_instance_count = 1, instance_type = 'ml.m4.xlarge')"
   ]
  },
  {
   "cell_type": "markdown",
   "metadata": {},
   "source": [
    "### Diagnose the problem\n",
    "\n",
    "Now that we have our deployed \"production\" model, we can send some of our new data to it and filter out some of the incorrectly classified reviews."
   ]
  },
  {
   "cell_type": "code",
   "execution_count": 55,
   "metadata": {},
   "outputs": [],
   "source": [
    "from sagemaker.predictor import csv_serializer\n",
    "\n",
    "# We need to tell the endpoint what format the data we are sending is in so that SageMaker can perform the serialization.\n",
    "xgb_predictor.content_type = 'text/csv'\n",
    "xgb_predictor.serializer = csv_serializer"
   ]
  },
  {
   "cell_type": "markdown",
   "metadata": {},
   "source": [
    "It will be useful to look at a few different examples of incorrectly classified reviews so we will start by creating a *generator* which we will use to iterate through some of the new reviews and find ones that are incorrect.\n",
    "\n",
    "**NOTE:** Understanding what Python generators are isn't really required for this module. The reason we use them here is so that we don't have to iterate through all of the new reviews, searching for incorrectly classified samples."
   ]
  },
  {
   "cell_type": "code",
   "execution_count": 56,
   "metadata": {},
   "outputs": [],
   "source": [
    "def get_sample(in_X, in_XV, in_Y):\n",
    "    for idx, smp in enumerate(in_X):\n",
    "        res = round(float(xgb_predictor.predict(in_XV[idx])))\n",
    "        if res != in_Y[idx]:\n",
    "            yield smp, in_Y[idx]"
   ]
  },
  {
   "cell_type": "code",
   "execution_count": 57,
   "metadata": {},
   "outputs": [],
   "source": [
    "gn = get_sample( new_X, new_XV, new_Y)"
   ]
  },
  {
   "cell_type": "markdown",
   "metadata": {},
   "source": [
    "At this point, `gn` is the *generator* which generates samples from the new data set which are not classified correctly. To get the *next* sample we simply call the `next` method on our generator."
   ]
  },
  {
   "cell_type": "code",
   "execution_count": 58,
   "metadata": {},
   "outputs": [
    {
     "name": "stdout",
     "output_type": "stream",
     "text": [
      "(['polit', 'documentari', 'recent', 'vintag', 'call', 'fight', 'tri', 'examin', 'infam', 'militari', 'industri', 'complex', 'grip', 'nation', 'consid', 'polem', 'incis', 'make', 'case', 'complex', 'war', 'fiasco', 'current', 'involv', 'iraq', 'yet', 'far', 'famou', 'seri', 'film', 'name', 'made', 'world', 'war', 'two', 'hollywood', 'director', 'frank', 'capra', 'although', 'consid', 'documentari', 'oscar', 'categori', 'seri', 'seven', 'film', 'realli', 'truli', 'mere', 'agitprop', 'vein', 'leni', 'reifenst', 'triumph', 'scene', 'capra', 'recycl', 'purpos', 'said', 'fact', 'mean', 'vital', 'inform', 'subsequ', 'gener', 'world', 'war', 'two', 'documentari', 'bbc', 'laud', 'world', 'war', 'lack', 'mean', 'valu', 'primari', 'sourc', 'less', 'valuabl', 'skill', 'made', 'recent', 'purchas', 'use', 'dvd', 'discount', 'store', 'found', 'opportun', 'select', 'free', 'dvd', 'purchas', 'chose', 'goodtim', 'dvd', 'four', 'dvd', 'collect', 'seri', 'rare', 'someth', 'free', 'worth', 'invalu', 'extra', 'dvd', 'sound', 'qualiti', 'print', 'vari', 'film', 'provid', 'insight', 'mind', 'american', 'two', 'third', 'centuri', 'ago', 'racism', 'overt', 'mani', 'classic', 'warner', 'brother', 'pro', 'war', 'cartoon', 'era', 'noth', 'wrong', 'blatant', 'distort', 'fact', 'seven', 'film', 'produc', '1942', '1945', 'prelud', 'war', 'nazi', 'strike', 'divid', 'conquer', 'battl', 'britain', 'battl', 'russia', 'battl', 'china', 'war', 'come', 'america', 'overal', 'film', 'seri', 'well', 'worth', 'watch', 'obviou', 'reason', 'subtl', 'thing', 'reveal', 'use', 'plural', 'term', 'like', 'x', 'million', 'refer', 'dollar', 'rather', 'modern', 'singular', 'overus', 'graphic', 'whole', 'seri', 'japanes', 'sword', 'pierc', 'center', 'manchuria', 'yet', 'also', 'show', 'complex', 'tri', 'appli', 'past', 'standard', 'current', 'war', 'lesson', 'world', 'war', 'one', 'avoid', 'foreign', 'entangl', 'applic', 'world', 'war', 'two', 'whose', 'lesson', 'act', 'earli', 'dictatorship', 'applic', 'three', 'major', 'war', 'america', 'fought', 'sinc', 'korea', 'vietnam', 'iraq', 'fact', 'much', 'seri', 'teeter', 'uncertainti', 'time', 'made', 'underscor', 'histor', 'valu', 'today', 'inform', 'clog', 'time', 'may', 'help', 'sort', 'truth', 'lie', 'propaganda', 'today', 'least', 'realiz', 'first', 'tenuou', 'posit', 'last'], 1)\n"
     ]
    }
   ],
   "source": [
    "print(next(gn))"
   ]
  },
  {
   "cell_type": "markdown",
   "metadata": {},
   "source": [
    "After looking at a few examples, maybe we decide to look at the most frequently appearing `5000` words in each data set, the original training data set and the new data set. The reason for looking at this might be that we expect the frequency of use of different words to have changed, maybe there is some new slang that has been introduced or some other artifact of popular culture that has changed the way that people write movie reviews.\n",
    "\n",
    "To do this, we start by fitting a `CountVectorizer` to the new data."
   ]
  },
  {
   "cell_type": "code",
   "execution_count": 59,
   "metadata": {},
   "outputs": [
    {
     "data": {
      "text/plain": [
       "CountVectorizer(analyzer='word', binary=False, decode_error='strict',\n",
       "        dtype=<class 'numpy.int64'>, encoding='utf-8', input='content',\n",
       "        lowercase=True, max_df=1.0, max_features=5000, min_df=1,\n",
       "        ngram_range=(1, 1),\n",
       "        preprocessor=<function <lambda> at 0x7efbc325c0d0>,\n",
       "        stop_words=None, strip_accents=None,\n",
       "        token_pattern='(?u)\\\\b\\\\w\\\\w+\\\\b',\n",
       "        tokenizer=<function <lambda> at 0x7efbc325c1e0>, vocabulary=None)"
      ]
     },
     "execution_count": 59,
     "metadata": {},
     "output_type": "execute_result"
    }
   ],
   "source": [
    "new_vectorizer = CountVectorizer(max_features=5000,\n",
    "                preprocessor=lambda x: x, tokenizer=lambda x: x)\n",
    "new_vectorizer.fit(new_X)"
   ]
  },
  {
   "cell_type": "markdown",
   "metadata": {},
   "source": [
    "Now that we have this new `CountVectorizor` object, we can check to see if the corresponding vocabulary has changed between the two data sets."
   ]
  },
  {
   "cell_type": "code",
   "execution_count": 60,
   "metadata": {},
   "outputs": [],
   "source": [
    "original_vocabulary = set(vocabulary.keys())\n",
    "new_vocabulary = set(new_vectorizer.vocabulary_.keys())"
   ]
  },
  {
   "cell_type": "markdown",
   "metadata": {},
   "source": [
    "We can look at the words that were in the original vocabulary but not in the new vocabulary."
   ]
  },
  {
   "cell_type": "code",
   "execution_count": 61,
   "metadata": {},
   "outputs": [
    {
     "name": "stdout",
     "output_type": "stream",
     "text": [
      "{'21st', 'victorian', 'reincarn', 'spill', 'weari', 'ghetto', 'playboy'}\n"
     ]
    }
   ],
   "source": [
    "print(original_vocabulary - new_vocabulary)"
   ]
  },
  {
   "cell_type": "markdown",
   "metadata": {},
   "source": [
    "And similarly, we can look at the words that are in the new vocabulary but which were not in the original vocabulary."
   ]
  },
  {
   "cell_type": "code",
   "execution_count": 62,
   "metadata": {},
   "outputs": [
    {
     "name": "stdout",
     "output_type": "stream",
     "text": [
      "{'banana', 'sophi', 'orchestr', 'dubiou', 'omin', 'optimist', 'masterson'}\n"
     ]
    }
   ],
   "source": [
    "print(new_vocabulary - original_vocabulary)"
   ]
  },
  {
   "cell_type": "markdown",
   "metadata": {},
   "source": [
    "These words themselves don't tell us much, however if one of these words occured with a large frequency, that might tell us something. In particular, we wouldn't really expect any of the words above to appear with too much frequency.\n",
    "\n",
    "**Question** What exactly is going on here. Not only what (if any) words appear with a larger than expected frequency but also, what does this mean? What has changed about the world that our original model no longer takes into account?\n",
    "\n",
    "**NOTE:** This is meant to be a very open ended question. To investigate you may need more cells than the one provided below. Also, there isn't really a *correct* answer, this is meant to be an opportunity to explore the data."
   ]
  },
  {
   "cell_type": "code",
   "execution_count": 63,
   "metadata": {},
   "outputs": [],
   "source": [
    "# Potential changes: 1, words are different, 2 word frequency i.e. certain words will have more impact than others b/c of frequency.\n",
    "# Frequency affected impact of those imput feature/nodes in the model"
   ]
  },
  {
   "cell_type": "markdown",
   "metadata": {},
   "source": [
    "### (TODO) Build a new model\n",
    "\n",
    "Supposing that we believe something has changed about the underlying distribution of the words that our reviews are made up of, we need to create a new model. This way our new model will take into account whatever it is that has changed.\n",
    "\n",
    "To begin with, we will use the new vocabulary to create a bag of words encoding of the new data. We will then use this data to train a new XGBoost model.\n",
    "\n",
    "**NOTE:** Because we believe that the underlying distribution of words has changed it should follow that the original vocabulary that we used to construct a bag of words encoding of the reviews is no longer valid. This means that we need to be careful with our data. If we send an bag of words encoded review using the *original* vocabulary we should not expect any sort of meaningful results.\n",
    "\n",
    "In particular, this means that if we had deployed our XGBoost model like we did in the Web App notebook then we would need to implement this vocabulary change in the Lambda function as well."
   ]
  },
  {
   "cell_type": "code",
   "execution_count": 64,
   "metadata": {},
   "outputs": [],
   "source": [
    "new_XV = new_vectorizer.transform(new_X).toarray()"
   ]
  },
  {
   "cell_type": "markdown",
   "metadata": {},
   "source": [
    "And a quick check to make sure that the newly encoded reviews have the correct length, which should be the size of the new vocabulary which we created."
   ]
  },
  {
   "cell_type": "code",
   "execution_count": 65,
   "metadata": {},
   "outputs": [
    {
     "data": {
      "text/plain": [
       "5000"
      ]
     },
     "execution_count": 65,
     "metadata": {},
     "output_type": "execute_result"
    }
   ],
   "source": [
    "len(new_XV[0])"
   ]
  },
  {
   "cell_type": "markdown",
   "metadata": {},
   "source": [
    "Now that we have our newly encoded, newly collected data, we can split it up into a training and validation set so that we can train a new XGBoost model. As usual, we first split up the data, then save it locally and then upload it to S3."
   ]
  },
  {
   "cell_type": "code",
   "execution_count": 66,
   "metadata": {},
   "outputs": [],
   "source": [
    "import pandas as pd\n",
    "\n",
    "# Earlier we shuffled the training dataset so to make things simple we can just assign\n",
    "# the first 10 000 reviews to the validation set and use the remaining reviews for training.\n",
    "new_val_X = pd.DataFrame(new_XV[:10000])\n",
    "new_train_X = pd.DataFrame(new_XV[10000:])\n",
    "\n",
    "new_val_y = pd.DataFrame(new_Y[:10000])\n",
    "new_train_y = pd.DataFrame(new_Y[10000:])"
   ]
  },
  {
   "cell_type": "markdown",
   "metadata": {},
   "source": [
    "In order to save some memory we will effectively delete the `new_X` variable. Remember that this contained a list of reviews and each review was a list of words. Note that once this cell has been executed you will need to read the new data in again if you want to work with it."
   ]
  },
  {
   "cell_type": "code",
   "execution_count": 67,
   "metadata": {},
   "outputs": [],
   "source": [
    "new_X = None"
   ]
  },
  {
   "cell_type": "markdown",
   "metadata": {},
   "source": [
    "Next we save the new training and validation sets locally. Note that we overwrite the training and validation sets used earlier. This is mostly because the amount of space that we have available on our notebook instance is limited. Of course, you can increase this if you'd like but to do so may increase the cost of running the notebook instance."
   ]
  },
  {
   "cell_type": "code",
   "execution_count": 68,
   "metadata": {},
   "outputs": [],
   "source": [
    "pd.DataFrame(new_XV).to_csv(os.path.join(data_dir, 'new_data.csv'), header=False, index=False)\n",
    "\n",
    "pd.concat([new_val_y, new_val_X], axis=1).to_csv(os.path.join(data_dir, 'new_validation.csv'), header=False, index=False)\n",
    "pd.concat([new_train_y, new_train_X], axis=1).to_csv(os.path.join(data_dir, 'new_train.csv'), header=False, index=False)"
   ]
  },
  {
   "cell_type": "markdown",
   "metadata": {},
   "source": [
    "Now that we've saved our data to the local instance, we can safely delete the variables to save on memory."
   ]
  },
  {
   "cell_type": "code",
   "execution_count": 69,
   "metadata": {},
   "outputs": [],
   "source": [
    "new_val_y = new_val_X = new_train_y = new_train_X = new_XV = None"
   ]
  },
  {
   "cell_type": "markdown",
   "metadata": {},
   "source": [
    "Lastly, we make sure to upload the new training and validation sets to S3.\n",
    "\n",
    "**TODO:** Upload the new data as well as the new training and validation data sets to S3."
   ]
  },
  {
   "cell_type": "code",
   "execution_count": 70,
   "metadata": {},
   "outputs": [],
   "source": [
    "# TODO: Upload the new data and the new validation.csv and train.csv files in the data_dir directory to S3.\n",
    "new_data_location = None\n",
    "new_val_location = None\n",
    "new_train_location = None\n",
    "\n",
    "new_data_location = session.upload_data(os.path.join(data_dir, 'new_data.csv'), key_prefix=prefix)\n",
    "new_val_location = session.upload_data(os.path.join(data_dir, 'new_validation.csv'), key_prefix=prefix)\n",
    "new_train_location = session.upload_data(os.path.join(data_dir, 'new_train.csv'), key_prefix=prefix)"
   ]
  },
  {
   "cell_type": "markdown",
   "metadata": {},
   "source": [
    "Once our new training data has been uploaded to S3, we can create a new XGBoost model that will take into account the changes that have occured in our data set.\n",
    "\n",
    "**TODO:** Create a new XGBoost estimator object."
   ]
  },
  {
   "cell_type": "code",
   "execution_count": 71,
   "metadata": {},
   "outputs": [],
   "source": [
    "# TODO: First, create a SageMaker estimator object for our model.\n",
    "new_xgb = None\n",
    "\n",
    "new_xgb = sagemaker.estimator.Estimator(container, # The location of the container we wish to use\n",
    "                                    role,                                    # What is our current IAM Role\n",
    "                                    train_instance_count=1,                  # How many compute instances\n",
    "                                    train_instance_type='ml.m4.xlarge',      # What kind of compute instances\n",
    "                                    output_path='s3://{}/{}/output'.format(session.default_bucket(), prefix),\n",
    "                                    sagemaker_session=session)\n",
    "\n",
    "# TODO: Then set the algorithm specific parameters. You may wish to use the same parameters that were\n",
    "#       used when training the original model.\n",
    "\n",
    "new_xgb.set_hyperparameters(max_depth=5,\n",
    "                        eta=0.2,\n",
    "                        gamma=4,\n",
    "                        min_child_weight=6,\n",
    "                        subsample=0.8,\n",
    "                        silent=0,\n",
    "                        objective='binary:logistic',\n",
    "                        early_stopping_rounds=10,\n",
    "                        num_round=500)"
   ]
  },
  {
   "cell_type": "markdown",
   "metadata": {},
   "source": [
    "Once the model has been created, we can train it with our new data.\n",
    "\n",
    "**TODO:** Train the new XGBoost model."
   ]
  },
  {
   "cell_type": "code",
   "execution_count": 72,
   "metadata": {},
   "outputs": [],
   "source": [
    "# TODO: First, make sure that you create s3 input objects so that SageMaker knows where to\n",
    "#       find the training and validation data.\n",
    "s3_new_input_train = None\n",
    "s3_new_input_validation = None\n",
    "\n",
    "s3_new_input_train = sagemaker.s3_input(s3_data=new_train_location, content_type='csv')\n",
    "s3_new_input_validation = sagemaker.s3_input(s3_data=new_val_location, content_type='csv')"
   ]
  },
  {
   "cell_type": "code",
   "execution_count": 74,
   "metadata": {},
   "outputs": [
    {
     "name": "stdout",
     "output_type": "stream",
     "text": [
      "2020-05-21 23:01:33 Starting - Starting the training job...\n",
      "2020-05-21 23:01:34 Starting - Launching requested ML instances......\n",
      "2020-05-21 23:02:41 Starting - Preparing the instances for training...\n",
      "2020-05-21 23:03:28 Downloading - Downloading input data...\n",
      "2020-05-21 23:04:01 Training - Downloading the training image...\n",
      "2020-05-21 23:04:20 Training - Training image download completed. Training in progress.\u001b[34mArguments: train\u001b[0m\n",
      "\u001b[34m[2020-05-21:23:04:20:INFO] Running standalone xgboost training.\u001b[0m\n",
      "\u001b[34m[2020-05-21:23:04:21:INFO] File size need to be processed in the node: 238.47mb. Available memory size in the node: 8471.45mb\u001b[0m\n",
      "\u001b[34m[2020-05-21:23:04:21:INFO] Determined delimiter of CSV input is ','\u001b[0m\n",
      "\u001b[34m[23:04:20] S3DistributionType set as FullyReplicated\u001b[0m\n",
      "\u001b[34m[23:04:22] 15000x5000 matrix with 75000000 entries loaded from /opt/ml/input/data/train?format=csv&label_column=0&delimiter=,\u001b[0m\n",
      "\u001b[34m[2020-05-21:23:04:23:INFO] Determined delimiter of CSV input is ','\u001b[0m\n",
      "\u001b[34m[23:04:23] S3DistributionType set as FullyReplicated\u001b[0m\n",
      "\u001b[34m[23:04:24] 10000x5000 matrix with 50000000 entries loaded from /opt/ml/input/data/validation?format=csv&label_column=0&delimiter=,\u001b[0m\n",
      "\u001b[34m[23:04:27] src/tree/updater_prune.cc:74: tree pruning end, 1 roots, 46 extra nodes, 2 pruned nodes, max_depth=5\u001b[0m\n",
      "\u001b[34m[0]#011train-error:0.312267#011validation-error:0.318\u001b[0m\n",
      "\u001b[34mMultiple eval metrics have been passed: 'validation-error' will be used for early stopping.\n",
      "\u001b[0m\n",
      "\u001b[34mWill train until validation-error hasn't improved in 10 rounds.\u001b[0m\n",
      "\u001b[34m[23:04:29] src/tree/updater_prune.cc:74: tree pruning end, 1 roots, 40 extra nodes, 6 pruned nodes, max_depth=5\u001b[0m\n",
      "\u001b[34m[1]#011train-error:0.294333#011validation-error:0.3008\u001b[0m\n",
      "\u001b[34m[23:04:30] src/tree/updater_prune.cc:74: tree pruning end, 1 roots, 42 extra nodes, 8 pruned nodes, max_depth=5\u001b[0m\n",
      "\u001b[34m[2]#011train-error:0.276867#011validation-error:0.2857\u001b[0m\n",
      "\u001b[34m[23:04:32] src/tree/updater_prune.cc:74: tree pruning end, 1 roots, 44 extra nodes, 8 pruned nodes, max_depth=5\u001b[0m\n",
      "\u001b[34m[3]#011train-error:0.265733#011validation-error:0.2792\u001b[0m\n",
      "\u001b[34m[23:04:33] src/tree/updater_prune.cc:74: tree pruning end, 1 roots, 40 extra nodes, 8 pruned nodes, max_depth=5\u001b[0m\n",
      "\u001b[34m[4]#011train-error:0.264067#011validation-error:0.2767\u001b[0m\n",
      "\u001b[34m[23:04:34] src/tree/updater_prune.cc:74: tree pruning end, 1 roots, 30 extra nodes, 8 pruned nodes, max_depth=5\u001b[0m\n",
      "\u001b[34m[5]#011train-error:0.2588#011validation-error:0.2697\u001b[0m\n",
      "\u001b[34m[23:04:35] src/tree/updater_prune.cc:74: tree pruning end, 1 roots, 38 extra nodes, 2 pruned nodes, max_depth=5\u001b[0m\n",
      "\u001b[34m[6]#011train-error:0.2522#011validation-error:0.263\u001b[0m\n",
      "\u001b[34m[23:04:37] src/tree/updater_prune.cc:74: tree pruning end, 1 roots, 38 extra nodes, 6 pruned nodes, max_depth=5\u001b[0m\n",
      "\u001b[34m[7]#011train-error:0.251667#011validation-error:0.2626\u001b[0m\n",
      "\u001b[34m[23:04:38] src/tree/updater_prune.cc:74: tree pruning end, 1 roots, 40 extra nodes, 6 pruned nodes, max_depth=5\u001b[0m\n",
      "\u001b[34m[8]#011train-error:0.244733#011validation-error:0.2572\u001b[0m\n",
      "\u001b[34m[23:04:39] src/tree/updater_prune.cc:74: tree pruning end, 1 roots, 34 extra nodes, 6 pruned nodes, max_depth=5\u001b[0m\n",
      "\u001b[34m[9]#011train-error:0.2414#011validation-error:0.2549\u001b[0m\n",
      "\u001b[34m[23:04:40] src/tree/updater_prune.cc:74: tree pruning end, 1 roots, 34 extra nodes, 4 pruned nodes, max_depth=5\u001b[0m\n",
      "\u001b[34m[10]#011train-error:0.2344#011validation-error:0.248\u001b[0m\n",
      "\u001b[34m[23:04:42] src/tree/updater_prune.cc:74: tree pruning end, 1 roots, 40 extra nodes, 8 pruned nodes, max_depth=5\u001b[0m\n",
      "\u001b[34m[11]#011train-error:0.2272#011validation-error:0.2448\u001b[0m\n",
      "\u001b[34m[23:04:43] src/tree/updater_prune.cc:74: tree pruning end, 1 roots, 38 extra nodes, 2 pruned nodes, max_depth=5\u001b[0m\n",
      "\u001b[34m[12]#011train-error:0.225933#011validation-error:0.243\u001b[0m\n",
      "\u001b[34m[23:04:44] src/tree/updater_prune.cc:74: tree pruning end, 1 roots, 34 extra nodes, 10 pruned nodes, max_depth=5\u001b[0m\n",
      "\u001b[34m[13]#011train-error:0.223867#011validation-error:0.2402\u001b[0m\n",
      "\u001b[34m[23:04:46] src/tree/updater_prune.cc:74: tree pruning end, 1 roots, 36 extra nodes, 8 pruned nodes, max_depth=5\u001b[0m\n",
      "\u001b[34m[14]#011train-error:0.217733#011validation-error:0.2374\u001b[0m\n",
      "\u001b[34m[23:04:47] src/tree/updater_prune.cc:74: tree pruning end, 1 roots, 34 extra nodes, 8 pruned nodes, max_depth=5\u001b[0m\n",
      "\u001b[34m[15]#011train-error:0.216267#011validation-error:0.2329\u001b[0m\n",
      "\u001b[34m[23:04:48] src/tree/updater_prune.cc:74: tree pruning end, 1 roots, 40 extra nodes, 4 pruned nodes, max_depth=5\u001b[0m\n",
      "\u001b[34m[16]#011train-error:0.212867#011validation-error:0.2301\u001b[0m\n",
      "\u001b[34m[23:04:49] src/tree/updater_prune.cc:74: tree pruning end, 1 roots, 38 extra nodes, 6 pruned nodes, max_depth=5\u001b[0m\n",
      "\u001b[34m[17]#011train-error:0.207333#011validation-error:0.2259\u001b[0m\n",
      "\u001b[34m[23:04:51] src/tree/updater_prune.cc:74: tree pruning end, 1 roots, 24 extra nodes, 10 pruned nodes, max_depth=5\u001b[0m\n",
      "\u001b[34m[18]#011train-error:0.204133#011validation-error:0.2234\u001b[0m\n",
      "\u001b[34m[23:04:52] src/tree/updater_prune.cc:74: tree pruning end, 1 roots, 36 extra nodes, 8 pruned nodes, max_depth=5\u001b[0m\n",
      "\u001b[34m[19]#011train-error:0.2014#011validation-error:0.2208\u001b[0m\n",
      "\u001b[34m[23:04:53] src/tree/updater_prune.cc:74: tree pruning end, 1 roots, 22 extra nodes, 10 pruned nodes, max_depth=5\u001b[0m\n",
      "\u001b[34m[20]#011train-error:0.199133#011validation-error:0.2208\u001b[0m\n",
      "\u001b[34m[23:04:54] src/tree/updater_prune.cc:74: tree pruning end, 1 roots, 30 extra nodes, 10 pruned nodes, max_depth=5\u001b[0m\n",
      "\u001b[34m[21]#011train-error:0.198267#011validation-error:0.2197\u001b[0m\n",
      "\u001b[34m[23:04:56] src/tree/updater_prune.cc:74: tree pruning end, 1 roots, 32 extra nodes, 4 pruned nodes, max_depth=5\u001b[0m\n",
      "\u001b[34m[22]#011train-error:0.1972#011validation-error:0.2174\u001b[0m\n",
      "\u001b[34m[23:04:57] src/tree/updater_prune.cc:74: tree pruning end, 1 roots, 36 extra nodes, 10 pruned nodes, max_depth=5\u001b[0m\n",
      "\u001b[34m[23]#011train-error:0.193333#011validation-error:0.2162\u001b[0m\n",
      "\u001b[34m[23:04:58] src/tree/updater_prune.cc:74: tree pruning end, 1 roots, 46 extra nodes, 4 pruned nodes, max_depth=5\u001b[0m\n",
      "\u001b[34m[24]#011train-error:0.190333#011validation-error:0.2135\u001b[0m\n",
      "\u001b[34m[23:05:00] src/tree/updater_prune.cc:74: tree pruning end, 1 roots, 32 extra nodes, 10 pruned nodes, max_depth=5\u001b[0m\n",
      "\u001b[34m[25]#011train-error:0.1872#011validation-error:0.2135\u001b[0m\n",
      "\u001b[34m[23:05:01] src/tree/updater_prune.cc:74: tree pruning end, 1 roots, 24 extra nodes, 10 pruned nodes, max_depth=5\u001b[0m\n",
      "\u001b[34m[26]#011train-error:0.183867#011validation-error:0.2112\u001b[0m\n",
      "\u001b[34m[23:05:02] src/tree/updater_prune.cc:74: tree pruning end, 1 roots, 34 extra nodes, 14 pruned nodes, max_depth=5\u001b[0m\n",
      "\u001b[34m[27]#011train-error:0.181333#011validation-error:0.2096\u001b[0m\n",
      "\u001b[34m[23:05:03] src/tree/updater_prune.cc:74: tree pruning end, 1 roots, 24 extra nodes, 12 pruned nodes, max_depth=5\u001b[0m\n",
      "\u001b[34m[28]#011train-error:0.1796#011validation-error:0.2081\u001b[0m\n",
      "\u001b[34m[23:05:05] src/tree/updater_prune.cc:74: tree pruning end, 1 roots, 46 extra nodes, 8 pruned nodes, max_depth=5\u001b[0m\n",
      "\u001b[34m[29]#011train-error:0.175#011validation-error:0.2057\u001b[0m\n",
      "\u001b[34m[23:05:06] src/tree/updater_prune.cc:74: tree pruning end, 1 roots, 28 extra nodes, 10 pruned nodes, max_depth=5\u001b[0m\n",
      "\u001b[34m[30]#011train-error:0.1754#011validation-error:0.2054\u001b[0m\n",
      "\u001b[34m[23:05:07] src/tree/updater_prune.cc:74: tree pruning end, 1 roots, 44 extra nodes, 6 pruned nodes, max_depth=5\u001b[0m\n",
      "\u001b[34m[31]#011train-error:0.172667#011validation-error:0.2039\u001b[0m\n",
      "\u001b[34m[23:05:08] src/tree/updater_prune.cc:74: tree pruning end, 1 roots, 28 extra nodes, 8 pruned nodes, max_depth=5\u001b[0m\n",
      "\u001b[34m[32]#011train-error:0.1714#011validation-error:0.2022\u001b[0m\n",
      "\u001b[34m[23:05:10] src/tree/updater_prune.cc:74: tree pruning end, 1 roots, 24 extra nodes, 8 pruned nodes, max_depth=5\u001b[0m\n",
      "\u001b[34m[33]#011train-error:0.171067#011validation-error:0.2006\u001b[0m\n",
      "\u001b[34m[23:05:11] src/tree/updater_prune.cc:74: tree pruning end, 1 roots, 34 extra nodes, 8 pruned nodes, max_depth=5\u001b[0m\n",
      "\u001b[34m[34]#011train-error:0.1706#011validation-error:0.2009\u001b[0m\n",
      "\u001b[34m[23:05:12] src/tree/updater_prune.cc:74: tree pruning end, 1 roots, 18 extra nodes, 14 pruned nodes, max_depth=5\u001b[0m\n",
      "\u001b[34m[35]#011train-error:0.1704#011validation-error:0.2001\u001b[0m\n",
      "\u001b[34m[23:05:13] src/tree/updater_prune.cc:74: tree pruning end, 1 roots, 24 extra nodes, 12 pruned nodes, max_depth=5\u001b[0m\n",
      "\u001b[34m[36]#011train-error:0.168467#011validation-error:0.1986\u001b[0m\n",
      "\u001b[34m[23:05:15] src/tree/updater_prune.cc:74: tree pruning end, 1 roots, 28 extra nodes, 2 pruned nodes, max_depth=5\u001b[0m\n",
      "\u001b[34m[37]#011train-error:0.1666#011validation-error:0.1981\u001b[0m\n",
      "\u001b[34m[23:05:16] src/tree/updater_prune.cc:74: tree pruning end, 1 roots, 24 extra nodes, 6 pruned nodes, max_depth=5\u001b[0m\n",
      "\u001b[34m[38]#011train-error:0.1668#011validation-error:0.1978\u001b[0m\n",
      "\u001b[34m[23:05:17] src/tree/updater_prune.cc:74: tree pruning end, 1 roots, 20 extra nodes, 4 pruned nodes, max_depth=5\u001b[0m\n",
      "\u001b[34m[39]#011train-error:0.164133#011validation-error:0.1968\u001b[0m\n"
     ]
    },
    {
     "name": "stdout",
     "output_type": "stream",
     "text": [
      "\u001b[34m[23:05:19] src/tree/updater_prune.cc:74: tree pruning end, 1 roots, 32 extra nodes, 16 pruned nodes, max_depth=5\u001b[0m\n",
      "\u001b[34m[40]#011train-error:0.1648#011validation-error:0.1961\u001b[0m\n",
      "\u001b[34m[23:05:20] src/tree/updater_prune.cc:74: tree pruning end, 1 roots, 28 extra nodes, 14 pruned nodes, max_depth=5\u001b[0m\n",
      "\u001b[34m[41]#011train-error:0.163933#011validation-error:0.1951\u001b[0m\n",
      "\u001b[34m[23:05:21] src/tree/updater_prune.cc:74: tree pruning end, 1 roots, 30 extra nodes, 10 pruned nodes, max_depth=5\u001b[0m\n",
      "\u001b[34m[42]#011train-error:0.162667#011validation-error:0.1937\u001b[0m\n",
      "\u001b[34m[23:05:22] src/tree/updater_prune.cc:74: tree pruning end, 1 roots, 20 extra nodes, 4 pruned nodes, max_depth=5\u001b[0m\n",
      "\u001b[34m[43]#011train-error:0.160467#011validation-error:0.193\u001b[0m\n",
      "\u001b[34m[23:05:24] src/tree/updater_prune.cc:74: tree pruning end, 1 roots, 22 extra nodes, 8 pruned nodes, max_depth=5\u001b[0m\n",
      "\u001b[34m[44]#011train-error:0.159467#011validation-error:0.1931\u001b[0m\n",
      "\u001b[34m[23:05:25] src/tree/updater_prune.cc:74: tree pruning end, 1 roots, 30 extra nodes, 6 pruned nodes, max_depth=5\u001b[0m\n",
      "\u001b[34m[45]#011train-error:0.157867#011validation-error:0.1935\u001b[0m\n",
      "\u001b[34m[23:05:26] src/tree/updater_prune.cc:74: tree pruning end, 1 roots, 18 extra nodes, 4 pruned nodes, max_depth=5\u001b[0m\n",
      "\u001b[34m[46]#011train-error:0.157533#011validation-error:0.1931\u001b[0m\n",
      "\u001b[34m[23:05:27] src/tree/updater_prune.cc:74: tree pruning end, 1 roots, 32 extra nodes, 4 pruned nodes, max_depth=5\u001b[0m\n",
      "\u001b[34m[47]#011train-error:0.1564#011validation-error:0.1909\u001b[0m\n",
      "\u001b[34m[23:05:29] src/tree/updater_prune.cc:74: tree pruning end, 1 roots, 34 extra nodes, 14 pruned nodes, max_depth=5\u001b[0m\n",
      "\u001b[34m[48]#011train-error:0.1534#011validation-error:0.1895\u001b[0m\n",
      "\u001b[34m[23:05:30] src/tree/updater_prune.cc:74: tree pruning end, 1 roots, 36 extra nodes, 4 pruned nodes, max_depth=5\u001b[0m\n",
      "\u001b[34m[49]#011train-error:0.151667#011validation-error:0.189\u001b[0m\n",
      "\u001b[34m[23:05:31] src/tree/updater_prune.cc:74: tree pruning end, 1 roots, 26 extra nodes, 12 pruned nodes, max_depth=5\u001b[0m\n",
      "\u001b[34m[50]#011train-error:0.149867#011validation-error:0.1882\u001b[0m\n",
      "\u001b[34m[23:05:32] src/tree/updater_prune.cc:74: tree pruning end, 1 roots, 18 extra nodes, 8 pruned nodes, max_depth=5\u001b[0m\n",
      "\u001b[34m[51]#011train-error:0.1498#011validation-error:0.1875\u001b[0m\n",
      "\u001b[34m[23:05:34] src/tree/updater_prune.cc:74: tree pruning end, 1 roots, 28 extra nodes, 2 pruned nodes, max_depth=5\u001b[0m\n",
      "\u001b[34m[52]#011train-error:0.147733#011validation-error:0.1873\u001b[0m\n",
      "\u001b[34m[23:05:35] src/tree/updater_prune.cc:74: tree pruning end, 1 roots, 24 extra nodes, 12 pruned nodes, max_depth=5\u001b[0m\n",
      "\u001b[34m[53]#011train-error:0.147067#011validation-error:0.1874\u001b[0m\n",
      "\u001b[34m[23:05:36] src/tree/updater_prune.cc:74: tree pruning end, 1 roots, 28 extra nodes, 4 pruned nodes, max_depth=5\u001b[0m\n",
      "\u001b[34m[54]#011train-error:0.145867#011validation-error:0.1867\u001b[0m\n",
      "\u001b[34m[23:05:37] src/tree/updater_prune.cc:74: tree pruning end, 1 roots, 30 extra nodes, 8 pruned nodes, max_depth=5\u001b[0m\n",
      "\u001b[34m[55]#011train-error:0.1454#011validation-error:0.1865\u001b[0m\n",
      "\u001b[34m[23:05:39] src/tree/updater_prune.cc:74: tree pruning end, 1 roots, 18 extra nodes, 14 pruned nodes, max_depth=5\u001b[0m\n",
      "\u001b[34m[56]#011train-error:0.1452#011validation-error:0.1882\u001b[0m\n",
      "\u001b[34m[23:05:40] src/tree/updater_prune.cc:74: tree pruning end, 1 roots, 24 extra nodes, 8 pruned nodes, max_depth=5\u001b[0m\n",
      "\u001b[34m[57]#011train-error:0.144333#011validation-error:0.1873\u001b[0m\n",
      "\u001b[34m[23:05:41] src/tree/updater_prune.cc:74: tree pruning end, 1 roots, 26 extra nodes, 4 pruned nodes, max_depth=5\u001b[0m\n",
      "\u001b[34m[58]#011train-error:0.144933#011validation-error:0.1866\u001b[0m\n",
      "\u001b[34m[23:05:42] src/tree/updater_prune.cc:74: tree pruning end, 1 roots, 20 extra nodes, 8 pruned nodes, max_depth=5\u001b[0m\n",
      "\u001b[34m[59]#011train-error:0.1428#011validation-error:0.1865\u001b[0m\n",
      "\u001b[34m[23:05:44] src/tree/updater_prune.cc:74: tree pruning end, 1 roots, 28 extra nodes, 12 pruned nodes, max_depth=5\u001b[0m\n",
      "\u001b[34m[60]#011train-error:0.1422#011validation-error:0.1861\u001b[0m\n",
      "\u001b[34m[23:05:45] src/tree/updater_prune.cc:74: tree pruning end, 1 roots, 10 extra nodes, 4 pruned nodes, max_depth=5\u001b[0m\n",
      "\u001b[34m[61]#011train-error:0.141733#011validation-error:0.1858\u001b[0m\n",
      "\u001b[34m[23:05:46] src/tree/updater_prune.cc:74: tree pruning end, 1 roots, 18 extra nodes, 8 pruned nodes, max_depth=5\u001b[0m\n",
      "\u001b[34m[62]#011train-error:0.140467#011validation-error:0.1849\u001b[0m\n",
      "\u001b[34m[23:05:48] src/tree/updater_prune.cc:74: tree pruning end, 1 roots, 26 extra nodes, 6 pruned nodes, max_depth=5\u001b[0m\n",
      "\u001b[34m[63]#011train-error:0.139333#011validation-error:0.1845\u001b[0m\n",
      "\u001b[34m[23:05:49] src/tree/updater_prune.cc:74: tree pruning end, 1 roots, 24 extra nodes, 6 pruned nodes, max_depth=5\u001b[0m\n",
      "\u001b[34m[64]#011train-error:0.139133#011validation-error:0.185\u001b[0m\n",
      "\u001b[34m[23:05:50] src/tree/updater_prune.cc:74: tree pruning end, 1 roots, 34 extra nodes, 6 pruned nodes, max_depth=5\u001b[0m\n",
      "\u001b[34m[65]#011train-error:0.138467#011validation-error:0.1853\u001b[0m\n",
      "\u001b[34m[23:05:51] src/tree/updater_prune.cc:74: tree pruning end, 1 roots, 20 extra nodes, 8 pruned nodes, max_depth=5\u001b[0m\n",
      "\u001b[34m[66]#011train-error:0.1382#011validation-error:0.1852\u001b[0m\n",
      "\u001b[34m[23:05:53] src/tree/updater_prune.cc:74: tree pruning end, 1 roots, 26 extra nodes, 10 pruned nodes, max_depth=5\u001b[0m\n",
      "\u001b[34m[67]#011train-error:0.137533#011validation-error:0.1841\u001b[0m\n",
      "\u001b[34m[23:05:54] src/tree/updater_prune.cc:74: tree pruning end, 1 roots, 28 extra nodes, 12 pruned nodes, max_depth=5\u001b[0m\n",
      "\u001b[34m[68]#011train-error:0.136867#011validation-error:0.1836\u001b[0m\n",
      "\u001b[34m[23:05:55] src/tree/updater_prune.cc:74: tree pruning end, 1 roots, 22 extra nodes, 4 pruned nodes, max_depth=5\u001b[0m\n",
      "\u001b[34m[69]#011train-error:0.136133#011validation-error:0.1838\u001b[0m\n",
      "\u001b[34m[23:05:56] src/tree/updater_prune.cc:74: tree pruning end, 1 roots, 24 extra nodes, 6 pruned nodes, max_depth=5\u001b[0m\n",
      "\u001b[34m[70]#011train-error:0.1352#011validation-error:0.1839\u001b[0m\n",
      "\u001b[34m[23:05:58] src/tree/updater_prune.cc:74: tree pruning end, 1 roots, 30 extra nodes, 8 pruned nodes, max_depth=5\u001b[0m\n",
      "\u001b[34m[71]#011train-error:0.133467#011validation-error:0.1846\u001b[0m\n",
      "\u001b[34m[23:05:59] src/tree/updater_prune.cc:74: tree pruning end, 1 roots, 20 extra nodes, 10 pruned nodes, max_depth=5\u001b[0m\n",
      "\u001b[34m[72]#011train-error:0.1336#011validation-error:0.1842\u001b[0m\n",
      "\u001b[34m[23:06:00] src/tree/updater_prune.cc:74: tree pruning end, 1 roots, 22 extra nodes, 8 pruned nodes, max_depth=5\u001b[0m\n",
      "\u001b[34m[73]#011train-error:0.133467#011validation-error:0.1834\u001b[0m\n",
      "\u001b[34m[23:06:01] src/tree/updater_prune.cc:74: tree pruning end, 1 roots, 24 extra nodes, 12 pruned nodes, max_depth=5\u001b[0m\n",
      "\u001b[34m[74]#011train-error:0.1304#011validation-error:0.1843\u001b[0m\n",
      "\u001b[34m[23:06:03] src/tree/updater_prune.cc:74: tree pruning end, 1 roots, 16 extra nodes, 16 pruned nodes, max_depth=5\u001b[0m\n",
      "\u001b[34m[75]#011train-error:0.130467#011validation-error:0.1842\u001b[0m\n",
      "\u001b[34m[23:06:04] src/tree/updater_prune.cc:74: tree pruning end, 1 roots, 12 extra nodes, 0 pruned nodes, max_depth=5\u001b[0m\n",
      "\u001b[34m[76]#011train-error:0.130667#011validation-error:0.184\u001b[0m\n",
      "\u001b[34m[23:06:05] src/tree/updater_prune.cc:74: tree pruning end, 1 roots, 24 extra nodes, 12 pruned nodes, max_depth=5\u001b[0m\n",
      "\u001b[34m[77]#011train-error:0.13#011validation-error:0.1831\u001b[0m\n",
      "\u001b[34m[23:06:06] src/tree/updater_prune.cc:74: tree pruning end, 1 roots, 14 extra nodes, 8 pruned nodes, max_depth=5\u001b[0m\n",
      "\u001b[34m[78]#011train-error:0.1292#011validation-error:0.1834\u001b[0m\n",
      "\u001b[34m[23:06:08] src/tree/updater_prune.cc:74: tree pruning end, 1 roots, 20 extra nodes, 14 pruned nodes, max_depth=5\u001b[0m\n",
      "\u001b[34m[79]#011train-error:0.128667#011validation-error:0.1833\u001b[0m\n",
      "\u001b[34m[23:06:09] src/tree/updater_prune.cc:74: tree pruning end, 1 roots, 18 extra nodes, 8 pruned nodes, max_depth=5\u001b[0m\n",
      "\u001b[34m[80]#011train-error:0.128#011validation-error:0.1821\u001b[0m\n",
      "\u001b[34m[23:06:10] src/tree/updater_prune.cc:74: tree pruning end, 1 roots, 14 extra nodes, 6 pruned nodes, max_depth=5\u001b[0m\n",
      "\u001b[34m[81]#011train-error:0.127267#011validation-error:0.1832\u001b[0m\n",
      "\u001b[34m[23:06:11] src/tree/updater_prune.cc:74: tree pruning end, 1 roots, 22 extra nodes, 6 pruned nodes, max_depth=5\u001b[0m\n",
      "\u001b[34m[82]#011train-error:0.126933#011validation-error:0.182\u001b[0m\n",
      "\u001b[34m[23:06:13] src/tree/updater_prune.cc:74: tree pruning end, 1 roots, 16 extra nodes, 8 pruned nodes, max_depth=5\u001b[0m\n",
      "\u001b[34m[83]#011train-error:0.1274#011validation-error:0.1819\u001b[0m\n",
      "\u001b[34m[23:06:14] src/tree/updater_prune.cc:74: tree pruning end, 1 roots, 14 extra nodes, 2 pruned nodes, max_depth=5\u001b[0m\n",
      "\u001b[34m[84]#011train-error:0.126467#011validation-error:0.183\u001b[0m\n",
      "\u001b[34m[23:06:15] src/tree/updater_prune.cc:74: tree pruning end, 1 roots, 30 extra nodes, 4 pruned nodes, max_depth=5\u001b[0m\n",
      "\u001b[34m[85]#011train-error:0.124933#011validation-error:0.1828\u001b[0m\n",
      "\u001b[34m[23:06:16] src/tree/updater_prune.cc:74: tree pruning end, 1 roots, 14 extra nodes, 12 pruned nodes, max_depth=5\u001b[0m\n",
      "\u001b[34m[86]#011train-error:0.125467#011validation-error:0.1832\u001b[0m\n",
      "\u001b[34m[23:06:18] src/tree/updater_prune.cc:74: tree pruning end, 1 roots, 24 extra nodes, 4 pruned nodes, max_depth=5\u001b[0m\n",
      "\u001b[34m[87]#011train-error:0.1256#011validation-error:0.1817\u001b[0m\n",
      "\u001b[34m[23:06:19] src/tree/updater_prune.cc:74: tree pruning end, 1 roots, 20 extra nodes, 8 pruned nodes, max_depth=5\u001b[0m\n",
      "\u001b[34m[88]#011train-error:0.1256#011validation-error:0.1818\u001b[0m\n",
      "\u001b[34m[23:06:20] src/tree/updater_prune.cc:74: tree pruning end, 1 roots, 12 extra nodes, 8 pruned nodes, max_depth=5\u001b[0m\n",
      "\u001b[34m[89]#011train-error:0.125067#011validation-error:0.1822\u001b[0m\n",
      "\u001b[34m[23:06:22] src/tree/updater_prune.cc:74: tree pruning end, 1 roots, 20 extra nodes, 6 pruned nodes, max_depth=5\u001b[0m\n",
      "\u001b[34m[90]#011train-error:0.124467#011validation-error:0.1831\u001b[0m\n",
      "\u001b[34m[23:06:23] src/tree/updater_prune.cc:74: tree pruning end, 1 roots, 20 extra nodes, 10 pruned nodes, max_depth=5\u001b[0m\n",
      "\u001b[34m[91]#011train-error:0.123#011validation-error:0.1827\u001b[0m\n"
     ]
    },
    {
     "name": "stdout",
     "output_type": "stream",
     "text": [
      "\n",
      "2020-05-21 23:06:32 Uploading - Uploading generated training model\u001b[34m[23:06:24] src/tree/updater_prune.cc:74: tree pruning end, 1 roots, 18 extra nodes, 4 pruned nodes, max_depth=5\u001b[0m\n",
      "\u001b[34m[92]#011train-error:0.122467#011validation-error:0.1829\u001b[0m\n",
      "\u001b[34m[23:06:25] src/tree/updater_prune.cc:74: tree pruning end, 1 roots, 24 extra nodes, 14 pruned nodes, max_depth=5\u001b[0m\n",
      "\u001b[34m[93]#011train-error:0.1222#011validation-error:0.1828\u001b[0m\n",
      "\u001b[34m[23:06:27] src/tree/updater_prune.cc:74: tree pruning end, 1 roots, 10 extra nodes, 10 pruned nodes, max_depth=5\u001b[0m\n",
      "\u001b[34m[94]#011train-error:0.121267#011validation-error:0.1832\u001b[0m\n",
      "\u001b[34m[23:06:28] src/tree/updater_prune.cc:74: tree pruning end, 1 roots, 12 extra nodes, 10 pruned nodes, max_depth=5\u001b[0m\n",
      "\u001b[34m[95]#011train-error:0.1214#011validation-error:0.1827\u001b[0m\n",
      "\u001b[34m[23:06:29] src/tree/updater_prune.cc:74: tree pruning end, 1 roots, 10 extra nodes, 4 pruned nodes, max_depth=5\u001b[0m\n",
      "\u001b[34m[96]#011train-error:0.121067#011validation-error:0.1825\u001b[0m\n",
      "\u001b[34m[23:06:30] src/tree/updater_prune.cc:74: tree pruning end, 1 roots, 16 extra nodes, 10 pruned nodes, max_depth=5\u001b[0m\n",
      "\u001b[34m[97]#011train-error:0.120133#011validation-error:0.1821\u001b[0m\n",
      "\u001b[34mStopping. Best iteration:\u001b[0m\n",
      "\u001b[34m[87]#011train-error:0.1256#011validation-error:0.1817\n",
      "\u001b[0m\n",
      "\n",
      "2020-05-21 23:06:39 Completed - Training job completed\n",
      "Training seconds: 191\n",
      "Billable seconds: 191\n"
     ]
    }
   ],
   "source": [
    "# TODO: Using the new validation and training data, 'fit' your new model.\n",
    "new_xgb.fit({'train': s3_new_input_train, 'validation': s3_new_input_validation})"
   ]
  },
  {
   "cell_type": "markdown",
   "metadata": {},
   "source": [
    "### (TODO) Check the new model\n",
    "\n",
    "So now we have a new XGBoost model that we believe more accurately represents the state of the world at this time, at least in how it relates to the sentiment analysis problem that we are working on. The next step is to double check that our model is performing reasonably.\n",
    "\n",
    "To do this, we will first test our model on the new data.\n",
    "\n",
    "**Note:** In practice this is a pretty bad idea. We already trained our model on the new data, so testing it shouldn't really tell us much. In fact, this is sort of a textbook example of leakage. We are only doing it here so that we have a numerical baseline.\n",
    "\n",
    "**Question:** How might you address the leakage problem?"
   ]
  },
  {
   "cell_type": "markdown",
   "metadata": {},
   "source": [
    "To prevent this, you should have created a test set from the new data you had. Alternatively, you could get additional data and shuffle it in with old data. "
   ]
  },
  {
   "cell_type": "markdown",
   "metadata": {},
   "source": [
    "First, we create a new transformer based on our new XGBoost model.\n",
    "\n",
    "**TODO:** Create a transformer object from the newly created XGBoost model."
   ]
  },
  {
   "cell_type": "code",
   "execution_count": 76,
   "metadata": {},
   "outputs": [],
   "source": [
    "# TODO: Create a transformer object from the new_xgb model\n",
    "new_xgb_transformer = None\n",
    "new_xgb_transformer = new_xgb.transformer(instance_count = 1, instance_type = 'ml.m4.xlarge')"
   ]
  },
  {
   "cell_type": "markdown",
   "metadata": {},
   "source": [
    "Next we test our model on the new data.\n",
    "\n",
    "**TODO:** Use the transformer object to transform the new data (stored in the `new_data_location` variable)"
   ]
  },
  {
   "cell_type": "code",
   "execution_count": 77,
   "metadata": {},
   "outputs": [
    {
     "name": "stdout",
     "output_type": "stream",
     "text": [
      "...................\u001b[34mArguments: serve\u001b[0m\n",
      "\u001b[34m[2020-05-21 23:13:41 +0000] [1] [INFO] Starting gunicorn 19.7.1\u001b[0m\n",
      "\u001b[34m[2020-05-21 23:13:41 +0000] [1] [INFO] Listening at: http://0.0.0.0:8080 (1)\u001b[0m\n",
      "\u001b[34m[2020-05-21 23:13:41 +0000] [1] [INFO] Using worker: gevent\u001b[0m\n",
      "\u001b[34m[2020-05-21 23:13:41 +0000] [38] [INFO] Booting worker with pid: 38\u001b[0m\n",
      "\u001b[34m[2020-05-21 23:13:41 +0000] [39] [INFO] Booting worker with pid: 39\u001b[0m\n",
      "\u001b[34m[2020-05-21 23:13:41 +0000] [40] [INFO] Booting worker with pid: 40\u001b[0m\n",
      "\u001b[34m[2020-05-21:23:13:41:INFO] Model loaded successfully for worker : 39\u001b[0m\n",
      "\u001b[34m[2020-05-21:23:13:41:INFO] Model loaded successfully for worker : 38\u001b[0m\n",
      "\u001b[34m[2020-05-21 23:13:41 +0000] [41] [INFO] Booting worker with pid: 41\u001b[0m\n",
      "\u001b[34m[2020-05-21:23:13:41:INFO] Model loaded successfully for worker : 40\u001b[0m\n",
      "\u001b[34m[2020-05-21:23:13:41:INFO] Model loaded successfully for worker : 41\u001b[0m\n",
      "\u001b[32m2020-05-21T23:14:02.336:[sagemaker logs]: MaxConcurrentTransforms=4, MaxPayloadInMB=6, BatchStrategy=MULTI_RECORD\u001b[0m\n",
      "\u001b[34m[2020-05-21:23:14:05:INFO] Sniff delimiter as ','\u001b[0m\n",
      "\u001b[34m[2020-05-21:23:14:05:INFO] Determined delimiter of CSV input is ','\u001b[0m\n",
      "\u001b[34m[2020-05-21:23:14:05:INFO] Sniff delimiter as ','\u001b[0m\n",
      "\u001b[34m[2020-05-21:23:14:05:INFO] Determined delimiter of CSV input is ','\u001b[0m\n",
      "\u001b[34m[2020-05-21:23:14:05:INFO] Sniff delimiter as ','\u001b[0m\n",
      "\u001b[34m[2020-05-21:23:14:05:INFO] Determined delimiter of CSV input is ','\u001b[0m\n",
      "\u001b[35m[2020-05-21:23:14:05:INFO] Sniff delimiter as ','\u001b[0m\n",
      "\u001b[35m[2020-05-21:23:14:05:INFO] Determined delimiter of CSV input is ','\u001b[0m\n",
      "\u001b[35m[2020-05-21:23:14:05:INFO] Sniff delimiter as ','\u001b[0m\n",
      "\u001b[35m[2020-05-21:23:14:05:INFO] Determined delimiter of CSV input is ','\u001b[0m\n",
      "\u001b[35m[2020-05-21:23:14:05:INFO] Sniff delimiter as ','\u001b[0m\n",
      "\u001b[35m[2020-05-21:23:14:05:INFO] Determined delimiter of CSV input is ','\u001b[0m\n",
      "\u001b[34m[2020-05-21:23:14:05:INFO] Sniff delimiter as ','\u001b[0m\n",
      "\u001b[34m[2020-05-21:23:14:05:INFO] Determined delimiter of CSV input is ','\u001b[0m\n",
      "\u001b[35m[2020-05-21:23:14:05:INFO] Sniff delimiter as ','\u001b[0m\n",
      "\u001b[35m[2020-05-21:23:14:05:INFO] Determined delimiter of CSV input is ','\u001b[0m\n",
      "\u001b[34m[2020-05-21:23:14:07:INFO] Sniff delimiter as ','\u001b[0m\n",
      "\u001b[34m[2020-05-21:23:14:07:INFO] Determined delimiter of CSV input is ','\u001b[0m\n",
      "\u001b[34m[2020-05-21:23:14:07:INFO] Sniff delimiter as ','\u001b[0m\n",
      "\u001b[34m[2020-05-21:23:14:07:INFO] Determined delimiter of CSV input is ','\u001b[0m\n",
      "\u001b[35m[2020-05-21:23:14:07:INFO] Sniff delimiter as ','\u001b[0m\n",
      "\u001b[35m[2020-05-21:23:14:07:INFO] Determined delimiter of CSV input is ','\u001b[0m\n",
      "\u001b[35m[2020-05-21:23:14:07:INFO] Sniff delimiter as ','\u001b[0m\n",
      "\u001b[35m[2020-05-21:23:14:07:INFO] Determined delimiter of CSV input is ','\u001b[0m\n",
      "\u001b[34m[2020-05-21:23:14:08:INFO] Sniff delimiter as ','\u001b[0m\n",
      "\u001b[34m[2020-05-21:23:14:08:INFO] Determined delimiter of CSV input is ','\u001b[0m\n",
      "\u001b[34m[2020-05-21:23:14:08:INFO] Sniff delimiter as ','\u001b[0m\n",
      "\u001b[34m[2020-05-21:23:14:08:INFO] Determined delimiter of CSV input is ','\u001b[0m\n",
      "\u001b[35m[2020-05-21:23:14:08:INFO] Sniff delimiter as ','\u001b[0m\n",
      "\u001b[35m[2020-05-21:23:14:08:INFO] Determined delimiter of CSV input is ','\u001b[0m\n",
      "\u001b[35m[2020-05-21:23:14:08:INFO] Sniff delimiter as ','\u001b[0m\n",
      "\u001b[35m[2020-05-21:23:14:08:INFO] Determined delimiter of CSV input is ','\u001b[0m\n",
      "\u001b[34m[2020-05-21:23:14:10:INFO] Sniff delimiter as ','\u001b[0m\n",
      "\u001b[34m[2020-05-21:23:14:10:INFO] Determined delimiter of CSV input is ','\u001b[0m\n",
      "\u001b[35m[2020-05-21:23:14:10:INFO] Sniff delimiter as ','\u001b[0m\n",
      "\u001b[35m[2020-05-21:23:14:10:INFO] Determined delimiter of CSV input is ','\u001b[0m\n",
      "\u001b[34m[2020-05-21:23:14:10:INFO] Sniff delimiter as ','\u001b[0m\n",
      "\u001b[34m[2020-05-21:23:14:10:INFO] Determined delimiter of CSV input is ','\u001b[0m\n",
      "\u001b[34m[2020-05-21:23:14:10:INFO] Sniff delimiter as ','\u001b[0m\n",
      "\u001b[34m[2020-05-21:23:14:10:INFO] Determined delimiter of CSV input is ','\u001b[0m\n",
      "\u001b[34m[2020-05-21:23:14:10:INFO] Sniff delimiter as ','\u001b[0m\n",
      "\u001b[34m[2020-05-21:23:14:10:INFO] Determined delimiter of CSV input is ','\u001b[0m\n",
      "\u001b[35m[2020-05-21:23:14:10:INFO] Sniff delimiter as ','\u001b[0m\n",
      "\u001b[35m[2020-05-21:23:14:10:INFO] Determined delimiter of CSV input is ','\u001b[0m\n",
      "\u001b[35m[2020-05-21:23:14:10:INFO] Sniff delimiter as ','\u001b[0m\n",
      "\u001b[35m[2020-05-21:23:14:10:INFO] Determined delimiter of CSV input is ','\u001b[0m\n",
      "\u001b[35m[2020-05-21:23:14:10:INFO] Sniff delimiter as ','\u001b[0m\n",
      "\u001b[35m[2020-05-21:23:14:10:INFO] Determined delimiter of CSV input is ','\u001b[0m\n",
      "\u001b[34m[2020-05-21:23:14:12:INFO] Sniff delimiter as ','\u001b[0m\n",
      "\u001b[34m[2020-05-21:23:14:12:INFO] Determined delimiter of CSV input is ','\u001b[0m\n",
      "\u001b[34m[2020-05-21:23:14:12:INFO] Sniff delimiter as ','\u001b[0m\n",
      "\u001b[35m[2020-05-21:23:14:12:INFO] Sniff delimiter as ','\u001b[0m\n",
      "\u001b[35m[2020-05-21:23:14:12:INFO] Determined delimiter of CSV input is ','\u001b[0m\n",
      "\u001b[35m[2020-05-21:23:14:12:INFO] Sniff delimiter as ','\u001b[0m\n",
      "\u001b[34m[2020-05-21:23:14:12:INFO] Determined delimiter of CSV input is ','\u001b[0m\n",
      "\u001b[34m[2020-05-21:23:14:12:INFO] Sniff delimiter as ','\u001b[0m\n",
      "\u001b[34m[2020-05-21:23:14:12:INFO] Determined delimiter of CSV input is ','\u001b[0m\n",
      "\u001b[35m[2020-05-21:23:14:12:INFO] Determined delimiter of CSV input is ','\u001b[0m\n",
      "\u001b[35m[2020-05-21:23:14:12:INFO] Sniff delimiter as ','\u001b[0m\n",
      "\u001b[35m[2020-05-21:23:14:12:INFO] Determined delimiter of CSV input is ','\u001b[0m\n",
      "\u001b[34m[2020-05-21:23:14:13:INFO] Sniff delimiter as ','\u001b[0m\n",
      "\u001b[34m[2020-05-21:23:14:13:INFO] Determined delimiter of CSV input is ','\u001b[0m\n",
      "\u001b[35m[2020-05-21:23:14:13:INFO] Sniff delimiter as ','\u001b[0m\n",
      "\u001b[35m[2020-05-21:23:14:13:INFO] Determined delimiter of CSV input is ','\u001b[0m\n",
      "\u001b[34m[2020-05-21:23:14:15:INFO] Sniff delimiter as ','\u001b[0m\n",
      "\u001b[34m[2020-05-21:23:14:15:INFO] Determined delimiter of CSV input is ','\u001b[0m\n",
      "\u001b[34m[2020-05-21:23:14:15:INFO] Sniff delimiter as ','\u001b[0m\n",
      "\u001b[34m[2020-05-21:23:14:15:INFO] Determined delimiter of CSV input is ','\u001b[0m\n",
      "\u001b[34m[2020-05-21:23:14:15:INFO] Sniff delimiter as ','\u001b[0m\n",
      "\u001b[34m[2020-05-21:23:14:15:INFO] Determined delimiter of CSV input is ','\u001b[0m\n",
      "\u001b[35m[2020-05-21:23:14:15:INFO] Sniff delimiter as ','\u001b[0m\n",
      "\u001b[35m[2020-05-21:23:14:15:INFO] Determined delimiter of CSV input is ','\u001b[0m\n",
      "\u001b[35m[2020-05-21:23:14:15:INFO] Sniff delimiter as ','\u001b[0m\n",
      "\u001b[35m[2020-05-21:23:14:15:INFO] Determined delimiter of CSV input is ','\u001b[0m\n",
      "\u001b[35m[2020-05-21:23:14:15:INFO] Sniff delimiter as ','\u001b[0m\n",
      "\u001b[35m[2020-05-21:23:14:15:INFO] Determined delimiter of CSV input is ','\u001b[0m\n",
      "\u001b[34m[2020-05-21:23:14:17:INFO] Sniff delimiter as ','\u001b[0m\n",
      "\u001b[34m[2020-05-21:23:14:17:INFO] Determined delimiter of CSV input is ','\u001b[0m\n",
      "\u001b[34m[2020-05-21:23:14:17:INFO] Sniff delimiter as ','\u001b[0m\n",
      "\u001b[34m[2020-05-21:23:14:17:INFO] Determined delimiter of CSV input is ','\u001b[0m\n",
      "\u001b[34m[2020-05-21:23:14:17:INFO] Sniff delimiter as ','\u001b[0m\n",
      "\u001b[34m[2020-05-21:23:14:17:INFO] Determined delimiter of CSV input is ','\u001b[0m\n",
      "\u001b[34m[2020-05-21:23:14:17:INFO] Sniff delimiter as ','\u001b[0m\n",
      "\u001b[34m[2020-05-21:23:14:17:INFO] Determined delimiter of CSV input is ','\u001b[0m\n",
      "\u001b[35m[2020-05-21:23:14:17:INFO] Sniff delimiter as ','\u001b[0m\n",
      "\u001b[35m[2020-05-21:23:14:17:INFO] Determined delimiter of CSV input is ','\u001b[0m\n",
      "\u001b[35m[2020-05-21:23:14:17:INFO] Sniff delimiter as ','\u001b[0m\n",
      "\u001b[35m[2020-05-21:23:14:17:INFO] Determined delimiter of CSV input is ','\u001b[0m\n",
      "\u001b[35m[2020-05-21:23:14:17:INFO] Sniff delimiter as ','\u001b[0m\n",
      "\u001b[35m[2020-05-21:23:14:17:INFO] Determined delimiter of CSV input is ','\u001b[0m\n",
      "\u001b[35m[2020-05-21:23:14:17:INFO] Sniff delimiter as ','\u001b[0m\n",
      "\u001b[35m[2020-05-21:23:14:17:INFO] Determined delimiter of CSV input is ','\u001b[0m\n",
      "\u001b[34m[2020-05-21:23:14:19:INFO] Sniff delimiter as ','\u001b[0m\n",
      "\u001b[34m[2020-05-21:23:14:19:INFO] Determined delimiter of CSV input is ','\u001b[0m\n",
      "\u001b[35m[2020-05-21:23:14:19:INFO] Sniff delimiter as ','\u001b[0m\n",
      "\u001b[35m[2020-05-21:23:14:19:INFO] Determined delimiter of CSV input is ','\u001b[0m\n",
      "\u001b[34m[2020-05-21:23:14:20:INFO] Sniff delimiter as ','\u001b[0m\n",
      "\u001b[34m[2020-05-21:23:14:20:INFO] Determined delimiter of CSV input is ','\u001b[0m\n",
      "\u001b[35m[2020-05-21:23:14:20:INFO] Sniff delimiter as ','\u001b[0m\n",
      "\u001b[35m[2020-05-21:23:14:20:INFO] Determined delimiter of CSV input is ','\u001b[0m\n",
      "\u001b[34m[2020-05-21:23:14:20:INFO] Sniff delimiter as ','\u001b[0m\n",
      "\u001b[34m[2020-05-21:23:14:20:INFO] Determined delimiter of CSV input is ','\u001b[0m\n",
      "\u001b[34m[2020-05-21:23:14:20:INFO] Sniff delimiter as ','\u001b[0m\n",
      "\u001b[34m[2020-05-21:23:14:20:INFO] Determined delimiter of CSV input is ','\u001b[0m\n",
      "\u001b[35m[2020-05-21:23:14:20:INFO] Sniff delimiter as ','\u001b[0m\n",
      "\u001b[35m[2020-05-21:23:14:20:INFO] Determined delimiter of CSV input is ','\u001b[0m\n",
      "\u001b[35m[2020-05-21:23:14:20:INFO] Sniff delimiter as ','\u001b[0m\n",
      "\u001b[35m[2020-05-21:23:14:20:INFO] Determined delimiter of CSV input is ','\u001b[0m\n",
      "\u001b[34m[2020-05-21:23:14:22:INFO] Sniff delimiter as ','\u001b[0m\n",
      "\u001b[34m[2020-05-21:23:14:22:INFO] Determined delimiter of CSV input is ','\u001b[0m\n",
      "\u001b[35m[2020-05-21:23:14:22:INFO] Sniff delimiter as ','\u001b[0m\n",
      "\u001b[35m[2020-05-21:23:14:22:INFO] Determined delimiter of CSV input is ','\u001b[0m\n",
      "\u001b[34m[2020-05-21:23:14:22:INFO] Sniff delimiter as ','\u001b[0m\n",
      "\u001b[34m[2020-05-21:23:14:22:INFO] Determined delimiter of CSV input is ','\u001b[0m\n",
      "\u001b[34m[2020-05-21:23:14:22:INFO] Sniff delimiter as ','\u001b[0m\n",
      "\u001b[34m[2020-05-21:23:14:22:INFO] Determined delimiter of CSV input is ','\u001b[0m\n",
      "\u001b[34m[2020-05-21:23:14:22:INFO] Sniff delimiter as ','\u001b[0m\n",
      "\u001b[34m[2020-05-21:23:14:22:INFO] Determined delimiter of CSV input is ','\u001b[0m\n",
      "\u001b[35m[2020-05-21:23:14:22:INFO] Sniff delimiter as ','\u001b[0m\n",
      "\u001b[35m[2020-05-21:23:14:22:INFO] Determined delimiter of CSV input is ','\u001b[0m\n",
      "\u001b[35m[2020-05-21:23:14:22:INFO] Sniff delimiter as ','\u001b[0m\n",
      "\u001b[35m[2020-05-21:23:14:22:INFO] Determined delimiter of CSV input is ','\u001b[0m\n",
      "\u001b[35m[2020-05-21:23:14:22:INFO] Sniff delimiter as ','\u001b[0m\n",
      "\u001b[35m[2020-05-21:23:14:22:INFO] Determined delimiter of CSV input is ','\u001b[0m\n",
      "\u001b[34m[2020-05-21:23:14:24:INFO] Sniff delimiter as ','\u001b[0m\n",
      "\u001b[35m[2020-05-21:23:14:24:INFO] Sniff delimiter as ','\u001b[0m\n",
      "\u001b[34m[2020-05-21:23:14:24:INFO] Determined delimiter of CSV input is ','\u001b[0m\n",
      "\u001b[34m[2020-05-21:23:14:24:INFO] Sniff delimiter as ','\u001b[0m\n",
      "\u001b[34m[2020-05-21:23:14:24:INFO] Determined delimiter of CSV input is ','\u001b[0m\n",
      "\u001b[35m[2020-05-21:23:14:24:INFO] Determined delimiter of CSV input is ','\u001b[0m\n",
      "\u001b[35m[2020-05-21:23:14:24:INFO] Sniff delimiter as ','\u001b[0m\n",
      "\u001b[35m[2020-05-21:23:14:24:INFO] Determined delimiter of CSV input is ','\u001b[0m\n"
     ]
    },
    {
     "name": "stdout",
     "output_type": "stream",
     "text": [
      "\n",
      "\u001b[34m[2020-05-21:23:14:25:INFO] Determined delimiter of CSV input is ','\u001b[0m\n",
      "\u001b[35m[2020-05-21:23:14:25:INFO] Determined delimiter of CSV input is ','\u001b[0m\n",
      "\u001b[34m[2020-05-21:23:14:27:INFO] Sniff delimiter as ','\u001b[0m\n",
      "\u001b[34m[2020-05-21:23:14:27:INFO] Determined delimiter of CSV input is ','\u001b[0m\n",
      "\u001b[34m[2020-05-21:23:14:27:INFO] Sniff delimiter as ','\u001b[0m\n",
      "\u001b[34m[2020-05-21:23:14:27:INFO] Determined delimiter of CSV input is ','\u001b[0m\n",
      "\u001b[34m[2020-05-21:23:14:27:INFO] Sniff delimiter as ','\u001b[0m\n",
      "\u001b[34m[2020-05-21:23:14:27:INFO] Determined delimiter of CSV input is ','\u001b[0m\n",
      "\u001b[34m[2020-05-21:23:14:27:INFO] Sniff delimiter as ','\u001b[0m\n",
      "\u001b[34m[2020-05-21:23:14:27:INFO] Determined delimiter of CSV input is ','\u001b[0m\n",
      "\u001b[35m[2020-05-21:23:14:27:INFO] Sniff delimiter as ','\u001b[0m\n",
      "\u001b[35m[2020-05-21:23:14:27:INFO] Determined delimiter of CSV input is ','\u001b[0m\n",
      "\u001b[35m[2020-05-21:23:14:27:INFO] Sniff delimiter as ','\u001b[0m\n",
      "\u001b[35m[2020-05-21:23:14:27:INFO] Determined delimiter of CSV input is ','\u001b[0m\n",
      "\u001b[35m[2020-05-21:23:14:27:INFO] Sniff delimiter as ','\u001b[0m\n",
      "\u001b[35m[2020-05-21:23:14:27:INFO] Determined delimiter of CSV input is ','\u001b[0m\n",
      "\u001b[35m[2020-05-21:23:14:27:INFO] Sniff delimiter as ','\u001b[0m\n",
      "\u001b[35m[2020-05-21:23:14:27:INFO] Determined delimiter of CSV input is ','\u001b[0m\n"
     ]
    }
   ],
   "source": [
    "# TODO: Using new_xgb_transformer, transform the new_data_location data. You may wish to\n",
    "#       'wait' for the transform job to finish.\n",
    "new_xgb_transformer.transform(new_data_location, content_type='text/csv', split_type='Line')\n",
    "new_xgb_transformer.wait()"
   ]
  },
  {
   "cell_type": "markdown",
   "metadata": {},
   "source": [
    "Copy the results to our local instance."
   ]
  },
  {
   "cell_type": "code",
   "execution_count": 78,
   "metadata": {},
   "outputs": [
    {
     "name": "stdout",
     "output_type": "stream",
     "text": [
      "Completed 256.0 KiB/366.3 KiB (2.6 MiB/s) with 1 file(s) remaining\r",
      "Completed 366.3 KiB/366.3 KiB (3.7 MiB/s) with 1 file(s) remaining\r",
      "download: s3://sagemaker-us-west-1-731892558299/xgboost-2020-05-21-23-10-37-242/new_data.csv.out to ../data/sentiment_update/new_data.csv.out\r\n"
     ]
    }
   ],
   "source": [
    "!aws s3 cp --recursive $new_xgb_transformer.output_path $data_dir"
   ]
  },
  {
   "cell_type": "markdown",
   "metadata": {},
   "source": [
    "And see how well the model did."
   ]
  },
  {
   "cell_type": "code",
   "execution_count": 79,
   "metadata": {},
   "outputs": [],
   "source": [
    "predictions = pd.read_csv(os.path.join(data_dir, 'new_data.csv.out'), header=None)\n",
    "predictions = [round(num) for num in predictions.squeeze().values]"
   ]
  },
  {
   "cell_type": "code",
   "execution_count": 80,
   "metadata": {},
   "outputs": [
    {
     "data": {
      "text/plain": [
       "0.85196"
      ]
     },
     "execution_count": 80,
     "metadata": {},
     "output_type": "execute_result"
    }
   ],
   "source": [
    "accuracy_score(new_Y, predictions)"
   ]
  },
  {
   "cell_type": "markdown",
   "metadata": {},
   "source": [
    "As expected, since we trained the model on this data, our model performs pretty well. So, we have reason to believe that our new XGBoost model is a \"better\" model.\n",
    "\n",
    "However, before we start changing our deployed model, we should first make sure that our new model isn't too different. In other words, if our new model performed really poorly on the original test data then this might be an indication that something else has gone wrong.\n",
    "\n",
    "To start with, since we got rid of the variable that stored the original test reviews, we will read them in again from the cache that we created in Step 3. Note that we need to make sure that we read in the original test data after it has been pre-processed with `nltk` but before it has been bag of words encoded. This is because we need to use the new vocabulary instead of the original one."
   ]
  },
  {
   "cell_type": "code",
   "execution_count": 81,
   "metadata": {},
   "outputs": [
    {
     "name": "stdout",
     "output_type": "stream",
     "text": [
      "Read preprocessed data from cache file: preprocessed_data.pkl\n"
     ]
    }
   ],
   "source": [
    "cache_data = None\n",
    "with open(os.path.join(cache_dir, \"preprocessed_data.pkl\"), \"rb\") as f:\n",
    "            cache_data = pickle.load(f)\n",
    "            print(\"Read preprocessed data from cache file:\", \"preprocessed_data.pkl\")\n",
    "            \n",
    "test_X = cache_data['words_test']\n",
    "test_Y = cache_data['labels_test']\n",
    "\n",
    "# Here we set cache_data to None so that it doesn't occupy memory\n",
    "cache_data = None"
   ]
  },
  {
   "cell_type": "markdown",
   "metadata": {},
   "source": [
    "Once we've loaded the original test reviews, we need to create a bag of words encoding of them using the new vocabulary that we created, based on the new data.\n",
    "\n",
    "**TODO:** Transform the original test data using the new vocabulary."
   ]
  },
  {
   "cell_type": "code",
   "execution_count": 82,
   "metadata": {},
   "outputs": [],
   "source": [
    "# TODO: Use the new_vectorizer object that you created earlier to transform the test_X data.\n",
    "#test_X = None\n",
    "test_X = new_vectorizer.transform(test_X).toarray()"
   ]
  },
  {
   "cell_type": "markdown",
   "metadata": {},
   "source": [
    "Now that we have correctly encoded the original test data, we can write it to the local instance, upload it to S3 and test it."
   ]
  },
  {
   "cell_type": "code",
   "execution_count": 83,
   "metadata": {},
   "outputs": [],
   "source": [
    "pd.DataFrame(test_X).to_csv(os.path.join(data_dir, 'test.csv'), header=False, index=False)"
   ]
  },
  {
   "cell_type": "code",
   "execution_count": 84,
   "metadata": {},
   "outputs": [],
   "source": [
    "test_location = session.upload_data(os.path.join(data_dir, 'test.csv'), key_prefix=prefix)"
   ]
  },
  {
   "cell_type": "code",
   "execution_count": 85,
   "metadata": {},
   "outputs": [
    {
     "name": "stdout",
     "output_type": "stream",
     "text": [
      "....................\u001b[34mArguments: serve\u001b[0m\n",
      "\u001b[34m[2020-05-21 23:22:12 +0000] [1] [INFO] Starting gunicorn 19.7.1\u001b[0m\n",
      "\u001b[34m[2020-05-21 23:22:12 +0000] [1] [INFO] Listening at: http://0.0.0.0:8080 (1)\u001b[0m\n",
      "\u001b[34m[2020-05-21 23:22:12 +0000] [1] [INFO] Using worker: gevent\u001b[0m\n",
      "\u001b[34m[2020-05-21 23:22:12 +0000] [37] [INFO] Booting worker with pid: 37\u001b[0m\n",
      "\u001b[34m[2020-05-21 23:22:12 +0000] [38] [INFO] Booting worker with pid: 38\u001b[0m\n",
      "\u001b[34m[2020-05-21 23:22:12 +0000] [39] [INFO] Booting worker with pid: 39\u001b[0m\n",
      "\u001b[34m[2020-05-21 23:22:12 +0000] [40] [INFO] Booting worker with pid: 40\u001b[0m\n",
      "\u001b[34m[2020-05-21:23:22:12:INFO] Model loaded successfully for worker : 37\u001b[0m\n",
      "\u001b[34m[2020-05-21:23:22:12:INFO] Model loaded successfully for worker : 39\u001b[0m\n",
      "\u001b[34m[2020-05-21:23:22:12:INFO] Model loaded successfully for worker : 38\u001b[0m\n",
      "\u001b[34m[2020-05-21:23:22:12:INFO] Model loaded successfully for worker : 40\u001b[0m\n",
      "\u001b[32m2020-05-21T23:22:36.899:[sagemaker logs]: MaxConcurrentTransforms=4, MaxPayloadInMB=6, BatchStrategy=MULTI_RECORD\u001b[0m\n",
      "\u001b[34m[2020-05-21:23:22:39:INFO] Sniff delimiter as ','\u001b[0m\n",
      "\u001b[34m[2020-05-21:23:22:39:INFO] Determined delimiter of CSV input is ','\u001b[0m\n",
      "\u001b[34m[2020-05-21:23:22:40:INFO] Sniff delimiter as ','\u001b[0m\n",
      "\u001b[34m[2020-05-21:23:22:40:INFO] Determined delimiter of CSV input is ','\u001b[0m\n",
      "\u001b[34m[2020-05-21:23:22:40:INFO] Sniff delimiter as ','\u001b[0m\n",
      "\u001b[34m[2020-05-21:23:22:40:INFO] Determined delimiter of CSV input is ','\u001b[0m\n",
      "\u001b[35m[2020-05-21:23:22:39:INFO] Sniff delimiter as ','\u001b[0m\n",
      "\u001b[35m[2020-05-21:23:22:39:INFO] Determined delimiter of CSV input is ','\u001b[0m\n",
      "\u001b[35m[2020-05-21:23:22:40:INFO] Sniff delimiter as ','\u001b[0m\n",
      "\u001b[35m[2020-05-21:23:22:40:INFO] Determined delimiter of CSV input is ','\u001b[0m\n",
      "\u001b[35m[2020-05-21:23:22:40:INFO] Sniff delimiter as ','\u001b[0m\n",
      "\u001b[35m[2020-05-21:23:22:40:INFO] Determined delimiter of CSV input is ','\u001b[0m\n",
      "\u001b[34m[2020-05-21:23:22:40:INFO] Sniff delimiter as ','\u001b[0m\n",
      "\u001b[34m[2020-05-21:23:22:40:INFO] Determined delimiter of CSV input is ','\u001b[0m\n",
      "\u001b[35m[2020-05-21:23:22:40:INFO] Sniff delimiter as ','\u001b[0m\n",
      "\u001b[35m[2020-05-21:23:22:40:INFO] Determined delimiter of CSV input is ','\u001b[0m\n",
      "\u001b[34m[2020-05-21:23:22:42:INFO] Sniff delimiter as ','\u001b[0m\n",
      "\u001b[34m[2020-05-21:23:22:42:INFO] Determined delimiter of CSV input is ','\u001b[0m\n",
      "\u001b[34m[2020-05-21:23:22:42:INFO] Sniff delimiter as ','\u001b[0m\n",
      "\u001b[34m[2020-05-21:23:22:42:INFO] Determined delimiter of CSV input is ','\u001b[0m\n",
      "\u001b[34m[2020-05-21:23:22:42:INFO] Sniff delimiter as ','\u001b[0m\n",
      "\u001b[34m[2020-05-21:23:22:42:INFO] Determined delimiter of CSV input is ','\u001b[0m\n",
      "\u001b[34m[2020-05-21:23:22:43:INFO] Sniff delimiter as ','\u001b[0m\n",
      "\u001b[34m[2020-05-21:23:22:43:INFO] Determined delimiter of CSV input is ','\u001b[0m\n",
      "\u001b[35m[2020-05-21:23:22:42:INFO] Sniff delimiter as ','\u001b[0m\n",
      "\u001b[35m[2020-05-21:23:22:42:INFO] Determined delimiter of CSV input is ','\u001b[0m\n",
      "\u001b[35m[2020-05-21:23:22:42:INFO] Sniff delimiter as ','\u001b[0m\n",
      "\u001b[35m[2020-05-21:23:22:42:INFO] Determined delimiter of CSV input is ','\u001b[0m\n",
      "\u001b[35m[2020-05-21:23:22:42:INFO] Sniff delimiter as ','\u001b[0m\n",
      "\u001b[35m[2020-05-21:23:22:42:INFO] Determined delimiter of CSV input is ','\u001b[0m\n",
      "\u001b[35m[2020-05-21:23:22:43:INFO] Sniff delimiter as ','\u001b[0m\n",
      "\u001b[35m[2020-05-21:23:22:43:INFO] Determined delimiter of CSV input is ','\u001b[0m\n",
      "\u001b[34m[2020-05-21:23:22:47:INFO] Sniff delimiter as ','\u001b[0m\n",
      "\u001b[34m[2020-05-21:23:22:47:INFO] Determined delimiter of CSV input is ','\u001b[0m\n",
      "\u001b[34m[2020-05-21:23:22:47:INFO] Sniff delimiter as ','\u001b[0m\n",
      "\u001b[34m[2020-05-21:23:22:47:INFO] Determined delimiter of CSV input is ','\u001b[0m\n",
      "\u001b[35m[2020-05-21:23:22:47:INFO] Sniff delimiter as ','\u001b[0m\n",
      "\u001b[35m[2020-05-21:23:22:47:INFO] Determined delimiter of CSV input is ','\u001b[0m\n",
      "\u001b[35m[2020-05-21:23:22:47:INFO] Sniff delimiter as ','\u001b[0m\n",
      "\u001b[35m[2020-05-21:23:22:47:INFO] Determined delimiter of CSV input is ','\u001b[0m\n",
      "\u001b[34m[2020-05-21:23:22:47:INFO] Sniff delimiter as ','\u001b[0m\n",
      "\u001b[34m[2020-05-21:23:22:47:INFO] Determined delimiter of CSV input is ','\u001b[0m\n",
      "\u001b[34m[2020-05-21:23:22:47:INFO] Sniff delimiter as ','\u001b[0m\n",
      "\u001b[34m[2020-05-21:23:22:47:INFO] Determined delimiter of CSV input is ','\u001b[0m\n",
      "\u001b[35m[2020-05-21:23:22:47:INFO] Sniff delimiter as ','\u001b[0m\n",
      "\u001b[35m[2020-05-21:23:22:47:INFO] Determined delimiter of CSV input is ','\u001b[0m\n",
      "\u001b[35m[2020-05-21:23:22:47:INFO] Sniff delimiter as ','\u001b[0m\n",
      "\u001b[35m[2020-05-21:23:22:47:INFO] Determined delimiter of CSV input is ','\u001b[0m\n",
      "\u001b[34m[2020-05-21:23:22:49:INFO] Sniff delimiter as ','\u001b[0m\n",
      "\u001b[35m[2020-05-21:23:22:49:INFO] Sniff delimiter as ','\u001b[0m\n",
      "\u001b[34m[2020-05-21:23:22:49:INFO] Determined delimiter of CSV input is ','\u001b[0m\n",
      "\u001b[34m[2020-05-21:23:22:49:INFO] Sniff delimiter as ','\u001b[0m\n",
      "\u001b[34m[2020-05-21:23:22:49:INFO] Determined delimiter of CSV input is ','\u001b[0m\n",
      "\u001b[34m[2020-05-21:23:22:50:INFO] Sniff delimiter as ','\u001b[0m\n",
      "\u001b[34m[2020-05-21:23:22:50:INFO] Determined delimiter of CSV input is ','\u001b[0m\n",
      "\u001b[35m[2020-05-21:23:22:49:INFO] Determined delimiter of CSV input is ','\u001b[0m\n",
      "\u001b[35m[2020-05-21:23:22:49:INFO] Sniff delimiter as ','\u001b[0m\n",
      "\u001b[35m[2020-05-21:23:22:49:INFO] Determined delimiter of CSV input is ','\u001b[0m\n",
      "\u001b[35m[2020-05-21:23:22:50:INFO] Sniff delimiter as ','\u001b[0m\n",
      "\u001b[35m[2020-05-21:23:22:50:INFO] Determined delimiter of CSV input is ','\u001b[0m\n",
      "\u001b[34m[2020-05-21:23:22:50:INFO] Sniff delimiter as ','\u001b[0m\n",
      "\u001b[34m[2020-05-21:23:22:50:INFO] Determined delimiter of CSV input is ','\u001b[0m\n",
      "\u001b[35m[2020-05-21:23:22:50:INFO] Sniff delimiter as ','\u001b[0m\n",
      "\u001b[35m[2020-05-21:23:22:50:INFO] Determined delimiter of CSV input is ','\u001b[0m\n",
      "\u001b[34m[2020-05-21:23:22:52:INFO] Sniff delimiter as ','\u001b[0m\n",
      "\u001b[34m[2020-05-21:23:22:52:INFO] Determined delimiter of CSV input is ','\u001b[0m\n",
      "\u001b[35m[2020-05-21:23:22:52:INFO] Sniff delimiter as ','\u001b[0m\n",
      "\u001b[35m[2020-05-21:23:22:52:INFO] Determined delimiter of CSV input is ','\u001b[0m\n",
      "\u001b[34m[2020-05-21:23:22:52:INFO] Sniff delimiter as ','\u001b[0m\n",
      "\u001b[34m[2020-05-21:23:22:52:INFO] Determined delimiter of CSV input is ','\u001b[0m\n",
      "\u001b[34m[2020-05-21:23:22:52:INFO] Sniff delimiter as ','\u001b[0m\n",
      "\u001b[34m[2020-05-21:23:22:52:INFO] Determined delimiter of CSV input is ','\u001b[0m\n",
      "\u001b[34m[2020-05-21:23:22:52:INFO] Sniff delimiter as ','\u001b[0m\n",
      "\u001b[34m[2020-05-21:23:22:52:INFO] Determined delimiter of CSV input is ','\u001b[0m\n",
      "\u001b[35m[2020-05-21:23:22:52:INFO] Sniff delimiter as ','\u001b[0m\n",
      "\u001b[35m[2020-05-21:23:22:52:INFO] Determined delimiter of CSV input is ','\u001b[0m\n",
      "\u001b[35m[2020-05-21:23:22:52:INFO] Sniff delimiter as ','\u001b[0m\n",
      "\u001b[35m[2020-05-21:23:22:52:INFO] Determined delimiter of CSV input is ','\u001b[0m\n",
      "\u001b[35m[2020-05-21:23:22:52:INFO] Sniff delimiter as ','\u001b[0m\n",
      "\u001b[35m[2020-05-21:23:22:52:INFO] Determined delimiter of CSV input is ','\u001b[0m\n",
      "\n",
      "\u001b[34m[2020-05-21:23:22:55:INFO] Sniff delimiter as ','\u001b[0m\n",
      "\u001b[34m[2020-05-21:23:22:55:INFO] Determined delimiter of CSV input is ','\u001b[0m\n",
      "\u001b[35m[2020-05-21:23:22:55:INFO] Sniff delimiter as ','\u001b[0m\n",
      "\u001b[35m[2020-05-21:23:22:55:INFO] Determined delimiter of CSV input is ','\u001b[0m\n",
      "\u001b[34m[2020-05-21:23:22:57:INFO] Sniff delimiter as ','\u001b[0m\n",
      "\u001b[34m[2020-05-21:23:22:57:INFO] Determined delimiter of CSV input is ','\u001b[0m\n",
      "\u001b[34m[2020-05-21:23:22:57:INFO] Sniff delimiter as ','\u001b[0m\n",
      "\u001b[35m[2020-05-21:23:22:57:INFO] Sniff delimiter as ','\u001b[0m\n",
      "\u001b[35m[2020-05-21:23:22:57:INFO] Determined delimiter of CSV input is ','\u001b[0m\n",
      "\u001b[35m[2020-05-21:23:22:57:INFO] Sniff delimiter as ','\u001b[0m\n",
      "\u001b[34m[2020-05-21:23:22:57:INFO] Determined delimiter of CSV input is ','\u001b[0m\n",
      "\u001b[34m[2020-05-21:23:22:57:INFO] Sniff delimiter as ','\u001b[0m\n",
      "\u001b[34m[2020-05-21:23:22:57:INFO] Determined delimiter of CSV input is ','\u001b[0m\n",
      "\u001b[35m[2020-05-21:23:22:57:INFO] Determined delimiter of CSV input is ','\u001b[0m\n",
      "\u001b[35m[2020-05-21:23:22:57:INFO] Sniff delimiter as ','\u001b[0m\n",
      "\u001b[35m[2020-05-21:23:22:57:INFO] Determined delimiter of CSV input is ','\u001b[0m\n",
      "\u001b[34m[2020-05-21:23:22:57:INFO] Sniff delimiter as ','\u001b[0m\n",
      "\u001b[34m[2020-05-21:23:22:57:INFO] Determined delimiter of CSV input is ','\u001b[0m\n",
      "\u001b[35m[2020-05-21:23:22:57:INFO] Sniff delimiter as ','\u001b[0m\n",
      "\u001b[35m[2020-05-21:23:22:57:INFO] Determined delimiter of CSV input is ','\u001b[0m\n",
      "\u001b[34m[2020-05-21:23:22:59:INFO] Sniff delimiter as ','\u001b[0m\n",
      "\u001b[34m[2020-05-21:23:22:59:INFO] Determined delimiter of CSV input is ','\u001b[0m\n",
      "\u001b[34m[2020-05-21:23:22:59:INFO] Sniff delimiter as ','\u001b[0m\n",
      "\u001b[34m[2020-05-21:23:22:59:INFO] Determined delimiter of CSV input is ','\u001b[0m\n",
      "\u001b[34m[2020-05-21:23:22:59:INFO] Sniff delimiter as ','\u001b[0m\n",
      "\u001b[34m[2020-05-21:23:22:59:INFO] Determined delimiter of CSV input is ','\u001b[0m\n",
      "\u001b[34m[2020-05-21:23:23:00:INFO] Sniff delimiter as ','\u001b[0m\n",
      "\u001b[34m[2020-05-21:23:23:00:INFO] Determined delimiter of CSV input is ','\u001b[0m\n",
      "\u001b[35m[2020-05-21:23:22:59:INFO] Sniff delimiter as ','\u001b[0m\n",
      "\u001b[35m[2020-05-21:23:22:59:INFO] Determined delimiter of CSV input is ','\u001b[0m\n",
      "\u001b[35m[2020-05-21:23:22:59:INFO] Sniff delimiter as ','\u001b[0m\n",
      "\u001b[35m[2020-05-21:23:22:59:INFO] Determined delimiter of CSV input is ','\u001b[0m\n",
      "\u001b[35m[2020-05-21:23:22:59:INFO] Sniff delimiter as ','\u001b[0m\n",
      "\u001b[35m[2020-05-21:23:22:59:INFO] Determined delimiter of CSV input is ','\u001b[0m\n",
      "\u001b[35m[2020-05-21:23:23:00:INFO] Sniff delimiter as ','\u001b[0m\n",
      "\u001b[35m[2020-05-21:23:23:00:INFO] Determined delimiter of CSV input is ','\u001b[0m\n",
      "\u001b[34m[2020-05-21:23:23:01:INFO] Sniff delimiter as ','\u001b[0m\n",
      "\u001b[34m[2020-05-21:23:23:01:INFO] Determined delimiter of CSV input is ','\u001b[0m\n",
      "\u001b[34m[2020-05-21:23:23:02:INFO] Sniff delimiter as ','\u001b[0m\n",
      "\u001b[34m[2020-05-21:23:23:02:INFO] Determined delimiter of CSV input is ','\u001b[0m\n",
      "\u001b[34m[2020-05-21:23:23:02:INFO] Sniff delimiter as ','\u001b[0m\n",
      "\u001b[34m[2020-05-21:23:23:02:INFO] Determined delimiter of CSV input is ','\u001b[0m\n",
      "\u001b[35m[2020-05-21:23:23:01:INFO] Sniff delimiter as ','\u001b[0m\n",
      "\u001b[35m[2020-05-21:23:23:01:INFO] Determined delimiter of CSV input is ','\u001b[0m\n",
      "\u001b[35m[2020-05-21:23:23:02:INFO] Sniff delimiter as ','\u001b[0m\n",
      "\u001b[35m[2020-05-21:23:23:02:INFO] Determined delimiter of CSV input is ','\u001b[0m\n",
      "\u001b[35m[2020-05-21:23:23:02:INFO] Sniff delimiter as ','\u001b[0m\n",
      "\u001b[35m[2020-05-21:23:23:02:INFO] Determined delimiter of CSV input is ','\u001b[0m\n",
      "\u001b[34m[2020-05-21:23:23:02:INFO] Sniff delimiter as ','\u001b[0m\n",
      "\u001b[34m[2020-05-21:23:23:02:INFO] Determined delimiter of CSV input is ','\u001b[0m\n",
      "\u001b[35m[2020-05-21:23:23:02:INFO] Sniff delimiter as ','\u001b[0m\n",
      "\u001b[35m[2020-05-21:23:23:02:INFO] Determined delimiter of CSV input is ','\u001b[0m\n"
     ]
    }
   ],
   "source": [
    "new_xgb_transformer.transform(test_location, content_type='text/csv', split_type='Line')\n",
    "new_xgb_transformer.wait()"
   ]
  },
  {
   "cell_type": "code",
   "execution_count": 86,
   "metadata": {},
   "outputs": [
    {
     "name": "stdout",
     "output_type": "stream",
     "text": [
      "Completed 256.0 KiB/366.9 KiB (3.5 MiB/s) with 1 file(s) remaining\r",
      "Completed 366.9 KiB/366.9 KiB (4.9 MiB/s) with 1 file(s) remaining\r",
      "download: s3://sagemaker-us-west-1-731892558299/xgboost-2020-05-21-23-19-04-183/test.csv.out to ../data/sentiment_update/test.csv.out\r\n"
     ]
    }
   ],
   "source": [
    "!aws s3 cp --recursive $new_xgb_transformer.output_path $data_dir"
   ]
  },
  {
   "cell_type": "code",
   "execution_count": 87,
   "metadata": {},
   "outputs": [],
   "source": [
    "predictions = pd.read_csv(os.path.join(data_dir, 'test.csv.out'), header=None)\n",
    "predictions = [round(num) for num in predictions.squeeze().values]"
   ]
  },
  {
   "cell_type": "code",
   "execution_count": 88,
   "metadata": {},
   "outputs": [
    {
     "data": {
      "text/plain": [
       "0.83732"
      ]
     },
     "execution_count": 88,
     "metadata": {},
     "output_type": "execute_result"
    }
   ],
   "source": [
    "accuracy_score(test_Y, predictions)"
   ]
  },
  {
   "cell_type": "markdown",
   "metadata": {},
   "source": [
    "It would appear that our new XGBoost model is performing quite well on the old test data. This gives us some indication that our new model should be put into production and replace our original model."
   ]
  },
  {
   "cell_type": "markdown",
   "metadata": {},
   "source": [
    "## Step 6: (TODO) Updating the Model\n",
    "\n",
    "So we have a new model that we'd like to use instead of one that is already deployed. Furthermore, we are assuming that the model that is already deployed is being used in some sort of application. As a result, what we want to do is update the existing endpoint so that it uses our new model.\n",
    "\n",
    "Of course, to do this we need to create an endpoint configuration for our newly created model.\n",
    "\n",
    "First, note that we can access the name of the model that we created above using the `model_name` property of the transformer. The reason for this is that in order for the transformer to create a batch transform job it needs to first create the model object inside of SageMaker. Since we've sort of already done this we should take advantage of it."
   ]
  },
  {
   "cell_type": "code",
   "execution_count": 89,
   "metadata": {},
   "outputs": [
    {
     "data": {
      "text/plain": [
       "'xgboost-2020-05-21-23-01-32-975'"
      ]
     },
     "execution_count": 89,
     "metadata": {},
     "output_type": "execute_result"
    }
   ],
   "source": [
    "new_xgb_transformer.model_name"
   ]
  },
  {
   "cell_type": "markdown",
   "metadata": {},
   "source": [
    "Next, we create an endpoint configuration using the low level approach of creating the dictionary object which describes the endpoint configuration we want.\n",
    "\n",
    "**TODO:** Using the low level approach, create a new endpoint configuration. Don't forget that it needs a name and that the name needs to be unique. If you get stuck, try looking at the Boston Housing Low Level Deployment tutorial notebook."
   ]
  },
  {
   "cell_type": "code",
   "execution_count": 90,
   "metadata": {},
   "outputs": [],
   "source": [
    "from time import gmtime, strftime\n",
    "\n",
    "\n",
    "# TODO: Give our endpoint configuration a name. Remember, it needs to be unique.\n",
    "new_xgb_endpoint_config_name = None\n",
    "new_xgb_endpoint_config_name = \"sentiment-update-xgboost-endpoint-config-\" + strftime(\"%Y-%m-%d-%H-%M-%S\", gmtime())\n",
    "\n",
    "\n",
    "# TODO: Using the SageMaker Client, construct the endpoint configuration.\n",
    "new_xgb_endpoint_config_info = None\n",
    "new_xgb_endpoint_config_info = session.sagemaker_client.create_endpoint_config(\n",
    "                            EndpointConfigName = new_xgb_endpoint_config_name,\n",
    "                            ProductionVariants = [{\n",
    "                                \"InstanceType\": \"ml.m4.xlarge\",\n",
    "                                \"InitialVariantWeight\": 1,\n",
    "                                \"InitialInstanceCount\": 1,\n",
    "                                \"ModelName\": new_xgb_transformer.model_name,\n",
    "                                \"VariantName\": \"XGB-Model\"\n",
    "                            }])"
   ]
  },
  {
   "cell_type": "markdown",
   "metadata": {},
   "source": [
    "Once the endpoint configuration has been constructed, it is a straightforward matter to ask SageMaker to update the existing endpoint so that it uses the new endpoint configuration.\n",
    "\n",
    "Of note here is that SageMaker does this in such a way that there is no downtime. Essentially, SageMaker deploys the new model and then updates the original endpoint so that it points to the newly deployed model. After that, the original model is shut down. This way, whatever app is using our endpoint won't notice that we've changed the model that is being used.\n",
    "\n",
    "**TODO:** Use the SageMaker Client to update the endpoint that you deployed earlier."
   ]
  },
  {
   "cell_type": "code",
   "execution_count": 91,
   "metadata": {},
   "outputs": [
    {
     "data": {
      "text/plain": [
       "{'EndpointArn': 'arn:aws:sagemaker:us-west-1:731892558299:endpoint/xgboost-2020-05-21-16-56-01-110',\n",
       " 'ResponseMetadata': {'RequestId': 'f3878be3-8b2b-4c7b-a587-506e44b18096',\n",
       "  'HTTPStatusCode': 200,\n",
       "  'HTTPHeaders': {'x-amzn-requestid': 'f3878be3-8b2b-4c7b-a587-506e44b18096',\n",
       "   'content-type': 'application/x-amz-json-1.1',\n",
       "   'content-length': '99',\n",
       "   'date': 'Thu, 21 May 2020 23:24:36 GMT'},\n",
       "  'RetryAttempts': 0}}"
      ]
     },
     "execution_count": 91,
     "metadata": {},
     "output_type": "execute_result"
    }
   ],
   "source": [
    "# TODO: Update the xgb_predictor.endpoint so that it uses new_xgb_endpoint_config_name.\n",
    "session.sagemaker_client.update_endpoint(EndpointName=xgb_predictor.endpoint, EndpointConfigName=new_xgb_endpoint_config_name)"
   ]
  },
  {
   "cell_type": "markdown",
   "metadata": {},
   "source": [
    "And, as is generally the case with SageMaker requests, this is being done in the background so if we want to wait for it to complete we need to call the appropriate method."
   ]
  },
  {
   "cell_type": "code",
   "execution_count": 92,
   "metadata": {},
   "outputs": [
    {
     "name": "stdout",
     "output_type": "stream",
     "text": [
      "---------!"
     ]
    },
    {
     "data": {
      "text/plain": [
       "{'EndpointName': 'xgboost-2020-05-21-16-56-01-110',\n",
       " 'EndpointArn': 'arn:aws:sagemaker:us-west-1:731892558299:endpoint/xgboost-2020-05-21-16-56-01-110',\n",
       " 'EndpointConfigName': 'sentiment-update-xgboost-endpoint-config-2020-05-21-23-24-31',\n",
       " 'ProductionVariants': [{'VariantName': 'XGB-Model',\n",
       "   'DeployedImages': [{'SpecifiedImage': '632365934929.dkr.ecr.us-west-1.amazonaws.com/xgboost:1',\n",
       "     'ResolvedImage': '632365934929.dkr.ecr.us-west-1.amazonaws.com/xgboost@sha256:513e8442b35b9ecc9d326f85659f8e30b10e2cec096b863f04a9738baa9ebb57',\n",
       "     'ResolutionTime': datetime.datetime(2020, 5, 21, 23, 24, 39, 357000, tzinfo=tzlocal())}],\n",
       "   'CurrentWeight': 1.0,\n",
       "   'DesiredWeight': 1.0,\n",
       "   'CurrentInstanceCount': 1,\n",
       "   'DesiredInstanceCount': 1}],\n",
       " 'EndpointStatus': 'InService',\n",
       " 'CreationTime': datetime.datetime(2020, 5, 21, 20, 25, 15, 540000, tzinfo=tzlocal()),\n",
       " 'LastModifiedTime': datetime.datetime(2020, 5, 21, 23, 30, 48, 222000, tzinfo=tzlocal()),\n",
       " 'ResponseMetadata': {'RequestId': '7fd3904f-ad78-492a-ba93-6d20a571ae4e',\n",
       "  'HTTPStatusCode': 200,\n",
       "  'HTTPHeaders': {'x-amzn-requestid': '7fd3904f-ad78-492a-ba93-6d20a571ae4e',\n",
       "   'content-type': 'application/x-amz-json-1.1',\n",
       "   'content-length': '741',\n",
       "   'date': 'Thu, 21 May 2020 23:30:51 GMT'},\n",
       "  'RetryAttempts': 0}}"
      ]
     },
     "execution_count": 92,
     "metadata": {},
     "output_type": "execute_result"
    }
   ],
   "source": [
    "session.wait_for_endpoint(xgb_predictor.endpoint)"
   ]
  },
  {
   "cell_type": "markdown",
   "metadata": {},
   "source": [
    "## Step 7: Delete the Endpoint\n",
    "\n",
    "Of course, since we are done with the deployed endpoint we need to make sure to shut it down, otherwise we will continue to be charged for it."
   ]
  },
  {
   "cell_type": "code",
   "execution_count": 93,
   "metadata": {},
   "outputs": [],
   "source": [
    "xgb_predictor.delete_endpoint()"
   ]
  },
  {
   "cell_type": "markdown",
   "metadata": {},
   "source": [
    "## Some Additional Questions\n",
    "\n",
    "This notebook is a little different from the other notebooks in this module. In part, this is because it is meant to be a little bit closer to the type of problem you may face in a real world scenario. Of course, this problem is a very easy one with a prescribed solution, but there are many other interesting questions that we did not consider here and that you may wish to consider yourself.\n",
    "\n",
    "For example,\n",
    "- What other ways could the underlying distribution change?\n",
    "- Is it a good idea to re-train the model using only the new data?\n",
    "- What would change if the quantity of new data wasn't large. Say you only received 500 samples?\n"
   ]
  },
  {
   "cell_type": "markdown",
   "metadata": {},
   "source": [
    "## Optional: Clean up\n",
    "\n",
    "The default notebook instance on SageMaker doesn't have a lot of excess disk space available. As you continue to complete and execute notebooks you will eventually fill up this disk space, leading to errors which can be difficult to diagnose. Once you are completely finished using a notebook it is a good idea to remove the files that you created along the way. Of course, you can do this from the terminal or from the notebook hub if you would like. The cell below contains some commands to clean up the created files from within the notebook."
   ]
  },
  {
   "cell_type": "code",
   "execution_count": 94,
   "metadata": {},
   "outputs": [],
   "source": [
    "# First we will remove all of the files contained in the data_dir directory\n",
    "!rm $data_dir/*\n",
    "\n",
    "# And then we delete the directory itself\n",
    "!rmdir $data_dir\n",
    "\n",
    "# Similarly we will remove the files in the cache_dir directory and the directory itself\n",
    "!rm $cache_dir/*\n",
    "!rmdir $cache_dir"
   ]
  },
  {
   "cell_type": "code",
   "execution_count": null,
   "metadata": {},
   "outputs": [],
   "source": []
  }
 ],
 "metadata": {
  "kernelspec": {
   "display_name": "conda_pytorch_p36",
   "language": "python",
   "name": "conda_pytorch_p36"
  },
  "language_info": {
   "codemirror_mode": {
    "name": "ipython",
    "version": 3
   },
   "file_extension": ".py",
   "mimetype": "text/x-python",
   "name": "python",
   "nbconvert_exporter": "python",
   "pygments_lexer": "ipython3",
   "version": "3.6.5"
  }
 },
 "nbformat": 4,
 "nbformat_minor": 2
}
