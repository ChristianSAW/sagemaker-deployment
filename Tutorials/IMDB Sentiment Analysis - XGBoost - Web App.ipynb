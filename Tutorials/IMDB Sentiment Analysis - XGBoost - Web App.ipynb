{
 "cells": [
  {
   "cell_type": "markdown",
   "metadata": {},
   "source": [
    "# Sentiment Analysis Web App\n",
    "\n",
    "_Deep Learning Nanodegree Program | Deployment_\n",
    "\n",
    "---\n",
    "\n",
    "In this notebook we will use Amazon's SageMaker service to construct a random tree model to predict the sentiment of a movie review. In addition, we will deploy this model to an endpoint and construct a very simple web app which will interact with our model's deployed endpoint.\n",
    "\n",
    "## General Outline\n",
    "\n",
    "Typically, when using a notebook instance with SageMaker, you will proceed through the following steps. Of course, not every step will need to be done with each project. Also, there is quite a lot of room for variation in many of the steps, as you will see throughout these lessons.\n",
    "\n",
    "1. Download or otherwise retrieve the data.\n",
    "2. Process / Prepare the data.\n",
    "3. Upload the processed data to S3.\n",
    "4. Train a chosen model.\n",
    "5. Test the trained model (typically using a batch transform job).\n",
    "6. Deploy the trained model.\n",
    "7. Use the deployed model.\n",
    "\n",
    "In this notebook we will progress through each of the steps above. We will also see that the final step, using the deployed model, can be quite challenging."
   ]
  },
  {
   "cell_type": "markdown",
   "metadata": {},
   "source": [
    "## Step 1: Downloading the data\n",
    "\n",
    "The dataset we are going to use is very popular among researchers in Natural Language Processing, usually referred to as the [IMDb dataset](http://ai.stanford.edu/~amaas/data/sentiment/). It consists of movie reviews from the website [imdb.com](http://www.imdb.com/), each labeled as either '**pos**itive', if the reviewer enjoyed the film, or '**neg**ative' otherwise.\n",
    "\n",
    "> Maas, Andrew L., et al. [Learning Word Vectors for Sentiment Analysis](http://ai.stanford.edu/~amaas/data/sentiment/). In _Proceedings of the 49th Annual Meeting of the Association for Computational Linguistics: Human Language Technologies_. Association for Computational Linguistics, 2011.\n",
    "\n",
    "We begin by using some Jupyter Notebook magic to download and extract the dataset."
   ]
  },
  {
   "cell_type": "code",
   "execution_count": 1,
   "metadata": {},
   "outputs": [
    {
     "name": "stdout",
     "output_type": "stream",
     "text": [
      "mkdir: cannot create directory ‘../data’: File exists\n",
      "--2020-05-07 19:12:49--  http://ai.stanford.edu/~amaas/data/sentiment/aclImdb_v1.tar.gz\n",
      "Resolving ai.stanford.edu (ai.stanford.edu)... 171.64.68.10\n",
      "Connecting to ai.stanford.edu (ai.stanford.edu)|171.64.68.10|:80... connected.\n",
      "HTTP request sent, awaiting response... 200 OK\n",
      "Length: 84125825 (80M) [application/x-gzip]\n",
      "Saving to: ‘../data/aclImdb_v1.tar.gz’\n",
      "\n",
      "../data/aclImdb_v1. 100%[===================>]  80.23M  67.7MB/s    in 1.2s    \n",
      "\n",
      "2020-05-07 19:12:50 (67.7 MB/s) - ‘../data/aclImdb_v1.tar.gz’ saved [84125825/84125825]\n",
      "\n"
     ]
    }
   ],
   "source": [
    "%mkdir ../data\n",
    "!wget -O ../data/aclImdb_v1.tar.gz http://ai.stanford.edu/~amaas/data/sentiment/aclImdb_v1.tar.gz\n",
    "!tar -zxf ../data/aclImdb_v1.tar.gz -C ../data"
   ]
  },
  {
   "cell_type": "markdown",
   "metadata": {},
   "source": [
    "## Step 2: Preparing and Processing the data\n",
    "\n",
    "The data we have downloaded is split into various files, each of which contains a single review. It will be much easier going forward if we combine these individual files into two large files, one for training and one for testing."
   ]
  },
  {
   "cell_type": "code",
   "execution_count": 8,
   "metadata": {},
   "outputs": [],
   "source": [
    "import os\n",
    "import glob\n",
    "\n",
    "def read_imdb_data(data_dir='../data/aclImdb'):\n",
    "    data = {}\n",
    "    labels = {}\n",
    "    \n",
    "    for data_type in ['train', 'test']:\n",
    "        data[data_type] = {}\n",
    "        labels[data_type] = {}\n",
    "        \n",
    "        for sentiment in ['pos', 'neg']:\n",
    "            data[data_type][sentiment] = []\n",
    "            labels[data_type][sentiment] = []\n",
    "            \n",
    "            path = os.path.join(data_dir, data_type, sentiment, '*.txt')\n",
    "            files = glob.glob(path)\n",
    "            \n",
    "            for f in files:\n",
    "                with open(f) as review:\n",
    "                    data[data_type][sentiment].append(review.read())\n",
    "                    # Here we represent a positive review by '1' and a negative review by '0'\n",
    "                    labels[data_type][sentiment].append(1 if sentiment == 'pos' else 0)\n",
    "                    \n",
    "            assert len(data[data_type][sentiment]) == len(labels[data_type][sentiment]), \\\n",
    "                    \"{}/{} data size does not match labels size\".format(data_type, sentiment)\n",
    "                \n",
    "    return data, labels"
   ]
  },
  {
   "cell_type": "code",
   "execution_count": 9,
   "metadata": {},
   "outputs": [
    {
     "name": "stdout",
     "output_type": "stream",
     "text": [
      "IMDB reviews: train = 12500 pos / 12500 neg, test = 12500 pos / 12500 neg\n"
     ]
    }
   ],
   "source": [
    "data, labels = read_imdb_data()\n",
    "print(\"IMDB reviews: train = {} pos / {} neg, test = {} pos / {} neg\".format(\n",
    "            len(data['train']['pos']), len(data['train']['neg']),\n",
    "            len(data['test']['pos']), len(data['test']['neg'])))"
   ]
  },
  {
   "cell_type": "code",
   "execution_count": 10,
   "metadata": {},
   "outputs": [],
   "source": [
    "from sklearn.utils import shuffle\n",
    "\n",
    "def prepare_imdb_data(data, labels):\n",
    "    \"\"\"Prepare training and test sets from IMDb movie reviews.\"\"\"\n",
    "    \n",
    "    #Combine positive and negative reviews and labels\n",
    "    data_train = data['train']['pos'] + data['train']['neg']\n",
    "    data_test = data['test']['pos'] + data['test']['neg']\n",
    "    labels_train = labels['train']['pos'] + labels['train']['neg']\n",
    "    labels_test = labels['test']['pos'] + labels['test']['neg']\n",
    "    \n",
    "    #Shuffle reviews and corresponding labels within training and test sets\n",
    "    data_train, labels_train = shuffle(data_train, labels_train)\n",
    "    data_test, labels_test = shuffle(data_test, labels_test)\n",
    "    \n",
    "    # Return a unified training data, test data, training labels, test labets\n",
    "    return data_train, data_test, labels_train, labels_test"
   ]
  },
  {
   "cell_type": "code",
   "execution_count": 11,
   "metadata": {},
   "outputs": [
    {
     "name": "stdout",
     "output_type": "stream",
     "text": [
      "IMDb reviews (combined): train = 25000, test = 25000\n"
     ]
    }
   ],
   "source": [
    "train_X, test_X, train_y, test_y = prepare_imdb_data(data, labels)\n",
    "print(\"IMDb reviews (combined): train = {}, test = {}\".format(len(train_X), len(test_X)))"
   ]
  },
  {
   "cell_type": "code",
   "execution_count": 12,
   "metadata": {},
   "outputs": [
    {
     "data": {
      "text/plain": [
       "'Finally, after years of awaiting a new film to continue the sexual mayhem of \"Basic Instinct\", we have been given a great sequel that is packed with the right elements needed for a franchise such as this! I remember everything about the original, the steam, the romance, the sex, the interrogation, the music (by the master Jerry Goldsmith), and everything else from violence and murder, to intense confrontations of all kind! Make no mistake, \"Basic Instinct\" was a real winner for audiences everywhere. I can remember in 2001 when we were first given the news about such a sequel. Five years later, we have it. I never would have thought it to end up such as this. When it was declared a dropped project, time sure couldn\\'t tell if it was ever a real possibility to begin with. Well, I guess we now know anything\\'s possible in this case. Even if the original director, or writer are not present, all we need is the glamorous, always reliable Sharon Stone, and we have a done deal! Please, hear me out...<br /><br />When people say that this film is bad, I think it is only due to the fact that the style is extreme, and slightly dated. I use the word \"dated\" only because we have not seen a certain film of the like in many years, and audiences have become adapted to the pointless, boring storytelling seen in other movies that actually make money, and the only reason they make such big numbers is because those films are family friendly. Who needs hole some and clean? Of course it\\'s a pleasant thing to have, but c\\'mon! Escapism is really seldom these days, and \"Basic Instinct 2\" gives us real fans what we\\'ve been expecting. This film is not an Academy Award winner, nor does it try to be. It simply delivers the die-hard fans what they have been expecting. It\\'s a film for fun. Movies today seem to take themselves way too seriously, but this film is just loose and fun, not taking itself seriously, not too seriously anyway. That said, I shall evaluate the film.<br /><br />The film is a fast-paced film from the first second, as we see Cathernine Tremell in a car, speeding at 110 MPH-and enjoying lustful thrills doing so. Perhaps sex and driving does not mix, because our sexy novelist takes a bad turn and...well, she gets away unharmed, but her studly partner doesn\\'t fare too well. Once again, Tremell is the primary suspect of the accident, and will be put under analyst\\'s and psychiatrists. Dr. Michael Glass (Morrissey) is automatically drawn to to her from the first moment he meets her. Like another criminal investigator before him, he is entranced and seduced, slowly, and surely. His denial of it all begins to crumble around him as she weaves a spell only she has the power to do. Tramell is possibly more dangerous now, than she was before,but like the first one, we\\'ll never really know, will we? Once the seduction is in motion, jealousy, rage, drugs, and a plateful of erotic scenery ensues!<br /><br />This film does not recycle the first one, but rather mentions the previous films incidents briefly from time to time. This is a good thing. It lets us as an audience know that the script has been written to bring the level up a notch or two. Sharon Stone dazzles us again, as though 14 years has not come to pass. Her second run of the deceitful novelist is right on the spot as earlier. Just awesome! David Morrissey is well cast, and manages pretty well. The fact that a non-popular star was chosen, makes his performance all the more enjoyable because we as an audience have no background on him, just what we see him perform. My final thought-8.5 to 9 out of 10. So it\\'s not the first one, nor can it live up to the first ones prize winning place. It can, however, live up to the standards set by the first film, and it does folks! It does.'"
      ]
     },
     "execution_count": 12,
     "metadata": {},
     "output_type": "execute_result"
    }
   ],
   "source": [
    "train_X[100]"
   ]
  },
  {
   "cell_type": "markdown",
   "metadata": {},
   "source": [
    "## Processing the data\n",
    "\n",
    "Now that we have our training and testing datasets merged and ready to use, we need to start processing the raw data into something that will be useable by our machine learning algorithm. To begin with, we remove any html formatting and any non-alpha numeric characters that may appear in the reviews. We will do this in a very simplistic way using Python's regular expression module. We will discuss the reason for this rather simplistic pre-processing later on."
   ]
  },
  {
   "cell_type": "code",
   "execution_count": 13,
   "metadata": {},
   "outputs": [],
   "source": [
    "import re\n",
    "\n",
    "REPLACE_NO_SPACE = re.compile(\"(\\.)|(\\;)|(\\:)|(\\!)|(\\')|(\\?)|(\\,)|(\\\")|(\\()|(\\))|(\\[)|(\\])\")\n",
    "REPLACE_WITH_SPACE = re.compile(\"(<br\\s*/><br\\s*/>)|(\\-)|(\\/)\")\n",
    "\n",
    "def review_to_words(review):\n",
    "    words = REPLACE_NO_SPACE.sub(\"\", review.lower())\n",
    "    words = REPLACE_WITH_SPACE.sub(\" \", words)\n",
    "    return words"
   ]
  },
  {
   "cell_type": "code",
   "execution_count": 14,
   "metadata": {},
   "outputs": [
    {
     "data": {
      "text/plain": [
       "'finally after years of awaiting a new film to continue the sexual mayhem of basic instinct we have been given a great sequel that is packed with the right elements needed for a franchise such as this i remember everything about the original the steam the romance the sex the interrogation the music by the master jerry goldsmith and everything else from violence and murder to intense confrontations of all kind make no mistake basic instinct was a real winner for audiences everywhere i can remember in 2001 when we were first given the news about such a sequel five years later we have it i never would have thought it to end up such as this when it was declared a dropped project time sure couldnt tell if it was ever a real possibility to begin with well i guess we now know anythings possible in this case even if the original director or writer are not present all we need is the glamorous always reliable sharon stone and we have a done deal please hear me out when people say that this film is bad i think it is only due to the fact that the style is extreme and slightly dated i use the word dated only because we have not seen a certain film of the like in many years and audiences have become adapted to the pointless boring storytelling seen in other movies that actually make money and the only reason they make such big numbers is because those films are family friendly who needs hole some and clean of course its a pleasant thing to have but cmon escapism is really seldom these days and basic instinct 2 gives us real fans what weve been expecting this film is not an academy award winner nor does it try to be it simply delivers the die hard fans what they have been expecting its a film for fun movies today seem to take themselves way too seriously but this film is just loose and fun not taking itself seriously not too seriously anyway that said i shall evaluate the film the film is a fast paced film from the first second as we see cathernine tremell in a car speeding at 110 mph and enjoying lustful thrills doing so perhaps sex and driving does not mix because our sexy novelist takes a bad turn andwell she gets away unharmed but her studly partner doesnt fare too well once again tremell is the primary suspect of the accident and will be put under analysts and psychiatrists dr michael glass morrissey is automatically drawn to to her from the first moment he meets her like another criminal investigator before him he is entranced and seduced slowly and surely his denial of it all begins to crumble around him as she weaves a spell only she has the power to do tramell is possibly more dangerous now than she was beforebut like the first one well never really know will we once the seduction is in motion jealousy rage drugs and a plateful of erotic scenery ensues this film does not recycle the first one but rather mentions the previous films incidents briefly from time to time this is a good thing it lets us as an audience know that the script has been written to bring the level up a notch or two sharon stone dazzles us again as though 14 years has not come to pass her second run of the deceitful novelist is right on the spot as earlier just awesome david morrissey is well cast and manages pretty well the fact that a non popular star was chosen makes his performance all the more enjoyable because we as an audience have no background on him just what we see him perform my final thought 85 to 9 out of 10 so its not the first one nor can it live up to the first ones prize winning place it can however live up to the standards set by the first film and it does folks it does'"
      ]
     },
     "execution_count": 14,
     "metadata": {},
     "output_type": "execute_result"
    }
   ],
   "source": [
    "review_to_words(train_X[100])"
   ]
  },
  {
   "cell_type": "code",
   "execution_count": 15,
   "metadata": {},
   "outputs": [],
   "source": [
    "import pickle\n",
    "\n",
    "cache_dir = os.path.join(\"../cache\", \"sentiment_web_app\")  # where to store cache files\n",
    "os.makedirs(cache_dir, exist_ok=True)  # ensure cache directory exists\n",
    "\n",
    "def preprocess_data(data_train, data_test, labels_train, labels_test,\n",
    "                    cache_dir=cache_dir, cache_file=\"preprocessed_data.pkl\"):\n",
    "    \"\"\"Convert each review to words; read from cache if available.\"\"\"\n",
    "\n",
    "    # If cache_file is not None, try to read from it first\n",
    "    cache_data = None\n",
    "    if cache_file is not None:\n",
    "        try:\n",
    "            with open(os.path.join(cache_dir, cache_file), \"rb\") as f:\n",
    "                cache_data = pickle.load(f)\n",
    "            print(\"Read preprocessed data from cache file:\", cache_file)\n",
    "        except:\n",
    "            pass  # unable to read from cache, but that's okay\n",
    "    \n",
    "    # If cache is missing, then do the heavy lifting\n",
    "    if cache_data is None:\n",
    "        # Preprocess training and test data to obtain words for each review\n",
    "        #words_train = list(map(review_to_words, data_train))\n",
    "        #words_test = list(map(review_to_words, data_test))\n",
    "        words_train = [review_to_words(review) for review in data_train]\n",
    "        words_test = [review_to_words(review) for review in data_test]\n",
    "        \n",
    "        # Write to cache file for future runs\n",
    "        if cache_file is not None:\n",
    "            cache_data = dict(words_train=words_train, words_test=words_test,\n",
    "                              labels_train=labels_train, labels_test=labels_test)\n",
    "            with open(os.path.join(cache_dir, cache_file), \"wb\") as f:\n",
    "                pickle.dump(cache_data, f)\n",
    "            print(\"Wrote preprocessed data to cache file:\", cache_file)\n",
    "    else:\n",
    "        # Unpack data loaded from cache file\n",
    "        words_train, words_test, labels_train, labels_test = (cache_data['words_train'],\n",
    "                cache_data['words_test'], cache_data['labels_train'], cache_data['labels_test'])\n",
    "    \n",
    "    return words_train, words_test, labels_train, labels_test"
   ]
  },
  {
   "cell_type": "code",
   "execution_count": 16,
   "metadata": {},
   "outputs": [
    {
     "name": "stdout",
     "output_type": "stream",
     "text": [
      "Read preprocessed data from cache file: preprocessed_data.pkl\n"
     ]
    }
   ],
   "source": [
    "# Preprocess data\n",
    "train_X, test_X, train_y, test_y = preprocess_data(train_X, test_X, train_y, test_y)"
   ]
  },
  {
   "cell_type": "markdown",
   "metadata": {},
   "source": [
    "### Extract Bag-of-Words features\n",
    "\n",
    "For the model we will be implementing, rather than using the reviews directly, we are going to transform each review into a Bag-of-Words feature representation. Keep in mind that 'in the wild' we will only have access to the training set so our transformer can only use the training set to construct a representation."
   ]
  },
  {
   "cell_type": "code",
   "execution_count": 17,
   "metadata": {},
   "outputs": [],
   "source": [
    "import numpy as np\n",
    "from sklearn.feature_extraction.text import CountVectorizer\n",
    "from sklearn.externals import joblib\n",
    "# joblib is an enhanced version of pickle that is more efficient for storing NumPy arrays\n",
    "\n",
    "def extract_BoW_features(words_train, words_test, vocabulary_size=5000,\n",
    "                         cache_dir=cache_dir, cache_file=\"bow_features.pkl\"):\n",
    "    \"\"\"Extract Bag-of-Words for a given set of documents, already preprocessed into words.\"\"\"\n",
    "    \n",
    "    # If cache_file is not None, try to read from it first\n",
    "    cache_data = None\n",
    "    if cache_file is not None:\n",
    "        try:\n",
    "            with open(os.path.join(cache_dir, cache_file), \"rb\") as f:\n",
    "                cache_data = joblib.load(f)\n",
    "            print(\"Read features from cache file:\", cache_file)\n",
    "        except:\n",
    "            pass  # unable to read from cache, but that's okay\n",
    "    \n",
    "    # If cache is missing, then do the heavy lifting\n",
    "    if cache_data is None:\n",
    "        # Fit a vectorizer to training documents and use it to transform them\n",
    "        # NOTE: Training documents have already been preprocessed and tokenized into words;\n",
    "        #       pass in dummy functions to skip those steps, e.g. preprocessor=lambda x: x\n",
    "        vectorizer = CountVectorizer(max_features=vocabulary_size)\n",
    "        features_train = vectorizer.fit_transform(words_train).toarray()\n",
    "\n",
    "        # Apply the same vectorizer to transform the test documents (ignore unknown words)\n",
    "        features_test = vectorizer.transform(words_test).toarray()\n",
    "        \n",
    "        # NOTE: Remember to convert the features using .toarray() for a compact representation\n",
    "        \n",
    "        # Write to cache file for future runs (store vocabulary as well)\n",
    "        if cache_file is not None:\n",
    "            vocabulary = vectorizer.vocabulary_\n",
    "            cache_data = dict(features_train=features_train, features_test=features_test,\n",
    "                             vocabulary=vocabulary)\n",
    "            with open(os.path.join(cache_dir, cache_file), \"wb\") as f:\n",
    "                joblib.dump(cache_data, f)\n",
    "            print(\"Wrote features to cache file:\", cache_file)\n",
    "    else:\n",
    "        # Unpack data loaded from cache file\n",
    "        features_train, features_test, vocabulary = (cache_data['features_train'],\n",
    "                cache_data['features_test'], cache_data['vocabulary'])\n",
    "    \n",
    "    # Return both the extracted features as well as the vocabulary\n",
    "    return features_train, features_test, vocabulary"
   ]
  },
  {
   "cell_type": "code",
   "execution_count": 18,
   "metadata": {},
   "outputs": [
    {
     "name": "stdout",
     "output_type": "stream",
     "text": [
      "Read features from cache file: bow_features.pkl\n"
     ]
    }
   ],
   "source": [
    "# Extract Bag of Words features for both training and test datasets\n",
    "train_X, test_X, vocabulary = extract_BoW_features(train_X, test_X)"
   ]
  },
  {
   "cell_type": "code",
   "execution_count": 19,
   "metadata": {},
   "outputs": [
    {
     "data": {
      "text/plain": [
       "5000"
      ]
     },
     "execution_count": 19,
     "metadata": {},
     "output_type": "execute_result"
    }
   ],
   "source": [
    "len(train_X[100])"
   ]
  },
  {
   "cell_type": "markdown",
   "metadata": {},
   "source": [
    "## Step 3: Upload data to S3\n",
    "\n",
    "Now that we have created the feature representation of our training (and testing) data, it is time to start setting up and using the XGBoost classifier provided by SageMaker.\n",
    "\n",
    "### Writing the datasets\n",
    "\n",
    "The XGBoost classifier that we will be using requires the dataset to be written to a file and stored using Amazon S3. To do this, we will start by splitting the training dataset into two parts, the data we will train the model with and a validation set. Then, we will write those datasets to a file locally and then upload the files to S3. In addition, we will write the test set to a file and upload that file to S3. This is so that we can use SageMakers Batch Transform functionality to test our model once we've fit it."
   ]
  },
  {
   "cell_type": "code",
   "execution_count": 14,
   "metadata": {},
   "outputs": [],
   "source": [
    "import pandas as pd\n",
    "\n",
    "# Earlier we shuffled the training dataset so to make things simple we can just assign\n",
    "# the first 10 000 reviews to the validation set and use the remaining reviews for training.\n",
    "val_X = pd.DataFrame(train_X[:10000])\n",
    "train_X = pd.DataFrame(train_X[10000:])\n",
    "\n",
    "val_y = pd.DataFrame(train_y[:10000])\n",
    "train_y = pd.DataFrame(train_y[10000:])"
   ]
  },
  {
   "cell_type": "markdown",
   "metadata": {},
   "source": [
    "The documentation for the XGBoost algorithm in SageMaker requires that the training and validation datasets should contain no headers or index and that the label should occur first for each sample.\n",
    "\n",
    "For more information about this and other algorithms, the SageMaker developer documentation can be found on __[Amazon's website.](https://docs.aws.amazon.com/sagemaker/latest/dg/)__"
   ]
  },
  {
   "cell_type": "code",
   "execution_count": 35,
   "metadata": {},
   "outputs": [],
   "source": [
    "# First we make sure that the local directory in which we'd like to store the training and validation csv files exists.\n",
    "data_dir = '../data/sentiment_web_app'\n",
    "if not os.path.exists(data_dir):\n",
    "    os.makedirs(data_dir)"
   ]
  },
  {
   "cell_type": "code",
   "execution_count": 16,
   "metadata": {},
   "outputs": [],
   "source": [
    "pd.DataFrame(test_X).to_csv(os.path.join(data_dir, 'test.csv'), header=False, index=False)\n",
    "\n",
    "pd.concat([val_y, val_X], axis=1).to_csv(os.path.join(data_dir, 'validation.csv'), header=False, index=False)\n",
    "pd.concat([train_y, train_X], axis=1).to_csv(os.path.join(data_dir, 'train.csv'), header=False, index=False)"
   ]
  },
  {
   "cell_type": "code",
   "execution_count": 36,
   "metadata": {},
   "outputs": [],
   "source": [
    "# To save a bit of memory we can set text_X, train_X, val_X, train_y and val_y to None.\n",
    "\n",
    "test_X = train_X = val_X = train_y = val_y = None"
   ]
  },
  {
   "cell_type": "markdown",
   "metadata": {},
   "source": [
    "### Uploading Training / Validation files to S3\n",
    "\n",
    "Amazon's S3 service allows us to store files that can be accessed by both the built-in training models such as the XGBoost model we will be using as well as custom models such as the one we will see a little later.\n",
    "\n",
    "For this and most other tasks we will be doing using SageMaker, there are two methods we could use. The first is to use the low level functionality of SageMaker which requires knowing each of the objects involved in the SageMaker environment. The second is to use the high level functionality in which certain choices have been made on the user's behalf. The low level approach benefits from allowing the user a great deal of flexibility while the high level approach makes development much quicker. For our purposes we will opt to use the high level approach although using the low-level approach is certainly an option.\n",
    "\n",
    "Recall the method `upload_data()` which is a member of the object representing our current SageMaker session. What this method does is upload the data to the default bucket (which is created if it does not exist) into the path described by the key_prefix variable. To see this for yourself, once you have uploaded the data files, go to the S3 console and look to see where the files have been uploaded.\n",
    "\n",
    "For additional resources, see the __[SageMaker API documentation](http://sagemaker.readthedocs.io/en/latest/)__ and in addition the __[SageMaker Developer Guide.](https://docs.aws.amazon.com/sagemaker/latest/dg/)__"
   ]
  },
  {
   "cell_type": "code",
   "execution_count": 37,
   "metadata": {},
   "outputs": [],
   "source": [
    "import sagemaker\n",
    "\n",
    "session = sagemaker.Session() # Store the current SageMaker session\n",
    "\n",
    "# S3 prefix (which folder will we use)\n",
    "prefix = 'sentiment-web-app'\n",
    "\n",
    "test_location = session.upload_data(os.path.join(data_dir, 'test.csv'), key_prefix=prefix)\n",
    "val_location = session.upload_data(os.path.join(data_dir, 'validation.csv'), key_prefix=prefix)\n",
    "train_location = session.upload_data(os.path.join(data_dir, 'train.csv'), key_prefix=prefix)"
   ]
  },
  {
   "cell_type": "markdown",
   "metadata": {},
   "source": [
    "## Step 4: Creating the XGBoost model\n",
    "\n",
    "Now that the data has been uploaded it is time to create the XGBoost model. To begin with, we need to do some setup. At this point it is worth discussing what a model is in SageMaker. It is easiest to think of a model of comprising three different objects in the SageMaker ecosystem, which interact with one another.\n",
    "\n",
    "- Model Artifacts\n",
    "- Training Code (Container)\n",
    "- Inference Code (Container)\n",
    "\n",
    "The Model Artifacts are what you might think of as the actual model itself. For example, if you were building a neural network, the model artifacts would be the weights of the various layers. In our case, for an XGBoost model, the artifacts are the actual trees that are created during training.\n",
    "\n",
    "The other two objects, the training code and the inference code are then used to manipulate the training artifacts. More precisely, the training code uses the training data that is provided and creates the model artifacts, while the inference code uses the model artifacts to make predictions on new data.\n",
    "\n",
    "The way that SageMaker runs the training and inference code is by making use of Docker containers. For now, think of a container as being a way of packaging code up so that dependencies aren't an issue."
   ]
  },
  {
   "cell_type": "code",
   "execution_count": 38,
   "metadata": {},
   "outputs": [],
   "source": [
    "from sagemaker import get_execution_role\n",
    "\n",
    "# Our current execution role is required when creating the model as the training\n",
    "# and inference code will need to access the model artifacts.\n",
    "role = get_execution_role()"
   ]
  },
  {
   "cell_type": "code",
   "execution_count": 39,
   "metadata": {},
   "outputs": [
    {
     "name": "stderr",
     "output_type": "stream",
     "text": [
      "WARNING:root:There is a more up to date SageMaker XGBoost image. To use the newer image, please set 'repo_version'='0.90-1'. For example:\n",
      "\tget_image_uri(region, 'xgboost', '0.90-1').\n"
     ]
    }
   ],
   "source": [
    "# We need to retrieve the location of the container which is provided by Amazon for using XGBoost.\n",
    "# As a matter of convenience, the training and inference code both use the same container.\n",
    "from sagemaker.amazon.amazon_estimator import get_image_uri\n",
    "\n",
    "container = get_image_uri(session.boto_region_name, 'xgboost')"
   ]
  },
  {
   "cell_type": "code",
   "execution_count": 40,
   "metadata": {},
   "outputs": [],
   "source": [
    "# First we create a SageMaker estimator object for our model.\n",
    "xgb = sagemaker.estimator.Estimator(container, # The location of the container we wish to use\n",
    "                                    role,                                    # What is our current IAM Role\n",
    "                                    train_instance_count=1,                  # How many compute instances\n",
    "                                    train_instance_type='ml.m4.xlarge',      # What kind of compute instances\n",
    "                                    output_path='s3://{}/{}/output'.format(session.default_bucket(), prefix),\n",
    "                                    sagemaker_session=session)\n",
    "\n",
    "# And then set the algorithm specific parameters.\n",
    "xgb.set_hyperparameters(max_depth=5,\n",
    "                        eta=0.2,\n",
    "                        gamma=4,\n",
    "                        min_child_weight=6,\n",
    "                        subsample=0.8,\n",
    "                        silent=0,\n",
    "                        objective='binary:logistic',\n",
    "                        early_stopping_rounds=10,\n",
    "                        num_round=500)"
   ]
  },
  {
   "cell_type": "markdown",
   "metadata": {},
   "source": [
    "### Fit the XGBoost model\n",
    "\n",
    "Now that our model has been set up we simply need to attach the training and validation datasets and then ask SageMaker to set up the computation."
   ]
  },
  {
   "cell_type": "code",
   "execution_count": 41,
   "metadata": {},
   "outputs": [],
   "source": [
    "s3_input_train = sagemaker.s3_input(s3_data=train_location, content_type='csv')\n",
    "s3_input_validation = sagemaker.s3_input(s3_data=val_location, content_type='csv')"
   ]
  },
  {
   "cell_type": "code",
   "execution_count": 42,
   "metadata": {},
   "outputs": [
    {
     "name": "stdout",
     "output_type": "stream",
     "text": [
      "2020-05-12 17:02:53 Starting - Starting the training job...\n",
      "2020-05-12 17:02:58 Starting - Launching requested ML instances......\n",
      "2020-05-12 17:04:01 Starting - Preparing the instances for training......\n",
      "2020-05-12 17:05:17 Downloading - Downloading input data\n",
      "2020-05-12 17:05:17 Training - Downloading the training image..\u001b[34mArguments: train\u001b[0m\n",
      "\u001b[34m[2020-05-12:17:05:38:INFO] Running standalone xgboost training.\u001b[0m\n",
      "\u001b[34m[2020-05-12:17:05:38:INFO] File size need to be processed in the node: 238.5mb. Available memory size in the node: 8487.5mb\u001b[0m\n",
      "\u001b[34m[2020-05-12:17:05:38:INFO] Determined delimiter of CSV input is ','\u001b[0m\n",
      "\u001b[34m[17:05:38] S3DistributionType set as FullyReplicated\u001b[0m\n",
      "\u001b[34m[17:05:40] 15000x5000 matrix with 75000000 entries loaded from /opt/ml/input/data/train?format=csv&label_column=0&delimiter=,\u001b[0m\n",
      "\u001b[34m[2020-05-12:17:05:40:INFO] Determined delimiter of CSV input is ','\u001b[0m\n",
      "\u001b[34m[17:05:40] S3DistributionType set as FullyReplicated\u001b[0m\n",
      "\u001b[34m[17:05:41] 10000x5000 matrix with 50000000 entries loaded from /opt/ml/input/data/validation?format=csv&label_column=0&delimiter=,\u001b[0m\n",
      "\u001b[34m[17:05:45] src/tree/updater_prune.cc:74: tree pruning end, 1 roots, 44 extra nodes, 6 pruned nodes, max_depth=5\u001b[0m\n",
      "\u001b[34m[0]#011train-error:0.3008#011validation-error:0.3162\u001b[0m\n",
      "\u001b[34mMultiple eval metrics have been passed: 'validation-error' will be used for early stopping.\n",
      "\u001b[0m\n",
      "\u001b[34mWill train until validation-error hasn't improved in 10 rounds.\u001b[0m\n",
      "\u001b[34m[17:05:46] src/tree/updater_prune.cc:74: tree pruning end, 1 roots, 40 extra nodes, 6 pruned nodes, max_depth=5\u001b[0m\n",
      "\u001b[34m[1]#011train-error:0.300733#011validation-error:0.3111\u001b[0m\n",
      "\u001b[34m[17:05:47] src/tree/updater_prune.cc:74: tree pruning end, 1 roots, 44 extra nodes, 6 pruned nodes, max_depth=5\u001b[0m\n",
      "\u001b[34m[2]#011train-error:0.275067#011validation-error:0.2867\u001b[0m\n",
      "\u001b[34m[17:05:49] src/tree/updater_prune.cc:74: tree pruning end, 1 roots, 42 extra nodes, 6 pruned nodes, max_depth=5\u001b[0m\n",
      "\u001b[34m[3]#011train-error:0.2678#011validation-error:0.2834\u001b[0m\n",
      "\u001b[34m[17:05:50] src/tree/updater_prune.cc:74: tree pruning end, 1 roots, 30 extra nodes, 0 pruned nodes, max_depth=5\u001b[0m\n",
      "\u001b[34m[4]#011train-error:0.256933#011validation-error:0.2722\u001b[0m\n",
      "\u001b[34m[17:05:51] src/tree/updater_prune.cc:74: tree pruning end, 1 roots, 44 extra nodes, 2 pruned nodes, max_depth=5\u001b[0m\n",
      "\u001b[34m[5]#011train-error:0.2558#011validation-error:0.2688\u001b[0m\n",
      "\u001b[34m[17:05:53] src/tree/updater_prune.cc:74: tree pruning end, 1 roots, 42 extra nodes, 2 pruned nodes, max_depth=5\u001b[0m\n",
      "\u001b[34m[6]#011train-error:0.246#011validation-error:0.2562\u001b[0m\n",
      "\u001b[34m[17:05:54] src/tree/updater_prune.cc:74: tree pruning end, 1 roots, 26 extra nodes, 10 pruned nodes, max_depth=5\u001b[0m\n",
      "\u001b[34m[7]#011train-error:0.242867#011validation-error:0.2568\u001b[0m\n",
      "\u001b[34m[17:05:55] src/tree/updater_prune.cc:74: tree pruning end, 1 roots, 34 extra nodes, 4 pruned nodes, max_depth=5\u001b[0m\n",
      "\u001b[34m[8]#011train-error:0.232467#011validation-error:0.2481\u001b[0m\n",
      "\u001b[34m[17:05:57] src/tree/updater_prune.cc:74: tree pruning end, 1 roots, 50 extra nodes, 8 pruned nodes, max_depth=5\u001b[0m\n",
      "\u001b[34m[9]#011train-error:0.223867#011validation-error:0.2429\u001b[0m\n",
      "\u001b[34m[17:05:58] src/tree/updater_prune.cc:74: tree pruning end, 1 roots, 28 extra nodes, 4 pruned nodes, max_depth=5\u001b[0m\n",
      "\u001b[34m[10]#011train-error:0.224#011validation-error:0.2438\u001b[0m\n",
      "\u001b[34m[17:05:59] src/tree/updater_prune.cc:74: tree pruning end, 1 roots, 40 extra nodes, 4 pruned nodes, max_depth=5\u001b[0m\n",
      "\u001b[34m[11]#011train-error:0.2172#011validation-error:0.2385\u001b[0m\n",
      "\u001b[34m[17:06:01] src/tree/updater_prune.cc:74: tree pruning end, 1 roots, 40 extra nodes, 4 pruned nodes, max_depth=5\u001b[0m\n",
      "\u001b[34m[12]#011train-error:0.2112#011validation-error:0.2343\u001b[0m\n",
      "\u001b[34m[17:06:02] src/tree/updater_prune.cc:74: tree pruning end, 1 roots, 30 extra nodes, 10 pruned nodes, max_depth=5\u001b[0m\n",
      "\u001b[34m[13]#011train-error:0.208933#011validation-error:0.2304\u001b[0m\n",
      "\u001b[34m[17:06:03] src/tree/updater_prune.cc:74: tree pruning end, 1 roots, 18 extra nodes, 8 pruned nodes, max_depth=5\u001b[0m\n",
      "\u001b[34m[14]#011train-error:0.205533#011validation-error:0.2265\u001b[0m\n",
      "\u001b[34m[17:06:04] src/tree/updater_prune.cc:74: tree pruning end, 1 roots, 40 extra nodes, 8 pruned nodes, max_depth=5\u001b[0m\n",
      "\u001b[34m[15]#011train-error:0.201467#011validation-error:0.2244\u001b[0m\n",
      "\u001b[34m[17:06:06] src/tree/updater_prune.cc:74: tree pruning end, 1 roots, 34 extra nodes, 6 pruned nodes, max_depth=5\u001b[0m\n",
      "\u001b[34m[16]#011train-error:0.199#011validation-error:0.2225\u001b[0m\n",
      "\u001b[34m[17:06:07] src/tree/updater_prune.cc:74: tree pruning end, 1 roots, 36 extra nodes, 10 pruned nodes, max_depth=5\u001b[0m\n",
      "\u001b[34m[17]#011train-error:0.196133#011validation-error:0.2183\u001b[0m\n",
      "\u001b[34m[17:06:08] src/tree/updater_prune.cc:74: tree pruning end, 1 roots, 32 extra nodes, 8 pruned nodes, max_depth=5\u001b[0m\n",
      "\u001b[34m[18]#011train-error:0.1946#011validation-error:0.2168\u001b[0m\n",
      "\u001b[34m[17:06:10] src/tree/updater_prune.cc:74: tree pruning end, 1 roots, 24 extra nodes, 12 pruned nodes, max_depth=5\u001b[0m\n",
      "\u001b[34m[19]#011train-error:0.191667#011validation-error:0.2151\u001b[0m\n",
      "\n",
      "2020-05-12 17:05:56 Training - Training image download completed. Training in progress.\u001b[34m[17:06:11] src/tree/updater_prune.cc:74: tree pruning end, 1 roots, 20 extra nodes, 10 pruned nodes, max_depth=5\u001b[0m\n",
      "\u001b[34m[20]#011train-error:0.189333#011validation-error:0.2128\u001b[0m\n",
      "\u001b[34m[17:06:12] src/tree/updater_prune.cc:74: tree pruning end, 1 roots, 42 extra nodes, 2 pruned nodes, max_depth=5\u001b[0m\n",
      "\u001b[34m[21]#011train-error:0.186933#011validation-error:0.2091\u001b[0m\n",
      "\u001b[34m[17:06:13] src/tree/updater_prune.cc:74: tree pruning end, 1 roots, 22 extra nodes, 12 pruned nodes, max_depth=5\u001b[0m\n",
      "\u001b[34m[22]#011train-error:0.1846#011validation-error:0.2086\u001b[0m\n",
      "\u001b[34m[17:06:15] src/tree/updater_prune.cc:74: tree pruning end, 1 roots, 28 extra nodes, 6 pruned nodes, max_depth=5\u001b[0m\n",
      "\u001b[34m[23]#011train-error:0.182467#011validation-error:0.2053\u001b[0m\n",
      "\u001b[34m[17:06:16] src/tree/updater_prune.cc:74: tree pruning end, 1 roots, 24 extra nodes, 10 pruned nodes, max_depth=5\u001b[0m\n",
      "\u001b[34m[24]#011train-error:0.180933#011validation-error:0.2046\u001b[0m\n",
      "\u001b[34m[17:06:17] src/tree/updater_prune.cc:74: tree pruning end, 1 roots, 36 extra nodes, 10 pruned nodes, max_depth=5\u001b[0m\n",
      "\u001b[34m[25]#011train-error:0.179333#011validation-error:0.2041\u001b[0m\n",
      "\u001b[34m[17:06:19] src/tree/updater_prune.cc:74: tree pruning end, 1 roots, 26 extra nodes, 6 pruned nodes, max_depth=5\u001b[0m\n",
      "\u001b[34m[26]#011train-error:0.176467#011validation-error:0.2011\u001b[0m\n",
      "\u001b[34m[17:06:20] src/tree/updater_prune.cc:74: tree pruning end, 1 roots, 18 extra nodes, 12 pruned nodes, max_depth=5\u001b[0m\n",
      "\u001b[34m[27]#011train-error:0.1756#011validation-error:0.2005\u001b[0m\n",
      "\u001b[34m[17:06:21] src/tree/updater_prune.cc:74: tree pruning end, 1 roots, 22 extra nodes, 4 pruned nodes, max_depth=5\u001b[0m\n",
      "\u001b[34m[28]#011train-error:0.174333#011validation-error:0.1996\u001b[0m\n",
      "\u001b[34m[17:06:22] src/tree/updater_prune.cc:74: tree pruning end, 1 roots, 14 extra nodes, 8 pruned nodes, max_depth=5\u001b[0m\n",
      "\u001b[34m[29]#011train-error:0.171667#011validation-error:0.1994\u001b[0m\n",
      "\u001b[34m[17:06:24] src/tree/updater_prune.cc:74: tree pruning end, 1 roots, 28 extra nodes, 8 pruned nodes, max_depth=5\u001b[0m\n",
      "\u001b[34m[30]#011train-error:0.17#011validation-error:0.198\u001b[0m\n",
      "\u001b[34m[17:06:25] src/tree/updater_prune.cc:74: tree pruning end, 1 roots, 34 extra nodes, 10 pruned nodes, max_depth=5\u001b[0m\n",
      "\u001b[34m[31]#011train-error:0.166867#011validation-error:0.1981\u001b[0m\n",
      "\u001b[34m[17:06:26] src/tree/updater_prune.cc:74: tree pruning end, 1 roots, 30 extra nodes, 6 pruned nodes, max_depth=5\u001b[0m\n",
      "\u001b[34m[32]#011train-error:0.164333#011validation-error:0.1977\u001b[0m\n",
      "\u001b[34m[17:06:28] src/tree/updater_prune.cc:74: tree pruning end, 1 roots, 24 extra nodes, 6 pruned nodes, max_depth=5\u001b[0m\n",
      "\u001b[34m[33]#011train-error:0.1636#011validation-error:0.1971\u001b[0m\n",
      "\u001b[34m[17:06:29] src/tree/updater_prune.cc:74: tree pruning end, 1 roots, 24 extra nodes, 12 pruned nodes, max_depth=5\u001b[0m\n",
      "\u001b[34m[34]#011train-error:0.1622#011validation-error:0.193\u001b[0m\n",
      "\u001b[34m[17:06:30] src/tree/updater_prune.cc:74: tree pruning end, 1 roots, 40 extra nodes, 6 pruned nodes, max_depth=5\u001b[0m\n",
      "\u001b[34m[35]#011train-error:0.160067#011validation-error:0.1903\u001b[0m\n",
      "\u001b[34m[17:06:31] src/tree/updater_prune.cc:74: tree pruning end, 1 roots, 30 extra nodes, 12 pruned nodes, max_depth=5\u001b[0m\n",
      "\u001b[34m[36]#011train-error:0.1576#011validation-error:0.1891\u001b[0m\n",
      "\u001b[34m[17:06:33] src/tree/updater_prune.cc:74: tree pruning end, 1 roots, 24 extra nodes, 8 pruned nodes, max_depth=5\u001b[0m\n",
      "\u001b[34m[37]#011train-error:0.156733#011validation-error:0.1864\u001b[0m\n",
      "\u001b[34m[17:06:34] src/tree/updater_prune.cc:74: tree pruning end, 1 roots, 16 extra nodes, 6 pruned nodes, max_depth=5\u001b[0m\n",
      "\u001b[34m[38]#011train-error:0.1562#011validation-error:0.1848\u001b[0m\n",
      "\u001b[34m[17:06:35] src/tree/updater_prune.cc:74: tree pruning end, 1 roots, 16 extra nodes, 6 pruned nodes, max_depth=5\u001b[0m\n",
      "\u001b[34m[39]#011train-error:0.154933#011validation-error:0.1845\u001b[0m\n",
      "\u001b[34m[17:06:37] src/tree/updater_prune.cc:74: tree pruning end, 1 roots, 18 extra nodes, 10 pruned nodes, max_depth=5\u001b[0m\n",
      "\u001b[34m[40]#011train-error:0.1534#011validation-error:0.1837\u001b[0m\n",
      "\u001b[34m[17:06:38] src/tree/updater_prune.cc:74: tree pruning end, 1 roots, 14 extra nodes, 6 pruned nodes, max_depth=5\u001b[0m\n",
      "\u001b[34m[41]#011train-error:0.152667#011validation-error:0.1833\u001b[0m\n",
      "\u001b[34m[17:06:39] src/tree/updater_prune.cc:74: tree pruning end, 1 roots, 34 extra nodes, 6 pruned nodes, max_depth=5\u001b[0m\n",
      "\u001b[34m[42]#011train-error:0.150533#011validation-error:0.184\u001b[0m\n",
      "\u001b[34m[17:06:40] src/tree/updater_prune.cc:74: tree pruning end, 1 roots, 22 extra nodes, 6 pruned nodes, max_depth=5\u001b[0m\n",
      "\u001b[34m[43]#011train-error:0.15#011validation-error:0.1821\u001b[0m\n"
     ]
    },
    {
     "name": "stdout",
     "output_type": "stream",
     "text": [
      "\u001b[34m[17:06:42] src/tree/updater_prune.cc:74: tree pruning end, 1 roots, 12 extra nodes, 8 pruned nodes, max_depth=5\u001b[0m\n",
      "\u001b[34m[44]#011train-error:0.148933#011validation-error:0.1815\u001b[0m\n",
      "\u001b[34m[17:06:43] src/tree/updater_prune.cc:74: tree pruning end, 1 roots, 38 extra nodes, 4 pruned nodes, max_depth=5\u001b[0m\n",
      "\u001b[34m[45]#011train-error:0.147733#011validation-error:0.1805\u001b[0m\n",
      "\u001b[34m[17:06:44] src/tree/updater_prune.cc:74: tree pruning end, 1 roots, 14 extra nodes, 8 pruned nodes, max_depth=5\u001b[0m\n",
      "\u001b[34m[46]#011train-error:0.145667#011validation-error:0.1786\u001b[0m\n",
      "\u001b[34m[17:06:45] src/tree/updater_prune.cc:74: tree pruning end, 1 roots, 24 extra nodes, 14 pruned nodes, max_depth=5\u001b[0m\n",
      "\u001b[34m[47]#011train-error:0.145333#011validation-error:0.1766\u001b[0m\n",
      "\u001b[34m[17:06:47] src/tree/updater_prune.cc:74: tree pruning end, 1 roots, 30 extra nodes, 8 pruned nodes, max_depth=5\u001b[0m\n",
      "\u001b[34m[48]#011train-error:0.144067#011validation-error:0.1761\u001b[0m\n",
      "\u001b[34m[17:06:48] src/tree/updater_prune.cc:74: tree pruning end, 1 roots, 22 extra nodes, 8 pruned nodes, max_depth=5\u001b[0m\n",
      "\u001b[34m[49]#011train-error:0.143267#011validation-error:0.1754\u001b[0m\n",
      "\u001b[34m[17:06:49] src/tree/updater_prune.cc:74: tree pruning end, 1 roots, 12 extra nodes, 10 pruned nodes, max_depth=5\u001b[0m\n",
      "\u001b[34m[50]#011train-error:0.143333#011validation-error:0.1757\u001b[0m\n",
      "\u001b[34m[17:06:51] src/tree/updater_prune.cc:74: tree pruning end, 1 roots, 30 extra nodes, 2 pruned nodes, max_depth=5\u001b[0m\n",
      "\u001b[34m[51]#011train-error:0.142333#011validation-error:0.1754\u001b[0m\n",
      "\u001b[34m[17:06:52] src/tree/updater_prune.cc:74: tree pruning end, 1 roots, 20 extra nodes, 8 pruned nodes, max_depth=5\u001b[0m\n",
      "\u001b[34m[52]#011train-error:0.1418#011validation-error:0.1754\u001b[0m\n",
      "\u001b[34m[17:06:53] src/tree/updater_prune.cc:74: tree pruning end, 1 roots, 40 extra nodes, 8 pruned nodes, max_depth=5\u001b[0m\n",
      "\u001b[34m[53]#011train-error:0.139133#011validation-error:0.1763\u001b[0m\n",
      "\u001b[34m[17:06:54] src/tree/updater_prune.cc:74: tree pruning end, 1 roots, 28 extra nodes, 8 pruned nodes, max_depth=5\u001b[0m\n",
      "\u001b[34m[54]#011train-error:0.1376#011validation-error:0.1765\u001b[0m\n",
      "\u001b[34m[17:06:56] src/tree/updater_prune.cc:74: tree pruning end, 1 roots, 32 extra nodes, 2 pruned nodes, max_depth=5\u001b[0m\n",
      "\u001b[34m[55]#011train-error:0.136333#011validation-error:0.1743\u001b[0m\n",
      "\u001b[34m[17:06:57] src/tree/updater_prune.cc:74: tree pruning end, 1 roots, 20 extra nodes, 6 pruned nodes, max_depth=5\u001b[0m\n",
      "\u001b[34m[56]#011train-error:0.135467#011validation-error:0.1722\u001b[0m\n",
      "\u001b[34m[17:06:58] src/tree/updater_prune.cc:74: tree pruning end, 1 roots, 20 extra nodes, 10 pruned nodes, max_depth=5\u001b[0m\n",
      "\u001b[34m[57]#011train-error:0.134733#011validation-error:0.1719\u001b[0m\n",
      "\u001b[34m[17:07:00] src/tree/updater_prune.cc:74: tree pruning end, 1 roots, 16 extra nodes, 6 pruned nodes, max_depth=5\u001b[0m\n",
      "\u001b[34m[58]#011train-error:0.134267#011validation-error:0.1715\u001b[0m\n",
      "\u001b[34m[17:07:01] src/tree/updater_prune.cc:74: tree pruning end, 1 roots, 18 extra nodes, 4 pruned nodes, max_depth=5\u001b[0m\n",
      "\u001b[34m[59]#011train-error:0.133933#011validation-error:0.1694\u001b[0m\n",
      "\u001b[34m[17:07:02] src/tree/updater_prune.cc:74: tree pruning end, 1 roots, 14 extra nodes, 8 pruned nodes, max_depth=5\u001b[0m\n",
      "\u001b[34m[60]#011train-error:0.133533#011validation-error:0.1691\u001b[0m\n",
      "\u001b[34m[17:07:03] src/tree/updater_prune.cc:74: tree pruning end, 1 roots, 22 extra nodes, 12 pruned nodes, max_depth=5\u001b[0m\n",
      "\u001b[34m[61]#011train-error:0.132133#011validation-error:0.1693\u001b[0m\n",
      "\u001b[34m[17:07:05] src/tree/updater_prune.cc:74: tree pruning end, 1 roots, 32 extra nodes, 4 pruned nodes, max_depth=5\u001b[0m\n",
      "\u001b[34m[62]#011train-error:0.130267#011validation-error:0.171\u001b[0m\n",
      "\u001b[34m[17:07:06] src/tree/updater_prune.cc:74: tree pruning end, 1 roots, 26 extra nodes, 6 pruned nodes, max_depth=5\u001b[0m\n",
      "\u001b[34m[63]#011train-error:0.130267#011validation-error:0.1703\u001b[0m\n",
      "\u001b[34m[17:07:07] src/tree/updater_prune.cc:74: tree pruning end, 1 roots, 16 extra nodes, 16 pruned nodes, max_depth=5\u001b[0m\n",
      "\u001b[34m[64]#011train-error:0.129067#011validation-error:0.1697\u001b[0m\n",
      "\u001b[34m[17:07:09] src/tree/updater_prune.cc:74: tree pruning end, 1 roots, 12 extra nodes, 10 pruned nodes, max_depth=5\u001b[0m\n",
      "\u001b[34m[65]#011train-error:0.128267#011validation-error:0.1698\u001b[0m\n",
      "\u001b[34m[17:07:10] src/tree/updater_prune.cc:74: tree pruning end, 1 roots, 22 extra nodes, 4 pruned nodes, max_depth=5\u001b[0m\n",
      "\u001b[34m[66]#011train-error:0.1276#011validation-error:0.1693\u001b[0m\n",
      "\u001b[34m[17:07:11] src/tree/updater_prune.cc:74: tree pruning end, 1 roots, 18 extra nodes, 10 pruned nodes, max_depth=5\u001b[0m\n",
      "\u001b[34m[67]#011train-error:0.1262#011validation-error:0.1687\u001b[0m\n",
      "\u001b[34m[17:07:12] src/tree/updater_prune.cc:74: tree pruning end, 1 roots, 30 extra nodes, 4 pruned nodes, max_depth=5\u001b[0m\n",
      "\u001b[34m[68]#011train-error:0.125867#011validation-error:0.1669\u001b[0m\n",
      "\u001b[34m[17:07:14] src/tree/updater_prune.cc:74: tree pruning end, 1 roots, 22 extra nodes, 8 pruned nodes, max_depth=5\u001b[0m\n",
      "\u001b[34m[69]#011train-error:0.125#011validation-error:0.1663\u001b[0m\n",
      "\u001b[34m[17:07:15] src/tree/updater_prune.cc:74: tree pruning end, 1 roots, 14 extra nodes, 2 pruned nodes, max_depth=5\u001b[0m\n",
      "\u001b[34m[70]#011train-error:0.124867#011validation-error:0.1654\u001b[0m\n",
      "\u001b[34m[17:07:16] src/tree/updater_prune.cc:74: tree pruning end, 1 roots, 28 extra nodes, 8 pruned nodes, max_depth=5\u001b[0m\n",
      "\u001b[34m[71]#011train-error:0.123867#011validation-error:0.1651\u001b[0m\n",
      "\u001b[34m[17:07:17] src/tree/updater_prune.cc:74: tree pruning end, 1 roots, 30 extra nodes, 10 pruned nodes, max_depth=5\u001b[0m\n",
      "\u001b[34m[72]#011train-error:0.1212#011validation-error:0.1647\u001b[0m\n",
      "\u001b[34m[17:07:19] src/tree/updater_prune.cc:74: tree pruning end, 1 roots, 14 extra nodes, 6 pruned nodes, max_depth=5\u001b[0m\n",
      "\u001b[34m[73]#011train-error:0.120533#011validation-error:0.1648\u001b[0m\n",
      "\u001b[34m[17:07:20] src/tree/updater_prune.cc:74: tree pruning end, 1 roots, 14 extra nodes, 4 pruned nodes, max_depth=5\u001b[0m\n",
      "\u001b[34m[74]#011train-error:0.119867#011validation-error:0.1639\u001b[0m\n",
      "\u001b[34m[17:07:21] src/tree/updater_prune.cc:74: tree pruning end, 1 roots, 10 extra nodes, 6 pruned nodes, max_depth=5\u001b[0m\n",
      "\u001b[34m[75]#011train-error:0.119467#011validation-error:0.1637\u001b[0m\n",
      "\u001b[34m[17:07:23] src/tree/updater_prune.cc:74: tree pruning end, 1 roots, 22 extra nodes, 4 pruned nodes, max_depth=5\u001b[0m\n",
      "\u001b[34m[76]#011train-error:0.1188#011validation-error:0.1636\u001b[0m\n",
      "\u001b[34m[17:07:24] src/tree/updater_prune.cc:74: tree pruning end, 1 roots, 22 extra nodes, 6 pruned nodes, max_depth=5\u001b[0m\n",
      "\u001b[34m[77]#011train-error:0.117867#011validation-error:0.1622\u001b[0m\n",
      "\u001b[34m[17:07:25] src/tree/updater_prune.cc:74: tree pruning end, 1 roots, 28 extra nodes, 12 pruned nodes, max_depth=5\u001b[0m\n",
      "\u001b[34m[78]#011train-error:0.1176#011validation-error:0.1612\u001b[0m\n",
      "\u001b[34m[17:07:26] src/tree/updater_prune.cc:74: tree pruning end, 1 roots, 18 extra nodes, 8 pruned nodes, max_depth=5\u001b[0m\n",
      "\u001b[34m[79]#011train-error:0.117533#011validation-error:0.1615\u001b[0m\n",
      "\u001b[34m[17:07:28] src/tree/updater_prune.cc:74: tree pruning end, 1 roots, 22 extra nodes, 8 pruned nodes, max_depth=5\u001b[0m\n",
      "\u001b[34m[80]#011train-error:0.116733#011validation-error:0.1601\u001b[0m\n",
      "\u001b[34m[17:07:29] src/tree/updater_prune.cc:74: tree pruning end, 1 roots, 38 extra nodes, 8 pruned nodes, max_depth=5\u001b[0m\n",
      "\u001b[34m[81]#011train-error:0.115133#011validation-error:0.1603\u001b[0m\n",
      "\u001b[34m[17:07:30] src/tree/updater_prune.cc:74: tree pruning end, 1 roots, 12 extra nodes, 4 pruned nodes, max_depth=5\u001b[0m\n",
      "\u001b[34m[82]#011train-error:0.115#011validation-error:0.1597\u001b[0m\n",
      "\u001b[34m[17:07:32] src/tree/updater_prune.cc:74: tree pruning end, 1 roots, 14 extra nodes, 6 pruned nodes, max_depth=5\u001b[0m\n",
      "\u001b[34m[83]#011train-error:0.114333#011validation-error:0.1587\u001b[0m\n",
      "\u001b[34m[17:07:33] src/tree/updater_prune.cc:74: tree pruning end, 1 roots, 28 extra nodes, 4 pruned nodes, max_depth=5\u001b[0m\n",
      "\u001b[34m[84]#011train-error:0.1126#011validation-error:0.1574\u001b[0m\n",
      "\u001b[34m[17:07:34] src/tree/updater_prune.cc:74: tree pruning end, 1 roots, 16 extra nodes, 6 pruned nodes, max_depth=5\u001b[0m\n",
      "\u001b[34m[85]#011train-error:0.112867#011validation-error:0.1572\u001b[0m\n",
      "\u001b[34m[17:07:35] src/tree/updater_prune.cc:74: tree pruning end, 1 roots, 10 extra nodes, 8 pruned nodes, max_depth=5\u001b[0m\n",
      "\u001b[34m[86]#011train-error:0.111933#011validation-error:0.1572\u001b[0m\n",
      "\u001b[34m[17:07:37] src/tree/updater_prune.cc:74: tree pruning end, 1 roots, 18 extra nodes, 18 pruned nodes, max_depth=5\u001b[0m\n",
      "\u001b[34m[87]#011train-error:0.111333#011validation-error:0.1578\u001b[0m\n",
      "\u001b[34m[17:07:38] src/tree/updater_prune.cc:74: tree pruning end, 1 roots, 16 extra nodes, 8 pruned nodes, max_depth=5\u001b[0m\n",
      "\u001b[34m[88]#011train-error:0.1106#011validation-error:0.157\u001b[0m\n",
      "\u001b[34m[17:07:39] src/tree/updater_prune.cc:74: tree pruning end, 1 roots, 12 extra nodes, 6 pruned nodes, max_depth=5\u001b[0m\n",
      "\u001b[34m[89]#011train-error:0.110867#011validation-error:0.1562\u001b[0m\n",
      "\u001b[34m[17:07:41] src/tree/updater_prune.cc:74: tree pruning end, 1 roots, 14 extra nodes, 8 pruned nodes, max_depth=5\u001b[0m\n",
      "\u001b[34m[90]#011train-error:0.111067#011validation-error:0.1567\u001b[0m\n",
      "\u001b[34m[17:07:42] src/tree/updater_prune.cc:74: tree pruning end, 1 roots, 20 extra nodes, 6 pruned nodes, max_depth=5\u001b[0m\n",
      "\u001b[34m[91]#011train-error:0.110267#011validation-error:0.1559\u001b[0m\n"
     ]
    },
    {
     "name": "stdout",
     "output_type": "stream",
     "text": [
      "\u001b[34m[17:07:43] src/tree/updater_prune.cc:74: tree pruning end, 1 roots, 18 extra nodes, 8 pruned nodes, max_depth=5\u001b[0m\n",
      "\u001b[34m[92]#011train-error:0.11#011validation-error:0.156\u001b[0m\n",
      "\u001b[34m[17:07:44] src/tree/updater_prune.cc:74: tree pruning end, 1 roots, 24 extra nodes, 8 pruned nodes, max_depth=5\u001b[0m\n",
      "\u001b[34m[93]#011train-error:0.108933#011validation-error:0.1558\u001b[0m\n",
      "\u001b[34m[17:07:46] src/tree/updater_prune.cc:74: tree pruning end, 1 roots, 28 extra nodes, 6 pruned nodes, max_depth=5\u001b[0m\n",
      "\u001b[34m[94]#011train-error:0.108333#011validation-error:0.1551\u001b[0m\n",
      "\u001b[34m[17:07:47] src/tree/updater_prune.cc:74: tree pruning end, 1 roots, 22 extra nodes, 10 pruned nodes, max_depth=5\u001b[0m\n",
      "\u001b[34m[95]#011train-error:0.107733#011validation-error:0.1558\u001b[0m\n",
      "\u001b[34m[17:07:48] src/tree/updater_prune.cc:74: tree pruning end, 1 roots, 14 extra nodes, 12 pruned nodes, max_depth=5\u001b[0m\n",
      "\u001b[34m[96]#011train-error:0.107733#011validation-error:0.1549\u001b[0m\n",
      "\u001b[34m[17:07:50] src/tree/updater_prune.cc:74: tree pruning end, 1 roots, 18 extra nodes, 4 pruned nodes, max_depth=5\u001b[0m\n",
      "\u001b[34m[97]#011train-error:0.107333#011validation-error:0.1538\u001b[0m\n",
      "\u001b[34m[17:07:51] src/tree/updater_prune.cc:74: tree pruning end, 1 roots, 10 extra nodes, 6 pruned nodes, max_depth=5\u001b[0m\n",
      "\u001b[34m[98]#011train-error:0.107333#011validation-error:0.1533\u001b[0m\n",
      "\u001b[34m[17:07:52] src/tree/updater_prune.cc:74: tree pruning end, 1 roots, 12 extra nodes, 4 pruned nodes, max_depth=5\u001b[0m\n",
      "\u001b[34m[99]#011train-error:0.106933#011validation-error:0.1537\u001b[0m\n",
      "\u001b[34m[17:07:53] src/tree/updater_prune.cc:74: tree pruning end, 1 roots, 20 extra nodes, 6 pruned nodes, max_depth=5\u001b[0m\n",
      "\u001b[34m[100]#011train-error:0.105867#011validation-error:0.1526\u001b[0m\n",
      "\u001b[34m[17:07:55] src/tree/updater_prune.cc:74: tree pruning end, 1 roots, 20 extra nodes, 8 pruned nodes, max_depth=5\u001b[0m\n",
      "\u001b[34m[101]#011train-error:0.105667#011validation-error:0.1522\u001b[0m\n",
      "\u001b[34m[17:07:56] src/tree/updater_prune.cc:74: tree pruning end, 1 roots, 22 extra nodes, 8 pruned nodes, max_depth=5\u001b[0m\n",
      "\u001b[34m[102]#011train-error:0.1042#011validation-error:0.1531\u001b[0m\n",
      "\u001b[34m[17:07:57] src/tree/updater_prune.cc:74: tree pruning end, 1 roots, 16 extra nodes, 6 pruned nodes, max_depth=5\u001b[0m\n",
      "\u001b[34m[103]#011train-error:0.1044#011validation-error:0.1527\u001b[0m\n",
      "\u001b[34m[17:07:59] src/tree/updater_prune.cc:74: tree pruning end, 1 roots, 40 extra nodes, 8 pruned nodes, max_depth=5\u001b[0m\n",
      "\u001b[34m[104]#011train-error:0.103133#011validation-error:0.152\u001b[0m\n",
      "\u001b[34m[17:08:00] src/tree/updater_prune.cc:74: tree pruning end, 1 roots, 26 extra nodes, 6 pruned nodes, max_depth=5\u001b[0m\n",
      "\u001b[34m[105]#011train-error:0.1024#011validation-error:0.1513\u001b[0m\n",
      "\u001b[34m[17:08:01] src/tree/updater_prune.cc:74: tree pruning end, 1 roots, 10 extra nodes, 8 pruned nodes, max_depth=5\u001b[0m\n",
      "\u001b[34m[106]#011train-error:0.102933#011validation-error:0.1506\u001b[0m\n",
      "\u001b[34m[17:08:02] src/tree/updater_prune.cc:74: tree pruning end, 1 roots, 18 extra nodes, 4 pruned nodes, max_depth=5\u001b[0m\n",
      "\u001b[34m[107]#011train-error:0.1018#011validation-error:0.1502\u001b[0m\n",
      "\u001b[34m[17:08:04] src/tree/updater_prune.cc:74: tree pruning end, 1 roots, 12 extra nodes, 10 pruned nodes, max_depth=5\u001b[0m\n",
      "\u001b[34m[108]#011train-error:0.102333#011validation-error:0.15\u001b[0m\n",
      "\u001b[34m[17:08:05] src/tree/updater_prune.cc:74: tree pruning end, 1 roots, 18 extra nodes, 4 pruned nodes, max_depth=5\u001b[0m\n",
      "\u001b[34m[109]#011train-error:0.101867#011validation-error:0.1512\u001b[0m\n",
      "\u001b[34m[17:08:06] src/tree/updater_prune.cc:74: tree pruning end, 1 roots, 12 extra nodes, 10 pruned nodes, max_depth=5\u001b[0m\n",
      "\u001b[34m[110]#011train-error:0.101067#011validation-error:0.1506\u001b[0m\n",
      "\u001b[34m[17:08:08] src/tree/updater_prune.cc:74: tree pruning end, 1 roots, 18 extra nodes, 8 pruned nodes, max_depth=5\u001b[0m\n",
      "\u001b[34m[111]#011train-error:0.100667#011validation-error:0.1505\u001b[0m\n",
      "\u001b[34m[17:08:09] src/tree/updater_prune.cc:74: tree pruning end, 1 roots, 14 extra nodes, 10 pruned nodes, max_depth=5\u001b[0m\n",
      "\u001b[34m[112]#011train-error:0.100067#011validation-error:0.1496\u001b[0m\n",
      "\u001b[34m[17:08:10] src/tree/updater_prune.cc:74: tree pruning end, 1 roots, 10 extra nodes, 8 pruned nodes, max_depth=5\u001b[0m\n",
      "\u001b[34m[113]#011train-error:0.099733#011validation-error:0.15\u001b[0m\n",
      "\u001b[34m[17:08:11] src/tree/updater_prune.cc:74: tree pruning end, 1 roots, 14 extra nodes, 8 pruned nodes, max_depth=5\u001b[0m\n",
      "\u001b[34m[114]#011train-error:0.0992#011validation-error:0.1498\u001b[0m\n",
      "\u001b[34m[17:08:13] src/tree/updater_prune.cc:74: tree pruning end, 1 roots, 10 extra nodes, 8 pruned nodes, max_depth=5\u001b[0m\n",
      "\u001b[34m[115]#011train-error:0.098867#011validation-error:0.1498\u001b[0m\n",
      "\u001b[34m[17:08:14] src/tree/updater_prune.cc:74: tree pruning end, 1 roots, 18 extra nodes, 6 pruned nodes, max_depth=5\u001b[0m\n",
      "\u001b[34m[116]#011train-error:0.097267#011validation-error:0.1486\u001b[0m\n",
      "\u001b[34m[17:08:15] src/tree/updater_prune.cc:74: tree pruning end, 1 roots, 12 extra nodes, 14 pruned nodes, max_depth=5\u001b[0m\n",
      "\u001b[34m[117]#011train-error:0.0978#011validation-error:0.1482\u001b[0m\n",
      "\u001b[34m[17:08:17] src/tree/updater_prune.cc:74: tree pruning end, 1 roots, 14 extra nodes, 6 pruned nodes, max_depth=5\u001b[0m\n",
      "\u001b[34m[118]#011train-error:0.097533#011validation-error:0.148\u001b[0m\n",
      "\u001b[34m[17:08:18] src/tree/updater_prune.cc:74: tree pruning end, 1 roots, 30 extra nodes, 6 pruned nodes, max_depth=5\u001b[0m\n",
      "\u001b[34m[119]#011train-error:0.0956#011validation-error:0.1494\u001b[0m\n",
      "\u001b[34m[17:08:19] src/tree/updater_prune.cc:74: tree pruning end, 1 roots, 22 extra nodes, 6 pruned nodes, max_depth=5\u001b[0m\n",
      "\u001b[34m[120]#011train-error:0.095333#011validation-error:0.1493\u001b[0m\n",
      "\u001b[34m[17:08:20] src/tree/updater_prune.cc:74: tree pruning end, 1 roots, 10 extra nodes, 8 pruned nodes, max_depth=5\u001b[0m\n",
      "\u001b[34m[121]#011train-error:0.094133#011validation-error:0.149\u001b[0m\n",
      "\u001b[34m[17:08:22] src/tree/updater_prune.cc:74: tree pruning end, 1 roots, 14 extra nodes, 10 pruned nodes, max_depth=5\u001b[0m\n",
      "\u001b[34m[122]#011train-error:0.094267#011validation-error:0.1484\u001b[0m\n",
      "\u001b[34m[17:08:23] src/tree/updater_prune.cc:74: tree pruning end, 1 roots, 14 extra nodes, 6 pruned nodes, max_depth=5\u001b[0m\n",
      "\u001b[34m[123]#011train-error:0.093733#011validation-error:0.1482\u001b[0m\n",
      "\u001b[34m[17:08:24] src/tree/updater_prune.cc:74: tree pruning end, 1 roots, 10 extra nodes, 8 pruned nodes, max_depth=5\u001b[0m\n",
      "\u001b[34m[124]#011train-error:0.0934#011validation-error:0.1473\u001b[0m\n",
      "\u001b[34m[17:08:26] src/tree/updater_prune.cc:74: tree pruning end, 1 roots, 20 extra nodes, 8 pruned nodes, max_depth=5\u001b[0m\n",
      "\u001b[34m[125]#011train-error:0.093467#011validation-error:0.1467\u001b[0m\n",
      "\u001b[34m[17:08:27] src/tree/updater_prune.cc:74: tree pruning end, 1 roots, 16 extra nodes, 6 pruned nodes, max_depth=5\u001b[0m\n",
      "\u001b[34m[126]#011train-error:0.092867#011validation-error:0.1462\u001b[0m\n",
      "\u001b[34m[17:08:28] src/tree/updater_prune.cc:74: tree pruning end, 1 roots, 24 extra nodes, 14 pruned nodes, max_depth=5\u001b[0m\n",
      "\u001b[34m[127]#011train-error:0.092667#011validation-error:0.146\u001b[0m\n",
      "\u001b[34m[17:08:29] src/tree/updater_prune.cc:74: tree pruning end, 1 roots, 38 extra nodes, 6 pruned nodes, max_depth=5\u001b[0m\n",
      "\u001b[34m[128]#011train-error:0.092667#011validation-error:0.1466\u001b[0m\n",
      "\u001b[34m[17:08:31] src/tree/updater_prune.cc:74: tree pruning end, 1 roots, 18 extra nodes, 12 pruned nodes, max_depth=5\u001b[0m\n",
      "\u001b[34m[129]#011train-error:0.092533#011validation-error:0.1458\u001b[0m\n",
      "\u001b[34m[17:08:32] src/tree/updater_prune.cc:74: tree pruning end, 1 roots, 22 extra nodes, 8 pruned nodes, max_depth=5\u001b[0m\n",
      "\u001b[34m[130]#011train-error:0.091733#011validation-error:0.1459\u001b[0m\n",
      "\u001b[34m[17:08:33] src/tree/updater_prune.cc:74: tree pruning end, 1 roots, 38 extra nodes, 6 pruned nodes, max_depth=5\u001b[0m\n",
      "\u001b[34m[131]#011train-error:0.090133#011validation-error:0.1471\u001b[0m\n",
      "\u001b[34m[17:08:35] src/tree/updater_prune.cc:74: tree pruning end, 1 roots, 14 extra nodes, 6 pruned nodes, max_depth=5\u001b[0m\n",
      "\u001b[34m[132]#011train-error:0.090267#011validation-error:0.147\u001b[0m\n",
      "\u001b[34m[17:08:36] src/tree/updater_prune.cc:74: tree pruning end, 1 roots, 14 extra nodes, 4 pruned nodes, max_depth=5\u001b[0m\n",
      "\u001b[34m[133]#011train-error:0.089933#011validation-error:0.1474\u001b[0m\n",
      "\u001b[34m[17:08:37] src/tree/updater_prune.cc:74: tree pruning end, 1 roots, 20 extra nodes, 6 pruned nodes, max_depth=5\u001b[0m\n",
      "\u001b[34m[134]#011train-error:0.089533#011validation-error:0.1478\u001b[0m\n",
      "\u001b[34m[17:08:38] src/tree/updater_prune.cc:74: tree pruning end, 1 roots, 16 extra nodes, 8 pruned nodes, max_depth=5\u001b[0m\n",
      "\u001b[34m[135]#011train-error:0.089533#011validation-error:0.1462\u001b[0m\n"
     ]
    },
    {
     "name": "stdout",
     "output_type": "stream",
     "text": [
      "\u001b[34m[17:08:40] src/tree/updater_prune.cc:74: tree pruning end, 1 roots, 12 extra nodes, 4 pruned nodes, max_depth=5\u001b[0m\n",
      "\u001b[34m[136]#011train-error:0.089333#011validation-error:0.1456\u001b[0m\n",
      "\u001b[34m[17:08:41] src/tree/updater_prune.cc:74: tree pruning end, 1 roots, 20 extra nodes, 8 pruned nodes, max_depth=5\u001b[0m\n",
      "\u001b[34m[137]#011train-error:0.0884#011validation-error:0.1458\u001b[0m\n",
      "\u001b[34m[17:08:42] src/tree/updater_prune.cc:74: tree pruning end, 1 roots, 18 extra nodes, 14 pruned nodes, max_depth=5\u001b[0m\n",
      "\u001b[34m[138]#011train-error:0.0892#011validation-error:0.1446\u001b[0m\n",
      "\u001b[34m[17:08:44] src/tree/updater_prune.cc:74: tree pruning end, 1 roots, 16 extra nodes, 16 pruned nodes, max_depth=5\u001b[0m\n",
      "\u001b[34m[139]#011train-error:0.0886#011validation-error:0.1455\u001b[0m\n",
      "\u001b[34m[17:08:45] src/tree/updater_prune.cc:74: tree pruning end, 1 roots, 16 extra nodes, 6 pruned nodes, max_depth=5\u001b[0m\n",
      "\u001b[34m[140]#011train-error:0.087667#011validation-error:0.1443\u001b[0m\n",
      "\u001b[34m[17:08:46] src/tree/updater_prune.cc:74: tree pruning end, 1 roots, 18 extra nodes, 18 pruned nodes, max_depth=5\u001b[0m\n",
      "\u001b[34m[141]#011train-error:0.087667#011validation-error:0.1443\u001b[0m\n",
      "\u001b[34m[17:08:47] src/tree/updater_prune.cc:74: tree pruning end, 1 roots, 10 extra nodes, 8 pruned nodes, max_depth=5\u001b[0m\n",
      "\u001b[34m[142]#011train-error:0.087067#011validation-error:0.1439\u001b[0m\n",
      "\u001b[34m[17:08:49] src/tree/updater_prune.cc:74: tree pruning end, 1 roots, 10 extra nodes, 4 pruned nodes, max_depth=5\u001b[0m\n",
      "\u001b[34m[143]#011train-error:0.0866#011validation-error:0.1442\u001b[0m\n",
      "\u001b[34m[17:08:50] src/tree/updater_prune.cc:74: tree pruning end, 1 roots, 16 extra nodes, 10 pruned nodes, max_depth=5\u001b[0m\n",
      "\u001b[34m[144]#011train-error:0.0862#011validation-error:0.1425\u001b[0m\n",
      "\u001b[34m[17:08:51] src/tree/updater_prune.cc:74: tree pruning end, 1 roots, 14 extra nodes, 8 pruned nodes, max_depth=5\u001b[0m\n",
      "\u001b[34m[145]#011train-error:0.085867#011validation-error:0.1419\u001b[0m\n",
      "\u001b[34m[17:08:53] src/tree/updater_prune.cc:74: tree pruning end, 1 roots, 30 extra nodes, 4 pruned nodes, max_depth=5\u001b[0m\n",
      "\u001b[34m[146]#011train-error:0.085333#011validation-error:0.1428\u001b[0m\n",
      "\u001b[34m[17:08:54] src/tree/updater_prune.cc:74: tree pruning end, 1 roots, 14 extra nodes, 6 pruned nodes, max_depth=5\u001b[0m\n",
      "\u001b[34m[147]#011train-error:0.084867#011validation-error:0.1426\u001b[0m\n",
      "\u001b[34m[17:08:55] src/tree/updater_prune.cc:74: tree pruning end, 1 roots, 16 extra nodes, 6 pruned nodes, max_depth=5\u001b[0m\n",
      "\u001b[34m[148]#011train-error:0.084067#011validation-error:0.1422\u001b[0m\n",
      "\u001b[34m[17:08:56] src/tree/updater_prune.cc:74: tree pruning end, 1 roots, 10 extra nodes, 4 pruned nodes, max_depth=5\u001b[0m\n",
      "\u001b[34m[149]#011train-error:0.084#011validation-error:0.1421\u001b[0m\n",
      "\u001b[34m[17:08:58] src/tree/updater_prune.cc:74: tree pruning end, 1 roots, 12 extra nodes, 0 pruned nodes, max_depth=5\u001b[0m\n",
      "\u001b[34m[150]#011train-error:0.084067#011validation-error:0.1425\u001b[0m\n",
      "\u001b[34m[17:08:59] src/tree/updater_prune.cc:74: tree pruning end, 1 roots, 16 extra nodes, 4 pruned nodes, max_depth=5\u001b[0m\n",
      "\u001b[34m[151]#011train-error:0.083267#011validation-error:0.1419\u001b[0m\n",
      "\u001b[34m[17:09:00] src/tree/updater_prune.cc:74: tree pruning end, 1 roots, 10 extra nodes, 4 pruned nodes, max_depth=5\u001b[0m\n",
      "\u001b[34m[152]#011train-error:0.083267#011validation-error:0.1421\u001b[0m\n",
      "\u001b[34m[17:09:02] src/tree/updater_prune.cc:74: tree pruning end, 1 roots, 12 extra nodes, 10 pruned nodes, max_depth=5\u001b[0m\n",
      "\u001b[34m[153]#011train-error:0.0832#011validation-error:0.1415\u001b[0m\n",
      "\u001b[34m[17:09:03] src/tree/updater_prune.cc:74: tree pruning end, 1 roots, 10 extra nodes, 0 pruned nodes, max_depth=5\u001b[0m\n",
      "\u001b[34m[154]#011train-error:0.083333#011validation-error:0.1412\u001b[0m\n",
      "\u001b[34m[17:09:04] src/tree/updater_prune.cc:74: tree pruning end, 1 roots, 20 extra nodes, 8 pruned nodes, max_depth=5\u001b[0m\n",
      "\u001b[34m[155]#011train-error:0.0822#011validation-error:0.1413\u001b[0m\n",
      "\u001b[34m[17:09:05] src/tree/updater_prune.cc:74: tree pruning end, 1 roots, 20 extra nodes, 16 pruned nodes, max_depth=5\u001b[0m\n",
      "\u001b[34m[156]#011train-error:0.081533#011validation-error:0.1409\u001b[0m\n",
      "\u001b[34m[17:09:07] src/tree/updater_prune.cc:74: tree pruning end, 1 roots, 12 extra nodes, 12 pruned nodes, max_depth=5\u001b[0m\n",
      "\u001b[34m[157]#011train-error:0.081467#011validation-error:0.1412\u001b[0m\n",
      "\u001b[34m[17:09:08] src/tree/updater_prune.cc:74: tree pruning end, 1 roots, 28 extra nodes, 10 pruned nodes, max_depth=5\u001b[0m\n",
      "\u001b[34m[158]#011train-error:0.081467#011validation-error:0.1406\u001b[0m\n",
      "\u001b[34m[17:09:09] src/tree/updater_prune.cc:74: tree pruning end, 1 roots, 14 extra nodes, 6 pruned nodes, max_depth=5\u001b[0m\n",
      "\u001b[34m[159]#011train-error:0.081533#011validation-error:0.1403\u001b[0m\n",
      "\u001b[34m[17:09:10] src/tree/updater_prune.cc:74: tree pruning end, 1 roots, 18 extra nodes, 12 pruned nodes, max_depth=5\u001b[0m\n",
      "\u001b[34m[160]#011train-error:0.081267#011validation-error:0.1396\u001b[0m\n",
      "\u001b[34m[17:09:12] src/tree/updater_prune.cc:74: tree pruning end, 1 roots, 14 extra nodes, 8 pruned nodes, max_depth=5\u001b[0m\n",
      "\u001b[34m[161]#011train-error:0.080733#011validation-error:0.1394\u001b[0m\n",
      "\u001b[34m[17:09:13] src/tree/updater_prune.cc:74: tree pruning end, 1 roots, 16 extra nodes, 8 pruned nodes, max_depth=5\u001b[0m\n",
      "\u001b[34m[162]#011train-error:0.080933#011validation-error:0.1393\u001b[0m\n",
      "\u001b[34m[17:09:14] src/tree/updater_prune.cc:74: tree pruning end, 1 roots, 16 extra nodes, 4 pruned nodes, max_depth=5\u001b[0m\n",
      "\u001b[34m[163]#011train-error:0.080933#011validation-error:0.139\u001b[0m\n",
      "\u001b[34m[17:09:16] src/tree/updater_prune.cc:74: tree pruning end, 1 roots, 12 extra nodes, 10 pruned nodes, max_depth=5\u001b[0m\n",
      "\u001b[34m[164]#011train-error:0.081267#011validation-error:0.1387\u001b[0m\n",
      "\u001b[34m[17:09:17] src/tree/updater_prune.cc:74: tree pruning end, 1 roots, 18 extra nodes, 8 pruned nodes, max_depth=5\u001b[0m\n",
      "\u001b[34m[165]#011train-error:0.0806#011validation-error:0.1396\u001b[0m\n",
      "\u001b[34m[17:09:18] src/tree/updater_prune.cc:74: tree pruning end, 1 roots, 16 extra nodes, 8 pruned nodes, max_depth=5\u001b[0m\n",
      "\u001b[34m[166]#011train-error:0.080533#011validation-error:0.14\u001b[0m\n",
      "\u001b[34m[17:09:19] src/tree/updater_prune.cc:74: tree pruning end, 1 roots, 12 extra nodes, 0 pruned nodes, max_depth=5\u001b[0m\n",
      "\u001b[34m[167]#011train-error:0.0802#011validation-error:0.14\u001b[0m\n",
      "\u001b[34m[17:09:21] src/tree/updater_prune.cc:74: tree pruning end, 1 roots, 20 extra nodes, 4 pruned nodes, max_depth=5\u001b[0m\n",
      "\u001b[34m[168]#011train-error:0.079933#011validation-error:0.1396\u001b[0m\n",
      "\u001b[34m[17:09:22] src/tree/updater_prune.cc:74: tree pruning end, 1 roots, 16 extra nodes, 6 pruned nodes, max_depth=5\u001b[0m\n",
      "\u001b[34m[169]#011train-error:0.0798#011validation-error:0.1387\u001b[0m\n",
      "\u001b[34m[17:09:23] src/tree/updater_prune.cc:74: tree pruning end, 1 roots, 14 extra nodes, 2 pruned nodes, max_depth=5\u001b[0m\n",
      "\u001b[34m[170]#011train-error:0.079467#011validation-error:0.1386\u001b[0m\n",
      "\u001b[34m[17:09:24] src/tree/updater_prune.cc:74: tree pruning end, 1 roots, 10 extra nodes, 12 pruned nodes, max_depth=5\u001b[0m\n",
      "\u001b[34m[171]#011train-error:0.079333#011validation-error:0.1382\u001b[0m\n",
      "\u001b[34m[17:09:26] src/tree/updater_prune.cc:74: tree pruning end, 1 roots, 12 extra nodes, 6 pruned nodes, max_depth=5\u001b[0m\n",
      "\u001b[34m[172]#011train-error:0.079#011validation-error:0.1384\u001b[0m\n",
      "\u001b[34m[17:09:27] src/tree/updater_prune.cc:74: tree pruning end, 1 roots, 14 extra nodes, 12 pruned nodes, max_depth=5\u001b[0m\n",
      "\u001b[34m[173]#011train-error:0.078533#011validation-error:0.1387\u001b[0m\n",
      "\u001b[34m[17:09:28] src/tree/updater_prune.cc:74: tree pruning end, 1 roots, 18 extra nodes, 4 pruned nodes, max_depth=5\u001b[0m\n",
      "\u001b[34m[174]#011train-error:0.078067#011validation-error:0.1381\u001b[0m\n",
      "\u001b[34m[17:09:30] src/tree/updater_prune.cc:74: tree pruning end, 1 roots, 14 extra nodes, 10 pruned nodes, max_depth=5\u001b[0m\n",
      "\u001b[34m[175]#011train-error:0.077733#011validation-error:0.1369\u001b[0m\n",
      "\u001b[34m[17:09:31] src/tree/updater_prune.cc:74: tree pruning end, 1 roots, 14 extra nodes, 6 pruned nodes, max_depth=5\u001b[0m\n",
      "\u001b[34m[176]#011train-error:0.0772#011validation-error:0.1374\u001b[0m\n",
      "\u001b[34m[17:09:32] src/tree/updater_prune.cc:74: tree pruning end, 1 roots, 18 extra nodes, 10 pruned nodes, max_depth=5\u001b[0m\n",
      "\u001b[34m[177]#011train-error:0.076667#011validation-error:0.1371\u001b[0m\n",
      "\u001b[34m[17:09:33] src/tree/updater_prune.cc:74: tree pruning end, 1 roots, 12 extra nodes, 4 pruned nodes, max_depth=5\u001b[0m\n",
      "\u001b[34m[178]#011train-error:0.076467#011validation-error:0.1372\u001b[0m\n",
      "\u001b[34m[17:09:35] src/tree/updater_prune.cc:74: tree pruning end, 1 roots, 16 extra nodes, 4 pruned nodes, max_depth=5\u001b[0m\n",
      "\u001b[34m[179]#011train-error:0.076133#011validation-error:0.1379\u001b[0m\n",
      "\u001b[34m[17:09:36] src/tree/updater_prune.cc:74: tree pruning end, 1 roots, 10 extra nodes, 8 pruned nodes, max_depth=5\u001b[0m\n",
      "\u001b[34m[180]#011train-error:0.076733#011validation-error:0.1382\u001b[0m\n",
      "\u001b[34m[17:09:37] src/tree/updater_prune.cc:74: tree pruning end, 1 roots, 18 extra nodes, 6 pruned nodes, max_depth=5\u001b[0m\n",
      "\u001b[34m[181]#011train-error:0.0764#011validation-error:0.1374\u001b[0m\n",
      "\u001b[34m[17:09:39] src/tree/updater_prune.cc:74: tree pruning end, 1 roots, 12 extra nodes, 2 pruned nodes, max_depth=5\u001b[0m\n",
      "\u001b[34m[182]#011train-error:0.075933#011validation-error:0.1367\u001b[0m\n",
      "\u001b[34m[17:09:40] src/tree/updater_prune.cc:74: tree pruning end, 1 roots, 14 extra nodes, 4 pruned nodes, max_depth=5\u001b[0m\n",
      "\u001b[34m[183]#011train-error:0.0756#011validation-error:0.1367\u001b[0m\n"
     ]
    },
    {
     "name": "stdout",
     "output_type": "stream",
     "text": [
      "\n",
      "2020-05-12 17:09:55 Uploading - Uploading generated training model\u001b[34m[17:09:41] src/tree/updater_prune.cc:74: tree pruning end, 1 roots, 28 extra nodes, 12 pruned nodes, max_depth=5\u001b[0m\n",
      "\u001b[34m[184]#011train-error:0.074467#011validation-error:0.1372\u001b[0m\n",
      "\u001b[34m[17:09:42] src/tree/updater_prune.cc:74: tree pruning end, 1 roots, 24 extra nodes, 14 pruned nodes, max_depth=5\u001b[0m\n",
      "\u001b[34m[185]#011train-error:0.0742#011validation-error:0.1378\u001b[0m\n",
      "\u001b[34m[17:09:44] src/tree/updater_prune.cc:74: tree pruning end, 1 roots, 18 extra nodes, 12 pruned nodes, max_depth=5\u001b[0m\n",
      "\u001b[34m[186]#011train-error:0.073333#011validation-error:0.1374\u001b[0m\n",
      "\u001b[34m[17:09:45] src/tree/updater_prune.cc:74: tree pruning end, 1 roots, 14 extra nodes, 4 pruned nodes, max_depth=5\u001b[0m\n",
      "\u001b[34m[187]#011train-error:0.073533#011validation-error:0.1375\u001b[0m\n",
      "\u001b[34m[17:09:46] src/tree/updater_prune.cc:74: tree pruning end, 1 roots, 10 extra nodes, 12 pruned nodes, max_depth=5\u001b[0m\n",
      "\u001b[34m[188]#011train-error:0.073267#011validation-error:0.1376\u001b[0m\n",
      "\u001b[34m[17:09:48] src/tree/updater_prune.cc:74: tree pruning end, 1 roots, 12 extra nodes, 6 pruned nodes, max_depth=5\u001b[0m\n",
      "\u001b[34m[189]#011train-error:0.073467#011validation-error:0.1375\u001b[0m\n",
      "\u001b[34m[17:09:49] src/tree/updater_prune.cc:74: tree pruning end, 1 roots, 26 extra nodes, 10 pruned nodes, max_depth=5\u001b[0m\n",
      "\u001b[34m[190]#011train-error:0.0728#011validation-error:0.137\u001b[0m\n",
      "\u001b[34m[17:09:50] src/tree/updater_prune.cc:74: tree pruning end, 1 roots, 16 extra nodes, 10 pruned nodes, max_depth=5\u001b[0m\n",
      "\u001b[34m[191]#011train-error:0.0724#011validation-error:0.1369\u001b[0m\n",
      "\u001b[34m[17:09:51] src/tree/updater_prune.cc:74: tree pruning end, 1 roots, 16 extra nodes, 6 pruned nodes, max_depth=5\u001b[0m\n",
      "\u001b[34m[192]#011train-error:0.073067#011validation-error:0.1373\u001b[0m\n",
      "\u001b[34mStopping. Best iteration:\u001b[0m\n",
      "\u001b[34m[182]#011train-error:0.075933#011validation-error:0.1367\n",
      "\u001b[0m\n",
      "\n",
      "2020-05-12 17:10:02 Completed - Training job completed\n",
      "Training seconds: 304\n",
      "Billable seconds: 304\n"
     ]
    }
   ],
   "source": [
    "xgb.fit({'train': s3_input_train, 'validation': s3_input_validation})"
   ]
  },
  {
   "cell_type": "markdown",
   "metadata": {},
   "source": [
    "## Step 5: Testing the model\n",
    "\n",
    "Now that we've fit our XGBoost model, it's time to see how well it performs. To do this we will use SageMakers Batch Transform functionality. Batch Transform is a convenient way to perform inference on a large dataset in a way that is not realtime. That is, we don't necessarily need to use our model's results immediately and instead we can perform inference on a large number of samples. An example of this in industry might be performing an end of month report. This method of inference can also be useful to us as it means that we can perform inference on our entire test set. \n",
    "\n",
    "To perform a Batch Transformation we need to first create a transformer objects from our trained estimator object."
   ]
  },
  {
   "cell_type": "code",
   "execution_count": 24,
   "metadata": {},
   "outputs": [],
   "source": [
    "xgb_transformer = xgb.transformer(instance_count = 1, instance_type = 'ml.m4.xlarge')"
   ]
  },
  {
   "cell_type": "markdown",
   "metadata": {},
   "source": [
    "Next we actually perform the transform job. When doing so we need to make sure to specify the type of data we are sending so that it is serialized correctly in the background. In our case we are providing our model with csv data so we specify `text/csv`. Also, if the test data that we have provided is too large to process all at once then we need to specify how the data file should be split up. Since each line is a single entry in our data set we tell SageMaker that it can split the input on each line."
   ]
  },
  {
   "cell_type": "code",
   "execution_count": 25,
   "metadata": {},
   "outputs": [],
   "source": [
    "xgb_transformer.transform(test_location, content_type='text/csv', split_type='Line')"
   ]
  },
  {
   "cell_type": "markdown",
   "metadata": {},
   "source": [
    "Currently the transform job is running but it is doing so in the background. Since we wish to wait until the transform job is done and we would like a bit of feedback we can run the `wait()` method."
   ]
  },
  {
   "cell_type": "code",
   "execution_count": 26,
   "metadata": {},
   "outputs": [
    {
     "name": "stdout",
     "output_type": "stream",
     "text": [
      ".....................\u001b[34mArguments: serve\u001b[0m\n",
      "\u001b[34m[2020-05-07 19:31:40 +0000] [1] [INFO] Starting gunicorn 19.7.1\u001b[0m\n",
      "\u001b[34m[2020-05-07 19:31:40 +0000] [1] [INFO] Listening at: http://0.0.0.0:8080 (1)\u001b[0m\n",
      "\u001b[34m[2020-05-07 19:31:40 +0000] [1] [INFO] Using worker: gevent\u001b[0m\n",
      "\u001b[34m[2020-05-07 19:31:40 +0000] [38] [INFO] Booting worker with pid: 38\u001b[0m\n",
      "\u001b[34m[2020-05-07 19:31:40 +0000] [39] [INFO] Booting worker with pid: 39\u001b[0m\n",
      "\u001b[34m[2020-05-07:19:31:40:INFO] Model loaded successfully for worker : 38\u001b[0m\n",
      "\u001b[34m[2020-05-07 19:31:40 +0000] [40] [INFO] Booting worker with pid: 40\u001b[0m\n",
      "\u001b[34m[2020-05-07:19:31:40:INFO] Model loaded successfully for worker : 39\u001b[0m\n",
      "\u001b[34m[2020-05-07 19:31:40 +0000] [41] [INFO] Booting worker with pid: 41\u001b[0m\n",
      "\u001b[34m[2020-05-07:19:31:40:INFO] Model loaded successfully for worker : 40\u001b[0m\n",
      "\u001b[34m[2020-05-07:19:31:40:INFO] Model loaded successfully for worker : 41\u001b[0m\n",
      "\u001b[32m2020-05-07T19:32:09.215:[sagemaker logs]: MaxConcurrentTransforms=4, MaxPayloadInMB=6, BatchStrategy=MULTI_RECORD\u001b[0m\n",
      "\u001b[34m[2020-05-07:19:32:12:INFO] Sniff delimiter as ','\u001b[0m\n",
      "\u001b[34m[2020-05-07:19:32:12:INFO] Determined delimiter of CSV input is ','\u001b[0m\n",
      "\u001b[35m[2020-05-07:19:32:12:INFO] Sniff delimiter as ','\u001b[0m\n",
      "\u001b[35m[2020-05-07:19:32:12:INFO] Determined delimiter of CSV input is ','\u001b[0m\n",
      "\u001b[34m[2020-05-07:19:32:12:INFO] Sniff delimiter as ','\u001b[0m\n",
      "\u001b[34m[2020-05-07:19:32:12:INFO] Determined delimiter of CSV input is ','\u001b[0m\n",
      "\u001b[34m[2020-05-07:19:32:12:INFO] Sniff delimiter as ','\u001b[0m\n",
      "\u001b[34m[2020-05-07:19:32:12:INFO] Determined delimiter of CSV input is ','\u001b[0m\n",
      "\u001b[34m[2020-05-07:19:32:12:INFO] Sniff delimiter as ','\u001b[0m\n",
      "\u001b[34m[2020-05-07:19:32:12:INFO] Determined delimiter of CSV input is ','\u001b[0m\n",
      "\u001b[35m[2020-05-07:19:32:12:INFO] Sniff delimiter as ','\u001b[0m\n",
      "\u001b[35m[2020-05-07:19:32:12:INFO] Determined delimiter of CSV input is ','\u001b[0m\n",
      "\u001b[35m[2020-05-07:19:32:12:INFO] Sniff delimiter as ','\u001b[0m\n",
      "\u001b[35m[2020-05-07:19:32:12:INFO] Determined delimiter of CSV input is ','\u001b[0m\n",
      "\u001b[35m[2020-05-07:19:32:12:INFO] Sniff delimiter as ','\u001b[0m\n",
      "\u001b[35m[2020-05-07:19:32:12:INFO] Determined delimiter of CSV input is ','\u001b[0m\n",
      "\u001b[34m[2020-05-07:19:32:15:INFO] Sniff delimiter as ','\u001b[0m\n",
      "\u001b[34m[2020-05-07:19:32:15:INFO] Determined delimiter of CSV input is ','\u001b[0m\n",
      "\u001b[34m[2020-05-07:19:32:15:INFO] Sniff delimiter as ','\u001b[0m\n",
      "\u001b[34m[2020-05-07:19:32:15:INFO] Determined delimiter of CSV input is ','\u001b[0m\n",
      "\u001b[34m[2020-05-07:19:32:15:INFO] Sniff delimiter as ','\u001b[0m\n",
      "\u001b[34m[2020-05-07:19:32:15:INFO] Determined delimiter of CSV input is ','\u001b[0m\n",
      "\u001b[34m[2020-05-07:19:32:15:INFO] Sniff delimiter as ','\u001b[0m\n",
      "\u001b[34m[2020-05-07:19:32:15:INFO] Determined delimiter of CSV input is ','\u001b[0m\n",
      "\u001b[35m[2020-05-07:19:32:15:INFO] Sniff delimiter as ','\u001b[0m\n",
      "\u001b[35m[2020-05-07:19:32:15:INFO] Determined delimiter of CSV input is ','\u001b[0m\n",
      "\u001b[35m[2020-05-07:19:32:15:INFO] Sniff delimiter as ','\u001b[0m\n",
      "\u001b[35m[2020-05-07:19:32:15:INFO] Determined delimiter of CSV input is ','\u001b[0m\n",
      "\u001b[35m[2020-05-07:19:32:15:INFO] Sniff delimiter as ','\u001b[0m\n",
      "\u001b[35m[2020-05-07:19:32:15:INFO] Determined delimiter of CSV input is ','\u001b[0m\n",
      "\u001b[35m[2020-05-07:19:32:15:INFO] Sniff delimiter as ','\u001b[0m\n",
      "\u001b[35m[2020-05-07:19:32:15:INFO] Determined delimiter of CSV input is ','\u001b[0m\n",
      "\u001b[34m[2020-05-07:19:32:17:INFO] Sniff delimiter as ','\u001b[0m\n",
      "\u001b[34m[2020-05-07:19:32:17:INFO] Determined delimiter of CSV input is ','\u001b[0m\n",
      "\u001b[35m[2020-05-07:19:32:17:INFO] Sniff delimiter as ','\u001b[0m\n",
      "\u001b[35m[2020-05-07:19:32:17:INFO] Determined delimiter of CSV input is ','\u001b[0m\n",
      "\u001b[34m[2020-05-07:19:32:17:INFO] Sniff delimiter as ','\u001b[0m\n",
      "\u001b[35m[2020-05-07:19:32:17:INFO] Sniff delimiter as ','\u001b[0m\n",
      "\u001b[34m[2020-05-07:19:32:17:INFO] Determined delimiter of CSV input is ','\u001b[0m\n",
      "\u001b[34m[2020-05-07:19:32:17:INFO] Sniff delimiter as ','\u001b[0m\n",
      "\u001b[34m[2020-05-07:19:32:17:INFO] Determined delimiter of CSV input is ','\u001b[0m\n",
      "\u001b[34m[2020-05-07:19:32:18:INFO] Sniff delimiter as ','\u001b[0m\n",
      "\u001b[34m[2020-05-07:19:32:18:INFO] Determined delimiter of CSV input is ','\u001b[0m\n",
      "\u001b[35m[2020-05-07:19:32:17:INFO] Determined delimiter of CSV input is ','\u001b[0m\n",
      "\u001b[35m[2020-05-07:19:32:17:INFO] Sniff delimiter as ','\u001b[0m\n",
      "\u001b[35m[2020-05-07:19:32:17:INFO] Determined delimiter of CSV input is ','\u001b[0m\n",
      "\u001b[35m[2020-05-07:19:32:18:INFO] Sniff delimiter as ','\u001b[0m\n",
      "\u001b[35m[2020-05-07:19:32:18:INFO] Determined delimiter of CSV input is ','\u001b[0m\n",
      "\u001b[34m[2020-05-07:19:32:20:INFO] Sniff delimiter as ','\u001b[0m\n",
      "\u001b[34m[2020-05-07:19:32:20:INFO] Determined delimiter of CSV input is ','\u001b[0m\n",
      "\u001b[34m[2020-05-07:19:32:20:INFO] Sniff delimiter as ','\u001b[0m\n",
      "\u001b[35m[2020-05-07:19:32:20:INFO] Sniff delimiter as ','\u001b[0m\n",
      "\u001b[35m[2020-05-07:19:32:20:INFO] Determined delimiter of CSV input is ','\u001b[0m\n",
      "\u001b[35m[2020-05-07:19:32:20:INFO] Sniff delimiter as ','\u001b[0m\n",
      "\u001b[34m[2020-05-07:19:32:20:INFO] Determined delimiter of CSV input is ','\u001b[0m\n",
      "\u001b[34m[2020-05-07:19:32:20:INFO] Sniff delimiter as ','\u001b[0m\n",
      "\u001b[34m[2020-05-07:19:32:20:INFO] Determined delimiter of CSV input is ','\u001b[0m\n",
      "\u001b[34m[2020-05-07:19:32:20:INFO] Sniff delimiter as ','\u001b[0m\n",
      "\u001b[34m[2020-05-07:19:32:20:INFO] Determined delimiter of CSV input is ','\u001b[0m\n",
      "\u001b[35m[2020-05-07:19:32:20:INFO] Determined delimiter of CSV input is ','\u001b[0m\n",
      "\u001b[35m[2020-05-07:19:32:20:INFO] Sniff delimiter as ','\u001b[0m\n",
      "\u001b[35m[2020-05-07:19:32:20:INFO] Determined delimiter of CSV input is ','\u001b[0m\n",
      "\u001b[35m[2020-05-07:19:32:20:INFO] Sniff delimiter as ','\u001b[0m\n",
      "\u001b[35m[2020-05-07:19:32:20:INFO] Determined delimiter of CSV input is ','\u001b[0m\n",
      "\u001b[34m[2020-05-07:19:32:22:INFO] Determined delimiter of CSV input is ','\u001b[0m\n",
      "\u001b[34m[2020-05-07:19:32:23:INFO] Sniff delimiter as ','\u001b[0m\n",
      "\u001b[34m[2020-05-07:19:32:23:INFO] Determined delimiter of CSV input is ','\u001b[0m\n",
      "\u001b[35m[2020-05-07:19:32:22:INFO] Determined delimiter of CSV input is ','\u001b[0m\n",
      "\u001b[35m[2020-05-07:19:32:23:INFO] Sniff delimiter as ','\u001b[0m\n",
      "\u001b[35m[2020-05-07:19:32:23:INFO] Determined delimiter of CSV input is ','\u001b[0m\n",
      "\u001b[34m[2020-05-07:19:32:25:INFO] Sniff delimiter as ','\u001b[0m\n",
      "\u001b[34m[2020-05-07:19:32:25:INFO] Determined delimiter of CSV input is ','\u001b[0m\n",
      "\u001b[34m[2020-05-07:19:32:25:INFO] Sniff delimiter as ','\u001b[0m\n",
      "\u001b[34m[2020-05-07:19:32:25:INFO] Determined delimiter of CSV input is ','\u001b[0m\n",
      "\u001b[34m[2020-05-07:19:32:25:INFO] Sniff delimiter as ','\u001b[0m\n",
      "\u001b[34m[2020-05-07:19:32:25:INFO] Determined delimiter of CSV input is ','\u001b[0m\n",
      "\u001b[34m[2020-05-07:19:32:25:INFO] Sniff delimiter as ','\u001b[0m\n",
      "\u001b[34m[2020-05-07:19:32:25:INFO] Determined delimiter of CSV input is ','\u001b[0m\n",
      "\u001b[35m[2020-05-07:19:32:25:INFO] Sniff delimiter as ','\u001b[0m\n",
      "\u001b[35m[2020-05-07:19:32:25:INFO] Determined delimiter of CSV input is ','\u001b[0m\n",
      "\u001b[35m[2020-05-07:19:32:25:INFO] Sniff delimiter as ','\u001b[0m\n",
      "\u001b[35m[2020-05-07:19:32:25:INFO] Determined delimiter of CSV input is ','\u001b[0m\n",
      "\u001b[35m[2020-05-07:19:32:25:INFO] Sniff delimiter as ','\u001b[0m\n",
      "\u001b[35m[2020-05-07:19:32:25:INFO] Determined delimiter of CSV input is ','\u001b[0m\n",
      "\u001b[35m[2020-05-07:19:32:25:INFO] Sniff delimiter as ','\u001b[0m\n",
      "\u001b[35m[2020-05-07:19:32:25:INFO] Determined delimiter of CSV input is ','\u001b[0m\n",
      "\u001b[34m[2020-05-07:19:32:27:INFO] Sniff delimiter as ','\u001b[0m\n",
      "\u001b[34m[2020-05-07:19:32:27:INFO] Determined delimiter of CSV input is ','\u001b[0m\n",
      "\u001b[34m[2020-05-07:19:32:27:INFO] Sniff delimiter as ','\u001b[0m\n",
      "\u001b[34m[2020-05-07:19:32:27:INFO] Determined delimiter of CSV input is ','\u001b[0m\n",
      "\u001b[35m[2020-05-07:19:32:27:INFO] Sniff delimiter as ','\u001b[0m\n",
      "\u001b[35m[2020-05-07:19:32:27:INFO] Determined delimiter of CSV input is ','\u001b[0m\n",
      "\u001b[35m[2020-05-07:19:32:27:INFO] Sniff delimiter as ','\u001b[0m\n",
      "\u001b[35m[2020-05-07:19:32:27:INFO] Determined delimiter of CSV input is ','\u001b[0m\n",
      "\u001b[34m[2020-05-07:19:32:27:INFO] Sniff delimiter as ','\u001b[0m\n",
      "\u001b[34m[2020-05-07:19:32:27:INFO] Determined delimiter of CSV input is ','\u001b[0m\n",
      "\u001b[34m[2020-05-07:19:32:28:INFO] Sniff delimiter as ','\u001b[0m\n",
      "\u001b[34m[2020-05-07:19:32:28:INFO] Determined delimiter of CSV input is ','\u001b[0m\n",
      "\u001b[35m[2020-05-07:19:32:27:INFO] Sniff delimiter as ','\u001b[0m\n",
      "\u001b[35m[2020-05-07:19:32:27:INFO] Determined delimiter of CSV input is ','\u001b[0m\n",
      "\u001b[35m[2020-05-07:19:32:28:INFO] Sniff delimiter as ','\u001b[0m\n",
      "\u001b[35m[2020-05-07:19:32:28:INFO] Determined delimiter of CSV input is ','\u001b[0m\n",
      "\u001b[34m[2020-05-07:19:32:29:INFO] Sniff delimiter as ','\u001b[0m\n",
      "\u001b[34m[2020-05-07:19:32:29:INFO] Determined delimiter of CSV input is ','\u001b[0m\n",
      "\u001b[34m[2020-05-07:19:32:30:INFO] Sniff delimiter as ','\u001b[0m\n",
      "\u001b[34m[2020-05-07:19:32:30:INFO] Determined delimiter of CSV input is ','\u001b[0m\n",
      "\u001b[34m[2020-05-07:19:32:30:INFO] Sniff delimiter as ','\u001b[0m\n",
      "\u001b[34m[2020-05-07:19:32:30:INFO] Determined delimiter of CSV input is ','\u001b[0m\n",
      "\u001b[34m[2020-05-07:19:32:30:INFO] Sniff delimiter as ','\u001b[0m\n",
      "\u001b[34m[2020-05-07:19:32:30:INFO] Determined delimiter of CSV input is ','\u001b[0m\n",
      "\u001b[35m[2020-05-07:19:32:29:INFO] Sniff delimiter as ','\u001b[0m\n",
      "\u001b[35m[2020-05-07:19:32:29:INFO] Determined delimiter of CSV input is ','\u001b[0m\n",
      "\u001b[35m[2020-05-07:19:32:30:INFO] Sniff delimiter as ','\u001b[0m\n",
      "\u001b[35m[2020-05-07:19:32:30:INFO] Determined delimiter of CSV input is ','\u001b[0m\n",
      "\u001b[35m[2020-05-07:19:32:30:INFO] Sniff delimiter as ','\u001b[0m\n",
      "\u001b[35m[2020-05-07:19:32:30:INFO] Determined delimiter of CSV input is ','\u001b[0m\n",
      "\u001b[35m[2020-05-07:19:32:30:INFO] Sniff delimiter as ','\u001b[0m\n",
      "\u001b[35m[2020-05-07:19:32:30:INFO] Determined delimiter of CSV input is ','\u001b[0m\n"
     ]
    },
    {
     "name": "stdout",
     "output_type": "stream",
     "text": [
      "\n",
      "\u001b[34m[2020-05-07:19:32:34:INFO] Sniff delimiter as ','\u001b[0m\n",
      "\u001b[34m[2020-05-07:19:32:34:INFO] Determined delimiter of CSV input is ','\u001b[0m\n",
      "\u001b[34m[2020-05-07:19:32:34:INFO] Sniff delimiter as ','\u001b[0m\n",
      "\u001b[34m[2020-05-07:19:32:34:INFO] Determined delimiter of CSV input is ','\u001b[0m\n",
      "\u001b[34m[2020-05-07:19:32:35:INFO] Sniff delimiter as ','\u001b[0m\n",
      "\u001b[34m[2020-05-07:19:32:35:INFO] Determined delimiter of CSV input is ','\u001b[0m\n",
      "\u001b[34m[2020-05-07:19:32:35:INFO] Sniff delimiter as ','\u001b[0m\n",
      "\u001b[34m[2020-05-07:19:32:35:INFO] Determined delimiter of CSV input is ','\u001b[0m\n",
      "\u001b[35m[2020-05-07:19:32:34:INFO] Sniff delimiter as ','\u001b[0m\n",
      "\u001b[35m[2020-05-07:19:32:34:INFO] Determined delimiter of CSV input is ','\u001b[0m\n",
      "\u001b[35m[2020-05-07:19:32:34:INFO] Sniff delimiter as ','\u001b[0m\n",
      "\u001b[35m[2020-05-07:19:32:34:INFO] Determined delimiter of CSV input is ','\u001b[0m\n",
      "\u001b[35m[2020-05-07:19:32:35:INFO] Sniff delimiter as ','\u001b[0m\n",
      "\u001b[35m[2020-05-07:19:32:35:INFO] Determined delimiter of CSV input is ','\u001b[0m\n",
      "\u001b[35m[2020-05-07:19:32:35:INFO] Sniff delimiter as ','\u001b[0m\n",
      "\u001b[35m[2020-05-07:19:32:35:INFO] Determined delimiter of CSV input is ','\u001b[0m\n"
     ]
    }
   ],
   "source": [
    "xgb_transformer.wait()"
   ]
  },
  {
   "cell_type": "markdown",
   "metadata": {},
   "source": [
    "Now the transform job has executed and the result, the estimated sentiment of each review, has been saved on S3. Since we would rather work on this file locally we can perform a bit of notebook magic to copy the file to the `data_dir`."
   ]
  },
  {
   "cell_type": "code",
   "execution_count": 27,
   "metadata": {},
   "outputs": [
    {
     "name": "stdout",
     "output_type": "stream",
     "text": [
      "Completed 256.0 KiB/370.2 KiB (3.6 MiB/s) with 1 file(s) remaining\r",
      "Completed 370.2 KiB/370.2 KiB (5.0 MiB/s) with 1 file(s) remaining\r",
      "download: s3://sagemaker-us-west-1-731892558299/xgboost-2020-05-07-19-28-14-438/test.csv.out to ../data/sentiment_web_app/test.csv.out\r\n"
     ]
    }
   ],
   "source": [
    "!aws s3 cp --recursive $xgb_transformer.output_path $data_dir"
   ]
  },
  {
   "cell_type": "markdown",
   "metadata": {},
   "source": [
    "The last step is now to read in the output from our model, convert the output to something a little more usable, in this case we want the sentiment to be either `1` (positive) or `0` (negative), and then compare to the ground truth labels."
   ]
  },
  {
   "cell_type": "code",
   "execution_count": 28,
   "metadata": {},
   "outputs": [],
   "source": [
    "predictions = pd.read_csv(os.path.join(data_dir, 'test.csv.out'), header=None)\n",
    "predictions = [round(num) for num in predictions.squeeze().values]"
   ]
  },
  {
   "cell_type": "code",
   "execution_count": 29,
   "metadata": {},
   "outputs": [
    {
     "data": {
      "text/plain": [
       "0.8604"
      ]
     },
     "execution_count": 29,
     "metadata": {},
     "output_type": "execute_result"
    }
   ],
   "source": [
    "from sklearn.metrics import accuracy_score\n",
    "accuracy_score(test_y, predictions)"
   ]
  },
  {
   "cell_type": "markdown",
   "metadata": {},
   "source": [
    "## Step 6: Deploying the model\n",
    "\n",
    "Once we construct and fit our model, SageMaker stores the resulting model artifacts and we can use those to deploy an endpoint (inference code). To see this, look in the SageMaker console and you should see that a model has been created along with a link to the S3 location where the model artifacts have been stored.\n",
    "\n",
    "Deploying an endpoint is a lot like training the model with a few important differences. The first is that a deployed model doesn't change the model artifacts, so as you send it various testing instances the model won't change. Another difference is that since we aren't performing a fixed computation, as we were in the training step or while performing a batch transform, the compute instance that gets started stays running until we tell it to stop. This is important to note as if we forget and leave it running we will be charged the entire time.\n",
    "\n",
    "In other words **If you are no longer using a deployed endpoint, shut it down!**"
   ]
  },
  {
   "cell_type": "code",
   "execution_count": 30,
   "metadata": {},
   "outputs": [
    {
     "name": "stderr",
     "output_type": "stream",
     "text": [
      "WARNING:sagemaker:Using already existing model: xgboost-2020-05-07-19-19-58-926\n"
     ]
    },
    {
     "name": "stdout",
     "output_type": "stream",
     "text": [
      "----------------!"
     ]
    }
   ],
   "source": [
    "xgb_predictor = xgb.deploy(initial_instance_count = 1, instance_type = 'ml.m4.xlarge')"
   ]
  },
  {
   "cell_type": "markdown",
   "metadata": {},
   "source": [
    "### Testing the model (again)\n",
    "\n",
    "Now that we have deployed our endpoint, we can send the testing data to it and get back the inference results. We already did this earlier using the batch transform functionality of SageMaker, however, we will test our model again using the newly deployed endpoint so that we can make sure that it works properly and to get a bit of a feel for how the endpoint works.\n",
    "\n",
    "When using the created endpoint it is important to know that we are limited in the amount of information we can send in each call so we need to break the testing data up into chunks and then send each chunk. Also, we need to serialize our data before we send it to the endpoint to ensure that our data is transmitted properly. Fortunately, SageMaker can do the serialization part for us provided we tell it the format of our data."
   ]
  },
  {
   "cell_type": "code",
   "execution_count": 31,
   "metadata": {},
   "outputs": [],
   "source": [
    "from sagemaker.predictor import csv_serializer\n",
    "\n",
    "# We need to tell the endpoint what format the data we are sending is in so that SageMaker can perform the serialization.\n",
    "xgb_predictor.content_type = 'text/csv'\n",
    "xgb_predictor.serializer = csv_serializer"
   ]
  },
  {
   "cell_type": "code",
   "execution_count": 32,
   "metadata": {},
   "outputs": [],
   "source": [
    "# We split the data into chunks and send each chunk seperately, accumulating the results.\n",
    "\n",
    "def predict(data, rows=512):\n",
    "    split_array = np.array_split(data, int(data.shape[0] / float(rows) + 1))\n",
    "    predictions = ''\n",
    "    for array in split_array:\n",
    "        predictions = ','.join([predictions, xgb_predictor.predict(array).decode('utf-8')])\n",
    "    \n",
    "    return np.fromstring(predictions[1:], sep=',')"
   ]
  },
  {
   "cell_type": "code",
   "execution_count": 33,
   "metadata": {},
   "outputs": [],
   "source": [
    "test_X = pd.read_csv(os.path.join(data_dir, 'test.csv'), header=None).values\n",
    "\n",
    "predictions = predict(test_X)\n",
    "predictions = [round(num) for num in predictions]"
   ]
  },
  {
   "cell_type": "markdown",
   "metadata": {},
   "source": [
    "Lastly, we check to see what the accuracy of our model is."
   ]
  },
  {
   "cell_type": "code",
   "execution_count": 34,
   "metadata": {},
   "outputs": [
    {
     "data": {
      "text/plain": [
       "0.8604"
      ]
     },
     "execution_count": 34,
     "metadata": {},
     "output_type": "execute_result"
    }
   ],
   "source": [
    "from sklearn.metrics import accuracy_score\n",
    "accuracy_score(test_y, predictions)"
   ]
  },
  {
   "cell_type": "markdown",
   "metadata": {},
   "source": [
    "And the results here should agree with the model testing that we did earlier using the batch transform job.\n",
    "\n",
    "### Cleaning up\n",
    "\n",
    "Now that we've determined that deploying our model works as expected, we are going to shut it down. Remember that the longer the endpoint is left running, the greater the cost and since we have a bit more work to do before we are able to use our endpoint with our simple web app, we should shut everything down."
   ]
  },
  {
   "cell_type": "code",
   "execution_count": 35,
   "metadata": {},
   "outputs": [],
   "source": [
    "xgb_predictor.delete_endpoint()"
   ]
  },
  {
   "cell_type": "code",
   "execution_count": 28,
   "metadata": {},
   "outputs": [],
   "source": [
    "# Functions and imports needed for step 7 and below so you dont have to re run everything. \n",
    "import os\n",
    "import glob\n",
    "\n",
    "import re\n",
    "\n",
    "REPLACE_NO_SPACE = re.compile(\"(\\.)|(\\;)|(\\:)|(\\!)|(\\')|(\\?)|(\\,)|(\\\")|(\\()|(\\))|(\\[)|(\\])\")\n",
    "REPLACE_WITH_SPACE = re.compile(\"(<br\\s*/><br\\s*/>)|(\\-)|(\\/)\")\n",
    "\n",
    "def review_to_words(review):\n",
    "    words = REPLACE_NO_SPACE.sub(\"\", review.lower())\n",
    "    words = REPLACE_WITH_SPACE.sub(\" \", words)\n",
    "    return words\n",
    "\n",
    "import sagemaker\n",
    "\n",
    "session = sagemaker.Session() # Store the current SageMaker session\n",
    "\n",
    "# S3 prefix (which folder will we use)\n",
    "prefix = 'sentiment-web-app'\n"
   ]
  },
  {
   "cell_type": "markdown",
   "metadata": {},
   "source": [
    "## Step 7: Putting our model to work\n",
    "\n",
    "As we've mentioned a few times now, our goal is to have our model deployed and then access it using a very simple web app. The intent is for this web app to take some user submitted data (a review), send it off to our endpoint (the model) and then display the result.\n",
    "\n",
    "However, there is a small catch. Currently the only way we can access the endpoint to send it data is using the SageMaker API. We can, if we wish, expose the actual URL that our model's endpoint is receiving data from, however, if we just send it data ourselves we will not get anything in return. This is because the endpoint created by SageMaker requires the entity accessing it have the correct permissions. So, we would need to somehow authenticate our web app with AWS.\n",
    "\n",
    "Having a website that authenticates to AWS seems a bit beyond the scope of this lesson so we will opt for an alternative approach. Namely, we will create a new endpoint which does not require authentication and which acts as a proxy for the SageMaker endpoint.\n",
    "\n",
    "As an additional constraint, we will try to avoid doing any data processing in the web app itself. Remember that when we constructed and tested our model we started with a movie review, then we simplified it by removing any html formatting and punctuation, then we constructed a bag of words embedding and the resulting vector is what we sent to our model. All of this needs to be done to our user input as well.\n",
    "\n",
    "Fortunately we can do all of this data processing in the backend, using Amazon's Lambda service.\n",
    "\n",
    "<img src=\"Web App Diagram.svg\">\n",
    "\n",
    "The diagram above gives an overview of how the various services will work together. On the far right is the model which we trained above and which will be deployed using SageMaker. On the far left is our web app that collects a user's movie review, sends it off and expects a positive or negative sentiment in return.\n",
    "\n",
    "In the middle is where some of the magic happens. We will construct a Lambda function, which you can think of as a straightforward Python function that can be executed whenever a specified event occurs. This Python function will do the data processing we need to perform on a user submitted review. In addition, we will give this function permission to send and recieve data from a SageMaker endpoint.\n",
    "\n",
    "Lastly, the method we will use to execute the Lambda function is a new endpoint that we will create using API Gateway. This endpoint will be a url that listens for data to be sent to it. Once it gets some data it will pass that data on to the Lambda function and then return whatever the Lambda function returns. Essentially it will act as an interface that lets our web app communicate with the Lambda function.\n",
    "\n",
    "### Processing a single review\n",
    "\n",
    "For now, suppose we are given a movie review by our user in the form of a string, like so:"
   ]
  },
  {
   "cell_type": "code",
   "execution_count": 20,
   "metadata": {},
   "outputs": [],
   "source": [
    "test_review = \"Nothing but a disgusting materialistic pageant of glistening abed remote control greed zombies, totally devoid of any heart or heat. A romantic comedy that has zero romantic chemestry and zero laughs!\""
   ]
  },
  {
   "cell_type": "markdown",
   "metadata": {},
   "source": [
    "How do we go from this string to the bag of words feature vector that is expected by our model?\n",
    "\n",
    "If we recall at the beginning of this notebook, the first step is to remove any unnecessary characters using the `review_to_words` method. Remember that we intentionally did this in a very simplistic way. This is because we are going to have to copy this method to our (eventual) Lambda function (we will go into more detail later) and this means it needs to be rather simplistic."
   ]
  },
  {
   "cell_type": "code",
   "execution_count": 21,
   "metadata": {},
   "outputs": [
    {
     "name": "stdout",
     "output_type": "stream",
     "text": [
      "nothing but a disgusting materialistic pageant of glistening abed remote control greed zombies totally devoid of any heart or heat a romantic comedy that has zero romantic chemestry and zero laughs\n"
     ]
    }
   ],
   "source": [
    "test_words = review_to_words(test_review)\n",
    "print(test_words)"
   ]
  },
  {
   "cell_type": "markdown",
   "metadata": {},
   "source": [
    "Next, we need to construct a bag of words embedding of the `test_words` string. To do this, remember that a bag of words embedding uses a `vocabulary` consisting of the most frequently appearing words in a set of documents. Then, for each word in the vocabulary we record the number of times that word appears in `test_words`. We constructed the `vocabulary` earlier using the training set for our problem so encoding `test_words` is relatively straightforward."
   ]
  },
  {
   "cell_type": "code",
   "execution_count": 22,
   "metadata": {},
   "outputs": [],
   "source": [
    "def bow_encoding(words, vocabulary):\n",
    "    bow = [0] * len(vocabulary) # Start by setting the count for each word in the vocabulary to zero.\n",
    "    for word in words.split():  # For each word in the string\n",
    "        if word in vocabulary:  # If the word is one that occurs in the vocabulary, increase its count.\n",
    "            bow[vocabulary[word]] += 1\n",
    "    return bow"
   ]
  },
  {
   "cell_type": "code",
   "execution_count": 23,
   "metadata": {},
   "outputs": [
    {
     "name": "stdout",
     "output_type": "stream",
     "text": [
      "[0, 0, 0, 0, 0, 0, 0, 0, 0, 0, 0, 0, 0, 0, 0, 0, 0, 0, 0, 0, 0, 0, 0, 0, 0, 0, 0, 0, 0, 0, 0, 0, 0, 0, 0, 0, 0, 0, 0, 0, 0, 0, 0, 0, 0, 0, 0, 0, 0, 0, 0, 0, 0, 0, 0, 0, 0, 0, 0, 0, 0, 0, 0, 0, 0, 0, 0, 0, 0, 0, 0, 0, 0, 0, 0, 0, 0, 0, 0, 0, 0, 0, 0, 0, 0, 0, 0, 0, 0, 0, 0, 0, 0, 0, 0, 0, 0, 0, 0, 0, 0, 0, 0, 0, 0, 0, 0, 0, 0, 0, 0, 0, 0, 0, 0, 0, 0, 0, 0, 0, 0, 0, 0, 0, 0, 0, 0, 0, 0, 0, 0, 0, 0, 0, 0, 0, 0, 0, 0, 0, 0, 0, 0, 0, 0, 0, 0, 0, 0, 0, 0, 0, 0, 0, 0, 0, 0, 0, 0, 0, 0, 0, 0, 0, 0, 0, 0, 0, 0, 0, 0, 0, 0, 0, 0, 0, 0, 0, 0, 0, 0, 0, 0, 0, 0, 0, 0, 0, 0, 0, 0, 0, 0, 0, 0, 0, 0, 0, 0, 0, 0, 0, 0, 0, 0, 0, 0, 0, 0, 0, 0, 0, 0, 0, 0, 0, 0, 0, 0, 0, 0, 0, 0, 0, 0, 0, 1, 0, 0, 0, 0, 0, 0, 0, 0, 0, 0, 0, 0, 0, 0, 0, 0, 0, 0, 0, 0, 0, 0, 0, 0, 0, 0, 0, 0, 0, 1, 0, 0, 0, 0, 0, 0, 0, 0, 0, 0, 0, 0, 0, 0, 0, 0, 0, 0, 0, 0, 0, 0, 0, 0, 0, 0, 0, 0, 0, 0, 0, 0, 0, 0, 0, 0, 0, 0, 0, 0, 0, 0, 0, 0, 0, 0, 0, 0, 0, 0, 0, 0, 0, 0, 0, 0, 0, 0, 0, 0, 0, 0, 0, 0, 0, 0, 0, 0, 0, 0, 0, 0, 0, 0, 0, 0, 0, 0, 0, 0, 0, 0, 0, 0, 0, 0, 0, 0, 0, 0, 0, 0, 0, 0, 0, 0, 0, 0, 0, 0, 0, 0, 0, 0, 0, 0, 0, 0, 0, 0, 0, 0, 0, 0, 0, 0, 0, 0, 0, 0, 0, 0, 0, 0, 0, 0, 0, 0, 0, 0, 0, 0, 0, 0, 0, 0, 0, 0, 0, 0, 0, 0, 0, 0, 0, 0, 0, 0, 0, 0, 0, 0, 0, 0, 0, 0, 0, 0, 0, 0, 0, 0, 0, 0, 0, 0, 0, 0, 0, 0, 0, 0, 0, 0, 0, 0, 0, 0, 0, 0, 0, 0, 0, 0, 0, 0, 0, 0, 0, 0, 0, 0, 0, 0, 0, 0, 0, 0, 0, 0, 0, 0, 0, 0, 0, 0, 0, 0, 0, 0, 0, 0, 0, 0, 0, 0, 0, 0, 0, 0, 0, 0, 0, 0, 0, 0, 0, 0, 0, 0, 0, 0, 0, 0, 0, 0, 0, 0, 0, 0, 0, 0, 0, 0, 0, 0, 0, 0, 0, 0, 0, 0, 0, 0, 0, 0, 0, 0, 0, 0, 0, 0, 0, 0, 0, 0, 0, 0, 0, 0, 0, 0, 0, 0, 0, 0, 0, 0, 0, 0, 0, 0, 0, 0, 0, 0, 0, 0, 0, 0, 0, 0, 0, 0, 0, 0, 0, 0, 0, 0, 0, 0, 0, 0, 0, 0, 0, 0, 0, 0, 0, 0, 0, 0, 0, 0, 0, 0, 0, 0, 0, 0, 0, 0, 0, 0, 0, 0, 0, 0, 0, 0, 0, 0, 0, 0, 0, 0, 0, 0, 0, 0, 0, 0, 0, 0, 0, 0, 0, 0, 0, 0, 0, 0, 0, 0, 0, 0, 0, 0, 0, 0, 0, 0, 0, 0, 0, 0, 0, 0, 0, 0, 0, 0, 0, 0, 0, 0, 0, 1, 0, 0, 0, 0, 0, 0, 0, 0, 0, 0, 0, 0, 0, 0, 0, 0, 0, 0, 0, 0, 0, 0, 0, 0, 0, 0, 0, 0, 0, 0, 0, 0, 0, 0, 0, 0, 0, 0, 0, 0, 0, 0, 0, 0, 0, 0, 0, 0, 0, 0, 0, 0, 0, 0, 0, 0, 0, 0, 0, 0, 0, 0, 0, 0, 0, 0, 0, 0, 0, 0, 0, 0, 0, 0, 0, 0, 0, 0, 0, 0, 0, 0, 0, 0, 0, 0, 0, 0, 0, 0, 0, 0, 0, 0, 0, 0, 0, 0, 0, 0, 0, 0, 0, 0, 0, 0, 0, 0, 0, 0, 0, 0, 0, 0, 0, 0, 0, 0, 0, 0, 0, 0, 0, 0, 0, 0, 0, 0, 0, 0, 0, 0, 0, 0, 0, 0, 0, 0, 0, 0, 0, 0, 0, 0, 0, 0, 0, 0, 0, 0, 0, 0, 0, 0, 0, 0, 0, 0, 0, 0, 0, 0, 0, 0, 0, 0, 0, 0, 0, 0, 0, 0, 0, 0, 0, 0, 0, 0, 0, 0, 0, 0, 0, 0, 0, 0, 0, 0, 0, 0, 0, 0, 0, 0, 0, 0, 0, 0, 0, 0, 0, 0, 0, 0, 0, 0, 0, 0, 0, 0, 0, 0, 0, 0, 0, 0, 0, 0, 0, 0, 0, 0, 0, 0, 0, 0, 0, 0, 0, 0, 0, 0, 0, 0, 0, 0, 0, 0, 0, 0, 0, 0, 0, 0, 0, 0, 0, 0, 0, 0, 0, 0, 0, 1, 0, 0, 0, 0, 0, 0, 0, 0, 0, 0, 0, 0, 0, 0, 0, 0, 0, 0, 0, 0, 0, 0, 0, 0, 0, 0, 0, 0, 0, 0, 0, 0, 0, 0, 0, 0, 0, 0, 0, 0, 0, 0, 0, 0, 0, 0, 0, 0, 0, 0, 0, 0, 0, 0, 0, 0, 0, 0, 0, 0, 0, 0, 0, 0, 0, 0, 0, 0, 0, 0, 0, 0, 0, 0, 0, 0, 0, 0, 0, 0, 0, 0, 0, 0, 0, 0, 1, 0, 0, 0, 0, 0, 0, 0, 0, 0, 0, 0, 0, 0, 0, 0, 0, 0, 0, 0, 0, 0, 0, 0, 0, 0, 0, 0, 0, 0, 0, 0, 0, 0, 0, 0, 0, 0, 0, 0, 0, 0, 0, 0, 0, 0, 0, 0, 0, 0, 0, 0, 0, 0, 0, 0, 0, 0, 0, 0, 0, 0, 0, 0, 0, 0, 0, 0, 0, 0, 0, 0, 0, 0, 0, 0, 0, 0, 0, 0, 0, 0, 0, 0, 0, 0, 0, 0, 0, 0, 0, 0, 0, 0, 0, 0, 0, 0, 0, 0, 0, 0, 0, 0, 0, 0, 0, 0, 0, 0, 0, 0, 0, 0, 0, 0, 0, 0, 0, 0, 0, 0, 0, 0, 0, 0, 0, 0, 0, 0, 0, 0, 0, 0, 0, 0, 0, 0, 0, 0, 0, 0, 0, 0, 0, 0, 0, 0, 0, 0, 0, 0, 0, 0, 0, 0, 0, 0, 0, 0, 0, 0, 0, 0, 0, 0, 0, 0, 0, 0, 0, 0, 0, 0, 0, 0, 0, 0, 0, 0, 0, 0, 0, 0, 0, 0, 0, 0, 0, 0, 0, 0, 0, 0, 0, 0, 0, 0, 0, 0, 0, 0, 0, 0, 0, 0, 0, 0, 0, 0, 0, 0, 0, 0, 0, 0, 0, 0, 0, 0, 0, 0, 0, 0, 0, 0, 0, 0, 0, 0, 0, 0, 0, 0, 0, 0, 0, 0, 0, 0, 0, 0, 0, 0, 0, 0, 0, 0, 0, 0, 0, 0, 0, 1, 0, 0, 0, 0, 0, 0, 0, 0, 0, 0, 0, 0, 0, 0, 0, 0, 0, 0, 0, 0, 0, 0, 0, 0, 0, 0, 0, 0, 0, 0, 0, 0, 0, 0, 0, 0, 0, 0, 0, 0, 0, 0, 0, 0, 0, 0, 0, 0, 0, 0, 0, 0, 0, 0, 0, 1, 0, 0, 0, 0, 0, 0, 0, 0, 0, 0, 0, 0, 0, 0, 0, 0, 0, 0, 0, 0, 0, 0, 0, 0, 0, 0, 0, 0, 0, 0, 0, 0, 0, 0, 0, 0, 0, 0, 0, 0, 0, 0, 0, 0, 0, 0, 0, 0, 0, 0, 0, 0, 0, 0, 0, 0, 0, 0, 0, 0, 0, 0, 0, 0, 0, 0, 0, 0, 0, 0, 0, 0, 0, 0, 0, 0, 0, 0, 0, 0, 0, 0, 0, 0, 0, 0, 0, 0, 0, 0, 0, 0, 0, 0, 0, 0, 0, 0, 0, 0, 0, 0, 0, 0, 0, 0, 0, 0, 0, 0, 0, 0, 0, 0, 0, 0, 0, 0, 0, 0, 0, 0, 0, 0, 0, 0, 0, 0, 0, 0, 0, 0, 0, 0, 0, 0, 0, 0, 0, 0, 0, 0, 0, 0, 0, 0, 0, 0, 0, 0, 0, 0, 0, 0, 0, 0, 0, 0, 0, 0, 0, 0, 0, 0, 0, 0, 0, 0, 0, 0, 0, 0, 0, 0, 0, 0, 0, 0, 0, 0, 0, 0, 0, 0, 0, 0, 0, 0, 0, 0, 0, 0, 0, 0, 0, 0, 0, 0, 0, 0, 0, 0, 0, 0, 0, 0, 0, 0, 0, 0, 0, 0, 0, 0, 0, 0, 0, 0, 0, 0, 0, 0, 0, 0, 0, 0, 0, 0, 0, 0, 0, 0, 0, 0, 0, 0, 0, 0, 0, 0, 0, 0, 0, 0, 0, 0, 0, 0, 0, 0, 0, 0, 0, 0, 0, 0, 0, 0, 0, 0, 0, 0, 0, 0, 0, 0, 0, 0, 0, 0, 0, 0, 0, 0, 0, 0, 0, 0, 0, 0, 0, 0, 0, 0, 0, 0, 0, 0, 0, 0, 0, 0, 0, 0, 0, 0, 0, 0, 0, 0, 0, 0, 0, 0, 0, 0, 0, 0, 0, 0, 0, 0, 0, 0, 0, 0, 0, 0, 0, 0, 0, 0, 0, 0, 0, 0, 0, 0, 0, 0, 0, 0, 0, 0, 0, 0, 0, 0, 0, 0, 0, 0, 0, 0, 0, 0, 0, 0, 0, 0, 0, 0, 0, 0, 0, 0, 0, 0, 0, 0, 0, 0, 0, 0, 0, 0, 0, 0, 0, 0, 0, 0, 0, 0, 0, 0, 0, 0, 0, 0, 0, 0, 0, 0, 0, 0, 0, 0, 0, 0, 0, 0, 0, 0, 0, 0, 0, 0, 0, 0, 0, 0, 0, 0, 0, 0, 0, 0, 0, 0, 0, 0, 0, 0, 0, 0, 0, 0, 0, 0, 0, 0, 0, 0, 0, 0, 0, 0, 0, 0, 0, 0, 0, 0, 0, 0, 0, 0, 0, 0, 0, 0, 0, 0, 0, 0, 0, 0, 0, 0, 0, 0, 0, 0, 0, 0, 0, 0, 0, 0, 0, 0, 0, 0, 0, 0, 0, 0, 0, 0, 0, 0, 0, 0, 0, 0, 0, 0, 0, 0, 0, 0, 0, 0, 0, 0, 0, 0, 0, 0, 0, 0, 0, 0, 0, 0, 0, 0, 0, 0, 0, 0, 0, 0, 0, 0, 0, 0, 0, 0, 0, 0, 0, 0, 0, 0, 0, 0, 0, 0, 0, 0, 0, 0, 0, 0, 0, 0, 0, 0, 0, 0, 0, 0, 0, 0, 0, 0, 0, 0, 0, 0, 0, 0, 0, 0, 0, 0, 0, 0, 0, 0, 0, 0, 0, 0, 0, 0, 0, 0, 0, 0, 0, 0, 0, 0, 0, 0, 0, 0, 0, 0, 0, 0, 0, 0, 0, 0, 0, 0, 0, 0, 0, 0, 0, 0, 0, 0, 0, 0, 0, 0, 0, 0, 0, 0, 0, 0, 0, 0, 0, 0, 0, 0, 0, 0, 0, 0, 0, 0, 0, 0, 0, 0, 0, 0, 0, 0, 0, 0, 0, 0, 0, 0, 0, 0, 0, 0, 0, 0, 0, 0, 0, 0, 0, 0, 0, 0, 0, 0, 0, 0, 0, 0, 0, 0, 0, 0, 0, 0, 0, 0, 0, 0, 0, 0, 0, 0, 0, 0, 0, 0, 0, 0, 0, 0, 0, 0, 0, 0, 0, 0, 0, 0, 0, 0, 0, 0, 0, 0, 0, 1, 0, 0, 0, 0, 0, 0, 0, 0, 0, 0, 0, 0, 0, 0, 0, 0, 0, 0, 0, 0, 0, 0, 0, 0, 0, 0, 0, 0, 0, 0, 0, 0, 0, 0, 0, 0, 0, 0, 0, 0, 0, 0, 0, 0, 0, 0, 0, 0, 0, 0, 0, 0, 0, 0, 0, 0, 0, 0, 0, 0, 0, 0, 0, 0, 0, 0, 0, 0, 0, 0, 0, 0, 0, 0, 1, 0, 0, 0, 0, 0, 0, 0, 0, 0, 0, 0, 0, 0, 0, 0, 0, 0, 0, 0, 0, 1, 0, 0, 1, 0, 0, 0, 0, 0, 0, 0, 0, 0, 0, 0, 0, 0, 0, 0, 0, 0, 0, 0, 0, 0, 0, 0, 0, 0, 0, 0, 0, 0, 0, 0, 0, 0, 0, 0, 0, 0, 0, 0, 0, 0, 0, 0, 0, 0, 0, 0, 0, 0, 0, 0, 0, 0, 0, 0, 0, 0, 0, 0, 0, 0, 0, 0, 0, 0, 0, 0, 0, 0, 0, 0, 0, 0, 0, 0, 0, 0, 0, 0, 0, 0, 0, 0, 0, 0, 0, 0, 0, 0, 0, 0, 0, 0, 0, 0, 0, 0, 0, 0, 0, 0, 0, 0, 0, 0, 0, 0, 0, 0, 0, 0, 0, 0, 0, 0, 0, 0, 0, 0, 0, 0, 0, 0, 0, 0, 0, 0, 0, 0, 0, 0, 0, 0, 0, 0, 0, 0, 0, 0, 0, 0, 0, 0, 0, 0, 0, 0, 0, 0, 0, 0, 0, 0, 0, 0, 0, 0, 0, 0, 0, 0, 0, 0, 0, 0, 0, 0, 0, 0, 0, 0, 0, 0, 0, 0, 0, 0, 0, 0, 0, 0, 0, 0, 0, 0, 0, 0, 0, 0, 0, 0, 0, 0, 0, 0, 0, 0, 0, 0, 0, 0, 0, 0, 0, 0, 0, 0, 0, 0, 0, 0, 0, 0, 0, 0, 0, 0, 0, 0, 0, 0, 0, 0, 0, 0, 0, 0, 0, 0, 0, 0, 0, 0, 0, 0, 0, 0, 0, 0, 0, 0, 0, 0, 0, 0, 0, 0, 0, 0, 0, 0, 0, 0, 0, 0, 0, 0, 0, 0, 0, 0, 0, 0, 0, 0, 0, 0, 0, 0, 0, 0, 0, 0, 0, 0, 0, 0, 0, 0, 0, 0, 0, 0, 0, 0, 0, 0, 0, 0, 0, 0, 0, 0, 0, 0, 0, 0, 0, 0, 0, 0, 0, 0, 0, 0, 0, 0, 0, 0, 0, 0, 0, 0, 0, 0, 0, 0, 0, 0, 0, 0, 0, 0, 0, 0, 0, 0, 0, 0, 0, 0, 0, 0, 0, 0, 0, 0, 0, 0, 0, 0, 0, 0, 0, 0, 0, 0, 0, 0, 0, 0, 0, 0, 0, 0, 0, 0, 0, 0, 0, 0, 0, 0, 0, 0, 0, 0, 0, 0, 0, 0, 0, 0, 0, 0, 0, 0, 0, 0, 0, 0, 0, 0, 0, 0, 0, 0, 0, 0, 0, 0, 0, 0, 0, 0, 0, 0, 0, 0, 0, 0, 0, 0, 0, 0, 0, 0, 0, 0, 0, 0, 0, 0, 0, 0, 0, 0, 0, 0, 0, 0, 0, 0, 0, 0, 0, 0, 0, 0, 0, 0, 0, 0, 0, 0, 0, 0, 0, 0, 0, 0, 0, 0, 0, 0, 0, 0, 0, 0, 0, 0, 0, 0, 0, 0, 0, 0, 0, 0, 0, 0, 0, 0, 0, 0, 0, 1, 0, 0, 0, 0, 0, 0, 0, 0, 0, 0, 0, 0, 0, 0, 0, 0, 0, 0, 0, 0, 0, 0, 0, 0, 0, 0, 0, 0, 0, 0, 0, 0, 0, 0, 0, 0, 0, 0, 0, 0, 0, 0, 0, 0, 0, 0, 0, 0, 0, 0, 0, 0, 0, 0, 0, 0, 0, 0, 0, 0, 0, 0, 0, 0, 0, 0, 0, 0, 0, 0, 0, 0, 0, 0, 0, 0, 0, 0, 0, 0, 0, 0, 0, 0, 0, 0, 0, 0, 0, 0, 0, 0, 0, 0, 0, 0, 0, 0, 0, 0, 0, 0, 0, 0, 0, 0, 0, 0, 0, 0, 0, 0, 0, 0, 0, 0, 0, 0, 0, 0, 0, 0, 0, 0, 0, 0, 0, 0, 0, 0, 0, 0, 0, 0, 0, 0, 0, 0, 0, 0, 0, 0, 0, 0, 0, 0, 0, 0, 0, 0, 0, 0, 0, 0, 0, 0, 0, 0, 0, 0, 0, 0, 0, 0, 0, 0, 0, 0, 0, 0, 0, 0, 0, 0, 0, 0, 0, 0, 0, 0, 0, 0, 0, 0, 0, 0, 0, 0, 0, 0, 0, 0, 0, 0, 0, 0, 0, 0, 0, 0, 0, 0, 0, 0, 0, 0, 0, 0, 0, 0, 0, 0, 0, 0, 0, 0, 0, 0, 0, 0, 0, 0, 0, 0, 0, 0, 0, 0, 0, 0, 0, 0, 0, 0, 0, 0, 0, 0, 0, 0, 0, 0, 0, 0, 0, 0, 0, 0, 0, 0, 0, 0, 0, 0, 0, 0, 0, 0, 0, 0, 0, 0, 0, 0, 0, 0, 0, 0, 0, 0, 0, 0, 0, 0, 0, 0, 0, 0, 0, 0, 0, 0, 0, 0, 0, 0, 0, 0, 0, 0, 0, 0, 0, 0, 0, 0, 0, 0, 0, 0, 0, 0, 0, 0, 0, 0, 0, 0, 0, 0, 0, 0, 0, 0, 0, 0, 0, 0, 0, 0, 0, 0, 0, 0, 0, 0, 0, 0, 0, 0, 0, 0, 0, 0, 0, 0, 0, 0, 0, 0, 0, 0, 0, 0, 0, 0, 0, 0, 0, 0, 0, 0, 0, 0, 0, 0, 0, 0, 0, 0, 0, 0, 0, 0, 0, 0, 0, 0, 0, 0, 0, 0, 0, 0, 0, 0, 0, 0, 0, 0, 0, 0, 0, 0, 0, 0, 0, 0, 0, 0, 0, 0, 0, 0, 0, 0, 0, 0, 0, 0, 0, 0, 0, 0, 0, 0, 0, 0, 0, 0, 0, 0, 0, 0, 0, 0, 0, 0, 0, 0, 0, 0, 0, 0, 0, 0, 0, 0, 0, 0, 0, 0, 0, 0, 0, 0, 0, 0, 0, 0, 0, 0, 0, 0, 0, 0, 0, 0, 0, 0, 0, 0, 0, 0, 0, 0, 0, 0, 0, 0, 0, 0, 0, 0, 0, 0, 0, 0, 0, 0, 0, 0, 0, 0, 0, 0, 0, 0, 0, 0, 0, 0, 0, 0, 0, 0, 0, 0, 0, 0, 0, 0, 0, 0, 0, 0, 0, 0, 0, 0, 0, 0, 0, 0, 0, 0, 0, 0, 0, 0, 0, 0, 1, 0, 0, 0, 0, 0, 0, 0, 0, 0, 0, 0, 0, 0, 0, 0, 0, 0, 0, 0, 0, 0, 0, 0, 0, 0, 0, 0, 0, 0, 0, 0, 0, 0, 0, 0, 2, 0, 0, 0, 0, 0, 0, 0, 0, 0, 0, 0, 0, 0, 0, 0, 0, 0, 0, 0, 0, 0, 0, 0, 0, 0, 0, 0, 0, 0, 0, 0, 0, 0, 0, 0, 0, 0, 0, 0, 0, 1, 0, 0, 0, 0, 0, 0, 0, 0, 0, 0, 0, 0, 0, 0, 0, 0, 0, 0, 0, 0, 0, 0, 0, 0, 0, 0, 0, 0, 0, 0, 0, 0, 0, 0, 0, 0, 0, 0, 0, 0, 0, 0, 0, 0, 0, 0, 0, 0, 0, 0, 0, 0, 0, 0, 0, 0, 0, 0, 0, 0, 0, 0, 0, 0, 0, 0, 0, 0, 0, 0, 0, 0, 0, 0, 0, 0, 0, 0, 0, 0, 0, 0, 0, 0, 0, 0, 0, 0, 0, 0, 0, 0, 0, 0, 0, 0, 0, 0, 0, 0, 0, 0, 0, 0, 0, 0, 0, 0, 0, 0, 0, 0, 0, 0, 0, 0, 0, 0, 0, 0, 0, 0, 0, 0, 0, 0, 0, 0, 0, 0, 0, 0, 0, 0, 0, 0, 0, 0, 0, 0, 0, 0, 0, 0, 0, 0, 0, 0, 0, 0, 0, 0, 0, 0, 0, 0, 0, 0, 0, 0, 0, 0, 0, 0, 0, 0, 0, 0, 0, 0, 0, 0, 0, 0, 0, 0, 0, 0, 0, 0, 0, 0, 0, 0, 0, 0, 0, 0, 0, 0, 0, 0, 0, 0, 0, 0, 0, 0, 0, 0, 0, 0, 0, 0, 0, 0, 0, 0, 0, 0, 0, 0, 0, 0, 0, 0, 0, 0, 0, 0, 0, 0, 0, 0, 0, 0, 0, 0, 0, 0, 0, 0, 0, 0, 0, 0, 0, 0, 0, 0, 0, 0, 0, 0, 0, 0, 0, 0, 0, 0, 0, 0, 0, 0, 0, 0, 0, 0, 0, 0, 0, 0, 0, 0, 0, 0, 0, 0, 0, 0, 0, 0, 0, 0, 0, 0, 0, 0, 0, 0, 0, 0, 0, 0, 0, 0, 0, 0, 0, 0, 0, 0, 0, 0, 0, 0, 0, 0, 0, 0, 0, 0, 0, 0, 0, 0, 0, 0, 0, 0, 0, 0, 0, 0, 0, 0, 0, 0, 0, 0, 0, 0, 0, 0, 0, 0, 0, 0, 0, 0, 0, 0, 0, 0, 0, 0, 0, 0, 0, 0, 0, 0, 0, 0, 0, 0, 0, 0, 0, 0, 0, 0, 0, 0, 0, 0, 0, 0, 0, 0, 0, 0, 0, 0, 0, 0, 0, 0, 0, 0, 0, 0, 0, 0, 0, 0, 0, 0, 0, 0, 0, 0, 0, 0, 0, 0, 0, 0, 0, 0, 0, 0, 0, 0, 0, 0, 0, 0, 0, 0, 0, 0, 0, 0, 0, 0, 0, 0, 0, 0, 0, 0, 0, 0, 0, 0, 0, 0, 0, 0, 0, 0, 0, 0, 0, 0, 0, 0, 0, 0, 0, 0, 0, 0, 0, 0, 0, 0, 0, 0, 0, 0, 0, 0, 0, 0, 0, 0, 0, 0, 0, 0, 0, 0, 0, 0, 0, 0, 0, 0, 0, 0, 0, 0, 0, 0, 0, 0, 0, 0, 0, 0, 0, 0, 0, 0, 0, 0, 0, 0, 0, 0, 0, 0, 0, 0, 0, 0, 0, 0, 0, 0, 0, 0, 0, 0, 0, 1, 0, 0, 0, 0, 0, 0, 0, 0, 0, 0, 0, 0, 0, 0, 0, 0, 0, 0, 0, 0, 0, 0, 0, 0, 0, 0, 0, 0, 0, 0, 0, 0, 0, 0, 0, 0, 0, 0, 0, 0, 0, 0, 0, 0, 0, 0, 0, 0, 0, 0, 0, 0, 0, 0, 0, 0, 0, 0, 0, 0, 0, 0, 0, 0, 0, 0, 0, 0, 0, 0, 0, 0, 0, 0, 0, 0, 0, 0, 0, 0, 0, 0, 0, 0, 0, 0, 0, 0, 0, 0, 0, 0, 0, 0, 0, 0, 0, 0, 0, 0, 0, 0, 0, 0, 0, 0, 0, 0, 0, 0, 2, 0, 0, 0, 0, 0, 0, 0, 0, 0, 0, 0, 0, 0, 0, 0, 0, 0, 0, 0, 0, 0, 0, 0, 0, 0, 0, 0, 0, 0, 0, 0, 0, 0, 0, 0, 0, 0, 0, 0, 0, 0, 0, 0, 0, 0, 0, 0, 0, 0, 0, 0, 0, 0, 0, 0, 0, 0, 0, 0, 0, 0, 0, 0, 0, 0, 0, 0, 0, 0, 0, 0, 0, 0, 0, 0, 0, 0, 0, 0, 0, 0, 0, 0, 0, 0, 0, 0, 0, 0, 0, 0, 0, 0, 0, 0, 0, 0, 0, 0, 0, 0, 0, 0, 0, 0, 0, 0, 0, 0, 0, 0, 0, 0, 0, 0, 0, 0, 0, 0, 0, 0, 0, 0, 0, 0, 0, 0, 0, 0, 0, 0, 0, 0, 0, 0, 0, 0, 0, 0, 0, 0, 0, 0, 0, 0, 0, 0, 0, 0, 0, 0, 0, 0, 0, 0, 0, 0, 0, 0, 0, 0, 0, 0, 0, 0, 0, 0, 0, 0, 0, 0, 0, 0, 0, 0, 0, 0, 0, 0, 0, 0, 0, 0, 0, 0, 0, 0, 0, 0, 0, 0, 0, 0, 0, 0, 0, 0, 0, 0, 0, 0, 0, 0, 0, 0, 0, 0, 0, 0, 0, 0, 0, 0, 0, 0, 0, 0, 0, 0, 0, 0, 0, 0, 0, 0, 0, 0, 0, 0, 0, 0, 0, 0, 0, 0, 0, 0, 0, 0, 0, 0, 0, 0, 0, 0, 0, 0, 0, 0, 0, 0, 0, 0, 0, 0, 0, 0, 0, 0, 0, 0, 0, 0, 0, 0, 0, 0, 0, 0, 0, 0, 0, 0, 0, 0, 0, 0, 0, 0, 0, 0, 0, 0, 0, 0, 0, 0, 0, 0, 0, 0, 0, 0, 0, 0, 0, 0, 0, 0, 0, 0, 0, 0, 0, 0, 0, 0, 0, 0, 0, 0, 0, 0, 0, 0, 0, 0, 0, 0, 0, 0, 0, 0, 0, 0, 0, 0, 0, 0, 0, 0, 0, 0, 0, 0, 0, 0, 0, 0, 0, 0, 0, 0, 0, 0, 0, 0, 0, 0, 0, 0, 0, 0, 0, 0, 0, 0, 0, 0, 0, 0, 0, 0, 0, 0, 0, 0, 0, 0, 0, 0, 0, 0, 0, 0, 0, 0, 0, 0, 0, 0, 0, 0, 0, 0, 0, 0, 0, 0, 0, 0, 0, 0, 0, 0, 0, 0, 0, 0, 0, 0, 0, 0, 0, 0, 0, 0, 0, 0, 0, 0, 0, 0, 0, 0, 0, 0, 0, 0, 0, 0, 0, 0, 0, 0, 0, 0, 0, 0, 0, 0, 0, 0, 0, 0, 0, 0, 0, 0, 0, 0, 0, 0, 0, 0, 0, 0, 0, 0, 0, 0, 0, 0, 0, 0, 0, 0, 0, 0, 0, 0, 0, 0, 0, 0, 0, 0, 0, 0, 0, 0, 0, 0, 0, 0, 0, 0, 0, 0, 0, 0, 0, 0, 0, 0, 0, 0, 0, 0, 0, 0, 0, 0, 0, 0, 0, 0, 0, 0, 0, 0, 0, 0, 0, 0, 0, 0, 0, 0, 0, 0, 0, 0, 0, 0, 0, 0, 0, 0, 0, 0, 0, 0, 0, 0, 0, 0, 0, 0, 0, 0, 0, 0, 0, 0, 0, 0, 0, 0, 0, 0, 0, 0, 0, 0, 0, 0, 0, 0, 0, 0, 0, 0, 0, 0, 0, 0, 0, 0, 0, 0, 0, 0, 0, 0, 0, 0, 0, 0, 0, 0, 0, 0, 0, 0, 0, 0, 0, 0, 0, 0, 0, 0, 0, 0, 0, 0, 0, 0, 0, 0, 0, 0, 0, 0, 0, 0, 0, 0, 0, 0, 0, 0, 0, 0, 0, 0, 0, 0, 0, 0, 0, 0, 0, 0, 0, 0, 0, 0, 0, 0, 0, 0, 0, 0, 0, 0, 0, 0, 0, 0, 0, 0, 0, 0, 0, 0, 0, 0, 0, 0, 0, 0, 0, 0, 0, 0, 0, 0, 0, 0, 0, 0, 0, 0, 0, 0, 0, 0, 0, 0, 0, 0, 0, 0, 0, 0, 0, 0, 0, 0, 0, 0, 0, 0, 0, 0, 0, 0, 0, 0, 0, 0, 0, 0, 0, 0, 0, 0, 0, 1, 0, 0, 0, 0, 0, 0, 0, 0, 0, 0, 0, 0, 0, 0, 0, 0, 0, 0, 0, 0, 0, 0, 0, 0, 0, 0, 0, 0, 0, 0, 0, 0, 0, 0, 0, 0, 0, 0, 0, 0, 0, 0, 0, 0, 0, 0, 0, 0, 0, 0, 0, 0, 0, 0, 0, 0, 0, 0, 0, 0, 0, 0, 0, 0, 0, 0, 0, 0, 0, 0, 0, 0, 0, 0, 0, 0, 0, 0, 0, 0, 0, 0, 0, 0, 0, 0, 0, 0, 0, 0, 0, 0, 0, 0, 0, 0, 0, 0, 0, 0, 0, 0, 0, 0, 0, 0, 0, 1, 0, 0, 0, 0, 0, 0, 0, 0, 0, 0, 0, 0, 0, 0, 0, 0, 0, 0, 0, 0, 0, 0, 0, 0, 0, 0, 0, 0, 0, 0, 0, 0, 0, 0, 0, 0, 0, 0, 0, 0, 0, 0, 0, 0, 0, 0, 0, 0, 0, 0, 0, 0, 0, 0, 0, 0, 0, 0, 0, 0, 0, 0, 0, 0, 0, 0, 0, 0, 0, 0, 0, 0, 0, 0, 0, 0, 0, 0, 0, 0, 0, 0, 0, 0, 0, 0, 0, 0, 0, 0, 0, 0, 0, 0, 0, 0, 0, 0, 0, 0, 0, 0, 0, 0, 0, 0, 0, 0, 0, 0, 0, 0, 0, 0, 0, 0, 0, 0, 0, 0, 0, 0, 0, 0, 0, 0, 0, 0, 0, 0, 0, 0, 0, 0, 0, 0, 0, 0, 0, 0, 0, 0, 0, 0, 0, 0, 0, 0, 0, 0, 0, 0, 0, 0, 0, 0, 0, 0, 0, 0, 0, 0, 0, 0, 0, 0, 0, 0, 0, 0, 0, 0, 0, 0, 0, 0, 0, 0, 0, 0, 0, 0, 0, 0, 0, 0, 0, 0, 0, 0, 0, 0, 0, 0, 0, 0, 0, 0, 0, 0, 0, 0, 0, 0, 0, 0, 0, 0, 0, 0, 0, 0, 0, 0, 0, 0, 0, 0, 0, 0, 0, 0, 0, 0, 0, 0, 0, 0, 0, 0, 0, 0, 0, 0, 0, 0, 0, 0, 0, 0, 0, 0, 0, 0, 0, 0, 0, 0, 0, 0, 0, 0, 0, 0, 0, 0, 0, 0, 0, 0, 0, 0, 0, 0, 0, 0, 0, 0, 0, 0, 0, 0, 0, 0, 0, 0, 0, 0, 0, 0, 0, 0, 0, 0, 0, 0, 0, 0, 0, 0, 0, 0, 0, 0, 0, 0, 0, 0, 0, 0, 0, 0, 0, 0, 0, 0, 0, 0, 0, 0, 0, 0, 0, 0, 0, 0, 0, 0, 0, 0, 0, 0, 0, 0, 0, 0, 0, 0, 0, 0, 0, 0, 0, 0, 0, 0, 0, 0, 0, 0, 0, 0, 0, 0, 0, 0, 0, 0, 0, 0, 0, 0, 0, 0, 0, 0, 0, 0, 0, 0, 0, 0, 0, 0, 0, 0, 0, 0, 0, 0, 0, 0, 0, 0, 0, 0, 0, 0, 0, 0, 0, 0, 0, 0, 0, 0, 0, 0, 0, 0, 0, 0, 0, 0, 0, 0, 0, 0, 0, 0, 0, 0, 0, 0, 0, 0, 0, 0, 0, 0, 0, 0, 0, 0, 0, 0, 0, 0, 0, 0, 0, 0, 0, 0, 0, 0, 0, 0, 0, 0, 0, 0, 0, 0, 0, 0, 0, 0, 0, 0, 0, 0, 0, 0, 0, 0, 0, 0, 0, 0, 0, 0, 0, 0, 0, 0, 0, 0, 0, 0, 0, 0, 0, 2, 0, 1, 0]\n"
     ]
    }
   ],
   "source": [
    "test_bow = bow_encoding(test_words, vocabulary)\n",
    "print(test_bow)"
   ]
  },
  {
   "cell_type": "code",
   "execution_count": 24,
   "metadata": {},
   "outputs": [
    {
     "data": {
      "text/plain": [
       "5000"
      ]
     },
     "execution_count": 24,
     "metadata": {},
     "output_type": "execute_result"
    }
   ],
   "source": [
    "len(test_bow)"
   ]
  },
  {
   "cell_type": "markdown",
   "metadata": {},
   "source": [
    "So now we know how to construct a bag of words encoding of a user provided review, how to we send it to our endpoint? First, we need to start the endpoint back up."
   ]
  },
  {
   "cell_type": "code",
   "execution_count": 43,
   "metadata": {},
   "outputs": [
    {
     "name": "stdout",
     "output_type": "stream",
     "text": [
      "-------------!"
     ]
    }
   ],
   "source": [
    "xgb_predictor = xgb.deploy(initial_instance_count = 1, instance_type = 'ml.m4.xlarge')"
   ]
  },
  {
   "cell_type": "markdown",
   "metadata": {},
   "source": [
    "At this point we could just do the same thing that we did earlier when we tested our deployed model and send `test_bow` to our endpoint using the `xgb_predictor` object. However, when we eventually construct our Lambda function we won't have access to this object, so how do we call a SageMaker endpoint?\n",
    "\n",
    "It turns out that Python functions that are used in Lambda have access to another Amazon library called `boto3`. This library provides an API for working with Amazon services, including SageMaker. To start with, we need to get a handle to the SageMaker runtime."
   ]
  },
  {
   "cell_type": "code",
   "execution_count": 44,
   "metadata": {},
   "outputs": [],
   "source": [
    "import boto3\n",
    "\n",
    "runtime = boto3.Session().client('sagemaker-runtime')"
   ]
  },
  {
   "cell_type": "markdown",
   "metadata": {},
   "source": [
    "And now that we have access to the SageMaker runtime, we can ask it to make use of (invoke) an endpoint that has already been created. However, we need to provide SageMaker with the name of the deployed endpoint. To find this out we can print it out using the `xgb_predictor` object."
   ]
  },
  {
   "cell_type": "code",
   "execution_count": 45,
   "metadata": {},
   "outputs": [
    {
     "data": {
      "text/plain": [
       "'xgboost-2020-05-12-17-02-53-629'"
      ]
     },
     "execution_count": 45,
     "metadata": {},
     "output_type": "execute_result"
    }
   ],
   "source": [
    "xgb_predictor.endpoint"
   ]
  },
  {
   "cell_type": "markdown",
   "metadata": {},
   "source": [
    "Using the SageMaker runtime and the name of our endpoint, we can invoke the endpoint and send it the `test_bow` data."
   ]
  },
  {
   "cell_type": "code",
   "execution_count": 46,
   "metadata": {},
   "outputs": [
    {
     "ename": "ParamValidationError",
     "evalue": "Parameter validation failed:\nInvalid type for parameter Body, value: [0, 0, 0, 0, 0, 0, 0, 0, 0, 0, 0, 0, 0, 0, 0, 0, 0, 0, 0, 0, 0, 0, 0, 0, 0, 0, 0, 0, 0, 0, 0, 0, 0, 0, 0, 0, 0, 0, 0, 0, 0, 0, 0, 0, 0, 0, 0, 0, 0, 0, 0, 0, 0, 0, 0, 0, 0, 0, 0, 0, 0, 0, 0, 0, 0, 0, 0, 0, 0, 0, 0, 0, 0, 0, 0, 0, 0, 0, 0, 0, 0, 0, 0, 0, 0, 0, 0, 0, 0, 0, 0, 0, 0, 0, 0, 0, 0, 0, 0, 0, 0, 0, 0, 0, 0, 0, 0, 0, 0, 0, 0, 0, 0, 0, 0, 0, 0, 0, 0, 0, 0, 0, 0, 0, 0, 0, 0, 0, 0, 0, 0, 0, 0, 0, 0, 0, 0, 0, 0, 0, 0, 0, 0, 0, 0, 0, 0, 0, 0, 0, 0, 0, 0, 0, 0, 0, 0, 0, 0, 0, 0, 0, 0, 0, 0, 0, 0, 0, 0, 0, 0, 0, 0, 0, 0, 0, 0, 0, 0, 0, 0, 0, 0, 0, 0, 0, 0, 0, 0, 0, 0, 0, 0, 0, 0, 0, 0, 0, 0, 0, 0, 0, 0, 0, 0, 0, 0, 0, 0, 0, 0, 0, 0, 0, 0, 0, 0, 0, 0, 0, 0, 0, 0, 0, 0, 0, 1, 0, 0, 0, 0, 0, 0, 0, 0, 0, 0, 0, 0, 0, 0, 0, 0, 0, 0, 0, 0, 0, 0, 0, 0, 0, 0, 0, 0, 0, 1, 0, 0, 0, 0, 0, 0, 0, 0, 0, 0, 0, 0, 0, 0, 0, 0, 0, 0, 0, 0, 0, 0, 0, 0, 0, 0, 0, 0, 0, 0, 0, 0, 0, 0, 0, 0, 0, 0, 0, 0, 0, 0, 0, 0, 0, 0, 0, 0, 0, 0, 0, 0, 0, 0, 0, 0, 0, 0, 0, 0, 0, 0, 0, 0, 0, 0, 0, 0, 0, 0, 0, 0, 0, 0, 0, 0, 0, 0, 0, 0, 0, 0, 0, 0, 0, 0, 0, 0, 0, 0, 0, 0, 0, 0, 0, 0, 0, 0, 0, 0, 0, 0, 0, 0, 0, 0, 0, 0, 0, 0, 0, 0, 0, 0, 0, 0, 0, 0, 0, 0, 0, 0, 0, 0, 0, 0, 0, 0, 0, 0, 0, 0, 0, 0, 0, 0, 0, 0, 0, 0, 0, 0, 0, 0, 0, 0, 0, 0, 0, 0, 0, 0, 0, 0, 0, 0, 0, 0, 0, 0, 0, 0, 0, 0, 0, 0, 0, 0, 0, 0, 0, 0, 0, 0, 0, 0, 0, 0, 0, 0, 0, 0, 0, 0, 0, 0, 0, 0, 0, 0, 0, 0, 0, 0, 0, 0, 0, 0, 0, 0, 0, 0, 0, 0, 0, 0, 0, 0, 0, 0, 0, 0, 0, 0, 0, 0, 0, 0, 0, 0, 0, 0, 0, 0, 0, 0, 0, 0, 0, 0, 0, 0, 0, 0, 0, 0, 0, 0, 0, 0, 0, 0, 0, 0, 0, 0, 0, 0, 0, 0, 0, 0, 0, 0, 0, 0, 0, 0, 0, 0, 0, 0, 0, 0, 0, 0, 0, 0, 0, 0, 0, 0, 0, 0, 0, 0, 0, 0, 0, 0, 0, 0, 0, 0, 0, 0, 0, 0, 0, 0, 0, 0, 0, 0, 0, 0, 0, 0, 0, 0, 0, 0, 0, 0, 0, 0, 0, 0, 0, 0, 0, 0, 0, 0, 0, 0, 0, 0, 0, 0, 0, 0, 0, 0, 0, 0, 0, 0, 0, 0, 0, 0, 0, 0, 0, 0, 0, 0, 0, 0, 0, 0, 0, 0, 0, 0, 0, 0, 0, 0, 0, 0, 0, 0, 0, 0, 0, 0, 0, 0, 0, 0, 0, 0, 0, 0, 0, 0, 0, 0, 0, 0, 0, 0, 0, 0, 0, 0, 0, 1, 0, 0, 0, 0, 0, 0, 0, 0, 0, 0, 0, 0, 0, 0, 0, 0, 0, 0, 0, 0, 0, 0, 0, 0, 0, 0, 0, 0, 0, 0, 0, 0, 0, 0, 0, 0, 0, 0, 0, 0, 0, 0, 0, 0, 0, 0, 0, 0, 0, 0, 0, 0, 0, 0, 0, 0, 0, 0, 0, 0, 0, 0, 0, 0, 0, 0, 0, 0, 0, 0, 0, 0, 0, 0, 0, 0, 0, 0, 0, 0, 0, 0, 0, 0, 0, 0, 0, 0, 0, 0, 0, 0, 0, 0, 0, 0, 0, 0, 0, 0, 0, 0, 0, 0, 0, 0, 0, 0, 0, 0, 0, 0, 0, 0, 0, 0, 0, 0, 0, 0, 0, 0, 0, 0, 0, 0, 0, 0, 0, 0, 0, 0, 0, 0, 0, 0, 0, 0, 0, 0, 0, 0, 0, 0, 0, 0, 0, 0, 0, 0, 0, 0, 0, 0, 0, 0, 0, 0, 0, 0, 0, 0, 0, 0, 0, 0, 0, 0, 0, 0, 0, 0, 0, 0, 0, 0, 0, 0, 0, 0, 0, 0, 0, 0, 0, 0, 0, 0, 0, 0, 0, 0, 0, 0, 0, 0, 0, 0, 0, 0, 0, 0, 0, 0, 0, 0, 0, 0, 0, 0, 0, 0, 0, 0, 0, 0, 0, 0, 0, 0, 0, 0, 0, 0, 0, 0, 0, 0, 0, 0, 0, 0, 0, 0, 0, 0, 0, 0, 0, 0, 0, 0, 0, 0, 0, 0, 0, 0, 0, 0, 0, 0, 0, 1, 0, 0, 0, 0, 0, 0, 0, 0, 0, 0, 0, 0, 0, 0, 0, 0, 0, 0, 0, 0, 0, 0, 0, 0, 0, 0, 0, 0, 0, 0, 0, 0, 0, 0, 0, 0, 0, 0, 0, 0, 0, 0, 0, 0, 0, 0, 0, 0, 0, 0, 0, 0, 0, 0, 0, 0, 0, 0, 0, 0, 0, 0, 0, 0, 0, 0, 0, 0, 0, 0, 0, 0, 0, 0, 0, 0, 0, 0, 0, 0, 0, 0, 0, 0, 0, 0, 1, 0, 0, 0, 0, 0, 0, 0, 0, 0, 0, 0, 0, 0, 0, 0, 0, 0, 0, 0, 0, 0, 0, 0, 0, 0, 0, 0, 0, 0, 0, 0, 0, 0, 0, 0, 0, 0, 0, 0, 0, 0, 0, 0, 0, 0, 0, 0, 0, 0, 0, 0, 0, 0, 0, 0, 0, 0, 0, 0, 0, 0, 0, 0, 0, 0, 0, 0, 0, 0, 0, 0, 0, 0, 0, 0, 0, 0, 0, 0, 0, 0, 0, 0, 0, 0, 0, 0, 0, 0, 0, 0, 0, 0, 0, 0, 0, 0, 0, 0, 0, 0, 0, 0, 0, 0, 0, 0, 0, 0, 0, 0, 0, 0, 0, 0, 0, 0, 0, 0, 0, 0, 0, 0, 0, 0, 0, 0, 0, 0, 0, 0, 0, 0, 0, 0, 0, 0, 0, 0, 0, 0, 0, 0, 0, 0, 0, 0, 0, 0, 0, 0, 0, 0, 0, 0, 0, 0, 0, 0, 0, 0, 0, 0, 0, 0, 0, 0, 0, 0, 0, 0, 0, 0, 0, 0, 0, 0, 0, 0, 0, 0, 0, 0, 0, 0, 0, 0, 0, 0, 0, 0, 0, 0, 0, 0, 0, 0, 0, 0, 0, 0, 0, 0, 0, 0, 0, 0, 0, 0, 0, 0, 0, 0, 0, 0, 0, 0, 0, 0, 0, 0, 0, 0, 0, 0, 0, 0, 0, 0, 0, 0, 0, 0, 0, 0, 0, 0, 0, 0, 0, 0, 0, 0, 0, 0, 0, 0, 0, 0, 0, 0, 0, 1, 0, 0, 0, 0, 0, 0, 0, 0, 0, 0, 0, 0, 0, 0, 0, 0, 0, 0, 0, 0, 0, 0, 0, 0, 0, 0, 0, 0, 0, 0, 0, 0, 0, 0, 0, 0, 0, 0, 0, 0, 0, 0, 0, 0, 0, 0, 0, 0, 0, 0, 0, 0, 0, 0, 0, 1, 0, 0, 0, 0, 0, 0, 0, 0, 0, 0, 0, 0, 0, 0, 0, 0, 0, 0, 0, 0, 0, 0, 0, 0, 0, 0, 0, 0, 0, 0, 0, 0, 0, 0, 0, 0, 0, 0, 0, 0, 0, 0, 0, 0, 0, 0, 0, 0, 0, 0, 0, 0, 0, 0, 0, 0, 0, 0, 0, 0, 0, 0, 0, 0, 0, 0, 0, 0, 0, 0, 0, 0, 0, 0, 0, 0, 0, 0, 0, 0, 0, 0, 0, 0, 0, 0, 0, 0, 0, 0, 0, 0, 0, 0, 0, 0, 0, 0, 0, 0, 0, 0, 0, 0, 0, 0, 0, 0, 0, 0, 0, 0, 0, 0, 0, 0, 0, 0, 0, 0, 0, 0, 0, 0, 0, 0, 0, 0, 0, 0, 0, 0, 0, 0, 0, 0, 0, 0, 0, 0, 0, 0, 0, 0, 0, 0, 0, 0, 0, 0, 0, 0, 0, 0, 0, 0, 0, 0, 0, 0, 0, 0, 0, 0, 0, 0, 0, 0, 0, 0, 0, 0, 0, 0, 0, 0, 0, 0, 0, 0, 0, 0, 0, 0, 0, 0, 0, 0, 0, 0, 0, 0, 0, 0, 0, 0, 0, 0, 0, 0, 0, 0, 0, 0, 0, 0, 0, 0, 0, 0, 0, 0, 0, 0, 0, 0, 0, 0, 0, 0, 0, 0, 0, 0, 0, 0, 0, 0, 0, 0, 0, 0, 0, 0, 0, 0, 0, 0, 0, 0, 0, 0, 0, 0, 0, 0, 0, 0, 0, 0, 0, 0, 0, 0, 0, 0, 0, 0, 0, 0, 0, 0, 0, 0, 0, 0, 0, 0, 0, 0, 0, 0, 0, 0, 0, 0, 0, 0, 0, 0, 0, 0, 0, 0, 0, 0, 0, 0, 0, 0, 0, 0, 0, 0, 0, 0, 0, 0, 0, 0, 0, 0, 0, 0, 0, 0, 0, 0, 0, 0, 0, 0, 0, 0, 0, 0, 0, 0, 0, 0, 0, 0, 0, 0, 0, 0, 0, 0, 0, 0, 0, 0, 0, 0, 0, 0, 0, 0, 0, 0, 0, 0, 0, 0, 0, 0, 0, 0, 0, 0, 0, 0, 0, 0, 0, 0, 0, 0, 0, 0, 0, 0, 0, 0, 0, 0, 0, 0, 0, 0, 0, 0, 0, 0, 0, 0, 0, 0, 0, 0, 0, 0, 0, 0, 0, 0, 0, 0, 0, 0, 0, 0, 0, 0, 0, 0, 0, 0, 0, 0, 0, 0, 0, 0, 0, 0, 0, 0, 0, 0, 0, 0, 0, 0, 0, 0, 0, 0, 0, 0, 0, 0, 0, 0, 0, 0, 0, 0, 0, 0, 0, 0, 0, 0, 0, 0, 0, 0, 0, 0, 0, 0, 0, 0, 0, 0, 0, 0, 0, 0, 0, 0, 0, 0, 0, 0, 0, 0, 0, 0, 0, 0, 0, 0, 0, 0, 0, 0, 0, 0, 0, 0, 0, 0, 0, 0, 0, 0, 0, 0, 0, 0, 0, 0, 0, 0, 0, 0, 0, 0, 0, 0, 0, 0, 0, 0, 0, 0, 0, 0, 0, 0, 0, 0, 0, 0, 0, 0, 0, 0, 0, 0, 0, 0, 0, 0, 0, 0, 0, 0, 0, 0, 0, 0, 0, 0, 0, 0, 0, 0, 0, 0, 0, 0, 0, 0, 0, 0, 0, 0, 0, 0, 0, 0, 0, 0, 0, 0, 0, 0, 0, 0, 0, 0, 0, 0, 0, 0, 0, 0, 0, 0, 0, 0, 0, 0, 0, 0, 0, 0, 0, 0, 0, 0, 0, 0, 0, 0, 0, 0, 0, 0, 0, 0, 0, 0, 0, 0, 0, 0, 0, 0, 0, 0, 0, 0, 0, 0, 0, 0, 0, 0, 0, 0, 0, 0, 0, 0, 0, 0, 0, 0, 0, 0, 0, 0, 0, 0, 0, 0, 0, 0, 0, 0, 0, 0, 0, 0, 0, 0, 0, 0, 0, 0, 0, 0, 0, 0, 0, 0, 0, 0, 0, 0, 0, 0, 0, 0, 0, 0, 0, 0, 0, 0, 0, 0, 0, 0, 0, 0, 0, 0, 0, 0, 0, 0, 0, 0, 0, 0, 0, 0, 0, 0, 0, 0, 0, 0, 0, 0, 0, 1, 0, 0, 0, 0, 0, 0, 0, 0, 0, 0, 0, 0, 0, 0, 0, 0, 0, 0, 0, 0, 0, 0, 0, 0, 0, 0, 0, 0, 0, 0, 0, 0, 0, 0, 0, 0, 0, 0, 0, 0, 0, 0, 0, 0, 0, 0, 0, 0, 0, 0, 0, 0, 0, 0, 0, 0, 0, 0, 0, 0, 0, 0, 0, 0, 0, 0, 0, 0, 0, 0, 0, 0, 0, 0, 1, 0, 0, 0, 0, 0, 0, 0, 0, 0, 0, 0, 0, 0, 0, 0, 0, 0, 0, 0, 0, 1, 0, 0, 1, 0, 0, 0, 0, 0, 0, 0, 0, 0, 0, 0, 0, 0, 0, 0, 0, 0, 0, 0, 0, 0, 0, 0, 0, 0, 0, 0, 0, 0, 0, 0, 0, 0, 0, 0, 0, 0, 0, 0, 0, 0, 0, 0, 0, 0, 0, 0, 0, 0, 0, 0, 0, 0, 0, 0, 0, 0, 0, 0, 0, 0, 0, 0, 0, 0, 0, 0, 0, 0, 0, 0, 0, 0, 0, 0, 0, 0, 0, 0, 0, 0, 0, 0, 0, 0, 0, 0, 0, 0, 0, 0, 0, 0, 0, 0, 0, 0, 0, 0, 0, 0, 0, 0, 0, 0, 0, 0, 0, 0, 0, 0, 0, 0, 0, 0, 0, 0, 0, 0, 0, 0, 0, 0, 0, 0, 0, 0, 0, 0, 0, 0, 0, 0, 0, 0, 0, 0, 0, 0, 0, 0, 0, 0, 0, 0, 0, 0, 0, 0, 0, 0, 0, 0, 0, 0, 0, 0, 0, 0, 0, 0, 0, 0, 0, 0, 0, 0, 0, 0, 0, 0, 0, 0, 0, 0, 0, 0, 0, 0, 0, 0, 0, 0, 0, 0, 0, 0, 0, 0, 0, 0, 0, 0, 0, 0, 0, 0, 0, 0, 0, 0, 0, 0, 0, 0, 0, 0, 0, 0, 0, 0, 0, 0, 0, 0, 0, 0, 0, 0, 0, 0, 0, 0, 0, 0, 0, 0, 0, 0, 0, 0, 0, 0, 0, 0, 0, 0, 0, 0, 0, 0, 0, 0, 0, 0, 0, 0, 0, 0, 0, 0, 0, 0, 0, 0, 0, 0, 0, 0, 0, 0, 0, 0, 0, 0, 0, 0, 0, 0, 0, 0, 0, 0, 0, 0, 0, 0, 0, 0, 0, 0, 0, 0, 0, 0, 0, 0, 0, 0, 0, 0, 0, 0, 0, 0, 0, 0, 0, 0, 0, 0, 0, 0, 0, 0, 0, 0, 0, 0, 0, 0, 0, 0, 0, 0, 0, 0, 0, 0, 0, 0, 0, 0, 0, 0, 0, 0, 0, 0, 0, 0, 0, 0, 0, 0, 0, 0, 0, 0, 0, 0, 0, 0, 0, 0, 0, 0, 0, 0, 0, 0, 0, 0, 0, 0, 0, 0, 0, 0, 0, 0, 0, 0, 0, 0, 0, 0, 0, 0, 0, 0, 0, 0, 0, 0, 0, 0, 0, 0, 0, 0, 0, 0, 0, 0, 0, 0, 0, 0, 0, 0, 0, 0, 0, 0, 0, 0, 0, 0, 0, 0, 0, 0, 0, 0, 0, 0, 0, 0, 0, 0, 0, 0, 0, 0, 0, 0, 0, 0, 0, 0, 0, 0, 0, 0, 0, 0, 0, 0, 0, 0, 0, 0, 0, 0, 0, 0, 0, 0, 0, 0, 0, 0, 0, 0, 0, 0, 0, 0, 0, 0, 0, 0, 0, 0, 0, 0, 0, 0, 0, 0, 0, 0, 0, 0, 0, 1, 0, 0, 0, 0, 0, 0, 0, 0, 0, 0, 0, 0, 0, 0, 0, 0, 0, 0, 0, 0, 0, 0, 0, 0, 0, 0, 0, 0, 0, 0, 0, 0, 0, 0, 0, 0, 0, 0, 0, 0, 0, 0, 0, 0, 0, 0, 0, 0, 0, 0, 0, 0, 0, 0, 0, 0, 0, 0, 0, 0, 0, 0, 0, 0, 0, 0, 0, 0, 0, 0, 0, 0, 0, 0, 0, 0, 0, 0, 0, 0, 0, 0, 0, 0, 0, 0, 0, 0, 0, 0, 0, 0, 0, 0, 0, 0, 0, 0, 0, 0, 0, 0, 0, 0, 0, 0, 0, 0, 0, 0, 0, 0, 0, 0, 0, 0, 0, 0, 0, 0, 0, 0, 0, 0, 0, 0, 0, 0, 0, 0, 0, 0, 0, 0, 0, 0, 0, 0, 0, 0, 0, 0, 0, 0, 0, 0, 0, 0, 0, 0, 0, 0, 0, 0, 0, 0, 0, 0, 0, 0, 0, 0, 0, 0, 0, 0, 0, 0, 0, 0, 0, 0, 0, 0, 0, 0, 0, 0, 0, 0, 0, 0, 0, 0, 0, 0, 0, 0, 0, 0, 0, 0, 0, 0, 0, 0, 0, 0, 0, 0, 0, 0, 0, 0, 0, 0, 0, 0, 0, 0, 0, 0, 0, 0, 0, 0, 0, 0, 0, 0, 0, 0, 0, 0, 0, 0, 0, 0, 0, 0, 0, 0, 0, 0, 0, 0, 0, 0, 0, 0, 0, 0, 0, 0, 0, 0, 0, 0, 0, 0, 0, 0, 0, 0, 0, 0, 0, 0, 0, 0, 0, 0, 0, 0, 0, 0, 0, 0, 0, 0, 0, 0, 0, 0, 0, 0, 0, 0, 0, 0, 0, 0, 0, 0, 0, 0, 0, 0, 0, 0, 0, 0, 0, 0, 0, 0, 0, 0, 0, 0, 0, 0, 0, 0, 0, 0, 0, 0, 0, 0, 0, 0, 0, 0, 0, 0, 0, 0, 0, 0, 0, 0, 0, 0, 0, 0, 0, 0, 0, 0, 0, 0, 0, 0, 0, 0, 0, 0, 0, 0, 0, 0, 0, 0, 0, 0, 0, 0, 0, 0, 0, 0, 0, 0, 0, 0, 0, 0, 0, 0, 0, 0, 0, 0, 0, 0, 0, 0, 0, 0, 0, 0, 0, 0, 0, 0, 0, 0, 0, 0, 0, 0, 0, 0, 0, 0, 0, 0, 0, 0, 0, 0, 0, 0, 0, 0, 0, 0, 0, 0, 0, 0, 0, 0, 0, 0, 0, 0, 0, 0, 0, 0, 0, 0, 0, 0, 0, 0, 0, 0, 0, 0, 0, 0, 0, 0, 0, 0, 0, 0, 0, 0, 0, 0, 0, 0, 0, 0, 0, 0, 0, 0, 0, 0, 0, 0, 0, 0, 0, 0, 0, 0, 0, 0, 0, 0, 0, 0, 0, 0, 0, 0, 0, 0, 0, 0, 0, 0, 0, 0, 0, 0, 0, 0, 0, 0, 0, 0, 0, 0, 0, 0, 0, 0, 0, 0, 0, 0, 0, 0, 0, 0, 0, 0, 0, 0, 0, 0, 0, 0, 0, 0, 0, 0, 0, 0, 0, 0, 0, 0, 0, 0, 1, 0, 0, 0, 0, 0, 0, 0, 0, 0, 0, 0, 0, 0, 0, 0, 0, 0, 0, 0, 0, 0, 0, 0, 0, 0, 0, 0, 0, 0, 0, 0, 0, 0, 0, 0, 2, 0, 0, 0, 0, 0, 0, 0, 0, 0, 0, 0, 0, 0, 0, 0, 0, 0, 0, 0, 0, 0, 0, 0, 0, 0, 0, 0, 0, 0, 0, 0, 0, 0, 0, 0, 0, 0, 0, 0, 0, 1, 0, 0, 0, 0, 0, 0, 0, 0, 0, 0, 0, 0, 0, 0, 0, 0, 0, 0, 0, 0, 0, 0, 0, 0, 0, 0, 0, 0, 0, 0, 0, 0, 0, 0, 0, 0, 0, 0, 0, 0, 0, 0, 0, 0, 0, 0, 0, 0, 0, 0, 0, 0, 0, 0, 0, 0, 0, 0, 0, 0, 0, 0, 0, 0, 0, 0, 0, 0, 0, 0, 0, 0, 0, 0, 0, 0, 0, 0, 0, 0, 0, 0, 0, 0, 0, 0, 0, 0, 0, 0, 0, 0, 0, 0, 0, 0, 0, 0, 0, 0, 0, 0, 0, 0, 0, 0, 0, 0, 0, 0, 0, 0, 0, 0, 0, 0, 0, 0, 0, 0, 0, 0, 0, 0, 0, 0, 0, 0, 0, 0, 0, 0, 0, 0, 0, 0, 0, 0, 0, 0, 0, 0, 0, 0, 0, 0, 0, 0, 0, 0, 0, 0, 0, 0, 0, 0, 0, 0, 0, 0, 0, 0, 0, 0, 0, 0, 0, 0, 0, 0, 0, 0, 0, 0, 0, 0, 0, 0, 0, 0, 0, 0, 0, 0, 0, 0, 0, 0, 0, 0, 0, 0, 0, 0, 0, 0, 0, 0, 0, 0, 0, 0, 0, 0, 0, 0, 0, 0, 0, 0, 0, 0, 0, 0, 0, 0, 0, 0, 0, 0, 0, 0, 0, 0, 0, 0, 0, 0, 0, 0, 0, 0, 0, 0, 0, 0, 0, 0, 0, 0, 0, 0, 0, 0, 0, 0, 0, 0, 0, 0, 0, 0, 0, 0, 0, 0, 0, 0, 0, 0, 0, 0, 0, 0, 0, 0, 0, 0, 0, 0, 0, 0, 0, 0, 0, 0, 0, 0, 0, 0, 0, 0, 0, 0, 0, 0, 0, 0, 0, 0, 0, 0, 0, 0, 0, 0, 0, 0, 0, 0, 0, 0, 0, 0, 0, 0, 0, 0, 0, 0, 0, 0, 0, 0, 0, 0, 0, 0, 0, 0, 0, 0, 0, 0, 0, 0, 0, 0, 0, 0, 0, 0, 0, 0, 0, 0, 0, 0, 0, 0, 0, 0, 0, 0, 0, 0, 0, 0, 0, 0, 0, 0, 0, 0, 0, 0, 0, 0, 0, 0, 0, 0, 0, 0, 0, 0, 0, 0, 0, 0, 0, 0, 0, 0, 0, 0, 0, 0, 0, 0, 0, 0, 0, 0, 0, 0, 0, 0, 0, 0, 0, 0, 0, 0, 0, 0, 0, 0, 0, 0, 0, 0, 0, 0, 0, 0, 0, 0, 0, 0, 0, 0, 0, 0, 0, 0, 0, 0, 0, 0, 0, 0, 0, 0, 0, 0, 0, 0, 0, 0, 0, 0, 0, 0, 0, 0, 0, 0, 0, 0, 0, 0, 0, 0, 0, 0, 0, 0, 0, 0, 0, 0, 0, 0, 0, 0, 0, 0, 0, 0, 0, 0, 0, 0, 0, 0, 0, 0, 0, 0, 0, 0, 0, 0, 0, 0, 0, 0, 0, 0, 0, 0, 0, 0, 0, 0, 0, 0, 0, 0, 0, 0, 0, 0, 0, 0, 0, 1, 0, 0, 0, 0, 0, 0, 0, 0, 0, 0, 0, 0, 0, 0, 0, 0, 0, 0, 0, 0, 0, 0, 0, 0, 0, 0, 0, 0, 0, 0, 0, 0, 0, 0, 0, 0, 0, 0, 0, 0, 0, 0, 0, 0, 0, 0, 0, 0, 0, 0, 0, 0, 0, 0, 0, 0, 0, 0, 0, 0, 0, 0, 0, 0, 0, 0, 0, 0, 0, 0, 0, 0, 0, 0, 0, 0, 0, 0, 0, 0, 0, 0, 0, 0, 0, 0, 0, 0, 0, 0, 0, 0, 0, 0, 0, 0, 0, 0, 0, 0, 0, 0, 0, 0, 0, 0, 0, 0, 0, 0, 2, 0, 0, 0, 0, 0, 0, 0, 0, 0, 0, 0, 0, 0, 0, 0, 0, 0, 0, 0, 0, 0, 0, 0, 0, 0, 0, 0, 0, 0, 0, 0, 0, 0, 0, 0, 0, 0, 0, 0, 0, 0, 0, 0, 0, 0, 0, 0, 0, 0, 0, 0, 0, 0, 0, 0, 0, 0, 0, 0, 0, 0, 0, 0, 0, 0, 0, 0, 0, 0, 0, 0, 0, 0, 0, 0, 0, 0, 0, 0, 0, 0, 0, 0, 0, 0, 0, 0, 0, 0, 0, 0, 0, 0, 0, 0, 0, 0, 0, 0, 0, 0, 0, 0, 0, 0, 0, 0, 0, 0, 0, 0, 0, 0, 0, 0, 0, 0, 0, 0, 0, 0, 0, 0, 0, 0, 0, 0, 0, 0, 0, 0, 0, 0, 0, 0, 0, 0, 0, 0, 0, 0, 0, 0, 0, 0, 0, 0, 0, 0, 0, 0, 0, 0, 0, 0, 0, 0, 0, 0, 0, 0, 0, 0, 0, 0, 0, 0, 0, 0, 0, 0, 0, 0, 0, 0, 0, 0, 0, 0, 0, 0, 0, 0, 0, 0, 0, 0, 0, 0, 0, 0, 0, 0, 0, 0, 0, 0, 0, 0, 0, 0, 0, 0, 0, 0, 0, 0, 0, 0, 0, 0, 0, 0, 0, 0, 0, 0, 0, 0, 0, 0, 0, 0, 0, 0, 0, 0, 0, 0, 0, 0, 0, 0, 0, 0, 0, 0, 0, 0, 0, 0, 0, 0, 0, 0, 0, 0, 0, 0, 0, 0, 0, 0, 0, 0, 0, 0, 0, 0, 0, 0, 0, 0, 0, 0, 0, 0, 0, 0, 0, 0, 0, 0, 0, 0, 0, 0, 0, 0, 0, 0, 0, 0, 0, 0, 0, 0, 0, 0, 0, 0, 0, 0, 0, 0, 0, 0, 0, 0, 0, 0, 0, 0, 0, 0, 0, 0, 0, 0, 0, 0, 0, 0, 0, 0, 0, 0, 0, 0, 0, 0, 0, 0, 0, 0, 0, 0, 0, 0, 0, 0, 0, 0, 0, 0, 0, 0, 0, 0, 0, 0, 0, 0, 0, 0, 0, 0, 0, 0, 0, 0, 0, 0, 0, 0, 0, 0, 0, 0, 0, 0, 0, 0, 0, 0, 0, 0, 0, 0, 0, 0, 0, 0, 0, 0, 0, 0, 0, 0, 0, 0, 0, 0, 0, 0, 0, 0, 0, 0, 0, 0, 0, 0, 0, 0, 0, 0, 0, 0, 0, 0, 0, 0, 0, 0, 0, 0, 0, 0, 0, 0, 0, 0, 0, 0, 0, 0, 0, 0, 0, 0, 0, 0, 0, 0, 0, 0, 0, 0, 0, 0, 0, 0, 0, 0, 0, 0, 0, 0, 0, 0, 0, 0, 0, 0, 0, 0, 0, 0, 0, 0, 0, 0, 0, 0, 0, 0, 0, 0, 0, 0, 0, 0, 0, 0, 0, 0, 0, 0, 0, 0, 0, 0, 0, 0, 0, 0, 0, 0, 0, 0, 0, 0, 0, 0, 0, 0, 0, 0, 0, 0, 0, 0, 0, 0, 0, 0, 0, 0, 0, 0, 0, 0, 0, 0, 0, 0, 0, 0, 0, 0, 0, 0, 0, 0, 0, 0, 0, 0, 0, 0, 0, 0, 0, 0, 0, 0, 0, 0, 0, 0, 0, 0, 0, 0, 0, 0, 0, 0, 0, 0, 0, 0, 0, 0, 0, 0, 0, 0, 0, 0, 0, 0, 0, 0, 0, 0, 0, 0, 0, 0, 0, 0, 0, 0, 0, 0, 0, 0, 0, 0, 0, 0, 0, 0, 0, 0, 0, 0, 0, 0, 0, 0, 0, 0, 0, 0, 0, 0, 0, 0, 0, 0, 0, 0, 0, 0, 0, 0, 0, 0, 0, 0, 0, 0, 0, 0, 0, 0, 0, 0, 0, 0, 0, 0, 0, 0, 0, 0, 0, 0, 0, 0, 0, 0, 0, 0, 0, 0, 0, 0, 0, 0, 0, 0, 0, 0, 0, 0, 0, 0, 0, 0, 0, 0, 0, 0, 0, 0, 0, 0, 0, 0, 0, 0, 0, 0, 0, 0, 0, 0, 0, 0, 0, 0, 0, 0, 0, 0, 0, 0, 0, 0, 0, 0, 0, 0, 0, 0, 0, 0, 0, 0, 0, 0, 0, 0, 0, 0, 0, 1, 0, 0, 0, 0, 0, 0, 0, 0, 0, 0, 0, 0, 0, 0, 0, 0, 0, 0, 0, 0, 0, 0, 0, 0, 0, 0, 0, 0, 0, 0, 0, 0, 0, 0, 0, 0, 0, 0, 0, 0, 0, 0, 0, 0, 0, 0, 0, 0, 0, 0, 0, 0, 0, 0, 0, 0, 0, 0, 0, 0, 0, 0, 0, 0, 0, 0, 0, 0, 0, 0, 0, 0, 0, 0, 0, 0, 0, 0, 0, 0, 0, 0, 0, 0, 0, 0, 0, 0, 0, 0, 0, 0, 0, 0, 0, 0, 0, 0, 0, 0, 0, 0, 0, 0, 0, 0, 0, 1, 0, 0, 0, 0, 0, 0, 0, 0, 0, 0, 0, 0, 0, 0, 0, 0, 0, 0, 0, 0, 0, 0, 0, 0, 0, 0, 0, 0, 0, 0, 0, 0, 0, 0, 0, 0, 0, 0, 0, 0, 0, 0, 0, 0, 0, 0, 0, 0, 0, 0, 0, 0, 0, 0, 0, 0, 0, 0, 0, 0, 0, 0, 0, 0, 0, 0, 0, 0, 0, 0, 0, 0, 0, 0, 0, 0, 0, 0, 0, 0, 0, 0, 0, 0, 0, 0, 0, 0, 0, 0, 0, 0, 0, 0, 0, 0, 0, 0, 0, 0, 0, 0, 0, 0, 0, 0, 0, 0, 0, 0, 0, 0, 0, 0, 0, 0, 0, 0, 0, 0, 0, 0, 0, 0, 0, 0, 0, 0, 0, 0, 0, 0, 0, 0, 0, 0, 0, 0, 0, 0, 0, 0, 0, 0, 0, 0, 0, 0, 0, 0, 0, 0, 0, 0, 0, 0, 0, 0, 0, 0, 0, 0, 0, 0, 0, 0, 0, 0, 0, 0, 0, 0, 0, 0, 0, 0, 0, 0, 0, 0, 0, 0, 0, 0, 0, 0, 0, 0, 0, 0, 0, 0, 0, 0, 0, 0, 0, 0, 0, 0, 0, 0, 0, 0, 0, 0, 0, 0, 0, 0, 0, 0, 0, 0, 0, 0, 0, 0, 0, 0, 0, 0, 0, 0, 0, 0, 0, 0, 0, 0, 0, 0, 0, 0, 0, 0, 0, 0, 0, 0, 0, 0, 0, 0, 0, 0, 0, 0, 0, 0, 0, 0, 0, 0, 0, 0, 0, 0, 0, 0, 0, 0, 0, 0, 0, 0, 0, 0, 0, 0, 0, 0, 0, 0, 0, 0, 0, 0, 0, 0, 0, 0, 0, 0, 0, 0, 0, 0, 0, 0, 0, 0, 0, 0, 0, 0, 0, 0, 0, 0, 0, 0, 0, 0, 0, 0, 0, 0, 0, 0, 0, 0, 0, 0, 0, 0, 0, 0, 0, 0, 0, 0, 0, 0, 0, 0, 0, 0, 0, 0, 0, 0, 0, 0, 0, 0, 0, 0, 0, 0, 0, 0, 0, 0, 0, 0, 0, 0, 0, 0, 0, 0, 0, 0, 0, 0, 0, 0, 0, 0, 0, 0, 0, 0, 0, 0, 0, 0, 0, 0, 0, 0, 0, 0, 0, 0, 0, 0, 0, 0, 0, 0, 0, 0, 0, 0, 0, 0, 0, 0, 0, 0, 0, 0, 0, 0, 0, 0, 0, 0, 0, 0, 0, 0, 0, 0, 0, 0, 0, 0, 0, 0, 0, 0, 0, 0, 0, 0, 0, 0, 0, 0, 0, 0, 0, 0, 0, 0, 0, 0, 0, 0, 0, 0, 0, 0, 0, 0, 0, 0, 0, 0, 0, 0, 0, 0, 0, 0, 0, 0, 0, 0, 0, 0, 0, 0, 0, 0, 0, 0, 0, 0, 0, 2, 0, 1, 0], type: <class 'list'>, valid types: <class 'bytes'>, <class 'bytearray'>, file-like object",
     "output_type": "error",
     "traceback": [
      "\u001b[0;31m---------------------------------------------------------------------------\u001b[0m",
      "\u001b[0;31mParamValidationError\u001b[0m                      Traceback (most recent call last)",
      "\u001b[0;32m<ipython-input-46-c9ab54ae3a48>\u001b[0m in \u001b[0;36m<module>\u001b[0;34m()\u001b[0m\n\u001b[1;32m      1\u001b[0m response = runtime.invoke_endpoint(EndpointName = xgb_predictor.endpoint, # The name of the endpoint we created\n\u001b[1;32m      2\u001b[0m                                        \u001b[0mContentType\u001b[0m \u001b[0;34m=\u001b[0m \u001b[0;34m'text/csv'\u001b[0m\u001b[0;34m,\u001b[0m                     \u001b[0;31m# The data format that is expected\u001b[0m\u001b[0;34m\u001b[0m\u001b[0m\n\u001b[0;32m----> 3\u001b[0;31m                                        Body = test_bow)\n\u001b[0m",
      "\u001b[0;32m~/anaconda3/envs/python3/lib/python3.6/site-packages/botocore/client.py\u001b[0m in \u001b[0;36m_api_call\u001b[0;34m(self, *args, **kwargs)\u001b[0m\n\u001b[1;32m    314\u001b[0m                     \"%s() only accepts keyword arguments.\" % py_operation_name)\n\u001b[1;32m    315\u001b[0m             \u001b[0;31m# The \"self\" in this scope is referring to the BaseClient.\u001b[0m\u001b[0;34m\u001b[0m\u001b[0;34m\u001b[0m\u001b[0m\n\u001b[0;32m--> 316\u001b[0;31m             \u001b[0;32mreturn\u001b[0m \u001b[0mself\u001b[0m\u001b[0;34m.\u001b[0m\u001b[0m_make_api_call\u001b[0m\u001b[0;34m(\u001b[0m\u001b[0moperation_name\u001b[0m\u001b[0;34m,\u001b[0m \u001b[0mkwargs\u001b[0m\u001b[0;34m)\u001b[0m\u001b[0;34m\u001b[0m\u001b[0m\n\u001b[0m\u001b[1;32m    317\u001b[0m \u001b[0;34m\u001b[0m\u001b[0m\n\u001b[1;32m    318\u001b[0m         \u001b[0m_api_call\u001b[0m\u001b[0;34m.\u001b[0m\u001b[0m__name__\u001b[0m \u001b[0;34m=\u001b[0m \u001b[0mstr\u001b[0m\u001b[0;34m(\u001b[0m\u001b[0mpy_operation_name\u001b[0m\u001b[0;34m)\u001b[0m\u001b[0;34m\u001b[0m\u001b[0m\n",
      "\u001b[0;32m~/anaconda3/envs/python3/lib/python3.6/site-packages/botocore/client.py\u001b[0m in \u001b[0;36m_make_api_call\u001b[0;34m(self, operation_name, api_params)\u001b[0m\n\u001b[1;32m    597\u001b[0m         }\n\u001b[1;32m    598\u001b[0m         request_dict = self._convert_to_request_dict(\n\u001b[0;32m--> 599\u001b[0;31m             api_params, operation_model, context=request_context)\n\u001b[0m\u001b[1;32m    600\u001b[0m \u001b[0;34m\u001b[0m\u001b[0m\n\u001b[1;32m    601\u001b[0m         \u001b[0mservice_id\u001b[0m \u001b[0;34m=\u001b[0m \u001b[0mself\u001b[0m\u001b[0;34m.\u001b[0m\u001b[0m_service_model\u001b[0m\u001b[0;34m.\u001b[0m\u001b[0mservice_id\u001b[0m\u001b[0;34m.\u001b[0m\u001b[0mhyphenize\u001b[0m\u001b[0;34m(\u001b[0m\u001b[0;34m)\u001b[0m\u001b[0;34m\u001b[0m\u001b[0m\n",
      "\u001b[0;32m~/anaconda3/envs/python3/lib/python3.6/site-packages/botocore/client.py\u001b[0m in \u001b[0;36m_convert_to_request_dict\u001b[0;34m(self, api_params, operation_model, context)\u001b[0m\n\u001b[1;32m    645\u001b[0m             api_params, operation_model, context)\n\u001b[1;32m    646\u001b[0m         request_dict = self._serializer.serialize_to_request(\n\u001b[0;32m--> 647\u001b[0;31m             api_params, operation_model)\n\u001b[0m\u001b[1;32m    648\u001b[0m         \u001b[0;32mif\u001b[0m \u001b[0;32mnot\u001b[0m \u001b[0mself\u001b[0m\u001b[0;34m.\u001b[0m\u001b[0m_client_config\u001b[0m\u001b[0;34m.\u001b[0m\u001b[0minject_host_prefix\u001b[0m\u001b[0;34m:\u001b[0m\u001b[0;34m\u001b[0m\u001b[0m\n\u001b[1;32m    649\u001b[0m             \u001b[0mrequest_dict\u001b[0m\u001b[0;34m.\u001b[0m\u001b[0mpop\u001b[0m\u001b[0;34m(\u001b[0m\u001b[0;34m'host_prefix'\u001b[0m\u001b[0;34m,\u001b[0m \u001b[0;32mNone\u001b[0m\u001b[0;34m)\u001b[0m\u001b[0;34m\u001b[0m\u001b[0m\n",
      "\u001b[0;32m~/anaconda3/envs/python3/lib/python3.6/site-packages/botocore/validate.py\u001b[0m in \u001b[0;36mserialize_to_request\u001b[0;34m(self, parameters, operation_model)\u001b[0m\n\u001b[1;32m    295\u001b[0m                                                     operation_model.input_shape)\n\u001b[1;32m    296\u001b[0m             \u001b[0;32mif\u001b[0m \u001b[0mreport\u001b[0m\u001b[0;34m.\u001b[0m\u001b[0mhas_errors\u001b[0m\u001b[0;34m(\u001b[0m\u001b[0;34m)\u001b[0m\u001b[0;34m:\u001b[0m\u001b[0;34m\u001b[0m\u001b[0m\n\u001b[0;32m--> 297\u001b[0;31m                 \u001b[0;32mraise\u001b[0m \u001b[0mParamValidationError\u001b[0m\u001b[0;34m(\u001b[0m\u001b[0mreport\u001b[0m\u001b[0;34m=\u001b[0m\u001b[0mreport\u001b[0m\u001b[0;34m.\u001b[0m\u001b[0mgenerate_report\u001b[0m\u001b[0;34m(\u001b[0m\u001b[0;34m)\u001b[0m\u001b[0;34m)\u001b[0m\u001b[0;34m\u001b[0m\u001b[0m\n\u001b[0m\u001b[1;32m    298\u001b[0m         return self._serializer.serialize_to_request(parameters,\n\u001b[1;32m    299\u001b[0m                                                      operation_model)\n",
      "\u001b[0;31mParamValidationError\u001b[0m: Parameter validation failed:\nInvalid type for parameter Body, value: [0, 0, 0, 0, 0, 0, 0, 0, 0, 0, 0, 0, 0, 0, 0, 0, 0, 0, 0, 0, 0, 0, 0, 0, 0, 0, 0, 0, 0, 0, 0, 0, 0, 0, 0, 0, 0, 0, 0, 0, 0, 0, 0, 0, 0, 0, 0, 0, 0, 0, 0, 0, 0, 0, 0, 0, 0, 0, 0, 0, 0, 0, 0, 0, 0, 0, 0, 0, 0, 0, 0, 0, 0, 0, 0, 0, 0, 0, 0, 0, 0, 0, 0, 0, 0, 0, 0, 0, 0, 0, 0, 0, 0, 0, 0, 0, 0, 0, 0, 0, 0, 0, 0, 0, 0, 0, 0, 0, 0, 0, 0, 0, 0, 0, 0, 0, 0, 0, 0, 0, 0, 0, 0, 0, 0, 0, 0, 0, 0, 0, 0, 0, 0, 0, 0, 0, 0, 0, 0, 0, 0, 0, 0, 0, 0, 0, 0, 0, 0, 0, 0, 0, 0, 0, 0, 0, 0, 0, 0, 0, 0, 0, 0, 0, 0, 0, 0, 0, 0, 0, 0, 0, 0, 0, 0, 0, 0, 0, 0, 0, 0, 0, 0, 0, 0, 0, 0, 0, 0, 0, 0, 0, 0, 0, 0, 0, 0, 0, 0, 0, 0, 0, 0, 0, 0, 0, 0, 0, 0, 0, 0, 0, 0, 0, 0, 0, 0, 0, 0, 0, 0, 0, 0, 0, 0, 0, 1, 0, 0, 0, 0, 0, 0, 0, 0, 0, 0, 0, 0, 0, 0, 0, 0, 0, 0, 0, 0, 0, 0, 0, 0, 0, 0, 0, 0, 0, 1, 0, 0, 0, 0, 0, 0, 0, 0, 0, 0, 0, 0, 0, 0, 0, 0, 0, 0, 0, 0, 0, 0, 0, 0, 0, 0, 0, 0, 0, 0, 0, 0, 0, 0, 0, 0, 0, 0, 0, 0, 0, 0, 0, 0, 0, 0, 0, 0, 0, 0, 0, 0, 0, 0, 0, 0, 0, 0, 0, 0, 0, 0, 0, 0, 0, 0, 0, 0, 0, 0, 0, 0, 0, 0, 0, 0, 0, 0, 0, 0, 0, 0, 0, 0, 0, 0, 0, 0, 0, 0, 0, 0, 0, 0, 0, 0, 0, 0, 0, 0, 0, 0, 0, 0, 0, 0, 0, 0, 0, 0, 0, 0, 0, 0, 0, 0, 0, 0, 0, 0, 0, 0, 0, 0, 0, 0, 0, 0, 0, 0, 0, 0, 0, 0, 0, 0, 0, 0, 0, 0, 0, 0, 0, 0, 0, 0, 0, 0, 0, 0, 0, 0, 0, 0, 0, 0, 0, 0, 0, 0, 0, 0, 0, 0, 0, 0, 0, 0, 0, 0, 0, 0, 0, 0, 0, 0, 0, 0, 0, 0, 0, 0, 0, 0, 0, 0, 0, 0, 0, 0, 0, 0, 0, 0, 0, 0, 0, 0, 0, 0, 0, 0, 0, 0, 0, 0, 0, 0, 0, 0, 0, 0, 0, 0, 0, 0, 0, 0, 0, 0, 0, 0, 0, 0, 0, 0, 0, 0, 0, 0, 0, 0, 0, 0, 0, 0, 0, 0, 0, 0, 0, 0, 0, 0, 0, 0, 0, 0, 0, 0, 0, 0, 0, 0, 0, 0, 0, 0, 0, 0, 0, 0, 0, 0, 0, 0, 0, 0, 0, 0, 0, 0, 0, 0, 0, 0, 0, 0, 0, 0, 0, 0, 0, 0, 0, 0, 0, 0, 0, 0, 0, 0, 0, 0, 0, 0, 0, 0, 0, 0, 0, 0, 0, 0, 0, 0, 0, 0, 0, 0, 0, 0, 0, 0, 0, 0, 0, 0, 0, 0, 0, 0, 0, 0, 0, 0, 0, 0, 0, 0, 0, 0, 0, 0, 0, 0, 0, 0, 0, 0, 0, 0, 0, 0, 0, 0, 0, 0, 0, 0, 0, 0, 0, 0, 0, 0, 0, 0, 0, 0, 0, 0, 0, 0, 0, 0, 0, 0, 0, 0, 0, 0, 0, 0, 0, 0, 0, 0, 0, 1, 0, 0, 0, 0, 0, 0, 0, 0, 0, 0, 0, 0, 0, 0, 0, 0, 0, 0, 0, 0, 0, 0, 0, 0, 0, 0, 0, 0, 0, 0, 0, 0, 0, 0, 0, 0, 0, 0, 0, 0, 0, 0, 0, 0, 0, 0, 0, 0, 0, 0, 0, 0, 0, 0, 0, 0, 0, 0, 0, 0, 0, 0, 0, 0, 0, 0, 0, 0, 0, 0, 0, 0, 0, 0, 0, 0, 0, 0, 0, 0, 0, 0, 0, 0, 0, 0, 0, 0, 0, 0, 0, 0, 0, 0, 0, 0, 0, 0, 0, 0, 0, 0, 0, 0, 0, 0, 0, 0, 0, 0, 0, 0, 0, 0, 0, 0, 0, 0, 0, 0, 0, 0, 0, 0, 0, 0, 0, 0, 0, 0, 0, 0, 0, 0, 0, 0, 0, 0, 0, 0, 0, 0, 0, 0, 0, 0, 0, 0, 0, 0, 0, 0, 0, 0, 0, 0, 0, 0, 0, 0, 0, 0, 0, 0, 0, 0, 0, 0, 0, 0, 0, 0, 0, 0, 0, 0, 0, 0, 0, 0, 0, 0, 0, 0, 0, 0, 0, 0, 0, 0, 0, 0, 0, 0, 0, 0, 0, 0, 0, 0, 0, 0, 0, 0, 0, 0, 0, 0, 0, 0, 0, 0, 0, 0, 0, 0, 0, 0, 0, 0, 0, 0, 0, 0, 0, 0, 0, 0, 0, 0, 0, 0, 0, 0, 0, 0, 0, 0, 0, 0, 0, 0, 0, 0, 0, 0, 0, 0, 0, 0, 0, 0, 0, 1, 0, 0, 0, 0, 0, 0, 0, 0, 0, 0, 0, 0, 0, 0, 0, 0, 0, 0, 0, 0, 0, 0, 0, 0, 0, 0, 0, 0, 0, 0, 0, 0, 0, 0, 0, 0, 0, 0, 0, 0, 0, 0, 0, 0, 0, 0, 0, 0, 0, 0, 0, 0, 0, 0, 0, 0, 0, 0, 0, 0, 0, 0, 0, 0, 0, 0, 0, 0, 0, 0, 0, 0, 0, 0, 0, 0, 0, 0, 0, 0, 0, 0, 0, 0, 0, 0, 1, 0, 0, 0, 0, 0, 0, 0, 0, 0, 0, 0, 0, 0, 0, 0, 0, 0, 0, 0, 0, 0, 0, 0, 0, 0, 0, 0, 0, 0, 0, 0, 0, 0, 0, 0, 0, 0, 0, 0, 0, 0, 0, 0, 0, 0, 0, 0, 0, 0, 0, 0, 0, 0, 0, 0, 0, 0, 0, 0, 0, 0, 0, 0, 0, 0, 0, 0, 0, 0, 0, 0, 0, 0, 0, 0, 0, 0, 0, 0, 0, 0, 0, 0, 0, 0, 0, 0, 0, 0, 0, 0, 0, 0, 0, 0, 0, 0, 0, 0, 0, 0, 0, 0, 0, 0, 0, 0, 0, 0, 0, 0, 0, 0, 0, 0, 0, 0, 0, 0, 0, 0, 0, 0, 0, 0, 0, 0, 0, 0, 0, 0, 0, 0, 0, 0, 0, 0, 0, 0, 0, 0, 0, 0, 0, 0, 0, 0, 0, 0, 0, 0, 0, 0, 0, 0, 0, 0, 0, 0, 0, 0, 0, 0, 0, 0, 0, 0, 0, 0, 0, 0, 0, 0, 0, 0, 0, 0, 0, 0, 0, 0, 0, 0, 0, 0, 0, 0, 0, 0, 0, 0, 0, 0, 0, 0, 0, 0, 0, 0, 0, 0, 0, 0, 0, 0, 0, 0, 0, 0, 0, 0, 0, 0, 0, 0, 0, 0, 0, 0, 0, 0, 0, 0, 0, 0, 0, 0, 0, 0, 0, 0, 0, 0, 0, 0, 0, 0, 0, 0, 0, 0, 0, 0, 0, 0, 0, 0, 0, 0, 0, 0, 0, 1, 0, 0, 0, 0, 0, 0, 0, 0, 0, 0, 0, 0, 0, 0, 0, 0, 0, 0, 0, 0, 0, 0, 0, 0, 0, 0, 0, 0, 0, 0, 0, 0, 0, 0, 0, 0, 0, 0, 0, 0, 0, 0, 0, 0, 0, 0, 0, 0, 0, 0, 0, 0, 0, 0, 0, 1, 0, 0, 0, 0, 0, 0, 0, 0, 0, 0, 0, 0, 0, 0, 0, 0, 0, 0, 0, 0, 0, 0, 0, 0, 0, 0, 0, 0, 0, 0, 0, 0, 0, 0, 0, 0, 0, 0, 0, 0, 0, 0, 0, 0, 0, 0, 0, 0, 0, 0, 0, 0, 0, 0, 0, 0, 0, 0, 0, 0, 0, 0, 0, 0, 0, 0, 0, 0, 0, 0, 0, 0, 0, 0, 0, 0, 0, 0, 0, 0, 0, 0, 0, 0, 0, 0, 0, 0, 0, 0, 0, 0, 0, 0, 0, 0, 0, 0, 0, 0, 0, 0, 0, 0, 0, 0, 0, 0, 0, 0, 0, 0, 0, 0, 0, 0, 0, 0, 0, 0, 0, 0, 0, 0, 0, 0, 0, 0, 0, 0, 0, 0, 0, 0, 0, 0, 0, 0, 0, 0, 0, 0, 0, 0, 0, 0, 0, 0, 0, 0, 0, 0, 0, 0, 0, 0, 0, 0, 0, 0, 0, 0, 0, 0, 0, 0, 0, 0, 0, 0, 0, 0, 0, 0, 0, 0, 0, 0, 0, 0, 0, 0, 0, 0, 0, 0, 0, 0, 0, 0, 0, 0, 0, 0, 0, 0, 0, 0, 0, 0, 0, 0, 0, 0, 0, 0, 0, 0, 0, 0, 0, 0, 0, 0, 0, 0, 0, 0, 0, 0, 0, 0, 0, 0, 0, 0, 0, 0, 0, 0, 0, 0, 0, 0, 0, 0, 0, 0, 0, 0, 0, 0, 0, 0, 0, 0, 0, 0, 0, 0, 0, 0, 0, 0, 0, 0, 0, 0, 0, 0, 0, 0, 0, 0, 0, 0, 0, 0, 0, 0, 0, 0, 0, 0, 0, 0, 0, 0, 0, 0, 0, 0, 0, 0, 0, 0, 0, 0, 0, 0, 0, 0, 0, 0, 0, 0, 0, 0, 0, 0, 0, 0, 0, 0, 0, 0, 0, 0, 0, 0, 0, 0, 0, 0, 0, 0, 0, 0, 0, 0, 0, 0, 0, 0, 0, 0, 0, 0, 0, 0, 0, 0, 0, 0, 0, 0, 0, 0, 0, 0, 0, 0, 0, 0, 0, 0, 0, 0, 0, 0, 0, 0, 0, 0, 0, 0, 0, 0, 0, 0, 0, 0, 0, 0, 0, 0, 0, 0, 0, 0, 0, 0, 0, 0, 0, 0, 0, 0, 0, 0, 0, 0, 0, 0, 0, 0, 0, 0, 0, 0, 0, 0, 0, 0, 0, 0, 0, 0, 0, 0, 0, 0, 0, 0, 0, 0, 0, 0, 0, 0, 0, 0, 0, 0, 0, 0, 0, 0, 0, 0, 0, 0, 0, 0, 0, 0, 0, 0, 0, 0, 0, 0, 0, 0, 0, 0, 0, 0, 0, 0, 0, 0, 0, 0, 0, 0, 0, 0, 0, 0, 0, 0, 0, 0, 0, 0, 0, 0, 0, 0, 0, 0, 0, 0, 0, 0, 0, 0, 0, 0, 0, 0, 0, 0, 0, 0, 0, 0, 0, 0, 0, 0, 0, 0, 0, 0, 0, 0, 0, 0, 0, 0, 0, 0, 0, 0, 0, 0, 0, 0, 0, 0, 0, 0, 0, 0, 0, 0, 0, 0, 0, 0, 0, 0, 0, 0, 0, 0, 0, 0, 0, 0, 0, 0, 0, 0, 0, 0, 0, 0, 0, 0, 0, 0, 0, 0, 0, 0, 0, 0, 0, 0, 0, 0, 0, 0, 0, 0, 0, 0, 0, 0, 0, 0, 0, 0, 0, 0, 0, 0, 0, 0, 0, 0, 0, 0, 0, 0, 0, 0, 0, 0, 0, 0, 0, 0, 0, 0, 0, 0, 0, 0, 0, 0, 0, 0, 0, 0, 0, 0, 0, 0, 0, 0, 0, 0, 0, 0, 0, 0, 0, 0, 0, 0, 0, 0, 0, 0, 0, 0, 0, 0, 0, 0, 0, 0, 0, 0, 0, 0, 0, 0, 0, 0, 0, 0, 0, 0, 0, 0, 0, 0, 0, 0, 0, 0, 0, 0, 0, 0, 0, 0, 0, 0, 0, 0, 0, 0, 0, 0, 0, 0, 0, 0, 0, 0, 0, 0, 0, 0, 0, 0, 0, 0, 0, 0, 0, 0, 0, 0, 0, 0, 0, 0, 0, 0, 0, 0, 0, 0, 0, 1, 0, 0, 0, 0, 0, 0, 0, 0, 0, 0, 0, 0, 0, 0, 0, 0, 0, 0, 0, 0, 0, 0, 0, 0, 0, 0, 0, 0, 0, 0, 0, 0, 0, 0, 0, 0, 0, 0, 0, 0, 0, 0, 0, 0, 0, 0, 0, 0, 0, 0, 0, 0, 0, 0, 0, 0, 0, 0, 0, 0, 0, 0, 0, 0, 0, 0, 0, 0, 0, 0, 0, 0, 0, 0, 1, 0, 0, 0, 0, 0, 0, 0, 0, 0, 0, 0, 0, 0, 0, 0, 0, 0, 0, 0, 0, 1, 0, 0, 1, 0, 0, 0, 0, 0, 0, 0, 0, 0, 0, 0, 0, 0, 0, 0, 0, 0, 0, 0, 0, 0, 0, 0, 0, 0, 0, 0, 0, 0, 0, 0, 0, 0, 0, 0, 0, 0, 0, 0, 0, 0, 0, 0, 0, 0, 0, 0, 0, 0, 0, 0, 0, 0, 0, 0, 0, 0, 0, 0, 0, 0, 0, 0, 0, 0, 0, 0, 0, 0, 0, 0, 0, 0, 0, 0, 0, 0, 0, 0, 0, 0, 0, 0, 0, 0, 0, 0, 0, 0, 0, 0, 0, 0, 0, 0, 0, 0, 0, 0, 0, 0, 0, 0, 0, 0, 0, 0, 0, 0, 0, 0, 0, 0, 0, 0, 0, 0, 0, 0, 0, 0, 0, 0, 0, 0, 0, 0, 0, 0, 0, 0, 0, 0, 0, 0, 0, 0, 0, 0, 0, 0, 0, 0, 0, 0, 0, 0, 0, 0, 0, 0, 0, 0, 0, 0, 0, 0, 0, 0, 0, 0, 0, 0, 0, 0, 0, 0, 0, 0, 0, 0, 0, 0, 0, 0, 0, 0, 0, 0, 0, 0, 0, 0, 0, 0, 0, 0, 0, 0, 0, 0, 0, 0, 0, 0, 0, 0, 0, 0, 0, 0, 0, 0, 0, 0, 0, 0, 0, 0, 0, 0, 0, 0, 0, 0, 0, 0, 0, 0, 0, 0, 0, 0, 0, 0, 0, 0, 0, 0, 0, 0, 0, 0, 0, 0, 0, 0, 0, 0, 0, 0, 0, 0, 0, 0, 0, 0, 0, 0, 0, 0, 0, 0, 0, 0, 0, 0, 0, 0, 0, 0, 0, 0, 0, 0, 0, 0, 0, 0, 0, 0, 0, 0, 0, 0, 0, 0, 0, 0, 0, 0, 0, 0, 0, 0, 0, 0, 0, 0, 0, 0, 0, 0, 0, 0, 0, 0, 0, 0, 0, 0, 0, 0, 0, 0, 0, 0, 0, 0, 0, 0, 0, 0, 0, 0, 0, 0, 0, 0, 0, 0, 0, 0, 0, 0, 0, 0, 0, 0, 0, 0, 0, 0, 0, 0, 0, 0, 0, 0, 0, 0, 0, 0, 0, 0, 0, 0, 0, 0, 0, 0, 0, 0, 0, 0, 0, 0, 0, 0, 0, 0, 0, 0, 0, 0, 0, 0, 0, 0, 0, 0, 0, 0, 0, 0, 0, 0, 0, 0, 0, 0, 0, 0, 0, 0, 0, 0, 0, 0, 0, 0, 0, 0, 0, 0, 0, 0, 0, 0, 0, 0, 0, 0, 0, 0, 0, 0, 0, 0, 0, 0, 0, 0, 0, 0, 0, 0, 0, 0, 0, 0, 0, 0, 0, 0, 0, 0, 0, 0, 0, 0, 0, 0, 0, 0, 0, 0, 0, 0, 0, 0, 0, 0, 0, 0, 0, 0, 0, 0, 0, 0, 0, 0, 0, 0, 0, 0, 0, 0, 0, 0, 0, 0, 0, 0, 0, 1, 0, 0, 0, 0, 0, 0, 0, 0, 0, 0, 0, 0, 0, 0, 0, 0, 0, 0, 0, 0, 0, 0, 0, 0, 0, 0, 0, 0, 0, 0, 0, 0, 0, 0, 0, 0, 0, 0, 0, 0, 0, 0, 0, 0, 0, 0, 0, 0, 0, 0, 0, 0, 0, 0, 0, 0, 0, 0, 0, 0, 0, 0, 0, 0, 0, 0, 0, 0, 0, 0, 0, 0, 0, 0, 0, 0, 0, 0, 0, 0, 0, 0, 0, 0, 0, 0, 0, 0, 0, 0, 0, 0, 0, 0, 0, 0, 0, 0, 0, 0, 0, 0, 0, 0, 0, 0, 0, 0, 0, 0, 0, 0, 0, 0, 0, 0, 0, 0, 0, 0, 0, 0, 0, 0, 0, 0, 0, 0, 0, 0, 0, 0, 0, 0, 0, 0, 0, 0, 0, 0, 0, 0, 0, 0, 0, 0, 0, 0, 0, 0, 0, 0, 0, 0, 0, 0, 0, 0, 0, 0, 0, 0, 0, 0, 0, 0, 0, 0, 0, 0, 0, 0, 0, 0, 0, 0, 0, 0, 0, 0, 0, 0, 0, 0, 0, 0, 0, 0, 0, 0, 0, 0, 0, 0, 0, 0, 0, 0, 0, 0, 0, 0, 0, 0, 0, 0, 0, 0, 0, 0, 0, 0, 0, 0, 0, 0, 0, 0, 0, 0, 0, 0, 0, 0, 0, 0, 0, 0, 0, 0, 0, 0, 0, 0, 0, 0, 0, 0, 0, 0, 0, 0, 0, 0, 0, 0, 0, 0, 0, 0, 0, 0, 0, 0, 0, 0, 0, 0, 0, 0, 0, 0, 0, 0, 0, 0, 0, 0, 0, 0, 0, 0, 0, 0, 0, 0, 0, 0, 0, 0, 0, 0, 0, 0, 0, 0, 0, 0, 0, 0, 0, 0, 0, 0, 0, 0, 0, 0, 0, 0, 0, 0, 0, 0, 0, 0, 0, 0, 0, 0, 0, 0, 0, 0, 0, 0, 0, 0, 0, 0, 0, 0, 0, 0, 0, 0, 0, 0, 0, 0, 0, 0, 0, 0, 0, 0, 0, 0, 0, 0, 0, 0, 0, 0, 0, 0, 0, 0, 0, 0, 0, 0, 0, 0, 0, 0, 0, 0, 0, 0, 0, 0, 0, 0, 0, 0, 0, 0, 0, 0, 0, 0, 0, 0, 0, 0, 0, 0, 0, 0, 0, 0, 0, 0, 0, 0, 0, 0, 0, 0, 0, 0, 0, 0, 0, 0, 0, 0, 0, 0, 0, 0, 0, 0, 0, 0, 0, 0, 0, 0, 0, 0, 0, 0, 0, 0, 0, 0, 0, 0, 0, 0, 0, 0, 0, 0, 0, 0, 0, 0, 0, 0, 0, 0, 0, 0, 0, 0, 0, 0, 0, 0, 0, 0, 0, 0, 0, 0, 0, 0, 0, 0, 0, 0, 0, 0, 0, 0, 0, 0, 0, 0, 0, 0, 0, 0, 0, 0, 0, 0, 0, 0, 0, 0, 0, 0, 0, 0, 0, 0, 0, 0, 0, 0, 0, 0, 0, 0, 0, 0, 0, 0, 0, 0, 0, 0, 0, 0, 0, 0, 0, 0, 0, 0, 0, 0, 0, 0, 0, 0, 0, 0, 1, 0, 0, 0, 0, 0, 0, 0, 0, 0, 0, 0, 0, 0, 0, 0, 0, 0, 0, 0, 0, 0, 0, 0, 0, 0, 0, 0, 0, 0, 0, 0, 0, 0, 0, 0, 2, 0, 0, 0, 0, 0, 0, 0, 0, 0, 0, 0, 0, 0, 0, 0, 0, 0, 0, 0, 0, 0, 0, 0, 0, 0, 0, 0, 0, 0, 0, 0, 0, 0, 0, 0, 0, 0, 0, 0, 0, 1, 0, 0, 0, 0, 0, 0, 0, 0, 0, 0, 0, 0, 0, 0, 0, 0, 0, 0, 0, 0, 0, 0, 0, 0, 0, 0, 0, 0, 0, 0, 0, 0, 0, 0, 0, 0, 0, 0, 0, 0, 0, 0, 0, 0, 0, 0, 0, 0, 0, 0, 0, 0, 0, 0, 0, 0, 0, 0, 0, 0, 0, 0, 0, 0, 0, 0, 0, 0, 0, 0, 0, 0, 0, 0, 0, 0, 0, 0, 0, 0, 0, 0, 0, 0, 0, 0, 0, 0, 0, 0, 0, 0, 0, 0, 0, 0, 0, 0, 0, 0, 0, 0, 0, 0, 0, 0, 0, 0, 0, 0, 0, 0, 0, 0, 0, 0, 0, 0, 0, 0, 0, 0, 0, 0, 0, 0, 0, 0, 0, 0, 0, 0, 0, 0, 0, 0, 0, 0, 0, 0, 0, 0, 0, 0, 0, 0, 0, 0, 0, 0, 0, 0, 0, 0, 0, 0, 0, 0, 0, 0, 0, 0, 0, 0, 0, 0, 0, 0, 0, 0, 0, 0, 0, 0, 0, 0, 0, 0, 0, 0, 0, 0, 0, 0, 0, 0, 0, 0, 0, 0, 0, 0, 0, 0, 0, 0, 0, 0, 0, 0, 0, 0, 0, 0, 0, 0, 0, 0, 0, 0, 0, 0, 0, 0, 0, 0, 0, 0, 0, 0, 0, 0, 0, 0, 0, 0, 0, 0, 0, 0, 0, 0, 0, 0, 0, 0, 0, 0, 0, 0, 0, 0, 0, 0, 0, 0, 0, 0, 0, 0, 0, 0, 0, 0, 0, 0, 0, 0, 0, 0, 0, 0, 0, 0, 0, 0, 0, 0, 0, 0, 0, 0, 0, 0, 0, 0, 0, 0, 0, 0, 0, 0, 0, 0, 0, 0, 0, 0, 0, 0, 0, 0, 0, 0, 0, 0, 0, 0, 0, 0, 0, 0, 0, 0, 0, 0, 0, 0, 0, 0, 0, 0, 0, 0, 0, 0, 0, 0, 0, 0, 0, 0, 0, 0, 0, 0, 0, 0, 0, 0, 0, 0, 0, 0, 0, 0, 0, 0, 0, 0, 0, 0, 0, 0, 0, 0, 0, 0, 0, 0, 0, 0, 0, 0, 0, 0, 0, 0, 0, 0, 0, 0, 0, 0, 0, 0, 0, 0, 0, 0, 0, 0, 0, 0, 0, 0, 0, 0, 0, 0, 0, 0, 0, 0, 0, 0, 0, 0, 0, 0, 0, 0, 0, 0, 0, 0, 0, 0, 0, 0, 0, 0, 0, 0, 0, 0, 0, 0, 0, 0, 0, 0, 0, 0, 0, 0, 0, 0, 0, 0, 0, 0, 0, 0, 0, 0, 0, 0, 0, 0, 0, 0, 0, 0, 0, 0, 0, 0, 0, 0, 0, 0, 0, 0, 0, 0, 0, 0, 0, 0, 0, 0, 0, 0, 0, 0, 0, 0, 0, 0, 0, 0, 0, 0, 0, 0, 0, 0, 0, 0, 0, 0, 0, 0, 0, 0, 0, 0, 0, 0, 0, 0, 0, 0, 0, 0, 0, 0, 0, 0, 0, 0, 0, 0, 0, 0, 0, 1, 0, 0, 0, 0, 0, 0, 0, 0, 0, 0, 0, 0, 0, 0, 0, 0, 0, 0, 0, 0, 0, 0, 0, 0, 0, 0, 0, 0, 0, 0, 0, 0, 0, 0, 0, 0, 0, 0, 0, 0, 0, 0, 0, 0, 0, 0, 0, 0, 0, 0, 0, 0, 0, 0, 0, 0, 0, 0, 0, 0, 0, 0, 0, 0, 0, 0, 0, 0, 0, 0, 0, 0, 0, 0, 0, 0, 0, 0, 0, 0, 0, 0, 0, 0, 0, 0, 0, 0, 0, 0, 0, 0, 0, 0, 0, 0, 0, 0, 0, 0, 0, 0, 0, 0, 0, 0, 0, 0, 0, 0, 2, 0, 0, 0, 0, 0, 0, 0, 0, 0, 0, 0, 0, 0, 0, 0, 0, 0, 0, 0, 0, 0, 0, 0, 0, 0, 0, 0, 0, 0, 0, 0, 0, 0, 0, 0, 0, 0, 0, 0, 0, 0, 0, 0, 0, 0, 0, 0, 0, 0, 0, 0, 0, 0, 0, 0, 0, 0, 0, 0, 0, 0, 0, 0, 0, 0, 0, 0, 0, 0, 0, 0, 0, 0, 0, 0, 0, 0, 0, 0, 0, 0, 0, 0, 0, 0, 0, 0, 0, 0, 0, 0, 0, 0, 0, 0, 0, 0, 0, 0, 0, 0, 0, 0, 0, 0, 0, 0, 0, 0, 0, 0, 0, 0, 0, 0, 0, 0, 0, 0, 0, 0, 0, 0, 0, 0, 0, 0, 0, 0, 0, 0, 0, 0, 0, 0, 0, 0, 0, 0, 0, 0, 0, 0, 0, 0, 0, 0, 0, 0, 0, 0, 0, 0, 0, 0, 0, 0, 0, 0, 0, 0, 0, 0, 0, 0, 0, 0, 0, 0, 0, 0, 0, 0, 0, 0, 0, 0, 0, 0, 0, 0, 0, 0, 0, 0, 0, 0, 0, 0, 0, 0, 0, 0, 0, 0, 0, 0, 0, 0, 0, 0, 0, 0, 0, 0, 0, 0, 0, 0, 0, 0, 0, 0, 0, 0, 0, 0, 0, 0, 0, 0, 0, 0, 0, 0, 0, 0, 0, 0, 0, 0, 0, 0, 0, 0, 0, 0, 0, 0, 0, 0, 0, 0, 0, 0, 0, 0, 0, 0, 0, 0, 0, 0, 0, 0, 0, 0, 0, 0, 0, 0, 0, 0, 0, 0, 0, 0, 0, 0, 0, 0, 0, 0, 0, 0, 0, 0, 0, 0, 0, 0, 0, 0, 0, 0, 0, 0, 0, 0, 0, 0, 0, 0, 0, 0, 0, 0, 0, 0, 0, 0, 0, 0, 0, 0, 0, 0, 0, 0, 0, 0, 0, 0, 0, 0, 0, 0, 0, 0, 0, 0, 0, 0, 0, 0, 0, 0, 0, 0, 0, 0, 0, 0, 0, 0, 0, 0, 0, 0, 0, 0, 0, 0, 0, 0, 0, 0, 0, 0, 0, 0, 0, 0, 0, 0, 0, 0, 0, 0, 0, 0, 0, 0, 0, 0, 0, 0, 0, 0, 0, 0, 0, 0, 0, 0, 0, 0, 0, 0, 0, 0, 0, 0, 0, 0, 0, 0, 0, 0, 0, 0, 0, 0, 0, 0, 0, 0, 0, 0, 0, 0, 0, 0, 0, 0, 0, 0, 0, 0, 0, 0, 0, 0, 0, 0, 0, 0, 0, 0, 0, 0, 0, 0, 0, 0, 0, 0, 0, 0, 0, 0, 0, 0, 0, 0, 0, 0, 0, 0, 0, 0, 0, 0, 0, 0, 0, 0, 0, 0, 0, 0, 0, 0, 0, 0, 0, 0, 0, 0, 0, 0, 0, 0, 0, 0, 0, 0, 0, 0, 0, 0, 0, 0, 0, 0, 0, 0, 0, 0, 0, 0, 0, 0, 0, 0, 0, 0, 0, 0, 0, 0, 0, 0, 0, 0, 0, 0, 0, 0, 0, 0, 0, 0, 0, 0, 0, 0, 0, 0, 0, 0, 0, 0, 0, 0, 0, 0, 0, 0, 0, 0, 0, 0, 0, 0, 0, 0, 0, 0, 0, 0, 0, 0, 0, 0, 0, 0, 0, 0, 0, 0, 0, 0, 0, 0, 0, 0, 0, 0, 0, 0, 0, 0, 0, 0, 0, 0, 0, 0, 0, 0, 0, 0, 0, 0, 0, 0, 0, 0, 0, 0, 0, 0, 0, 0, 0, 0, 0, 0, 0, 0, 0, 0, 0, 0, 0, 0, 0, 0, 0, 0, 0, 0, 0, 0, 0, 0, 0, 0, 0, 0, 0, 0, 0, 0, 0, 0, 0, 0, 0, 0, 0, 0, 0, 0, 0, 0, 0, 0, 0, 0, 0, 0, 0, 0, 0, 0, 0, 0, 0, 0, 0, 0, 0, 0, 0, 0, 0, 0, 0, 0, 0, 0, 0, 0, 0, 0, 0, 0, 0, 0, 0, 0, 0, 0, 0, 0, 0, 0, 0, 0, 0, 0, 0, 0, 0, 0, 0, 0, 0, 0, 0, 0, 0, 0, 0, 0, 0, 0, 0, 0, 0, 0, 0, 0, 0, 0, 0, 0, 0, 1, 0, 0, 0, 0, 0, 0, 0, 0, 0, 0, 0, 0, 0, 0, 0, 0, 0, 0, 0, 0, 0, 0, 0, 0, 0, 0, 0, 0, 0, 0, 0, 0, 0, 0, 0, 0, 0, 0, 0, 0, 0, 0, 0, 0, 0, 0, 0, 0, 0, 0, 0, 0, 0, 0, 0, 0, 0, 0, 0, 0, 0, 0, 0, 0, 0, 0, 0, 0, 0, 0, 0, 0, 0, 0, 0, 0, 0, 0, 0, 0, 0, 0, 0, 0, 0, 0, 0, 0, 0, 0, 0, 0, 0, 0, 0, 0, 0, 0, 0, 0, 0, 0, 0, 0, 0, 0, 0, 1, 0, 0, 0, 0, 0, 0, 0, 0, 0, 0, 0, 0, 0, 0, 0, 0, 0, 0, 0, 0, 0, 0, 0, 0, 0, 0, 0, 0, 0, 0, 0, 0, 0, 0, 0, 0, 0, 0, 0, 0, 0, 0, 0, 0, 0, 0, 0, 0, 0, 0, 0, 0, 0, 0, 0, 0, 0, 0, 0, 0, 0, 0, 0, 0, 0, 0, 0, 0, 0, 0, 0, 0, 0, 0, 0, 0, 0, 0, 0, 0, 0, 0, 0, 0, 0, 0, 0, 0, 0, 0, 0, 0, 0, 0, 0, 0, 0, 0, 0, 0, 0, 0, 0, 0, 0, 0, 0, 0, 0, 0, 0, 0, 0, 0, 0, 0, 0, 0, 0, 0, 0, 0, 0, 0, 0, 0, 0, 0, 0, 0, 0, 0, 0, 0, 0, 0, 0, 0, 0, 0, 0, 0, 0, 0, 0, 0, 0, 0, 0, 0, 0, 0, 0, 0, 0, 0, 0, 0, 0, 0, 0, 0, 0, 0, 0, 0, 0, 0, 0, 0, 0, 0, 0, 0, 0, 0, 0, 0, 0, 0, 0, 0, 0, 0, 0, 0, 0, 0, 0, 0, 0, 0, 0, 0, 0, 0, 0, 0, 0, 0, 0, 0, 0, 0, 0, 0, 0, 0, 0, 0, 0, 0, 0, 0, 0, 0, 0, 0, 0, 0, 0, 0, 0, 0, 0, 0, 0, 0, 0, 0, 0, 0, 0, 0, 0, 0, 0, 0, 0, 0, 0, 0, 0, 0, 0, 0, 0, 0, 0, 0, 0, 0, 0, 0, 0, 0, 0, 0, 0, 0, 0, 0, 0, 0, 0, 0, 0, 0, 0, 0, 0, 0, 0, 0, 0, 0, 0, 0, 0, 0, 0, 0, 0, 0, 0, 0, 0, 0, 0, 0, 0, 0, 0, 0, 0, 0, 0, 0, 0, 0, 0, 0, 0, 0, 0, 0, 0, 0, 0, 0, 0, 0, 0, 0, 0, 0, 0, 0, 0, 0, 0, 0, 0, 0, 0, 0, 0, 0, 0, 0, 0, 0, 0, 0, 0, 0, 0, 0, 0, 0, 0, 0, 0, 0, 0, 0, 0, 0, 0, 0, 0, 0, 0, 0, 0, 0, 0, 0, 0, 0, 0, 0, 0, 0, 0, 0, 0, 0, 0, 0, 0, 0, 0, 0, 0, 0, 0, 0, 0, 0, 0, 0, 0, 0, 0, 0, 0, 0, 0, 0, 0, 0, 0, 0, 0, 0, 0, 0, 0, 0, 0, 0, 0, 0, 0, 0, 0, 0, 0, 0, 0, 0, 0, 0, 0, 0, 0, 0, 0, 0, 0, 0, 0, 0, 0, 0, 0, 0, 0, 0, 0, 0, 0, 0, 0, 0, 0, 0, 0, 0, 0, 0, 0, 0, 0, 0, 0, 0, 0, 0, 0, 0, 0, 0, 0, 0, 0, 0, 0, 0, 0, 0, 0, 2, 0, 1, 0], type: <class 'list'>, valid types: <class 'bytes'>, <class 'bytearray'>, file-like object"
     ]
    }
   ],
   "source": [
    "response = runtime.invoke_endpoint(EndpointName = xgb_predictor.endpoint, # The name of the endpoint we created\n",
    "                                       ContentType = 'text/csv',                     # The data format that is expected\n",
    "                                       Body = test_bow)"
   ]
  },
  {
   "cell_type": "markdown",
   "metadata": {},
   "source": [
    "So why did we get an error?\n",
    "\n",
    "Because we tried to send the endpoint a list of integers but it expected us to send data of type `text/csv`. So, we need to convert it."
   ]
  },
  {
   "cell_type": "code",
   "execution_count": 47,
   "metadata": {},
   "outputs": [],
   "source": [
    "response = runtime.invoke_endpoint(EndpointName = xgb_predictor.endpoint, # The name of the endpoint we created\n",
    "                                       ContentType = 'text/csv',                     # The data format that is expected\n",
    "                                       Body = ','.join([str(val) for val in test_bow]).encode('utf-8'))"
   ]
  },
  {
   "cell_type": "code",
   "execution_count": 48,
   "metadata": {},
   "outputs": [
    {
     "name": "stdout",
     "output_type": "stream",
     "text": [
      "{'ResponseMetadata': {'RequestId': '10d5360d-a4f9-4630-9842-02923165cf19', 'HTTPStatusCode': 200, 'HTTPHeaders': {'x-amzn-requestid': '10d5360d-a4f9-4630-9842-02923165cf19', 'x-amzn-invoked-production-variant': 'AllTraffic', 'date': 'Tue, 12 May 2020 19:13:08 GMT', 'content-type': 'text/csv; charset=utf-8', 'content-length': '14'}, 'RetryAttempts': 0}, 'ContentType': 'text/csv; charset=utf-8', 'InvokedProductionVariant': 'AllTraffic', 'Body': <botocore.response.StreamingBody object at 0x7f914ef18dd8>}\n"
     ]
    }
   ],
   "source": [
    "print(response)"
   ]
  },
  {
   "cell_type": "markdown",
   "metadata": {},
   "source": [
    "As we can see, the response from our model is a somewhat complicated looking dict that contains a bunch of information. The bit that we are most interested in is `'Body'` object which is a streaming object that we need to `read` in order to make use of."
   ]
  },
  {
   "cell_type": "code",
   "execution_count": 49,
   "metadata": {},
   "outputs": [
    {
     "name": "stdout",
     "output_type": "stream",
     "text": [
      "0.374771028757\n"
     ]
    }
   ],
   "source": [
    "response = response['Body'].read().decode('utf-8')\n",
    "print(response)"
   ]
  },
  {
   "cell_type": "markdown",
   "metadata": {},
   "source": [
    "Now that we know how to process the incoming user data we can start setting up the infrastructure to make our simple web app work. To do this we will make use of two different services. Amazon's Lambda and API Gateway services.\n",
    "\n",
    "Lambda is a service which allows someone to write some relatively simple code and have it executed whenever a chosen trigger occurs. For example, you may want to update a database whenever new data is uploaded to a folder stored on S3.\n",
    "\n",
    "API Gateway is a service that allows you to create HTTP endpoints (url addresses) which are connected to other AWS services. One of the benefits to this is that you get to decide what credentials, if any, are required to access these endpoints.\n",
    "\n",
    "In our case we are going to set up an HTTP endpoint through API Gateway which is open to the public. Then, whenever anyone sends data to our public endpoint we will trigger a Lambda function which will send the input (in our case a review) to our model's endpoint and then return the result."
   ]
  },
  {
   "cell_type": "markdown",
   "metadata": {},
   "source": [
    "### Setting up a Lambda function\n",
    "\n",
    "The first thing we are going to do is set up a Lambda function. This Lambda function will be executed whenever our public API has data sent to it. When it is executed it will receive the data, perform any sort of processing that is required, send the data (the review) to the SageMaker endpoint we've created and then return the result.\n",
    "\n",
    "#### Part A: Create an IAM Role for the Lambda function\n",
    "\n",
    "Since we want the Lambda function to call a SageMaker endpoint, we need to make sure that it has permission to do so. To do this, we will construct a role that we can later give the Lambda function.\n",
    "\n",
    "Using the AWS Console, navigate to the **IAM** page and click on **Roles**. Then, click on **Create role**. Make sure that the **AWS service** is the type of trusted entity selected and choose **Lambda** as the service that will use this role, then click **Next: Permissions**.\n",
    "\n",
    "In the search box type `sagemaker` and select the check box next to the **AmazonSageMakerFullAccess** policy. Then, click on **Next: Review**.\n",
    "\n",
    "Lastly, give this role a name. Make sure you use a name that you will remember later on, for example `LambdaSageMakerRole`. Then, click on **Create role**."
   ]
  },
  {
   "cell_type": "markdown",
   "metadata": {},
   "source": [
    "#### Part B: Create a Lambda function\n",
    "\n",
    "Now it is time to actually create the Lambda function. Remember from earlier that in order to process the user provided input and send it to our endpoint we need to gather two pieces of information:\n",
    "\n",
    " - The name of the endpoint, and\n",
    " - the vocabulary object.\n",
    "\n",
    "We will copy these pieces of information to our Lambda function after we create it.\n",
    "\n",
    "To start, using the AWS Console, navigate to the AWS Lambda page and click on **Create a function**. When you get to the next page, make sure that **Author from scratch** is selected. Now, name your Lambda function, using a name that you will remember later on, for example `sentiment_analysis_xgboost_func`. Make sure that the **Python 3.6** runtime is selected and then choose the role that you created in the previous part. Then, click on **Create Function**.\n",
    "\n",
    "On the next page you will see some information about the Lambda function you've just created. If you scroll down you should see an editor in which you can write the code that will be executed when your Lambda function is triggered. Collecting the code we wrote above to process a single review and adding it to the provided example `lambda_handler` we arrive at the following.\n",
    "\n",
    "```python\n",
    "# We need to use the low-level library to interact with SageMaker since the SageMaker API\n",
    "# is not available natively through Lambda.\n",
    "import boto3\n",
    "\n",
    "# And we need the regular expression library to do some of the data processing\n",
    "import re\n",
    "\n",
    "REPLACE_NO_SPACE = re.compile(\"(\\.)|(\\;)|(\\:)|(\\!)|(\\')|(\\?)|(\\,)|(\\\")|(\\()|(\\))|(\\[)|(\\])\")\n",
    "REPLACE_WITH_SPACE = re.compile(\"(<br\\s*/><br\\s*/>)|(\\-)|(\\/)\")\n",
    "\n",
    "def review_to_words(review):\n",
    "    words = REPLACE_NO_SPACE.sub(\"\", review.lower())\n",
    "    words = REPLACE_WITH_SPACE.sub(\" \", words)\n",
    "    return words\n",
    "    \n",
    "def bow_encoding(words, vocabulary):\n",
    "    bow = [0] * len(vocabulary) # Start by setting the count for each word in the vocabulary to zero.\n",
    "    for word in words.split():  # For each word in the string\n",
    "        if word in vocabulary:  # If the word is one that occurs in the vocabulary, increase its count.\n",
    "            bow[vocabulary[word]] += 1\n",
    "    return bow\n",
    "\n",
    "\n",
    "def lambda_handler(event, context):\n",
    "    \n",
    "    vocab = \"*** ACTUAL VOCABULARY GOES HERE ***\"\n",
    "    \n",
    "    words = review_to_words(event['body'])\n",
    "    bow = bow_encoding(words, vocab)\n",
    "\n",
    "    # The SageMaker runtime is what allows us to invoke the endpoint that we've created.\n",
    "    runtime = boto3.Session().client('sagemaker-runtime')\n",
    "\n",
    "    # Now we use the SageMaker runtime to invoke our endpoint, sending the review we were given\n",
    "    response = runtime.invoke_endpoint(EndpointName = '***ENDPOINT NAME HERE***',# The name of the endpoint we created\n",
    "                                       ContentType = 'text/csv',                 # The data format that is expected\n",
    "                                       Body = ','.join([str(val) for val in bow]).encode('utf-8')) # The actual review\n",
    "\n",
    "    # The response is an HTTP response whose body contains the result of our inference\n",
    "    result = response['Body'].read().decode('utf-8')\n",
    "    \n",
    "    # Round the result so that our web app only gets '1' or '0' as a response.\n",
    "    result = round(float(result))\n",
    "\n",
    "    return {\n",
    "        'statusCode' : 200,\n",
    "        'headers' : { 'Content-Type' : 'text/plain', 'Access-Control-Allow-Origin' : '*' },\n",
    "        'body' : str(result)\n",
    "    }\n",
    "```"
   ]
  },
  {
   "cell_type": "markdown",
   "metadata": {},
   "source": [
    "Once you have copy and pasted the code above into the Lambda code editor, replace the `**ENDPOINT NAME HERE**` portion with the name of the endpoint that we deployed earlier. You can determine the name of the endpoint using the code cell below."
   ]
  },
  {
   "cell_type": "code",
   "execution_count": 50,
   "metadata": {},
   "outputs": [
    {
     "data": {
      "text/plain": [
       "'xgboost-2020-05-12-17-02-53-629'"
      ]
     },
     "execution_count": 50,
     "metadata": {},
     "output_type": "execute_result"
    }
   ],
   "source": [
    "xgb_predictor.endpoint"
   ]
  },
  {
   "cell_type": "markdown",
   "metadata": {},
   "source": [
    "In addition, you will need to copy the vocabulary dict to the appropriate place in the code at the beginning of the `lambda_handler` method. The cell below prints out the vocabulary dict in a way that is easy to copy and paste."
   ]
  },
  {
   "cell_type": "code",
   "execution_count": 51,
   "metadata": {},
   "outputs": [
    {
     "name": "stdout",
     "output_type": "stream",
     "text": [
      "{'best': 469, 'stephen': 4176, 'king': 2479, 'film': 1716, 'alongside': 196, 'it': 2366, 'though': 4461, 'this': 4457, 'one': 3107, 'is': 2360, 'more': 2904, 'fun': 1848, 'than': 4420, 'scary': 3807, 'ones': 3108, 'got': 1944, 'all': 187, 'great': 1964, 'cast': 710, 'with': 4911, 'alice': 182, 'and': 226, 'brian': 576, 'cameo': 657, 'from': 1840, 'himself': 2111, 'well': 4843, 'horror': 2168, 'in': 2257, 'an': 223, 'amusing': 221, 'storyline': 4208, 'use': 4692, 'of': 3083, 'music': 2946, 'particular': 3194, 'characters': 760, 'typical': 4623, 'setting': 3900, 'middle': 2833, 'nowhere': 3056, 'village': 4743, 'lots': 2662, 'humor': 2192, 'you': 4986, 'cant': 671, 'really': 3556, 'get': 1899, 'good': 1937, 'scares': 3806, 'here': 2086, 'because': 432, 'its': 2370, 'too': 4522, 'much': 2934, 'over': 3148, 'the': 4426, 'top': 4525, 'old': 3100, 'but': 636, 'nice': 3008, 'makeup': 2717, 'effects': 1431, 'like': 2599, 'they': 4442, 'dont': 1324, 'make': 2713, 'anymore': 258, '45': 50, 'rating': 3529, 'when': 4862, 'was': 4805, 'last': 2521, 'time': 4495, 'as': 311, 'saw': 3798, 'few': 1700, 'expectations': 1576, 'absolutely': 72, 'loved': 2670, 'fairly': 1631, 'coming': 896, 'age': 148, 'movie': 2926, 'about': 67, 'girl': 1909, 'role': 3726, 'playing': 3300, 'teenager': 4390, 'england': 1482, 'who': 4871, 'caught': 722, 'between': 475, 'her': 2085, 'traditional': 4550, 'indian': 2274, 'family': 1645, 'love': 2669, 'football': 1783, 'thats': 4425, 'soccer': 4048, 'to': 4507, 'us': 4690, 'north': 3036, 'americans': 214, 'even': 1533, 'shes': 3930, 'actually': 109, 'older': 3101, 'character': 758, 'she': 3923, 'plays': 3301, 'pitch': 3279, 'perfect': 3224, 'friendship': 1838, 'specifically': 4100, 'also': 199, 'going': 1931, 'through': 4477, 'issues': 2365, 'especially': 1520, 'mom': 2885, 'wears': 4832, 'purple': 3473, 'nail': 2957, 'little': 2624, 'on': 3105, 'shoes': 3941, 'wants': 4791, 'be': 418, 'wear': 4830, 'boys': 559, 'that': 4424, 'sports': 4130, 'means': 2783, 'daughter': 1121, 'lesbian': 2573, 'both': 547, 'game': 1864, 'have': 2052, 'trying': 4601, 'convince': 983, 'their': 4431, 'families': 1644, 'let': 2579, 'them': 4432, 'go': 1924, 'after': 143, 'dreams': 1355, 'unfortunately': 4654, 'same': 3778, 'man': 2721, 'joe': 2407, 'coach': 868, 'played': 3297, 'by': 642, 'jonathan': 2417, 'causes': 725, 'some': 4061, 'spots': 4132, 'falls': 1640, 'into': 2332, 'clichés': 846, 'others': 3136, 'scenes': 3811, 'drag': 1342, 'far': 1653, 'long': 2644, 'probably': 3407, 'could': 1007, 'overall': 3150, 'editing': 1421, 'growing': 1983, 'up': 4683, 'culture': 1079, 'female': 1693, 'chasing': 772, 'your': 4991, 'supporting': 4304, 'friends': 1837, 'funny': 1852, 'charming': 768, 'did': 1241, 'excellent': 1555, '10': 0, 'look': 2646, 'for': 1784, 'sit': 4003, 'back': 378, 'popcorn': 3331, 'enjoy': 1484, 'stars': 4155, 'pop': 3330, 'classic': 835, 'cartoon': 704, 'villains': 4745, 'live': 2625, 'action': 100, 'comedy': 890, 'which': 4867, 'features': 1680, 'incredible': 2269, 'set': 3898, 'design': 1202, 'not': 3040, 'mention': 2810, 'performances': 3229, 'beatty': 427, 'madonna': 2699, 'pacino': 3164, 'kids': 2467, 'adults': 126, 'alike': 185, 'out': 3141, 'while': 4868, 'seemingly': 3863, 'based': 404, 'off': 3084, 'title': 4504, 'released': 3603, 'mgm': 2828, 'starring': 4154, 'still': 4188, 'danny': 1112, 'glover': 1923, 'his': 2118, 'brings': 587, 'george': 1893, 'down': 1335, 'luck': 2681, 'baseball': 403, 'manager': 2724, 'short': 3946, 'life': 2592, 'being': 448, 'how': 2181, 'adding': 117, 'christopher': 811, 'lloyd': 2630, 'stage': 4139, 'experience': 1580, 'works': 4945, 'shows': 3960, 'screen': 3829, 'wonderful': 4928, 'actor': 103, 'joseph': 2419, 'gordon': 1940, 'third': 4455, 'rock': 3720, 'sun': 4292, 'brenda': 575, 'irish': 2353, 'actress': 105, 'tony': 4521, 'yes': 4982, 'he': 2056, 'matthew': 2772, 'stole': 4194, 'show': 3953, 'confused': 941, 'may': 2775, 'exposure': 1599, 'what': 4858, 'said': 3774, 'goes': 1930, 'except': 1556, 'part': 3193, 'actors': 104, 'taylor': 4372, 'david': 1124, 'jay': 2386, 'veteran': 4724, 'final': 1722, 'ben': 463, 'johnson': 2411, 'hank': 2024, 'murphy': 2944, 'owner': 3159, 'california': 650, 'angels': 234, 'rest': 3657, 'does': 1308, 'job': 2405, 'plus': 3311, 'pretty': 3384, 'anyone': 259, 'care': 684, 'depression': 1189, 'youre': 4992, 'kid': 2464, 'memories': 2803, 'watch': 4811, 'today': 4508, 'need': 2987, 'dvd': 1391, 'recommend': 3571, 'any': 256, 'parent': 3187, 'whos': 4876, 'looking': 2648, 'something': 4066, 'seen': 3865, 'everybody': 1540, 'else': 1448, 'matter': 2769, 'cinema': 816, 'at': 331, 'very': 4723, 'fond': 1776, 'vivid': 4760, 'seeing': 3857, 'adult': 125, 'allows': 192, 'catch': 714, 'references': 3583, 'are': 285, 'way': 4820, 'heads': 2059, 'target': 4366, 'audience': 352, 'bit': 488, 'where': 4864, 'grey': 1973, 'witch': 4909, 'ripped': 3701, 'knew': 2486, 'had': 2003, 'brown': 601, 'roots': 3738, 'course': 1019, 'heavily': 2069, 'influenced': 2287, 'power': 3359, 'ways': 4822, 'quite': 3495, 'track': 4544, 'different': 1248, 'example': 1553, 'sends': 3876, 'clear': 839, 'message': 2819, 'young': 4989, 'viewers': 4739, 'yourself': 4993, 'running': 3756, 'pack': 3165, 'gay': 1876, 'community': 908, 'should': 3951, 'witches': 4910, 'living': 2629, 'island': 2361, 'give': 1912, 'suits': 4287, 'includes': 2263, 'billy': 482, 'felix': 1689, 'other': 3135, 'famous': 1647, 'names': 2963, 'there': 4438, 'lot': 2661, 'acting': 99, 'theres': 4440, 'nothing': 3047, 'subtle': 4260, 'jack': 2373, 'wild': 4885, 'has': 2043, 'concern': 931, 'kidnapped': 2466, 'yelling': 4980, 'drama': 1346, 'spread': 4133, 'think': 4452, 'never': 3001, 'stand': 4143, 'soundtrack': 4085, 'above': 68, 'mentioned': 2811, 'world': 4946, 'touching': 4536, 'if': 2222, 'whats': 4860, 'now': 3054, 'cd': 728, 'people': 3221, 'london': 2641, 'see': 3855, 'artists': 309, 'most': 2909, 'dreadful': 1353, 'things': 4451, 'ever': 1538, 'please': 3304, 'do': 1302, 'favor': 1670, 'avoid': 363, 'incompetent': 2266, 'camera': 659, 'having': 2054, 'count': 1010, 'direction': 1261, 'needed': 2988, 'writing': 4971, 'rather': 3528, 'we': 4823, 'were': 4848, 'left': 2561, 'bunch': 623, 'completely': 922, 'artificial': 306, 'directed': 1259, 'pseudo': 3454, 'documentary': 1307, 'style': 4249, 'those': 4460, 'know': 2489, 'direct': 1258, 'gives': 1914, 'impression': 2252, 'done': 1322, 'appeal': 271, 'critics': 1064, 'first': 1736, 'thing': 4450, 'making': 2718, 'just': 2437, 'terrible': 4407, 'says': 3801, 'become': 433, 'victor': 4731, 'guy': 2000, 'real': 3547, 'genius': 1887, 'quality': 3484, 'entertaining': 1499, 'didnt': 1242, 'before': 440, 'learned': 2551, 'timeless': 4496, 'my': 2951, 'heart': 2064, 'so': 4046, 'many': 2732, 'years': 4979, 'waited': 4771, 'story': 4207, 'ready': 3546, 'perhaps': 3235, 'possible': 3350, 'would': 4957, 'appreciated': 280, 'welcome': 4842, 'soul': 4079, 'respect': 3652, 'paul': 3214, 'been': 438, 'legendary': 2565, 'finally': 1724, 'discovered': 1280, 'priceless': 3390, 'splendid': 4119, 'talents': 4356, 'oh': 3096, 'faces': 1618, 'can': 665, 'speak': 4094, 'silent': 3975, 'might': 2835, 'speech': 4102, 'enough': 1491, 'given': 1913, 'chance': 747, 'deserved': 1200, 'oscar': 3133, 'epic': 1506, 'classical': 836, 'parts': 3199, 'equal': 1509, 'necessary': 2984, 'walk': 4775, 'away': 369, 'wish': 4904, 'storytelling': 4209, 'stays': 4169, 'lifetime': 2594, 'earth': 1403, 'expect': 1575, 'will': 4886, 'come': 886, 'joy': 2422, 'only': 3110, 'hope': 2155, 'remembered': 3617, 'me': 2778, 'mere': 2814, 'regarding': 3589, 'race': 3499, 'principal': 3398, 'players': 3299, 'these': 4441, 'modern': 2882, 'times': 4497, 'obsessed': 3069, 'utter': 4701, 'perfection': 3225, 'dare': 1113, 'million': 2847, 'score': 3822, 'films': 1721, 'tell': 4395, 'pearl': 3220, 'bucks': 606, 'such': 4268, 'grace': 1950, 'artist': 307, 're': 3535, 'masterpiece': 2759, 'warn': 4797, 'close': 853, 'core': 995, 'telling': 4396, 'effort': 1432, 'nor': 3032, 'progress': 3425, 'improve': 2254, 'upon': 4684, 'magnificent': 2705, 'decent': 1147, 'understand': 4643, 'getting': 1901, 'necessarily': 2983, 'mean': 2779, 'youve': 4995, 'gone': 1935, 'school': 3813, 'shooting': 3943, 'becomes': 434, 'event': 1535, 'whatever': 4859, 'reason': 3557, 'pain': 3170, 'endure': 1475, 'case': 707, 'contrast': 975, 'rage': 3505, 'obsession': 3070, 'creates': 1038, 'atmosphere': 333, 'halfway': 2008, 'wonder': 4926, 'director': 1264, 'possibly': 3351, 'pull': 3461, 'happy': 2032, 'ending': 1471, 'hat': 2045, 'thankfully': 4422, 'credit': 1049, 'human': 2188, 'beings': 449, 'our': 3139, 'intelligence': 2313, 'sappy': 3784, 'beyond': 476, 'try': 4600, 'keep': 2449, 'head': 2057, 'movies': 2927, 'fiction': 1702, 'yet': 4984, 'must': 2950, 'admit': 122, 'cried': 1054, 'lost': 2660, 'baby': 376, 'during': 1387, 'certain': 737, 'hit': 2122, 'home': 2142, 'opened': 3113, 'bad': 382, 'wife': 4884, 'watched': 4813, 'twice': 4613, 'used': 4693, 'military': 2844, 'besides': 468, 'hell': 2077, 'offers': 3090, 'realistic': 3550, 'view': 4736, 'navy': 2976, 'perspective': 3245, 'tells': 4397, 'collection': 874, 'predictable': 3367, 'everyone': 1542, 'either': 1438, 'snow': 4045, 'white': 4870, 'pure': 3471, 'or': 3124, 'wholly': 4874, 'evil': 1548, 'stilted': 4190, 'disappointing': 1274, 'bette': 471, 'davis': 1126, 'fan': 1648, 'typically': 4624, 'type': 4621, 'gets': 1900, 'whole': 4873, 'neither': 2996, 'found': 1811, 'interesting': 2325, 'moving': 2928, 'enjoyable': 1485, 'vampires': 4712, 'sexy': 3911, 'guys': 2001, 'guns': 1998, 'blood': 512, 'ask': 316, 'moon': 2900, 'child': 789, 'delivers': 1172, 'nicely': 3009, 'flick': 1754, 'innocent': 2294, 'vampire': 4711, 'hyde': 2206, 'relationship': 3597, 'grows': 1985, 'ages': 152, 'breaks': 571, 'doesnt': 1309, 'help': 2079, 'fall': 1637, 'woman': 4921, 'special': 4097, 'considering': 952, 'small': 4033, 'budget': 610, 'emotions': 1461, 'laugh': 2529, 'cry': 1073, 'then': 4436, 'alone': 194, 'arthur': 305, 'miller': 2846, 'fields': 1705, 'line': 2610, 'god': 1926, 'disgusting': 1286, 'window': 4894, 'door': 1328, 'robert': 3713, 'jr': 2423, 'work': 4940, 'together': 4511, 'until': 4680, 'finds': 1728, 'soap': 4047, 'opera': 3116, 'turn': 4605, 'every': 1539, 'scene': 3809, 'near': 2979, 'end': 1468, 'chinese': 796, 'area': 286, 'rolling': 3730, 'floor': 1759, 'worth': 4953, 'rental': 3627, 'price': 3389, 'solve': 4060, 'problems': 3409, 'tv': 4610, 'unhappy': 4656, 'multi': 2935, 'attracted': 349, 'below': 462, 'him': 2110, 'social': 4049, 'standing': 4146, 'pays': 3218, 'opening': 3114, 'sometimes': 4067, 'driving': 1368, 'drinking': 1362, 'behind': 447, 'reality': 3551, 'john': 2409, 'created': 1037, 'talk': 4358, 'moore': 2901, 'moments': 2887, 'youll': 4988, 'remember': 3616, 'provide': 3448, 'main': 2707, 'liking': 2604, 'danes': 1108, 'friend': 1835, 'arrested': 298, 'solid': 4057, 'keeping': 2450, 'guessing': 1991, 'whether': 4866, 'girls': 1911, 'involved': 2346, 'bill': 481, 'sleazy': 4023, 'lawyer': 2541, 'kim': 2475, 'turns': 4609, 'terrific': 4409, 'performance': 3228, 'kind': 2476, 'attorney': 348, 'prison': 3401, 'another': 250, 'suggested': 4281, 'ive': 2372, 'heard': 2062, 'brutal': 603, 'however': 2183, 'subjects': 4254, 'herself': 2092, 'sentence': 3881, 'total': 4531, 'realize': 3552, 'wins': 4899, 'extra': 1606, 'points': 3319, 'acted': 98, 'certainly': 738, 'known': 2492, 'corrupt': 1001, 'format': 1799, 'harvey': 2042, 'frank': 1821, 'gritty': 1977, 'powerful': 3360, 'police': 3322, 'thriller': 4472, 'italian': 2367, 'put': 3480, 'player': 3298, 'pulls': 3464, 'big': 478, 'plastic': 3294, 'puts': 3481, 'sort': 4077, 'mechanical': 2788, 'arm': 292, 'touches': 4535, 'causing': 726, 'point': 3316, 'gave': 1875, 'no': 3020, 'clue': 864, 'made': 2697, '20': 29, 'ago': 154, 'poor': 3328, 'production': 3419, 'values': 4710, 'american': 213, 'exception': 1557, 'awful': 372, 'johnny': 2410, 'rotten': 3740, 'bizarre': 492, 'cinematography': 820, 'picture': 3269, 'sound': 4081, 'giving': 1915, 'watching': 4815, 'fourth': 1813, 'generation': 1883, 'copy': 994, 'don': 1320, 'print': 3399, 'worst': 4952, 'impossible': 2249, 'irritating': 2359, 'clint': 850, 'eastwood': 1409, 'westerns': 4854, 'pity': 3281, 'greatest': 1966, 'psycho': 3457, 'hold': 2129, 'interest': 2323, 'always': 203, 'violent': 4748, 'cop': 991, 'match': 2762, 'high': 2100, 'standards': 4145, 'pass': 3201, 'historical': 2119, 'value': 4709, 'portrayal': 3341, 'reminded': 3619, 'cheap': 774, 'twist': 4617, 'facts': 1624, 'birth': 486, 'pregnant': 3369, 'queen': 3485, 'bother': 548, 'room': 3735, 'tried': 4584, 'appear': 273, 'gods': 1928, 'sake': 3775, 'justify': 2439, 'own': 3158, 'sister': 4001, 'description': 1197, 'decisions': 1152, 'anything': 260, 'feelings': 1686, 'everything': 1544, 'two': 4620, 'reasons': 3560, 'self': 3869, 'survival': 4320, 'stood': 4199, 'murdered': 2940, 'brothers': 599, 'mark': 2739, 'anthony': 253, 'kill': 2468, 'cutting': 1092, 'chase': 769, 'amazing': 209, 'intense': 2316, 'barely': 399, 'feel': 1684, 'theatre': 4429, 'staring': 4152, 'fifteen': 1706, 'minutes': 2859, 'find': 1726, 'describe': 1194, 'failing': 1627, 'aspect': 321, 'video': 4733, 'events': 1536, 'force': 1786, 'seems': 3864, 'laughable': 2530, 'killer': 2470, 'normal': 3033, 'killers': 2471, 'mouth': 2920, 'regular': 3592, 'theyre': 4445, 'chilling': 794, 'thought': 4462, 'brother': 598, 'offered': 3088, 'producers': 3416, '50s': 52, 'musical': 2947, 'unit': 4663, 'gene': 1879, 'kelly': 2452, 'among': 217, 'broadway': 592, 'opinion': 3118, 'period': 3236, 'male': 2719, 'dancers': 1105, 'guess': 1989, 'imagine': 2238, 'casting': 711, 'doubt': 1332, 'needs': 2990, 'explanation': 1590, 'noted': 3045, 'personality': 3242, 'actual': 108, 'talented': 4355, 'leslie': 2574, 'unknown': 4668, 'french': 1830, 'dancer': 1104, 'beauty': 430, 'greek': 1970, 'ok': 3098, 'voice': 4761, 'better': 472, 'equipment': 1511, 'elsewhere': 1449, 'obviously': 3072, 'rain': 3506, 'original': 3129, 'joey': 2408, 'pal': 3177, 'children': 792, 'intended': 2315, 'highlight': 2103, 'lengthy': 2570, 'ballet': 389, 'sets': 3899, 'costumes': 1006, 'styles': 4250, 'difficult': 1249, 'believe': 454, 'struggling': 4236, 'numbers': 3061, 'balance': 387, 'served': 3894, 'fine': 1729, 'graphics': 1959, 'supposed': 4306, 'shallow': 3917, 'losing': 2658, 'trail': 4553, 'boss': 546, 'winds': 4895, 'gold': 1932, 'reputation': 3640, 'chances': 748, 'able': 66, 'return': 3665, 'states': 4163, 'take': 4349, 'past': 3207, 'comes': 891, 'calling': 653, 'western': 4853, 'favorite': 1671, 'unless': 4669, 'somebody': 4062, 'idea': 2213, 'looks': 2649, 'pointless': 3318, 'new': 3003, 'york': 4985, 'press': 3379, 'agent': 150, 'basically': 407, 'important': 2247, 'takes': 4351, 'hard': 2033, 'thinking': 4453, 'figure': 1711, 'meaningless': 2782, 'dull': 1384, 'al': 170, 'second': 3846, 'year': 4978, 'deserves': 1201, 'boring': 543, 'motion': 2913, 'guilt': 1994, 'pleasure': 3306, 'trailer': 4554, 'advertising': 132, 'figured': 1712, 'why': 4878, 'check': 777, 'say': 3799, 'harris': 2038, 'believable': 453, 'although': 201, 'accents': 79, 'dialogue': 1234, 'touched': 4534, 'showed': 3956, 'deep': 1154, 'simply': 3986, 'grew': 1972, 'passion': 3205, 'personal': 3240, 'wishing': 4907, 'theyd': 4443, 'snl': 4044, 'reunion': 3669, 'worlds': 4947, 'gain': 1863, 'greater': 1965, 'appreciation': 281, 'later': 2525, 'appeared': 276, 'sounds': 4084, 'missing': 2869, 'since': 3990, 'occurs': 3078, 'worked': 4941, 'okay': 3099, 'apart': 264, 'minor': 2857, 'cute': 1090, 'winning': 4898, 'ticket': 4487, 'list': 2617, 'search': 3841, 'songs': 4072, 'went': 4847, 'fisher': 1739, 'knowing': 2490, 'pleasantly': 3303, 'surprised': 4313, 'derek': 1192, 'luke': 2687, 'outstanding': 3147, 'denzel': 1181, 'washington': 4806, 'usual': 4699, 'directing': 1260, 'makes': 2716, 'realized': 3553, 'mental': 2808, 'helped': 2080, 'miss': 2866, 'heroic': 2090, 'lines': 2612, 'hollywoods': 2138, 'biggest': 480, 'war': 4792, 'terror': 4412, 'thugs': 4484, 'mountains': 2918, 'india': 2273, 'bigger': 479, 'scope': 3821, 'thrill': 4471, 'douglas': 1334, 'sons': 4073, 'men': 2805, 'mighty': 2836, 'flesh': 1753, 'honest': 2146, 'entertainment': 1500, 'joan': 2404, 'against': 147, 'romance': 3732, 'dangerous': 1110, 'days': 1130, 'nights': 3016, 'land': 2511, 'happen': 2026, 'thrills': 4475, 'thousand': 4465, 'adventure': 130, 'red': 3576, 'heroes': 2089, 'rise': 3702, 'mystery': 2956, 'storm': 4206, 'fight': 1707, 'pictures': 3270, 'brave': 567, 'gary': 1873, 'grant': 1956, 'hundred': 2195, 'under': 4639, 'water': 4816, 'teen': 4388, 'ape': 266, 'sequel': 3885, 'revenge': 3675, 'wrong': 4973, 'sub': 4252, 'box': 555, 'art': 304, 'indeed': 2271, 'chris': 806, 'satire': 3788, 'term': 4405, 'extremely': 1610, 'loosely': 2651, 'id': 2212, 'truth': 4599, 'told': 4513, 'drunk': 1375, 'ass': 323, 'previous': 3387, 'compare': 911, 'enjoyed': 1486, 'bought': 552, 'im': 2232, 'lack': 2502, 'word': 4937, 'complete': 921, 'crappy': 1032, 'loud': 2664, 'funnier': 1850, 'least': 2554, 'slightly': 4029, 'hour': 2176, 'quickly': 3491, 'grade': 1951, 'extras': 1608, 'audio': 354, 'commentary': 899, 'gang': 1867, 'minute': 2858, 'tribute': 4581, 'low': 2676, 'fake': 1635, 'commercial': 902, 'trailers': 4555, 'quest': 3486, 'midnight': 2834, 'demon': 1177, 'summer': 4291, 'splatter': 4118, 'wrestling': 4966, 'name': 2960, 'plenty': 3307, 'comedies': 889, 'serious': 3891, 'ladies': 2506, 'desperately': 1209, 'less': 2575, 'chicks': 787, 'nuclear': 3057, 'anti': 254, 'laughed': 2532, 'harder': 2035, 'unfunny': 4655, 'stupid': 4247, 'inane': 2258, 'annoying': 249, 'mind': 2849, 'particularly': 3195, 'tim': 4494, 'expected': 1577, 'lacking': 2504, 'logic': 2638, 'common': 906, 'sense': 3877, 'script': 3834, 'writer': 4968, 'bag': 384, 'couldnt': 1008, 'hitting': 2126, 'fail': 1625, 'include': 2261, 'motivation': 2914, 'seventies': 3904, 'tries': 4585, 'appears': 278, 'porn': 3336, 'shortly': 3947, 'hang': 2022, 'consider': 949, 'myself': 2953, 'spending': 4106, 'maybe': 2776, 'bright': 581, 'lee': 2559, 'mary': 2751, 'shut': 3961, 'chair': 742, 'breath': 573, 'longer': 2645, 'attempted': 341, 'suicide': 4283, 'eddie': 1416, 'funniest': 1851, 'decide': 1148, 'throughout': 4478, 'moment': 2886, 'wasnt': 4807, 'laughing': 2533, 'hours': 2177, 'punch': 3466, 'career': 686, 'hills': 2109, 'america': 212, 'hilarious': 2106, 'loses': 2657, 'edge': 1418, 'day': 1129, 'forward': 1808, 'thumbs': 4485, 'teenagers': 4391, 'dead': 1132, 'alive': 186, 'freddy': 1826, 'letting': 2583, 'memory': 2804, 'hes': 2093, 'town': 4541, 'tough': 4537, 'lisa': 2616, 'break': 569, 'patient': 3211, 'along': 195, 'three': 4469, 'teens': 4392, 'dean': 1139, 'unexpected': 4650, 'came': 656, 'ride': 3692, 'once': 3106, 'arrived': 301, 'lived': 2626, 'knows': 2493, 'true': 4596, 'secret': 3849, 'identity': 2217, 'rachel': 3500, 'ghost': 1902, 'machine': 2693, 'grim': 1974, 'somewhat': 4068, 'oddly': 3081, 'visual': 4757, 'fantasy': 1652, 'alien': 183, 'expert': 1585, 'climax': 849, 'gross': 1978, 'series': 3890, 'office': 3091, 'strong': 4229, 'transfer': 4559, 'pan': 3180, 'digital': 1251, 'theatrical': 4430, 'jump': 2429, 'nightmare': 3014, 'crew': 1053, 'information': 2288, 'elm': 1447, 'street': 4216, 'disc': 1278, 'interviews': 2330, 'wes': 4851, 'craven': 1034, 'darker': 1116, 'silly': 3976, 'surprisingly': 4316, 'spin': 4112, 'vs': 4767, 'jason': 2383, 'co': 867, 'tom': 4514, 'arnold': 296, 'cooper': 990, 'cameos': 658, 'written': 4972, 'michael': 2829, 'de': 1131, 'madness': 2698, 'terry': 4415, 'adams': 112, 'starts': 4159, 'touch': 4533, 'brazil': 568, 'moves': 2925, 'straight': 4210, 'twilight': 4614, 'zone': 4999, 'bringing': 586, 'dave': 1123, 'andrew': 228, 'explore': 1594, 'environment': 1505, 'anyway': 261, 'surprise': 4312, 'cube': 1076, 'weird': 4841, 'place': 3282, 'somehow': 4063, 'assume': 328, 'express': 1600, 'delight': 1167, 'appealing': 272, 'library': 2589, 'explain': 1586, 'introduction': 2339, 'cable': 644, 'imdb': 2240, 'receives': 3565, 'status': 4165, 'number': 3060, 'amateur': 206, 'reviewers': 3678, 'dire': 1257, 'review': 3676, 'fathers': 1667, 'shop': 3945, 'around': 297, 'corner': 996, 'mail': 2706, 'remake': 3612, 'flaws': 1752, 'obvious': 3071, 'meet': 2793, 'sequences': 3888, 'recall': 3562, 'sad': 3767, 'slapstick': 4019, 'attempt': 340, 'foot': 1781, 'step': 4175, 'instantly': 2306, 'forgettable': 1794, 'judy': 2426, 'singing': 3995, 'arms': 294, 'christmas': 810, 'song': 4071, 'sings': 3997, 'store': 4204, 'horribly': 2164, 'miscast': 2862, 'originally': 3131, 'filled': 1715, 'june': 2433, 'definitely': 1162, 'unable': 4631, 'fill': 1714, 'margaret': 2735, 'van': 4713, 'bland': 500, 'rate': 3526, 'jimmy': 2403, 'stewart': 4184, 'leads': 2548, 'achieve': 92, 'chemistry': 782, 'hanks': 2025, 'ryan': 3765, 'notes': 3046, 'seem': 3861, 'feels': 1687, 'add': 115, 'subplot': 4255, 'plot': 3309, 'device': 1227, 'involving': 2349, 'almost': 193, 'embarrassing': 1454, 'episode': 1507, 'company': 910, 'someone': 4064, 'excuse': 1564, 'keaton': 2448, 'resolution': 3649, 'romantic': 3733, 'called': 652, 'leonard': 2572, 'earlier': 1399, 'enjoys': 1489, 'star': 4150, 'falling': 1639, 'italy': 2368, 'restored': 3659, '2003': 33, 'suffers': 4278, 'again': 146, 'am': 204, 'glad': 1916, 'sing': 3992, 'tune': 4602, 'teach': 4374, 'already': 197, 'background': 380, 'language': 2516, 'present': 3374, 'radio': 3504, 'hitler': 2124, 'visit': 4755, 'colour': 880, 'impressive': 2253, 'photography': 3260, 'shark': 3921, 'move': 2921, 'convey': 982, 'sympathy': 4343, 'dust': 1388, 'produce': 3413, 'productions': 3420, 'australia': 356, '1990s': 25, 'mafia': 2700, 'conflicts': 940, 'alas': 172, 'wont': 4932, 'assumed': 329, '1960s': 15, 'sadly': 3769, 'date': 1118, 'funeral': 1849, 'sharp': 3922, 'bite': 489, 'repeatedly': 3632, 'waters': 4817, 'bar': 396, 'latest': 2526, 'sea': 3838, 'side': 3965, 'bloody': 513, 'mate': 2765, 'hero': 2088, 'bored': 541, 'evidence': 1546, 'development': 1225, 'ex': 1549, 'fails': 1628, 'sinister': 3998, 'voices': 4763, 'dark': 1115, 'totally': 4532, 'stay': 4166, 'folks': 1771, 'closely': 855, 'warm': 4794, 'follow': 1772, 'advice': 133, 'itll': 2369, 'viewing': 4740, 'night': 3013, 'ease': 1404, 'violence': 4747, 'shown': 3959, 'often': 3095, 'introduced': 2337, 'scared': 3805, 'mid': 2832, '90s': 61, 'gangster': 1868, 'happily': 2030, 'sweet': 4336, 'humorous': 2193, 'terribly': 4408, 'exciting': 1563, 'happens': 2029, 'kept': 2456, 'recent': 3566, 'felt': 1692, 'adapted': 114, 'play': 3296, 'dialog': 1232, 'create': 1036, 'absolute': 71, 'zero': 4996, 'ten': 4399, 'follows': 1775, 'students': 4239, 'afternoon': 144, 'shot': 3949, 'artistic': 308, 'walking': 4779, 'train': 4556, 'wreck': 4965, 'wave': 4818, 'each': 1395, 'forth': 1804, 'pair': 3176, 'non': 3027, 'existent': 1572, 'bullets': 621, 'want': 4788, 'grown': 1984, 'polished': 3323, 'books': 536, 'shelf': 3926, 'etc': 1527, 'royal': 3746, 'wedding': 4836, 'turner': 4607, 'network': 3000, 'single': 3996, 'sequence': 3887, 'record': 3573, 'fred': 1825, 'astaire': 330, 'dancing': 1107, 'clothing': 861, 'rooms': 3736, 'walls': 4783, 'jerry': 2396, 'mouse': 2919, 'forgotten': 1797, 'fellow': 1691, 'eyes': 1613, 'changes': 751, 'blues': 519, 'blue': 518, 'dance': 1103, 'talks': 4361, 'repeat': 3630, 'decades': 1145, 'cat': 713, 'proper': 3436, 'briefly': 580, 'butler': 637, 'took': 4523, 'seven': 3903, 'taken': 4350, 'four': 1812, 'hollywood': 2137, 'ends': 1474, 'meeting': 2794, 'sinatra': 3989, 'studio': 4240, 'disturbing': 1300, 'saved': 3795, 'result': 3660, 'leave': 2555, 'writers': 4969, 'plans': 3292, 'spend': 4105, 'sex': 3907, 'unseen': 4678, 'idiots': 2220, 'women': 4923, 'cops': 993, 'boy': 557, 'asking': 318, 'questions': 3489, 'aunt': 355, 'increasingly': 2268, 'complicated': 925, 'mostly': 2910, 'due': 1382, 'simplistic': 3985, 'misses': 2868, 'next': 3007, 'sleeping': 4025, 'late': 2523, 'looked': 2647, 'wake': 4774, 'keeps': 2451, 'dragged': 1343, 'house': 2178, 'right': 3696, 'suppose': 4305, 'presentation': 3375, 'fans': 1650, 'concert': 935, 'seriously': 3892, 'beaten': 424, 'start': 4156, 'following': 1774, 'beginning': 443, 'saves': 3796, 'learning': 2552, 'crap': 1031, 'ruins': 3752, 'superior': 4300, 'forget': 1793, 'nonsense': 3030, 'likewise': 2603, 'ability': 65, 'interview': 2329, 'sheer': 3925, 'sorry': 4076, 'embarrassed': 1453, 'talent': 4354, 'ashamed': 312, 'pulling': 3463, 'meanwhile': 2785, 'accidentally': 85, 'waitress': 4773, 'pamela': 3179, 'native': 2972, 'brooklyn': 595, 'naturally': 2974, 'without': 4913, 'sneak': 4043, 'preview': 3386, 'dude': 1381, 'car': 680, 'fest': 1696, 'expecting': 1578, 'jokes': 2415, 'pathetic': 3210, 'lead': 2545, 'laid': 2508, 'instead': 2307, 'smart': 4035, 'average': 362, 'full': 1846, 'occasional': 3074, 'hey': 2095, 'spirit': 4113, 'santa': 3783, 'hook': 2152, 'lives': 2628, '40': 48, 'virgin': 4749, 'honestly': 2147, 'repeated': 3631, 'stuff': 4243, 'weak': 4824, 'streisand': 4218, 'tour': 4538, 'wishes': 4906, 'examples': 1554, 'performer': 3231, 'win': 4892, 'ranks': 3519, 'business': 633, 'williams': 4888, 'appearances': 275, 'version': 4720, 'born': 544, 'franchise': 1817, 'james': 2378, 'havent': 2053, 'dubbing': 1380, 'comments': 901, 'considered': 951, 'inferior': 2285, 'entirely': 1503, 'subtitles': 4259, 'apparently': 270, 'difference': 1246, 'read': 3543, 'book': 535, 'familiar': 1643, 'japanese': 2382, 'cultural': 1078, 'context': 968, 'potential': 3355, 'spoilers': 4124, 'ahead': 159, 'usually': 4700, 'science': 3816, 'stories': 4205, 'likes': 2602, 'blade': 495, '12': 3, 'monkeys': 2891, 'started': 4157, 'mildly': 2840, 'intriguing': 2335, 'became': 431, 'tedious': 4387, 'half': 2007, 'finished': 1733, 'sorts': 4078, 'lets': 2580, 'severe': 3906, 'arent': 288, 'huh': 2187, 'leaves': 2556, 'dimensional': 1253, 'develop': 1222, 'stereotypes': 4179, 'visuals': 4759, 'random': 3514, 'philosophical': 3253, 'vague': 4705, 'uninspired': 4657, 'trek': 4578, 'meaningful': 2781, 'thrown': 4481, 'various': 4715, 'bits': 490, 'pieces': 3273, 'stock': 4193, 'sci': 3815, 'fi': 1701, 'ideas': 2215, 'whatsoever': 4861, 'begin': 442, 'consists': 955, 'destruction': 1216, '30': 42, 'turning': 4608, 'apparent': 269, 'resembles': 3646, '2001': 31, 'string': 4227, 'images': 2235, 'explaining': 1588, 'viewer': 4738, 'feeling': 1685, 'sure': 4308, 'claim': 828, 'admittedly': 123, 'imaginative': 2237, 'substance': 4258, 'tired': 4501, 'disney': 1289, 'animated': 241, 'dealing': 1136, 'themes': 4434, 'likely': 2601, 'south': 4087, 'park': 3190, 'meets': 2795, 'eccentric': 1414, 'amount': 219, 'joke': 2414, 'flat': 1748, 'witnessed': 4915, 'television': 4394, 'isnt': 2362, 'quirky': 3493, 'reasonable': 3558, 'mature': 2773, 'person': 3238, 'sucks': 4271, 'waste': 4808, 'tends': 4402, 'study': 4242, 'city': 825, 'literally': 2622, 'garbage': 1870, 'bomb': 531, 'thanks': 4423, 'glorious': 1921, 'insane': 2296, 'drives': 1367, 'tragic': 4552, 'concerns': 934, 'son': 4070, 'abandoned': 62, 'searching': 3842, 'food': 1778, 'spare': 4093, 'using': 4698, 'imagination': 2236, 'build': 614, 'dream': 1354, 'emotionally': 1460, 'beautiful': 428, 'history': 2121, 'jeffrey': 2391, 'charisma': 762, 'knowledge': 2491, 'arrives': 302, 'bible': 477, 'father': 1666, 'william': 4887, 'attention': 345, 'group': 1980, 'led': 2558, 'flashbacks': 1747, 'cell': 730, 'naked': 2959, 'horse': 2170, 'introduces': 2338, 'smoking': 4040, 'featuring': 1681, 'topless': 4527, 'snake': 4042, 'black': 493, 'cult': 1077, 'members': 2801, 'drugs': 1374, 'tea': 4373, 'hanging': 2023, 'cross': 1066, 'painted': 3174, 'bed': 436, 'covered': 1023, 'harry': 2039, 'alan': 171, 'senseless': 3878, 'location': 2635, 'wanting': 4790, 'cut': 1089, 'week': 4837, 'rented': 3628, 'suck': 4269, 'urban': 4688, 'died': 1244, 'improved': 2255, '100': 1, 'death': 1141, 'kicks': 2463, 'witty': 4917, 'depiction': 1185, 'occasionally': 3075, 'frightening': 1839, 'fooled': 1780, 'childrens': 793, 'sitcom': 4004, 'comic': 893, 'fully': 1847, 'individuals': 2278, 'supposedly': 4307, 'haunted': 2050, 'curse': 1086, 'taking': 4352, 'surreal': 4317, 'depth': 1190, 'incredibly': 2270, 'smile': 4036, 'shame': 3918, 'stopped': 4202, 'comical': 894, 'episodes': 1508, 'nudity': 3059, 'century': 736, 'christians': 809, 'battle': 414, 'muslim': 2949, 'mother': 2911, 'fear': 1676, 'torture': 4529, 'sides': 3967, 'sent': 3880, 'process': 3412, 'witnesses': 4916, 'rape': 3521, 'local': 2634, 'duke': 1383, 'overcome': 3151, 'ran': 3513, 'gruesome': 1986, 'hot': 2174, 'bound': 553, 'continue': 969, 'trouble': 4592, 'society': 4050, 'asks': 319, 'jesus': 2399, 'holy': 2140, 'eventually': 1537, 'leader': 2546, 'lover': 2672, 'tragedy': 4551, 'manages': 2725, 'exact': 1550, 'including': 2264, 'treats': 4575, 'exactly': 1551, 'church': 813, 'satisfied': 3789, 'lovers': 2673, 'meat': 2787, 'remarkably': 3614, 'workers': 4943, 'carrying': 701, 'via': 4726, 'key': 2458, 'success': 4265, 'calls': 654, 'virtually': 4751, 'major': 2711, 'theme': 4433, 'represented': 3638, 'wonderfully': 4929, 'morgan': 2905, 'discovers': 1281, 'realizes': 3554, 'successful': 4266, 'lonely': 2643, 'partner': 3198, 'share': 3920, 'poignant': 3315, 'reaching': 3539, 'thinks': 4454, 'theyve': 4446, 'met': 2822, 'itself': 2371, '13': 4, 'glory': 1922, 'tale': 4353, 'toward': 4539, 'mexican': 2826, 'problem': 3408, 'cowboy': 1025, 'jim': 2402, 'sam': 3777, 'julia': 2427, 'general': 1880, 'anna': 245, 'dignity': 1252, 'professional': 3421, 'soldier': 4053, 'won': 4925, 'officers': 3093, 'guard': 1988, 'prevent': 3385, 'within': 4912, 'angry': 238, 'carried': 698, 'courage': 1018, 'sitting': 4007, '2006': 36, '1990': 24, 'cheesy': 781, 'liners': 2611, 'occasion': 3073, 'futuristic': 1857, '80s': 59, 'crowd': 1067, 'computer': 927, 'nevertheless': 3002, 'fantastic': 1651, 'todays': 4509, 'quick': 3490, 'displays': 1293, 'youd': 4987, 'produced': 3414, 'pay': 3216, 'per': 3223, 'views': 4742, 'months': 2897, 'sunday': 4293, 'survivor': 4324, 'appalling': 268, 'brand': 565, 'note': 3044, 'matches': 2764, 'shape': 3919, 'tag': 4348, 'team': 4378, 'championship': 745, 'brought': 600, 'early': 1400, 'changed': 750, 'hardy': 2037, 'justice': 2438, 'believed': 455, 'awkward': 374, 'contest': 967, 'jeff': 2390, 'jumped': 2430, 'onto': 3111, 'position': 3345, 'matt': 2768, 'holding': 2130, 'opposite': 3123, 'hands': 2020, 'protect': 3443, 'face': 1616, 'nose': 3037, 'eye': 1611, 'vicious': 4728, 'mess': 2818, 'ended': 1470, 'suffered': 4276, 'broken': 594, 'cuts': 1091, 'warned': 4798, 'managed': 2723, 'grab': 1949, '15': 7, 'unbelievable': 4634, 'kane': 2442, 'forced': 1787, 'outside': 3146, 'ring': 3698, 'whilst': 4869, 'butt': 638, 'fire': 1734, 'sick': 3963, 'suggest': 4280, 'mr': 2929, 'kennedy': 2454, 'stiff': 4187, 'finish': 1732, 'feet': 1688, 'plain': 3286, 'crash': 1033, 'followed': 1773, 'notable': 3041, 'happening': 2028, 'card': 681, 'german': 1896, 'luckily': 2682, 'attempting': 342, 'roll': 3728, 'flying': 1764, 'response': 3654, 'virginia': 4750, 'picked': 3266, 'resident': 3647, 'worthless': 4954, 'hate': 2046, 'listening': 2620, 'entertained': 1498, 'none': 3028, 'memorable': 2802, 'five': 1743, 'revolution': 3680, 'eight': 1436, 'bodies': 526, 'disagree': 1269, 'reviewer': 3677, 'described': 1195, 'suspect': 4327, 'goofy': 1939, 'material': 2766, 'oliver': 3102, 'basic': 406, 'premise': 3370, 'marry': 2745, 'gags': 1862, 'wanted': 4789, 'throw': 4479, 'words': 4938, 'couple': 1016, 'extended': 1604, 'cave': 727, 'strip': 4228, 'buff': 611, 'generous': 1886, 'handful': 2017, 'choose': 799, 'road': 3709, 'trip': 4588, 'thank': 4421, 'dennis': 1179, 'hopper': 2161, 'opportunity': 3121, 'gratuitous': 1961, 'act': 97, 'heck': 2071, 'mann': 2728, 'involves': 2348, 'named': 2961, 'drive': 1363, 'walter': 4784, 'morris': 2908, 'order': 3126, 'boat': 523, 'cheating': 776, 'manipulative': 2727, 'castle': 712, 'ruth': 3763, 'roman': 3731, 'believes': 456, 'valuable': 4708, 'future': 1856, 'killing': 2472, 'hand': 2015, 'judge': 2424, 'runs': 3757, 'public': 3460, 'eat': 1411, 'agrees': 157, 'dawson': 1128, 'deliver': 1169, 'steal': 4170, 'canadian': 667, 'border': 539, 'reach': 3536, 'highest': 2102, 'money': 2888, 'bring': 585, 'hired': 2117, 'stealing': 4171, 'claims': 830, 'leaving': 2557, 'sheriff': 3929, 'themselves': 4435, 'mistake': 2871, 'killed': 2469, 'wounded': 4961, 'save': 3794, 'kills': 2474, 'shoots': 3944, 'dies': 1245, 'hiding': 2099, 'wooden': 4934, 'spoken': 4126, 'rip': 3700, 'universal': 4665, 'uses': 4697, 'wind': 4893, 'call': 651, 'shocking': 3940, 'horrors': 2169, 'unaware': 4632, 'impressed': 2251, 'crazy': 1035, 'horrific': 2166, 'focuses': 1768, 'enormous': 1490, 'immediately': 2242, 'murder': 2939, 'rush': 3759, 'allowed': 190, 'provoking': 3452, 'positive': 3346, 'suffering': 4277, 'donald': 1321, 'cruel': 1070, 'captain': 674, 'receive': 3563, 'creating': 1039, 'speaking': 4095, 'portrayed': 3342, 'ellen': 1446, 'whose': 4877, 'appearance': 274, 'remind': 3618, 'similar': 3978, 'effective': 1429, 'impact': 2244, 'desperate': 1208, 'tension': 4404, 'replaced': 3634, 'news': 3005, 'poetic': 3313, 'tears': 4380, 'happened': 2027, 'image': 2233, 'forever': 1792, 'twelve': 4611, 'seconds': 3848, 'decided': 1149, 'lame': 2510, 'drops': 1372, 'tree': 4576, 'credits': 1050, 'guarantee': 1987, 'listed': 2618, 'scenario': 3808, 'stranger': 4213, 'represent': 3637, 'author': 359, 'le': 2544, 'slowly': 4032, 'working': 4944, 'adaptation': 113, 'sat': 3786, 'discover': 1279, 'spy': 4135, 'peter': 3247, 'tradition': 4549, 'fact': 1621, 'contains': 964, 'entire': 1502, 'lying': 2690, 'survive': 4321, 'becoming': 435, 'run': 3755, 'six': 4010, 'ray': 3533, 'finest': 1730, 'con': 928, 'rick': 3689, 'strongly': 4231, 'responsible': 3656, 'british': 589, 'howard': 2182, 'turned': 4606, 'jane': 2380, 'younger': 4990, 'nicholas': 3010, 'proved': 3446, 'locations': 2636, 'english': 1483, 'across': 96, 'eastern': 1408, 'europe': 1529, 'usa': 4691, 'adds': 119, 'realism': 3549, 'page': 3167, 'novel': 3052, 'largely': 2518, 'purpose': 3474, 'proof': 3434, 'tense': 4403, 'fascinating': 1658, 'gun': 1996, 'bond': 532, 'cold': 872, 'path': 3209, 'lie': 2590, 'missed': 2867, 'thomas': 4458, 'ann': 244, 'aside': 315, 'gangsters': 1869, 'scheme': 3812, 'buildings': 616, 'blame': 499, 'law': 2538, 'proves': 3447, 'fighter': 1708, 'join': 2412, 'club': 863, 'clever': 841, 'mayor': 2777, 'staged': 4140, 'tiny': 4500, 'dirty': 1268, 'doing': 1312, 'notorious': 3051, 'behavior': 446, 'laughs': 2534, 'leo': 2571, 'eric': 1514, 'forms': 1801, 'inspired': 2301, 'therefore': 4439, 'answer': 251, 'similarly': 3980, 'upper': 4685, 'albert': 174, 'ill': 2228, 'danger': 1109, 'higher': 2101, 'namely': 2962, '17': 9, 'escape': 1517, 'basis': 408, 'soldiers': 4054, 'camp': 662, 'plan': 3287, 'legend': 2564, 'physical': 3262, 'exercise': 1568, 'split': 4120, 'deals': 1137, 'slow': 4031, 'latter': 2528, 'several': 3905, 'established': 1524, 'current': 1084, 'steel': 4173, 'stick': 4185, 'safety': 3772, 'narrative': 2966, 'suspense': 4330, 'excitement': 1562, 'centered': 733, 'minimum': 2856, 'albeit': 173, 'change': 749, 'gripping': 1976, 'situation': 4008, 'filming': 1718, 'post': 3352, 'producer': 3415, 'ian': 2209, 'task': 4368, 'loose': 2650, 'lighting': 2596, 'diane': 1238, 'silver': 3977, 'richard': 3686, 'checking': 778, 'struck': 4232, 'sky': 4017, 'write': 4967, 'murderer': 2941, 'victim': 4729, 'skip': 4016, 'lovely': 2671, 'fashioned': 1660, 'alfred': 181, 'hitchcock': 2123, 'west': 4852, 'oil': 3097, 'worker': 4942, 'worse': 4951, 'empty': 1465, 'gas': 1874, 'cup': 1080, 'coffee': 870, 'cage': 645, 'broke': 593, 'mistaken': 2872, 'husbands': 2205, 'decides': 1150, 'front': 1841, 'hits': 2125, 'further': 1853, 'logical': 2639, 'flow': 1762, 'piece': 3272, 'murderous': 2942, 'trio': 4587, 'paper': 3183, 'exceptionally': 1559, 'round': 3742, 'somewhere': 4069, 'pilot': 3276, 'huge': 2185, 'cameron': 661, 'titanic': 4503, 'wrote': 4974, 'strange': 4211, 'failed': 1626, 'miserably': 2864, 'synopsis': 4344, 'coherent': 871, 'gorgeous': 1942, 'facial': 1619, 'expression': 1602, 'wit': 4908, 'attitude': 346, 'soon': 4074, 'china': 795, 'depicts': 1186, 'aware': 368, 'influence': 2286, 'open': 3112, 'cost': 1003, 'sold': 4052, 'dollars': 1315, 'seemed': 3862, 'dumb': 1385, 'horrible': 2163, 'hurt': 2202, 'stop': 4201, 'finding': 1727, 'wearing': 4831, 'paid': 3169, 'countries': 1013, 'category': 718, 'feature': 1678, 'dubbed': 1379, 'aged': 149, 'bus': 631, 'capital': 673, 'miserable': 2863, 'extraordinary': 1607, 'brilliant': 583, 'facing': 1620, 'insight': 2298, 'nations': 2971, 'hoping': 2160, 'simple': 3983, 'torn': 4528, 'highlights': 2104, 'singer': 3993, 'recently': 3567, 'narration': 2965, 'photographed': 3258, 'edited': 1420, 'debut': 1143, 'directors': 1266, 'bitter': 491, '1980s': 21, 'favourite': 1673, 'interested': 2324, 'nancy': 2964, 'drew': 1360, 'pick': 3265, 'form': 1798, 'lord': 2652, 'rings': 3699, 'upset': 4687, 'saying': 3800, 'oscars': 3134, 'choice': 797, 'awards': 367, 'bruce': 602, 'willis': 4890, 'adam': 111, 'goldberg': 1933, 'hammer': 2014, 'roles': 3727, 'cook': 988, 'emma': 1457, 'roberts': 3714, 'frankly': 1823, 'consistent': 953, 'conflict': 939, 'thoroughly': 4459, 'buy': 640, 'release': 3602, 'die': 1243, 'dialogs': 1233, 'ford': 1789, 'bothered': 549, 'loser': 2655, 'unique': 4662, 'convincing': 985, 'macy': 2695, 'hardly': 2036, 'highly': 2105, 'recommended': 3572, '1970s': 17, 'atlantis': 332, 'idiotic': 2219, 'gore': 1941, 'skills': 4014, 'scream': 3826, 'outer': 3143, 'space': 4090, 'walked': 4776, 'theater': 4427, 'renting': 3629, 'picks': 3268, 'overdone': 3152, 'dinner': 1254, 'otherwise': 3137, 'asleep': 320, 'riding': 3695, 'surfing': 4311, 'endless': 1473, 'ii': 2226, 'footage': 1782, 'spectacular': 4101, 'makers': 2715, 'leading': 2547, 'personalities': 3241, 'performers': 3232, 'designs': 1204, 'class': 833, 'sport': 4129, 'provided': 3449, 'dawn': 1127, 'media': 2789, 'magazine': 2701, 'hamilton': 2012, 'married': 2744, 'dad': 1095, 'contemporary': 965, 'outcome': 3142, 'painfully': 3172, 'pink': 3277, 'parents': 3188, 'boyfriend': 558, 'officer': 3092, 'wasted': 4809, 'shots': 3950, 'pulled': 3462, 'blair': 497, 'crime': 1055, 'beats': 426, 'heres': 2087, 'hear': 2061, 'badly': 383, 'mix': 2876, 'robbery': 3711, 'fbi': 1675, 'terrifying': 4410, 'brando': 566, 'charlie': 765, 'wow': 4962, 'sutherland': 4333, 'martin': 2748, 'rarely': 3524, 'channel': 753, 'musicals': 2948, 'shy': 3962, 'light': 2595, 'portrays': 3344, 'shall': 3916, 'level': 2584, 'menacing': 2807, 'inner': 2292, 'demons': 1178, 'pushed': 3478, 'capable': 672, 'driven': 1365, 'stretched': 4222, 'sexual': 3908, 'content': 966, 'avoided': 364, 'suit': 4284, 'larry': 2520, 'pg': 3250, 'heights': 2073, 'liked': 2600, 'tend': 4400, '1950s': 14, 'jewish': 2401, 'comedian': 887, 'serving': 3897, 'murders': 2943, 'committed': 905, 'ghosts': 1903, 'kiss': 2483, 'asked': 317, 'meaning': 2780, 'clues': 865, 'busy': 635, 'mild': 2839, 'accident': 84, 'skin': 4015, 'daily': 1097, 'center': 732, 'hair': 2005, 'gray': 1963, '18': 10, 'stayed': 4167, 'discuss': 1283, 'expressed': 1601, 'hearted': 2065, 'generations': 1884, 'survivors': 4325, 'dying': 1393, 'ridiculous': 3693, 'worry': 4950, 'tons': 4520, 'literature': 2623, 'ireland': 2352, '70': 55, 'master': 2757, 'rose': 3739, 'learn': 2550, 'academy': 77, 'award': 366, 'gandhi': 1866, 'till': 4493, 'freedom': 1828, 'popular': 3333, 'africa': 141, 'rid': 3690, 'woods': 4935, 'kevin': 2457, 'journalist': 2420, 'charismatic': 763, 'steve': 4181, 'cannot': 670, 'natural': 2973, 'charm': 767, 'presence': 3373, 'required': 3641, 'initially': 2291, 'racism': 3502, 'drawn': 1351, 'struggles': 4235, 'stronger': 4230, 'realise': 3548, 'sensitive': 3879, 'plight': 3308, 'represents': 3639, 'strikes': 4225, 'dialogues': 1235, 'country': 1014, 'army': 295, 'opens': 3115, 'prefer': 3368, 'indie': 2276, 'research': 3644, 'filmmaker': 1719, 'criticism': 1063, 'helps': 2082, 'enters': 1496, 'wait': 4770, 'talking': 4360, 'damn': 1100, 'reviews': 3679, 'fashion': 1659, 'fast': 1661, 'paced': 3162, 'fault': 1668, 'saving': 3797, 'humour': 2194, 'drug': 1373, 'shock': 3938, 'ie': 2221, 'easy': 1410, 'harsh': 2040, 'spoiler': 4123, 'alert': 178, 'andy': 230, 'station': 4164, 'creativity': 1042, 'chorus': 803, 'prize': 3405, 'audiences': 353, 'heavy': 2070, 'possessed': 3347, 'fit': 1740, 'utterly': 4702, 'movement': 2923, 'thus': 4486, 'nominated': 3025, 'stinks': 4192, 'kurt': 2499, 'russell': 3761, 'humanity': 2189, 'emotional': 1459, 'peace': 3219, 'loving': 2675, 'terrorists': 4414, 'unlike': 4670, 'negative': 2991, 'la': 2500, 'sequels': 3886, 'creatures': 1046, 'sean': 3840, 'proud': 3444, 'noble': 3021, 'band': 391, 'disappointed': 1273, 'contain': 962, 'body': 527, 'friday': 1834, 'report': 3635, 'phone': 3255, 'range': 3516, 'central': 735, 'ensemble': 1492, 'dozen': 1338, 'frustrated': 1842, 'failure': 1629, 'related': 3594, 'vaguely': 4706, 'structure': 4233, 'lake': 2509, 'miles': 2843, 'morning': 2906, 'bang': 393, '24': 39, 'surely': 4309, 'question': 3487, 'guide': 1993, 'fish': 1738, 'cares': 690, 'false': 1641, 'actions': 101, 'racist': 3503, 'wouldnt': 4958, 'curious': 1083, 'subject': 4253, 'sees': 3866, 'suddenly': 4273, 'quiet': 3492, 'ludicrous': 2685, 'incoherent': 2265, 'australian': 357, 'according': 88, 'minds': 2852, 'thin': 4449, 'lion': 2614, 'treasure': 4571, 'conclusion': 936, 'large': 2517, 'chaplin': 756, 'relies': 3606, 'sign': 3970, 'cgi': 740, 'fetched': 1698, 'convoluted': 987, 'surprises': 4314, 'americas': 215, 'details': 1219, 'inside': 2297, 'nazi': 2977, 'germany': 1898, 'product': 3418, 'mission': 2870, 'adequate': 120, 'sucked': 4270, 'grasp': 1960, 'unusual': 4681, 'pointed': 3317, 'shocked': 3939, 'spoil': 4121, 'added': 116, 'pages': 3168, 'paint': 3173, 'dry': 1377, '2007': 37, 'france': 1816, 'extreme': 1609, 'valley': 4707, 'passing': 3204, 'effect': 1428, 'captured': 677, 'odd': 3080, 'agree': 155, 'aliens': 184, 'escaped': 1518, 'forest': 1791, '90': 60, 'summary': 4290, 'clearly': 840, 'worthwhile': 4955, 'villain': 4744, 'cared': 685, 'novels': 3053, 'pride': 3391, 'saga': 3773, 'compelling': 916, 'robot': 3717, 'rat': 3525, 'bore': 540, 'berlin': 467, 'rogers': 3725, 'performed': 3230, 'ginger': 1908, 'matters': 2770, 'lyrics': 2692, 'bottle': 550, 'titles': 4506, 'piano': 3264, 'accomplished': 87, 'composed': 926, 'building': 615, 'spent': 4108, 'weeks': 4839, 'perform': 3227, 'putting': 3482, 'ultimate': 4627, 'scott': 3824, 'brain': 562, 'spell': 4104, 'cars': 702, 'visible': 4753, 'yellow': 4981, 'cameras': 660, 'signs': 3973, 'visually': 4758, 'poorly': 3329, 'cats': 721, 'latin': 2527, 'steven': 4182, 'lose': 2654, 'began': 441, 'shed': 3924, 'national': 2970, 'united': 4664, 'japan': 2381, 'throat': 4476, 'union': 4661, 'lazy': 2543, 'era': 1513, 'towards': 4540, 'global': 1920, 'ron': 3734, 'genre': 1888, 'ho': 2127, 'dated': 1119, 'tongue': 4518, 'cheek': 779, 'hunt': 2198, 'depressed': 1187, 'operation': 3117, 'plant': 3293, 'hundreds': 2196, 'equally': 1510, 'trade': 4547, 'devoted': 1231, 'jobs': 2406, 'likable': 2598, 'fair': 1630, 'sink': 3999, 'deal': 1135, 'witness': 4914, 'whom': 4875, 'headed': 2058, 'begins': 444, 'constantly': 958, 'spot': 4131, 'fare': 1655, 'included': 2262, 'batman': 413, 'notch': 3043, 'girlfriend': 1910, 'received': 3564, 'wall': 4781, 'abc': 63, 'twenty': 4612, 'available': 361, 'tad': 4347, 'complain': 919, 'flynn': 1765, 'beat': 423, 'sullivan': 4288, 'smith': 4038, 'ward': 4793, 'ambitious': 211, 'boxing': 556, 'san': 3780, 'francisco': 1819, 'builds': 617, 'bet': 470, 'despite': 1211, 'fame': 1642, 'waiting': 4772, 'demands': 1175, 'despair': 1207, 'unlikely': 4671, 'individual': 2277, 'victoria': 4732, 'hates': 2048, 'existed': 1570, 'focus': 1766, 'scientific': 3817, 'techniques': 4384, 'wore': 4939, 'vhs': 4725, 'hidden': 2096, 'closet': 858, 'intelligent': 2314, 'giant': 1905, 'worthy': 4956, 'monkey': 2890, 'unoriginal': 4673, 'painful': 3171, 'species': 4098, 'doctors': 1305, 'patients': 3212, 'remote': 3622, 'hospital': 2172, 'sudden': 4272, 'hopes': 2159, 'screenplay': 3831, '80': 58, 'blind': 506, 'alcoholic': 177, 'lady': 2507, 'monster': 2892, 'recognize': 3569, 'roger': 3724, 'charge': 761, 'titled': 4505, 'pace': 3161, 'remains': 3611, 'continues': 971, 'werent': 4849, 'fighting': 1709, 'conversations': 981, 'emotion': 1458, 'melodramatic': 2798, 'belief': 451, 'dynamic': 1394, 'dropped': 1370, 'cliche': 843, 'daniel': 1111, 'truly': 4597, 'sue': 4274, 'dislike': 1288, 'jake': 2377, 'bull': 619, 'graphic': 1958, 'instance': 2304, 'stated': 4161, 'aka': 168, 'texas': 4418, 'state': 4160, 'bears': 421, 'resemblance': 3645, 'legal': 2563, 'wondering': 4930, 'roy': 3745, 'previously': 3388, 'provides': 3450, 'subplots': 4256, 'troubled': 4593, 'marriage': 2743, 'husband': 2204, 'earl': 1398, 'figures': 1713, 'finale': 1723, 'hence': 2083, 'formulaic': 1803, 'combined': 885, 'sloppy': 4030, 'experienced': 1581, 'superb': 4296, 'treat': 4572, 'rent': 3626, 'baker': 385, 'afraid': 140, 'ugly': 4625, 'criminal': 1057, 'jail': 2376, 'nobody': 3022, '20th': 38, 'assigned': 325, 'flawed': 1750, 'mst3k': 2932, 'mitchell': 2875, 'designed': 1203, 'affect': 136, 'poetry': 3314, 'lust': 2689, 'web': 4833, 'closing': 859, 'spanish': 4092, 'civil': 826, 'command': 897, 'scenery': 3810, 'advance': 127, 'screening': 3830, 'enjoying': 1487, 'dan': 1102, 'daughters': 1122, 'weekend': 4838, 'showing': 3958, 'weve': 4856, '1st': 28, '3rd': 47, 'mummy': 2937, 'results': 3662, 'priest': 3392, 'frankenstein': 1822, 'burning': 627, 'creature': 1045, 'breathtaking': 574, 'anime': 243, 'forgot': 1796, 'internet': 2327, 'reading': 3544, 'peoples': 3222, 'analysis': 224, 'promise': 3430, 'understandable': 4644, 'situations': 4009, 'nine': 3017, 'base': 402, 'travels': 4569, 'apartment': 265, 'holly': 2136, 'seeks': 3860, 'halloween': 2010, 'dozens': 1339, 'stinker': 4191, 'mixed': 2877, 'awesome': 371, 'refreshing': 3586, 'iron': 2354, 'versus': 4722, 'approach': 282, 'michelle': 2830, 'babe': 375, 'faithful': 1634, 'satisfying': 3791, 'jeremy': 2394, 'overly': 3155, 'legs': 2566, 'easily': 1406, 'uncle': 4636, 'mini': 2854, 'loves': 2674, 'videos': 4734, 'appreciate': 279, 'maintain': 2710, 'addition': 118, 'heroine': 2091, 'places': 3284, 'drags': 1345, 'monsters': 2893, 'portrait': 3339, 'invasion': 2340, 'acts': 107, 'bugs': 613, 'wise': 4903, 'exploration': 1593, 'elizabeth': 1445, 'nonetheless': 3029, 'planned': 3290, 'disease': 1285, 'reactions': 3542, 'promised': 3431, 'delivered': 1170, 'develops': 1226, 'chooses': 800, 'developed': 1223, 'introduce': 2336, 'attacked': 338, 'teenage': 4389, 'bath': 411, 'furthermore': 1854, 'gotten': 1947, 'blowing': 515, 'primarily': 3393, 'uninteresting': 4660, 'field': 1704, 'fictional': 1703, 'deadly': 1133, 'hunting': 2201, 'disappeared': 1271, 'animals': 240, 'psychotic': 3459, 'terms': 4406, 'intentions': 2321, 'whereas': 4865, 'freeman': 1829, 'importantly': 2248, 'documentaries': 1306, 'intimate': 2331, 'political': 3324, 'essentially': 1523, 'chapter': 757, 'armed': 293, 'private': 3404, 'mass': 2753, 'propaganda': 3435, 'politics': 3326, 'doom': 1326, 'blatant': 502, 'cia': 814, 'president': 3378, 'government': 1948, 'revolutionary': 3681, 'standard': 4144, 'intrigue': 2333, 'woody': 4936, 'allen': 188, 'requires': 3642, 'tie': 4488, 'ups': 4686, 'cards': 683, 'locked': 2637, 'delightful': 1168, 'versions': 4721, 'genres': 1889, 'inspiration': 2300, 'hurts': 2203, 'normally': 3034, '70s': 56, 'flicks': 1755, 'sounding': 4083, 'carradine': 695, 'faith': 1633, 'montage': 2894, 'color': 877, 'eerie': 1427, 'screaming': 3827, 'needless': 2989, 'ideal': 2214, 'shoot': 3942, 'project': 3427, 'mainly': 2708, 'charles': 764, 'portraying': 3343, 'reads': 3545, 'corpse': 999, 'judging': 2425, 'zombie': 4997, 'reminiscent': 3621, '60': 53, 'confusing': 942, 'concept': 930, 'remaining': 3610, 'vast': 4716, 'regret': 3591, 'nearly': 2981, 'numerous': 3062, 'financial': 1725, 'cool': 989, 'practically': 3362, 'defense': 1159, 'revealed': 3671, 'arrival': 299, 'closer': 856, 'exist': 1569, 'depicted': 1183, 'doc': 1303, 'pro': 3406, 'eighties': 1437, 'weakest': 4825, 'photo': 3257, 'holes': 2133, 'hole': 2132, 'nowadays': 3055, 'satisfy': 3790, 'handsome': 2021, 'former': 1800, 'hung': 2197, 'abuse': 74, 'hated': 2047, 'toilet': 4512, 'teeth': 4393, 'offended': 3085, 'sophisticated': 4075, 'lifestyle': 2593, 'ignorant': 2223, 'costs': 1004, 'conservative': 948, 'seek': 3858, 'photographer': 3259, 'challenging': 744, 'european': 1530, 'executive': 1567, 'rated': 3527, 'raised': 3508, 'suspend': 4329, 'disbelief': 1277, 'subtlety': 4261, 'channels': 754, 'pacing': 3163, 'credibility': 1047, 'costume': 1005, 'distance': 1294, 'couldve': 1009, 'mood': 2898, 'visits': 4756, 'haunting': 2051, 'thoughts': 4464, 'existence': 1571, 'brief': 579, 'fears': 1677, 'mall': 2720, 'neck': 2985, 'closest': 857, 'yeah': 4977, 'chick': 786, 'kinda': 2477, 'gotta': 1946, 'actresses': 106, 'draws': 1352, 'georges': 1894, 'mothers': 2912, 'businessman': 634, 'rules': 3754, 'succeed': 4262, 'crisis': 1060, 'reaches': 3538, 'loss': 2659, 'definite': 1161, 'gradually': 1952, 'access': 83, 'warmth': 4796, 'recognition': 3568, 'watches': 4814, 'destroyed': 1214, 'commit': 904, 'lights': 2597, 'describes': 1196, 'goal': 1925, 'prisoners': 3403, 'accused': 91, 'transformation': 4560, 'mentally': 2809, 'idiot': 2218, 'intellectual': 2312, 'stone': 4197, 'magic': 2703, 'creepy': 1052, 'unsettling': 4679, 'stunning': 4244, 'warner': 4799, '1930s': 11, 'elements': 1443, 'edward': 1426, 'robinson': 3716, 'ruthless': 3764, 'editor': 1423, 'newspaper': 3006, 'consequences': 947, 'lively': 2627, 'surrounded': 4318, 'karloff': 2445, 'dramatic': 1348, 'tone': 4517, 'pre': 3365, 'code': 869, 'innovative': 2295, 'unintentionally': 4659, 'nomination': 3026, 'dracula': 1341, 'hadnt': 2004, 'boredom': 542, 'separate': 3883, 'professor': 3422, 'depicting': 1184, 'stereotypical': 4180, 'spain': 4091, 'nation': 2969, 'rule': 3753, 'tricks': 4583, 'complexity': 924, 'paying': 3217, 'mundane': 2938, 'revelation': 3674, 'broadcast': 591, 'nonsensical': 3031, 'model': 2880, 'raped': 3522, 'teacher': 4375, 'holds': 2131, 'anne': 246, 'merely': 2815, 'unconvincing': 4638, 'assault': 324, 'nature': 2975, 'offering': 3089, 'tied': 4489, 'offer': 3087, '2002': 32, 'contrived': 976, 'trust': 4598, 'sisters': 4002, 'manhattan': 2726, 'dorothy': 1330, 'bob': 524, '1983': 22, 'alcohol': 176, '1996': 26, 'notably': 3042, 'grandfather': 1954, 'wound': 4960, 'cartoons': 705, 'canada': 666, 'inevitably': 2283, 'generic': 1885, 'african': 142, 'tiger': 4491, 'accent': 78, 'asian': 314, 'chest': 784, 'unrealistic': 4677, 'similarities': 3979, 'allow': 189, 'dub': 1378, 'shadow': 3912, 'tommy': 4516, 'wars': 4804, 'ninja': 3018, 'racial': 3501, 'gender': 1878, 'corporate': 998, 'segments': 3868, 'segment': 3867, 'foul': 1810, 'object': 3066, 'superhero': 4299, 'drivel': 1364, 'buddy': 609, 'trite': 4589, 'kinds': 2478, 'carry': 700, 'trademark': 4548, 'gory': 1943, 'painting': 3175, 'dick': 1239, 'grand': 1953, 'starred': 4153, 'sight': 3969, 'childhood': 790, 'enter': 1494, 'reminds': 3620, 'davies': 1125, 'arts': 310, 'recognized': 3570, 'elaborate': 1439, 'buffs': 612, 'hart': 2041, 'adorable': 124, 'quit': 3494, 'stunt': 4245, 'martial': 2747, 'flawless': 1751, 'listen': 2619, 'account': 89, 'mexico': 2827, 'campy': 664, 'continuity': 972, 'blockbuster': 509, 'trash': 4565, 'escapes': 1519, 'dvds': 1392, 'reached': 3537, 'tracy': 4546, 'theaters': 4428, 'sidney': 3968, 'statement': 4162, 'stanley': 4148, 'persons': 3244, 'cure': 1081, 'sleep': 4024, 'aid': 160, 'market': 2740, 'maker': 2714, 'randomly': 3515, 'pretend': 3381, 'wrap': 4963, 'website': 4834, 'detail': 1217, 'vision': 4754, 'fell': 1690, 'generally': 1881, 'inventive': 2341, 'bride': 577, 'deceased': 1146, 'dickens': 1240, 'energy': 1478, 'reed': 3580, 'bbc': 417, 'riveting': 3708, 'engaging': 1481, 'sword': 4340, 'ralph': 3510, 'ice': 2210, 'test': 4416, 'kings': 2481, 'sole': 4055, 'nurse': 3063, 'betty': 474, 'enemies': 1476, 'succeeds': 4264, 'handled': 2019, 'competent': 917, 'gonna': 1936, 'animation': 242, '3d': 46, 'backgrounds': 381, 'detailed': 1218, 'gem': 1877, 'entertain': 1497, 'akshay': 169, 'abraham': 69, 'dating': 1120, 'underrated': 4642, 'noticed': 3049, 'thru': 4483, 'cheated': 775, 'comment': 898, 'mine': 2853, 'vote': 4766, 'constructed': 959, 'obnoxious': 3067, 'meant': 2784, 'flash': 1745, 'flashback': 1746, 'directly': 1263, 'confidence': 938, 'dramas': 1347, 'throwing': 4480, 'compared': 912, 'cinematic': 818, 'river': 3707, 'burt': 629, 'reynolds': 3684, 'lewis': 2586, 'carries': 699, 'decision': 1151, 'evident': 1547, 'beautifully': 429, 'steals': 4172, 'voight': 4764, 'cox': 1026, 'ruin': 3750, 'treatment': 4574, 'humans': 2190, 'corruption': 1002, 'greed': 1968, 'fix': 1744, 'der': 1191, 'burned': 626, 'theyll': 4444, 'technical': 4381, 'super': 4295, 'rival': 3706, 'fulci': 1845, 'moved': 2922, 'crude': 1069, 'amateurish': 207, 'spite': 4117, 'comfortable': 892, 'worried': 4949, 'minded': 2850, 'tear': 4379, 'rich': 3685, 'trick': 4582, 'majority': 2712, 'underground': 4640, 'concerned': 932, 'hooked': 2153, 'slight': 4027, 'tape': 4365, 'museum': 2945, 'decade': 1144, 'month': 2896, 'daring': 1114, 'practice': 3363, 'st': 4137, 'rebel': 3561, 'catches': 715, 'contract': 973, 'miracle': 2860, 'row': 3744, 'praise': 3364, 'taught': 4370, 'lesson': 2577, 'send': 3875, 'buying': 641, 'party': 3200, 'daddy': 1096, 'directions': 1262, 'lincoln': 2608, 'simplicity': 3984, 'goodness': 1938, 'suffice': 4279, 'exceptional': 1558, 'system': 4345, 'independent': 2272, 'manner': 2729, 'strength': 4219, 'conventional': 979, 'wisdom': 4902, 'companion': 909, 'fonda': 1777, 'prove': 3445, 'genuine': 1891, 'unpleasant': 4674, 'rats': 3531, 'limited': 2606, 'filmmakers': 1720, 'dressed': 1358, 'noise': 3024, 'technically': 4382, 'greatly': 1967, '30s': 44, 'shake': 3914, 'pleasant': 3302, 'creative': 1041, 'cleverly': 842, 'dr': 1340, 'remarkable': 3613, 'cusack': 1088, 'accurate': 90, 'complex': 923, 'plots': 3310, 'rex': 3683, 'board': 522, 'ship': 3934, 'blown': 516, 'metal': 2823, 'pot': 3354, 'kung': 2498, 'fu': 1844, 'hoped': 2156, 'jackie': 2374, 'driver': 1366, 'rural': 3758, 'melodrama': 2797, 'unnecessary': 4672, 'jet': 2400, 'combat': 882, 'speed': 4103, 'smooth': 4041, 'fights': 1710, 'messed': 2821, 'talked': 4359, 'imagined': 2239, 'hasnt': 2044, 'dig': 1250, 'ad': 110, 'nelson': 2997, 'powell': 3358, 'superbly': 4297, 'crafted': 1029, 'powers': 3361, 'lies': 2591, 'argue': 290, 'wwii': 4975, 'heaven': 2068, 'support': 4303, 'relative': 3599, 'hunter': 2199, 'comedic': 888, 'ironically': 2356, '1940s': 13, 'cary': 706, 'carter': 703, 'relations': 3596, 'britain': 588, 'gentle': 1890, 'faced': 1617, 'explicit': 1591, 'originality': 3130, 'uk': 4626, 'edition': 1422, 'kitchen': 2485, 'bedroom': 437, 'bathroom': 412, 'shouldnt': 3952, 'afford': 138, 'lousy': 2667, 'exists': 1573, 'thousands': 4466, 'borrowed': 545, 'returned': 3666, 'benefit': 465, 'cause': 723, 'houses': 2180, 'seat': 3845, 'smoke': 4039, 'calm': 655, 'cliché': 844, 'factor': 1622, 'shining': 3933, 'scare': 3803, 'rare': 3523, 'olivier': 3103, 'perfectly': 3226, 'historically': 2120, 'filmed': 1717, 'prior': 3400, 'morality': 2903, 'counter': 1011, 'fatal': 1664, 'instinct': 2308, 'sadness': 3770, 'choices': 798, 'passed': 3202, 'evening': 1534, 'double': 1331, 'jean': 2389, 'rescue': 3643, 'ah': 158, 'conversation': 980, 'hunters': 2200, 'reporter': 3636, 'expensive': 1579, 'involve': 2345, 'isolated': 2363, 'cabin': 643, 'surrounding': 4319, 'reasonably': 3559, 'execution': 1566, 'confusion': 943, 'multiple': 2936, 'viewings': 4741, 'site': 4005, 'opportunities': 3120, 'effectively': 1430, 'constant': 957, 'reaction': 3541, 'warning': 4800, 'element': 1442, 'convinced': 984, 'psychological': 3458, 'successfully': 4267, 'homage': 2141, 'switch': 4339, 'absence': 70, 'supernatural': 4302, 'obscure': 3068, 'ultra': 4629, 'advise': 134, 'plague': 3285, 'variety': 4714, 'colonel': 876, 'translation': 4562, 'downright': 1337, 'millions': 2848, 'robin': 3715, 'ruined': 3751, 'performing': 3233, 'aimed': 162, 'implausible': 2245, 'altogether': 202, 'ed': 1415, 'wood': 4933, 'bottom': 551, 'rangers': 3517, 'toys': 4543, 'fed': 1682, 'directorial': 1265, 'specific': 4099, 'repetitive': 3633, 'caused': 724, 'hype': 2207, 'personally': 3243, 'unfortunate': 4653, 'souls': 4080, 'pokemon': 3320, 'built': 618, 'interaction': 2322, 'relief': 3605, 'ourselves': 3140, 'tremendous': 4579, 'efforts': 1433, 'experiences': 1582, 'models': 2881, 'leg': 2562, 'slasher': 4020, 'stands': 4147, 'chose': 804, '3000': 43, 'lacked': 2503, 'aforementioned': 139, 'wannabe': 4787, 'mob': 2879, 'blah': 496, 'cheese': 780, 'citizen': 824, 'orson': 3132, 'welles': 4844, 'control': 977, 'journey': 2421, 'initial': 2290, 'studios': 4241, 'arguably': 289, '25': 40, 'foster': 1809, 'slick': 4026, 'speaks': 4096, 'rough': 3741, 'draw': 1349, 'limits': 2607, 'blonde': 511, 'centers': 734, 'methods': 2825, 'portion': 3338, 'craft': 1028, 'skill': 4013, 'distinct': 1296, 'drawing': 1350, 'court': 1020, 'hall': 2009, 'presented': 3376, 'twisted': 4618, 'guilty': 1995, 'medium': 2792, 'defined': 1160, 'issue': 2364, 'mill': 2845, 'section': 3853, 'dutch': 1389, 'plane': 3288, 'college': 875, 'jumps': 2432, 'explains': 1589, 'laughably': 2531, 'handed': 2016, 'air': 164, 'anywhere': 263, 'spends': 4107, 'strictly': 4223, 'forty': 1807, 'comparison': 914, 'tight': 4492, 'suspenseful': 4331, 'guts': 1999, 'endings': 1472, 'narrator': 2967, 'christian': 808, 'hints': 2113, 'absurd': 73, 'satan': 3787, 'lately': 2524, 'commercials': 903, 'enemy': 1477, 'prime': 3395, 'deserve': 1199, 'suffer': 4275, 'misery': 2865, 'taste': 4369, 'resources': 3651, 'superman': 4301, 'rubber': 3747, 'hide': 2097, 'length': 2569, 'earned': 1401, 'attempts': 343, 'mysterious': 2955, 'prom': 3429, 'cardboard': 682, 'inept': 2281, 'masses': 2755, 'catchy': 717, 'alright': 198, 'consistently': 954, 'wicked': 4879, 'nasty': 2968, 'craig': 1030, 'wallace': 4782, 'held': 2074, 'learns': 2553, 'folk': 1770, 'useful': 4694, 'associated': 327, 'delivering': 1171, 'dog': 1310, 'suggests': 4282, 'executed': 1565, 'relationships': 3598, 'threat': 4467, 'barbara': 397, 'catherine': 719, 'persona': 3239, 'achieved': 93, 'forbidden': 1785, 'expressions': 1603, 'desire': 1205, 'aspects': 322, 'attitudes': 347, 'angles': 237, 'twists': 4619, 'respected': 3653, 'impress': 2250, 'scale': 3802, 'russian': 3762, 'protagonist': 3441, 'distant': 1295, 'neighborhood': 2993, 'mixture': 2878, 'depressing': 1188, 'rocks': 3722, 'weight': 4840, 'kapoor': 2443, 'khan': 2459, 'annoyed': 248, 'promising': 3433, 'mask': 2752, 'deaths': 1142, 'technique': 4383, 'risk': 3704, 'refuses': 3587, 'nostalgic': 3039, 'responsibility': 3655, 'green': 1971, 'countryside': 1015, 'areas': 287, 'reel': 3581, 'opposed': 3122, 'corny': 997, 'bumbling': 622, 'ultimately': 4628, 'changing': 752, 'protagonists': 3442, 'ground': 1979, 'wonders': 4931, 'slap': 4018, 'slightest': 4028, 'notion': 3050, 'turkey': 4604, 'disjointed': 1287, 'critical': 1062, 'redeeming': 3577, 'mile': 2842, 'league': 2549, 'toy': 4542, 'jennifer': 2392, 'dolph': 1317, 'christ': 807, 'fallen': 1638, 'unwatchable': 4682, 'seagal': 3839, 'whenever': 4863, 'lowest': 2678, 'cover': 1022, 'warrior': 4802, 'masters': 2761, 'universe': 4666, 'accepted': 82, 'training': 4558, 'travel': 4567, 'fresh': 1833, 'fever': 1699, 'technology': 4385, 'producing': 3417, 'swear': 4334, 'wayne': 4821, '60s': 54, 'returns': 3668, 'comics': 895, 'descent': 1193, 'detective': 1220, 'mans': 2730, 'stuck': 4237, 'sexually': 3910, 'square': 4136, 'settle': 3902, 'affair': 135, 'catholic': 720, 'encounter': 1466, 'creep': 1051, '11': 2, 'amongst': 218, 'atmospheric': 334, 'doubts': 1333, 'walken': 4777, 'neat': 2982, 'emphasis': 1463, 'moody': 2899, 'angle': 236, 'encounters': 1467, 'winner': 4897, 'projects': 3428, 'lawrence': 2539, 'blow': 514, 'service': 3896, 'glass': 1917, 'joined': 2413, 'fabulous': 1615, 'rocket': 3721, 'possibilities': 3348, 'tonight': 4519, 'partly': 3197, '50': 51, 'lessons': 2578, 'pit': 3278, 'maria': 2736, 'mel': 2796, 'appearing': 277, 'currently': 1085, 'loads': 2633, 'mediocre': 2791, 'disappointment': 1275, 'phantom': 3251, 'planet': 3289, '2000': 30, 'featured': 1679, 'rushed': 3760, 'holiday': 2134, 'disneys': 1290, 'factory': 1623, 'bank': 394, 'orders': 3127, 'dollar': 1314, 'reveal': 3670, 'presents': 3377, 'advanced': 128, 'motives': 2916, 'offensive': 3086, 'messages': 2820, 'activities': 102, 'grandmother': 1955, 'raise': 3507, 'solely': 4056, 'lacks': 2505, 'brains': 563, 'brooks': 596, 'shirt': 3937, 'gag': 1861, 'ball': 388, 'handle': 2018, 'desperation': 1210, 'winter': 4900, 'burn': 625, 'student': 4238, 'prequel': 3372, 'correct': 1000, 'blacks': 494, 'jenny': 2393, 'notice': 3048, 'sexuality': 3909, 'resulting': 3661, 'divorce': 1301, '1933': 12, 'infamous': 2284, 'nude': 3058, 'swimming': 4338, 'trashy': 4566, 'del': 1165, 'unforgettable': 4652, 'giallo': 1904, 'massacre': 2754, 'bare': 398, 'hotel': 2175, 'struggle': 4234, 'breasts': 572, 'east': 1407, 'classics': 837, 'warriors': 4803, 'landscape': 2513, '1999': 27, 'credible': 1048, 'carrey': 696, 'trained': 4557, 'troubles': 4594, 'stupidity': 4248, 'womans': 4922, 'dress': 1357, 'answers': 252, 'hint': 2112, 'starting': 4158, 'understated': 4646, 'free': 1827, 'mountain': 2917, 'menace': 2806, 'vulnerable': 4768, 'forces': 1788, 'parker': 3191, 'deeply': 1156, 'estate': 1525, 'explained': 1587, 'elderly': 1440, 'uncomfortable': 4637, 'health': 2060, 'disturbed': 1299, 'knife': 2487, 'investigate': 2342, 'garden': 1872, 'angel': 231, 'devil': 1228, 'invisible': 2344, 'neighbors': 2994, 'sympathetic': 4342, '16': 8, 'southern': 4088, 'von': 4765, 'pie': 3271, 'table': 4346, 'lips': 2615, 'throws': 4482, 'eating': 1413, 'friendly': 1836, 'claire': 831, 'duo': 1386, 'pretending': 3382, 'antics': 255, 'marie': 2737, 'phony': 3256, 'wealth': 4826, 'golden': 1934, 'formula': 1802, 'simmons': 3981, 'julie': 2428, 'spoof': 4127, 'lucky': 2683, 'connect': 944, 'careers': 687, 'industry': 2280, 'lower': 2677, 'widmark': 4882, 'shell': 3927, 'hed': 2072, 'abysmal': 76, 'bollywood': 530, 'watchable': 4812, 'widely': 4881, 'kenneth': 2455, 'farm': 1656, 'presumably': 3380, 'regardless': 3590, 'aint': 163, 'screenwriter': 3833, 'concerning': 933, 'serves': 3895, 'lucy': 2684, 'twin': 4615, 'twins': 4616, 'properly': 3437, 'par': 3184, 'cash': 709, 'naive': 2958, '1980': 20, 'rabbit': 3498, 'timing': 4498, 'delivery': 1173, 'unbearable': 4633, 'demand': 1174, 'bands': 392, 'choreographed': 801, 'carol': 693, 'doctor': 1304, 'greedy': 1969, 'seeking': 3859, 'sell': 3871, 'adventures': 131, 'arrive': 300, 'airport': 167, 'challenge': 743, 'contact': 961, 'push': 3477, 'tunes': 4603, 'popularity': 3334, 'transition': 4561, 'pet': 3246, '40s': 49, 'jerk': 2395, 'spooky': 4128, 'fool': 1779, 'feminist': 1695, 'politically': 3325, 'ted': 4386, 'marks': 2742, 'suited': 4286, 'richardson': 3688, 'dear': 1140, 'jackson': 2375, 'blunt': 520, 'victims': 4730, 'acceptable': 81, 'ignored': 2225, 'colors': 879, 'vietnam': 4735, 'authentic': 358, 'birthday': 487, 'fancy': 1649, 'lou': 2663, 'reduced': 3579, 'exposed': 1598, 'pushing': 3479, 'placed': 3283, 'wilson': 4891, 'exaggerated': 1552, 'eg': 1434, 'parties': 3196, 'robots': 3718, 'mike': 2838, 'seasons': 3844, 'member': 2800, 'mindless': 2851, 'kudos': 2497, 'andrews': 229, 'horses': 2171, 'careful': 688, 'terrorist': 4413, 'paranoia': 3186, 'intentionally': 2320, 'ken': 2453, 'afterwards': 145, 'losers': 2656, 'stevens': 4183, 'lay': 2542, 'odds': 3082, 'celebrity': 729, 'merit': 2816, 'clips': 852, 'omen': 3104, 'cake': 648, 'favorites': 1672, 'wacky': 4769, 'hop': 2154, 'chicago': 785, 'bay': 416, 'mirror': 2861, 'brilliantly': 584, 'animal': 239, 'clumsy': 866, 'occur': 3076, 'admire': 121, 'ethan': 1528, 'philip': 3252, 'hoffman': 2128, 'lumet': 2688, 'caliber': 649, 'myers': 2952, 'beloved': 461, 'bo': 521, 'fired': 1735, 'safe': 3771, 'familys': 1646, 'sarah': 3785, 'source': 4086, '35': 45, 'motivations': 2915, 'deliberately': 1166, 'mad': 2696, 'wendy': 4846, 'magical': 2704, 'aired': 165, 'awe': 370, 'security': 3854, 'drop': 1369, 'determined': 1221, 'population': 3335, 'blank': 501, 'relatives': 3601, 'beer': 439, 'understanding': 4645, 'destroy': 1213, '1968': 16, 'firstly': 1737, 'peters': 3248, 'trilogy': 4586, 'rubbish': 3748, 'fitting': 1742, 'lol': 2640, 'dreary': 1356, 'zombies': 4998, 'contrary': 974, 'ought': 3138, 'educational': 1425, 'user': 4696, 'showcase': 3954, 'remain': 3609, 'cases': 708, 'spoke': 4125, 'elegant': 1441, 'rising': 3703, 'panic': 3181, 'kate': 2446, 'accept': 80, 'classes': 834, 'sir': 4000, 'travesty': 4570, 'imagery': 2234, 'mickey': 2831, 'agents': 151, 'significant': 3972, 'program': 3424, 'countless': 1012, 'cynical': 1093, 'helen': 2075, 'suspicious': 4332, 'construction': 960, 'reveals': 3673, 'innocence': 2293, 'relate': 3593, 'clean': 838, 'bone': 533, 'stretch': 4221, 'intention': 2319, 'overlook': 3153, 'returning': 3667, 'embarrassment': 1455, 'smaller': 4034, 'domestic': 1318, 'thrilling': 4474, 'trap': 4563, 'striking': 4226, 'relevant': 3604, 'scripts': 3836, 'prisoner': 3402, 'gothic': 1945, 'covers': 1024, 'knock': 2488, 'controversial': 978, 'stops': 4203, 'easier': 1405, 'soft': 4051, 'wondered': 4927, 'sally': 3776, 'tiresome': 4502, 'drunken': 1376, 'walker': 4778, 'vehicle': 4718, 'degree': 1164, 'september': 3884, '1973': 19, 'iran': 2350, 'nearby': 2980, 'breaking': 570, 'crying': 1074, 'useless': 4695, 'paltrow': 3178, 'chases': 771, 'considerable': 950, 'authority': 360, 'battles': 415, 'props': 3439, 'dressing': 1359, 'happiness': 2031, 'communist': 907, 'korean': 2495, 'childish': 791, 'sum': 4289, 'removed': 3624, 'blond': 510, 'hardcore': 2034, 'thirty': 4456, 'niro': 3019, 'prince': 3396, 'dogs': 1311, 'kubrick': 2496, 'orange': 3125, 'jon': 2416, 'ned': 2986, 'portray': 3340, 'civilization': 827, 'selling': 3873, 'willing': 4889, 'sentimental': 3882, 'redemption': 3578, 'commented': 900, 'sacrifice': 3766, 'buck': 605, 'dinosaur': 1255, 'chased': 770, 'territory': 4411, 'psychic': 3456, 'godzilla': 1929, 'questionable': 3488, 'closed': 854, 'fortunately': 1805, 'display': 1291, 'traveling': 4568, 'jealous': 2388, 'alternate': 200, 'ha': 2002, 'blows': 517, 'destiny': 1212, 'destroying': 1215, 'thick': 4447, 'patrick': 3213, 'ears': 1402, 'larger': 2519, 'urge': 4689, 'fits': 1741, 'grave': 1962, 'ordinary': 3128, 'brutally': 604, 'survived': 4322, 'conspiracy': 956, 'killings': 2473, 'achievement': 94, 'shakespeare': 3915, 'devoid': 1230, 'clothes': 860, 'topic': 4526, 'moronic': 2907, 'anyways': 262, 'mistakes': 2873, 'eaten': 1412, 'spielberg': 4110, 'affected': 137, 'finger': 1731, 'incomprehensible': 2267, 'pretentious': 3383, 'manage': 2722, 'downhill': 1336, 'deeper': 1155, 'laughter': 2535, 'vice': 4727, 'youth': 4994, 'foreign': 1790, 'quote': 3496, 'linda': 2609, 'shower': 3957, 'kicked': 2461, 'surviving': 4323, 'mentioning': 2812, 'horrid': 2165, 'unbelievably': 4635, 'weapon': 4828, 'juvenile': 2441, 'cinderella': 815, 'guessed': 1990, 'marketing': 2741, 'illogical': 2231, 'cg': 739, 'ridiculously': 3694, 'falk': 1636, 'max': 2774, 'identify': 2216, 'floating': 1758, 'pops': 3332, 'characterization': 759, 'theory': 4437, 'neil': 2995, 'simon': 3982, 'captivating': 675, 'nyc': 3065, 'irrelevant': 2358, 'rap': 3520, 'revolves': 3682, 'viewed': 4737, 'treated': 4573, 'los': 2653, 'secondly': 3847, 'hong': 2149, 'kong': 2494, 'whoever': 4872, 'colorful': 878, 'attractive': 351, 'wolf': 4920, 'capture': 676, 'dealt': 1138, 'cagney': 646, 'susan': 4326, 'wed': 4835, 'criminals': 1058, 'caine': 647, 'hysterical': 2208, 'godfather': 1927, 'burton': 630, 'undoubtedly': 4648, 'interpretation': 2328, 'condition': 937, 'symbolism': 4341, 'overwhelming': 3157, 'damon': 1101, 'homosexual': 2145, 'stomach': 4196, 'raw': 3532, 'prepared': 3371, 'flaw': 1749, 'flight': 1757, 'hollow': 2135, 'damage': 1099, 'landing': 2512, 'nuts': 3064, 'season': 3843, 'eve': 1532, 'lone': 2642, 'jungle': 2434, 'stylish': 4251, 'abilities': 64, 'understood': 4647, 'columbo': 881, 'attend': 344, 'disappear': 1270, 'suspects': 4328, 'photos': 3261, 'hill': 2108, 'insult': 2309, 'tales': 4357, 'curiosity': 1082, 'hip': 2114, 'fate': 1665, 'engaged': 1480, 'fly': 1763, 'clark': 832, 'everywhere': 1545, 'paris': 3189, 'nick': 3012, '2004': 34, 'march': 2734, 'horrifying': 2167, 'inevitable': 2282, 'essence': 1521, 'host': 2173, 'landscapes': 2514, 'regard': 3588, 'melting': 2799, 'stale': 4141, 'providing': 3451, 'continued': 970, 'stellar': 4174, 'developing': 1224, 'minimal': 2855, 'hearing': 2063, 'block': 508, 'irony': 2357, 'resist': 3648, 'perry': 3237, 'scrooge': 3837, 'walks': 4780, 'festival': 1697, 'inspector': 2299, 'serial': 3889, 'jones': 2418, 'boom': 537, 'poster': 3353, 'spike': 4111, 'chosen': 805, 'ruby': 3749, 'anger': 235, 'passes': 3203, 'groups': 1981, 'kidding': 2465, 'kissing': 2484, 'justin': 2440, 'amazingly': 210, 'behave': 445, '2nd': 41, 'load': 2631, 'wished': 4905, 'bargain': 400, 'bin': 483, 'involvement': 2347, 'profound': 3423, 'physically': 3263, 'rocky': 3723, 'rambo': 3511, 'helicopter': 2076, 'tortured': 4530, 'troops': 4591, 'freak': 1824, 'candy': 668, 'couples': 1017, 'atrocious': 335, 'rights': 3697, 'remotely': 3623, 'fat': 1663, 'relation': 3595, 'et': 1526, 'extent': 1605, 'mainstream': 2709, 'wide': 4880, 'kick': 2460, 'em': 1452, 'tame': 4363, 'teaching': 4377, 'jaw': 2384, 'dropping': 1371, 'exploitation': 1592, 'doomed': 1327, 'hopeless': 2158, 'combination': 883, 'picking': 3267, 'intensity': 2317, 'qualities': 3483, 'loaded': 2632, 'spirits': 4115, 'sadistic': 3768, 'humble': 2191, 'belong': 459, 'lesser': 2576, 'experiment': 1583, 'enterprise': 1495, 'stolen': 4195, 'ms': 2931, 'hugh': 2186, 'granted': 1957, 'screens': 3832, 'wing': 4896, 'darkness': 1117, 'silence': 3974, 'slaughter': 4021, 'instant': 2305, 'truck': 4595, 'lasted': 2522, 'karen': 2444, 'surprising': 4315, 'raymond': 3534, 'ignore': 2224, 'signed': 3971, 'ham': 2011, 'intrigued': 2334, 'diana': 1237, 'thrillers': 4473, 'copies': 992, 'tender': 4401, 'chain': 741, 'overlooked': 3154, 'hello': 2078, 'nazis': 2978, 'trial': 4580, 'believing': 457, 'yesterday': 4983, 'molly': 2884, 'argument': 291, 'sincere': 3991, 'caring': 691, 'eyed': 1612, 'nostalgia': 3038, 'climactic': 848, 'sunshine': 4294, 'eyre': 1614, 'scottish': 3825, 'smiling': 4037, 'feed': 1683, 'illegal': 2229, 'games': 1865, 'heat': 2067, 'thoughtful': 4463, 'dances': 1106, 'matched': 2763, 'scarecrow': 3804, 'brilliance': 582, 'icon': 2211, 'succeeded': 4263, 'strike': 4224, 'explosions': 1597, 'remarks': 3615, 'pants': 3182, 'attack': 337, 'parody': 3192, 'noir': 3023, 'mrs': 2930, 'accompanied': 86, 'glenn': 1918, 'unfolds': 4651, 'planning': 3291, 'shadows': 3913, 'underlying': 4641, 'measure': 2786, 'creator': 1043, 'writes': 4970, 'everyones': 1543, 'shines': 3932, 'scores': 3823, 'scientist': 3818, 'lab': 2501, 'assistant': 326, 'faster': 1662, 'hatred': 2049, 'april': 284, 'basement': 405, 'emily': 1456, 'waves': 4819, 'resort': 3650, 'chess': 783, 'ensues': 1493, 'cinemas': 817, 'precious': 3366, 'plausible': 3295, 'saturday': 3792, 'creators': 1044, 'doors': 1329, 'grinch': 1975, 'marvelous': 2750, 'chuck': 812, 'widow': 4883, 'fox': 1814, 'hopefully': 2157, 'hearts': 2066, 'spoiled': 4122, 'selfish': 3870, 'crucial': 1068, 'anybody': 257, 'wet': 4855, 'crimes': 1056, 'mistress': 2874, 'secretly': 3851, 'fortune': 1806, 'overrated': 3156, 'shorts': 3948, 'maggie': 2702, 'sin': 3988, 'francis': 1818, 'entry': 1504, 'loyal': 2679, 'chief': 788, 'savage': 3793, 'monk': 2889, 'nightmares': 3015, 'pulp': 3465, 'demented': 1176, 'defend': 1158, 'property': 3438, 'circle': 821, 'stanwyck': 4149, 'restaurant': 3658, 'hilariously': 2107, 'mansion': 2731, 'flop': 1760, 'alex': 179, 'buried': 624, 'airplane': 166, 'erotic': 1515, 'aids': 161, 'elephant': 1444, 'cannibal': 669, 'franco': 1820, 'females': 1694, 'purely': 3472, 'serve': 3893, 'online': 3109, 'someones': 4065, 'medical': 2790, 'overacting': 3149, 'moral': 2902, 'retired': 3664, 'alexander': 180, 'wouldve': 4959, 'cruise': 1071, 'broad': 590, 'rendition': 3625, 'captures': 678, 'edgar': 1417, 'holmes': 2139, 'appropriate': 283, 'pool': 3327, 'thief': 4448, 'awfully': 373, 'clichéd': 845, 'ironic': 2355, 'packed': 3166, 'tomatoes': 4515, 'grow': 1982, 'size': 4012, 'scientists': 3819, 'cities': 823, 'boot': 538, 'trapped': 4564, 'teachers': 4376, 'ancient': 225, 'forgive': 1795, 'screams': 3828, 'henry': 2084, 'seed': 3856, 'laura': 2536, 'relatively': 3600, 'revealing': 3672, 'stress': 4220, 'tracks': 4545, 'dedicated': 1153, 'burns': 628, 'womens': 4924, 'focusing': 1769, 'outfit': 3144, 'flies': 1756, 'connected': 945, 'map': 2733, 'investigation': 2343, 'wives': 4918, 'rob': 3710, 'streets': 4217, 'homeless': 2143, 'blend': 504, 'religious': 3608, 'pleased': 3305, 'attached': 336, 'werewolf': 4850, 'fury': 1855, 'uneven': 4649, 'polanski': 3321, 'disappoint': 1272, 'sounded': 4082, 'li': 2587, 'disaster': 1276, 'outrageous': 3145, 'ties': 4490, 'beach': 419, 'hood': 2151, 'hire': 2116, 'dragon': 1344, 'bear': 420, 'installment': 2303, 'dinosaurs': 1256, 'rolled': 3729, 'connection': 946, 'types': 4622, 'apes': 267, 'brosnan': 597, 'annie': 247, 'letter': 2581, 'brad': 560, 'contained': 963, 'carrie': 697, 'attacks': 339, 'empathy': 1462, 'mentions': 2813, 'dentist': 1180, 'gifted': 1907, 'amy': 222, 'taxi': 4371, 'crack': 1027, 'virus': 4752, 'eager': 1396, 'awake': 365, 'text': 4419, 'uwe': 4703, 'boll': 529, 'bullet': 620, 'bleak': 503, 'spider': 4109, 'defeat': 1157, 'sellers': 3872, '14': 6, 'psychiatrist': 3455, 'genuinely': 1892, 'subsequent': 4257, 'jamie': 2379, 'curtis': 1087, 'carpenter': 694, 'staying': 4168, 'progresses': 3426, 'pat': 3208, 'retarded': 3663, 'nervous': 2999, 'unpredictable': 4675, 'semi': 3874, 'gerard': 1895, 'pile': 3275, 'enthusiasm': 1501, 'stunts': 4246, 'passionate': 3206, 'steps': 4177, 'belongs': 460, 'merits': 2817, 'glimpse': 1919, 'newly': 3004, 'circumstances': 822, 'promises': 3432, 'voiced': 4762, 'junior': 2435, 'paulie': 3215, 'edie': 1419, 'album': 175, 'helping': 2081, 'fairy': 1632, 'diamond': 1236, 'anderson': 227, 'realizing': 3555, 'chaos': 755, 'bird': 484, 'wells': 4845, 'creation': 1040, 'carefully': 689, 'duty': 1390, 'bat': 410, 'streep': 4215, 'choreography': 802, 'gift': 1906, 'pitt': 3280, 'method': 2824, 'todd': 4510, 'integrity': 2311, 'mtv': 2933, 'ps': 3453, 'sixties': 4011, 'inappropriate': 2259, 'improvement': 2256, 'threw': 4470, 'frame': 1815, 'distribution': 1298, 'distracting': 1297, 'sits': 4006, 'blake': 498, 'nicholson': 3011, 'reference': 3582, 'prostitute': 3440, 'beast': 422, 'catching': 716, 'potentially': 3356, 'wanna': 4786, 'da': 1094, 'jaws': 2385, 'empire': 1464, 'abusive': 75, 'scripted': 3835, 'superficial': 4298, 'iraq': 2351, 'shine': 3931, 'deaf': 1134, 'schools': 3814, 'insulting': 2310, 'education': 1424, 'swim': 4337, 'lena': 2568, 'faults': 1669, 'branagh': 564, 'philosophy': 3254, 'lovable': 2668, 'recorded': 3574, 'bush': 632, 'department': 1182, 'parallel': 3185, 'critic': 1061, 'horrendous': 2162, 'robbins': 3712, 'un': 4630, 'university': 4667, 'norman': 3035, 'threatening': 4468, 'kicking': 2462, 'warming': 4795, 'staff': 4138, 'angeles': 233, 'lit': 2621, 'frequently': 1832, 'laws': 2540, 'combine': 884, 'generated': 1882, 'raising': 3509, 'settings': 3901, 'jumping': 2431, 'solo': 4058, 'routine': 3743, 'punishment': 3467, 'sandler': 3781, 'machines': 2694, 'sidekick': 3966, 'blew': 505, 'buddies': 608, 'convincingly': 986, 'princess': 3397, 'louis': 2665, 'strangely': 4212, 'bridge': 578, 'dolls': 1316, 'international': 2326, 'cringe': 1059, 'tooth': 4524, 'enjoyment': 1488, 'gabriel': 1859, 'temple': 4398, 'claimed': 829, 'matrix': 2767, 'neo': 2998, 'iii': 2227, 'junk': 2436, 'fx': 1858, 'immensely': 2243, 'showdown': 3955, 'punk': 3468, 'lucas': 2680, 'eva': 1531, 'competition': 918, 'surface': 4310, 'hippie': 2115, 'desert': 1198, 'pig': 3274, 'explosion': 1596, 'vegas': 4717, 'strangers': 4214, 'singers': 3994, 'unintentional': 4658, 'ego': 1435, 'lemmon': 2567, 'neighbor': 2992, 'barry': 401, 'solution': 4059, 'slave': 4022, 'farce': 1654, 'liberal': 2588, 'suitable': 4285, 'testament': 4417, 'vacation': 4704, 'guest': 1992, 'secretary': 3850, 'timothy': 4499, 'dalton': 1098, 'rochester': 3719, 'spirited': 4114, 'household': 2179, 'attraction': 350, 'tap': 4364, 'shelley': 3928, 'winters': 4901, 'louise': 2666, 'brady': 561, 'ingredients': 2289, 'endearing': 1469, 'recording': 3575, 'basketball': 409, 'proceedings': 3410, 'ya': 4976, 'quotes': 3497, 'weapons': 4829, 'spiritual': 4116, 'religion': 3607, 'equivalent': 1512, 'excited': 1561, 'cliff': 847, 'wealthy': 4827, 'directs': 1267, 'imitation': 2241, 'massive': 2756, '1984': 23, 'beliefs': 452, 'sticks': 4186, 'differences': 1247, 'everyday': 1541, 'essential': 1522, 'letters': 2582, 'proceeds': 3411, 'purchase': 3469, 'occurred': 3077, 'ratings': 3530, 'advantage': 129, 'importance': 2246, 'masterpieces': 2760, 'mysteries': 2954, 'garbo': 1871, 'wasting': 4810, 'engage': 1479, 'excessive': 1560, 'official': 3094, 'swedish': 4335, 'lane': 2515, 'unreal': 4676, 'definition': 1163, 'stereotype': 4178, 'lynch': 2691, 'porno': 3337, 'amounts': 220, 'fascinated': 1657, 'amazed': 208, 'performs': 3234, 'crush': 1072, 'celluloid': 731, 'indians': 2275, 'errors': 1516, 'hbo': 2055, 'angela': 232, 'worn': 4948, 'complaint': 920, 'button': 639, 'rank': 3518, 'kirk': 2482, 'bold': 528, 'cousin': 1021, 'clip': 851, 'ritter': 3705, 'ships': 3935, '2005': 35, 'amitabh': 216, 'illness': 2230, 'spring': 4134, 'poverty': 3357, 'agreed': 156, 'hideous': 2098, 'levels': 2585, 'balls': 390, 'inducing': 2279, '75': 57, 'clown': 862, '13th': 5, 'wandering': 4785, 'opinions': 3119, 'jessica': 2398, 'oz': 3160, 'vincent': 4746, 'movements': 2924, 'soviet': 4089, 'intent': 2318, 'bonus': 534, 'bakshi': 386, 'wizard': 4919, 'frustration': 1843, 'elvira': 1450, 'doo': 1325, 'root': 3737, 'birds': 485, 'whale': 4857, 'petty': 3249, 'backdrop': 379, 'bela': 450, 'react': 3540, 'lugosi': 2686, 'cuba': 1075, 'che': 773, 'experiments': 1584, 'secrets': 3852, 'purposes': 3475, 'conceived': 929, 'explored': 1595, 'hal': 2006, 'kingdom': 2480, 'bud': 607, 'sid': 3964, 'samurai': 3779, 'beating': 425, 'comparing': 913, 'bergman': 466, 'cole': 873, 'bell': 458, 'link': 2613, 'amanda': 205, 'devils': 1229, 'germans': 1897, 'bobby': 525, 'donna': 1323, 'masterful': 2758, 'florida': 1761, 'drink': 1361, 'bourne': 554, 'discussion': 1284, 'beneath': 464, 'compelled': 915, 'primary': 3394, 'trees': 4577, 'mars': 2746, 'exotic': 1574, 'lily': 2605, 'fay': 1674, 'inspiring': 2302, 'richards': 3687, 'acid': 95, 'reflect': 3584, 'elvis': 1451, 'jesse': 2397, 'marty': 2749, 'chan': 746, 'carl': 692, 'stiller': 4189, 'miike': 2837, 'triumph': 4590, 'lees': 2560, 'reflection': 3585, 'blob': 507, 'tall': 4362, 'aging': 153, 'discovery': 1282, 'simpson': 3987, 'wrapped': 4964, 'hudson': 2184, 'bacall': 377, 'vengeance': 4719, 'honor': 2150, 'frequent': 1831, 'banned': 395, 'pursuit': 3476, 'ridden': 3691, 'laurel': 2537, 'stan': 4142, 'capturing': 679, 'purchased': 3470, 'modesty': 2883, 'charlotte': 766, 'doll': 1313, 'warren': 4801, 'ramones': 3512, 'displayed': 1292, 'cinematographer': 819, 'arrogant': 303, 'honesty': 2148, 'focused': 1767, 'mario': 2738, 'ocean': 3079, 'stargate': 4151, 'matthau': 2771, 'stones': 4198, 'possibility': 3349, 'allowing': 191, 'stooges': 4200, 'ashley': 313, '1972': 18, 'gadget': 1860, 'kay': 2447, 'bettie': 473, 'incident': 2260, 'scooby': 3820, 'montana': 2895, 'tarzan': 4367, 'heston': 2094, 'sandra': 3782, 'desired': 1206, 'crocodile': 1065, 'homer': 2144, 'ear': 1397, 'domino': 1319, 'hamlet': 2013, 'mildred': 2841, 'campbell': 663, 'shirley': 3936, 'poem': 3312, 'jazz': 2387, 'gundam': 1997}\n"
     ]
    }
   ],
   "source": [
    "print(str(vocabulary))"
   ]
  },
  {
   "cell_type": "markdown",
   "metadata": {},
   "source": [
    "Once you have added the endpoint name to the Lambda function, click on **Save**. Your Lambda function is now up and running. Next we need to create a way for our web app to execute the Lambda function."
   ]
  },
  {
   "cell_type": "markdown",
   "metadata": {},
   "source": [
    "### Setting up API Gateway\n",
    "\n",
    "Now that our Lambda function is set up, it is time to create a new API using API Gateway that will trigger the Lambda function we have just created.\n",
    "\n",
    "Using AWS Console, navigate to **Amazon API Gateway** and then click on **Get started**.\n",
    "\n",
    "On the next page, make sure that **New API** is selected and give the new api a name, for example, `sentiment_analysis_web_app`. Then, click on **Create API**.\n",
    "\n",
    "Now we have created an API, however it doesn't currently do anything. What we want it to do is to trigger the Lambda function that we created earlier.\n",
    "\n",
    "Select the **Actions** dropdown menu and click **Create Method**. A new blank method will be created, select its dropdown menu and select **POST**, then click on the check mark beside it.\n",
    "\n",
    "For the integration point, make sure that **Lambda Function** is selected and click on the **Use Lambda Proxy integration**. This option makes sure that the data that is sent to the API is then sent directly to the Lambda function with no processing. It also means that the return value must be a proper response object as it will also not be processed by API Gateway.\n",
    "\n",
    "Type the name of the Lambda function you created earlier into the **Lambda Function** text entry box and then click on **Save**. Click on **OK** in the pop-up box that then appears, giving permission to API Gateway to invoke the Lambda function you created.\n",
    "\n",
    "The last step in creating the API Gateway is to select the **Actions** dropdown and click on **Deploy API**. You will need to create a new Deployment stage and name it anything you like, for example `prod`.\n",
    "\n",
    "You have now successfully set up a public API to access your SageMaker model. Make sure to copy or write down the URL provided to invoke your newly created public API as this will be needed in the next step. This URL can be found at the top of the page, highlighted in blue next to the text **Invoke URL**."
   ]
  },
  {
   "cell_type": "markdown",
   "metadata": {},
   "source": [
    "## Step 7: Deploying our web app\n",
    "\n",
    "Now that we have a publicly available API, we can start using it in a web app. For our purposes, we have provided a simple static html file which can make use of the public api you created earlier.\n",
    "\n",
    "In the `website` folder there should be a file called `index.html`. Download the file to your computer and open that file up in a text editor of your choice. There should be a line which contains **\\*\\*REPLACE WITH PUBLIC API URL\\*\\***. Replace this string with the url that you wrote down in the last step and then save the file.\n",
    "\n",
    "Now, if you open `index.html` on your local computer, your browser will behave as a local web server and you can use the provided site to interact with your SageMaker model.\n",
    "\n",
    "If you'd like to go further, you can host this html file anywhere you'd like, for example using github or hosting a static site on Amazon's S3. Once you have done this you can share the link with anyone you'd like and have them play with it too!\n",
    "\n",
    "> **Important Note** In order for the web app to communicate with the SageMaker endpoint, the endpoint has to actually be deployed and running. This means that you are paying for it. Make sure that the endpoint is running when you want to use the web app but that you shut it down when you don't need it, otherwise you will end up with a surprisingly large AWS bill."
   ]
  },
  {
   "cell_type": "markdown",
   "metadata": {},
   "source": [
    "### Delete the endpoint\n",
    "\n",
    "Remember to always shut down your endpoint if you are no longer using it. You are charged for the length of time that the endpoint is running so if you forget and leave it on you could end up with an unexpectedly large bill."
   ]
  },
  {
   "cell_type": "code",
   "execution_count": 52,
   "metadata": {},
   "outputs": [],
   "source": [
    "xgb_predictor.delete_endpoint()"
   ]
  },
  {
   "cell_type": "markdown",
   "metadata": {},
   "source": [
    "## Optional: Clean up\n",
    "\n",
    "The default notebook instance on SageMaker doesn't have a lot of excess disk space available. As you continue to complete and execute notebooks you will eventually fill up this disk space, leading to errors which can be difficult to diagnose. Once you are completely finished using a notebook it is a good idea to remove the files that you created along the way. Of course, you can do this from the terminal or from the notebook hub if you would like. The cell below contains some commands to clean up the created files from within the notebook."
   ]
  },
  {
   "cell_type": "code",
   "execution_count": 53,
   "metadata": {},
   "outputs": [],
   "source": [
    "# First we will remove all of the files contained in the data_dir directory\n",
    "!rm $data_dir/*\n",
    "\n",
    "# And then we delete the directory itself\n",
    "!rmdir $data_dir\n",
    "\n",
    "# Similarly we remove the files in the cache_dir directory and the directory itself\n",
    "!rm $cache_dir/*\n",
    "!rmdir $cache_dir"
   ]
  },
  {
   "cell_type": "code",
   "execution_count": null,
   "metadata": {},
   "outputs": [],
   "source": []
  }
 ],
 "metadata": {
  "kernelspec": {
   "display_name": "conda_python3",
   "language": "python",
   "name": "conda_python3"
  },
  "language_info": {
   "codemirror_mode": {
    "name": "ipython",
    "version": 3
   },
   "file_extension": ".py",
   "mimetype": "text/x-python",
   "name": "python",
   "nbconvert_exporter": "python",
   "pygments_lexer": "ipython3",
   "version": "3.6.5"
  }
 },
 "nbformat": 4,
 "nbformat_minor": 2
}
